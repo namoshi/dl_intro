{
 "cells": [
  {
   "cell_type": "markdown",
   "metadata": {},
   "source": [
    "## Comparison of the optimization algorithms"
   ]
  },
  {
   "cell_type": "code",
   "execution_count": 1,
   "metadata": {},
   "outputs": [
    {
     "name": "stdout",
     "output_type": "stream",
     "text": [
      "torch version is 1.6.0\n",
      "cuda is available\n"
     ]
    }
   ],
   "source": [
    "import numpy as np\n",
    "import torch\n",
    "import torch.nn as nn\n",
    "import torch.optim as optim\n",
    "import torchvision.datasets as dsets\n",
    "import torchvision.transforms as transforms\n",
    "import torch.nn.functional as F\n",
    "\n",
    "print('torch version is {}'.format(torch.__version__))\n",
    "if torch.cuda.is_available():\n",
    "    print('cuda is available')\n",
    "else:\n",
    "    print('cuda is not available')"
   ]
  },
  {
   "cell_type": "code",
   "execution_count": 2,
   "metadata": {},
   "outputs": [
    {
     "name": "stdout",
     "output_type": "stream",
     "text": [
      "train_dataset =  10000\n",
      "valid_dataset =  50000\n",
      "test_dataset =  10000\n"
     ]
    }
   ],
   "source": [
    "# load MNIST data\n",
    "train_Dataset = dsets.FashionMNIST(\n",
    "      root='./data',  # rootで指定したフォルダーを作成して生データを展開\n",
    "      train=True,  # 学習かテストかの選択\n",
    "      transform=transforms.ToTensor(),  # PyTroch のテンソルに変換\n",
    "      download=True)  # ダウンロードするかどうかの選択\n",
    "\n",
    "test_dataset = dsets.FashionMNIST(\n",
    "      root='./data',  \n",
    "      train=False, \n",
    "      transform=transforms.ToTensor(),\n",
    "      download=True)\n",
    "\n",
    "train_dataset, valid_dataset = torch.utils.data.random_split(  # データセットの分割\n",
    "      train_Dataset,   # 分割するデータセット\n",
    "      [10000, 50000])  # 分割数\n",
    " \n",
    "print('train_dataset = ', len(train_dataset))\n",
    "print('valid_dataset = ', len(valid_dataset))  \n",
    "print('test_dataset = ', len(test_dataset))\n"
   ]
  },
  {
   "cell_type": "code",
   "execution_count": 3,
   "metadata": {},
   "outputs": [],
   "source": [
    "# set data loader\n",
    "train_loader = torch.utils.data.DataLoader(\n",
    "      dataset=train_dataset,  # データセットの指定\n",
    "      batch_size=64,  # ミニバッチの指定\n",
    "      shuffle=True,  # シャッフルするかどうかの指定\n",
    "      num_workers=2)  # コアの数\n",
    "\n",
    "valid_loader = torch.utils.data.DataLoader(\n",
    "      dataset=valid_dataset,\n",
    "      batch_size=64, \n",
    "      shuffle=False,\n",
    "      num_workers=2)\n",
    "\n",
    "test_loader = torch.utils.data.DataLoader(\n",
    "      dataset=test_dataset,\n",
    "      batch_size=64, \n",
    "      shuffle=False,\n",
    "      num_workers=2)\n"
   ]
  },
  {
   "cell_type": "code",
   "execution_count": 4,
   "metadata": {},
   "outputs": [
    {
     "name": "stdout",
     "output_type": "stream",
     "text": [
      "cuda\n",
      "Network architecture for CNN\n",
      " Network(\n",
      "  (conv1): Conv2d(1, 32, kernel_size=(3, 3), stride=(1, 1), padding=(1, 1))\n",
      "  (pool): MaxPool2d(kernel_size=2, stride=2, padding=0, dilation=1, ceil_mode=False)\n",
      "  (conv2): Conv2d(32, 32, kernel_size=(3, 3), stride=(1, 1), padding=(1, 1))\n",
      "  (fc1): Linear(in_features=1568, out_features=128, bias=True)\n",
      "  (fc2): Linear(in_features=128, out_features=10, bias=True)\n",
      ")\n"
     ]
    }
   ],
   "source": [
    "class Network(nn.Module):\n",
    "    def __init__(self):\n",
    "        super(Network, self).__init__()\n",
    "        self.conv1 = nn.Conv2d(1,32,3, padding=1)\n",
    "        self.pool = nn.MaxPool2d(2,2)\n",
    "        self.conv2 = nn.Conv2d(32,32,3, padding=1)\n",
    "        self.fc1 = nn.Linear(32*7*7, 128)\n",
    "        self.fc2 = nn.Linear(128, 10)\n",
    "\n",
    "    def forward(self, x):\n",
    "        x = self.pool(F.relu(self.conv1(x)))\n",
    "        x = self.pool(F.relu(self.conv2(x)))\n",
    "        x = x.view(-1, 32 * 7 * 7)\n",
    "        x = F.relu(self.fc1(x))\n",
    "        x = self.fc2(x)\n",
    "        return x\n",
    "\n",
    "net = Network()\n",
    "device = 'cuda' if torch.cuda.is_available() else 'cpu'\n",
    "print(device)\n",
    "\n",
    "if torch.cuda.is_available():\n",
    "  net.cuda()\n",
    "\n",
    "print('Network architecture for CNN\\n', net)"
   ]
  },
  {
   "cell_type": "code",
   "execution_count": 5,
   "metadata": {},
   "outputs": [],
   "source": [
    "# optimizing\n",
    "criterion = nn.CrossEntropyLoss()\n",
    "#optimizer = optim.SGD(net.parameters(), lr=0.01, momentum=0.9, weight_decay=0.01)\n",
    "optimizer = optim.AdamW(net.parameters(), lr=0.01, weight_decay=0.01)\n"
   ]
  },
  {
   "cell_type": "code",
   "execution_count": 6,
   "metadata": {},
   "outputs": [],
   "source": [
    "# Initialize Weights\n",
    "\n",
    "#torch.cuda.manual_seed_all(100100)\n",
    "#torch.manual_seed(100100)\n",
    "#np.random.seed(100100)\n",
    "\n",
    "#def weight_reset(m):\n",
    "#    if isinstance(m, nn.Conv2d) or isinstance(m, nn.Linear):\n",
    "#        m.reset_parameters()\n",
    "\n",
    "#net.apply(weight_reset)"
   ]
  },
  {
   "cell_type": "code",
   "execution_count": 7,
   "metadata": {},
   "outputs": [
    {
     "name": "stdout",
     "output_type": "stream",
     "text": [
      "training start ...\n",
      "Epoch [1/20] train Loss: 0.0082, train acc: 0.8110 | val_loss: 0.0083, val_acc: 0.8048\n",
      "Epoch [2/20] train Loss: 0.0068, train acc: 0.8346 | val_loss: 0.0074, val_acc: 0.8225\n",
      "Epoch [3/20] train Loss: 0.0058, train acc: 0.8574 | val_loss: 0.0066, val_acc: 0.8437\n",
      "Epoch [4/20] train Loss: 0.0049, train acc: 0.8797 | val_loss: 0.0058, val_acc: 0.8659\n",
      "Epoch [5/20] train Loss: 0.0045, train acc: 0.8918 | val_loss: 0.0058, val_acc: 0.8676\n",
      "Epoch [6/20] train Loss: 0.0042, train acc: 0.9020 | val_loss: 0.0056, val_acc: 0.8703\n",
      "Epoch [7/20] train Loss: 0.0041, train acc: 0.9018 | val_loss: 0.0056, val_acc: 0.8669\n",
      "Epoch [8/20] train Loss: 0.0040, train acc: 0.9012 | val_loss: 0.0059, val_acc: 0.8644\n",
      "Epoch [9/20] train Loss: 0.0039, train acc: 0.9061 | val_loss: 0.0061, val_acc: 0.8653\n",
      "Epoch [10/20] train Loss: 0.0035, train acc: 0.9146 | val_loss: 0.0062, val_acc: 0.8696\n",
      "Epoch [11/20] train Loss: 0.0033, train acc: 0.9174 | val_loss: 0.0060, val_acc: 0.8723\n",
      "Epoch [12/20] train Loss: 0.0036, train acc: 0.9104 | val_loss: 0.0065, val_acc: 0.8613\n",
      "Epoch [13/20] train Loss: 0.0032, train acc: 0.9263 | val_loss: 0.0062, val_acc: 0.8696\n",
      "Epoch [14/20] train Loss: 0.0027, train acc: 0.9361 | val_loss: 0.0059, val_acc: 0.8722\n",
      "Epoch [15/20] train Loss: 0.0026, train acc: 0.9345 | val_loss: 0.0065, val_acc: 0.8710\n",
      "Epoch [16/20] train Loss: 0.0025, train acc: 0.9412 | val_loss: 0.0064, val_acc: 0.8737\n",
      "Epoch [17/20] train Loss: 0.0026, train acc: 0.9346 | val_loss: 0.0067, val_acc: 0.8709\n",
      "Epoch [18/20] train Loss: 0.0023, train acc: 0.9438 | val_loss: 0.0070, val_acc: 0.8697\n",
      "Epoch [19/20] train Loss: 0.0022, train acc: 0.9467 | val_loss: 0.0071, val_acc: 0.8717\n",
      "Epoch [20/20] train Loss: 0.0021, train acc: 0.9506 | val_loss: 0.0069, val_acc: 0.8757\n"
     ]
    }
   ],
   "source": [
    "###  training\n",
    "print ('training start ...')\n",
    "num_epochs = 20   \n",
    "\n",
    "# initialize list for plot graph after training\n",
    "train_loss_list, train_acc_list, val_loss_list, val_acc_list = [], [], [], []\n",
    "\n",
    "for epoch in range(num_epochs):\n",
    "    # initialize each epoch\n",
    "    train_loss, train_acc, val_loss, val_acc = 0, 0, 0, 0\n",
    "    \n",
    "    # ======== train_mode (Backprop) ======\n",
    "    net.train()\n",
    "    for i, (images, labels) in enumerate(train_loader):  # get mini batch samples\n",
    "        #viewで28×28×１画像を１次元に変換し、deviceへ転送\n",
    "#        images, labels = images.view(-1, 28*28*1).to(device), labels.to(device)\n",
    "        images, labels = images.to(device), labels.to(device)\n",
    "        optimizer.zero_grad()  # Reset the gradients\n",
    "        outputs = net(images)  # forward computation\n",
    "        loss = criterion(outputs, labels)  # loss\n",
    "        loss.backward()  # backward computation        \n",
    "        optimizer.step()  # optimization\n",
    "    \n",
    "    # ======== eval_mode (training samples) ======\n",
    "    net.eval()\n",
    "    with torch.no_grad():  # no computation of gradients\n",
    "      for images, labels in train_loader:        \n",
    "#          images, labels = images.view(-1, 28*28*1).to(device), labels.to(device)\n",
    "          images, labels = images.to(device), labels.to(device)\n",
    "          outputs = net(images)\n",
    "          loss = criterion(outputs, labels)\n",
    "          train_loss += loss.item()\n",
    "          acc = (outputs.max(1)[1] == labels).sum()\n",
    "          train_acc += acc.item()\n",
    "    avg_train_loss = train_loss / len(train_loader.dataset)\n",
    "    avg_train_acc = train_acc / len(train_loader.dataset)\n",
    "\n",
    "    # ======== eval_mode (validation samples) ======\n",
    "    net.eval()\n",
    "    with torch.no_grad():  # no comptutation of gradients\n",
    "      for images, labels in valid_loader:        \n",
    "#          images, labels = images.view(-1, 28*28*1).to(device), labels.to(device)\n",
    "          images, labels = images.to(device), labels.to(device)\n",
    "          outputs = net(images)\n",
    "          loss = criterion(outputs, labels)\n",
    "          val_loss += loss.item()\n",
    "          acc = (outputs.max(1)[1] == labels).sum()\n",
    "          val_acc += acc.item()\n",
    "    avg_val_loss = val_loss / len(valid_loader.dataset)\n",
    "    avg_val_acc = val_acc / len(valid_loader.dataset)\n",
    "    \n",
    "    # print log\n",
    "    print ('Epoch [{}/{}] train Loss: {loss:.4f}, train acc: {acc:.4f} | val_loss: {val_loss:.4f}, val_acc: {val_acc:.4f}' \n",
    "                   .format(epoch+1, num_epochs, i+1, loss=avg_train_loss, acc=avg_train_acc, val_loss=avg_val_loss, val_acc=avg_val_acc))\n",
    "\n",
    "    # append list for polt graph after training\n",
    "    train_loss_list.append(avg_train_loss)\n",
    "    train_acc_list.append(avg_train_acc)\n",
    "    val_loss_list.append(avg_val_loss)\n",
    "    val_acc_list.append(avg_val_acc)\n"
   ]
  },
  {
   "cell_type": "code",
   "execution_count": 8,
   "metadata": {},
   "outputs": [
    {
     "name": "stdout",
     "output_type": "stream",
     "text": [
      "test_accuracy: 86.88 %\n"
     ]
    }
   ],
   "source": [
    "# ======== eval_mode (test samples) ======\n",
    "net.eval()\n",
    "with torch.no_grad():\n",
    "    total = 0\n",
    "    test_acc = 0\n",
    "    for images, labels in test_loader:        \n",
    "#        images, labels = images.view(-1, 28 * 28 * 1 ).to(device), labels.to(device)\n",
    "        images, labels = images.to(device), labels.to(device)\n",
    "        outputs = net(images)\n",
    "        test_acc += (outputs.max(1)[1] == labels).sum().item()\n",
    "        total += labels.size(0)\n",
    "    print('test_accuracy: {} %'.format(100 * test_acc / total)) \n",
    "\n",
    "# save weights (You can save the model by uncomment the following line)\n",
    "#torch.save(net.state_dict(), 'mnist_net.ckpt')\n"
   ]
  },
  {
   "cell_type": "code",
   "execution_count": 9,
   "metadata": {},
   "outputs": [
    {
     "data": {
      "image/png": "[encoded data removed]",
      "text/plain": [
       "<Figure size 432x288 with 1 Axes>"
      ]
     },
     "metadata": {
      "needs_background": "light"
     },
     "output_type": "display_data"
    },
    {
     "data": {
      "image/png": "[encoded data removed]",
      "text/plain": [
       "<Figure size 432x288 with 1 Axes>"
      ]
     },
     "metadata": {
      "needs_background": "light"
     },
     "output_type": "display_data"
    }
   ],
   "source": [
    "# plot graph\n",
    "import matplotlib.pyplot as plt\n",
    "\n",
    "plt.figure()\n",
    "plt.plot(range(num_epochs), train_loss_list, color='blue', linestyle='-', label='train_loss')\n",
    "plt.plot(range(num_epochs), val_loss_list, color='green', linestyle='--', label='val_loss')\n",
    "plt.ylim([0.0,0.02])\n",
    "plt.legend()\n",
    "plt.xlabel('epoch')\n",
    "plt.ylabel('loss')\n",
    "plt.title('Training and validation loss (Adam)')\n",
    "plt.grid()\n",
    "plt.savefig('CNN_FashionMNIST_Adam_loss.png')\n",
    "plt.show()\n",
    "\n",
    "plt.figure()\n",
    "plt.plot(range(num_epochs), train_acc_list, color='blue', linestyle='-', label='train_acc')\n",
    "plt.plot(range(num_epochs), val_acc_list, color='green', linestyle='--', label='val_acc')\n",
    "plt.ylim([0.5, 1.0])\n",
    "plt.legend()\n",
    "plt.xlabel('epoch')\n",
    "plt.ylabel('acc')\n",
    "plt.title('Training and validation accuracy (Adam)')\n",
    "plt.grid()\n",
    "plt.savefig('CNN_FashionMNIST_Adam_acc.png')\n",
    "plt.show()"
   ]
  }
 ],
 "metadata": {
  "kernelspec": {
   "display_name": "Python 3",
   "language": "python",
   "name": "python3"
  },
  "language_info": {
   "codemirror_mode": {
    "name": "ipython",
    "version": 3
   },
   "file_extension": ".py",
   "mimetype": "text/x-python",
   "name": "python",
   "nbconvert_exporter": "python",
   "pygments_lexer": "ipython3",
   "version": "3.8.3"
  }
 },
 "nbformat": 4,
 "nbformat_minor": 4
}
