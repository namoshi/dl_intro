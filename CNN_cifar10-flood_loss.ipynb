{
  "cells": [
    {
      "cell_type": "markdown",
      "metadata": {
        "id": "view-in-github",
        "colab_type": "text"
      },
      "source": [
        "<a href=\"https://colab.research.google.com/github/namoshi/dl_intro/blob/master/CNN_cifar10-flood_loss.ipynb\" target=\"_parent\"><img src=\"https://colab.research.google.com/assets/colab-badge.svg\" alt=\"Open In Colab\"/></a>"
      ]
    },
    {
      "cell_type": "markdown",
      "metadata": {
        "id": "lAnUu7lqG6T5"
      },
      "source": [
        "## Convolutional Neural Network (CNN)\n",
        "\n",
        "Image Classification (CIAR-10) by CNN\n",
        "\n",
        "Flood Loss\n",
        "\n",
        "\\begin{align*}\n",
        "  \\tilde{J}(\\theta) = | J(\\theta) - b| + b\n",
        "\\end{align*}\n",
        "where $J(\\theta)$ is the original loss."
      ]
    },
    {
      "cell_type": "code",
      "execution_count": null,
      "metadata": {
        "id": "d1k6RAqdG6T7"
      },
      "outputs": [],
      "source": [
        "import torch\n",
        "import torch.nn as nn\n",
        "import torch.optim as optim\n",
        "import torchvision.datasets as dsets\n",
        "import torchvision.transforms as transforms\n",
        "import torch.nn.functional as F"
      ]
    },
    {
      "cell_type": "code",
      "source": [
        "import torch\n",
        "import torch.nn as nn\n",
        "import torch.nn.functional as F\n",
        "\n",
        "\n",
        "class FloodLoss(nn.Module):\n",
        "    def __init__(self, b, device='cuda'):\n",
        "        super(FloodLoss, self).__init__()\n",
        "        self.b = b\n",
        "        self.criterion = nn.CrossEntropyLoss().to(device)\n",
        "    def forward(self, outputs, targets):\n",
        "        loss = self.criterion(outputs, targets)\n",
        "        return (loss - self.b).abs() + self.b"
      ],
      "metadata": {
        "id": "_B2dNgYhkBa8"
      },
      "execution_count": null,
      "outputs": []
    },
    {
      "cell_type": "code",
      "execution_count": null,
      "metadata": {
        "colab": {
          "base_uri": "https://localhost:8080/"
        },
        "id": "AE_KqyBzG6UA",
        "outputId": "23f7a0c2-6ec6-4378-d1c4-2dffd54f24d2"
      },
      "outputs": [
        {
          "output_type": "stream",
          "name": "stdout",
          "text": [
            "Downloading https://www.cs.toronto.edu/~kriz/cifar-10-python.tar.gz to ./data/cifar-10-python.tar.gz\n"
          ]
        },
        {
          "output_type": "stream",
          "name": "stderr",
          "text": [
            "100%|████████████████████████████████████████████████████████████████| 170498071/170498071 [02:44<00:00, 1036072.40it/s]\n"
          ]
        },
        {
          "output_type": "stream",
          "name": "stdout",
          "text": [
            "Extracting ./data/cifar-10-python.tar.gz to ./data\n",
            "Files already downloaded and verified\n",
            "train_dataset =  40000\n",
            "valid_dataset =  10000\n",
            "test_dataset =  10000\n"
          ]
        }
      ],
      "source": [
        "# load CIFAR-10 data\n",
        "train_dataset = dsets.CIFAR10('./data',\n",
        "                         train=True,\n",
        "                         download=True,\n",
        "                         transform=transforms.Compose([\n",
        "                             transforms.ToTensor(),\n",
        "                             transforms.Normalize(\n",
        "                                [0.5, 0.5, 0.5],  # RGB 平均\n",
        "                                [0.5, 0.5, 0.5]   # RGB 標準偏差\n",
        "                                )\n",
        "                         ]))\n",
        "\n",
        "test_dataset = dsets.CIFAR10('./data',\n",
        "                         train=False,\n",
        "                         download=True,\n",
        "                         transform=transforms.Compose([\n",
        "                             transforms.ToTensor(),\n",
        "                             transforms.Normalize(\n",
        "                                 [0.5, 0.5, 0.5],  # RGB 平均\n",
        "                                 [0.5, 0.5, 0.5]  # RGB 標準偏差\n",
        "                             )\n",
        "                         ]))\n",
        "\n",
        "#print(len(train_Dataset))\n",
        "\n",
        "train_dataset, valid_dataset = torch.utils.data.random_split(  # データセットの分割\n",
        "      train_dataset,   # 分割するデータセット\n",
        "      [40000, 10000])  # 分割数\n",
        "\n",
        "print('train_dataset = ', len(train_dataset))\n",
        "print('valid_dataset = ', len(valid_dataset))\n",
        "print('test_dataset = ', len(test_dataset))\n",
        "\n"
      ]
    },
    {
      "cell_type": "code",
      "execution_count": null,
      "metadata": {
        "id": "aav3n_2KG6UG"
      },
      "outputs": [],
      "source": [
        "# Set up DataLoader\n",
        "batch=128\n",
        "\n",
        "train_loader = torch.utils.data.DataLoader(\n",
        "        dataset=train_dataset,\n",
        "        batch_size=batch,\n",
        "        shuffle=True\n",
        "    )\n",
        "\n",
        "valid_loader = torch.utils.data.DataLoader(\n",
        "        dataset=valid_dataset,\n",
        "        batch_size=batch,\n",
        "        shuffle=True\n",
        "    )\n",
        "\n",
        "test_loader = torch.utils.data.DataLoader(\n",
        "        dataset=test_dataset,\n",
        "        batch_size=batch,\n",
        "        shuffle=True\n",
        "    )\n"
      ]
    },
    {
      "cell_type": "code",
      "execution_count": null,
      "metadata": {
        "colab": {
          "base_uri": "https://localhost:8080/"
        },
        "id": "SlhzS6FfG6UK",
        "outputId": "fc43e11f-dec7-4a30-ec16-dd070c47db4e"
      },
      "outputs": [
        {
          "output_type": "stream",
          "name": "stdout",
          "text": [
            "cuda\n",
            "Network architecture for CNN\n",
            " Network(\n",
            "  (conv1): Conv2d(3, 32, kernel_size=(3, 3), stride=(1, 1), padding=(1, 1))\n",
            "  (pool1): MaxPool2d(kernel_size=2, stride=2, padding=0, dilation=1, ceil_mode=False)\n",
            "  (dropout1): Dropout2d(p=0.2, inplace=False)\n",
            "  (conv2): Conv2d(32, 32, kernel_size=(3, 3), stride=(1, 1), padding=(1, 1))\n",
            "  (pool2): MaxPool2d(kernel_size=2, stride=2, padding=0, dilation=1, ceil_mode=False)\n",
            "  (dropout2): Dropout2d(p=0.2, inplace=False)\n",
            "  (fc1): Linear(in_features=2048, out_features=128, bias=True)\n",
            "  (dropout3): Dropout2d(p=0.2, inplace=False)\n",
            "  (fc2): Linear(in_features=128, out_features=10, bias=True)\n",
            ")\n"
          ]
        }
      ],
      "source": [
        "class Network(nn.Module):\n",
        "    def __init__(self):\n",
        "        super(Network, self).__init__()\n",
        "        self.conv1 = nn.Conv2d(3,32,3, padding=1)\n",
        "        self.pool1 = nn.MaxPool2d(2,2)\n",
        "        self.dropout1 = nn.Dropout2d(0.2)\n",
        "        self.conv2 = nn.Conv2d(32,32,3, padding=1)\n",
        "        self.pool2 = nn.MaxPool2d(2,2)\n",
        "        self.dropout2 = nn.Dropout2d(0.2)\n",
        "        self.fc1 = nn.Linear(32*8*8, 128)\n",
        "        self.dropout3 = nn.Dropout2d(0.2)\n",
        "        self.fc2 = nn.Linear(128, 10)\n",
        "\n",
        "\n",
        "    def forward(self, x):\n",
        "        x = self.pool1(F.relu(self.conv1(x)))\n",
        "        x = self.dropout1(x)\n",
        "        x = self.pool2(F.relu(self.conv2(x)))\n",
        "        x = self.dropout2(x)\n",
        "        x = x.view(-1, 32 * 8 * 8)\n",
        "        x = F.relu(self.fc1(x))\n",
        "        x = self.dropout3(x)\n",
        "        x = self.fc2(x)\n",
        "        return x\n",
        "\n",
        "net = Network()\n",
        "device = 'cuda' if torch.cuda.is_available() else 'cpu'\n",
        "print(device)\n",
        "\n",
        "if torch.cuda.is_available():\n",
        "  net.cuda()\n",
        "\n",
        "print('Network architecture for CNN\\n', net)"
      ]
    },
    {
      "cell_type": "code",
      "execution_count": null,
      "metadata": {
        "id": "OlCfd_HXG6UQ"
      },
      "outputs": [],
      "source": [
        "# optimizing\n",
        "criterion = nn.CrossEntropyLoss()\n",
        "optimizer = optim.SGD(net.parameters(), lr=0.01, momentum=0.9, weight_decay=0.001)\n",
        "#optimizer = optim.AdamW(net.parameters(), lr=0.01, weight_decay=0.001)\n"
      ]
    },
    {
      "cell_type": "code",
      "execution_count": null,
      "metadata": {
        "id": "8XOoWNm9G6UU"
      },
      "outputs": [],
      "source": [
        "# Define Class names\n",
        "classes = ('plane', 'car', 'bird', 'cat', 'deer',\n",
        "               'dog', 'frog', 'horse', 'ship', 'truck')\n"
      ]
    },
    {
      "cell_type": "code",
      "execution_count": null,
      "metadata": {
        "colab": {
          "base_uri": "https://localhost:8080/"
        },
        "id": "QLVSY_raG6UZ",
        "outputId": "6b9ea094-9524-4356-c974-415d25bf3ebb"
      },
      "outputs": [
        {
          "output_type": "stream",
          "name": "stdout",
          "text": [
            "training start ...\n"
          ]
        },
        {
          "output_type": "stream",
          "name": "stderr",
          "text": [
            "/home/kurita/anaconda3/lib/python3.11/site-packages/torch/nn/functional.py:1345: UserWarning: dropout2d: Received a 2-D input to dropout2d, which is deprecated and will result in an error in a future release. To retain the behavior and silence this warning, please use dropout instead. Note that dropout2d exists to provide channel-wise dropout on inputs with 2 spatial dimensions, a channel dimension, and an optional batch dimension (i.e. 3D or 4D inputs).\n",
            "  warnings.warn(warn_msg)\n"
          ]
        },
        {
          "output_type": "stream",
          "name": "stdout",
          "text": [
            "Epoch [1/50] train Loss: 0.0125, train acc: 0.4357 | val_loss: 0.0127, val_acc: 0.4314\n",
            "Epoch [2/50] train Loss: 0.0107, train acc: 0.5120 | val_loss: 0.0110, val_acc: 0.4983\n",
            "Epoch [3/50] train Loss: 0.0098, train acc: 0.5635 | val_loss: 0.0101, val_acc: 0.5456\n",
            "Epoch [4/50] train Loss: 0.0091, train acc: 0.5912 | val_loss: 0.0096, val_acc: 0.5735\n",
            "Epoch [5/50] train Loss: 0.0083, train acc: 0.6299 | val_loss: 0.0089, val_acc: 0.6017\n",
            "Epoch [6/50] train Loss: 0.0077, train acc: 0.6672 | val_loss: 0.0084, val_acc: 0.6259\n",
            "Epoch [7/50] train Loss: 0.0072, train acc: 0.6887 | val_loss: 0.0081, val_acc: 0.6486\n",
            "Epoch [8/50] train Loss: 0.0069, train acc: 0.7017 | val_loss: 0.0079, val_acc: 0.6551\n",
            "Epoch [9/50] train Loss: 0.0065, train acc: 0.7193 | val_loss: 0.0076, val_acc: 0.6639\n",
            "Epoch [10/50] train Loss: 0.0063, train acc: 0.7355 | val_loss: 0.0076, val_acc: 0.6699\n",
            "Epoch [11/50] train Loss: 0.0060, train acc: 0.7440 | val_loss: 0.0074, val_acc: 0.6740\n",
            "Epoch [12/50] train Loss: 0.0057, train acc: 0.7615 | val_loss: 0.0072, val_acc: 0.6822\n",
            "Epoch [13/50] train Loss: 0.0055, train acc: 0.7701 | val_loss: 0.0072, val_acc: 0.6836\n",
            "Epoch [14/50] train Loss: 0.0054, train acc: 0.7678 | val_loss: 0.0071, val_acc: 0.6830\n",
            "Epoch [15/50] train Loss: 0.0048, train acc: 0.7979 | val_loss: 0.0068, val_acc: 0.6954\n",
            "Epoch [16/50] train Loss: 0.0047, train acc: 0.8095 | val_loss: 0.0069, val_acc: 0.6996\n",
            "Epoch [17/50] train Loss: 0.0046, train acc: 0.8175 | val_loss: 0.0068, val_acc: 0.6989\n",
            "Epoch [18/50] train Loss: 0.0045, train acc: 0.8225 | val_loss: 0.0068, val_acc: 0.7032\n",
            "Epoch [19/50] train Loss: 0.0043, train acc: 0.8296 | val_loss: 0.0067, val_acc: 0.7045\n",
            "Epoch [20/50] train Loss: 0.0041, train acc: 0.8419 | val_loss: 0.0066, val_acc: 0.7068\n",
            "Epoch [21/50] train Loss: 0.0041, train acc: 0.8448 | val_loss: 0.0067, val_acc: 0.7036\n",
            "Epoch [22/50] train Loss: 0.0037, train acc: 0.8580 | val_loss: 0.0066, val_acc: 0.7119\n",
            "Epoch [23/50] train Loss: 0.0037, train acc: 0.8619 | val_loss: 0.0067, val_acc: 0.7101\n",
            "Epoch [24/50] train Loss: 0.0034, train acc: 0.8700 | val_loss: 0.0066, val_acc: 0.7088\n",
            "Epoch [25/50] train Loss: 0.0034, train acc: 0.8716 | val_loss: 0.0067, val_acc: 0.7077\n",
            "Epoch [26/50] train Loss: 0.0033, train acc: 0.8773 | val_loss: 0.0068, val_acc: 0.7098\n",
            "Epoch [27/50] train Loss: 0.0032, train acc: 0.8780 | val_loss: 0.0067, val_acc: 0.7116\n",
            "Epoch [28/50] train Loss: 0.0032, train acc: 0.8853 | val_loss: 0.0066, val_acc: 0.7101\n",
            "Epoch [29/50] train Loss: 0.0030, train acc: 0.8925 | val_loss: 0.0067, val_acc: 0.7091\n",
            "Epoch [30/50] train Loss: 0.0029, train acc: 0.8981 | val_loss: 0.0067, val_acc: 0.7129\n",
            "Epoch [31/50] train Loss: 0.0028, train acc: 0.9083 | val_loss: 0.0065, val_acc: 0.7141\n",
            "Epoch [32/50] train Loss: 0.0028, train acc: 0.9033 | val_loss: 0.0068, val_acc: 0.7141\n",
            "Epoch [33/50] train Loss: 0.0026, train acc: 0.9113 | val_loss: 0.0066, val_acc: 0.7149\n",
            "Epoch [34/50] train Loss: 0.0026, train acc: 0.9190 | val_loss: 0.0067, val_acc: 0.7154\n",
            "Epoch [35/50] train Loss: 0.0025, train acc: 0.9163 | val_loss: 0.0067, val_acc: 0.7142\n",
            "Epoch [36/50] train Loss: 0.0024, train acc: 0.9280 | val_loss: 0.0066, val_acc: 0.7161\n",
            "Epoch [37/50] train Loss: 0.0023, train acc: 0.9259 | val_loss: 0.0066, val_acc: 0.7164\n",
            "Epoch [38/50] train Loss: 0.0023, train acc: 0.9240 | val_loss: 0.0068, val_acc: 0.7135\n",
            "Epoch [39/50] train Loss: 0.0022, train acc: 0.9337 | val_loss: 0.0067, val_acc: 0.7152\n",
            "Epoch [40/50] train Loss: 0.0022, train acc: 0.9392 | val_loss: 0.0066, val_acc: 0.7132\n",
            "Epoch [41/50] train Loss: 0.0023, train acc: 0.9293 | val_loss: 0.0068, val_acc: 0.7132\n",
            "Epoch [42/50] train Loss: 0.0021, train acc: 0.9404 | val_loss: 0.0067, val_acc: 0.7161\n",
            "Epoch [43/50] train Loss: 0.0021, train acc: 0.9417 | val_loss: 0.0067, val_acc: 0.7093\n",
            "Epoch [44/50] train Loss: 0.0021, train acc: 0.9369 | val_loss: 0.0069, val_acc: 0.7060\n",
            "Epoch [45/50] train Loss: 0.0019, train acc: 0.9438 | val_loss: 0.0068, val_acc: 0.7086\n",
            "Epoch [46/50] train Loss: 0.0019, train acc: 0.9492 | val_loss: 0.0067, val_acc: 0.7126\n",
            "Epoch [47/50] train Loss: 0.0020, train acc: 0.9421 | val_loss: 0.0070, val_acc: 0.7055\n",
            "Epoch [48/50] train Loss: 0.0018, train acc: 0.9499 | val_loss: 0.0069, val_acc: 0.7082\n",
            "Epoch [49/50] train Loss: 0.0018, train acc: 0.9544 | val_loss: 0.0068, val_acc: 0.7095\n",
            "Epoch [50/50] train Loss: 0.0018, train acc: 0.9549 | val_loss: 0.0067, val_acc: 0.7103\n"
          ]
        }
      ],
      "source": [
        "###  training\n",
        "print ('training start ...')\n",
        "num_epochs = 50\n",
        "\n",
        "# initialize list for plot graph after training\n",
        "train_loss_list, train_acc_list, val_loss_list, val_acc_list = [], [], [], []\n",
        "\n",
        "for epoch in range(num_epochs):\n",
        "    # initialize each epoch\n",
        "    train_loss, train_acc, val_loss, val_acc = 0, 0, 0, 0\n",
        "\n",
        "    # ======== train_mode (Backprop) ======\n",
        "    net.train()\n",
        "    for i, (images, labels) in enumerate(train_loader):  # get mini batch samples\n",
        "        #viewで28×28×１画像を１次元に変換し、deviceへ転送\n",
        "#        images, labels = images.view(-1, 28*28*1).to(device), labels.to(device)\n",
        "        images, labels = images.to(device), labels.to(device)\n",
        "        optimizer.zero_grad()  # Reset the gradients\n",
        "        outputs = net(images)  # forward computation\n",
        "        loss = criterion(outputs, labels)  # loss\n",
        "        loss.backward()  # backward computation\n",
        "        optimizer.step()  # optimization\n",
        "\n",
        "    # ======== eval_mode (training samples) ======\n",
        "    net.eval()\n",
        "    with torch.no_grad():  # no computation of gradients\n",
        "      for images, labels in train_loader:\n",
        "#          images, labels = images.view(-1, 28*28*1).to(device), labels.to(device)\n",
        "          images, labels = images.to(device), labels.to(device)\n",
        "          outputs = net(images)\n",
        "          loss = criterion(outputs, labels)\n",
        "          train_loss += loss.item()\n",
        "          acc = (outputs.max(1)[1] == labels).sum()\n",
        "          train_acc += acc.item()\n",
        "    avg_train_loss = train_loss / len(train_loader.dataset)\n",
        "    avg_train_acc = train_acc / len(train_loader.dataset)\n",
        "\n",
        "    # ======== eval_mode (validation samples) ======\n",
        "    net.eval()\n",
        "    with torch.no_grad():  # no comptutation of gradients\n",
        "      for images, labels in valid_loader:\n",
        "#          images, labels = images.view(-1, 28*28*1).to(device), labels.to(device)\n",
        "          images, labels = images.to(device), labels.to(device)\n",
        "          outputs = net(images)\n",
        "          loss = criterion(outputs, labels)\n",
        "          val_loss += loss.item()\n",
        "          acc = (outputs.max(1)[1] == labels).sum()\n",
        "          val_acc += acc.item()\n",
        "    avg_val_loss = val_loss / len(valid_loader.dataset)\n",
        "    avg_val_acc = val_acc / len(valid_loader.dataset)\n",
        "\n",
        "    # print log\n",
        "    print ('Epoch [{}/{}] train Loss: {loss:.4f}, train acc: {acc:.4f} | val_loss: {val_loss:.4f}, val_acc: {val_acc:.4f}'\n",
        "                   .format(epoch+1, num_epochs, i+1, loss=avg_train_loss, acc=avg_train_acc, val_loss=avg_val_loss, val_acc=avg_val_acc))\n",
        "\n",
        "    # append list for polt graph after training\n",
        "    train_loss_list.append(avg_train_loss)\n",
        "    train_acc_list.append(avg_train_acc)\n",
        "    val_loss_list.append(avg_val_loss)\n",
        "    val_acc_list.append(avg_val_acc)\n"
      ]
    },
    {
      "cell_type": "code",
      "execution_count": null,
      "metadata": {
        "colab": {
          "base_uri": "https://localhost:8080/"
        },
        "id": "lcVFP0RKG6Uf",
        "outputId": "7dbd45bb-c465-419a-fa1f-979334cd828d"
      },
      "outputs": [
        {
          "output_type": "stream",
          "name": "stdout",
          "text": [
            "test_accuracy: 69.81 %\n"
          ]
        }
      ],
      "source": [
        "# ======== eval_mode (test samples) ======\n",
        "net.eval()\n",
        "with torch.no_grad():\n",
        "    total = 0\n",
        "    test_acc = 0\n",
        "    for images, labels in test_loader:\n",
        "#        images, labels = images.view(-1, 28 * 28 * 1 ).to(device), labels.to(device)\n",
        "        images, labels = images.to(device), labels.to(device)\n",
        "        outputs = net(images)\n",
        "        test_acc += (outputs.max(1)[1] == labels).sum().item()\n",
        "        total += labels.size(0)\n",
        "    print('test_accuracy: {} %'.format(100 * test_acc / total))\n",
        "\n",
        "# save weights (You can save the model by uncomment the following line)\n",
        "#torch.save(net.state_dict(), 'mnist_net.ckpt')\n"
      ]
    },
    {
      "cell_type": "code",
      "execution_count": null,
      "metadata": {
        "colab": {
          "base_uri": "https://localhost:8080/",
          "height": 923
        },
        "id": "tEEIBGsJG6Uk",
        "outputId": "e2293b79-7550-42f8-864c-23d6b22b1d74"
      },
      "outputs": [
        {
          "output_type": "display_data",
          "data": {
            "text/plain": [
              "<Figure size 640x480 with 1 Axes>"
            ],
            "image/png": "[encoded data removed]"
          },
          "metadata": {}
        },
        {
          "output_type": "display_data",
          "data": {
            "text/plain": [
              "<Figure size 640x480 with 1 Axes>"
            ],
            "image/png": "[encoded data removed]"
          },
          "metadata": {}
        }
      ],
      "source": [
        "# plot graph\n",
        "import matplotlib.pyplot as plt\n",
        "\n",
        "plt.figure()\n",
        "plt.plot(range(num_epochs), train_loss_list, color='blue', linestyle='-', label='train_loss')\n",
        "plt.plot(range(num_epochs), val_loss_list, color='green', linestyle='--', label='val_loss')\n",
        "plt.ylim([0.0,0.02])\n",
        "plt.legend()\n",
        "plt.xlabel('epoch')\n",
        "plt.ylabel('loss')\n",
        "plt.title('Training and validation loss')\n",
        "plt.grid()\n",
        "plt.savefig('images/CNN_cifar10_loss.png')\n",
        "plt.show()\n",
        "\n",
        "plt.figure()\n",
        "plt.plot(range(num_epochs), train_acc_list, color='blue', linestyle='-', label='train_acc')\n",
        "plt.plot(range(num_epochs), val_acc_list, color='green', linestyle='--', label='val_acc')\n",
        "plt.ylim([0.5, 1.0])\n",
        "plt.legend()\n",
        "plt.xlabel('epoch')\n",
        "plt.ylabel('acc')\n",
        "plt.title('Training and validation accuracy')\n",
        "plt.grid()\n",
        "plt.savefig('images/CNN_cifar10_acc.png')\n",
        "plt.show()"
      ]
    },
    {
      "cell_type": "code",
      "execution_count": null,
      "metadata": {
        "id": "g1jdTzc0G6Up"
      },
      "outputs": [],
      "source": []
    }
  ],
  "metadata": {
    "accelerator": "GPU",
    "colab": {
      "name": "CNN_cifar10.ipynb",
      "provenance": [],
      "include_colab_link": true
    },
    "kernelspec": {
      "display_name": "Python 3",
      "language": "python",
      "name": "python3"
    },
    "language_info": {
      "codemirror_mode": {
        "name": "ipython",
        "version": 3
      },
      "file_extension": ".py",
      "mimetype": "text/x-python",
      "name": "python",
      "nbconvert_exporter": "python",
      "pygments_lexer": "ipython3",
      "version": "3.7.9"
    }
  },
  "nbformat": 4,
  "nbformat_minor": 0
}