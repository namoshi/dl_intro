{
 "cells": [
  {
   "cell_type": "markdown",
   "metadata": {
    "colab_type": "text",
    "id": "view-in-github"
   },
   "source": [
    "<a href=\"https://colab.research.google.com/github/namoshi/dl_intro/blob/master/CNN_cifar10.ipynb\" target=\"_parent\"><img src=\"https://colab.research.google.com/assets/colab-badge.svg\" alt=\"Open In Colab\"/></a>"
   ]
  },
  {
   "cell_type": "markdown",
   "metadata": {
    "colab_type": "text",
    "id": "lAnUu7lqG6T5"
   },
   "source": [
    "## Convolutional Neural Network (CNN)\n",
    "\n",
    "Image Classification (CIAR-10) by CNN"
   ]
  },
  {
   "cell_type": "code",
   "execution_count": 1,
   "metadata": {
    "colab": {},
    "colab_type": "code",
    "id": "d1k6RAqdG6T7"
   },
   "outputs": [],
   "source": [
    "import torch\n",
    "import torch.nn as nn\n",
    "import torch.optim as optim\n",
    "import torchvision.datasets as dsets\n",
    "import torchvision.transforms as transforms\n",
    "import torch.nn.functional as F"
   ]
  },
  {
   "cell_type": "code",
   "execution_count": 2,
   "metadata": {
    "colab": {
     "base_uri": "https://localhost:8080/",
     "height": 157,
     "referenced_widgets": [
      "7114e80c1f8b4aca847703f8a014d8a7",
      "debeeb78f1d241dfb82bb7bde84dd4ac",
      "b4a4ae59292342dfa0f8d6c1251142ff",
      "3518365b90ab4730aebd3ef054e9ccd0",
      "bed83fc4215947609b67fe11bea00a5b",
      "85e4eef28deb4a608483b9392b84ae5f",
      "d073dcf55ea54958a0609ec0d44e57ab",
      "cd41e4ea14c04e7786937814163dc404"
     ]
    },
    "colab_type": "code",
    "id": "AE_KqyBzG6UA",
    "outputId": "0c5a65c7-e505-458a-94ec-21f7980563f0"
   },
   "outputs": [
    {
     "name": "stdout",
     "output_type": "stream",
     "text": [
      "Files already downloaded and verified\n",
      "Files already downloaded and verified\n",
      "train_dataset =  10000\n",
      "valid_dataset =  40000\n",
      "test_dataset =  10000\n"
     ]
    }
   ],
   "source": [
    "# load CIFAR-10 data\n",
    "train_dataset = dsets.CIFAR10('./data',\n",
    "                         train=True,\n",
    "                         download=True,\n",
    "                         transform=transforms.Compose([\n",
    "                             transforms.ToTensor(),\n",
    "                             transforms.Normalize(\n",
    "                                [0.5, 0.5, 0.5],  # RGB 平均\n",
    "                                [0.5, 0.5, 0.5]   # RGB 標準偏差\n",
    "                                )\n",
    "                         ]))\n",
    "\n",
    "test_dataset = dsets.CIFAR10('./data',\n",
    "                         train=False,\n",
    "                         download=True,\n",
    "                         transform=transforms.Compose([\n",
    "                             transforms.ToTensor(),\n",
    "                             transforms.Normalize(\n",
    "                                 [0.5, 0.5, 0.5],  # RGB 平均\n",
    "                                 [0.5, 0.5, 0.5]  # RGB 標準偏差\n",
    "                             )\n",
    "                         ]))\n",
    "\n",
    "#print(len(train_Dataset))\n",
    "\n",
    "train_dataset, valid_dataset = torch.utils.data.random_split(  # データセットの分割\n",
    "      train_dataset,   # 分割するデータセット\n",
    "      [10000, 40000])  # 分割数\n",
    " \n",
    "print('train_dataset = ', len(train_dataset))\n",
    "print('valid_dataset = ', len(valid_dataset))  \n",
    "print('test_dataset = ', len(test_dataset))\n",
    "\n"
   ]
  },
  {
   "cell_type": "code",
   "execution_count": 3,
   "metadata": {
    "colab": {},
    "colab_type": "code",
    "id": "aav3n_2KG6UG"
   },
   "outputs": [],
   "source": [
    "# Set up DataLoader\n",
    "batch=128\n",
    "\n",
    "train_loader = torch.utils.data.DataLoader(\n",
    "        dataset=train_dataset,\n",
    "        batch_size=batch,\n",
    "        shuffle=True\n",
    "    )\n",
    "\n",
    "valid_loader = torch.utils.data.DataLoader(\n",
    "        dataset=valid_dataset,\n",
    "        batch_size=batch,\n",
    "        shuffle=True\n",
    "    )\n",
    "\n",
    "test_loader = torch.utils.data.DataLoader(\n",
    "        dataset=test_dataset,\n",
    "        batch_size=batch,\n",
    "        shuffle=True\n",
    "    )\n"
   ]
  },
  {
   "cell_type": "code",
   "execution_count": 4,
   "metadata": {
    "colab": {
     "base_uri": "https://localhost:8080/",
     "height": 197
    },
    "colab_type": "code",
    "id": "SlhzS6FfG6UK",
    "outputId": "b7f87c99-53dc-4d7e-b9cc-7b4261f73a33"
   },
   "outputs": [],
   "source": [
    "class Network(nn.Module):\n",
    "    def __init__(self):\n",
    "        super(Network, self).__init__()\n",
    "        self.conv1 = nn.Conv2d(3,32,3, padding=1)\n",
    "        self.pool = nn.MaxPool2d(2,2)\n",
    "        self.conv2 = nn.Conv2d(32,32,3, padding=1)\n",
    "        self.fc1 = nn.Linear(32*8*8, 128)\n",
    "        self.fc2 = nn.Linear(128, 10)\n",
    "        self.dropout = nn.Dropout2d(0.2)\n",
    "\n",
    "\n",
    "    def forward(self, x):\n",
    "        x = self.pool(F.relu(self.conv1(x)))\n",
    "        x = self.dropout(x)\n",
    "        x = self.pool(F.relu(self.conv2(x)))\n",
    "        x = self.dropout(x)\n",
    "        x = x.view(-1, 32 * 8 * 8)\n",
    "        x = F.relu(self.fc1(x))\n",
    "        x = self.dropout(x)\n",
    "        x = self.fc2(x)\n",
    "        return x"
   ]
  },
  {
   "cell_type": "markdown",
   "metadata": {},
   "source": [
    "## Without Weight Decay"
   ]
  },
  {
   "cell_type": "code",
   "execution_count": 5,
   "metadata": {},
   "outputs": [
    {
     "name": "stdout",
     "output_type": "stream",
     "text": [
      "cuda\n",
      "Network architecture for CNN\n",
      " Network(\n",
      "  (conv1): Conv2d(3, 32, kernel_size=(3, 3), stride=(1, 1), padding=(1, 1))\n",
      "  (pool): MaxPool2d(kernel_size=2, stride=2, padding=0, dilation=1, ceil_mode=False)\n",
      "  (conv2): Conv2d(32, 32, kernel_size=(3, 3), stride=(1, 1), padding=(1, 1))\n",
      "  (fc1): Linear(in_features=2048, out_features=128, bias=True)\n",
      "  (fc2): Linear(in_features=128, out_features=10, bias=True)\n",
      "  (dropout): Dropout2d(p=0.2, inplace=False)\n",
      ")\n"
     ]
    }
   ],
   "source": [
    "net = Network()\n",
    "device = 'cuda' if torch.cuda.is_available() else 'cpu'\n",
    "print(device)\n",
    "\n",
    "if torch.cuda.is_available():\n",
    "  net.cuda()\n",
    "\n",
    "print('Network architecture for CNN\\n', net)"
   ]
  },
  {
   "cell_type": "code",
   "execution_count": 6,
   "metadata": {
    "colab": {},
    "colab_type": "code",
    "id": "OlCfd_HXG6UQ"
   },
   "outputs": [],
   "source": [
    "# optimizing\n",
    "wd = 0.000000001\n",
    "criterion = nn.CrossEntropyLoss()\n",
    "optimizer = optim.SGD(net.parameters(), lr=0.01, momentum=0.9, weight_decay=wd)\n",
    "#optimizer = optim.AdamW(net.parameters(), lr=0.01, weight_decay=0.001)\n"
   ]
  },
  {
   "cell_type": "code",
   "execution_count": 7,
   "metadata": {
    "colab": {},
    "colab_type": "code",
    "id": "8XOoWNm9G6UU"
   },
   "outputs": [],
   "source": [
    "# Define Class names\n",
    "classes = ('plane', 'car', 'bird', 'cat', 'deer',\n",
    "               'dog', 'frog', 'horse', 'ship', 'truck')\n",
    " "
   ]
  },
  {
   "cell_type": "code",
   "execution_count": 8,
   "metadata": {
    "colab": {
     "base_uri": "https://localhost:8080/",
     "height": 935
    },
    "colab_type": "code",
    "collapsed": true,
    "id": "QLVSY_raG6UZ",
    "jupyter": {
     "outputs_hidden": true
    },
    "outputId": "97c11a7c-67c2-4650-f82b-3a13dfa32e31"
   },
   "outputs": [
    {
     "name": "stdout",
     "output_type": "stream",
     "text": [
      "training start ...\n",
      "Epoch [1/50] train Loss: 0.0162, train acc: 0.2568 | val_loss: 0.0160, val_acc: 0.2582\n",
      "Epoch [2/50] train Loss: 0.0144, train acc: 0.3592 | val_loss: 0.0143, val_acc: 0.3588\n",
      "Epoch [3/50] train Loss: 0.0134, train acc: 0.3938 | val_loss: 0.0134, val_acc: 0.3921\n",
      "Epoch [4/50] train Loss: 0.0124, train acc: 0.4339 | val_loss: 0.0126, val_acc: 0.4212\n",
      "Epoch [5/50] train Loss: 0.0117, train acc: 0.4679 | val_loss: 0.0119, val_acc: 0.4563\n",
      "Epoch [6/50] train Loss: 0.0113, train acc: 0.4934 | val_loss: 0.0117, val_acc: 0.4679\n",
      "Epoch [7/50] train Loss: 0.0110, train acc: 0.5015 | val_loss: 0.0115, val_acc: 0.4696\n",
      "Epoch [8/50] train Loss: 0.0107, train acc: 0.5197 | val_loss: 0.0112, val_acc: 0.4905\n",
      "Epoch [9/50] train Loss: 0.0101, train acc: 0.5447 | val_loss: 0.0108, val_acc: 0.5040\n",
      "Epoch [10/50] train Loss: 0.0097, train acc: 0.5593 | val_loss: 0.0106, val_acc: 0.5135\n",
      "Epoch [11/50] train Loss: 0.0095, train acc: 0.5791 | val_loss: 0.0105, val_acc: 0.5214\n",
      "Epoch [12/50] train Loss: 0.0091, train acc: 0.5969 | val_loss: 0.0103, val_acc: 0.5322\n",
      "Epoch [13/50] train Loss: 0.0088, train acc: 0.6177 | val_loss: 0.0101, val_acc: 0.5413\n",
      "Epoch [14/50] train Loss: 0.0084, train acc: 0.6268 | val_loss: 0.0098, val_acc: 0.5529\n",
      "Epoch [15/50] train Loss: 0.0080, train acc: 0.6492 | val_loss: 0.0097, val_acc: 0.5605\n",
      "Epoch [16/50] train Loss: 0.0075, train acc: 0.6686 | val_loss: 0.0095, val_acc: 0.5666\n",
      "Epoch [17/50] train Loss: 0.0072, train acc: 0.6866 | val_loss: 0.0094, val_acc: 0.5727\n",
      "Epoch [18/50] train Loss: 0.0070, train acc: 0.6918 | val_loss: 0.0095, val_acc: 0.5721\n",
      "Epoch [19/50] train Loss: 0.0069, train acc: 0.7124 | val_loss: 0.0094, val_acc: 0.5715\n",
      "Epoch [20/50] train Loss: 0.0063, train acc: 0.7322 | val_loss: 0.0093, val_acc: 0.5810\n",
      "Epoch [21/50] train Loss: 0.0060, train acc: 0.7518 | val_loss: 0.0092, val_acc: 0.5832\n",
      "Epoch [22/50] train Loss: 0.0057, train acc: 0.7685 | val_loss: 0.0092, val_acc: 0.5848\n",
      "Epoch [23/50] train Loss: 0.0054, train acc: 0.7869 | val_loss: 0.0091, val_acc: 0.5897\n",
      "Epoch [24/50] train Loss: 0.0050, train acc: 0.8019 | val_loss: 0.0092, val_acc: 0.5911\n",
      "Epoch [25/50] train Loss: 0.0045, train acc: 0.8263 | val_loss: 0.0091, val_acc: 0.5947\n",
      "Epoch [26/50] train Loss: 0.0047, train acc: 0.8215 | val_loss: 0.0095, val_acc: 0.5802\n",
      "Epoch [27/50] train Loss: 0.0042, train acc: 0.8446 | val_loss: 0.0092, val_acc: 0.5933\n",
      "Epoch [28/50] train Loss: 0.0040, train acc: 0.8524 | val_loss: 0.0095, val_acc: 0.5814\n",
      "Epoch [29/50] train Loss: 0.0035, train acc: 0.8719 | val_loss: 0.0094, val_acc: 0.5927\n",
      "Epoch [30/50] train Loss: 0.0032, train acc: 0.8966 | val_loss: 0.0093, val_acc: 0.5963\n",
      "Epoch [31/50] train Loss: 0.0031, train acc: 0.9030 | val_loss: 0.0095, val_acc: 0.5920\n",
      "Epoch [32/50] train Loss: 0.0028, train acc: 0.9017 | val_loss: 0.0098, val_acc: 0.5878\n",
      "Epoch [33/50] train Loss: 0.0027, train acc: 0.9253 | val_loss: 0.0096, val_acc: 0.5920\n",
      "Epoch [34/50] train Loss: 0.0025, train acc: 0.9265 | val_loss: 0.0099, val_acc: 0.5883\n",
      "Epoch [35/50] train Loss: 0.0024, train acc: 0.9289 | val_loss: 0.0100, val_acc: 0.5909\n",
      "Epoch [36/50] train Loss: 0.0021, train acc: 0.9392 | val_loss: 0.0103, val_acc: 0.5871\n",
      "Epoch [37/50] train Loss: 0.0019, train acc: 0.9513 | val_loss: 0.0103, val_acc: 0.5889\n",
      "Epoch [38/50] train Loss: 0.0017, train acc: 0.9580 | val_loss: 0.0103, val_acc: 0.5926\n",
      "Epoch [39/50] train Loss: 0.0016, train acc: 0.9609 | val_loss: 0.0105, val_acc: 0.5887\n",
      "Epoch [40/50] train Loss: 0.0014, train acc: 0.9728 | val_loss: 0.0105, val_acc: 0.5906\n",
      "Epoch [41/50] train Loss: 0.0013, train acc: 0.9746 | val_loss: 0.0106, val_acc: 0.5918\n",
      "Epoch [42/50] train Loss: 0.0011, train acc: 0.9820 | val_loss: 0.0108, val_acc: 0.5930\n",
      "Epoch [43/50] train Loss: 0.0011, train acc: 0.9785 | val_loss: 0.0112, val_acc: 0.5859\n",
      "Epoch [44/50] train Loss: 0.0011, train acc: 0.9803 | val_loss: 0.0108, val_acc: 0.5907\n",
      "Epoch [45/50] train Loss: 0.0010, train acc: 0.9847 | val_loss: 0.0112, val_acc: 0.5903\n",
      "Epoch [46/50] train Loss: 0.0008, train acc: 0.9887 | val_loss: 0.0112, val_acc: 0.5879\n",
      "Epoch [47/50] train Loss: 0.0008, train acc: 0.9886 | val_loss: 0.0114, val_acc: 0.5870\n",
      "Epoch [48/50] train Loss: 0.0007, train acc: 0.9916 | val_loss: 0.0115, val_acc: 0.5884\n",
      "Epoch [49/50] train Loss: 0.0007, train acc: 0.9906 | val_loss: 0.0117, val_acc: 0.5856\n",
      "Epoch [50/50] train Loss: 0.0007, train acc: 0.9914 | val_loss: 0.0116, val_acc: 0.5842\n"
     ]
    }
   ],
   "source": [
    "###  training\n",
    "print ('training start ...')\n",
    "num_epochs = 50   \n",
    "\n",
    "# initialize list for plot graph after training\n",
    "train_loss_list, train_acc_list, val_loss_list, val_acc_list = [], [], [], []\n",
    "\n",
    "for epoch in range(num_epochs):\n",
    "    # initialize each epoch\n",
    "    train_loss, train_acc, val_loss, val_acc = 0, 0, 0, 0\n",
    "    \n",
    "    # ======== train_mode (Backprop) ======\n",
    "    net.train()\n",
    "    for i, (images, labels) in enumerate(train_loader):  # get mini batch samples\n",
    "        #viewで28×28×１画像を１次元に変換し、deviceへ転送\n",
    "#        images, labels = images.view(-1, 28*28*1).to(device), labels.to(device)\n",
    "        images, labels = images.to(device), labels.to(device)\n",
    "        optimizer.zero_grad()  # Reset the gradients\n",
    "        outputs = net(images)  # forward computation\n",
    "        loss = criterion(outputs, labels)  # loss\n",
    "        loss.backward()  # backward computation        \n",
    "        optimizer.step()  # optimization\n",
    "    \n",
    "    # ======== eval_mode (training samples) ======\n",
    "    net.eval()\n",
    "    with torch.no_grad():  # no computation of gradients\n",
    "      for images, labels in train_loader:        \n",
    "#          images, labels = images.view(-1, 28*28*1).to(device), labels.to(device)\n",
    "          images, labels = images.to(device), labels.to(device)\n",
    "          outputs = net(images)\n",
    "          loss = criterion(outputs, labels)\n",
    "          train_loss += loss.item()\n",
    "          acc = (outputs.max(1)[1] == labels).sum()\n",
    "          train_acc += acc.item()\n",
    "    avg_train_loss = train_loss / len(train_loader.dataset)\n",
    "    avg_train_acc = train_acc / len(train_loader.dataset)\n",
    "\n",
    "    # ======== eval_mode (validation samples) ======\n",
    "    net.eval()\n",
    "    with torch.no_grad():  # no comptutation of gradients\n",
    "      for images, labels in valid_loader:        \n",
    "#          images, labels = images.view(-1, 28*28*1).to(device), labels.to(device)\n",
    "          images, labels = images.to(device), labels.to(device)\n",
    "          outputs = net(images)\n",
    "          loss = criterion(outputs, labels)\n",
    "          val_loss += loss.item()\n",
    "          acc = (outputs.max(1)[1] == labels).sum()\n",
    "          val_acc += acc.item()\n",
    "    avg_val_loss = val_loss / len(valid_loader.dataset)\n",
    "    avg_val_acc = val_acc / len(valid_loader.dataset)\n",
    "    \n",
    "    # print log\n",
    "    print ('Epoch [{}/{}] train Loss: {loss:.4f}, train acc: {acc:.4f} | val_loss: {val_loss:.4f}, val_acc: {val_acc:.4f}' \n",
    "                   .format(epoch+1, num_epochs, i+1, loss=avg_train_loss, acc=avg_train_acc, val_loss=avg_val_loss, val_acc=avg_val_acc))\n",
    "\n",
    "    # append list for polt graph after training\n",
    "    train_loss_list.append(avg_train_loss)\n",
    "    train_acc_list.append(avg_train_acc)\n",
    "    val_loss_list.append(avg_val_loss)\n",
    "    val_acc_list.append(avg_val_acc)\n"
   ]
  },
  {
   "cell_type": "code",
   "execution_count": 9,
   "metadata": {
    "colab": {
     "base_uri": "https://localhost:8080/",
     "height": 35
    },
    "colab_type": "code",
    "id": "lcVFP0RKG6Uf",
    "outputId": "768a56dd-019e-4edd-8221-93f7e5f26699"
   },
   "outputs": [
    {
     "name": "stdout",
     "output_type": "stream",
     "text": [
      "test_accuracy: 58.57 %\n"
     ]
    }
   ],
   "source": [
    "# ======== eval_mode (test samples) ======\n",
    "net.eval()\n",
    "with torch.no_grad():\n",
    "    total = 0\n",
    "    test_acc = 0\n",
    "    for images, labels in test_loader:        \n",
    "#        images, labels = images.view(-1, 28 * 28 * 1 ).to(device), labels.to(device)\n",
    "        images, labels = images.to(device), labels.to(device)\n",
    "        outputs = net(images)\n",
    "        test_acc += (outputs.max(1)[1] == labels).sum().item()\n",
    "        total += labels.size(0)\n",
    "    print('test_accuracy: {} %'.format(100 * test_acc / total)) \n",
    "\n",
    "# save weights (You can save the model by uncomment the following line)\n",
    "#torch.save(net.state_dict(), 'mnist_net.ckpt')\n"
   ]
  },
  {
   "cell_type": "code",
   "execution_count": 10,
   "metadata": {
    "colab": {
     "base_uri": "https://localhost:8080/",
     "height": 573
    },
    "colab_type": "code",
    "id": "tEEIBGsJG6Uk",
    "outputId": "48c8f044-1516-4235-81d3-e0be19bfd714"
   },
   "outputs": [
    {
     "data": {
      "image/png": "[encoded data removed]",
      "text/plain": [
       "<Figure size 432x288 with 1 Axes>"
      ]
     },
     "metadata": {
      "needs_background": "light"
     },
     "output_type": "display_data"
    },
    {
     "data": {
      "image/png": "[encoded data removed]",
      "text/plain": [
       "<Figure size 432x288 with 1 Axes>"
      ]
     },
     "metadata": {
      "needs_background": "light"
     },
     "output_type": "display_data"
    }
   ],
   "source": [
    "# plot graph\n",
    "import matplotlib.pyplot as plt\n",
    "\n",
    "plt.figure()\n",
    "plt.plot(range(num_epochs), train_loss_list, color='blue', linestyle='-', label='train_loss')\n",
    "plt.plot(range(num_epochs), val_loss_list, color='green', linestyle='--', label='val_loss')\n",
    "plt.ylim([0.0,0.02])\n",
    "plt.legend()\n",
    "plt.xlabel('epoch')\n",
    "plt.ylabel('loss')\n",
    "plt.title('Training and validation loss')\n",
    "plt.grid()\n",
    "plt.savefig('CNN_cifar10_loss_nowd.png')\n",
    "plt.show()\n",
    "\n",
    "plt.figure()\n",
    "plt.plot(range(num_epochs), train_acc_list, color='blue', linestyle='-', label='train_acc')\n",
    "plt.plot(range(num_epochs), val_acc_list, color='green', linestyle='--', label='val_acc')\n",
    "plt.ylim([0.5, 1.0])\n",
    "plt.legend()\n",
    "plt.xlabel('epoch')\n",
    "plt.ylabel('acc')\n",
    "plt.title('Training and validation accuracy')\n",
    "plt.grid()\n",
    "plt.savefig('CNN_cifar10_acc_nowd.png')\n",
    "plt.show()"
   ]
  },
  {
   "cell_type": "markdown",
   "metadata": {
    "colab": {},
    "colab_type": "code",
    "id": "g1jdTzc0G6Up"
   },
   "source": [
    "## With Weight Decay"
   ]
  },
  {
   "cell_type": "code",
   "execution_count": 11,
   "metadata": {},
   "outputs": [
    {
     "name": "stdout",
     "output_type": "stream",
     "text": [
      "cuda\n",
      "Network architecture for CNN\n",
      " Network(\n",
      "  (conv1): Conv2d(3, 32, kernel_size=(3, 3), stride=(1, 1), padding=(1, 1))\n",
      "  (pool): MaxPool2d(kernel_size=2, stride=2, padding=0, dilation=1, ceil_mode=False)\n",
      "  (conv2): Conv2d(32, 32, kernel_size=(3, 3), stride=(1, 1), padding=(1, 1))\n",
      "  (fc1): Linear(in_features=2048, out_features=128, bias=True)\n",
      "  (fc2): Linear(in_features=128, out_features=10, bias=True)\n",
      "  (dropout): Dropout2d(p=0.2, inplace=False)\n",
      ")\n"
     ]
    }
   ],
   "source": [
    "net = Network()\n",
    "device = 'cuda' if torch.cuda.is_available() else 'cpu'\n",
    "print(device)\n",
    "\n",
    "if torch.cuda.is_available():\n",
    "  net.cuda()\n",
    "\n",
    "print('Network architecture for CNN\\n', net)"
   ]
  },
  {
   "cell_type": "code",
   "execution_count": 12,
   "metadata": {
    "colab": {},
    "colab_type": "code",
    "id": "OlCfd_HXG6UQ"
   },
   "outputs": [],
   "source": [
    "# optimizing\n",
    "wd = 0.01\n",
    "criterion = nn.CrossEntropyLoss()\n",
    "optimizer = optim.SGD(net.parameters(), lr=0.01, momentum=0.9, weight_decay=wd)\n",
    "#optimizer = optim.AdamW(net.parameters(), lr=0.01, weight_decay=0.001)\n"
   ]
  },
  {
   "cell_type": "code",
   "execution_count": 13,
   "metadata": {
    "colab": {},
    "colab_type": "code",
    "id": "8XOoWNm9G6UU"
   },
   "outputs": [],
   "source": [
    "# Define Class names\n",
    "classes = ('plane', 'car', 'bird', 'cat', 'deer',\n",
    "               'dog', 'frog', 'horse', 'ship', 'truck')\n",
    " "
   ]
  },
  {
   "cell_type": "code",
   "execution_count": 14,
   "metadata": {
    "colab": {
     "base_uri": "https://localhost:8080/",
     "height": 935
    },
    "colab_type": "code",
    "id": "QLVSY_raG6UZ",
    "outputId": "97c11a7c-67c2-4650-f82b-3a13dfa32e31"
   },
   "outputs": [
    {
     "name": "stdout",
     "output_type": "stream",
     "text": [
      "training start ...\n",
      "Epoch [1/50] train Loss: 0.0167, train acc: 0.2453 | val_loss: 0.0165, val_acc: 0.2427\n",
      "Epoch [2/50] train Loss: 0.0149, train acc: 0.3245 | val_loss: 0.0148, val_acc: 0.3243\n",
      "Epoch [3/50] train Loss: 0.0136, train acc: 0.3990 | val_loss: 0.0135, val_acc: 0.3925\n",
      "Epoch [4/50] train Loss: 0.0129, train acc: 0.4211 | val_loss: 0.0129, val_acc: 0.4172\n",
      "Epoch [5/50] train Loss: 0.0120, train acc: 0.4655 | val_loss: 0.0121, val_acc: 0.4532\n",
      "Epoch [6/50] train Loss: 0.0117, train acc: 0.4728 | val_loss: 0.0119, val_acc: 0.4609\n",
      "Epoch [7/50] train Loss: 0.0114, train acc: 0.4948 | val_loss: 0.0117, val_acc: 0.4785\n",
      "Epoch [8/50] train Loss: 0.0112, train acc: 0.5034 | val_loss: 0.0115, val_acc: 0.4783\n",
      "Epoch [9/50] train Loss: 0.0110, train acc: 0.4987 | val_loss: 0.0114, val_acc: 0.4767\n",
      "Epoch [10/50] train Loss: 0.0107, train acc: 0.5292 | val_loss: 0.0111, val_acc: 0.4969\n",
      "Epoch [11/50] train Loss: 0.0105, train acc: 0.5496 | val_loss: 0.0111, val_acc: 0.5065\n",
      "Epoch [12/50] train Loss: 0.0101, train acc: 0.5486 | val_loss: 0.0108, val_acc: 0.5054\n",
      "Epoch [13/50] train Loss: 0.0099, train acc: 0.5607 | val_loss: 0.0106, val_acc: 0.5186\n",
      "Epoch [14/50] train Loss: 0.0097, train acc: 0.5767 | val_loss: 0.0105, val_acc: 0.5295\n",
      "Epoch [15/50] train Loss: 0.0095, train acc: 0.5896 | val_loss: 0.0104, val_acc: 0.5340\n",
      "Epoch [16/50] train Loss: 0.0094, train acc: 0.5932 | val_loss: 0.0103, val_acc: 0.5355\n",
      "Epoch [17/50] train Loss: 0.0091, train acc: 0.6092 | val_loss: 0.0101, val_acc: 0.5468\n",
      "Epoch [18/50] train Loss: 0.0091, train acc: 0.6152 | val_loss: 0.0102, val_acc: 0.5484\n",
      "Epoch [19/50] train Loss: 0.0088, train acc: 0.6198 | val_loss: 0.0100, val_acc: 0.5528\n",
      "Epoch [20/50] train Loss: 0.0086, train acc: 0.6316 | val_loss: 0.0098, val_acc: 0.5593\n",
      "Epoch [21/50] train Loss: 0.0084, train acc: 0.6291 | val_loss: 0.0098, val_acc: 0.5550\n",
      "Epoch [22/50] train Loss: 0.0084, train acc: 0.6393 | val_loss: 0.0098, val_acc: 0.5581\n",
      "Epoch [23/50] train Loss: 0.0081, train acc: 0.6468 | val_loss: 0.0097, val_acc: 0.5644\n",
      "Epoch [24/50] train Loss: 0.0080, train acc: 0.6646 | val_loss: 0.0095, val_acc: 0.5727\n",
      "Epoch [25/50] train Loss: 0.0078, train acc: 0.6581 | val_loss: 0.0095, val_acc: 0.5644\n",
      "Epoch [26/50] train Loss: 0.0078, train acc: 0.6754 | val_loss: 0.0095, val_acc: 0.5731\n",
      "Epoch [27/50] train Loss: 0.0077, train acc: 0.6818 | val_loss: 0.0094, val_acc: 0.5782\n",
      "Epoch [28/50] train Loss: 0.0075, train acc: 0.6873 | val_loss: 0.0094, val_acc: 0.5769\n",
      "Epoch [29/50] train Loss: 0.0077, train acc: 0.6798 | val_loss: 0.0097, val_acc: 0.5597\n",
      "Epoch [30/50] train Loss: 0.0072, train acc: 0.7029 | val_loss: 0.0093, val_acc: 0.5807\n",
      "Epoch [31/50] train Loss: 0.0071, train acc: 0.7067 | val_loss: 0.0093, val_acc: 0.5768\n",
      "Epoch [32/50] train Loss: 0.0071, train acc: 0.7158 | val_loss: 0.0093, val_acc: 0.5833\n",
      "Epoch [33/50] train Loss: 0.0068, train acc: 0.7360 | val_loss: 0.0091, val_acc: 0.5895\n",
      "Epoch [34/50] train Loss: 0.0067, train acc: 0.7305 | val_loss: 0.0092, val_acc: 0.5851\n",
      "Epoch [35/50] train Loss: 0.0068, train acc: 0.7243 | val_loss: 0.0093, val_acc: 0.5812\n",
      "Epoch [36/50] train Loss: 0.0067, train acc: 0.7225 | val_loss: 0.0094, val_acc: 0.5762\n",
      "Epoch [37/50] train Loss: 0.0064, train acc: 0.7496 | val_loss: 0.0091, val_acc: 0.5890\n",
      "Epoch [38/50] train Loss: 0.0063, train acc: 0.7511 | val_loss: 0.0090, val_acc: 0.5933\n",
      "Epoch [39/50] train Loss: 0.0061, train acc: 0.7609 | val_loss: 0.0091, val_acc: 0.5888\n",
      "Epoch [40/50] train Loss: 0.0062, train acc: 0.7408 | val_loss: 0.0093, val_acc: 0.5806\n",
      "Epoch [41/50] train Loss: 0.0060, train acc: 0.7548 | val_loss: 0.0091, val_acc: 0.5901\n",
      "Epoch [42/50] train Loss: 0.0057, train acc: 0.7821 | val_loss: 0.0089, val_acc: 0.5964\n",
      "Epoch [43/50] train Loss: 0.0057, train acc: 0.7801 | val_loss: 0.0090, val_acc: 0.5905\n",
      "Epoch [44/50] train Loss: 0.0057, train acc: 0.7766 | val_loss: 0.0090, val_acc: 0.5958\n",
      "Epoch [45/50] train Loss: 0.0054, train acc: 0.8066 | val_loss: 0.0089, val_acc: 0.5999\n",
      "Epoch [46/50] train Loss: 0.0055, train acc: 0.8019 | val_loss: 0.0089, val_acc: 0.5970\n",
      "Epoch [47/50] train Loss: 0.0055, train acc: 0.7994 | val_loss: 0.0090, val_acc: 0.5949\n",
      "Epoch [48/50] train Loss: 0.0052, train acc: 0.8128 | val_loss: 0.0089, val_acc: 0.5994\n",
      "Epoch [49/50] train Loss: 0.0052, train acc: 0.8253 | val_loss: 0.0089, val_acc: 0.6012\n",
      "Epoch [50/50] train Loss: 0.0052, train acc: 0.8222 | val_loss: 0.0090, val_acc: 0.5951\n"
     ]
    }
   ],
   "source": [
    "###  training\n",
    "print ('training start ...')\n",
    "num_epochs = 50   \n",
    "\n",
    "# initialize list for plot graph after training\n",
    "train_loss_list, train_acc_list, val_loss_list, val_acc_list = [], [], [], []\n",
    "\n",
    "for epoch in range(num_epochs):\n",
    "    # initialize each epoch\n",
    "    train_loss, train_acc, val_loss, val_acc = 0, 0, 0, 0\n",
    "    \n",
    "    # ======== train_mode (Backprop) ======\n",
    "    net.train()\n",
    "    for i, (images, labels) in enumerate(train_loader):  # get mini batch samples\n",
    "        #viewで28×28×１画像を１次元に変換し、deviceへ転送\n",
    "#        images, labels = images.view(-1, 28*28*1).to(device), labels.to(device)\n",
    "        images, labels = images.to(device), labels.to(device)\n",
    "        optimizer.zero_grad()  # Reset the gradients\n",
    "        outputs = net(images)  # forward computation\n",
    "        loss = criterion(outputs, labels)  # loss\n",
    "        loss.backward()  # backward computation        \n",
    "        optimizer.step()  # optimization\n",
    "    \n",
    "    # ======== eval_mode (training samples) ======\n",
    "    net.eval()\n",
    "    with torch.no_grad():  # no computation of gradients\n",
    "      for images, labels in train_loader:        \n",
    "#          images, labels = images.view(-1, 28*28*1).to(device), labels.to(device)\n",
    "          images, labels = images.to(device), labels.to(device)\n",
    "          outputs = net(images)\n",
    "          loss = criterion(outputs, labels)\n",
    "          train_loss += loss.item()\n",
    "          acc = (outputs.max(1)[1] == labels).sum()\n",
    "          train_acc += acc.item()\n",
    "    avg_train_loss = train_loss / len(train_loader.dataset)\n",
    "    avg_train_acc = train_acc / len(train_loader.dataset)\n",
    "\n",
    "    # ======== eval_mode (validation samples) ======\n",
    "    net.eval()\n",
    "    with torch.no_grad():  # no comptutation of gradients\n",
    "      for images, labels in valid_loader:        \n",
    "#          images, labels = images.view(-1, 28*28*1).to(device), labels.to(device)\n",
    "          images, labels = images.to(device), labels.to(device)\n",
    "          outputs = net(images)\n",
    "          loss = criterion(outputs, labels)\n",
    "          val_loss += loss.item()\n",
    "          acc = (outputs.max(1)[1] == labels).sum()\n",
    "          val_acc += acc.item()\n",
    "    avg_val_loss = val_loss / len(valid_loader.dataset)\n",
    "    avg_val_acc = val_acc / len(valid_loader.dataset)\n",
    "    \n",
    "    # print log\n",
    "    print ('Epoch [{}/{}] train Loss: {loss:.4f}, train acc: {acc:.4f} | val_loss: {val_loss:.4f}, val_acc: {val_acc:.4f}' \n",
    "                   .format(epoch+1, num_epochs, i+1, loss=avg_train_loss, acc=avg_train_acc, val_loss=avg_val_loss, val_acc=avg_val_acc))\n",
    "\n",
    "    # append list for polt graph after training\n",
    "    train_loss_list.append(avg_train_loss)\n",
    "    train_acc_list.append(avg_train_acc)\n",
    "    val_loss_list.append(avg_val_loss)\n",
    "    val_acc_list.append(avg_val_acc)\n"
   ]
  },
  {
   "cell_type": "code",
   "execution_count": 15,
   "metadata": {
    "colab": {
     "base_uri": "https://localhost:8080/",
     "height": 35
    },
    "colab_type": "code",
    "id": "lcVFP0RKG6Uf",
    "outputId": "768a56dd-019e-4edd-8221-93f7e5f26699"
   },
   "outputs": [
    {
     "name": "stdout",
     "output_type": "stream",
     "text": [
      "test_accuracy: 59.52 %\n"
     ]
    }
   ],
   "source": [
    "# ======== eval_mode (test samples) ======\n",
    "net.eval()\n",
    "with torch.no_grad():\n",
    "    total = 0\n",
    "    test_acc = 0\n",
    "    for images, labels in test_loader:        \n",
    "#        images, labels = images.view(-1, 28 * 28 * 1 ).to(device), labels.to(device)\n",
    "        images, labels = images.to(device), labels.to(device)\n",
    "        outputs = net(images)\n",
    "        test_acc += (outputs.max(1)[1] == labels).sum().item()\n",
    "        total += labels.size(0)\n",
    "    print('test_accuracy: {} %'.format(100 * test_acc / total)) \n",
    "\n",
    "# save weights (You can save the model by uncomment the following line)\n",
    "#torch.save(net.state_dict(), 'mnist_net.ckpt')\n"
   ]
  },
  {
   "cell_type": "code",
   "execution_count": 16,
   "metadata": {
    "colab": {
     "base_uri": "https://localhost:8080/",
     "height": 573
    },
    "colab_type": "code",
    "id": "tEEIBGsJG6Uk",
    "outputId": "48c8f044-1516-4235-81d3-e0be19bfd714"
   },
   "outputs": [
    {
     "data": {
      "image/png": "[encoded data removed]",
      "text/plain": [
       "<Figure size 432x288 with 1 Axes>"
      ]
     },
     "metadata": {
      "needs_background": "light"
     },
     "output_type": "display_data"
    },
    {
     "data": {
      "image/png": "[encoded data removed]",
      "text/plain": [
       "<Figure size 432x288 with 1 Axes>"
      ]
     },
     "metadata": {
      "needs_background": "light"
     },
     "output_type": "display_data"
    }
   ],
   "source": [
    "# plot graph\n",
    "import matplotlib.pyplot as plt\n",
    "\n",
    "plt.figure()\n",
    "plt.plot(range(num_epochs), train_loss_list, color='blue', linestyle='-', label='train_loss')\n",
    "plt.plot(range(num_epochs), val_loss_list, color='green', linestyle='--', label='val_loss')\n",
    "plt.ylim([0.0,0.02])\n",
    "plt.legend()\n",
    "plt.xlabel('epoch')\n",
    "plt.ylabel('loss')\n",
    "plt.title('Training and validation loss')\n",
    "plt.grid()\n",
    "plt.savefig('CNN_cifar10_loss_wd.png')\n",
    "plt.show()\n",
    "\n",
    "plt.figure()\n",
    "plt.plot(range(num_epochs), train_acc_list, color='blue', linestyle='-', label='train_acc')\n",
    "plt.plot(range(num_epochs), val_acc_list, color='green', linestyle='--', label='val_acc')\n",
    "plt.ylim([0.5, 1.0])\n",
    "plt.legend()\n",
    "plt.xlabel('epoch')\n",
    "plt.ylabel('acc')\n",
    "plt.title('Training and validation accuracy')\n",
    "plt.grid()\n",
    "plt.savefig('CNN_cifar10_acc_wd.png')\n",
    "plt.show()"
   ]
  },
  {
   "cell_type": "code",
   "execution_count": null,
   "metadata": {
    "colab": {},
    "colab_type": "code",
    "id": "g1jdTzc0G6Up"
   },
   "outputs": [],
   "source": []
  }
 ],
 "metadata": {
  "accelerator": "GPU",
  "colab": {
   "include_colab_link": true,
   "name": "CNN_cifar10.ipynb",
   "provenance": []
  },
  "kernelspec": {
   "display_name": "Python 3",
   "language": "python",
   "name": "python3"
  },
  "language_info": {
   "codemirror_mode": {
    "name": "ipython",
    "version": 3
   },
   "file_extension": ".py",
   "mimetype": "text/x-python",
   "name": "python",
   "nbconvert_exporter": "python",
   "pygments_lexer": "ipython3",
   "version": "3.7.7"
  },
  "widgets": {
   "application/vnd.jupyter.widget-state+json": {
    "3518365b90ab4730aebd3ef054e9ccd0": {
     "model_module": "@jupyter-widgets/controls",
     "model_name": "HTMLModel",
     "state": {
      "_dom_classes": [],
      "_model_module": "@jupyter-widgets/controls",
      "_model_module_version": "1.5.0",
      "_model_name": "HTMLModel",
      "_view_count": null,
      "_view_module": "@jupyter-widgets/controls",
      "_view_module_version": "1.5.0",
      "_view_name": "HTMLView",
      "description": "",
      "description_tooltip": null,
      "layout": "IPY_MODEL_cd41e4ea14c04e7786937814163dc404",
      "placeholder": "​",
      "style": "IPY_MODEL_d073dcf55ea54958a0609ec0d44e57ab",
      "value": " 170500096/? [00:20&lt;00:00, 83450838.57it/s]"
     }
    },
    "7114e80c1f8b4aca847703f8a014d8a7": {
     "model_module": "@jupyter-widgets/controls",
     "model_name": "HBoxModel",
     "state": {
      "_dom_classes": [],
      "_model_module": "@jupyter-widgets/controls",
      "_model_module_version": "1.5.0",
      "_model_name": "HBoxModel",
      "_view_count": null,
      "_view_module": "@jupyter-widgets/controls",
      "_view_module_version": "1.5.0",
      "_view_name": "HBoxView",
      "box_style": "",
      "children": [
       "IPY_MODEL_b4a4ae59292342dfa0f8d6c1251142ff",
       "IPY_MODEL_3518365b90ab4730aebd3ef054e9ccd0"
      ],
      "layout": "IPY_MODEL_debeeb78f1d241dfb82bb7bde84dd4ac"
     }
    },
    "85e4eef28deb4a608483b9392b84ae5f": {
     "model_module": "@jupyter-widgets/base",
     "model_name": "LayoutModel",
     "state": {
      "_model_module": "@jupyter-widgets/base",
      "_model_module_version": "1.2.0",
      "_model_name": "LayoutModel",
      "_view_count": null,
      "_view_module": "@jupyter-widgets/base",
      "_view_module_version": "1.2.0",
      "_view_name": "LayoutView",
      "align_content": null,
      "align_items": null,
      "align_self": null,
      "border": null,
      "bottom": null,
      "display": null,
      "flex": null,
      "flex_flow": null,
      "grid_area": null,
      "grid_auto_columns": null,
      "grid_auto_flow": null,
      "grid_auto_rows": null,
      "grid_column": null,
      "grid_gap": null,
      "grid_row": null,
      "grid_template_areas": null,
      "grid_template_columns": null,
      "grid_template_rows": null,
      "height": null,
      "justify_content": null,
      "justify_items": null,
      "left": null,
      "margin": null,
      "max_height": null,
      "max_width": null,
      "min_height": null,
      "min_width": null,
      "object_fit": null,
      "object_position": null,
      "order": null,
      "overflow": null,
      "overflow_x": null,
      "overflow_y": null,
      "padding": null,
      "right": null,
      "top": null,
      "visibility": null,
      "width": null
     }
    },
    "b4a4ae59292342dfa0f8d6c1251142ff": {
     "model_module": "@jupyter-widgets/controls",
     "model_name": "FloatProgressModel",
     "state": {
      "_dom_classes": [],
      "_model_module": "@jupyter-widgets/controls",
      "_model_module_version": "1.5.0",
      "_model_name": "FloatProgressModel",
      "_view_count": null,
      "_view_module": "@jupyter-widgets/controls",
      "_view_module_version": "1.5.0",
      "_view_name": "ProgressView",
      "bar_style": "info",
      "description": "",
      "description_tooltip": null,
      "layout": "IPY_MODEL_85e4eef28deb4a608483b9392b84ae5f",
      "max": 1,
      "min": 0,
      "orientation": "horizontal",
      "style": "IPY_MODEL_bed83fc4215947609b67fe11bea00a5b",
      "value": 1
     }
    },
    "bed83fc4215947609b67fe11bea00a5b": {
     "model_module": "@jupyter-widgets/controls",
     "model_name": "ProgressStyleModel",
     "state": {
      "_model_module": "@jupyter-widgets/controls",
      "_model_module_version": "1.5.0",
      "_model_name": "ProgressStyleModel",
      "_view_count": null,
      "_view_module": "@jupyter-widgets/base",
      "_view_module_version": "1.2.0",
      "_view_name": "StyleView",
      "bar_color": null,
      "description_width": "initial"
     }
    },
    "cd41e4ea14c04e7786937814163dc404": {
     "model_module": "@jupyter-widgets/base",
     "model_name": "LayoutModel",
     "state": {
      "_model_module": "@jupyter-widgets/base",
      "_model_module_version": "1.2.0",
      "_model_name": "LayoutModel",
      "_view_count": null,
      "_view_module": "@jupyter-widgets/base",
      "_view_module_version": "1.2.0",
      "_view_name": "LayoutView",
      "align_content": null,
      "align_items": null,
      "align_self": null,
      "border": null,
      "bottom": null,
      "display": null,
      "flex": null,
      "flex_flow": null,
      "grid_area": null,
      "grid_auto_columns": null,
      "grid_auto_flow": null,
      "grid_auto_rows": null,
      "grid_column": null,
      "grid_gap": null,
      "grid_row": null,
      "grid_template_areas": null,
      "grid_template_columns": null,
      "grid_template_rows": null,
      "height": null,
      "justify_content": null,
      "justify_items": null,
      "left": null,
      "margin": null,
      "max_height": null,
      "max_width": null,
      "min_height": null,
      "min_width": null,
      "object_fit": null,
      "object_position": null,
      "order": null,
      "overflow": null,
      "overflow_x": null,
      "overflow_y": null,
      "padding": null,
      "right": null,
      "top": null,
      "visibility": null,
      "width": null
     }
    },
    "d073dcf55ea54958a0609ec0d44e57ab": {
     "model_module": "@jupyter-widgets/controls",
     "model_name": "DescriptionStyleModel",
     "state": {
      "_model_module": "@jupyter-widgets/controls",
      "_model_module_version": "1.5.0",
      "_model_name": "DescriptionStyleModel",
      "_view_count": null,
      "_view_module": "@jupyter-widgets/base",
      "_view_module_version": "1.2.0",
      "_view_name": "StyleView",
      "description_width": ""
     }
    },
    "debeeb78f1d241dfb82bb7bde84dd4ac": {
     "model_module": "@jupyter-widgets/base",
     "model_name": "LayoutModel",
     "state": {
      "_model_module": "@jupyter-widgets/base",
      "_model_module_version": "1.2.0",
      "_model_name": "LayoutModel",
      "_view_count": null,
      "_view_module": "@jupyter-widgets/base",
      "_view_module_version": "1.2.0",
      "_view_name": "LayoutView",
      "align_content": null,
      "align_items": null,
      "align_self": null,
      "border": null,
      "bottom": null,
      "display": null,
      "flex": null,
      "flex_flow": null,
      "grid_area": null,
      "grid_auto_columns": null,
      "grid_auto_flow": null,
      "grid_auto_rows": null,
      "grid_column": null,
      "grid_gap": null,
      "grid_row": null,
      "grid_template_areas": null,
      "grid_template_columns": null,
      "grid_template_rows": null,
      "height": null,
      "justify_content": null,
      "justify_items": null,
      "left": null,
      "margin": null,
      "max_height": null,
      "max_width": null,
      "min_height": null,
      "min_width": null,
      "object_fit": null,
      "object_position": null,
      "order": null,
      "overflow": null,
      "overflow_x": null,
      "overflow_y": null,
      "padding": null,
      "right": null,
      "top": null,
      "visibility": null,
      "width": null
     }
    }
   }
  }
 },
 "nbformat": 4,
 "nbformat_minor": 4
}
