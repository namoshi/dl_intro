{
  "nbformat": 4,
  "nbformat_minor": 0,
  "metadata": {
    "kernelspec": {
      "display_name": "Python 3",
      "language": "python",
      "name": "python3"
    },
    "language_info": {
      "codemirror_mode": {
        "name": "ipython",
        "version": 3
      },
      "file_extension": ".py",
      "mimetype": "text/x-python",
      "name": "python",
      "nbconvert_exporter": "python",
      "pygments_lexer": "ipython3",
      "version": "3.7.7"
    },
    "colab": {
      "name": "CNN_mnist.ipynb",
      "provenance": [],
      "include_colab_link": true
    },
    "accelerator": "GPU",
    "widgets": {
      "application/vnd.jupyter.widget-state+json": {
        "ed4b84a1b91a4a3c9ae59c302fb49ae9": {
          "model_module": "@jupyter-widgets/controls",
          "model_name": "HBoxModel",
          "state": {
            "_view_name": "HBoxView",
            "_dom_classes": [],
            "_model_name": "HBoxModel",
            "_view_module": "@jupyter-widgets/controls",
            "_model_module_version": "1.5.0",
            "_view_count": null,
            "_view_module_version": "1.5.0",
            "box_style": "",
            "layout": "IPY_MODEL_5fde8c82bd5542039d1771148ea6131f",
            "_model_module": "@jupyter-widgets/controls",
            "children": [
              "IPY_MODEL_35be151a1a754b4a9ea55b0000469c4b",
              "IPY_MODEL_141d4987a87e4120a804652a3781c0c3"
            ]
          }
        },
        "5fde8c82bd5542039d1771148ea6131f": {
          "model_module": "@jupyter-widgets/base",
          "model_name": "LayoutModel",
          "state": {
            "_view_name": "LayoutView",
            "grid_template_rows": null,
            "right": null,
            "justify_content": null,
            "_view_module": "@jupyter-widgets/base",
            "overflow": null,
            "_model_module_version": "1.2.0",
            "_view_count": null,
            "flex_flow": null,
            "width": null,
            "min_width": null,
            "border": null,
            "align_items": null,
            "bottom": null,
            "_model_module": "@jupyter-widgets/base",
            "top": null,
            "grid_column": null,
            "overflow_y": null,
            "overflow_x": null,
            "grid_auto_flow": null,
            "grid_area": null,
            "grid_template_columns": null,
            "flex": null,
            "_model_name": "LayoutModel",
            "justify_items": null,
            "grid_row": null,
            "max_height": null,
            "align_content": null,
            "visibility": null,
            "align_self": null,
            "height": null,
            "min_height": null,
            "padding": null,
            "grid_auto_rows": null,
            "grid_gap": null,
            "max_width": null,
            "order": null,
            "_view_module_version": "1.2.0",
            "grid_template_areas": null,
            "object_position": null,
            "object_fit": null,
            "grid_auto_columns": null,
            "margin": null,
            "display": null,
            "left": null
          }
        },
        "35be151a1a754b4a9ea55b0000469c4b": {
          "model_module": "@jupyter-widgets/controls",
          "model_name": "FloatProgressModel",
          "state": {
            "_view_name": "ProgressView",
            "style": "IPY_MODEL_c50e4a817f404e47bc1ee2cf65ba4f6e",
            "_dom_classes": [],
            "description": "",
            "_model_name": "FloatProgressModel",
            "bar_style": "info",
            "max": 1,
            "_view_module": "@jupyter-widgets/controls",
            "_model_module_version": "1.5.0",
            "value": 1,
            "_view_count": null,
            "_view_module_version": "1.5.0",
            "orientation": "horizontal",
            "min": 0,
            "description_tooltip": null,
            "_model_module": "@jupyter-widgets/controls",
            "layout": "IPY_MODEL_4993c97188b9419189936d93c74378d5"
          }
        },
        "141d4987a87e4120a804652a3781c0c3": {
          "model_module": "@jupyter-widgets/controls",
          "model_name": "HTMLModel",
          "state": {
            "_view_name": "HTMLView",
            "style": "IPY_MODEL_9908c954bd324bc5a434f4ec09d2e0a2",
            "_dom_classes": [],
            "description": "",
            "_model_name": "HTMLModel",
            "placeholder": "​",
            "_view_module": "@jupyter-widgets/controls",
            "_model_module_version": "1.5.0",
            "value": " 9920512/? [00:20&lt;00:00, 2839502.67it/s]",
            "_view_count": null,
            "_view_module_version": "1.5.0",
            "description_tooltip": null,
            "_model_module": "@jupyter-widgets/controls",
            "layout": "IPY_MODEL_cbbb760d662544ffaa9de565c1563912"
          }
        },
        "c50e4a817f404e47bc1ee2cf65ba4f6e": {
          "model_module": "@jupyter-widgets/controls",
          "model_name": "ProgressStyleModel",
          "state": {
            "_view_name": "StyleView",
            "_model_name": "ProgressStyleModel",
            "description_width": "initial",
            "_view_module": "@jupyter-widgets/base",
            "_model_module_version": "1.5.0",
            "_view_count": null,
            "_view_module_version": "1.2.0",
            "bar_color": null,
            "_model_module": "@jupyter-widgets/controls"
          }
        },
        "4993c97188b9419189936d93c74378d5": {
          "model_module": "@jupyter-widgets/base",
          "model_name": "LayoutModel",
          "state": {
            "_view_name": "LayoutView",
            "grid_template_rows": null,
            "right": null,
            "justify_content": null,
            "_view_module": "@jupyter-widgets/base",
            "overflow": null,
            "_model_module_version": "1.2.0",
            "_view_count": null,
            "flex_flow": null,
            "width": null,
            "min_width": null,
            "border": null,
            "align_items": null,
            "bottom": null,
            "_model_module": "@jupyter-widgets/base",
            "top": null,
            "grid_column": null,
            "overflow_y": null,
            "overflow_x": null,
            "grid_auto_flow": null,
            "grid_area": null,
            "grid_template_columns": null,
            "flex": null,
            "_model_name": "LayoutModel",
            "justify_items": null,
            "grid_row": null,
            "max_height": null,
            "align_content": null,
            "visibility": null,
            "align_self": null,
            "height": null,
            "min_height": null,
            "padding": null,
            "grid_auto_rows": null,
            "grid_gap": null,
            "max_width": null,
            "order": null,
            "_view_module_version": "1.2.0",
            "grid_template_areas": null,
            "object_position": null,
            "object_fit": null,
            "grid_auto_columns": null,
            "margin": null,
            "display": null,
            "left": null
          }
        },
        "9908c954bd324bc5a434f4ec09d2e0a2": {
          "model_module": "@jupyter-widgets/controls",
          "model_name": "DescriptionStyleModel",
          "state": {
            "_view_name": "StyleView",
            "_model_name": "DescriptionStyleModel",
            "description_width": "",
            "_view_module": "@jupyter-widgets/base",
            "_model_module_version": "1.5.0",
            "_view_count": null,
            "_view_module_version": "1.2.0",
            "_model_module": "@jupyter-widgets/controls"
          }
        },
        "cbbb760d662544ffaa9de565c1563912": {
          "model_module": "@jupyter-widgets/base",
          "model_name": "LayoutModel",
          "state": {
            "_view_name": "LayoutView",
            "grid_template_rows": null,
            "right": null,
            "justify_content": null,
            "_view_module": "@jupyter-widgets/base",
            "overflow": null,
            "_model_module_version": "1.2.0",
            "_view_count": null,
            "flex_flow": null,
            "width": null,
            "min_width": null,
            "border": null,
            "align_items": null,
            "bottom": null,
            "_model_module": "@jupyter-widgets/base",
            "top": null,
            "grid_column": null,
            "overflow_y": null,
            "overflow_x": null,
            "grid_auto_flow": null,
            "grid_area": null,
            "grid_template_columns": null,
            "flex": null,
            "_model_name": "LayoutModel",
            "justify_items": null,
            "grid_row": null,
            "max_height": null,
            "align_content": null,
            "visibility": null,
            "align_self": null,
            "height": null,
            "min_height": null,
            "padding": null,
            "grid_auto_rows": null,
            "grid_gap": null,
            "max_width": null,
            "order": null,
            "_view_module_version": "1.2.0",
            "grid_template_areas": null,
            "object_position": null,
            "object_fit": null,
            "grid_auto_columns": null,
            "margin": null,
            "display": null,
            "left": null
          }
        },
        "e58a7550024a4420927b35f4cfde68ff": {
          "model_module": "@jupyter-widgets/controls",
          "model_name": "HBoxModel",
          "state": {
            "_view_name": "HBoxView",
            "_dom_classes": [],
            "_model_name": "HBoxModel",
            "_view_module": "@jupyter-widgets/controls",
            "_model_module_version": "1.5.0",
            "_view_count": null,
            "_view_module_version": "1.5.0",
            "box_style": "",
            "layout": "IPY_MODEL_0977c10dbada4307a71d6524c8eef6d7",
            "_model_module": "@jupyter-widgets/controls",
            "children": [
              "IPY_MODEL_d6167c4f178742cdb34ca46804382e71",
              "IPY_MODEL_0ecc2a33f9be4a52b7b8087e7f7d89be"
            ]
          }
        },
        "0977c10dbada4307a71d6524c8eef6d7": {
          "model_module": "@jupyter-widgets/base",
          "model_name": "LayoutModel",
          "state": {
            "_view_name": "LayoutView",
            "grid_template_rows": null,
            "right": null,
            "justify_content": null,
            "_view_module": "@jupyter-widgets/base",
            "overflow": null,
            "_model_module_version": "1.2.0",
            "_view_count": null,
            "flex_flow": null,
            "width": null,
            "min_width": null,
            "border": null,
            "align_items": null,
            "bottom": null,
            "_model_module": "@jupyter-widgets/base",
            "top": null,
            "grid_column": null,
            "overflow_y": null,
            "overflow_x": null,
            "grid_auto_flow": null,
            "grid_area": null,
            "grid_template_columns": null,
            "flex": null,
            "_model_name": "LayoutModel",
            "justify_items": null,
            "grid_row": null,
            "max_height": null,
            "align_content": null,
            "visibility": null,
            "align_self": null,
            "height": null,
            "min_height": null,
            "padding": null,
            "grid_auto_rows": null,
            "grid_gap": null,
            "max_width": null,
            "order": null,
            "_view_module_version": "1.2.0",
            "grid_template_areas": null,
            "object_position": null,
            "object_fit": null,
            "grid_auto_columns": null,
            "margin": null,
            "display": null,
            "left": null
          }
        },
        "d6167c4f178742cdb34ca46804382e71": {
          "model_module": "@jupyter-widgets/controls",
          "model_name": "FloatProgressModel",
          "state": {
            "_view_name": "ProgressView",
            "style": "IPY_MODEL_b91ec2774c614bfdafaa6b4cf850cd9e",
            "_dom_classes": [],
            "description": "  0%",
            "_model_name": "FloatProgressModel",
            "bar_style": "info",
            "max": 1,
            "_view_module": "@jupyter-widgets/controls",
            "_model_module_version": "1.5.0",
            "value": 0,
            "_view_count": null,
            "_view_module_version": "1.5.0",
            "orientation": "horizontal",
            "min": 0,
            "description_tooltip": null,
            "_model_module": "@jupyter-widgets/controls",
            "layout": "IPY_MODEL_06fcf0e0f11c4579992be79c966f0b82"
          }
        },
        "0ecc2a33f9be4a52b7b8087e7f7d89be": {
          "model_module": "@jupyter-widgets/controls",
          "model_name": "HTMLModel",
          "state": {
            "_view_name": "HTMLView",
            "style": "IPY_MODEL_7ae59b25ef0345ff96563f2ad7ecefe1",
            "_dom_classes": [],
            "description": "",
            "_model_name": "HTMLModel",
            "placeholder": "​",
            "_view_module": "@jupyter-widgets/controls",
            "_model_module_version": "1.5.0",
            "value": " 0/28881 [00:00&lt;?, ?it/s]",
            "_view_count": null,
            "_view_module_version": "1.5.0",
            "description_tooltip": null,
            "_model_module": "@jupyter-widgets/controls",
            "layout": "IPY_MODEL_84e86ad5877e4f22a0ceb877601a3210"
          }
        },
        "b91ec2774c614bfdafaa6b4cf850cd9e": {
          "model_module": "@jupyter-widgets/controls",
          "model_name": "ProgressStyleModel",
          "state": {
            "_view_name": "StyleView",
            "_model_name": "ProgressStyleModel",
            "description_width": "initial",
            "_view_module": "@jupyter-widgets/base",
            "_model_module_version": "1.5.0",
            "_view_count": null,
            "_view_module_version": "1.2.0",
            "bar_color": null,
            "_model_module": "@jupyter-widgets/controls"
          }
        },
        "06fcf0e0f11c4579992be79c966f0b82": {
          "model_module": "@jupyter-widgets/base",
          "model_name": "LayoutModel",
          "state": {
            "_view_name": "LayoutView",
            "grid_template_rows": null,
            "right": null,
            "justify_content": null,
            "_view_module": "@jupyter-widgets/base",
            "overflow": null,
            "_model_module_version": "1.2.0",
            "_view_count": null,
            "flex_flow": null,
            "width": null,
            "min_width": null,
            "border": null,
            "align_items": null,
            "bottom": null,
            "_model_module": "@jupyter-widgets/base",
            "top": null,
            "grid_column": null,
            "overflow_y": null,
            "overflow_x": null,
            "grid_auto_flow": null,
            "grid_area": null,
            "grid_template_columns": null,
            "flex": null,
            "_model_name": "LayoutModel",
            "justify_items": null,
            "grid_row": null,
            "max_height": null,
            "align_content": null,
            "visibility": null,
            "align_self": null,
            "height": null,
            "min_height": null,
            "padding": null,
            "grid_auto_rows": null,
            "grid_gap": null,
            "max_width": null,
            "order": null,
            "_view_module_version": "1.2.0",
            "grid_template_areas": null,
            "object_position": null,
            "object_fit": null,
            "grid_auto_columns": null,
            "margin": null,
            "display": null,
            "left": null
          }
        },
        "7ae59b25ef0345ff96563f2ad7ecefe1": {
          "model_module": "@jupyter-widgets/controls",
          "model_name": "DescriptionStyleModel",
          "state": {
            "_view_name": "StyleView",
            "_model_name": "DescriptionStyleModel",
            "description_width": "",
            "_view_module": "@jupyter-widgets/base",
            "_model_module_version": "1.5.0",
            "_view_count": null,
            "_view_module_version": "1.2.0",
            "_model_module": "@jupyter-widgets/controls"
          }
        },
        "84e86ad5877e4f22a0ceb877601a3210": {
          "model_module": "@jupyter-widgets/base",
          "model_name": "LayoutModel",
          "state": {
            "_view_name": "LayoutView",
            "grid_template_rows": null,
            "right": null,
            "justify_content": null,
            "_view_module": "@jupyter-widgets/base",
            "overflow": null,
            "_model_module_version": "1.2.0",
            "_view_count": null,
            "flex_flow": null,
            "width": null,
            "min_width": null,
            "border": null,
            "align_items": null,
            "bottom": null,
            "_model_module": "@jupyter-widgets/base",
            "top": null,
            "grid_column": null,
            "overflow_y": null,
            "overflow_x": null,
            "grid_auto_flow": null,
            "grid_area": null,
            "grid_template_columns": null,
            "flex": null,
            "_model_name": "LayoutModel",
            "justify_items": null,
            "grid_row": null,
            "max_height": null,
            "align_content": null,
            "visibility": null,
            "align_self": null,
            "height": null,
            "min_height": null,
            "padding": null,
            "grid_auto_rows": null,
            "grid_gap": null,
            "max_width": null,
            "order": null,
            "_view_module_version": "1.2.0",
            "grid_template_areas": null,
            "object_position": null,
            "object_fit": null,
            "grid_auto_columns": null,
            "margin": null,
            "display": null,
            "left": null
          }
        },
        "7017a4dfbf8b436f9c3f303d701aaeb7": {
          "model_module": "@jupyter-widgets/controls",
          "model_name": "HBoxModel",
          "state": {
            "_view_name": "HBoxView",
            "_dom_classes": [],
            "_model_name": "HBoxModel",
            "_view_module": "@jupyter-widgets/controls",
            "_model_module_version": "1.5.0",
            "_view_count": null,
            "_view_module_version": "1.5.0",
            "box_style": "",
            "layout": "IPY_MODEL_6d27758f350e4365b8f066a7f559002f",
            "_model_module": "@jupyter-widgets/controls",
            "children": [
              "IPY_MODEL_a708dcd9821d48e985a3b5a69364d557",
              "IPY_MODEL_abb0ff0b8dbf4c7fbfeb1c157a0ce709"
            ]
          }
        },
        "6d27758f350e4365b8f066a7f559002f": {
          "model_module": "@jupyter-widgets/base",
          "model_name": "LayoutModel",
          "state": {
            "_view_name": "LayoutView",
            "grid_template_rows": null,
            "right": null,
            "justify_content": null,
            "_view_module": "@jupyter-widgets/base",
            "overflow": null,
            "_model_module_version": "1.2.0",
            "_view_count": null,
            "flex_flow": null,
            "width": null,
            "min_width": null,
            "border": null,
            "align_items": null,
            "bottom": null,
            "_model_module": "@jupyter-widgets/base",
            "top": null,
            "grid_column": null,
            "overflow_y": null,
            "overflow_x": null,
            "grid_auto_flow": null,
            "grid_area": null,
            "grid_template_columns": null,
            "flex": null,
            "_model_name": "LayoutModel",
            "justify_items": null,
            "grid_row": null,
            "max_height": null,
            "align_content": null,
            "visibility": null,
            "align_self": null,
            "height": null,
            "min_height": null,
            "padding": null,
            "grid_auto_rows": null,
            "grid_gap": null,
            "max_width": null,
            "order": null,
            "_view_module_version": "1.2.0",
            "grid_template_areas": null,
            "object_position": null,
            "object_fit": null,
            "grid_auto_columns": null,
            "margin": null,
            "display": null,
            "left": null
          }
        },
        "a708dcd9821d48e985a3b5a69364d557": {
          "model_module": "@jupyter-widgets/controls",
          "model_name": "FloatProgressModel",
          "state": {
            "_view_name": "ProgressView",
            "style": "IPY_MODEL_9154d4703a474f66a4527cfb36d37336",
            "_dom_classes": [],
            "description": "",
            "_model_name": "FloatProgressModel",
            "bar_style": "success",
            "max": 1,
            "_view_module": "@jupyter-widgets/controls",
            "_model_module_version": "1.5.0",
            "value": 1,
            "_view_count": null,
            "_view_module_version": "1.5.0",
            "orientation": "horizontal",
            "min": 0,
            "description_tooltip": null,
            "_model_module": "@jupyter-widgets/controls",
            "layout": "IPY_MODEL_a82382f6a1ef44938b4ce6c3f55c19e8"
          }
        },
        "abb0ff0b8dbf4c7fbfeb1c157a0ce709": {
          "model_module": "@jupyter-widgets/controls",
          "model_name": "HTMLModel",
          "state": {
            "_view_name": "HTMLView",
            "style": "IPY_MODEL_2fd1dc6d823044ea9cbfc87e321c7870",
            "_dom_classes": [],
            "description": "",
            "_model_name": "HTMLModel",
            "placeholder": "​",
            "_view_module": "@jupyter-widgets/controls",
            "_model_module_version": "1.5.0",
            "value": " 1654784/? [00:00&lt;00:00, 2153765.69it/s]",
            "_view_count": null,
            "_view_module_version": "1.5.0",
            "description_tooltip": null,
            "_model_module": "@jupyter-widgets/controls",
            "layout": "IPY_MODEL_096b54517d194984929054c3d54dce35"
          }
        },
        "9154d4703a474f66a4527cfb36d37336": {
          "model_module": "@jupyter-widgets/controls",
          "model_name": "ProgressStyleModel",
          "state": {
            "_view_name": "StyleView",
            "_model_name": "ProgressStyleModel",
            "description_width": "initial",
            "_view_module": "@jupyter-widgets/base",
            "_model_module_version": "1.5.0",
            "_view_count": null,
            "_view_module_version": "1.2.0",
            "bar_color": null,
            "_model_module": "@jupyter-widgets/controls"
          }
        },
        "a82382f6a1ef44938b4ce6c3f55c19e8": {
          "model_module": "@jupyter-widgets/base",
          "model_name": "LayoutModel",
          "state": {
            "_view_name": "LayoutView",
            "grid_template_rows": null,
            "right": null,
            "justify_content": null,
            "_view_module": "@jupyter-widgets/base",
            "overflow": null,
            "_model_module_version": "1.2.0",
            "_view_count": null,
            "flex_flow": null,
            "width": null,
            "min_width": null,
            "border": null,
            "align_items": null,
            "bottom": null,
            "_model_module": "@jupyter-widgets/base",
            "top": null,
            "grid_column": null,
            "overflow_y": null,
            "overflow_x": null,
            "grid_auto_flow": null,
            "grid_area": null,
            "grid_template_columns": null,
            "flex": null,
            "_model_name": "LayoutModel",
            "justify_items": null,
            "grid_row": null,
            "max_height": null,
            "align_content": null,
            "visibility": null,
            "align_self": null,
            "height": null,
            "min_height": null,
            "padding": null,
            "grid_auto_rows": null,
            "grid_gap": null,
            "max_width": null,
            "order": null,
            "_view_module_version": "1.2.0",
            "grid_template_areas": null,
            "object_position": null,
            "object_fit": null,
            "grid_auto_columns": null,
            "margin": null,
            "display": null,
            "left": null
          }
        },
        "2fd1dc6d823044ea9cbfc87e321c7870": {
          "model_module": "@jupyter-widgets/controls",
          "model_name": "DescriptionStyleModel",
          "state": {
            "_view_name": "StyleView",
            "_model_name": "DescriptionStyleModel",
            "description_width": "",
            "_view_module": "@jupyter-widgets/base",
            "_model_module_version": "1.5.0",
            "_view_count": null,
            "_view_module_version": "1.2.0",
            "_model_module": "@jupyter-widgets/controls"
          }
        },
        "096b54517d194984929054c3d54dce35": {
          "model_module": "@jupyter-widgets/base",
          "model_name": "LayoutModel",
          "state": {
            "_view_name": "LayoutView",
            "grid_template_rows": null,
            "right": null,
            "justify_content": null,
            "_view_module": "@jupyter-widgets/base",
            "overflow": null,
            "_model_module_version": "1.2.0",
            "_view_count": null,
            "flex_flow": null,
            "width": null,
            "min_width": null,
            "border": null,
            "align_items": null,
            "bottom": null,
            "_model_module": "@jupyter-widgets/base",
            "top": null,
            "grid_column": null,
            "overflow_y": null,
            "overflow_x": null,
            "grid_auto_flow": null,
            "grid_area": null,
            "grid_template_columns": null,
            "flex": null,
            "_model_name": "LayoutModel",
            "justify_items": null,
            "grid_row": null,
            "max_height": null,
            "align_content": null,
            "visibility": null,
            "align_self": null,
            "height": null,
            "min_height": null,
            "padding": null,
            "grid_auto_rows": null,
            "grid_gap": null,
            "max_width": null,
            "order": null,
            "_view_module_version": "1.2.0",
            "grid_template_areas": null,
            "object_position": null,
            "object_fit": null,
            "grid_auto_columns": null,
            "margin": null,
            "display": null,
            "left": null
          }
        },
        "f354759892744ea49b44dcffadc916d6": {
          "model_module": "@jupyter-widgets/controls",
          "model_name": "HBoxModel",
          "state": {
            "_view_name": "HBoxView",
            "_dom_classes": [],
            "_model_name": "HBoxModel",
            "_view_module": "@jupyter-widgets/controls",
            "_model_module_version": "1.5.0",
            "_view_count": null,
            "_view_module_version": "1.5.0",
            "box_style": "",
            "layout": "IPY_MODEL_6214d4622fd44cd1ba869542e57d5845",
            "_model_module": "@jupyter-widgets/controls",
            "children": [
              "IPY_MODEL_ed7904f639194b80bbb6d0e29c040db2",
              "IPY_MODEL_4078d95b470044b6b304412827a9fd17"
            ]
          }
        },
        "6214d4622fd44cd1ba869542e57d5845": {
          "model_module": "@jupyter-widgets/base",
          "model_name": "LayoutModel",
          "state": {
            "_view_name": "LayoutView",
            "grid_template_rows": null,
            "right": null,
            "justify_content": null,
            "_view_module": "@jupyter-widgets/base",
            "overflow": null,
            "_model_module_version": "1.2.0",
            "_view_count": null,
            "flex_flow": null,
            "width": null,
            "min_width": null,
            "border": null,
            "align_items": null,
            "bottom": null,
            "_model_module": "@jupyter-widgets/base",
            "top": null,
            "grid_column": null,
            "overflow_y": null,
            "overflow_x": null,
            "grid_auto_flow": null,
            "grid_area": null,
            "grid_template_columns": null,
            "flex": null,
            "_model_name": "LayoutModel",
            "justify_items": null,
            "grid_row": null,
            "max_height": null,
            "align_content": null,
            "visibility": null,
            "align_self": null,
            "height": null,
            "min_height": null,
            "padding": null,
            "grid_auto_rows": null,
            "grid_gap": null,
            "max_width": null,
            "order": null,
            "_view_module_version": "1.2.0",
            "grid_template_areas": null,
            "object_position": null,
            "object_fit": null,
            "grid_auto_columns": null,
            "margin": null,
            "display": null,
            "left": null
          }
        },
        "ed7904f639194b80bbb6d0e29c040db2": {
          "model_module": "@jupyter-widgets/controls",
          "model_name": "FloatProgressModel",
          "state": {
            "_view_name": "ProgressView",
            "style": "IPY_MODEL_68bc6800a47243aaae948a1dd45035f1",
            "_dom_classes": [],
            "description": "",
            "_model_name": "FloatProgressModel",
            "bar_style": "success",
            "max": 1,
            "_view_module": "@jupyter-widgets/controls",
            "_model_module_version": "1.5.0",
            "value": 1,
            "_view_count": null,
            "_view_module_version": "1.5.0",
            "orientation": "horizontal",
            "min": 0,
            "description_tooltip": null,
            "_model_module": "@jupyter-widgets/controls",
            "layout": "IPY_MODEL_c0fc035617d24a8d8157a2d33ec775e1"
          }
        },
        "4078d95b470044b6b304412827a9fd17": {
          "model_module": "@jupyter-widgets/controls",
          "model_name": "HTMLModel",
          "state": {
            "_view_name": "HTMLView",
            "style": "IPY_MODEL_8692bd79d5504317a04832806bf2cd30",
            "_dom_classes": [],
            "description": "",
            "_model_name": "HTMLModel",
            "placeholder": "​",
            "_view_module": "@jupyter-widgets/controls",
            "_model_module_version": "1.5.0",
            "value": " 8192/? [00:00&lt;00:00, 20174.69it/s]",
            "_view_count": null,
            "_view_module_version": "1.5.0",
            "description_tooltip": null,
            "_model_module": "@jupyter-widgets/controls",
            "layout": "IPY_MODEL_fb0d14b2d79c4f348035c1860777ab3b"
          }
        },
        "68bc6800a47243aaae948a1dd45035f1": {
          "model_module": "@jupyter-widgets/controls",
          "model_name": "ProgressStyleModel",
          "state": {
            "_view_name": "StyleView",
            "_model_name": "ProgressStyleModel",
            "description_width": "initial",
            "_view_module": "@jupyter-widgets/base",
            "_model_module_version": "1.5.0",
            "_view_count": null,
            "_view_module_version": "1.2.0",
            "bar_color": null,
            "_model_module": "@jupyter-widgets/controls"
          }
        },
        "c0fc035617d24a8d8157a2d33ec775e1": {
          "model_module": "@jupyter-widgets/base",
          "model_name": "LayoutModel",
          "state": {
            "_view_name": "LayoutView",
            "grid_template_rows": null,
            "right": null,
            "justify_content": null,
            "_view_module": "@jupyter-widgets/base",
            "overflow": null,
            "_model_module_version": "1.2.0",
            "_view_count": null,
            "flex_flow": null,
            "width": null,
            "min_width": null,
            "border": null,
            "align_items": null,
            "bottom": null,
            "_model_module": "@jupyter-widgets/base",
            "top": null,
            "grid_column": null,
            "overflow_y": null,
            "overflow_x": null,
            "grid_auto_flow": null,
            "grid_area": null,
            "grid_template_columns": null,
            "flex": null,
            "_model_name": "LayoutModel",
            "justify_items": null,
            "grid_row": null,
            "max_height": null,
            "align_content": null,
            "visibility": null,
            "align_self": null,
            "height": null,
            "min_height": null,
            "padding": null,
            "grid_auto_rows": null,
            "grid_gap": null,
            "max_width": null,
            "order": null,
            "_view_module_version": "1.2.0",
            "grid_template_areas": null,
            "object_position": null,
            "object_fit": null,
            "grid_auto_columns": null,
            "margin": null,
            "display": null,
            "left": null
          }
        },
        "8692bd79d5504317a04832806bf2cd30": {
          "model_module": "@jupyter-widgets/controls",
          "model_name": "DescriptionStyleModel",
          "state": {
            "_view_name": "StyleView",
            "_model_name": "DescriptionStyleModel",
            "description_width": "",
            "_view_module": "@jupyter-widgets/base",
            "_model_module_version": "1.5.0",
            "_view_count": null,
            "_view_module_version": "1.2.0",
            "_model_module": "@jupyter-widgets/controls"
          }
        },
        "fb0d14b2d79c4f348035c1860777ab3b": {
          "model_module": "@jupyter-widgets/base",
          "model_name": "LayoutModel",
          "state": {
            "_view_name": "LayoutView",
            "grid_template_rows": null,
            "right": null,
            "justify_content": null,
            "_view_module": "@jupyter-widgets/base",
            "overflow": null,
            "_model_module_version": "1.2.0",
            "_view_count": null,
            "flex_flow": null,
            "width": null,
            "min_width": null,
            "border": null,
            "align_items": null,
            "bottom": null,
            "_model_module": "@jupyter-widgets/base",
            "top": null,
            "grid_column": null,
            "overflow_y": null,
            "overflow_x": null,
            "grid_auto_flow": null,
            "grid_area": null,
            "grid_template_columns": null,
            "flex": null,
            "_model_name": "LayoutModel",
            "justify_items": null,
            "grid_row": null,
            "max_height": null,
            "align_content": null,
            "visibility": null,
            "align_self": null,
            "height": null,
            "min_height": null,
            "padding": null,
            "grid_auto_rows": null,
            "grid_gap": null,
            "max_width": null,
            "order": null,
            "_view_module_version": "1.2.0",
            "grid_template_areas": null,
            "object_position": null,
            "object_fit": null,
            "grid_auto_columns": null,
            "margin": null,
            "display": null,
            "left": null
          }
        }
      }
    }
  },
  "cells": [
    {
      "cell_type": "markdown",
      "metadata": {
        "id": "view-in-github",
        "colab_type": "text"
      },
      "source": [
        "<a href=\"https://colab.research.google.com/github/namoshi/dl_intro/blob/master/CNN_mnist.ipynb\" target=\"_parent\"><img src=\"https://colab.research.google.com/assets/colab-badge.svg\" alt=\"Open In Colab\"/></a>"
      ]
    },
    {
      "cell_type": "markdown",
      "metadata": {
        "id": "KsmQWKeZ-qh9",
        "colab_type": "text"
      },
      "source": [
        "## Convolutional Neural Network (CNN)\n",
        "\n",
        "Classification of handwritten numbers (MNIST) by CNN"
      ]
    },
    {
      "cell_type": "code",
      "metadata": {
        "id": "NHzKxcj2-qh_",
        "colab_type": "code",
        "colab": {}
      },
      "source": [
        "import torch\n",
        "import torch.nn as nn\n",
        "import torch.optim as optim\n",
        "import torchvision.datasets as dsets\n",
        "import torchvision.transforms as transforms\n",
        "import torch.nn.functional as F"
      ],
      "execution_count": 1,
      "outputs": []
    },
    {
      "cell_type": "code",
      "metadata": {
        "id": "APmriexa-qiE",
        "colab_type": "code",
        "colab": {
          "base_uri": "https://localhost:8080/",
          "height": 435,
          "referenced_widgets": [
            "ed4b84a1b91a4a3c9ae59c302fb49ae9",
            "5fde8c82bd5542039d1771148ea6131f",
            "35be151a1a754b4a9ea55b0000469c4b",
            "141d4987a87e4120a804652a3781c0c3",
            "c50e4a817f404e47bc1ee2cf65ba4f6e",
            "4993c97188b9419189936d93c74378d5",
            "9908c954bd324bc5a434f4ec09d2e0a2",
            "cbbb760d662544ffaa9de565c1563912",
            "e58a7550024a4420927b35f4cfde68ff",
            "0977c10dbada4307a71d6524c8eef6d7",
            "d6167c4f178742cdb34ca46804382e71",
            "0ecc2a33f9be4a52b7b8087e7f7d89be",
            "b91ec2774c614bfdafaa6b4cf850cd9e",
            "06fcf0e0f11c4579992be79c966f0b82",
            "7ae59b25ef0345ff96563f2ad7ecefe1",
            "84e86ad5877e4f22a0ceb877601a3210",
            "7017a4dfbf8b436f9c3f303d701aaeb7",
            "6d27758f350e4365b8f066a7f559002f",
            "a708dcd9821d48e985a3b5a69364d557",
            "abb0ff0b8dbf4c7fbfeb1c157a0ce709",
            "9154d4703a474f66a4527cfb36d37336",
            "a82382f6a1ef44938b4ce6c3f55c19e8",
            "2fd1dc6d823044ea9cbfc87e321c7870",
            "096b54517d194984929054c3d54dce35",
            "f354759892744ea49b44dcffadc916d6",
            "6214d4622fd44cd1ba869542e57d5845",
            "ed7904f639194b80bbb6d0e29c040db2",
            "4078d95b470044b6b304412827a9fd17",
            "68bc6800a47243aaae948a1dd45035f1",
            "c0fc035617d24a8d8157a2d33ec775e1",
            "8692bd79d5504317a04832806bf2cd30",
            "fb0d14b2d79c4f348035c1860777ab3b"
          ]
        },
        "outputId": "24fae395-d50c-4738-bdc2-15c60982684e"
      },
      "source": [
        "# load MNIST data\n",
        "train_Dataset = dsets.MNIST(\n",
        "      root='./data_mnist/',  # rootで指定したフォルダーを作成して生データを展開\n",
        "      train=True,  # 学習かテストかの選択\n",
        "      transform=transforms.ToTensor(),  # PyTroch のテンソルに変換\n",
        "      download=True)  # ダウンロードするかどうかの選択\n",
        "\n",
        "test_dataset = dsets.MNIST(\n",
        "      root='./data_mnist/',  \n",
        "      train=False, \n",
        "      transform=transforms.ToTensor(),\n",
        "      download=True)\n",
        "\n",
        "train_dataset, valid_dataset = torch.utils.data.random_split(  # データセットの分割\n",
        "      train_Dataset,   # 分割するデータセット\n",
        "      [48000, 12000])  # 分割数\n",
        " \n",
        "print('train_dataset = ', len(train_dataset))\n",
        "print('valid_dataset = ', len(valid_dataset))  \n",
        "print('test_dataset = ', len(test_dataset))\n"
      ],
      "execution_count": 2,
      "outputs": [
        {
          "output_type": "stream",
          "text": [
            "Downloading http://yann.lecun.com/exdb/mnist/train-images-idx3-ubyte.gz to ./data_mnist/MNIST/raw/train-images-idx3-ubyte.gz\n"
          ],
          "name": "stdout"
        },
        {
          "output_type": "display_data",
          "data": {
            "application/vnd.jupyter.widget-view+json": {
              "model_id": "ed4b84a1b91a4a3c9ae59c302fb49ae9",
              "version_minor": 0,
              "version_major": 2
            },
            "text/plain": [
              "HBox(children=(FloatProgress(value=1.0, bar_style='info', max=1.0), HTML(value='')))"
            ]
          },
          "metadata": {
            "tags": []
          }
        },
        {
          "output_type": "stream",
          "text": [
            "Extracting ./data_mnist/MNIST/raw/train-images-idx3-ubyte.gz to ./data_mnist/MNIST/raw\n",
            "Downloading http://yann.lecun.com/exdb/mnist/train-labels-idx1-ubyte.gz to ./data_mnist/MNIST/raw/train-labels-idx1-ubyte.gz\n"
          ],
          "name": "stdout"
        },
        {
          "output_type": "display_data",
          "data": {
            "application/vnd.jupyter.widget-view+json": {
              "model_id": "e58a7550024a4420927b35f4cfde68ff",
              "version_minor": 0,
              "version_major": 2
            },
            "text/plain": [
              "HBox(children=(FloatProgress(value=1.0, bar_style='info', max=1.0), HTML(value='')))"
            ]
          },
          "metadata": {
            "tags": []
          }
        },
        {
          "output_type": "stream",
          "text": [
            "Extracting ./data_mnist/MNIST/raw/train-labels-idx1-ubyte.gz to ./data_mnist/MNIST/raw\n",
            "Downloading http://yann.lecun.com/exdb/mnist/t10k-images-idx3-ubyte.gz to ./data_mnist/MNIST/raw/t10k-images-idx3-ubyte.gz\n"
          ],
          "name": "stdout"
        },
        {
          "output_type": "display_data",
          "data": {
            "application/vnd.jupyter.widget-view+json": {
              "model_id": "7017a4dfbf8b436f9c3f303d701aaeb7",
              "version_minor": 0,
              "version_major": 2
            },
            "text/plain": [
              "HBox(children=(FloatProgress(value=1.0, bar_style='info', max=1.0), HTML(value='')))"
            ]
          },
          "metadata": {
            "tags": []
          }
        },
        {
          "output_type": "stream",
          "text": [
            "Extracting ./data_mnist/MNIST/raw/t10k-images-idx3-ubyte.gz to ./data_mnist/MNIST/raw\n",
            "Downloading http://yann.lecun.com/exdb/mnist/t10k-labels-idx1-ubyte.gz to ./data_mnist/MNIST/raw/t10k-labels-idx1-ubyte.gz\n"
          ],
          "name": "stdout"
        },
        {
          "output_type": "display_data",
          "data": {
            "application/vnd.jupyter.widget-view+json": {
              "model_id": "f354759892744ea49b44dcffadc916d6",
              "version_minor": 0,
              "version_major": 2
            },
            "text/plain": [
              "HBox(children=(FloatProgress(value=1.0, bar_style='info', max=1.0), HTML(value='')))"
            ]
          },
          "metadata": {
            "tags": []
          }
        },
        {
          "output_type": "stream",
          "text": [
            "Extracting ./data_mnist/MNIST/raw/t10k-labels-idx1-ubyte.gz to ./data_mnist/MNIST/raw\n",
            "Processing...\n",
            "Done!\n",
            "train_dataset =  48000\n",
            "valid_dataset =  12000\n",
            "test_dataset =  10000\n"
          ],
          "name": "stdout"
        },
        {
          "output_type": "stream",
          "text": [
            "/usr/local/lib/python3.6/dist-packages/torchvision/datasets/mnist.py:469: UserWarning: The given NumPy array is not writeable, and PyTorch does not support non-writeable tensors. This means you can write to the underlying (supposedly non-writeable) NumPy array using the tensor. You may want to copy the array to protect its data or make it writeable before converting it to a tensor. This type of warning will be suppressed for the rest of this program. (Triggered internally at  /pytorch/torch/csrc/utils/tensor_numpy.cpp:141.)\n",
            "  return torch.from_numpy(parsed.astype(m[2], copy=False)).view(*s)\n"
          ],
          "name": "stderr"
        }
      ]
    },
    {
      "cell_type": "code",
      "metadata": {
        "id": "ZFoHMk08-qiJ",
        "colab_type": "code",
        "colab": {}
      },
      "source": [
        "# set data loader\n",
        "train_loader = torch.utils.data.DataLoader(\n",
        "      dataset=train_dataset,  # データセットの指定\n",
        "      batch_size=64,  # ミニバッチの指定\n",
        "      shuffle=True,  # シャッフルするかどうかの指定\n",
        "      num_workers=2)  # コアの数\n",
        "\n",
        "valid_loader = torch.utils.data.DataLoader(\n",
        "      dataset=valid_dataset,\n",
        "      batch_size=64, \n",
        "      shuffle=False,\n",
        "      num_workers=2)\n",
        "\n",
        "test_loader = torch.utils.data.DataLoader(\n",
        "      dataset=test_dataset,\n",
        "      batch_size=64, \n",
        "      shuffle=False,\n",
        "      num_workers=2)\n"
      ],
      "execution_count": 3,
      "outputs": []
    },
    {
      "cell_type": "code",
      "metadata": {
        "id": "RIPwR9GF-qiN",
        "colab_type": "code",
        "colab": {
          "base_uri": "https://localhost:8080/",
          "height": 215
        },
        "outputId": "4e969862-c952-44df-d7d5-fb58aeaf0f73"
      },
      "source": [
        "class Network(nn.Module):\n",
        "    def __init__(self):\n",
        "        super(Network, self).__init__()\n",
        "        self.conv1 = nn.Conv2d(1,32,3, padding=1)\n",
        "        self.pool = nn.MaxPool2d(2,2)\n",
        "        self.conv2 = nn.Conv2d(32,32,3, padding=1)\n",
        "        self.fc1 = nn.Linear(32*7*7, 128)\n",
        "        self.fc2 = nn.Linear(128, 10)\n",
        "\n",
        "    def forward(self, x):\n",
        "        x = self.pool(F.relu(self.conv1(x)))\n",
        "        x = self.pool(F.relu(self.conv2(x)))\n",
        "        x = x.view(-1, 32 * 7 * 7)\n",
        "        x = F.relu(self.fc1(x))\n",
        "        x = self.fc2(x)\n",
        "        return x\n",
        "\n",
        "net = Network()\n",
        "device = 'cuda' if torch.cuda.is_available() else 'cpu'\n",
        "print(device)\n",
        "\n",
        "if torch.cuda.is_available():\n",
        "  net.cuda()\n",
        "\n",
        "print('Network architecture for CNN\\n', net)"
      ],
      "execution_count": 4,
      "outputs": [
        {
          "output_type": "stream",
          "text": [
            "\n",
            "\n",
            "cuda\n",
            "Network architecture for CNN\n",
            " Network(\n",
            "  (conv1): Conv2d(1, 32, kernel_size=(3, 3), stride=(1, 1), padding=(1, 1))\n",
            "  (pool): MaxPool2d(kernel_size=2, stride=2, padding=0, dilation=1, ceil_mode=False)\n",
            "  (conv2): Conv2d(32, 32, kernel_size=(3, 3), stride=(1, 1), padding=(1, 1))\n",
            "  (fc1): Linear(in_features=1568, out_features=128, bias=True)\n",
            "  (fc2): Linear(in_features=128, out_features=10, bias=True)\n",
            ")\n"
          ],
          "name": "stdout"
        }
      ]
    },
    {
      "cell_type": "code",
      "metadata": {
        "id": "HDmxPMK4-qiS",
        "colab_type": "code",
        "colab": {}
      },
      "source": [
        "# optimizing\n",
        "criterion = nn.CrossEntropyLoss()\n",
        "#optimizer = optim.SGD(net.parameters(), lr=0.01, momentum=0.9, weight_decay=0.01)\n",
        "optimizer = optim.AdamW(net.parameters(), lr=0.01, weight_decay=0.01)\n"
      ],
      "execution_count": 5,
      "outputs": []
    },
    {
      "cell_type": "code",
      "metadata": {
        "id": "1eevlBuY-qiW",
        "colab_type": "code",
        "colab": {
          "base_uri": "https://localhost:8080/",
          "height": 935
        },
        "outputId": "e9c0cbaa-527f-4c21-dfe0-47b92f8d541c"
      },
      "source": [
        "###  training\n",
        "print ('training start ...')\n",
        "num_epochs = 50   \n",
        "\n",
        "# initialize list for plot graph after training\n",
        "train_loss_list, train_acc_list, val_loss_list, val_acc_list = [], [], [], []\n",
        "\n",
        "for epoch in range(num_epochs):\n",
        "    # initialize each epoch\n",
        "    train_loss, train_acc, val_loss, val_acc = 0, 0, 0, 0\n",
        "    \n",
        "    # ======== train_mode (Backprop) ======\n",
        "    net.train()\n",
        "    for i, (images, labels) in enumerate(train_loader):  # get mini batch samples\n",
        "        #viewで28×28×１画像を１次元に変換し、deviceへ転送\n",
        "#        images, labels = images.view(-1, 28*28*1).to(device), labels.to(device)\n",
        "        images, labels = images.to(device), labels.to(device)\n",
        "        optimizer.zero_grad()  # Reset the gradients\n",
        "        outputs = net(images)  # forward computation\n",
        "        loss = criterion(outputs, labels)  # loss\n",
        "        loss.backward()  # backward computation        \n",
        "        optimizer.step()  # optimization\n",
        "    \n",
        "    # ======== eval_mode (training samples) ======\n",
        "    net.eval()\n",
        "    with torch.no_grad():  # no computation of gradients\n",
        "      for images, labels in train_loader:        \n",
        "#          images, labels = images.view(-1, 28*28*1).to(device), labels.to(device)\n",
        "          images, labels = images.to(device), labels.to(device)\n",
        "          outputs = net(images)\n",
        "          loss = criterion(outputs, labels)\n",
        "          train_loss += loss.item()\n",
        "          acc = (outputs.max(1)[1] == labels).sum()\n",
        "          train_acc += acc.item()\n",
        "    avg_train_loss = train_loss / len(train_loader.dataset)\n",
        "    avg_train_acc = train_acc / len(train_loader.dataset)\n",
        "\n",
        "    # ======== eval_mode (validation samples) ======\n",
        "    net.eval()\n",
        "    with torch.no_grad():  # no comptutation of gradients\n",
        "      for images, labels in valid_loader:        \n",
        "#          images, labels = images.view(-1, 28*28*1).to(device), labels.to(device)\n",
        "          images, labels = images.to(device), labels.to(device)\n",
        "          outputs = net(images)\n",
        "          loss = criterion(outputs, labels)\n",
        "          val_loss += loss.item()\n",
        "          acc = (outputs.max(1)[1] == labels).sum()\n",
        "          val_acc += acc.item()\n",
        "    avg_val_loss = val_loss / len(valid_loader.dataset)\n",
        "    avg_val_acc = val_acc / len(valid_loader.dataset)\n",
        "    \n",
        "    # print log\n",
        "    print ('Epoch [{}/{}] train Loss: {loss:.4f}, train acc: {acc:.4f} | val_loss: {val_loss:.4f}, val_acc: {val_acc:.4f}' \n",
        "                   .format(epoch+1, num_epochs, i+1, loss=avg_train_loss, acc=avg_train_acc, val_loss=avg_val_loss, val_acc=avg_val_acc))\n",
        "\n",
        "    # append list for polt graph after training\n",
        "    train_loss_list.append(avg_train_loss)\n",
        "    train_acc_list.append(avg_train_acc)\n",
        "    val_loss_list.append(avg_val_loss)\n",
        "    val_acc_list.append(avg_val_acc)\n"
      ],
      "execution_count": 6,
      "outputs": [
        {
          "output_type": "stream",
          "text": [
            "training start ...\n",
            "Epoch [1/50] train Loss: 0.0012, train acc: 0.9750 | val_loss: 0.0013, val_acc: 0.9722\n",
            "Epoch [2/50] train Loss: 0.0013, train acc: 0.9733 | val_loss: 0.0015, val_acc: 0.9712\n",
            "Epoch [3/50] train Loss: 0.0008, train acc: 0.9838 | val_loss: 0.0011, val_acc: 0.9782\n",
            "Epoch [4/50] train Loss: 0.0009, train acc: 0.9832 | val_loss: 0.0012, val_acc: 0.9800\n",
            "Epoch [5/50] train Loss: 0.0007, train acc: 0.9855 | val_loss: 0.0011, val_acc: 0.9804\n",
            "Epoch [6/50] train Loss: 0.0007, train acc: 0.9853 | val_loss: 0.0011, val_acc: 0.9799\n",
            "Epoch [7/50] train Loss: 0.0008, train acc: 0.9820 | val_loss: 0.0013, val_acc: 0.9756\n",
            "Epoch [8/50] train Loss: 0.0005, train acc: 0.9898 | val_loss: 0.0010, val_acc: 0.9822\n",
            "Epoch [9/50] train Loss: 0.0010, train acc: 0.9805 | val_loss: 0.0015, val_acc: 0.9753\n",
            "Epoch [10/50] train Loss: 0.0006, train acc: 0.9878 | val_loss: 0.0013, val_acc: 0.9806\n",
            "Epoch [11/50] train Loss: 0.0007, train acc: 0.9862 | val_loss: 0.0012, val_acc: 0.9806\n",
            "Epoch [12/50] train Loss: 0.0006, train acc: 0.9876 | val_loss: 0.0012, val_acc: 0.9802\n",
            "Epoch [13/50] train Loss: 0.0006, train acc: 0.9875 | val_loss: 0.0012, val_acc: 0.9789\n",
            "Epoch [14/50] train Loss: 0.0007, train acc: 0.9872 | val_loss: 0.0014, val_acc: 0.9797\n",
            "Epoch [15/50] train Loss: 0.0005, train acc: 0.9894 | val_loss: 0.0012, val_acc: 0.9798\n",
            "Epoch [16/50] train Loss: 0.0005, train acc: 0.9884 | val_loss: 0.0011, val_acc: 0.9822\n",
            "Epoch [17/50] train Loss: 0.0006, train acc: 0.9875 | val_loss: 0.0013, val_acc: 0.9782\n",
            "Epoch [18/50] train Loss: 0.0006, train acc: 0.9884 | val_loss: 0.0013, val_acc: 0.9794\n",
            "Epoch [19/50] train Loss: 0.0005, train acc: 0.9904 | val_loss: 0.0011, val_acc: 0.9826\n",
            "Epoch [20/50] train Loss: 0.0005, train acc: 0.9902 | val_loss: 0.0011, val_acc: 0.9816\n",
            "Epoch [21/50] train Loss: 0.0008, train acc: 0.9845 | val_loss: 0.0015, val_acc: 0.9758\n",
            "Epoch [22/50] train Loss: 0.0004, train acc: 0.9922 | val_loss: 0.0010, val_acc: 0.9842\n",
            "Epoch [23/50] train Loss: 0.0004, train acc: 0.9927 | val_loss: 0.0011, val_acc: 0.9851\n",
            "Epoch [24/50] train Loss: 0.0004, train acc: 0.9909 | val_loss: 0.0010, val_acc: 0.9838\n",
            "Epoch [25/50] train Loss: 0.0004, train acc: 0.9920 | val_loss: 0.0010, val_acc: 0.9838\n",
            "Epoch [26/50] train Loss: 0.0005, train acc: 0.9895 | val_loss: 0.0012, val_acc: 0.9782\n",
            "Epoch [27/50] train Loss: 0.0006, train acc: 0.9873 | val_loss: 0.0012, val_acc: 0.9779\n",
            "Epoch [28/50] train Loss: 0.0006, train acc: 0.9884 | val_loss: 0.0013, val_acc: 0.9772\n",
            "Epoch [29/50] train Loss: 0.0005, train acc: 0.9891 | val_loss: 0.0014, val_acc: 0.9786\n",
            "Epoch [30/50] train Loss: 0.0003, train acc: 0.9939 | val_loss: 0.0010, val_acc: 0.9848\n",
            "Epoch [31/50] train Loss: 0.0003, train acc: 0.9942 | val_loss: 0.0011, val_acc: 0.9836\n",
            "Epoch [32/50] train Loss: 0.0006, train acc: 0.9883 | val_loss: 0.0014, val_acc: 0.9777\n",
            "Epoch [33/50] train Loss: 0.0005, train acc: 0.9904 | val_loss: 0.0012, val_acc: 0.9816\n",
            "Epoch [34/50] train Loss: 0.0009, train acc: 0.9832 | val_loss: 0.0018, val_acc: 0.9758\n",
            "Epoch [35/50] train Loss: 0.0008, train acc: 0.9850 | val_loss: 0.0018, val_acc: 0.9777\n",
            "Epoch [36/50] train Loss: 0.0004, train acc: 0.9927 | val_loss: 0.0012, val_acc: 0.9818\n",
            "Epoch [37/50] train Loss: 0.0005, train acc: 0.9899 | val_loss: 0.0011, val_acc: 0.9832\n",
            "Epoch [38/50] train Loss: 0.0009, train acc: 0.9830 | val_loss: 0.0016, val_acc: 0.9758\n",
            "Epoch [39/50] train Loss: 0.0003, train acc: 0.9935 | val_loss: 0.0011, val_acc: 0.9840\n",
            "Epoch [40/50] train Loss: 0.0004, train acc: 0.9930 | val_loss: 0.0010, val_acc: 0.9836\n",
            "Epoch [41/50] train Loss: 0.0007, train acc: 0.9880 | val_loss: 0.0018, val_acc: 0.9795\n",
            "Epoch [42/50] train Loss: 0.0003, train acc: 0.9935 | val_loss: 0.0011, val_acc: 0.9845\n",
            "Epoch [43/50] train Loss: 0.0004, train acc: 0.9917 | val_loss: 0.0012, val_acc: 0.9809\n",
            "Epoch [44/50] train Loss: 0.0004, train acc: 0.9918 | val_loss: 0.0012, val_acc: 0.9825\n",
            "Epoch [45/50] train Loss: 0.0004, train acc: 0.9924 | val_loss: 0.0014, val_acc: 0.9824\n",
            "Epoch [46/50] train Loss: 0.0007, train acc: 0.9856 | val_loss: 0.0017, val_acc: 0.9747\n",
            "Epoch [47/50] train Loss: 0.0008, train acc: 0.9849 | val_loss: 0.0016, val_acc: 0.9774\n",
            "Epoch [48/50] train Loss: 0.0006, train acc: 0.9870 | val_loss: 0.0016, val_acc: 0.9761\n",
            "Epoch [49/50] train Loss: 0.0004, train acc: 0.9919 | val_loss: 0.0012, val_acc: 0.9822\n",
            "Epoch [50/50] train Loss: 0.0003, train acc: 0.9933 | val_loss: 0.0011, val_acc: 0.9840\n"
          ],
          "name": "stdout"
        }
      ]
    },
    {
      "cell_type": "code",
      "metadata": {
        "id": "GLrdT9io-qia",
        "colab_type": "code",
        "colab": {
          "base_uri": "https://localhost:8080/",
          "height": 35
        },
        "outputId": "9f799c33-95c4-42ac-c739-4a0bb389f265"
      },
      "source": [
        "# ======== eval_mode (test samples) ======\n",
        "net.eval()\n",
        "with torch.no_grad():\n",
        "    total = 0\n",
        "    test_acc = 0\n",
        "    for images, labels in test_loader:        \n",
        "#        images, labels = images.view(-1, 28 * 28 * 1 ).to(device), labels.to(device)\n",
        "        images, labels = images.to(device), labels.to(device)\n",
        "        outputs = net(images)\n",
        "        test_acc += (outputs.max(1)[1] == labels).sum().item()\n",
        "        total += labels.size(0)\n",
        "    print('test_accuracy: {} %'.format(100 * test_acc / total)) \n",
        "\n",
        "# save weights (You can save the model by uncomment the following line)\n",
        "#torch.save(net.state_dict(), 'mnist_net.ckpt')\n"
      ],
      "execution_count": 7,
      "outputs": [
        {
          "output_type": "stream",
          "text": [
            "test_accuracy: 98.36 %\n"
          ],
          "name": "stdout"
        }
      ]
    },
    {
      "cell_type": "code",
      "metadata": {
        "id": "UbrGQqV5-qie",
        "colab_type": "code",
        "colab": {
          "base_uri": "https://localhost:8080/",
          "height": 573
        },
        "outputId": "3f876723-d79d-465c-b3ce-47d6a3c046a6"
      },
      "source": [
        "# plot graph\n",
        "import matplotlib.pyplot as plt\n",
        "\n",
        "plt.figure()\n",
        "plt.plot(range(num_epochs), train_loss_list, color='blue', linestyle='-', label='train_loss')\n",
        "plt.plot(range(num_epochs), val_loss_list, color='green', linestyle='--', label='val_loss')\n",
        "plt.ylim([0.0,0.02])\n",
        "plt.legend()\n",
        "plt.xlabel('epoch')\n",
        "plt.ylabel('loss')\n",
        "plt.title('Training and validation loss')\n",
        "plt.grid()\n",
        "plt.savefig('MLP_mnist_loss.png')\n",
        "plt.show()\n",
        "\n",
        "plt.figure()\n",
        "plt.plot(range(num_epochs), train_acc_list, color='blue', linestyle='-', label='train_acc')\n",
        "plt.plot(range(num_epochs), val_acc_list, color='green', linestyle='--', label='val_acc')\n",
        "plt.ylim([0.5, 1.0])\n",
        "plt.legend()\n",
        "plt.xlabel('epoch')\n",
        "plt.ylabel('acc')\n",
        "plt.title('Training and validation accuracy')\n",
        "plt.grid()\n",
        "plt.savefig('MLP_mnist_acc.png')\n",
        "plt.show()"
      ],
      "execution_count": 8,
      "outputs": [
        {
          "output_type": "display_data",
          "data": {
            "image/png": "[encoded data removed]",
            "text/plain": [
              "<Figure size 432x288 with 1 Axes>"
            ]
          },
          "metadata": {
            "tags": [],
            "needs_background": "light"
          }
        },
        {
          "output_type": "display_data",
          "data": {
            "image/png": "[encoded data removed]",
            "text/plain": [
              "<Figure size 432x288 with 1 Axes>"
            ]
          },
          "metadata": {
            "tags": [],
            "needs_background": "light"
          }
        }
      ]
    },
    {
      "cell_type": "code",
      "metadata": {
        "id": "YntKDJYU-qij",
        "colab_type": "code",
        "colab": {}
      },
      "source": [
        ""
      ],
      "execution_count": 8,
      "outputs": []
    }
  ]
}