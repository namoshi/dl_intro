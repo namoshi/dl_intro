{
  "cells": [
    {
      "metadata": {},
      "cell_type": "markdown",
      "source": "# numpy \n\nvector"
    },
    {
      "metadata": {
        "trusted": true
      },
      "cell_type": "code",
      "source": "import numpy as np\nx = np.array([1, 2, 3])\nprint('x=', x)",
      "execution_count": 1,
      "outputs": [
        {
          "output_type": "stream",
          "text": "x= [1 2 3]\n",
          "name": "stdout"
        }
      ]
    },
    {
      "metadata": {
        "trusted": true
      },
      "cell_type": "code",
      "source": "type(x)",
      "execution_count": 2,
      "outputs": [
        {
          "output_type": "execute_result",
          "execution_count": 2,
          "data": {
            "text/plain": "numpy.ndarray"
          },
          "metadata": {}
        }
      ]
    },
    {
      "metadata": {
        "trusted": true
      },
      "cell_type": "code",
      "source": "y = np.array([4, 5, 6])\nprint('y=', y)\nz = x + 2*y\nprint('z=', z)",
      "execution_count": 3,
      "outputs": [
        {
          "output_type": "stream",
          "text": "y= [4 5 6]\nz= [ 9 12 15]\n",
          "name": "stdout"
        }
      ]
    },
    {
      "metadata": {
        "trusted": true
      },
      "cell_type": "code",
      "source": "print('x[0]=', x[0])\nprint('y[2]=', y[2])\nprint('z[1]=', z[1])",
      "execution_count": 4,
      "outputs": [
        {
          "output_type": "stream",
          "text": "x[0]= 1\ny[2]= 6\nz[1]= 12\n",
          "name": "stdout"
        }
      ]
    },
    {
      "metadata": {
        "trusted": true
      },
      "cell_type": "code",
      "source": "print('before', x)\nx[0] = 2\nprint('after', x)",
      "execution_count": 5,
      "outputs": [
        {
          "output_type": "stream",
          "text": "before [1 2 3]\nafter [2 2 3]\n",
          "name": "stdout"
        }
      ]
    },
    {
      "metadata": {
        "trusted": true
      },
      "cell_type": "code",
      "source": "z = x + 2*y\nprint('x=', x)\nprint('y=', y)\nprint('z=', z)",
      "execution_count": 6,
      "outputs": [
        {
          "output_type": "stream",
          "text": "x= [2 2 3]\ny= [4 5 6]\nz= [10 12 15]\n",
          "name": "stdout"
        }
      ]
    },
    {
      "metadata": {},
      "cell_type": "markdown",
      "source": "sequence"
    },
    {
      "metadata": {
        "trusted": true
      },
      "cell_type": "code",
      "source": "a = np.arange(10)\nprint('a=', a)",
      "execution_count": 7,
      "outputs": [
        {
          "output_type": "stream",
          "text": "a= [0 1 2 3 4 5 6 7 8 9]\n",
          "name": "stdout"
        }
      ]
    },
    {
      "metadata": {
        "trusted": true
      },
      "cell_type": "code",
      "source": "b = np.arange(5,10)\nprint('b=', b)",
      "execution_count": 8,
      "outputs": [
        {
          "output_type": "stream",
          "text": "b= [5 6 7 8 9]\n",
          "name": "stdout"
        }
      ]
    },
    {
      "metadata": {},
      "cell_type": "markdown",
      "source": "Copy of the vector \n(You can not use a=b for copy.)"
    },
    {
      "metadata": {
        "trusted": true
      },
      "cell_type": "code",
      "source": "a = np.array([1, 2])\nb = np.copy(a)\nb[0] = 2\nc = a.copy()\nprint('a is {0}'.format(a))\nprint('b is {0}'.format(b))\nprint('c is {0}'.format(c))",
      "execution_count": 9,
      "outputs": [
        {
          "output_type": "stream",
          "text": "a is [1 2]\nb is [2 2]\nc is [1 2]\n",
          "name": "stdout"
        }
      ]
    },
    {
      "metadata": {},
      "cell_type": "markdown",
      "source": "sorting of the elements"
    },
    {
      "metadata": {
        "trusted": true
      },
      "cell_type": "code",
      "source": "data = np.random.randint(0,100,10)\nprint('Before：', data)\ndata.sort()\nprint('After：', data)",
      "execution_count": 10,
      "outputs": [
        {
          "output_type": "stream",
          "text": "Before： [74 21 42 57 16 93 25 19  8 51]\nAfter： [ 8 16 19 21 25 42 51 57 74 93]\n",
          "name": "stdout"
        }
      ]
    },
    {
      "metadata": {},
      "cell_type": "markdown",
      "source": "min, max, sum"
    },
    {
      "metadata": {
        "trusted": true
      },
      "cell_type": "code",
      "source": "print('data:', data)\n# Min\nprint('Min:', data.min())\n# Max\nprint('Max:', data.max())\n# sum\nprint('Sum:', data.sum())",
      "execution_count": 11,
      "outputs": [
        {
          "output_type": "stream",
          "text": "data: [ 8 16 19 21 25 42 51 57 74 93]\nMin: 8\nMax: 93\nSum: 406\n",
          "name": "stdout"
        }
      ]
    },
    {
      "metadata": {},
      "cell_type": "markdown",
      "source": "Marix"
    },
    {
      "metadata": {
        "trusted": true
      },
      "cell_type": "code",
      "source": "X = np.array([[1,2,3],[4,5,6],[7,8,9]])\nprint(X)",
      "execution_count": 12,
      "outputs": [
        {
          "output_type": "stream",
          "text": "[[1 2 3]\n [4 5 6]\n [7 8 9]]\n",
          "name": "stdout"
        }
      ]
    },
    {
      "metadata": {
        "trusted": true
      },
      "cell_type": "code",
      "source": "np.shape(X)",
      "execution_count": 13,
      "outputs": [
        {
          "output_type": "execute_result",
          "execution_count": 13,
          "data": {
            "text/plain": "(3, 3)"
          },
          "metadata": {}
        }
      ]
    },
    {
      "metadata": {
        "trusted": true
      },
      "cell_type": "code",
      "source": "X.shape",
      "execution_count": 14,
      "outputs": [
        {
          "output_type": "execute_result",
          "execution_count": 14,
          "data": {
            "text/plain": "(3, 3)"
          },
          "metadata": {}
        }
      ]
    },
    {
      "metadata": {
        "trusted": true
      },
      "cell_type": "code",
      "source": "Y = np.array([[1,2,3],[3,2,1]])\nprint('Y is ')\nprint(Y)\nm, n = Y.shape\nprint('m = {0}'.format(m))\nprint('n = {0}'.format(n))",
      "execution_count": 15,
      "outputs": [
        {
          "output_type": "stream",
          "text": "Y is \n[[1 2 3]\n [3 2 1]]\nm = 2\nn = 3\n",
          "name": "stdout"
        }
      ]
    },
    {
      "metadata": {
        "trusted": true
      },
      "cell_type": "code",
      "source": "print('X is')\nprint(X)\nprint('X[0,1]= {0}'.format(X[0, 1]))\nprint('X[1,1]= {0}'.format(X[1, 1]))\nprint('X[2,2]= {0}'.format(X[2, 2]))",
      "execution_count": 16,
      "outputs": [
        {
          "output_type": "stream",
          "text": "X is\n[[1 2 3]\n [4 5 6]\n [7 8 9]]\nX[0,1]= 2\nX[1,1]= 5\nX[2,2]= 9\n",
          "name": "stdout"
        }
      ]
    },
    {
      "metadata": {
        "trusted": true
      },
      "cell_type": "code",
      "source": "print('X is')\nprint(X)\nX[1, 2] = 66\nprint('After: X is')\nprint(X)",
      "execution_count": 17,
      "outputs": [
        {
          "output_type": "stream",
          "text": "X is\n[[1 2 3]\n [4 5 6]\n [7 8 9]]\nAfter: X is\n[[ 1  2  3]\n [ 4  5 66]\n [ 7  8  9]]\n",
          "name": "stdout"
        }
      ]
    },
    {
      "metadata": {
        "trusted": true
      },
      "cell_type": "code",
      "source": "O = np.zeros((3,3))\nprint('O is')\nprint(O)",
      "execution_count": 18,
      "outputs": [
        {
          "output_type": "stream",
          "text": "O is\n[[0. 0. 0.]\n [0. 0. 0.]\n [0. 0. 0.]]\n",
          "name": "stdout"
        }
      ]
    },
    {
      "metadata": {
        "trusted": true
      },
      "cell_type": "code",
      "source": "ones = np.ones((10))\nprint('ones (vector)')\nprint(ones)\nOnes = np.ones((3,3))\nprint('Ones (Matrix)')\nprint(Ones)",
      "execution_count": 19,
      "outputs": [
        {
          "output_type": "stream",
          "text": "ones (vector)\n[1. 1. 1. 1. 1. 1. 1. 1. 1. 1.]\nOnes (Matrix)\n[[1. 1. 1.]\n [1. 1. 1.]\n [1. 1. 1.]]\n",
          "name": "stdout"
        }
      ]
    },
    {
      "metadata": {
        "trusted": true
      },
      "cell_type": "code",
      "source": "R = np.random.rand(3, 2)\nprint('R is a random matrix')\nprint(R)",
      "execution_count": 20,
      "outputs": [
        {
          "output_type": "stream",
          "text": "R is a random matrix\n[[0.8406382  0.11755086]\n [0.37045835 0.61300656]\n [0.14125294 0.66194725]]\n",
          "name": "stdout"
        }
      ]
    },
    {
      "metadata": {
        "trusted": true
      },
      "cell_type": "code",
      "source": "a = np.arange(10)\nprint('a')\nprint(a)\nb = np.reshape(a, (2, 5))\nprint('b is reshaped from a')\nprint(b)",
      "execution_count": 21,
      "outputs": [
        {
          "output_type": "stream",
          "text": "a\n[0 1 2 3 4 5 6 7 8 9]\nb is reshaped from a\n[[0 1 2 3 4]\n [5 6 7 8 9]]\n",
          "name": "stdout"
        }
      ]
    },
    {
      "metadata": {
        "trusted": true
      },
      "cell_type": "code",
      "source": "c = a.reshape(2, 5)\nprint(c)",
      "execution_count": 22,
      "outputs": [
        {
          "output_type": "stream",
          "text": "[[0 1 2 3 4]\n [5 6 7 8 9]]\n",
          "name": "stdout"
        }
      ]
    },
    {
      "metadata": {},
      "cell_type": "markdown",
      "source": "## Matrix Calculation\nAdition, Subtraction"
    },
    {
      "metadata": {
        "trusted": true
      },
      "cell_type": "code",
      "source": "A = np.array([[1,2,3],[3,3,3]])\nB = np.array([[3,2,1],[1,2,3]])\nC = A + B\nD = A - B\nprint('A')\nprint(A)\nprint('B')\nprint(B)\nprint('A + B')\nprint(C)\nprint('A - B')\nprint(D)",
      "execution_count": 23,
      "outputs": [
        {
          "output_type": "stream",
          "text": "A\n[[1 2 3]\n [3 3 3]]\nB\n[[3 2 1]\n [1 2 3]]\nA + B\n[[4 4 4]\n [4 5 6]]\nA - B\n[[-2  0  2]\n [ 2  1  0]]\n",
          "name": "stdout"
        }
      ]
    },
    {
      "metadata": {},
      "cell_type": "markdown",
      "source": "scalr product"
    },
    {
      "metadata": {
        "trusted": true
      },
      "cell_type": "code",
      "source": "a = 2.0\nC = a * A\nprint('a={0}'.format(a))\nprint('A')\nprint(A)\nprint('a * A')\nprint(C)",
      "execution_count": 24,
      "outputs": [
        {
          "output_type": "stream",
          "text": "a=2.0\nA\n[[1 2 3]\n [3 3 3]]\na * A\n[[2. 4. 6.]\n [6. 6. 6.]]\n",
          "name": "stdout"
        }
      ]
    },
    {
      "metadata": {},
      "cell_type": "markdown",
      "source": "matrix product"
    },
    {
      "metadata": {
        "trusted": true
      },
      "cell_type": "code",
      "source": "A = np.array([[1,2,3],[4,5,6]])\nB = np.array([[1,2],[3,1],[2,1]])\nprint('A')\nprint(A)\nprint('B')\nprint(B)\nC = np.dot(A,B)\nprint('C=A*B')\nprint(C)\nD = A.dot(B)\nprint('D=A*B')\nprint(D)\nC = np.dot(B, A)\nprint('C=B*A')\nprint(C)\nD = B.dot(A)\nprint('D=B*A')\nprint(D)",
      "execution_count": 25,
      "outputs": [
        {
          "output_type": "stream",
          "text": "A\n[[1 2 3]\n [4 5 6]]\nB\n[[1 2]\n [3 1]\n [2 1]]\nC=A*B\n[[13  7]\n [31 19]]\nD=A*B\n[[13  7]\n [31 19]]\nC=B*A\n[[ 9 12 15]\n [ 7 11 15]\n [ 6  9 12]]\nD=B*A\n[[ 9 12 15]\n [ 7 11 15]\n [ 6  9 12]]\n",
          "name": "stdout"
        }
      ]
    },
    {
      "metadata": {},
      "cell_type": "markdown",
      "source": "transpose"
    },
    {
      "metadata": {
        "trusted": true
      },
      "cell_type": "code",
      "source": "A = np.array([[1,2,3],[4,5,6],[7,8,9]])\nprint('A')\nprint(A)\nB = np.transpose(A)\nprint('Transpose of A')\nprint(B)\nC = A.T\nprint('Transpose of A can be calculated by A.T')\nprint(C)",
      "execution_count": 26,
      "outputs": [
        {
          "output_type": "stream",
          "text": "A\n[[1 2 3]\n [4 5 6]\n [7 8 9]]\nTranspose of A\n[[1 4 7]\n [2 5 8]\n [3 6 9]]\nTranspose of A can be calculated by A.T\n[[1 4 7]\n [2 5 8]\n [3 6 9]]\n",
          "name": "stdout"
        }
      ]
    },
    {
      "metadata": {},
      "cell_type": "markdown",
      "source": "Identify matrix"
    },
    {
      "metadata": {
        "trusted": true
      },
      "cell_type": "code",
      "source": "E = np.identity((3))\nprint(E)",
      "execution_count": 27,
      "outputs": [
        {
          "output_type": "stream",
          "text": "[[1. 0. 0.]\n [0. 1. 0.]\n [0. 0. 1.]]\n",
          "name": "stdout"
        }
      ]
    },
    {
      "metadata": {},
      "cell_type": "markdown",
      "source": "trace"
    },
    {
      "metadata": {
        "trusted": true
      },
      "cell_type": "code",
      "source": "A = np.array([[1,2,3],[4,5,6],[7,8,9]])\nprint('A')\nprint(A)\nt = np.trace(A)\nprint('Trace of A is {0}'.format(t))",
      "execution_count": 28,
      "outputs": [
        {
          "output_type": "stream",
          "text": "A\n[[1 2 3]\n [4 5 6]\n [7 8 9]]\nTrace of A is 15\n",
          "name": "stdout"
        }
      ]
    },
    {
      "metadata": {},
      "cell_type": "markdown",
      "source": "Determinant"
    },
    {
      "metadata": {
        "trusted": true
      },
      "cell_type": "code",
      "source": "A = np.array([[1,1,0],[4,5,0],[1,0,1]])\nprint('A')\nprint(A)\nd = np.linalg.det(A)\nprint('Determinant of A is {0}'.format(d))",
      "execution_count": 29,
      "outputs": [
        {
          "output_type": "stream",
          "text": "A\n[[1 1 0]\n [4 5 0]\n [1 0 1]]\nDeterminant of A is 1.0\n",
          "name": "stdout"
        }
      ]
    },
    {
      "metadata": {},
      "cell_type": "markdown",
      "source": "Inverse"
    },
    {
      "metadata": {
        "trusted": true
      },
      "cell_type": "code",
      "source": "A = np.array([[1,1,0],[4,5,0],[1,0,1]])\nprint('A')\nprint(A)\nAinv = np.linalg.inv(A)\nprint('Inverse of A')\nprint(Ainv)\nprint('A * Ainv')\nprint(A.dot(Ainv))\nprint('Ainv * A')\nprint(Ainv.dot(A))",
      "execution_count": 30,
      "outputs": [
        {
          "output_type": "stream",
          "text": "A\n[[1 1 0]\n [4 5 0]\n [1 0 1]]\nInverse of A\n[[ 5. -1.  0.]\n [-4.  1. -0.]\n [-5.  1.  1.]]\nA * Ainv\n[[1. 0. 0.]\n [0. 1. 0.]\n [0. 0. 1.]]\nAinv * A\n[[1. 0. 0.]\n [0. 1. 0.]\n [0. 0. 1.]]\n",
          "name": "stdout"
        }
      ]
    },
    {
      "metadata": {},
      "cell_type": "markdown",
      "source": "slicing"
    },
    {
      "metadata": {
        "trusted": true
      },
      "cell_type": "code",
      "source": "x = np.arange(10)\nprint(x)\nprint(x[:5])",
      "execution_count": 31,
      "outputs": [
        {
          "output_type": "stream",
          "text": "[0 1 2 3 4 5 6 7 8 9]\n[0 1 2 3 4]\n",
          "name": "stdout"
        }
      ]
    },
    {
      "metadata": {
        "trusted": true
      },
      "cell_type": "code",
      "source": "print(x[5:])",
      "execution_count": 32,
      "outputs": [
        {
          "output_type": "stream",
          "text": "[5 6 7 8 9]\n",
          "name": "stdout"
        }
      ]
    },
    {
      "metadata": {
        "trusted": true
      },
      "cell_type": "code",
      "source": "print(x[3:5])",
      "execution_count": 33,
      "outputs": [
        {
          "output_type": "stream",
          "text": "[3 4]\n",
          "name": "stdout"
        }
      ]
    },
    {
      "metadata": {
        "trusted": true
      },
      "cell_type": "code",
      "source": "print(x[3:8:2])",
      "execution_count": 34,
      "outputs": [
        {
          "output_type": "stream",
          "text": "[3 5 7]\n",
          "name": "stdout"
        }
      ]
    },
    {
      "metadata": {
        "trusted": true
      },
      "cell_type": "code",
      "source": "X = np.array([[1,2,3],[4,5,6],[7,8,9]])\nprint(X)\nprint(X[:2, 0:2])",
      "execution_count": 35,
      "outputs": [
        {
          "output_type": "stream",
          "text": "[[1 2 3]\n [4 5 6]\n [7 8 9]]\n[[1 2]\n [4 5]]\n",
          "name": "stdout"
        }
      ]
    },
    {
      "metadata": {},
      "cell_type": "markdown",
      "source": "reverse ordering"
    },
    {
      "metadata": {
        "trusted": true
      },
      "cell_type": "code",
      "source": "print('x:       ', x)\nprint('x[::-1]: ', x[::-1])",
      "execution_count": 36,
      "outputs": [
        {
          "output_type": "stream",
          "text": "x:        [0 1 2 3 4 5 6 7 8 9]\nx[::-1]:  [9 8 7 6 5 4 3 2 1 0]\n",
          "name": "stdout"
        }
      ]
    },
    {
      "metadata": {},
      "cell_type": "markdown",
      "source": "Selection"
    },
    {
      "metadata": {
        "trusted": true
      },
      "cell_type": "code",
      "source": "x = np.array([1,2,3,4,5,8,13])\nprint(x)\nprint(x > 3)",
      "execution_count": 37,
      "outputs": [
        {
          "output_type": "stream",
          "text": "[ 1  2  3  4  5  8 13]\n[False False False  True  True  True  True]\n",
          "name": "stdout"
        }
      ]
    },
    {
      "metadata": {
        "trusted": true
      },
      "cell_type": "code",
      "source": "print(x[x > 3])",
      "execution_count": 38,
      "outputs": [
        {
          "output_type": "stream",
          "text": "[ 4  5  8 13]\n",
          "name": "stdout"
        }
      ]
    },
    {
      "metadata": {
        "trusted": true
      },
      "cell_type": "code",
      "source": "x[x > 3] = 99\nprint(x)",
      "execution_count": 39,
      "outputs": [
        {
          "output_type": "stream",
          "text": "[ 1  2  3 99 99 99 99]\n",
          "name": "stdout"
        }
      ]
    }
  ],
  "metadata": {
    "kernelspec": {
      "name": "python3",
      "display_name": "Python 3",
      "language": "python"
    },
    "language_info": {
      "mimetype": "text/x-python",
      "nbconvert_exporter": "python",
      "name": "python",
      "pygments_lexer": "ipython3",
      "version": "3.5.4",
      "file_extension": ".py",
      "codemirror_mode": {
        "version": 3,
        "name": "ipython"
      }
    }
  },
  "nbformat": 4,
  "nbformat_minor": 4
}