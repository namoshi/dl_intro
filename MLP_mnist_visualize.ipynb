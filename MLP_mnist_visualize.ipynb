{
  "cells": [
    {
      "cell_type": "markdown",
      "metadata": {
        "colab_type": "text",
        "id": "view-in-github"
      },
      "source": [
        "<a href=\"https://colab.research.google.com/github/namoshi/dl_intro/blob/master/MLP_mnist_visualize.ipynb\" target=\"_parent\"><img src=\"https://colab.research.google.com/assets/colab-badge.svg\" alt=\"Open In Colab\"/></a>"
      ]
    },
    {
      "cell_type": "markdown",
      "metadata": {
        "id": "_q-td0w86QKQ"
      },
      "source": [
        "# Visualize the features and parameters of the trained MLP\n",
        "\n"
      ]
    },
    {
      "cell_type": "code",
      "execution_count": 15,
      "metadata": {
        "id": "I6ONVCql6Hak"
      },
      "outputs": [],
      "source": [
        "import torch\n",
        "import torch.nn as nn\n",
        "import torch.optim as optim\n",
        "import torchvision.datasets as dsets\n",
        "import torchvision.transforms as transforms\n",
        "import numpy as np"
      ]
    },
    {
      "cell_type": "code",
      "execution_count": 2,
      "metadata": {
        "colab": {
          "base_uri": "https://localhost:8080/"
        },
        "id": "hC77Z6Hn6mKV",
        "outputId": "c38ba242-ff69-4302-9f80-0fa6e8ff5349"
      },
      "outputs": [
        {
          "name": "stdout",
          "output_type": "stream",
          "text": [
            "train_dataset =  48000\n",
            "valid_dataset =  12000\n",
            "test_dataset =  10000\n"
          ]
        }
      ],
      "source": [
        "# load MNIST data\n",
        "train_Dataset = dsets.MNIST(\n",
        "      root='./data',  # rootで指定したフォルダーを作成して生データを展開\n",
        "      train=True,  # 学習かテストかの選択\n",
        "      transform=transforms.ToTensor(),  # PyTroch のテンソルに変換\n",
        "      download=True)  # ダウンロードするかどうかの選択\n",
        "\n",
        "test_dataset = dsets.MNIST(\n",
        "      root='./data',\n",
        "      train=False,\n",
        "      transform=transforms.ToTensor(),\n",
        "      download=True)\n",
        "\n",
        "train_dataset, valid_dataset = torch.utils.data.random_split(  # データセットの分割\n",
        "      train_Dataset,   # 分割するデータセット\n",
        "      [48000, 12000])  # 分割数\n",
        "\n",
        "print('train_dataset = ', len(train_dataset))\n",
        "print('valid_dataset = ', len(valid_dataset))\n",
        "print('test_dataset = ', len(test_dataset))\n"
      ]
    },
    {
      "cell_type": "code",
      "execution_count": 13,
      "metadata": {
        "id": "rp6pzY9_6qOC"
      },
      "outputs": [],
      "source": [
        "# set data loader\n",
        "batch_size=64\n",
        "train_loader = torch.utils.data.DataLoader(\n",
        "      dataset=train_dataset,  # データセットの指定\n",
        "      batch_size=batch_size,  # ミニバッチの指定\n",
        "      shuffle=True,  # シャッフルするかどうかの指定\n",
        "      num_workers=2)  # コアの数\n",
        "\n",
        "valid_loader = torch.utils.data.DataLoader(\n",
        "      dataset=valid_dataset,\n",
        "      batch_size=batch_size,\n",
        "      shuffle=False,\n",
        "      num_workers=2)\n",
        "\n",
        "test_loader = torch.utils.data.DataLoader(\n",
        "      dataset=test_dataset,\n",
        "      batch_size=batch_size,\n",
        "      shuffle=False,\n",
        "      num_workers=2)"
      ]
    },
    {
      "cell_type": "code",
      "execution_count": 4,
      "metadata": {
        "id": "xze9DUL16ysf"
      },
      "outputs": [],
      "source": [
        "# Multi Layer Perceptron Network\n",
        "class MLPNet (nn.Module):\n",
        "    def __init__(self):\n",
        "        super(MLPNet, self).__init__()\n",
        "        self.fc1 = nn.Linear(28 * 28 * 1, 128)\n",
        "        self.fc2 = nn.Linear(128, 10)\n",
        "#        self.dropout = nn.Dropout2d(0.4)\n",
        "\n",
        "    def forward(self, x):\n",
        "        y = torch.relu(self.fc1(x))\n",
        "#        y = torch.sigmoid(self.fc1(x))\n",
        "#        y = torch.tanh(self.fc1(x))\n",
        "#        y = self.dropout1(y)\n",
        "        z = self.fc2(y)\n",
        "        return z\n"
      ]
    },
    {
      "cell_type": "code",
      "execution_count": 10,
      "metadata": {
        "colab": {
          "base_uri": "https://localhost:8080/",
          "height": 419
        },
        "id": "cpsRyzC460Eq",
        "outputId": "73d485d8-f3e6-42c3-be60-fbf992b06e27"
      },
      "outputs": [
        {
          "name": "stdout",
          "output_type": "stream",
          "text": [
            "cpu\n",
            "MLPNet(\n",
            "  (fc1): Linear(in_features=784, out_features=128, bias=True)\n",
            "  (fc2): Linear(in_features=128, out_features=10, bias=True)\n",
            ")\n"
          ]
        }
      ],
      "source": [
        "# Load the saved model from the file\n",
        "\n",
        "# select device\n",
        "device = 'cuda' if torch.cuda.is_available() else 'cpu'\n",
        "net = MLPNet().to(device)\n",
        "if device == 'cpu':\n",
        "    net = torch.load('./trained_models/MLP_mnist.pth', map_location=torch.device('cpu'), weights_only=False)\n",
        "else:\n",
        "    net = torch.load('./trained_models/MLP_mnist.pth', weights_only=False)\n",
        "print(device)\n",
        "print(net)\n",
        "\n",
        "# optimizing\n",
        "criterion = nn.CrossEntropyLoss()\n",
        "#optimizer = optim.SGD(net.parameters(), lr=0.01, momentum=0.9, weight_decay=0.01)\n",
        "optimizer = optim.AdamW(net.parameters(), lr=0.01, weight_decay=0.01)\n"
      ]
    },
    {
      "cell_type": "code",
      "execution_count": 19,
      "metadata": {
        "id": "RQCzvxQw7W2S"
      },
      "outputs": [
        {
          "name": "stdout",
          "output_type": "stream",
          "text": [
            "train_accuracy: 98.425 %\n",
            "[[ -9.31153774  -4.2671051    8.68529224 ...  -0.1514914   -4.18324566\n",
            "  -13.93063068]\n",
            " [-17.93710899  -7.66156292 -14.93036938 ... -24.71265793  -5.41768265\n",
            "  -10.99696064]\n",
            " [ -2.97955799  -9.89301872  -8.38357735 ... -15.94122791  -0.09913111\n",
            "  -17.8880024 ]\n",
            " ...\n",
            " [-10.2529068   -0.79119664 -11.30435562 ... -24.25601196  16.50928688\n",
            "   -7.14565563]\n",
            " [-11.45661163  -6.23023129 -15.30533218 ... -25.91217804  21.79232407\n",
            "   -9.28656483]\n",
            " [-39.35433578 -28.89614868 -20.05836487 ...  -7.76903009 -11.65831852\n",
            "   13.68480873]]\n"
          ]
        }
      ],
      "source": [
        "# ======== eval_mode (train samples) ======\n",
        "net.eval()\n",
        "features = np.zeros((len(train_dataset), 10))\n",
        "\n",
        "with torch.no_grad():\n",
        "    total = 0\n",
        "    acc = 0\n",
        "    i = 0\n",
        "    for images, labels in train_loader:        \n",
        "        images, labels = images.view(-1, 28 * 28 * 1 ).to(device), labels.to(device)\n",
        "        outputs = net(images)\n",
        "        acc += (outputs.max(1)[1] == labels).sum().item()\n",
        "        total += labels.size(0)\n",
        "        len_batch = len(images)\n",
        "        features[i:i+len_batch] = outputs.cpu().detach().numpy()\n",
        "        i += len_batch\n",
        "    print('train_accuracy: {} %'.format(100 * acc / total)) \n",
        "\n",
        "print(features)"
      ]
    },
    {
      "cell_type": "markdown",
      "metadata": {},
      "source": [
        "# PCA for output features"
      ]
    },
    {
      "cell_type": "code",
      "execution_count": null,
      "metadata": {},
      "outputs": [],
      "source": []
    }
  ],
  "metadata": {
    "colab": {
      "authorship_tag": "ABX9TyOYEJJOlbfgLcXcbEq08VRe",
      "include_colab_link": true,
      "provenance": []
    },
    "kernelspec": {
      "display_name": "Python 3",
      "name": "python3"
    },
    "language_info": {
      "codemirror_mode": {
        "name": "ipython",
        "version": 3
      },
      "file_extension": ".py",
      "mimetype": "text/x-python",
      "name": "python",
      "nbconvert_exporter": "python",
      "pygments_lexer": "ipython3",
      "version": "3.12.4"
    }
  },
  "nbformat": 4,
  "nbformat_minor": 0
}
