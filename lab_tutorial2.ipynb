{
  "nbformat": 4,
  "nbformat_minor": 0,
  "metadata": {
    "colab": {
      "name": "lab_tutorial2.ipynb",
      "version": "0.3.2",
      "provenance": [],
      "include_colab_link": true
    },
    "kernelspec": {
      "name": "python3",
      "display_name": "Python 3"
    },
    "language_info": {
      "codemirror_mode": {
        "name": "ipython",
        "version": 3
      },
      "file_extension": ".py",
      "mimetype": "text/x-python",
      "name": "python",
      "nbconvert_exporter": "python",
      "pygments_lexer": "ipython3",
      "version": "3.7.4"
    },
    "accelerator": "GPU"
  },
  "cells": [
    {
      "cell_type": "markdown",
      "metadata": {
        "id": "view-in-github",
        "colab_type": "text"
      },
      "source": [
        "<a href=\"https://colab.research.google.com/github/namoshi/dl_intro/blob/master/lab_tutorial2.ipynb\" target=\"_parent\"><img src=\"https://colab.research.google.com/assets/colab-badge.svg\" alt=\"Open In Colab\"/></a>"
      ]
    },
    {
      "cell_type": "markdown",
      "metadata": {
        "colab_type": "text",
        "id": "mlggBOGoi-2Z"
      },
      "source": [
        "2.Auto Encoder\n",
        "\n",
        "AutoEncoder generally performs learning to minimize mean squared errors between input and output.\n",
        "\n",
        "Thus, the output of the AutoEncoder is the same as the input.\n",
        "\n",
        "The features of the hidden layer are applied to various tasks."
      ]
    },
    {
      "cell_type": "markdown",
      "metadata": {
        "colab_type": "text",
        "id": "-EX0lXxiDIiS"
      },
      "source": [
        "※If you want to perform learning, create a source file.\n",
        "\n",
        "Import of required library."
      ]
    },
    {
      "cell_type": "code",
      "metadata": {
        "colab_type": "code",
        "id": "-Y6T4rA4DJs2",
        "colab": {
          "base_uri": "https://localhost:8080/",
          "height": 53
        },
        "outputId": "dcb43afe-f1ca-4ea0-a8ae-7667d7f1e0af"
      },
      "source": [
        "import torch\n",
        "import torchvision\n",
        "import torchvision.transforms as transforms\n",
        "import torchvision.datasets as dsets\n",
        "import torch.nn as nn\n",
        "import torch.nn.functional as F\n",
        "import torch.optim as optim\n",
        "\n",
        "import numpy as np\n",
        "import matplotlib.pyplot as plt\n",
        "from skimage import io\n",
        "\n",
        "print(torch.__version__)\n",
        "if (torch.cuda.is_available):\n",
        "    print('Cuda is available')\n",
        "else:\n",
        "    print('Cuda is not avaibalbe')"
      ],
      "execution_count": 18,
      "outputs": [
        {
          "output_type": "stream",
          "text": [
            "1.1.0\n",
            "Cuda is available\n"
          ],
          "name": "stdout"
        }
      ]
    },
    {
      "cell_type": "markdown",
      "metadata": {
        "colab_type": "text",
        "id": "pGgOOQ75DSQs"
      },
      "source": [
        "Fixed seed value for random numbers."
      ]
    },
    {
      "cell_type": "code",
      "metadata": {
        "colab_type": "code",
        "id": "pTNzVjQMDSoF",
        "colab": {}
      },
      "source": [
        "torch.cuda.manual_seed_all(100100)\n",
        "torch.manual_seed(100100)\n",
        "np.random.seed(100100)"
      ],
      "execution_count": 0,
      "outputs": []
    },
    {
      "cell_type": "markdown",
      "metadata": {
        "colab_type": "text",
        "id": "oOb2vL4cDZQg"
      },
      "source": [
        "Parameter definition."
      ]
    },
    {
      "cell_type": "code",
      "metadata": {
        "colab_type": "code",
        "id": "_Gy9eboUDcKX",
        "colab": {}
      },
      "source": [
        "BATCH_SIZE      = 1000\n",
        "WEIGHT_DECAY    = 0.001\n",
        "LEARNING_RATE   = 0.01\n",
        "EPOCH           = 500\n",
        "NUM_WORKERS     = 2"
      ],
      "execution_count": 0,
      "outputs": []
    },
    {
      "cell_type": "markdown",
      "metadata": {
        "colab_type": "text",
        "id": "yJdLI6e-DlX3"
      },
      "source": [
        "Reading dataset."
      ]
    },
    {
      "cell_type": "code",
      "metadata": {
        "colab_type": "code",
        "id": "QWlVyeNRDlf3",
        "colab": {}
      },
      "source": [
        "mnist_train = dsets.MNIST(\".\", download=True, train=True)\n",
        "dataTrain = []\n",
        "dataTest = []\n",
        "\n",
        "\n",
        "mnist_test = dsets.MNIST(\".\", download=True, train=False)\n",
        "\n",
        "\n",
        "\n",
        "for i in range(len(mnist_train)):\n",
        "    dataTrain.append(np.array(mnist_train[i][0]))\n",
        "\n",
        "\n",
        "for i in range(len(mnist_test)):\n",
        "    dataTest.append(np.array(mnist_test[i][0]))\n",
        "\n",
        "#Change shape to (N, C, H, W) by reshape.\n",
        "dataTrain = np.array(dataTrain)\n",
        "dataTrain = dataTrain.reshape(len(mnist_train), 1, 28, 28)\n",
        "dataTrain = dataTrain / 255.0\n",
        "\n",
        "dataTest = np.array(dataTest)\n",
        "dataTest = dataTest.reshape(len(mnist_test), 1, 28, 28)\n",
        "dataTest = dataTest / 255.0\n",
        "\n",
        "datasizeTrain = len(dataTrain)\n",
        "datasizeTest  = len(dataTest)"
      ],
      "execution_count": 0,
      "outputs": []
    },
    {
      "cell_type": "markdown",
      "metadata": {
        "colab_type": "text",
        "id": "DWoWejkJEvEc"
      },
      "source": [
        "Define the model structure.\n",
        "\n",
        "In this example, a multi-layer perceptron having 10 units in hidden layer is used."
      ]
    },
    {
      "cell_type": "code",
      "metadata": {
        "colab_type": "code",
        "id": "IaOpPD6REvTe",
        "colab": {}
      },
      "source": [
        "class Network(nn.Module):\n",
        "    def __init__(self):\n",
        "        super(Network, self).__init__()\n",
        "        self.fc1 = nn.Linear(28*28*1, 10)\n",
        "        self.fc2 = nn.Linear(10, 28*28*1)\n",
        "\n",
        "    def forward(self, x):\n",
        "        x = x.view(-1, 28*28*1)\n",
        "        x = self.fc1(x)\n",
        "        x = F.relu(x)\n",
        "        x = self.fc2(x)\n",
        "        x = x.view(BATCH_SIZE, 1, 28, 28)\n",
        "        return x\n",
        "      \n",
        "\n",
        "net = Network()\n",
        "if torch.cuda.is_available():\n",
        "    net.to('cuda')"
      ],
      "execution_count": 0,
      "outputs": []
    },
    {
      "cell_type": "markdown",
      "metadata": {
        "colab_type": "text",
        "id": "0Bgv6qQVFmNd"
      },
      "source": [
        "Define loss and optimizer."
      ]
    },
    {
      "cell_type": "code",
      "metadata": {
        "colab_type": "code",
        "id": "y40xXZTwFmbm",
        "colab": {}
      },
      "source": [
        "criterion = nn.MSELoss()\n",
        "optimizer = optim.SGD(net.parameters(), lr=LEARNING_RATE, momentum=0.9, weight_decay=WEIGHT_DECAY)"
      ],
      "execution_count": 0,
      "outputs": []
    },
    {
      "cell_type": "markdown",
      "metadata": {
        "colab_type": "text",
        "id": "XefAQx4lFyIe"
      },
      "source": [
        "Input data into the model for each mini-batch and perform parameter update."
      ]
    },
    {
      "cell_type": "code",
      "metadata": {
        "colab_type": "code",
        "id": "fturdeYaFyau",
        "colab": {
          "base_uri": "https://localhost:8080/",
          "height": 1000
        },
        "outputId": "ece38459-6f85-47b6-a741-ecdf7e71630b"
      },
      "source": [
        "trainLoss = []\n",
        "testLoss  = []\n",
        "\n",
        "\n",
        "for epoch in range(1, EPOCH+1):\n",
        "    if (epoch % 10 == 0):\n",
        "        print(\"epoch\", epoch, \"iter\", epoch*(datasizeTrain//BATCH_SIZE))\n",
        "\n",
        "    net.train()\n",
        "    for i in range(0, datasizeTrain, BATCH_SIZE):\n",
        "        perm = np.random.permutation(datasizeTrain)\n",
        "        xBatch = dataTrain[perm[i:i+BATCH_SIZE]]\n",
        "        tBatch = dataTrain[perm[i:i+BATCH_SIZE]]\n",
        "        if torch.cuda.is_available():\n",
        "            xBatch = torch.from_numpy(xBatch.copy()).float().to('cuda')\n",
        "            tBatch = torch.from_numpy(tBatch.copy()).float().to('cuda')\n",
        "        else:\n",
        "            xBatch = torch.from_numpy(xBatch.copy()).float()\n",
        "            tBatch = torch.from_numpy(tBatch.copy()).float()\n",
        "        optimizer.zero_grad()\n",
        "        yBatch = net(xBatch)\n",
        "        loss = criterion(yBatch, tBatch)\n",
        "        loss.backward()\n",
        "        optimizer.step()\n",
        "\n",
        "    net.eval()\n",
        "    sumTrainLoss = 0.0\n",
        "    with torch.no_grad():\n",
        "        for i in range(0, datasizeTrain, BATCH_SIZE):\n",
        "            perm = np.random.permutation(datasizeTrain)\n",
        "            xBatch = dataTrain[perm[i:i+BATCH_SIZE]]\n",
        "            tBatch = dataTrain[perm[i:i+BATCH_SIZE]]\n",
        "            if torch.cuda.is_available():\n",
        "                xBatch = torch.from_numpy(xBatch.copy()).float().to('cuda')\n",
        "                tBatch = torch.from_numpy(tBatch.copy()).float().to('cuda')\n",
        "            else:\n",
        "                xBatch = torch.from_numpy(xBatch.copy()).float()\n",
        "                tBatch = torch.from_numpy(tBatch.copy()).float()\n",
        "            yBatch = net(xBatch)\n",
        "            loss = criterion(yBatch, tBatch)\n",
        "            if torch.cuda.is_available():\n",
        "                loss.to('cpu')\n",
        "            sumTrainLoss += float(loss.data.item()) * BATCH_SIZE\n",
        "        trainLoss.append(sumTrainLoss / datasizeTrain)\n",
        "\n",
        "        sumTestLoss = 0.0\n",
        "        for i in range(0, datasizeTest, BATCH_SIZE):\n",
        "            perm = np.random.permutation(datasizeTest)\n",
        "            xBatch = dataTest[perm[i:i+BATCH_SIZE]] # (BATCH_SIZE, 1, 128, 128)\n",
        "            tBatch = dataTest[perm[i:i+BATCH_SIZE]] # (BATCH_SIZE, 1, 128, 128)\n",
        "            if torch.cuda.is_available():\n",
        "                xBatch = torch.from_numpy(xBatch.copy()).float().to('cuda')\n",
        "                tBatch = torch.from_numpy(tBatch.copy()).float().to('cuda')\n",
        "            else:\n",
        "                xBatch = torch.from_numpy(xBatch.copy()).float()\n",
        "                tBatch = torch.from_numpy(tBatch.copy()).float()\n",
        "            yBatch = net(xBatch)\n",
        "            loss = criterion(yBatch, tBatch)\n",
        "            if torch.cuda.is_available():\n",
        "                loss.to('cpu')\n",
        "            sumTestLoss += float(loss.data.item()) * BATCH_SIZE\n",
        "        testLoss.append(sumTestLoss / datasizeTest)\n",
        "\n",
        "    if (epoch % 10 == 0):\n",
        "        print(\"\\ttrain mean loss={}\".format(sumTrainLoss / datasizeTrain))\n",
        "        print(\"\\ttest  mean loss={}\".format(sumTestLoss / datasizeTest))"
      ],
      "execution_count": 19,
      "outputs": [
        {
          "output_type": "stream",
          "text": [
            "epoch 10 iter 600\n",
            "\ttrain mean loss=0.12886116653680801\n",
            "\ttest  mean loss=0.1305565893650055\n",
            "epoch 20 iter 1200\n",
            "\ttrain mean loss=0.1111909557133913\n",
            "\ttest  mean loss=0.11311248689889908\n",
            "epoch 30 iter 1800\n",
            "\ttrain mean loss=0.0989633043607076\n",
            "\ttest  mean loss=0.10000286474823952\n",
            "epoch 40 iter 2400\n",
            "\ttrain mean loss=0.09079166166484356\n",
            "\ttest  mean loss=0.09283490926027298\n",
            "epoch 50 iter 3000\n",
            "\ttrain mean loss=0.0853173332909743\n",
            "\ttest  mean loss=0.08604148030281067\n",
            "epoch 60 iter 3600\n",
            "\ttrain mean loss=0.08154287760456404\n",
            "\ttest  mean loss=0.0828993335366249\n",
            "epoch 70 iter 4200\n",
            "\ttrain mean loss=0.07857572436332702\n",
            "\ttest  mean loss=0.07981532290577889\n",
            "epoch 80 iter 4800\n",
            "\ttrain mean loss=0.07644653382400672\n",
            "\ttest  mean loss=0.07711217403411866\n",
            "epoch 90 iter 5400\n",
            "\ttrain mean loss=0.07505895594755808\n",
            "\ttest  mean loss=0.07600331380963325\n",
            "epoch 100 iter 6000\n",
            "\ttrain mean loss=0.07395886232455572\n",
            "\ttest  mean loss=0.07463810816407204\n",
            "epoch 110 iter 6600\n",
            "\ttrain mean loss=0.07291662792364756\n",
            "\ttest  mean loss=0.07404738813638687\n",
            "epoch 120 iter 7200\n",
            "\ttrain mean loss=0.07235968771080176\n",
            "\ttest  mean loss=0.07330637499690056\n",
            "epoch 130 iter 7800\n",
            "\ttrain mean loss=0.07186572626233101\n",
            "\ttest  mean loss=0.07296104431152343\n",
            "epoch 140 iter 8400\n",
            "\ttrain mean loss=0.07127387262880802\n",
            "\ttest  mean loss=0.07230877876281738\n",
            "epoch 150 iter 9000\n",
            "\ttrain mean loss=0.070821829388539\n",
            "\ttest  mean loss=0.07160888314247131\n",
            "epoch 160 iter 9600\n",
            "\ttrain mean loss=0.06992965762813887\n",
            "\ttest  mean loss=0.07073672115802765\n",
            "epoch 170 iter 10200\n",
            "\ttrain mean loss=0.0689868949353695\n",
            "\ttest  mean loss=0.06979254856705666\n",
            "epoch 180 iter 10800\n",
            "\ttrain mean loss=0.06783931106328964\n",
            "\ttest  mean loss=0.06840407699346543\n",
            "epoch 190 iter 11400\n",
            "\ttrain mean loss=0.0665012693653504\n",
            "\ttest  mean loss=0.06671959310770034\n",
            "epoch 200 iter 12000\n",
            "\ttrain mean loss=0.06541656802097956\n",
            "\ttest  mean loss=0.06584614217281341\n",
            "epoch 210 iter 12600\n",
            "\ttrain mean loss=0.06440933495759964\n",
            "\ttest  mean loss=0.06453274711966514\n",
            "epoch 220 iter 13200\n",
            "\ttrain mean loss=0.06398013544579347\n",
            "\ttest  mean loss=0.0637282058596611\n",
            "epoch 230 iter 13800\n",
            "\ttrain mean loss=0.06353102487822374\n",
            "\ttest  mean loss=0.06371955275535583\n",
            "epoch 240 iter 14400\n",
            "\ttrain mean loss=0.06331212390214205\n",
            "\ttest  mean loss=0.06342458948493004\n",
            "epoch 250 iter 15000\n",
            "\ttrain mean loss=0.06306261507173379\n",
            "\ttest  mean loss=0.06313066110014916\n",
            "epoch 260 iter 15600\n",
            "\ttrain mean loss=0.06279473913212617\n",
            "\ttest  mean loss=0.06265567950904369\n",
            "epoch 270 iter 16200\n",
            "\ttrain mean loss=0.06236008399476608\n",
            "\ttest  mean loss=0.06258565336465835\n",
            "epoch 280 iter 16800\n",
            "\ttrain mean loss=0.06189826683451732\n",
            "\ttest  mean loss=0.062080058827996255\n",
            "epoch 290 iter 17400\n",
            "\ttrain mean loss=0.06110582922895749\n",
            "\ttest  mean loss=0.06141373366117477\n",
            "epoch 300 iter 18000\n",
            "\ttrain mean loss=0.060387406622370084\n",
            "\ttest  mean loss=0.06049364879727363\n",
            "epoch 310 iter 18600\n",
            "\ttrain mean loss=0.05941926358888547\n",
            "\ttest  mean loss=0.05952505134046078\n",
            "epoch 320 iter 19200\n",
            "\ttrain mean loss=0.05834793293227752\n",
            "\ttest  mean loss=0.058431155234575274\n",
            "epoch 330 iter 19800\n",
            "\ttrain mean loss=0.05729125713308652\n",
            "\ttest  mean loss=0.05720662698149681\n",
            "epoch 340 iter 20400\n",
            "\ttrain mean loss=0.056204827936987084\n",
            "\ttest  mean loss=0.05596228875219822\n",
            "epoch 350 iter 21000\n",
            "\ttrain mean loss=0.055335933715105055\n",
            "\ttest  mean loss=0.05525144748389721\n",
            "epoch 360 iter 21600\n",
            "\ttrain mean loss=0.05421376470476389\n",
            "\ttest  mean loss=0.05385284312069416\n",
            "epoch 370 iter 22200\n",
            "\ttrain mean loss=0.053318544787665206\n",
            "\ttest  mean loss=0.0533093485981226\n",
            "epoch 380 iter 22800\n",
            "\ttrain mean loss=0.05240765574077765\n",
            "\ttest  mean loss=0.05213994085788727\n",
            "epoch 390 iter 23400\n",
            "\ttrain mean loss=0.051400250382721425\n",
            "\ttest  mean loss=0.05098118335008621\n",
            "epoch 400 iter 24000\n",
            "\ttrain mean loss=0.05044917656729619\n",
            "\ttest  mean loss=0.05012990459799767\n",
            "epoch 410 iter 24600\n",
            "\ttrain mean loss=0.049759001346925895\n",
            "\ttest  mean loss=0.04911842085421085\n",
            "epoch 420 iter 25200\n",
            "\ttrain mean loss=0.049171347791949906\n",
            "\ttest  mean loss=0.04904429763555527\n",
            "epoch 430 iter 25800\n",
            "\ttrain mean loss=0.048849820035199325\n",
            "\ttest  mean loss=0.04873204566538334\n",
            "epoch 440 iter 26400\n",
            "\ttrain mean loss=0.04845066945999861\n",
            "\ttest  mean loss=0.047999069467186926\n",
            "epoch 450 iter 27000\n",
            "\ttrain mean loss=0.048086107894778254\n",
            "\ttest  mean loss=0.04766400381922722\n",
            "epoch 460 iter 27600\n",
            "\ttrain mean loss=0.04753298070281744\n",
            "\ttest  mean loss=0.0473913874477148\n",
            "epoch 470 iter 28200\n",
            "\ttrain mean loss=0.04742102343589068\n",
            "\ttest  mean loss=0.04705414958298206\n",
            "epoch 480 iter 28800\n",
            "\ttrain mean loss=0.04686415748049815\n",
            "\ttest  mean loss=0.04657914154231548\n",
            "epoch 490 iter 29400\n",
            "\ttrain mean loss=0.04671124238520861\n",
            "\ttest  mean loss=0.046319007873535156\n",
            "epoch 500 iter 30000\n",
            "\ttrain mean loss=0.0464760709553957\n",
            "\ttest  mean loss=0.04606436118483544\n"
          ],
          "name": "stdout"
        }
      ]
    },
    {
      "cell_type": "markdown",
      "metadata": {
        "colab_type": "text",
        "id": "IKNhoL4UGATY"
      },
      "source": [
        "Draw the graph of training curve of loss"
      ]
    },
    {
      "cell_type": "code",
      "metadata": {
        "colab_type": "code",
        "id": "-XCJO5bnGAZ_",
        "colab": {
          "base_uri": "https://localhost:8080/",
          "height": 390
        },
        "outputId": "0c7a62fb-635b-4167-b2b6-d733a51adde1"
      },
      "source": [
        "plt.figure(figsize=(6,6))\n",
        "\n",
        "plt.plot(range(EPOCH), trainLoss)\n",
        "plt.plot(range(EPOCH), testLoss)\n",
        "plt.legend(['train loss', 'test loss'])\n",
        "plt.title('loss')\n",
        "plt.savefig(\"loss.png\")"
      ],
      "execution_count": 20,
      "outputs": [
        {
          "output_type": "display_data",
          "data": {
            "image/png": "[encoded data removed]",
            "text/plain": [
              "<Figure size 432x432 with 1 Axes>"
            ]
          },
          "metadata": {
            "tags": []
          }
        }
      ]
    },
    {
      "cell_type": "markdown",
      "metadata": {
        "colab_type": "text",
        "id": "Esojt9NeGaFN"
      },
      "source": [
        "Plot the some output result of the network as an image."
      ]
    },
    {
      "cell_type": "code",
      "metadata": {
        "colab_type": "code",
        "id": "Xpxyulr3GaLv",
        "colab": {
          "base_uri": "https://localhost:8080/",
          "height": 244
        },
        "outputId": "7fd57a51-bdb2-44ae-fdb0-314974285d67"
      },
      "source": [
        "result_train = np.zeros((datasizeTrain, 1, 28, 28))\n",
        "result_test = np.zeros((datasizeTest, 1, 28, 28))\n",
        "\n",
        "#Get network output for train data.\n",
        "for i in range(0, datasizeTrain, BATCH_SIZE):\n",
        "    xBatch = dataTrain[i:i+BATCH_SIZE]\n",
        "    if torch.cuda.is_available():\n",
        "        xBatch = torch.from_numpy(xBatch.copy()).float().to('cuda')\n",
        "    else:\n",
        "        xBatch = torch.from_numpy(xBatch.copy()).float()\n",
        "    re = net(xBatch)\n",
        "    if torch.cuda.is_available():\n",
        "        result_train[i:i+BATCH_SIZE] = re.to('cpu').data\n",
        "    else:\n",
        "        result_train[i:i+BATCH_SIZE] = re.data\n",
        "\n",
        "#Get network output for test data.\n",
        "for i in range(0, datasizeTest, BATCH_SIZE):\n",
        "    xBatch = dataTest[i:i+BATCH_SIZE]\n",
        "    if torch.cuda.is_available():\n",
        "        xBatch = torch.from_numpy(xBatch.copy()).float().to('cuda')\n",
        "    else:\n",
        "        xBatch = torch.from_numpy(xBatch.copy()).float()\n",
        "    re = net(xBatch)\n",
        "\n",
        "    if torch.cuda.is_available():\n",
        "        result_test[i:i+BATCH_SIZE] = re.to('cpu').data\n",
        "    else:\n",
        "        result_test[i:i+BATCH_SIZE] = re.data\n",
        "\n",
        "  \n",
        "#Save the image.\n",
        "#for i in range(datasizeTrain):\n",
        "#\tpic = result_train[i]\n",
        "#\tpic= pic.reshape((28,28))\n",
        "#\tio.imsave(\"./imgtrain%d.png\"%i, pic)\n",
        "\n",
        "\n",
        "#for i in range(datasizeTest):\n",
        "#\tpic = result_test[i]\n",
        "#\tpic= pic.reshape((28,28))\n",
        "#\tio.imsave(\"./imgtest%d.png\"%i, pic)\n",
        "\n",
        "\n",
        "# display the images\n",
        "#%matplotlib inline\n",
        "#import matplotlib.pyplot as plt\n",
        "\n",
        "n = 10\n",
        "plt.figure(figsize=(20, 4))\n",
        "for i in range(n):\n",
        "    ax = plt.subplot(2, n, i+1)\n",
        "    plt.imshow(dataTest[i].reshape(28, 28))\n",
        "    plt.gray()\n",
        "    ax.get_xaxis().set_visible(False)\n",
        "    ax.get_yaxis().set_visible(False)\n",
        "\n",
        "    ax = plt.subplot(2, n, i+1+n)\n",
        "    plt.imshow(result_test[i].reshape(28, 28))\n",
        "    plt.gray()\n",
        "    ax.get_xaxis().set_visible(False)\n",
        "    ax.get_yaxis().set_visible(False)\n",
        "plt.show()"
      ],
      "execution_count": 25,
      "outputs": [
        {
          "output_type": "display_data",
          "data": {
            "image/png": "[encoded data removed]",
            "text/plain": [
              "<Figure size 1440x288 with 20 Axes>"
            ]
          },
          "metadata": {
            "tags": []
          }
        }
      ]
    }
  ]
}