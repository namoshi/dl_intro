{
 "cells": [
  {
   "cell_type": "markdown",
   "metadata": {
    "colab_type": "text",
    "id": "view-in-github"
   },
   "source": [
    "<a href=\"https://colab.research.google.com/github/namoshi/dl_intro/blob/master/lab_tutorial2.ipynb\" target=\"_parent\"><img src=\"https://colab.research.google.com/assets/colab-badge.svg\" alt=\"Open In Colab\"/></a>"
   ]
  },
  {
   "cell_type": "markdown",
   "metadata": {
    "colab_type": "text",
    "id": "mlggBOGoi-2Z"
   },
   "source": [
    "2.Auto Encoder\n",
    "\n",
    "AutoEncoder generally performs learning to minimize mean squared errors between input and output.\n",
    "\n",
    "Thus, the output of the AutoEncoder is the same as the input.\n",
    "\n",
    "The features of the hidden layer are applied to various tasks."
   ]
  },
  {
   "cell_type": "markdown",
   "metadata": {
    "colab_type": "text",
    "id": "-EX0lXxiDIiS"
   },
   "source": [
    "※If you want to perform learning, create a source file.\n",
    "\n",
    "Import of required library."
   ]
  },
  {
   "cell_type": "code",
   "execution_count": 57,
   "metadata": {
    "colab": {},
    "colab_type": "code",
    "id": "-Y6T4rA4DJs2"
   },
   "outputs": [],
   "source": [
    "import torch\n",
    "import torchvision\n",
    "import torchvision.transforms as transforms\n",
    "import torchvision.datasets as dsets\n",
    "import torch.nn as nn\n",
    "import torch.nn.functional as F\n",
    "import torch.optim as optim\n",
    "\n",
    "import numpy as np\n",
    "import matplotlib.pyplot as plt\n",
    "from skimage import io"
   ]
  },
  {
   "cell_type": "markdown",
   "metadata": {
    "colab_type": "text",
    "id": "pGgOOQ75DSQs"
   },
   "source": [
    "Fixed seed value for random numbers."
   ]
  },
  {
   "cell_type": "code",
   "execution_count": 58,
   "metadata": {
    "colab": {},
    "colab_type": "code",
    "id": "pTNzVjQMDSoF"
   },
   "outputs": [],
   "source": [
    "torch.cuda.manual_seed_all(100100)\n",
    "torch.manual_seed(100100)\n",
    "np.random.seed(100100)"
   ]
  },
  {
   "cell_type": "markdown",
   "metadata": {
    "colab_type": "text",
    "id": "oOb2vL4cDZQg"
   },
   "source": [
    "Parameter definition."
   ]
  },
  {
   "cell_type": "code",
   "execution_count": 59,
   "metadata": {
    "colab": {},
    "colab_type": "code",
    "id": "_Gy9eboUDcKX"
   },
   "outputs": [],
   "source": [
    "BATCH_SIZE      = 1000\n",
    "WEIGHT_DECAY    = 0.001\n",
    "LEARNING_RATE   = 0.01\n",
    "EPOCH           = 500\n",
    "NUM_WORKERS     = 2"
   ]
  },
  {
   "cell_type": "markdown",
   "metadata": {
    "colab_type": "text",
    "id": "yJdLI6e-DlX3"
   },
   "source": [
    "Reading dataset."
   ]
  },
  {
   "cell_type": "code",
   "execution_count": 60,
   "metadata": {
    "colab": {},
    "colab_type": "code",
    "id": "QWlVyeNRDlf3"
   },
   "outputs": [],
   "source": [
    "mnist_train = dsets.MNIST(\".\", download=True, train=True)\n",
    "dataTrain = []\n",
    "dataTest = []\n",
    "\n",
    "\n",
    "mnist_test = dsets.MNIST(\".\", download=True, train=False)\n",
    "\n",
    "\n",
    "\n",
    "for i in range(len(mnist_train)):\n",
    "    dataTrain.append(np.array(mnist_train[i][0]))\n",
    "\n",
    "\n",
    "for i in range(len(mnist_test)):\n",
    "    dataTest.append(np.array(mnist_test[i][0]))\n",
    "\n",
    "#Change shape to (N, C, H, W) by reshape.\n",
    "dataTrain = np.array(dataTrain)\n",
    "dataTrain = dataTrain.reshape(len(mnist_train), 1, 28, 28)\n",
    "dataTrain = dataTrain / 255.0\n",
    "\n",
    "dataTest = np.array(dataTest)\n",
    "dataTest = dataTest.reshape(len(mnist_test), 1, 28, 28)\n",
    "dataTest = dataTest / 255.0\n",
    "\n",
    "datasizeTrain = len(dataTrain)\n",
    "datasizeTest  = len(dataTest)"
   ]
  },
  {
   "cell_type": "markdown",
   "metadata": {
    "colab_type": "text",
    "id": "DWoWejkJEvEc"
   },
   "source": [
    "Define the model structure.\n",
    "\n",
    "In this example, a multi-layer perceptron having 10 units in hidden layer is used."
   ]
  },
  {
   "cell_type": "code",
   "execution_count": 61,
   "metadata": {
    "colab": {},
    "colab_type": "code",
    "id": "IaOpPD6REvTe"
   },
   "outputs": [],
   "source": [
    "class Network(nn.Module):\n",
    "    def __init__(self):\n",
    "        super(Network, self).__init__()\n",
    "        self.fc1 = nn.Linear(28*28*1, 10)\n",
    "        self.fc2 = nn.Linear(10, 28*28*1)\n",
    "\n",
    "    def forward(self, x):\n",
    "        x = x.view(-1, 28*28*1)\n",
    "        x = self.fc1(x)\n",
    "        x = F.relu(x)\n",
    "        x = self.fc2(x)\n",
    "        x = x.view(BATCH_SIZE, 1, 28, 28)\n",
    "        return x\n",
    "      \n",
    "\n",
    "net = Network()\n",
    "if torch.cuda.is_available():\n",
    "    net.cuda()"
   ]
  },
  {
   "cell_type": "markdown",
   "metadata": {
    "colab_type": "text",
    "id": "0Bgv6qQVFmNd"
   },
   "source": [
    "Define loss and optimizer."
   ]
  },
  {
   "cell_type": "code",
   "execution_count": 62,
   "metadata": {
    "colab": {},
    "colab_type": "code",
    "id": "y40xXZTwFmbm"
   },
   "outputs": [],
   "source": [
    "criterion = nn.MSELoss()\n",
    "optimizer = optim.SGD(net.parameters(), lr=LEARNING_RATE, momentum=0.9, weight_decay=WEIGHT_DECAY)"
   ]
  },
  {
   "cell_type": "markdown",
   "metadata": {
    "colab_type": "text",
    "id": "XefAQx4lFyIe"
   },
   "source": [
    "Input data into the model for each mini-batch and perform parameter update."
   ]
  },
  {
   "cell_type": "code",
   "execution_count": 63,
   "metadata": {
    "colab": {},
    "colab_type": "code",
    "id": "fturdeYaFyau"
   },
   "outputs": [
    {
     "name": "stdout",
     "output_type": "stream",
     "text": [
      "epoch 10 iter 600\n",
      "\ttrain mean loss=0.12878508220116297\n",
      "\ttest  mean loss=0.13053371012210846\n",
      "epoch 20 iter 1200\n",
      "\ttrain mean loss=0.11127943682173888\n",
      "\ttest  mean loss=0.1127384327352047\n",
      "epoch 30 iter 1800\n",
      "\ttrain mean loss=0.09913430536786715\n",
      "\ttest  mean loss=0.09996178597211838\n",
      "epoch 40 iter 2400\n",
      "\ttrain mean loss=0.09100556795795758\n",
      "\ttest  mean loss=0.09244673997163773\n",
      "epoch 50 iter 3000\n",
      "\ttrain mean loss=0.08526805328826109\n",
      "\ttest  mean loss=0.08687684088945388\n",
      "epoch 60 iter 3600\n",
      "\ttrain mean loss=0.08139122414092223\n",
      "\ttest  mean loss=0.08223465904593467\n",
      "epoch 70 iter 4200\n",
      "\ttrain mean loss=0.0785021111369133\n",
      "\ttest  mean loss=0.07903124913573265\n",
      "epoch 80 iter 4800\n",
      "\ttrain mean loss=0.07648219838738442\n",
      "\ttest  mean loss=0.0774450421333313\n",
      "epoch 90 iter 5400\n",
      "\ttrain mean loss=0.07490664298335711\n",
      "\ttest  mean loss=0.07544931992888451\n",
      "epoch 100 iter 6000\n",
      "\ttrain mean loss=0.07385997797052066\n",
      "\ttest  mean loss=0.07424059063196183\n",
      "epoch 110 iter 6600\n",
      "\ttrain mean loss=0.07291118564705054\n",
      "\ttest  mean loss=0.07386895939707756\n",
      "epoch 120 iter 7200\n",
      "\ttrain mean loss=0.0722200658172369\n",
      "\ttest  mean loss=0.0730980820953846\n",
      "epoch 130 iter 7800\n",
      "\ttrain mean loss=0.07182466747860114\n",
      "\ttest  mean loss=0.07229145541787148\n",
      "epoch 140 iter 8400\n",
      "\ttrain mean loss=0.07116107704738776\n",
      "\ttest  mean loss=0.07219896018505097\n",
      "epoch 150 iter 9000\n",
      "\ttrain mean loss=0.07072626811762651\n",
      "\ttest  mean loss=0.07128896564245224\n",
      "epoch 160 iter 9600\n",
      "\ttrain mean loss=0.0700369435052077\n",
      "\ttest  mean loss=0.07057839706540107\n",
      "epoch 170 iter 10200\n",
      "\ttrain mean loss=0.0688434233268102\n",
      "\ttest  mean loss=0.06959996074438095\n",
      "epoch 180 iter 10800\n",
      "\ttrain mean loss=0.0680030882358551\n",
      "\ttest  mean loss=0.06862298026680946\n",
      "epoch 190 iter 11400\n",
      "\ttrain mean loss=0.0665078729391098\n",
      "\ttest  mean loss=0.06680613160133361\n",
      "epoch 200 iter 12000\n",
      "\ttrain mean loss=0.0653810237844785\n",
      "\ttest  mean loss=0.06576597169041634\n",
      "epoch 210 iter 12600\n",
      "\ttrain mean loss=0.06444376036524772\n",
      "\ttest  mean loss=0.06490682139992714\n",
      "epoch 220 iter 13200\n",
      "\ttrain mean loss=0.06407661773264409\n",
      "\ttest  mean loss=0.06411810144782067\n",
      "epoch 230 iter 13800\n",
      "\ttrain mean loss=0.06359259982903799\n",
      "\ttest  mean loss=0.06355847120285034\n",
      "epoch 240 iter 14400\n",
      "\ttrain mean loss=0.06341579966247082\n",
      "\ttest  mean loss=0.06350732818245888\n",
      "epoch 250 iter 15000\n",
      "\ttrain mean loss=0.06314680092036724\n",
      "\ttest  mean loss=0.06331843361258507\n",
      "epoch 260 iter 15600\n",
      "\ttrain mean loss=0.06275290418416261\n",
      "\ttest  mean loss=0.06274401731789112\n",
      "epoch 270 iter 16200\n",
      "\ttrain mean loss=0.06236330183843772\n",
      "\ttest  mean loss=0.062361466139554976\n",
      "epoch 280 iter 16800\n",
      "\ttrain mean loss=0.06191633554796378\n",
      "\ttest  mean loss=0.06206690631806851\n",
      "epoch 290 iter 17400\n",
      "\ttrain mean loss=0.06136035124460856\n",
      "\ttest  mean loss=0.06138354316353798\n",
      "epoch 300 iter 18000\n",
      "\ttrain mean loss=0.06042100470513105\n",
      "\ttest  mean loss=0.06050169877707958\n",
      "epoch 310 iter 18600\n",
      "\ttrain mean loss=0.05947273727506399\n",
      "\ttest  mean loss=0.059070592373609544\n",
      "epoch 320 iter 19200\n",
      "\ttrain mean loss=0.058257070183753965\n",
      "\ttest  mean loss=0.05863158777356148\n",
      "epoch 330 iter 19800\n",
      "\ttrain mean loss=0.05747632663697004\n",
      "\ttest  mean loss=0.0573293499648571\n",
      "epoch 340 iter 20400\n",
      "\ttrain mean loss=0.05636539235711098\n",
      "\ttest  mean loss=0.05619144886732101\n",
      "epoch 350 iter 21000\n",
      "\ttrain mean loss=0.05528824410090844\n",
      "\ttest  mean loss=0.05496154054999351\n",
      "epoch 360 iter 21600\n",
      "\ttrain mean loss=0.05426115468144417\n",
      "\ttest  mean loss=0.05384137257933617\n",
      "epoch 370 iter 22200\n",
      "\ttrain mean loss=0.05336578941593568\n",
      "\ttest  mean loss=0.05322339162230492\n",
      "epoch 380 iter 22800\n",
      "\ttrain mean loss=0.0524006113409996\n",
      "\ttest  mean loss=0.05256825163960457\n",
      "epoch 390 iter 23400\n",
      "\ttrain mean loss=0.051445972236494227\n",
      "\ttest  mean loss=0.051128783449530604\n",
      "epoch 400 iter 24000\n",
      "\ttrain mean loss=0.05059435907751322\n",
      "\ttest  mean loss=0.050535520911216734\n",
      "epoch 410 iter 24600\n",
      "\ttrain mean loss=0.04982042002181212\n",
      "\ttest  mean loss=0.04941748455166817\n",
      "epoch 420 iter 25200\n",
      "\ttrain mean loss=0.04930186079194148\n",
      "\ttest  mean loss=0.04902552627027035\n",
      "epoch 430 iter 25800\n",
      "\ttrain mean loss=0.04889803199718396\n",
      "\ttest  mean loss=0.0486363060772419\n",
      "epoch 440 iter 26400\n",
      "\ttrain mean loss=0.04850520131488641\n",
      "\ttest  mean loss=0.048064205795526505\n",
      "epoch 450 iter 27000\n",
      "\ttrain mean loss=0.04810800099124511\n",
      "\ttest  mean loss=0.048047011718153954\n",
      "epoch 460 iter 27600\n",
      "\ttrain mean loss=0.04781690003971259\n",
      "\ttest  mean loss=0.04750807769596577\n",
      "epoch 470 iter 28200\n",
      "\ttrain mean loss=0.04736309560636679\n",
      "\ttest  mean loss=0.04701950363814831\n",
      "epoch 480 iter 28800\n",
      "\ttrain mean loss=0.04709298380961021\n",
      "\ttest  mean loss=0.046660303696990015\n",
      "epoch 490 iter 29400\n",
      "\ttrain mean loss=0.04679232221096754\n",
      "\ttest  mean loss=0.04625835753977299\n",
      "epoch 500 iter 30000\n",
      "\ttrain mean loss=0.04652024445434411\n",
      "\ttest  mean loss=0.04626565463840961\n"
     ]
    }
   ],
   "source": [
    "trainLoss = []\n",
    "testLoss  = []\n",
    "\n",
    "\n",
    "for epoch in range(1, EPOCH+1):\n",
    "    if (epoch % 10 == 0):\n",
    "        print(\"epoch\", epoch, \"iter\", epoch*(datasizeTrain//BATCH_SIZE))\n",
    "\n",
    "    net.train()\n",
    "    for i in range(0, datasizeTrain, BATCH_SIZE):\n",
    "        perm = np.random.permutation(datasizeTrain)\n",
    "        xBatch = dataTrain[perm[i:i+BATCH_SIZE]]\n",
    "        tBatch = dataTrain[perm[i:i+BATCH_SIZE]]\n",
    "        xBatch = torch.from_numpy(xBatch.copy()).float()\n",
    "        tBatch = torch.from_numpy(tBatch.copy()).float()\n",
    "        if torch.cuda.is_available():\n",
    "            xBatch.cuda()\n",
    "            tBatch.cuda()\n",
    "        optimizer.zero_grad()\n",
    "        yBatch = net(xBatch)\n",
    "        loss = criterion(yBatch, tBatch)\n",
    "        loss.backward()\n",
    "        optimizer.step()\n",
    "\n",
    "    net.eval()\n",
    "    sumTrainLoss = 0.0\n",
    "    with torch.no_grad():\n",
    "        for i in range(0, datasizeTrain, BATCH_SIZE):\n",
    "            perm = np.random.permutation(datasizeTrain)\n",
    "            xBatch = dataTrain[perm[i:i+BATCH_SIZE]]\n",
    "            tBatch = dataTrain[perm[i:i+BATCH_SIZE]]\n",
    "            xBatch = torch.from_numpy(xBatch.copy()).float()\n",
    "            tBatch = torch.from_numpy(tBatch.copy()).float()\n",
    "            if torch.cuda.is_available():\n",
    "                xBatch.cuda()\n",
    "                tBatch.cuda()\n",
    "            yBatch = net(xBatch)\n",
    "            loss = criterion(yBatch, tBatch)\n",
    "            sumTrainLoss += float(loss.cpu().data.item()) * BATCH_SIZE\n",
    "        trainLoss.append(sumTrainLoss / datasizeTrain)\n",
    "\n",
    "        sumTestLoss = 0.0\n",
    "        for i in range(0, datasizeTest, BATCH_SIZE):\n",
    "            perm = np.random.permutation(datasizeTest)\n",
    "            xBatch = dataTest[perm[i:i+BATCH_SIZE]] # (BATCH_SIZE, 1, 128, 128)\n",
    "            tBatch = dataTest[perm[i:i+BATCH_SIZE]] # (BATCH_SIZE, 1, 128, 128)\n",
    "            xBatch = torch.from_numpy(xBatch.copy()).float()\n",
    "            tBatch = torch.from_numpy(tBatch.copy()).float()\n",
    "            if torch.cuda.is_available():\n",
    "                xBatch.cuda()\n",
    "                tBatch.cuda()\n",
    "            yBatch = net(xBatch)\n",
    "            loss = criterion(yBatch, tBatch)\n",
    "            sumTestLoss += float(loss.cpu().data.item()) * BATCH_SIZE\n",
    "        testLoss.append(sumTestLoss / datasizeTest)\n",
    "\n",
    "    if (epoch % 10 == 0):\n",
    "        print(\"\\ttrain mean loss={}\".format(sumTrainLoss / datasizeTrain))\n",
    "        print(\"\\ttest  mean loss={}\".format(sumTestLoss / datasizeTest))"
   ]
  },
  {
   "cell_type": "markdown",
   "metadata": {
    "colab_type": "text",
    "id": "IKNhoL4UGATY"
   },
   "source": [
    "Draw the graph of training curve of loss"
   ]
  },
  {
   "cell_type": "code",
   "execution_count": 64,
   "metadata": {
    "colab": {},
    "colab_type": "code",
    "id": "-XCJO5bnGAZ_"
   },
   "outputs": [
    {
     "data": {
      "image/png": "[encoded data removed]",
      "text/plain": [
       "<Figure size 432x432 with 1 Axes>"
      ]
     },
     "metadata": {
      "needs_background": "light"
     },
     "output_type": "display_data"
    }
   ],
   "source": [
    "plt.figure(figsize=(6,6))\n",
    "\n",
    "plt.plot(range(EPOCH), trainLoss)\n",
    "plt.plot(range(EPOCH), testLoss)\n",
    "plt.legend(['train loss', 'test loss'])\n",
    "plt.title('loss')\n",
    "plt.savefig(\"loss.png\")"
   ]
  },
  {
   "cell_type": "markdown",
   "metadata": {
    "colab_type": "text",
    "id": "Esojt9NeGaFN"
   },
   "source": [
    "Plot the some output result of the network as an image."
   ]
  },
  {
   "cell_type": "code",
   "execution_count": 65,
   "metadata": {
    "colab": {},
    "colab_type": "code",
    "id": "Xpxyulr3GaLv"
   },
   "outputs": [
    {
     "data": {
      "image/png": "[encoded data removed]",
      "text/plain": [
       "<Figure size 1440x288 with 20 Axes>"
      ]
     },
     "metadata": {
      "needs_background": "light"
     },
     "output_type": "display_data"
    }
   ],
   "source": [
    "result = np.zeros((datasizeTrain, 1, 28, 28))\n",
    "result_test = np.zeros((datasizeTest, 1, 28, 28))\n",
    "\n",
    "#Get network output for train data.\n",
    "for i in range(0, datasizeTrain, BATCH_SIZE):\n",
    "    xBatch = dataTrain[i:i+BATCH_SIZE]\n",
    "    xBatch = torch.from_numpy(xBatch.copy()).float()\n",
    "#    if torch.cuda.is_available():\n",
    "#        xBatch.cuda\n",
    "    re = net(xBatch)\n",
    "    if torch.cuda.is_available():\n",
    "        re.cpu()\n",
    "    result[i:i+BATCH_SIZE] = re.data\n",
    "\n",
    "#Get network output for test data.\n",
    "for i in range(0, datasizeTest, BATCH_SIZE):\n",
    "    xBatch = dataTest[i:i+BATCH_SIZE]\n",
    "    xBatch = torch.from_numpy(xBatch.copy()).float()\n",
    "#    if torch.cuda.is_available():\n",
    "#        xBatch.cuda()\n",
    "    re = net(xBatch)\n",
    "\n",
    "    if torch.cuda.is_available():\n",
    "        re.cpu()\n",
    "    result_test[i:i+BATCH_SIZE] = re.data\n",
    "\n",
    "  \n",
    "#Save the image.\n",
    "#for i in range(datasizeTrain):\n",
    "#\tpic = result[i]\n",
    "#\tpic= pic.reshape((28,28))\n",
    "#\tio.imsave(\"./imgtrain%d.png\"%i, pic)\n",
    "\n",
    "\n",
    "#for i in range(datasizeTest):\n",
    "#\tpic = result_test[i]\n",
    "#\tpic= pic.reshape((28,28))\n",
    "#\tio.imsave(\"./imgtest%d.png\"%i, pic)\n",
    "\n",
    "\n",
    "# display the images\n",
    "#%matplotlib inline\n",
    "#import matplotlib.pyplot as plt\n",
    "\n",
    "n = 10\n",
    "plt.figure(figsize=(20, 4))\n",
    "for i in range(n):\n",
    "    ax = plt.subplot(2, n, i+1)\n",
    "    plt.imshow(dataTest[i].reshape(28, 28))\n",
    "    plt.gray()\n",
    "    ax.get_xaxis().set_visible(False)\n",
    "    ax.get_yaxis().set_visible(False)\n",
    "\n",
    "    ax = plt.subplot(2, n, i+1+n)\n",
    "    plt.imshow(result_test[i].reshape(28, 28))\n",
    "    plt.gray()\n",
    "    ax.get_xaxis().set_visible(False)\n",
    "    ax.get_yaxis().set_visible(False)\n",
    "plt.show()"
   ]
  }
 ],
 "metadata": {
  "colab": {
   "include_colab_link": true,
   "name": "lab_tutorial2.ipynb",
   "provenance": [],
   "version": "0.3.2"
  },
  "kernelspec": {
   "display_name": "Python 3",
   "language": "python",
   "name": "python3"
  },
  "language_info": {
   "codemirror_mode": {
    "name": "ipython",
    "version": 3
   },
   "file_extension": ".py",
   "mimetype": "text/x-python",
   "name": "python",
   "nbconvert_exporter": "python",
   "pygments_lexer": "ipython3",
   "version": "3.7.4"
  }
 },
 "nbformat": 4,
 "nbformat_minor": 4
}
