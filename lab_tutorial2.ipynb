{
  "nbformat": 4,
  "nbformat_minor": 0,
  "metadata": {
    "accelerator": "GPU",
    "colab": {
      "name": "lab_tutorial2.ipynb",
      "version": "0.3.2",
      "provenance": [],
      "include_colab_link": true
    },
    "kernelspec": {
      "display_name": "Python 3",
      "language": "python",
      "name": "python3"
    },
    "language_info": {
      "codemirror_mode": {
        "name": "ipython",
        "version": 3
      },
      "file_extension": ".py",
      "mimetype": "text/x-python",
      "name": "python",
      "nbconvert_exporter": "python",
      "pygments_lexer": "ipython3",
      "version": "3.7.3"
    }
  },
  "cells": [
    {
      "cell_type": "markdown",
      "metadata": {
        "id": "view-in-github",
        "colab_type": "text"
      },
      "source": [
        "<a href=\"https://colab.research.google.com/github/namoshi/dl_intro/blob/master/lab_tutorial2.ipynb\" target=\"_parent\"><img src=\"https://colab.research.google.com/assets/colab-badge.svg\" alt=\"Open In Colab\"/></a>"
      ]
    },
    {
      "cell_type": "markdown",
      "metadata": {
        "colab_type": "text",
        "id": "mlggBOGoi-2Z"
      },
      "source": [
        "2.Auto Encoder\n",
        "\n",
        "AutoEncoder generally performs learning to minimize mean squared errors between input and output.\n",
        "\n",
        "Thus, the output of the AutoEncoder is the same as the input.\n",
        "\n",
        "The features of the hidden layer are applied to various tasks."
      ]
    },
    {
      "cell_type": "markdown",
      "metadata": {
        "colab_type": "text",
        "id": "-EX0lXxiDIiS"
      },
      "source": [
        "※If you want to perform learning, create a source file.\n",
        "\n",
        "Import of required library."
      ]
    },
    {
      "cell_type": "code",
      "metadata": {
        "colab_type": "code",
        "id": "-Y6T4rA4DJs2",
        "outputId": "dcb43afe-f1ca-4ea0-a8ae-7667d7f1e0af",
        "colab": {
          "base_uri": "https://localhost:8080/",
          "height": 53
        }
      },
      "source": [
        "import torch\n",
        "import torchvision\n",
        "import torchvision.transforms as transforms\n",
        "import torchvision.datasets as dsets\n",
        "import torch.nn as nn\n",
        "import torch.nn.functional as F\n",
        "import torch.optim as optim\n",
        "\n",
        "import numpy as np\n",
        "import matplotlib.pyplot as plt\n",
        "from skimage import io\n",
        "\n",
        "print('torch version is {}'.format(torch.__version__))\n",
        "if (torch.cuda.is_available):\n",
        "    print('Cuda is available')\n",
        "else:\n",
        "    print('Cuda is not avaibalbe')"
      ],
      "execution_count": 0,
      "outputs": [
        {
          "output_type": "stream",
          "text": [
            "torch version is 1.0.0\n",
            "Cuda is available\n"
          ],
          "name": "stdout"
        }
      ]
    },
    {
      "cell_type": "markdown",
      "metadata": {
        "colab_type": "text",
        "id": "pGgOOQ75DSQs"
      },
      "source": [
        "Fixed seed value for random numbers."
      ]
    },
    {
      "cell_type": "code",
      "metadata": {
        "colab_type": "code",
        "id": "pTNzVjQMDSoF",
        "colab": {}
      },
      "source": [
        "torch.cuda.manual_seed_all(100100)\n",
        "torch.manual_seed(100100)\n",
        "np.random.seed(100100)"
      ],
      "execution_count": 0,
      "outputs": []
    },
    {
      "cell_type": "markdown",
      "metadata": {
        "colab_type": "text",
        "id": "oOb2vL4cDZQg"
      },
      "source": [
        "Parameter definition."
      ]
    },
    {
      "cell_type": "code",
      "metadata": {
        "colab_type": "code",
        "id": "_Gy9eboUDcKX",
        "colab": {}
      },
      "source": [
        "BATCH_SIZE      = 1000\n",
        "WEIGHT_DECAY    = 0.001\n",
        "LEARNING_RATE   = 0.01\n",
        "EPOCH           = 500\n",
        "NUM_WORKERS     = 2"
      ],
      "execution_count": 0,
      "outputs": []
    },
    {
      "cell_type": "markdown",
      "metadata": {
        "colab_type": "text",
        "id": "yJdLI6e-DlX3"
      },
      "source": [
        "Reading dataset."
      ]
    },
    {
      "cell_type": "code",
      "metadata": {
        "colab_type": "code",
        "id": "QWlVyeNRDlf3",
        "colab": {}
      },
      "source": [
        "mnist_train = dsets.MNIST(\".\", download=True, train=True)\n",
        "dataTrain = []\n",
        "dataTest = []\n",
        "\n",
        "\n",
        "mnist_test = dsets.MNIST(\".\", download=True, train=False)\n",
        "\n",
        "\n",
        "\n",
        "for i in range(len(mnist_train)):\n",
        "    dataTrain.append(np.array(mnist_train[i][0]))\n",
        "\n",
        "\n",
        "for i in range(len(mnist_test)):\n",
        "    dataTest.append(np.array(mnist_test[i][0]))\n",
        "\n",
        "#Change shape to (N, C, H, W) by reshape.\n",
        "dataTrain = np.array(dataTrain)\n",
        "dataTrain = dataTrain.reshape(len(mnist_train), 1, 28, 28)\n",
        "dataTrain = dataTrain / 255.0\n",
        "\n",
        "dataTest = np.array(dataTest)\n",
        "dataTest = dataTest.reshape(len(mnist_test), 1, 28, 28)\n",
        "dataTest = dataTest / 255.0\n",
        "\n",
        "datasizeTrain = len(dataTrain)\n",
        "datasizeTest  = len(dataTest)"
      ],
      "execution_count": 0,
      "outputs": []
    },
    {
      "cell_type": "markdown",
      "metadata": {
        "colab_type": "text",
        "id": "DWoWejkJEvEc"
      },
      "source": [
        "Define the model structure.\n",
        "\n",
        "In this example, a multi-layer perceptron having 10 units in hidden layer is used."
      ]
    },
    {
      "cell_type": "code",
      "metadata": {
        "colab_type": "code",
        "id": "IaOpPD6REvTe",
        "colab": {}
      },
      "source": [
        "class Network(nn.Module):\n",
        "    def __init__(self):\n",
        "        super(Network, self).__init__()\n",
        "        self.fc1 = nn.Linear(28*28*1, 10)\n",
        "        self.fc2 = nn.Linear(10, 28*28*1)\n",
        "\n",
        "    def forward(self, x):\n",
        "        x = x.view(-1, 28*28*1)\n",
        "        x = self.fc1(x)\n",
        "        x = F.relu(x)\n",
        "        x = self.fc2(x)\n",
        "        x = x.view(BATCH_SIZE, 1, 28, 28)\n",
        "        return x\n",
        "      \n",
        "\n",
        "net = Network()\n",
        "if torch.cuda.is_available():\n",
        "    net.to('cuda')"
      ],
      "execution_count": 0,
      "outputs": []
    },
    {
      "cell_type": "markdown",
      "metadata": {
        "colab_type": "text",
        "id": "0Bgv6qQVFmNd"
      },
      "source": [
        "Define loss and optimizer."
      ]
    },
    {
      "cell_type": "code",
      "metadata": {
        "colab_type": "code",
        "id": "y40xXZTwFmbm",
        "colab": {}
      },
      "source": [
        "criterion = nn.MSELoss()\n",
        "optimizer = optim.SGD(net.parameters(), lr=LEARNING_RATE, momentum=0.9, weight_decay=WEIGHT_DECAY)"
      ],
      "execution_count": 0,
      "outputs": []
    },
    {
      "cell_type": "markdown",
      "metadata": {
        "colab_type": "text",
        "id": "XefAQx4lFyIe"
      },
      "source": [
        "Input data into the model for each mini-batch and perform parameter update."
      ]
    },
    {
      "cell_type": "code",
      "metadata": {
        "colab_type": "code",
        "id": "fturdeYaFyau",
        "outputId": "ece38459-6f85-47b6-a741-ecdf7e71630b",
        "colab": {
          "base_uri": "https://localhost:8080/",
          "height": 1000
        }
      },
      "source": [
        "trainLoss = []\n",
        "testLoss  = []\n",
        "\n",
        "\n",
        "for epoch in range(1, EPOCH+1):\n",
        "    if (epoch % 10 == 0):\n",
        "        print(\"epoch\", epoch, \"iter\", epoch*(datasizeTrain//BATCH_SIZE))\n",
        "\n",
        "    net.train()\n",
        "    for i in range(0, datasizeTrain, BATCH_SIZE):\n",
        "        perm = np.random.permutation(datasizeTrain)\n",
        "        xBatch = dataTrain[perm[i:i+BATCH_SIZE]]\n",
        "        tBatch = dataTrain[perm[i:i+BATCH_SIZE]]\n",
        "        if torch.cuda.is_available():\n",
        "            xBatch = torch.from_numpy(xBatch.copy()).float().to('cuda')\n",
        "            tBatch = torch.from_numpy(tBatch.copy()).float().to('cuda')\n",
        "        else:\n",
        "            xBatch = torch.from_numpy(xBatch.copy()).float()\n",
        "            tBatch = torch.from_numpy(tBatch.copy()).float()\n",
        "        optimizer.zero_grad()\n",
        "        yBatch = net(xBatch)\n",
        "        loss = criterion(yBatch, tBatch)\n",
        "        loss.backward()\n",
        "        optimizer.step()\n",
        "\n",
        "    net.eval()\n",
        "    sumTrainLoss = 0.0\n",
        "    with torch.no_grad():\n",
        "        for i in range(0, datasizeTrain, BATCH_SIZE):\n",
        "            perm = np.random.permutation(datasizeTrain)\n",
        "            xBatch = dataTrain[perm[i:i+BATCH_SIZE]]\n",
        "            tBatch = dataTrain[perm[i:i+BATCH_SIZE]]\n",
        "            if torch.cuda.is_available():\n",
        "                xBatch = torch.from_numpy(xBatch.copy()).float().to('cuda')\n",
        "                tBatch = torch.from_numpy(tBatch.copy()).float().to('cuda')\n",
        "            else:\n",
        "                xBatch = torch.from_numpy(xBatch.copy()).float()\n",
        "                tBatch = torch.from_numpy(tBatch.copy()).float()\n",
        "            yBatch = net(xBatch)\n",
        "            loss = criterion(yBatch, tBatch)\n",
        "            if torch.cuda.is_available():\n",
        "                loss.to('cpu')\n",
        "            sumTrainLoss += float(loss.data.item()) * BATCH_SIZE\n",
        "        trainLoss.append(sumTrainLoss / datasizeTrain)\n",
        "\n",
        "        sumTestLoss = 0.0\n",
        "        for i in range(0, datasizeTest, BATCH_SIZE):\n",
        "            perm = np.random.permutation(datasizeTest)\n",
        "            xBatch = dataTest[perm[i:i+BATCH_SIZE]] # (BATCH_SIZE, 1, 128, 128)\n",
        "            tBatch = dataTest[perm[i:i+BATCH_SIZE]] # (BATCH_SIZE, 1, 128, 128)\n",
        "            if torch.cuda.is_available():\n",
        "                xBatch = torch.from_numpy(xBatch.copy()).float().to('cuda')\n",
        "                tBatch = torch.from_numpy(tBatch.copy()).float().to('cuda')\n",
        "            else:\n",
        "                xBatch = torch.from_numpy(xBatch.copy()).float()\n",
        "                tBatch = torch.from_numpy(tBatch.copy()).float()\n",
        "            yBatch = net(xBatch)\n",
        "            loss = criterion(yBatch, tBatch)\n",
        "            if torch.cuda.is_available():\n",
        "                loss.to('cpu')\n",
        "            sumTestLoss += float(loss.data.item()) * BATCH_SIZE\n",
        "        testLoss.append(sumTestLoss / datasizeTest)\n",
        "\n",
        "    if (epoch % 10 == 0):\n",
        "        print(\"\\ttrain mean loss={}\".format(sumTrainLoss / datasizeTrain))\n",
        "        print(\"\\ttest  mean loss={}\".format(sumTestLoss / datasizeTest))"
      ],
      "execution_count": 0,
      "outputs": [
        {
          "output_type": "stream",
          "text": [
            "epoch 10 iter 600\n",
            "\ttrain mean loss=0.12878508269786834\n",
            "\ttest  mean loss=0.13053371012210846\n",
            "epoch 20 iter 1200\n",
            "\ttrain mean loss=0.1112794371942679\n",
            "\ttest  mean loss=0.11273843422532082\n",
            "epoch 30 iter 1800\n",
            "\ttrain mean loss=0.09913430561621984\n",
            "\ttest  mean loss=0.09996178671717644\n",
            "epoch 40 iter 2400\n",
            "\ttrain mean loss=0.09100556982060273\n",
            "\ttest  mean loss=0.09244673922657967\n",
            "epoch 50 iter 3000\n",
            "\ttrain mean loss=0.08526805390914281\n",
            "\ttest  mean loss=0.08687684014439583\n",
            "epoch 60 iter 3600\n",
            "\ttrain mean loss=0.0813912246376276\n",
            "\ttest  mean loss=0.08223466202616692\n",
            "epoch 70 iter 4200\n",
            "\ttrain mean loss=0.07850211101273695\n",
            "\ttest  mean loss=0.07903124764561653\n",
            "epoch 80 iter 4800\n",
            "\ttrain mean loss=0.07648219789067905\n",
            "\ttest  mean loss=0.07744504138827324\n",
            "epoch 90 iter 5400\n",
            "\ttrain mean loss=0.07490664273500443\n",
            "\ttest  mean loss=0.07544932216405868\n",
            "epoch 100 iter 6000\n",
            "\ttrain mean loss=0.07385997834304968\n",
            "\ttest  mean loss=0.07424059435725212\n",
            "epoch 110 iter 6600\n",
            "\ttrain mean loss=0.07291118539869786\n",
            "\ttest  mean loss=0.07386895939707756\n",
            "epoch 120 iter 7200\n",
            "\ttrain mean loss=0.07222006631394227\n",
            "\ttest  mean loss=0.07309808135032654\n",
            "epoch 130 iter 7800\n",
            "\ttrain mean loss=0.07182466723024845\n",
            "\ttest  mean loss=0.07229145392775535\n",
            "epoch 140 iter 8400\n",
            "\ttrain mean loss=0.07116107791662216\n",
            "\ttest  mean loss=0.07219895869493484\n",
            "epoch 150 iter 9000\n",
            "\ttrain mean loss=0.07072626873850822\n",
            "\ttest  mean loss=0.07128896787762642\n",
            "epoch 160 iter 9600\n",
            "\ttrain mean loss=0.07003694276014964\n",
            "\ttest  mean loss=0.07057839706540107\n",
            "epoch 170 iter 10200\n",
            "\ttrain mean loss=0.0688434244443973\n",
            "\ttest  mean loss=0.069599961489439\n",
            "epoch 180 iter 10800\n",
            "\ttrain mean loss=0.06800309059520562\n",
            "\ttest  mean loss=0.06862298175692558\n",
            "epoch 190 iter 11400\n",
            "\ttrain mean loss=0.06650787430504958\n",
            "\ttest  mean loss=0.06680613234639168\n",
            "epoch 200 iter 12000\n",
            "\ttrain mean loss=0.06538102515041828\n",
            "\ttest  mean loss=0.06576597169041634\n",
            "epoch 210 iter 12600\n",
            "\ttrain mean loss=0.06444376024107139\n",
            "\ttest  mean loss=0.06490682289004326\n",
            "epoch 220 iter 13200\n",
            "\ttrain mean loss=0.06407661773264409\n",
            "\ttest  mean loss=0.06411810144782067\n",
            "epoch 230 iter 13800\n",
            "\ttrain mean loss=0.06359260026365518\n",
            "\ttest  mean loss=0.0635584719479084\n",
            "epoch 240 iter 14400\n",
            "\ttrain mean loss=0.06341579922785362\n",
            "\ttest  mean loss=0.06350733041763305\n",
            "epoch 250 iter 15000\n",
            "\ttrain mean loss=0.06314680203795434\n",
            "\ttest  mean loss=0.06331843361258507\n",
            "epoch 260 iter 15600\n",
            "\ttrain mean loss=0.06275290461877982\n",
            "\ttest  mean loss=0.06274401880800724\n",
            "epoch 270 iter 16200\n",
            "\ttrain mean loss=0.06236330233514309\n",
            "\ttest  mean loss=0.062361466139554976\n",
            "epoch 280 iter 16800\n",
            "\ttrain mean loss=0.06191633672763904\n",
            "\ttest  mean loss=0.06206690631806851\n",
            "epoch 290 iter 17400\n",
            "\ttrain mean loss=0.06136035099625588\n",
            "\ttest  mean loss=0.06138354279100895\n",
            "epoch 300 iter 18000\n",
            "\ttrain mean loss=0.06042100551227728\n",
            "\ttest  mean loss=0.06050169840455055\n",
            "epoch 310 iter 18600\n",
            "\ttrain mean loss=0.059472738206386565\n",
            "\ttest  mean loss=0.05907059349119663\n",
            "epoch 320 iter 19200\n",
            "\ttrain mean loss=0.058257070990900196\n",
            "\ttest  mean loss=0.058631588518619535\n",
            "epoch 330 iter 19800\n",
            "\ttrain mean loss=0.05747632775455713\n",
            "\ttest  mean loss=0.05732935257256031\n",
            "epoch 340 iter 20400\n",
            "\ttrain mean loss=0.05636539316425721\n",
            "\ttest  mean loss=0.056191448122262955\n",
            "epoch 350 iter 21000\n",
            "\ttrain mean loss=0.05528824521849553\n",
            "\ttest  mean loss=0.054961541667580605\n",
            "epoch 360 iter 21600\n",
            "\ttrain mean loss=0.054261155612766745\n",
            "\ttest  mean loss=0.053841373324394225\n",
            "epoch 370 iter 22200\n",
            "\ttrain mean loss=0.0533657902230819\n",
            "\ttest  mean loss=0.053223394230008124\n",
            "epoch 380 iter 22800\n",
            "\ttrain mean loss=0.05240061177561681\n",
            "\ttest  mean loss=0.05256825126707554\n",
            "epoch 390 iter 23400\n",
            "\ttrain mean loss=0.05144597322990497\n",
            "\ttest  mean loss=0.051128781959414484\n",
            "epoch 400 iter 24000\n",
            "\ttrain mean loss=0.05059435963630676\n",
            "\ttest  mean loss=0.050535520911216734\n",
            "epoch 410 iter 24600\n",
            "\ttrain mean loss=0.04982042033225298\n",
            "\ttest  mean loss=0.049417486414313316\n",
            "epoch 420 iter 25200\n",
            "\ttrain mean loss=0.04930186079194148\n",
            "\ttest  mean loss=0.049025526642799376\n",
            "epoch 430 iter 25800\n",
            "\ttrain mean loss=0.048898032121360305\n",
            "\ttest  mean loss=0.0486363060772419\n",
            "epoch 440 iter 26400\n",
            "\ttrain mean loss=0.04850520193576813\n",
            "\ttest  mean loss=0.04806420616805553\n",
            "epoch 450 iter 27000\n",
            "\ttrain mean loss=0.04810800148795048\n",
            "\ttest  mean loss=0.04804701209068298\n",
            "epoch 460 iter 27600\n",
            "\ttrain mean loss=0.047816901467740536\n",
            "\ttest  mean loss=0.047508078068494795\n",
            "epoch 470 iter 28200\n",
            "\ttrain mean loss=0.0473630964756012\n",
            "\ttest  mean loss=0.04701950512826443\n",
            "epoch 480 iter 28800\n",
            "\ttrain mean loss=0.047092985237638156\n",
            "\ttest  mean loss=0.046660305559635164\n",
            "epoch 490 iter 29400\n",
            "\ttrain mean loss=0.04679232326646646\n",
            "\ttest  mean loss=0.046258359029889104\n",
            "epoch 500 iter 30000\n",
            "\ttrain mean loss=0.046520245758195716\n",
            "\ttest  mean loss=0.046265656128525734\n"
          ],
          "name": "stdout"
        }
      ]
    },
    {
      "cell_type": "markdown",
      "metadata": {
        "colab_type": "text",
        "id": "IKNhoL4UGATY"
      },
      "source": [
        "Draw the graph of training curve of loss"
      ]
    },
    {
      "cell_type": "code",
      "metadata": {
        "colab_type": "code",
        "id": "-XCJO5bnGAZ_",
        "outputId": "0c7a62fb-635b-4167-b2b6-d733a51adde1",
        "colab": {
          "base_uri": "https://localhost:8080/",
          "height": 390
        }
      },
      "source": [
        "plt.figure(figsize=(6,6))\n",
        "\n",
        "plt.plot(range(EPOCH), trainLoss)\n",
        "plt.plot(range(EPOCH), testLoss)\n",
        "plt.legend(['train loss', 'test loss'])\n",
        "plt.title('loss')\n",
        "plt.savefig(\"loss.png\")"
      ],
      "execution_count": 0,
      "outputs": [
        {
          "output_type": "display_data",
          "data": {
            "image/png": "[encoded data removed]",
            "text/plain": [
              "<Figure size 432x432 with 1 Axes>"
            ]
          },
          "metadata": {
            "tags": [],
            "needs_background": "light"
          }
        }
      ]
    },
    {
      "cell_type": "markdown",
      "metadata": {
        "colab_type": "text",
        "id": "Esojt9NeGaFN"
      },
      "source": [
        "Plot the some output result of the network as an image."
      ]
    },
    {
      "cell_type": "code",
      "metadata": {
        "colab_type": "code",
        "id": "Xpxyulr3GaLv",
        "outputId": "7fd57a51-bdb2-44ae-fdb0-314974285d67",
        "colab": {
          "base_uri": "https://localhost:8080/",
          "height": 244
        }
      },
      "source": [
        "result_train = np.zeros((datasizeTrain, 1, 28, 28))\n",
        "result_test = np.zeros((datasizeTest, 1, 28, 28))\n",
        "\n",
        "#Get network output for train data.\n",
        "for i in range(0, datasizeTrain, BATCH_SIZE):\n",
        "    xBatch = dataTrain[i:i+BATCH_SIZE]\n",
        "    if torch.cuda.is_available():\n",
        "        xBatch = torch.from_numpy(xBatch.copy()).float().to('cuda')\n",
        "    else:\n",
        "        xBatch = torch.from_numpy(xBatch.copy()).float()\n",
        "    re = net(xBatch)\n",
        "    if torch.cuda.is_available():\n",
        "        result_train[i:i+BATCH_SIZE] = re.to('cpu').data\n",
        "    else:\n",
        "        result_train[i:i+BATCH_SIZE] = re.data\n",
        "\n",
        "#Get network output for test data.\n",
        "for i in range(0, datasizeTest, BATCH_SIZE):\n",
        "    xBatch = dataTest[i:i+BATCH_SIZE]\n",
        "    if torch.cuda.is_available():\n",
        "        xBatch = torch.from_numpy(xBatch.copy()).float().to('cuda')\n",
        "    else:\n",
        "        xBatch = torch.from_numpy(xBatch.copy()).float()\n",
        "    re = net(xBatch)\n",
        "\n",
        "    if torch.cuda.is_available():\n",
        "        result_test[i:i+BATCH_SIZE] = re.to('cpu').data\n",
        "    else:\n",
        "        result_test[i:i+BATCH_SIZE] = re.data\n",
        "\n",
        "\n",
        "\n",
        "n = 10\n",
        "plt.figure(figsize=(20, 4))\n",
        "for i in range(n):\n",
        "    ax = plt.subplot(2, n, i+1)\n",
        "    plt.imshow(dataTest[i].reshape(28, 28))\n",
        "    plt.gray()\n",
        "    ax.get_xaxis().set_visible(False)\n",
        "    ax.get_yaxis().set_visible(False)\n",
        "\n",
        "    ax = plt.subplot(2, n, i+1+n)\n",
        "    plt.imshow(result_test[i].reshape(28, 28))\n",
        "    plt.gray()\n",
        "    ax.get_xaxis().set_visible(False)\n",
        "    ax.get_yaxis().set_visible(False)\n",
        "plt.show()"
      ],
      "execution_count": 0,
      "outputs": [
        {
          "output_type": "display_data",
          "data": {
            "image/png": "[encoded data removed]",
            "text/plain": [
              "<Figure size 1440x288 with 20 Axes>"
            ]
          },
          "metadata": {
            "tags": [],
            "needs_background": "light"
          }
        }
      ]
    },
    {
      "cell_type": "markdown",
      "metadata": {
        "id": "-f55upQwm8VK",
        "colab_type": "text"
      },
      "source": [
        "View the plot of the hidden layer using PCA."
      ]
    },
    {
      "cell_type": "markdown",
      "metadata": {
        "id": "ApkKuWHpb4XI",
        "colab_type": "text"
      },
      "source": [
        "PCA is a technique for dimensional compression of multidimensional data.\n",
        "\n",
        "The purpose of PCA is to find the principal component axis that maximizes the data variance and to represent the data along that axis.\n",
        "\n",
        "If a data point projected the principal component axis is expressed $\\bf{u}^T_1 x_i$, the variance of the projected data is as follows."
      ]
    },
    {
      "cell_type": "markdown",
      "metadata": {
        "id": "GVy3aD8OgRI1",
        "colab_type": "text"
      },
      "source": [
        "\\begin{align}\n",
        "Var[X] = \\frac{1}{n}\\sum_{i=1}^n (\\bf{u_1}^T x_i - \\bf{u_1}^T \\bar{x})^2\n",
        "\\end{align}"
      ]
    },
    {
      "cell_type": "markdown",
      "metadata": {
        "id": "NaI-I9x-mY1c",
        "colab_type": "text"
      },
      "source": [
        "Where $\\bf{u}_1$ is the unit vector and $\\bf{\\bar{x}}$ is"
      ]
    },
    {
      "cell_type": "markdown",
      "metadata": {
        "id": "gr8LcTNJ3-nY",
        "colab_type": "text"
      },
      "source": [
        "\\begin{align}\n",
        "\\bar{x} = \\frac{1}{N}\\sum_{n=1}^N \\bf{x}_n\n",
        "\\end{align}"
      ]
    },
    {
      "cell_type": "markdown",
      "metadata": {
        "id": "6sN5MuWEkCsS",
        "colab_type": "text"
      },
      "source": [
        "Also, $Var[X]$ can be expresed using the covariance $S = \\frac{1}{N}\\sum_{n=1}^N(\\bf x_n-\\bar{x})(x_n-\\bar{x})^T$,"
      ]
    },
    {
      "cell_type": "markdown",
      "metadata": {
        "id": "ZPBUU5n1mqU7",
        "colab_type": "text"
      },
      "source": [
        "\\begin{align}\n",
        "var[X] = \\bf u_1^T S u_1 ~~.\n",
        "\\end{align}"
      ]
    },
    {
      "cell_type": "markdown",
      "metadata": {
        "id": "B-VZ1v0Hmssy",
        "colab_type": "text"
      },
      "source": [
        "In order to consider dispersion maximization, a Lagrange constant is introduced into this equation."
      ]
    },
    {
      "cell_type": "markdown",
      "metadata": {
        "id": "7YQmtBnfo6HS",
        "colab_type": "text"
      },
      "source": [
        "\\begin{align}\n",
        "\\bf u_1^T S u_1 + \\lambda_1(1-u_1^Tu_1)\n",
        "\\end{align}"
      ]
    },
    {
      "cell_type": "markdown",
      "metadata": {
        "id": "IyGjON3QpbuS",
        "colab_type": "text"
      },
      "source": [
        "If the derivative with respect to u1 is 0,"
      ]
    },
    {
      "cell_type": "code",
      "metadata": {
        "id": "KlrOlgAfbifb",
        "colab_type": "code",
        "colab": {}
      },
      "source": [
        "from sklearn.decomposition import PCA"
      ],
      "execution_count": 0,
      "outputs": []
    }
  ]
}