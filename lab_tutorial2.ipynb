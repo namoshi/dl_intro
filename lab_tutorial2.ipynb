{
  "nbformat": 4,
  "nbformat_minor": 0,
  "metadata": {
    "colab": {
      "name": "lab_tutorial2.ipynb",
      "version": "0.3.2",
      "provenance": [],
      "include_colab_link": true
    },
    "kernelspec": {
      "name": "python3",
      "display_name": "Python 3"
    }
  },
  "cells": [
    {
      "cell_type": "markdown",
      "metadata": {
        "id": "view-in-github",
        "colab_type": "text"
      },
      "source": [
        "<a href=\"https://colab.research.google.com/github/namoshi/dl_intro/blob/master/lab_tutorial2.ipynb\" target=\"_parent\"><img src=\"https://colab.research.google.com/assets/colab-badge.svg\" alt=\"Open In Colab\"/></a>"
      ]
    },
    {
      "cell_type": "markdown",
      "metadata": {
        "id": "mlggBOGoi-2Z",
        "colab_type": "text"
      },
      "source": [
        "2.Auto Encoder\n",
        "\n",
        "AutoEncoder generally performs learning to minimize mean squared errors between input and output.\n",
        "\n",
        "Thus, the output of the AutoEncoder is the same as the input.\n",
        "\n",
        "The features of the hidden layer are applied to various tasks."
      ]
    },
    {
      "cell_type": "markdown",
      "metadata": {
        "id": "-EX0lXxiDIiS",
        "colab_type": "text"
      },
      "source": [
        "※If you want to perform learning, create a source file.\n",
        "\n",
        "Import of required library."
      ]
    },
    {
      "cell_type": "code",
      "metadata": {
        "id": "-Y6T4rA4DJs2",
        "colab_type": "code",
        "colab": {}
      },
      "source": [
        "import torch\n",
        "import torchvision\n",
        "import torchvision.transforms as transforms\n",
        "import torch.nn as nn\n",
        "import torch.nn.functional as F\n",
        "import torch.optim as optim\n",
        "\n",
        "import numpy as np\n",
        "import matplotlib.pyplot as plt\n",
        "from skimage import io"
      ],
      "execution_count": 0,
      "outputs": []
    },
    {
      "cell_type": "markdown",
      "metadata": {
        "id": "pGgOOQ75DSQs",
        "colab_type": "text"
      },
      "source": [
        "Fixed seed value for random numbers."
      ]
    },
    {
      "cell_type": "code",
      "metadata": {
        "id": "pTNzVjQMDSoF",
        "colab_type": "code",
        "colab": {}
      },
      "source": [
        "torch.cuda.manual_seed_all(100100)\n",
        "torch.manual_seed(100100)\n",
        "np.random.seed(100100)"
      ],
      "execution_count": 0,
      "outputs": []
    },
    {
      "cell_type": "markdown",
      "metadata": {
        "id": "oOb2vL4cDZQg",
        "colab_type": "text"
      },
      "source": [
        "Parameter definition."
      ]
    },
    {
      "cell_type": "code",
      "metadata": {
        "id": "_Gy9eboUDcKX",
        "colab_type": "code",
        "colab": {}
      },
      "source": [
        "BATCH_SIZE      = 1000\n",
        "WEIGHT_DECAY    = 0.001\n",
        "LEARNING_RATE   = 0.01\n",
        "EPOCH           = 100\n",
        "NUM_WORKERS     = 2"
      ],
      "execution_count": 0,
      "outputs": []
    },
    {
      "cell_type": "markdown",
      "metadata": {
        "id": "yJdLI6e-DlX3",
        "colab_type": "text"
      },
      "source": [
        "Reading dataset."
      ]
    },
    {
      "cell_type": "code",
      "metadata": {
        "id": "QWlVyeNRDlf3",
        "colab_type": "code",
        "colab": {}
      },
      "source": [
        "mnist_train = dsets.MNIST(\".\", download=True, train=True)\n",
        "dataTrain = []\n",
        "dataTest = []\n",
        "\n",
        "\n",
        "mnist_test = dsets.MNIST(\".\", download=True, train=False)\n",
        "\n",
        "\n",
        "\n",
        "for i in range(len(mnist_train)):\n",
        "\tdataTrain.append(np.array(mnist_train[i][0]))\n",
        "  \n",
        "\n",
        "for i in range(len(mnist_test)):\n",
        "\tdataTest.append(np.array(mnist_test[i][0]))\n",
        "\n",
        "#Change shape to (N, C, H, W) by reshape.\n",
        "dataTrain = np.array(dataTrain)\n",
        "dataTrain = dataTrain.reshape(len(mnist_train), 1, 28, 28)\n",
        "dataTrain = dataTrain / 255.0\n",
        "\n",
        "dataTest = np.array(dataTest)\n",
        "dataTest = dataTest.reshape(len(mnist_test), 1, 28, 28)\n",
        "dataTest = dataTest / 255.0\n",
        "\n",
        "datasizeTrain = len(dataTrain)\n",
        "datasizeTest  = len(dataTest)"
      ],
      "execution_count": 0,
      "outputs": []
    },
    {
      "cell_type": "markdown",
      "metadata": {
        "id": "DWoWejkJEvEc",
        "colab_type": "text"
      },
      "source": [
        "Define the model structure.\n",
        "\n",
        "In this example, a multi-layer perceptron having 10 units in hidden layer is used."
      ]
    },
    {
      "cell_type": "code",
      "metadata": {
        "id": "IaOpPD6REvTe",
        "colab_type": "code",
        "colab": {}
      },
      "source": [
        "class Network(nn.Module):\n",
        "    def __init__(self):\n",
        "        super(Network, self).__init__()\n",
        "        self.fc1 = nn.Linear(28*28*1, 10)\n",
        "        self.fc2 = nn.Linear(10, 28*28*1)\n",
        "\n",
        "    def forward(self, x):\n",
        "        x = x.view(-1, 28*28*1)\n",
        "        x = self.fc1(x)\n",
        "        x = F.relu(x)\n",
        "        x = self.fc2(x)\n",
        "        x = x.view(BATCH_SIZE, 1, 28, 28)\n",
        "        return x\n",
        "      \n",
        "\n",
        "net = Network()\n",
        "net.cuda()"
      ],
      "execution_count": 0,
      "outputs": []
    },
    {
      "cell_type": "markdown",
      "metadata": {
        "id": "0Bgv6qQVFmNd",
        "colab_type": "text"
      },
      "source": [
        "Define loss and optimizer."
      ]
    },
    {
      "cell_type": "code",
      "metadata": {
        "id": "y40xXZTwFmbm",
        "colab_type": "code",
        "colab": {}
      },
      "source": [
        "criterion = nn.MSELoss()\n",
        "optimizer = optim.SGD(net.parameters(), lr=LEARNING_RATE, momentum=0.9, weight_decay=WEIGHT_DECAY)"
      ],
      "execution_count": 0,
      "outputs": []
    },
    {
      "cell_type": "markdown",
      "metadata": {
        "id": "XefAQx4lFyIe",
        "colab_type": "text"
      },
      "source": [
        "Input data into the model for each mini-batch and perform parameter update."
      ]
    },
    {
      "cell_type": "code",
      "metadata": {
        "id": "fturdeYaFyau",
        "colab_type": "code",
        "colab": {}
      },
      "source": [
        "trainLoss = []\n",
        "testLoss  = []\n",
        "\n",
        "\n",
        "for epoch in range(1, EPOCH+1):\n",
        "    print(\"epoch\", epoch, \"iter\", epoch*(datasizeTrain//BATCH_SIZE))\n",
        "    net.train()\n",
        "    for i in range(0, datasizeTrain, BATCH_SIZE):\n",
        "        perm = np.random.permutation(datasizeTrain)\n",
        "        xBatch = dataTrain[perm[i:i+BATCH_SIZE]]\n",
        "        tBatch = dataTrain[perm[i:i+BATCH_SIZE]]\n",
        "        xBatch = torch.from_numpy(xBatch.copy()).float().cuda()\n",
        "        tBatch = torch.from_numpy(tBatch.copy()).float().cuda()\n",
        "        optimizer.zero_grad()\n",
        "        yBatch = net(xBatch)\n",
        "        loss = criterion(yBatch, tBatch)\n",
        "        loss.backward()\n",
        "        optimizer.step()\n",
        "\n",
        "    net.eval()\n",
        "    sumTrainLoss = 0.0\n",
        "    with torch.no_grad():\n",
        "        for i in range(0, datasizeTrain, BATCH_SIZE):\n",
        "            perm = np.random.permutation(datasizeTrain)\n",
        "            xBatch = dataTrain[perm[i:i+BATCH_SIZE]]\n",
        "            tBatch = dataTrain[perm[i:i+BATCH_SIZE]]\n",
        "            xBatch = torch.from_numpy(xBatch.copy()).float().cuda()\n",
        "            tBatch = torch.from_numpy(tBatch.copy()).float().cuda()\n",
        "            yBatch = net(xBatch)\n",
        "            loss = criterion(yBatch, tBatch)\n",
        "            sumTrainLoss += float(loss.cpu().data.item()) * BATCH_SIZE\n",
        "        trainLoss.append(sumTrainLoss / datasizeTrain)\n",
        "\n",
        "        sumTestLoss = 0.0\n",
        "        for i in range(0, datasizeTest, BATCH_SIZE):\n",
        "            perm = np.random.permutation(datasizeTest)\n",
        "            xBatch = dataTest[perm[i:i+BATCH_SIZE]] # (BATCH_SIZE, 1, 128, 128)\n",
        "            tBatch = dataTest[perm[i:i+BATCH_SIZE]] # (BATCH_SIZE, 1, 128, 128)\n",
        "            xBatch = torch.from_numpy(xBatch.copy()).float().cuda()\n",
        "            tBatch = torch.from_numpy(tBatch.copy()).float().cuda()\n",
        "            yBatch = net(xBatch)\n",
        "            loss = criterion(yBatch, tBatch)\n",
        "            sumTestLoss += float(loss.cpu().data.item()) * BATCH_SIZE\n",
        "        testLoss.append(sumTestLoss / datasizeTest)\n",
        "\n",
        "    print(\"train mean loss={}\".format(sumTrainLoss / datasizeTrain))\n",
        "    print(\"test  mean loss={}\".format(sumTestLoss / datasizeTest))"
      ],
      "execution_count": 0,
      "outputs": []
    },
    {
      "cell_type": "markdown",
      "metadata": {
        "id": "IKNhoL4UGATY",
        "colab_type": "text"
      },
      "source": [
        "Draw loss as a graph."
      ]
    },
    {
      "cell_type": "code",
      "metadata": {
        "id": "-XCJO5bnGAZ_",
        "colab_type": "code",
        "colab": {}
      },
      "source": [
        "plt.figure(figsize=(6,6))\n",
        "\n",
        "plt.plot(range(EPOCH), trainLoss)\n",
        "plt.plot(range(EPOCH), testLoss)\n",
        "plt.legend(['train loss', 'test loss'])\n",
        "plt.title('loss')\n",
        "plt.savefig(\"loss.png\")"
      ],
      "execution_count": 0,
      "outputs": []
    },
    {
      "cell_type": "markdown",
      "metadata": {
        "id": "Esojt9NeGaFN",
        "colab_type": "text"
      },
      "source": [
        "Save the output result of the network as an image."
      ]
    },
    {
      "cell_type": "code",
      "metadata": {
        "id": "Xpxyulr3GaLv",
        "colab_type": "code",
        "colab": {}
      },
      "source": [
        "result = np.zeros((datasizeTrain, 1, 28, 28))\n",
        "result_test = np.zeros((datasizeTest, 1, 28, 28))\n",
        "\n",
        "#Get network output for train data.\n",
        "for i in range(0, datasizeTrain, BATCH_SIZE):\n",
        "\txBatch = dataTrain[i:i+BATCH_SIZE]\n",
        "\txBatch = torch.from_numpy(xBatch.copy()).float().cuda()\n",
        "\tre = net(xBatch)\n",
        "\tresult[i:i+BATCH_SIZE] = re.cpu().data\n",
        "\n",
        "#Get network output for test data.\n",
        "for i in range(0, datasizeTest, BATCH_SIZE):\n",
        "\txBatch = dataTest[i:i+BATCH_SIZE]\n",
        "\txBatch = torch.from_numpy(xBatch.copy()).float().cuda()\n",
        "\tre = net(xBatch)\n",
        "\tresult_test[i:i+BATCH_SIZE] = re.cpu().dat\n",
        "\n",
        "\n",
        "  \n",
        "#Save the image.\n",
        "for i in range(datasizeTrain):\n",
        "\tpic = result[i]\n",
        "\tpic= pic.reshape((28,28))\n",
        "\tio.imsave(\"./imgtrain%d.png\"%i, pic)\n",
        "\n",
        "\n",
        "for i in range(datasizeTest):\n",
        "\tpic = result_test[i]\n",
        "\tpic= pic.reshape((28,28))\n",
        "\tio.imsave(\"./imgtest%d.png\"%i, pic)\n"
      ],
      "execution_count": 0,
      "outputs": []
    }
  ]
}