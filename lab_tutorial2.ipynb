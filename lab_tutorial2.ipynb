{
 "cells": [
  {
   "cell_type": "markdown",
   "metadata": {
    "colab_type": "text",
    "id": "view-in-github"
   },
   "source": [
    "<a href=\"https://colab.research.google.com/github/namoshi/dl_intro/blob/master/lab_tutorial2.ipynb\" target=\"_parent\"><img src=\"https://colab.research.google.com/assets/colab-badge.svg\" alt=\"Open In Colab\"/></a>"
   ]
  },
  {
   "cell_type": "markdown",
   "metadata": {
    "colab_type": "text",
    "id": "mlggBOGoi-2Z"
   },
   "source": [
    "2.Auto Encoder\n",
    "\n",
    "AutoEncoder generally performs learning to minimize mean squared errors between input and output.\n",
    "\n",
    "Thus, the output of the AutoEncoder is the same as the input.\n",
    "\n",
    "The features of the hidden layer are applied to various tasks."
   ]
  },
  {
   "cell_type": "markdown",
   "metadata": {
    "colab_type": "text",
    "id": "-EX0lXxiDIiS"
   },
   "source": [
    "※If you want to perform learning, create a source file.\n",
    "\n",
    "Import of required library."
   ]
  },
  {
   "cell_type": "code",
   "execution_count": 1,
   "metadata": {
    "colab": {
     "base_uri": "https://localhost:8080/",
     "height": 52
    },
    "colab_type": "code",
    "id": "-Y6T4rA4DJs2",
    "outputId": "d569b50b-efa0-4b2a-e3c4-e50d4ad147ea"
   },
   "outputs": [
    {
     "name": "stdout",
     "output_type": "stream",
     "text": [
      "torch version is 1.7.1\n",
      "Cuda is available\n"
     ]
    }
   ],
   "source": [
    "import torch\n",
    "import torchvision\n",
    "import torchvision.transforms as transforms\n",
    "import torchvision.datasets as dsets\n",
    "import torch.nn as nn\n",
    "import torch.nn.functional as F\n",
    "import torch.optim as optim\n",
    "\n",
    "import numpy as np\n",
    "import matplotlib.pyplot as plt\n",
    "from skimage import io\n",
    "\n",
    "print('torch version is {}'.format(torch.__version__))\n",
    "if (torch.cuda.is_available):\n",
    "    print('Cuda is available')\n",
    "else:\n",
    "    print('Cuda is not avaibalbe')"
   ]
  },
  {
   "cell_type": "markdown",
   "metadata": {
    "colab_type": "text",
    "id": "pGgOOQ75DSQs"
   },
   "source": [
    "Fixed seed value for random numbers."
   ]
  },
  {
   "cell_type": "code",
   "execution_count": 2,
   "metadata": {
    "colab": {},
    "colab_type": "code",
    "id": "pTNzVjQMDSoF"
   },
   "outputs": [],
   "source": [
    "torch.cuda.manual_seed_all(100100)\n",
    "torch.manual_seed(100100)\n",
    "np.random.seed(100100)"
   ]
  },
  {
   "cell_type": "markdown",
   "metadata": {
    "colab_type": "text",
    "id": "oOb2vL4cDZQg"
   },
   "source": [
    "Parameter definition."
   ]
  },
  {
   "cell_type": "code",
   "execution_count": 3,
   "metadata": {
    "colab": {},
    "colab_type": "code",
    "id": "_Gy9eboUDcKX"
   },
   "outputs": [],
   "source": [
    "BATCH_SIZE      = 1000\n",
    "WEIGHT_DECAY    = 0.001\n",
    "LEARNING_RATE   = 0.01\n",
    "EPOCH           = 500\n",
    "NUM_WORKERS     = 2"
   ]
  },
  {
   "cell_type": "markdown",
   "metadata": {
    "colab_type": "text",
    "id": "yJdLI6e-DlX3"
   },
   "source": [
    "Reading dataset."
   ]
  },
  {
   "cell_type": "code",
   "execution_count": 4,
   "metadata": {
    "colab": {},
    "colab_type": "code",
    "id": "QWlVyeNRDlf3"
   },
   "outputs": [],
   "source": [
    "mnist_train = dsets.MNIST(\"./data\", download=True, train=True)\n",
    "dataTrain = []\n",
    "dataTest = []\n",
    "labelTrain = []\n",
    "labelTest = []\n",
    "\n",
    "\n",
    "mnist_test = dsets.MNIST(\"./data\", download=True, train=False)\n",
    "\n",
    "\n",
    "\n",
    "for i in range(len(mnist_train)):\n",
    "    dataTrain.append(np.array(mnist_train[i][0]))\n",
    "    labelTrain.append(mnist_train[i][1])\n",
    "\n",
    "\n",
    "for i in range(len(mnist_test)):\n",
    "    dataTest.append(np.array(mnist_test[i][0]))\n",
    "    labelTest.append(mnist_test[i][1])\n",
    "\n",
    "#Change shape to (N, C, H, W) by reshape.\n",
    "dataTrain = np.array(dataTrain)\n",
    "labelTrain = np.array(labelTrain)\n",
    "dataTrain = dataTrain.reshape(len(mnist_train), 1, 28, 28)\n",
    "dataTrain = dataTrain / 255.0\n",
    "\n",
    "dataTest = np.array(dataTest)\n",
    "labelTest = np.array(labelTest)\n",
    "dataTest = dataTest.reshape(len(mnist_test), 1, 28, 28)\n",
    "dataTest = dataTest / 255.0\n",
    "\n",
    "datasizeTrain = len(dataTrain)\n",
    "datasizeTest  = len(dataTest)"
   ]
  },
  {
   "cell_type": "markdown",
   "metadata": {
    "colab_type": "text",
    "id": "DWoWejkJEvEc"
   },
   "source": [
    "Define the model structure.\n",
    "\n",
    "In this example, a multi-layer perceptron having 10 units in hidden layer is used."
   ]
  },
  {
   "cell_type": "code",
   "execution_count": 5,
   "metadata": {
    "colab": {},
    "colab_type": "code",
    "id": "IaOpPD6REvTe"
   },
   "outputs": [],
   "source": [
    "class Network(nn.Module):\n",
    "    def __init__(self):\n",
    "        super(Network, self).__init__()\n",
    "        self.fc1 = nn.Linear(28*28*1, 10)\n",
    "        self.fc2 = nn.Linear(10, 28*28*1)\n",
    "\n",
    "    def forward(self, x):\n",
    "        x = x.view(-1, 28*28*1)\n",
    "        x = self.fc1(x)\n",
    "        x = F.relu(x)\n",
    "        x = self.fc2(x)\n",
    "        x = x.view(BATCH_SIZE, 1, 28, 28)\n",
    "        return x\n",
    "      \n",
    "\n",
    "net = Network()\n",
    "if torch.cuda.is_available():\n",
    "    net.to('cuda')"
   ]
  },
  {
   "cell_type": "markdown",
   "metadata": {
    "colab_type": "text",
    "id": "0Bgv6qQVFmNd"
   },
   "source": [
    "Define loss and optimizer."
   ]
  },
  {
   "cell_type": "code",
   "execution_count": 6,
   "metadata": {
    "colab": {},
    "colab_type": "code",
    "id": "y40xXZTwFmbm"
   },
   "outputs": [],
   "source": [
    "criterion = nn.MSELoss()\n",
    "optimizer = optim.SGD(net.parameters(), lr=LEARNING_RATE, momentum=0.9, weight_decay=WEIGHT_DECAY)"
   ]
  },
  {
   "cell_type": "markdown",
   "metadata": {
    "colab_type": "text",
    "id": "XefAQx4lFyIe"
   },
   "source": [
    "Input data into the model for each mini-batch and perform parameter update."
   ]
  },
  {
   "cell_type": "code",
   "execution_count": 7,
   "metadata": {
    "colab": {
     "base_uri": "https://localhost:8080/",
     "height": 1000
    },
    "colab_type": "code",
    "id": "fturdeYaFyau",
    "outputId": "d8195175-cee0-415b-b0e3-b768cd51c642"
   },
   "outputs": [
    {
     "name": "stdout",
     "output_type": "stream",
     "text": [
      "epoch 10 iter 600\n",
      "\ttrain mean loss=0.12878507748246193\n",
      "\ttest  mean loss=0.1305337056517601\n",
      "epoch 20 iter 1200\n",
      "\ttrain mean loss=0.11127943247556686\n",
      "\ttest  mean loss=0.11273842751979828\n",
      "epoch 30 iter 1800\n",
      "\ttrain mean loss=0.0991343026359876\n",
      "\ttest  mean loss=0.0999617837369442\n",
      "epoch 40 iter 2400\n",
      "\ttrain mean loss=0.09100556547443071\n",
      "\ttest  mean loss=0.09244673550128937\n",
      "epoch 50 iter 3000\n",
      "\ttrain mean loss=0.08526805167396863\n",
      "\ttest  mean loss=0.08687683641910553\n",
      "epoch 60 iter 3600\n",
      "\ttrain mean loss=0.08139122103651365\n",
      "\ttest  mean loss=0.08223465532064438\n",
      "epoch 70 iter 4200\n",
      "\ttrain mean loss=0.07850210803250472\n",
      "\ttest  mean loss=0.07903124690055847\n",
      "epoch 80 iter 4800\n",
      "\ttrain mean loss=0.0764821966489156\n",
      "\ttest  mean loss=0.07744503691792488\n",
      "epoch 90 iter 5400\n",
      "\ttrain mean loss=0.07490664000312487\n",
      "\ttest  mean loss=0.07544931620359421\n",
      "epoch 100 iter 6000\n",
      "\ttrain mean loss=0.07385997387270132\n",
      "\ttest  mean loss=0.07424058988690377\n",
      "epoch 110 iter 6600\n",
      "\ttrain mean loss=0.07291118378440539\n",
      "\ttest  mean loss=0.07386895641684532\n",
      "epoch 120 iter 7200\n",
      "\ttrain mean loss=0.07222006333371003\n",
      "\ttest  mean loss=0.0730980783700943\n",
      "epoch 130 iter 7800\n",
      "\ttrain mean loss=0.07182466437419256\n",
      "\ttest  mean loss=0.07229145169258118\n",
      "epoch 140 iter 8400\n",
      "\ttrain mean loss=0.07116107493638993\n",
      "\ttest  mean loss=0.07219895720481873\n",
      "epoch 150 iter 9000\n",
      "\ttrain mean loss=0.07072626526157061\n",
      "\ttest  mean loss=0.07128896415233613\n",
      "epoch 160 iter 9600\n",
      "\ttrain mean loss=0.07003694052497546\n",
      "\ttest  mean loss=0.07057839706540107\n",
      "epoch 170 iter 10200\n",
      "\ttrain mean loss=0.06884342109163602\n",
      "\ttest  mean loss=0.06959996074438095\n",
      "epoch 180 iter 10800\n",
      "\ttrain mean loss=0.06800308724244436\n",
      "\ttest  mean loss=0.0686229795217514\n",
      "epoch 190 iter 11400\n",
      "\ttrain mean loss=0.06650787157317002\n",
      "\ttest  mean loss=0.0668061301112175\n",
      "epoch 200 iter 12000\n",
      "\ttrain mean loss=0.06538102204600969\n",
      "\ttest  mean loss=0.06576597020030021\n",
      "epoch 210 iter 12600\n",
      "\ttrain mean loss=0.06444375813007355\n",
      "\ttest  mean loss=0.06490682139992714\n",
      "epoch 220 iter 13200\n",
      "\ttrain mean loss=0.06407661574582259\n",
      "\ttest  mean loss=0.06411809846758842\n",
      "epoch 230 iter 13800\n",
      "\ttrain mean loss=0.06359259864936272\n",
      "\ttest  mean loss=0.0635584682226181\n",
      "epoch 240 iter 14400\n",
      "\ttrain mean loss=0.06341579761356116\n",
      "\ttest  mean loss=0.0635073259472847\n",
      "epoch 250 iter 15000\n",
      "\ttrain mean loss=0.06314679974069198\n",
      "\ttest  mean loss=0.063318432867527\n",
      "epoch 260 iter 15600\n",
      "\ttrain mean loss=0.06275290157645941\n",
      "\ttest  mean loss=0.06274401545524597\n",
      "epoch 270 iter 16200\n",
      "\ttrain mean loss=0.062363299913704394\n",
      "\ttest  mean loss=0.06236146241426468\n",
      "epoch 280 iter 16800\n",
      "\ttrain mean loss=0.0619163333127896\n",
      "\ttest  mean loss=0.062066905200481415\n",
      "epoch 290 iter 17400\n",
      "\ttrain mean loss=0.06136034913361073\n",
      "\ttest  mean loss=0.0613835409283638\n",
      "epoch 300 iter 18000\n",
      "\ttrain mean loss=0.06042100302875042\n",
      "\ttest  mean loss=0.060501698032021524\n",
      "epoch 310 iter 18600\n",
      "\ttrain mean loss=0.05947273590912421\n",
      "\ttest  mean loss=0.05907059125602245\n",
      "epoch 320 iter 19200\n",
      "\ttrain mean loss=0.058257068941990536\n",
      "\ttest  mean loss=0.05863158740103245\n",
      "epoch 330 iter 19800\n",
      "\ttrain mean loss=0.05747632576773564\n",
      "\ttest  mean loss=0.05732934884727001\n",
      "epoch 340 iter 20400\n",
      "\ttrain mean loss=0.05636539148787657\n",
      "\ttest  mean loss=0.056191447749733926\n",
      "epoch 350 iter 21000\n",
      "\ttrain mean loss=0.05528824310749769\n",
      "\ttest  mean loss=0.05496154054999351\n",
      "epoch 360 iter 21600\n",
      "\ttrain mean loss=0.05426115399847428\n",
      "\ttest  mean loss=0.053841372951865196\n",
      "epoch 370 iter 22200\n",
      "\ttrain mean loss=0.053365788360436754\n",
      "\ttest  mean loss=0.05322339124977589\n",
      "epoch 380 iter 22800\n",
      "\ttrain mean loss=0.052400609975059825\n",
      "\ttest  mean loss=0.05256825052201748\n",
      "epoch 390 iter 23400\n",
      "\ttrain mean loss=0.05144597136725982\n",
      "\ttest  mean loss=0.05112878307700157\n",
      "epoch 400 iter 24000\n",
      "\ttrain mean loss=0.050594357090691724\n",
      "\ttest  mean loss=0.050535520911216734\n",
      "epoch 410 iter 24600\n",
      "\ttrain mean loss=0.049820418221255144\n",
      "\ttest  mean loss=0.04941748268902302\n",
      "epoch 420 iter 25200\n",
      "\ttrain mean loss=0.04930185892929633\n",
      "\ttest  mean loss=0.04902552366256714\n",
      "epoch 430 iter 25800\n",
      "\ttrain mean loss=0.04889802932739258\n",
      "\ttest  mean loss=0.04863630346953869\n",
      "epoch 440 iter 26400\n",
      "\ttrain mean loss=0.048505198955535886\n",
      "\ttest  mean loss=0.048064204305410384\n",
      "epoch 450 iter 27000\n",
      "\ttrain mean loss=0.04810799813518921\n",
      "\ttest  mean loss=0.04804700911045075\n",
      "epoch 460 iter 27600\n",
      "\ttrain mean loss=0.04781689712156852\n",
      "\ttest  mean loss=0.04750807397067547\n",
      "epoch 470 iter 28200\n",
      "\ttrain mean loss=0.047363092005252835\n",
      "\ttest  mean loss=0.04701950028538704\n",
      "epoch 480 iter 28800\n",
      "\ttrain mean loss=0.04709298008431991\n",
      "\ttest  mean loss=0.046660299971699716\n",
      "epoch 490 iter 29400\n",
      "\ttrain mean loss=0.046792318920294444\n",
      "\ttest  mean loss=0.0462583526968956\n",
      "epoch 500 iter 30000\n",
      "\ttrain mean loss=0.04652024116367102\n",
      "\ttest  mean loss=0.04626565016806126\n"
     ]
    }
   ],
   "source": [
    "trainLoss = []\n",
    "testLoss  = []\n",
    "\n",
    "\n",
    "for epoch in range(1, EPOCH+1):\n",
    "    if (epoch % 10 == 0):\n",
    "        print(\"epoch\", epoch, \"iter\", epoch*(datasizeTrain//BATCH_SIZE))\n",
    "\n",
    "    net.train()\n",
    "    for i in range(0, datasizeTrain, BATCH_SIZE):\n",
    "        perm = np.random.permutation(datasizeTrain)\n",
    "        xBatch = dataTrain[perm[i:i+BATCH_SIZE]]\n",
    "        tBatch = dataTrain[perm[i:i+BATCH_SIZE]]\n",
    "        if torch.cuda.is_available():\n",
    "            xBatch = torch.from_numpy(xBatch.copy()).float().to('cuda')\n",
    "            tBatch = torch.from_numpy(tBatch.copy()).float().to('cuda')\n",
    "        else:\n",
    "            xBatch = torch.from_numpy(xBatch.copy()).float()\n",
    "            tBatch = torch.from_numpy(tBatch.copy()).float()\n",
    "        optimizer.zero_grad()\n",
    "        yBatch = net(xBatch)\n",
    "        loss = criterion(yBatch, tBatch)\n",
    "        loss.backward()\n",
    "        optimizer.step()\n",
    "\n",
    "    net.eval()\n",
    "    sumTrainLoss = 0.0\n",
    "    with torch.no_grad():\n",
    "        for i in range(0, datasizeTrain, BATCH_SIZE):\n",
    "            perm = np.random.permutation(datasizeTrain)\n",
    "            xBatch = dataTrain[perm[i:i+BATCH_SIZE]]\n",
    "            tBatch = dataTrain[perm[i:i+BATCH_SIZE]]\n",
    "            if torch.cuda.is_available():\n",
    "                xBatch = torch.from_numpy(xBatch.copy()).float().to('cuda')\n",
    "                tBatch = torch.from_numpy(tBatch.copy()).float().to('cuda')\n",
    "            else:\n",
    "                xBatch = torch.from_numpy(xBatch.copy()).float()\n",
    "                tBatch = torch.from_numpy(tBatch.copy()).float()\n",
    "            yBatch = net(xBatch)\n",
    "            loss = criterion(yBatch, tBatch)\n",
    "            if torch.cuda.is_available():\n",
    "                loss.to('cpu')\n",
    "            sumTrainLoss += float(loss.data.item()) * BATCH_SIZE\n",
    "        trainLoss.append(sumTrainLoss / datasizeTrain)\n",
    "\n",
    "        sumTestLoss = 0.0\n",
    "        for i in range(0, datasizeTest, BATCH_SIZE):\n",
    "            perm = np.random.permutation(datasizeTest)\n",
    "            xBatch = dataTest[perm[i:i+BATCH_SIZE]] # (BATCH_SIZE, 1, 128, 128)\n",
    "            tBatch = dataTest[perm[i:i+BATCH_SIZE]] # (BATCH_SIZE, 1, 128, 128)\n",
    "            if torch.cuda.is_available():\n",
    "                xBatch = torch.from_numpy(xBatch.copy()).float().to('cuda')\n",
    "                tBatch = torch.from_numpy(tBatch.copy()).float().to('cuda')\n",
    "            else:\n",
    "                xBatch = torch.from_numpy(xBatch.copy()).float()\n",
    "                tBatch = torch.from_numpy(tBatch.copy()).float()\n",
    "            yBatch = net(xBatch)\n",
    "            loss = criterion(yBatch, tBatch)\n",
    "            if torch.cuda.is_available():\n",
    "                loss.to('cpu')\n",
    "            sumTestLoss += float(loss.data.item()) * BATCH_SIZE\n",
    "        testLoss.append(sumTestLoss / datasizeTest)\n",
    "\n",
    "    if (epoch % 10 == 0):\n",
    "        print(\"\\ttrain mean loss={}\".format(sumTrainLoss / datasizeTrain))\n",
    "        print(\"\\ttest  mean loss={}\".format(sumTestLoss / datasizeTest))"
   ]
  },
  {
   "cell_type": "markdown",
   "metadata": {
    "colab_type": "text",
    "id": "IKNhoL4UGATY"
   },
   "source": [
    "Draw the graph of training curve of loss"
   ]
  },
  {
   "cell_type": "code",
   "execution_count": 8,
   "metadata": {
    "colab": {
     "base_uri": "https://localhost:8080/",
     "height": 390
    },
    "colab_type": "code",
    "id": "-XCJO5bnGAZ_",
    "outputId": "468336b2-0452-4e5b-f23b-095db87f771b"
   },
   "outputs": [
    {
     "data": {
      "image/png": "[encoded data removed]",
      "text/plain": [
       "<Figure size 432x432 with 1 Axes>"
      ]
     },
     "metadata": {
      "needs_background": "light"
     },
     "output_type": "display_data"
    }
   ],
   "source": [
    "plt.figure(figsize=(6,6))\n",
    "\n",
    "plt.plot(range(EPOCH), trainLoss)\n",
    "plt.plot(range(EPOCH), testLoss)\n",
    "plt.legend(['train loss', 'test loss'])\n",
    "plt.title('loss')\n",
    "plt.savefig(\"loss.png\")"
   ]
  },
  {
   "cell_type": "markdown",
   "metadata": {
    "colab_type": "text",
    "id": "Esojt9NeGaFN"
   },
   "source": [
    "Plot the some output result of the network as an image."
   ]
  },
  {
   "cell_type": "code",
   "execution_count": 9,
   "metadata": {
    "colab": {
     "base_uri": "https://localhost:8080/",
     "height": 248
    },
    "colab_type": "code",
    "id": "Xpxyulr3GaLv",
    "outputId": "0313ad48-b8d7-4577-ebf6-9faf307adfde"
   },
   "outputs": [
    {
     "data": {
      "image/png": "[encoded data removed]",
      "text/plain": [
       "<Figure size 1440x288 with 20 Axes>"
      ]
     },
     "metadata": {
      "needs_background": "light"
     },
     "output_type": "display_data"
    }
   ],
   "source": [
    "result_train = np.zeros((datasizeTrain, 1, 28, 28))\n",
    "result_test = np.zeros((datasizeTest, 1, 28, 28))\n",
    "\n",
    "#Get network output for train data.\n",
    "for i in range(0, datasizeTrain, BATCH_SIZE):\n",
    "    xBatch = dataTrain[i:i+BATCH_SIZE]\n",
    "    if torch.cuda.is_available():\n",
    "        xBatch = torch.from_numpy(xBatch.copy()).float().to('cuda')\n",
    "    else:\n",
    "        xBatch = torch.from_numpy(xBatch.copy()).float()\n",
    "    re = net(xBatch)\n",
    "    if torch.cuda.is_available():\n",
    "        result_train[i:i+BATCH_SIZE] = re.to('cpu').data\n",
    "    else:\n",
    "        result_train[i:i+BATCH_SIZE] = re.data\n",
    "\n",
    "#Get network output for test data.\n",
    "for i in range(0, datasizeTest, BATCH_SIZE):\n",
    "    xBatch = dataTest[i:i+BATCH_SIZE]\n",
    "    if torch.cuda.is_available():\n",
    "        xBatch = torch.from_numpy(xBatch.copy()).float().to('cuda')\n",
    "    else:\n",
    "        xBatch = torch.from_numpy(xBatch.copy()).float()\n",
    "    re = net(xBatch)\n",
    "\n",
    "    if torch.cuda.is_available():\n",
    "        result_test[i:i+BATCH_SIZE] = re.to('cpu').data\n",
    "    else:\n",
    "        result_test[i:i+BATCH_SIZE] = re.data\n",
    "\n",
    "\n",
    "\n",
    "n = 10\n",
    "plt.figure(figsize=(20, 4))\n",
    "for i in range(n):\n",
    "    ax = plt.subplot(2, n, i+1)\n",
    "    plt.imshow(dataTest[i].reshape(28, 28))\n",
    "    plt.gray()\n",
    "    ax.get_xaxis().set_visible(False)\n",
    "    ax.get_yaxis().set_visible(False)\n",
    "\n",
    "    ax = plt.subplot(2, n, i+1+n)\n",
    "    plt.imshow(result_test[i].reshape(28, 28))\n",
    "    plt.gray()\n",
    "    ax.get_xaxis().set_visible(False)\n",
    "    ax.get_yaxis().set_visible(False)\n",
    "plt.show()"
   ]
  },
  {
   "cell_type": "markdown",
   "metadata": {
    "colab_type": "text",
    "id": "-f55upQwm8VK"
   },
   "source": [
    "View the plot of the hidden layer using PCA."
   ]
  },
  {
   "cell_type": "markdown",
   "metadata": {
    "colab_type": "text",
    "id": "ApkKuWHpb4XI"
   },
   "source": [
    "PCA is a technique for dimensional compression of multidimensional data.\n",
    "\n",
    "The purpose of PCA is to find the principal component axis that maximizes the data variance and to represent the data along that axis.\n",
    "\n",
    "If a data point projected the principal component axis is expressed $\\bf{u}^T_1 x_i$, the variance of the projected data is as follows."
   ]
  },
  {
   "cell_type": "markdown",
   "metadata": {
    "colab_type": "text",
    "id": "GVy3aD8OgRI1"
   },
   "source": [
    "\\begin{align}\n",
    "Var[X] = \\frac{1}{n}\\sum_{i=1}^n (\\bf{u_1}^T x_i - \\bf{u_1}^T \\bar{x})^2\n",
    "\\end{align}"
   ]
  },
  {
   "cell_type": "markdown",
   "metadata": {
    "colab_type": "text",
    "id": "NaI-I9x-mY1c"
   },
   "source": [
    "Where $\\bf{u}_1$ is the unit vector and $\\bf{\\bar{x}}$ is"
   ]
  },
  {
   "cell_type": "markdown",
   "metadata": {
    "colab_type": "text",
    "id": "gr8LcTNJ3-nY"
   },
   "source": [
    "\\begin{align}\n",
    "\\bar{x} = \\frac{1}{N}\\sum_{n=1}^N \\bf{x}_n\n",
    "\\end{align}"
   ]
  },
  {
   "cell_type": "markdown",
   "metadata": {
    "colab_type": "text",
    "id": "6sN5MuWEkCsS"
   },
   "source": [
    "Also, $Var[X]$ can be expresed using the covariance $S = \\frac{1}{N}\\sum_{n=1}^N(\\bf x_n-\\bar{x})(x_n-\\bar{x})^T$,"
   ]
  },
  {
   "cell_type": "markdown",
   "metadata": {
    "colab_type": "text",
    "id": "ZPBUU5n1mqU7"
   },
   "source": [
    "\\begin{align}\n",
    "Var[X] = \\bf u_1^T S u_1 ~~.\n",
    "\\end{align}"
   ]
  },
  {
   "cell_type": "markdown",
   "metadata": {
    "colab_type": "text",
    "id": "B-VZ1v0Hmssy"
   },
   "source": [
    "In order to consider dispersion maximization, a Lagrange constant is introduced into this equation."
   ]
  },
  {
   "cell_type": "markdown",
   "metadata": {
    "colab_type": "text",
    "id": "7YQmtBnfo6HS"
   },
   "source": [
    "\\begin{align}\n",
    "\\bf u_1^T S u_1 + \\lambda_1(1-u_1^Tu_1)\n",
    "\\end{align}"
   ]
  },
  {
   "cell_type": "markdown",
   "metadata": {
    "colab_type": "text",
    "id": "IyGjON3QpbuS"
   },
   "source": [
    "If the derivative with respect to $\\bf u_1$ is 0,\n",
    "\n",
    "\\begin{align}\n",
    "\\bf S u_1 &= \\lambda_1 \\bf u_1 \\\\\n",
    "\\bf u_1^T S u_1 &= \\lambda_1\n",
    "\\end{align}\n",
    "\n",
    "Therefore, the variance $Var[X]$ becomes maximum when the eigenvector corresponding to the maximum eigenvalue $\\lambda_1$ of $S$ is $\\bf u_1$.\n",
    "\n",
    "This is called the first main component.\n",
    "\n",
    "Also, when considering projection onto the $M$ dimension, the eigenvectors corresponding to the $M$ eigenvalues in descending order are referred to as a second principal component, a third principal component..., respectively.\n"
   ]
  },
  {
   "cell_type": "markdown",
   "metadata": {
    "colab_type": "text",
    "id": "klrlyXX_ttAr"
   },
   "source": [
    "PCA can be easily implemented using scikit-learn."
   ]
  },
  {
   "cell_type": "code",
   "execution_count": 10,
   "metadata": {
    "colab": {
     "base_uri": "https://localhost:8080/",
     "height": 265
    },
    "colab_type": "code",
    "id": "KlrOlgAfbifb",
    "outputId": "de38e4a2-6cc8-433e-81bc-94f950ef0197"
   },
   "outputs": [
    {
     "data": {
      "image/png": "[encoded data removed]",
      "text/plain": [
       "<Figure size 432x288 with 1 Axes>"
      ]
     },
     "metadata": {
      "needs_background": "light"
     },
     "output_type": "display_data"
    }
   ],
   "source": [
    "from sklearn.decomposition import PCA\n",
    "\n",
    "#Extract the middle layer.\n",
    "result = np.empty((datasizeTrain, 10))\n",
    "for i in range(0, datasizeTrain, BATCH_SIZE):\n",
    "\txBatch = dataTrain[i:i+BATCH_SIZE] # (BATCH_SIZE, 1, 128, 128)\n",
    "\tif torch.cuda.is_available():\n",
    "\t\txBatch = torch.from_numpy(xBatch.copy()).float().to('cuda')\n",
    "\telse:\n",
    "\t\txBatch = torch.from_numpy(xBatch.copy()).float()\n",
    "\n",
    "\txBatch = xBatch.view(-1, 28*28*1)\n",
    "\thidden = net.fc1(xBatch)\n",
    "\tresult[i:i+BATCH_SIZE] = hidden.cpu().detach().numpy()\n",
    "  \n",
    "#PCA definition. Specify the number of dimensions after reduction in n_components.\n",
    "pca = PCA(n_components=2)\n",
    "#Fitting training samples.\n",
    "pca.fit(result)\n",
    "#Perform dimension reduction.\n",
    "result = pca.transform(result)\n",
    "\n",
    "#Results plot.\n",
    "c = ['#ff0000', '#ffff00', '#00ff00', '#00ffff', '#0000ff','#ff00ff', '#990000', '#999900', '#009900', '#009999']\n",
    "for i in range(10):\n",
    "\tfeat = result[np.where(labelTrain == i)]\n",
    "\tplt.plot(feat[:,0], feat[:,1], '.', c=c[i])\n",
    "plt.legend(['0', '1', '2', '3', '4', '5', '6', '7', '8', '9'])\n",
    "plt.show()"
   ]
  },
  {
   "cell_type": "code",
   "execution_count": null,
   "metadata": {
    "colab": {},
    "colab_type": "code",
    "id": "tFB-ykhKxXvc"
   },
   "outputs": [],
   "source": []
  }
 ],
 "metadata": {
  "accelerator": "GPU",
  "colab": {
   "include_colab_link": true,
   "name": "lab_tutorial2.ipynb",
   "provenance": [],
   "version": "0.3.2"
  },
  "kernelspec": {
   "display_name": "Python 3",
   "language": "python",
   "name": "python3"
  },
  "language_info": {
   "codemirror_mode": {
    "name": "ipython",
    "version": 3
   },
   "file_extension": ".py",
   "mimetype": "text/x-python",
   "name": "python",
   "nbconvert_exporter": "python",
   "pygments_lexer": "ipython3",
   "version": "3.8.2"
  }
 },
 "nbformat": 4,
 "nbformat_minor": 4
}
