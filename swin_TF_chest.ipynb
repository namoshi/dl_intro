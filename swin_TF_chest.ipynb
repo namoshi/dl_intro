{
 "cells": [
  {
   "cell_type": "markdown",
   "metadata": {},
   "source": [
    "# Swin Transformer\n",
    "\n",
    "参考：https://meditech-ai.com/pytorch-swin-transformer/"
   ]
  },
  {
   "cell_type": "code",
   "execution_count": 1,
   "metadata": {},
   "outputs": [
    {
     "name": "stdout",
     "output_type": "stream",
     "text": [
      "Requirement already satisfied: timm in /home/kurita/anaconda3/lib/python3.11/site-packages (1.0.11)\n",
      "Requirement already satisfied: torch in /home/kurita/anaconda3/lib/python3.11/site-packages (from timm) (2.4.1)\n",
      "Requirement already satisfied: torchvision in /home/kurita/anaconda3/lib/python3.11/site-packages (from timm) (0.15.2a0)\n",
      "Requirement already satisfied: pyyaml in /home/kurita/anaconda3/lib/python3.11/site-packages (from timm) (6.0.1)\n",
      "Requirement already satisfied: huggingface_hub in /home/kurita/anaconda3/lib/python3.11/site-packages (from timm) (0.26.2)\n",
      "Requirement already satisfied: safetensors in /home/kurita/anaconda3/lib/python3.11/site-packages (from timm) (0.4.5)\n",
      "Requirement already satisfied: filelock in /home/kurita/anaconda3/lib/python3.11/site-packages (from huggingface_hub->timm) (3.13.1)\n",
      "Requirement already satisfied: fsspec>=2023.5.0 in /home/kurita/anaconda3/lib/python3.11/site-packages (from huggingface_hub->timm) (2024.6.1)\n",
      "Requirement already satisfied: packaging>=20.9 in /home/kurita/anaconda3/lib/python3.11/site-packages (from huggingface_hub->timm) (24.1)\n",
      "Requirement already satisfied: requests in /home/kurita/anaconda3/lib/python3.11/site-packages (from huggingface_hub->timm) (2.32.3)\n",
      "Requirement already satisfied: tqdm>=4.42.1 in /home/kurita/anaconda3/lib/python3.11/site-packages (from huggingface_hub->timm) (4.66.5)\n",
      "Requirement already satisfied: typing-extensions>=3.7.4.3 in /home/kurita/anaconda3/lib/python3.11/site-packages (from huggingface_hub->timm) (4.11.0)\n",
      "Requirement already satisfied: sympy in /home/kurita/anaconda3/lib/python3.11/site-packages (from torch->timm) (1.13.2)\n",
      "Requirement already satisfied: networkx in /home/kurita/anaconda3/lib/python3.11/site-packages (from torch->timm) (3.3)\n",
      "Requirement already satisfied: jinja2 in /home/kurita/anaconda3/lib/python3.11/site-packages (from torch->timm) (3.1.4)\n",
      "Requirement already satisfied: numpy in /home/kurita/anaconda3/lib/python3.11/site-packages (from torchvision->timm) (1.26.4)\n",
      "Requirement already satisfied: pillow!=8.3.*,>=5.3.0 in /home/kurita/anaconda3/lib/python3.11/site-packages (from torchvision->timm) (10.4.0)\n",
      "Requirement already satisfied: MarkupSafe>=2.0 in /home/kurita/anaconda3/lib/python3.11/site-packages (from jinja2->torch->timm) (2.1.3)\n",
      "Requirement already satisfied: charset-normalizer<4,>=2 in /home/kurita/anaconda3/lib/python3.11/site-packages (from requests->huggingface_hub->timm) (3.3.2)\n",
      "Requirement already satisfied: idna<4,>=2.5 in /home/kurita/anaconda3/lib/python3.11/site-packages (from requests->huggingface_hub->timm) (3.7)\n",
      "Requirement already satisfied: urllib3<3,>=1.21.1 in /home/kurita/anaconda3/lib/python3.11/site-packages (from requests->huggingface_hub->timm) (2.2.2)\n",
      "Requirement already satisfied: certifi>=2017.4.17 in /home/kurita/anaconda3/lib/python3.11/site-packages (from requests->huggingface_hub->timm) (2024.8.30)\n",
      "Requirement already satisfied: mpmath<1.4,>=1.1.0 in /home/kurita/anaconda3/lib/python3.11/site-packages (from sympy->torch->timm) (1.3.0)\n"
     ]
    }
   ],
   "source": [
    "!pip install timm"
   ]
  },
  {
   "cell_type": "code",
   "execution_count": 1,
   "metadata": {},
   "outputs": [
    {
     "name": "stderr",
     "output_type": "stream",
     "text": [
      "/home/kurita/anaconda3/lib/python3.11/site-packages/torchvision/io/image.py:13: UserWarning: Failed to load image Python extension: '/home/kurita/anaconda3/lib/python3.11/site-packages/torchvision/image.so: undefined symbol: _ZN3c1017RegisterOperatorsD1Ev'If you don't plan on using image functionality from `torchvision.io`, you can ignore this warning. Otherwise, there might be something wrong with your environment. Did you have `libjpeg` or `libpng` installed before building `torchvision` from source?\n",
      "  warn(\n"
     ]
    }
   ],
   "source": [
    "from __future__ import print_function\n",
    "\n",
    "import glob\n",
    "import os\n",
    "import random\n",
    "import cv2\n",
    "import time\n",
    "\n",
    "import numpy as np\n",
    "import pandas as pd\n",
    "import torch\n",
    "import torch.nn as nn\n",
    "import torch.nn.functional as F\n",
    "import torch.optim as optim\n",
    "from PIL import Image\n",
    "from torch.utils.data import DataLoader, Dataset\n",
    "from torchvision import datasets, transforms\n",
    "from tqdm.notebook import tqdm\n",
    "\n",
    "from pathlib import Path\n",
    "import seaborn as sns\n",
    "import timm\n",
    "from pprint import pprint\n",
    "from sklearn.metrics import confusion_matrix, accuracy_score, recall_score, precision_score, f1_score, roc_auc_score, roc_curve, auc\n",
    "import matplotlib.pyplot as plt"
   ]
  },
  {
   "cell_type": "code",
   "execution_count": 2,
   "metadata": {},
   "outputs": [],
   "source": [
    "# Training settings\n",
    "epochs = 100\n",
    "lr = 0.0001"
   ]
  },
  {
   "cell_type": "code",
   "execution_count": 3,
   "metadata": {},
   "outputs": [],
   "source": [
    "device = 'cuda'\n",
    "train_dataset_dir = Path('./data/Gender01/train')\n",
    "val_dataset_dir = Path('./data/Gender01/validation')\n",
    "test_dataset_dir = Path('./data/Gender01/test')"
   ]
  },
  {
   "cell_type": "code",
   "execution_count": 4,
   "metadata": {},
   "outputs": [
    {
     "name": "stdout",
     "output_type": "stream",
     "text": [
      "['./data/Gender01/test/female/JPCNN058.png', './data/Gender01/test/female/JPCNN059.png', './data/Gender01/test/female/JPCNN062.png', './data/Gender01/test/female/JPCNN064.png', './data/Gender01/test/female/JPCNN066.png', './data/Gender01/test/female/JPCNN067.png', './data/Gender01/test/female/JPCNN069.png', './data/Gender01/test/female/JPCNN070.png', './data/Gender01/test/female/JPCNN071.png', './data/Gender01/test/female/JPCNN073.png', './data/Gender01/test/female/JPCNN074.png', './data/Gender01/test/female/JPCNN077.png', './data/Gender01/test/female/JPCNN078.png', './data/Gender01/test/female/JPCNN080.png', './data/Gender01/test/female/JPCNN081.png', './data/Gender01/test/female/JPCNN083.png', './data/Gender01/test/female/JPCNN084.png', './data/Gender01/test/female/JPCNN085.png', './data/Gender01/test/female/JPCNN087.png', './data/Gender01/test/female/JPCNN090.png', './data/Gender01/test/female/JPCNN092.png', './data/Gender01/test/male/JPCNN044.png', './data/Gender01/test/male/JPCNN045.png', './data/Gender01/test/male/JPCNN046.png', './data/Gender01/test/male/JPCNN048.png', './data/Gender01/test/male/JPCNN049.png', './data/Gender01/test/male/JPCNN050.png', './data/Gender01/test/male/JPCNN053.png', './data/Gender01/test/male/JPCNN054.png', './data/Gender01/test/male/JPCNN055.png', './data/Gender01/test/male/JPCNN056.png', './data/Gender01/test/male/JPCNN057.png', './data/Gender01/test/male/JPCNN060.png', './data/Gender01/test/male/JPCNN061.png', './data/Gender01/test/male/JPCNN063.png', './data/Gender01/test/male/JPCNN065.png', './data/Gender01/test/male/JPCNN068.png', './data/Gender01/test/male/JPCNN072.png', './data/Gender01/test/male/JPCNN075.png', './data/Gender01/test/male/JPCNN076.png', './data/Gender01/test/male/JPCNN079.png', './data/Gender01/test/male/JPCNN082.png', './data/Gender01/test/male/JPCNN086.png', './data/Gender01/test/male/JPCNN088.png', './data/Gender01/test/male/JPCNN089.png', './data/Gender01/test/male/JPCNN091.png', './data/Gender01/test/male/JPCNN093.png', './data/Gender01/train/female/JPCLN002.png', './data/Gender01/train/female/JPCLN003.png', './data/Gender01/train/female/JPCLN004.png', './data/Gender01/train/female/JPCLN005.png', './data/Gender01/train/female/JPCLN006.png', './data/Gender01/train/female/JPCLN008.png', './data/Gender01/train/female/JPCLN009.png', './data/Gender01/train/female/JPCLN010.png', './data/Gender01/train/female/JPCLN015.png', './data/Gender01/train/female/JPCLN017.png', './data/Gender01/train/female/JPCLN019.png', './data/Gender01/train/female/JPCLN020.png', './data/Gender01/train/female/JPCLN021.png', './data/Gender01/train/female/JPCLN022.png', './data/Gender01/train/female/JPCLN023.png', './data/Gender01/train/female/JPCLN024.png', './data/Gender01/train/female/JPCLN025.png', './data/Gender01/train/female/JPCLN027.png', './data/Gender01/train/female/JPCLN029.png', './data/Gender01/train/female/JPCLN030.png', './data/Gender01/train/female/JPCLN031.png', './data/Gender01/train/female/JPCLN033.png', './data/Gender01/train/female/JPCLN034.png', './data/Gender01/train/female/JPCLN037.png', './data/Gender01/train/female/JPCLN038.png', './data/Gender01/train/female/JPCLN039.png', './data/Gender01/train/female/JPCLN042.png', './data/Gender01/train/female/JPCLN043.png', './data/Gender01/train/female/JPCLN048.png', './data/Gender01/train/female/JPCLN050.png', './data/Gender01/train/female/JPCLN051.png', './data/Gender01/train/female/JPCLN052.png', './data/Gender01/train/female/JPCLN054.png', './data/Gender01/train/female/JPCLN055.png', './data/Gender01/train/female/JPCLN056.png', './data/Gender01/train/female/JPCLN057.png', './data/Gender01/train/female/JPCLN059.png', './data/Gender01/train/female/JPCLN060.png', './data/Gender01/train/female/JPCLN062.png', './data/Gender01/train/female/JPCLN067.png', './data/Gender01/train/female/JPCLN069.png', './data/Gender01/train/female/JPCLN071.png', './data/Gender01/train/female/JPCLN072.png', './data/Gender01/train/female/JPCLN075.png', './data/Gender01/train/female/JPCLN077.png', './data/Gender01/train/female/JPCLN079.png', './data/Gender01/train/female/JPCLN080.png', './data/Gender01/train/female/JPCLN081.png', './data/Gender01/train/female/JPCLN082.png', './data/Gender01/train/female/JPCLN084.png', './data/Gender01/train/female/JPCLN085.png', './data/Gender01/train/female/JPCLN088.png', './data/Gender01/train/female/JPCLN095.png', './data/Gender01/train/female/JPCLN096.png', './data/Gender01/train/female/JPCLN099.png', './data/Gender01/train/female/JPCLN100.png', './data/Gender01/train/female/JPCLN102.png', './data/Gender01/train/female/JPCLN105.png', './data/Gender01/train/female/JPCLN108.png', './data/Gender01/train/female/JPCLN109.png', './data/Gender01/train/female/JPCLN113.png', './data/Gender01/train/female/JPCLN114.png', './data/Gender01/train/female/JPCLN116.png', './data/Gender01/train/female/JPCLN117.png', './data/Gender01/train/female/JPCLN119.png', './data/Gender01/train/female/JPCLN122.png', './data/Gender01/train/female/JPCLN124.png', './data/Gender01/train/female/JPCLN125.png', './data/Gender01/train/female/JPCLN127.png', './data/Gender01/train/female/JPCLN128.png', './data/Gender01/train/female/JPCLN131.png', './data/Gender01/train/female/JPCLN132.png', './data/Gender01/train/female/JPCLN133.png', './data/Gender01/train/female/JPCLN134.png', './data/Gender01/train/female/JPCLN136.png', './data/Gender01/train/female/JPCLN137.png', './data/Gender01/train/female/JPCLN138.png', './data/Gender01/train/female/JPCLN140.png', './data/Gender01/train/female/JPCLN144.png', './data/Gender01/train/female/JPCLN145.png', './data/Gender01/train/female/JPCLN147.png', './data/Gender01/train/female/JPCLN148.png', './data/Gender01/train/female/JPCLN149.png', './data/Gender01/train/female/JPCLN150.png', './data/Gender01/train/female/JPCLN151.png', './data/Gender01/train/female/JPCLN154.png', './data/Gender01/train/male/JPCLN001.png', './data/Gender01/train/male/JPCLN007.png', './data/Gender01/train/male/JPCLN011.png', './data/Gender01/train/male/JPCLN012.png', './data/Gender01/train/male/JPCLN013.png', './data/Gender01/train/male/JPCLN014.png', './data/Gender01/train/male/JPCLN016.png', './data/Gender01/train/male/JPCLN018.png', './data/Gender01/train/male/JPCLN026.png', './data/Gender01/train/male/JPCLN028.png', './data/Gender01/train/male/JPCLN032.png', './data/Gender01/train/male/JPCLN035.png', './data/Gender01/train/male/JPCLN036.png', './data/Gender01/train/male/JPCLN040.png', './data/Gender01/train/male/JPCLN041.png', './data/Gender01/train/male/JPCLN044.png', './data/Gender01/train/male/JPCLN045.png', './data/Gender01/train/male/JPCLN046.png', './data/Gender01/train/male/JPCLN047.png', './data/Gender01/train/male/JPCLN049.png', './data/Gender01/train/male/JPCLN053.png', './data/Gender01/train/male/JPCLN058.png', './data/Gender01/train/male/JPCLN061.png', './data/Gender01/train/male/JPCLN063.png', './data/Gender01/train/male/JPCLN064.png', './data/Gender01/train/male/JPCLN065.png', './data/Gender01/train/male/JPCLN066.png', './data/Gender01/train/male/JPCLN068.png', './data/Gender01/train/male/JPCLN070.png', './data/Gender01/train/male/JPCLN073.png', './data/Gender01/train/male/JPCLN074.png', './data/Gender01/train/male/JPCLN076.png', './data/Gender01/train/male/JPCLN078.png', './data/Gender01/train/male/JPCLN083.png', './data/Gender01/train/male/JPCLN086.png', './data/Gender01/train/male/JPCLN087.png', './data/Gender01/train/male/JPCLN089.png', './data/Gender01/train/male/JPCLN090.png', './data/Gender01/train/male/JPCLN091.png', './data/Gender01/train/male/JPCLN092.png', './data/Gender01/train/male/JPCLN093.png', './data/Gender01/train/male/JPCLN094.png', './data/Gender01/train/male/JPCLN097.png', './data/Gender01/train/male/JPCLN098.png', './data/Gender01/train/male/JPCLN101.png', './data/Gender01/train/male/JPCLN103.png', './data/Gender01/train/male/JPCLN104.png', './data/Gender01/train/male/JPCLN106.png', './data/Gender01/train/male/JPCLN107.png', './data/Gender01/train/male/JPCLN110.png', './data/Gender01/train/male/JPCLN111.png', './data/Gender01/train/male/JPCLN112.png', './data/Gender01/train/male/JPCLN115.png', './data/Gender01/train/male/JPCLN118.png', './data/Gender01/train/male/JPCLN120.png', './data/Gender01/train/male/JPCLN121.png', './data/Gender01/train/male/JPCLN123.png', './data/Gender01/train/male/JPCLN126.png', './data/Gender01/train/male/JPCLN129.png', './data/Gender01/train/male/JPCLN130.png', './data/Gender01/train/male/JPCLN135.png', './data/Gender01/train/male/JPCLN139.png', './data/Gender01/train/male/JPCLN141.png', './data/Gender01/train/male/JPCLN142.png', './data/Gender01/train/male/JPCLN143.png', './data/Gender01/train/male/JPCLN146.png', './data/Gender01/train/male/JPCLN152.png', './data/Gender01/train/male/JPCLN153.png', './data/Gender01/validation/female/JPCNN001.png', './data/Gender01/validation/female/JPCNN003.png', './data/Gender01/validation/female/JPCNN009.png', './data/Gender01/validation/female/JPCNN013.png', './data/Gender01/validation/female/JPCNN015.png', './data/Gender01/validation/female/JPCNN017.png', './data/Gender01/validation/female/JPCNN018.png', './data/Gender01/validation/female/JPCNN019.png', './data/Gender01/validation/female/JPCNN021.png', './data/Gender01/validation/female/JPCNN024.png', './data/Gender01/validation/female/JPCNN027.png', './data/Gender01/validation/female/JPCNN028.png', './data/Gender01/validation/female/JPCNN029.png', './data/Gender01/validation/female/JPCNN030.png', './data/Gender01/validation/female/JPCNN038.png', './data/Gender01/validation/female/JPCNN040.png', './data/Gender01/validation/female/JPCNN042.png', './data/Gender01/validation/female/JPCNN043.png', './data/Gender01/validation/female/JPCNN047.png', './data/Gender01/validation/female/JPCNN051.png', './data/Gender01/validation/female/JPCNN052.png', './data/Gender01/validation/male/JPCNN002.png', './data/Gender01/validation/male/JPCNN004.png', './data/Gender01/validation/male/JPCNN005.png', './data/Gender01/validation/male/JPCNN006.png', './data/Gender01/validation/male/JPCNN007.png', './data/Gender01/validation/male/JPCNN008.png', './data/Gender01/validation/male/JPCNN010.png', './data/Gender01/validation/male/JPCNN011.png', './data/Gender01/validation/male/JPCNN012.png', './data/Gender01/validation/male/JPCNN014.png', './data/Gender01/validation/male/JPCNN016.png', './data/Gender01/validation/male/JPCNN020.png', './data/Gender01/validation/male/JPCNN022.png', './data/Gender01/validation/male/JPCNN023.png', './data/Gender01/validation/male/JPCNN025.png', './data/Gender01/validation/male/JPCNN026.png', './data/Gender01/validation/male/JPCNN031.png', './data/Gender01/validation/male/JPCNN032.png', './data/Gender01/validation/male/JPCNN033.png', './data/Gender01/validation/male/JPCNN034.png', './data/Gender01/validation/male/JPCNN035.png', './data/Gender01/validation/male/JPCNN036.png', './data/Gender01/validation/male/JPCNN037.png', './data/Gender01/validation/male/JPCNN039.png', './data/Gender01/validation/male/JPCNN041.png']\n"
     ]
    },
    {
     "data": {
      "image/png": "[encoded data removed]",
      "text/plain": [
       "<Figure size 800x600 with 9 Axes>"
      ]
     },
     "metadata": {},
     "output_type": "display_data"
    }
   ],
   "source": [
    "files = glob.glob('./data/Gender01/*/*/*.png')\n",
    "print(files)\n",
    "random_idx = np.random.randint(1, len(files), size=9)\n",
    "fig, axes = plt.subplots(3, 3, figsize=(8, 6))\n",
    "\n",
    "for idx, ax in enumerate(axes.ravel()):\n",
    "    img = Image.open(files[idx])\n",
    "    ax.imshow(img,  cmap='Greys')"
   ]
  },
  {
   "cell_type": "code",
   "execution_count": 6,
   "metadata": {},
   "outputs": [],
   "source": [
    "train_transforms = transforms.Compose(\n",
    "    [\n",
    "        transforms.Resize((224, 224)),\n",
    "        transforms.ToTensor(),\n",
    "        transforms.Normalize(mean=[0.485, 0.456, 0.406], std=[0.229, 0.224, 0.225])\n",
    "    ]\n",
    ")\n",
    "\n",
    "val_transforms = transforms.Compose(\n",
    "    [\n",
    "        transforms.Resize(224),\n",
    "        transforms.ToTensor(),\n",
    "        transforms.Normalize(mean=[0.485, 0.456, 0.406], std=[0.229, 0.224, 0.225])\n",
    "    ]\n",
    ")\n",
    "\n",
    "test_transforms = transforms.Compose(\n",
    "    [\n",
    "        transforms.Resize(224),\n",
    "        transforms.ToTensor(),\n",
    "        transforms.Normalize(mean=[0.485, 0.456, 0.406], std=[0.229, 0.224, 0.225])\n",
    "    ]\n",
    ")"
   ]
  },
  {
   "cell_type": "code",
   "execution_count": 7,
   "metadata": {},
   "outputs": [],
   "source": [
    "train_data = datasets.ImageFolder(train_dataset_dir,train_transforms)\n",
    "valid_data = datasets.ImageFolder(val_dataset_dir, val_transforms)\n",
    "test_data = datasets.ImageFolder(test_dataset_dir, test_transforms)"
   ]
  },
  {
   "cell_type": "code",
   "execution_count": 8,
   "metadata": {},
   "outputs": [],
   "source": [
    "train_loader = DataLoader(dataset = train_data, batch_size=16, shuffle=True )\n",
    "valid_loader = DataLoader(dataset = valid_data, batch_size=16, shuffle=False)\n",
    "test_loader = DataLoader(dataset = test_data, batch_size=16, shuffle=False)"
   ]
  },
  {
   "cell_type": "code",
   "execution_count": 9,
   "metadata": {},
   "outputs": [
    {
     "name": "stdout",
     "output_type": "stream",
     "text": [
      "['bat_resnext26ts.ch_in1k',\n",
      " 'beit_base_patch16_224.in22k_ft_in22k',\n",
      " 'beit_base_patch16_224.in22k_ft_in22k_in1k',\n",
      " 'beit_base_patch16_384.in22k_ft_in22k_in1k',\n",
      " 'beit_large_patch16_224.in22k_ft_in22k',\n",
      " 'beit_large_patch16_224.in22k_ft_in22k_in1k',\n",
      " 'beit_large_patch16_384.in22k_ft_in22k_in1k',\n",
      " 'beit_large_patch16_512.in22k_ft_in22k_in1k',\n",
      " 'beitv2_base_patch16_224.in1k_ft_in1k',\n",
      " 'beitv2_base_patch16_224.in1k_ft_in22k',\n",
      " 'beitv2_base_patch16_224.in1k_ft_in22k_in1k',\n",
      " 'beitv2_large_patch16_224.in1k_ft_in1k',\n",
      " 'beitv2_large_patch16_224.in1k_ft_in22k',\n",
      " 'beitv2_large_patch16_224.in1k_ft_in22k_in1k',\n",
      " 'botnet26t_256.c1_in1k',\n",
      " 'caformer_b36.sail_in1k',\n",
      " 'caformer_b36.sail_in1k_384',\n",
      " 'caformer_b36.sail_in22k',\n",
      " 'caformer_b36.sail_in22k_ft_in1k',\n",
      " 'caformer_b36.sail_in22k_ft_in1k_384',\n",
      " 'caformer_m36.sail_in1k',\n",
      " 'caformer_m36.sail_in1k_384',\n",
      " 'caformer_m36.sail_in22k',\n",
      " 'caformer_m36.sail_in22k_ft_in1k',\n",
      " 'caformer_m36.sail_in22k_ft_in1k_384',\n",
      " 'caformer_s18.sail_in1k',\n",
      " 'caformer_s18.sail_in1k_384',\n",
      " 'caformer_s18.sail_in22k',\n",
      " 'caformer_s18.sail_in22k_ft_in1k',\n",
      " 'caformer_s18.sail_in22k_ft_in1k_384',\n",
      " 'caformer_s36.sail_in1k',\n",
      " 'caformer_s36.sail_in1k_384',\n",
      " 'caformer_s36.sail_in22k',\n",
      " 'caformer_s36.sail_in22k_ft_in1k',\n",
      " 'caformer_s36.sail_in22k_ft_in1k_384',\n",
      " 'cait_m36_384.fb_dist_in1k',\n",
      " 'cait_m48_448.fb_dist_in1k',\n",
      " 'cait_s24_224.fb_dist_in1k',\n",
      " 'cait_s24_384.fb_dist_in1k',\n",
      " 'cait_s36_384.fb_dist_in1k',\n",
      " 'cait_xs24_384.fb_dist_in1k',\n",
      " 'cait_xxs24_224.fb_dist_in1k',\n",
      " 'cait_xxs24_384.fb_dist_in1k',\n",
      " 'cait_xxs36_224.fb_dist_in1k',\n",
      " 'cait_xxs36_384.fb_dist_in1k',\n",
      " 'coat_lite_medium.in1k',\n",
      " 'coat_lite_medium_384.in1k',\n",
      " 'coat_lite_mini.in1k',\n",
      " 'coat_lite_small.in1k',\n",
      " 'coat_lite_tiny.in1k',\n",
      " 'coat_mini.in1k',\n",
      " 'coat_small.in1k',\n",
      " 'coat_tiny.in1k',\n",
      " 'coatnet_0_rw_224.sw_in1k',\n",
      " 'coatnet_1_rw_224.sw_in1k',\n",
      " 'coatnet_2_rw_224.sw_in12k',\n",
      " 'coatnet_2_rw_224.sw_in12k_ft_in1k',\n",
      " 'coatnet_3_rw_224.sw_in12k',\n",
      " 'coatnet_bn_0_rw_224.sw_in1k',\n",
      " 'coatnet_nano_rw_224.sw_in1k',\n",
      " 'coatnet_rmlp_1_rw2_224.sw_in12k',\n",
      " 'coatnet_rmlp_1_rw2_224.sw_in12k_ft_in1k',\n",
      " 'coatnet_rmlp_1_rw_224.sw_in1k',\n",
      " 'coatnet_rmlp_2_rw_224.sw_in1k',\n",
      " 'coatnet_rmlp_2_rw_224.sw_in12k',\n",
      " 'coatnet_rmlp_2_rw_224.sw_in12k_ft_in1k',\n",
      " 'coatnet_rmlp_2_rw_384.sw_in12k_ft_in1k',\n",
      " 'coatnet_rmlp_nano_rw_224.sw_in1k',\n",
      " 'coatnext_nano_rw_224.sw_in1k',\n",
      " 'convformer_b36.sail_in1k',\n",
      " 'convformer_b36.sail_in1k_384',\n",
      " 'convformer_b36.sail_in22k',\n",
      " 'convformer_b36.sail_in22k_ft_in1k',\n",
      " 'convformer_b36.sail_in22k_ft_in1k_384',\n",
      " 'convformer_m36.sail_in1k',\n",
      " 'convformer_m36.sail_in1k_384',\n",
      " 'convformer_m36.sail_in22k',\n",
      " 'convformer_m36.sail_in22k_ft_in1k',\n",
      " 'convformer_m36.sail_in22k_ft_in1k_384',\n",
      " 'convformer_s18.sail_in1k',\n",
      " 'convformer_s18.sail_in1k_384',\n",
      " 'convformer_s18.sail_in22k',\n",
      " 'convformer_s18.sail_in22k_ft_in1k',\n",
      " 'convformer_s18.sail_in22k_ft_in1k_384',\n",
      " 'convformer_s36.sail_in1k',\n",
      " 'convformer_s36.sail_in1k_384',\n",
      " 'convformer_s36.sail_in22k',\n",
      " 'convformer_s36.sail_in22k_ft_in1k',\n",
      " 'convformer_s36.sail_in22k_ft_in1k_384',\n",
      " 'convit_base.fb_in1k',\n",
      " 'convit_small.fb_in1k',\n",
      " 'convit_tiny.fb_in1k',\n",
      " 'convmixer_768_32.in1k',\n",
      " 'convmixer_1024_20_ks9_p14.in1k',\n",
      " 'convmixer_1536_20.in1k',\n",
      " 'convnext_atto.d2_in1k',\n",
      " 'convnext_atto_ols.a2_in1k',\n",
      " 'convnext_base.clip_laion2b',\n",
      " 'convnext_base.clip_laion2b_augreg',\n",
      " 'convnext_base.clip_laion2b_augreg_ft_in1k',\n",
      " 'convnext_base.clip_laion2b_augreg_ft_in12k',\n",
      " 'convnext_base.clip_laion2b_augreg_ft_in12k_in1k',\n",
      " 'convnext_base.clip_laion2b_augreg_ft_in12k_in1k_384',\n",
      " 'convnext_base.clip_laiona',\n",
      " 'convnext_base.clip_laiona_320',\n",
      " 'convnext_base.clip_laiona_augreg_320',\n",
      " 'convnext_base.clip_laiona_augreg_ft_in1k_384',\n",
      " 'convnext_base.fb_in1k',\n",
      " 'convnext_base.fb_in22k',\n",
      " 'convnext_base.fb_in22k_ft_in1k',\n",
      " 'convnext_base.fb_in22k_ft_in1k_384',\n",
      " 'convnext_femto.d1_in1k',\n",
      " 'convnext_femto_ols.d1_in1k',\n",
      " 'convnext_large.fb_in1k',\n",
      " 'convnext_large.fb_in22k',\n",
      " 'convnext_large.fb_in22k_ft_in1k',\n",
      " 'convnext_large.fb_in22k_ft_in1k_384',\n",
      " 'convnext_large_mlp.clip_laion2b_augreg',\n",
      " 'convnext_large_mlp.clip_laion2b_augreg_ft_in1k',\n",
      " 'convnext_large_mlp.clip_laion2b_augreg_ft_in1k_384',\n",
      " 'convnext_large_mlp.clip_laion2b_augreg_ft_in12k_384',\n",
      " 'convnext_large_mlp.clip_laion2b_ft_320',\n",
      " 'convnext_large_mlp.clip_laion2b_ft_soup_320',\n",
      " 'convnext_large_mlp.clip_laion2b_soup_ft_in12k_320',\n",
      " 'convnext_large_mlp.clip_laion2b_soup_ft_in12k_384',\n",
      " 'convnext_large_mlp.clip_laion2b_soup_ft_in12k_in1k_320',\n",
      " 'convnext_large_mlp.clip_laion2b_soup_ft_in12k_in1k_384',\n",
      " 'convnext_nano.d1h_in1k',\n",
      " 'convnext_nano.in12k',\n",
      " 'convnext_nano.in12k_ft_in1k',\n",
      " 'convnext_nano_ols.d1h_in1k',\n",
      " 'convnext_pico.d1_in1k',\n",
      " 'convnext_pico_ols.d1_in1k',\n",
      " 'convnext_small.fb_in1k',\n",
      " 'convnext_small.fb_in22k',\n",
      " 'convnext_small.fb_in22k_ft_in1k',\n",
      " 'convnext_small.fb_in22k_ft_in1k_384',\n",
      " 'convnext_small.in12k',\n",
      " 'convnext_small.in12k_ft_in1k',\n",
      " 'convnext_small.in12k_ft_in1k_384',\n",
      " 'convnext_tiny.fb_in1k',\n",
      " 'convnext_tiny.fb_in22k',\n",
      " 'convnext_tiny.fb_in22k_ft_in1k',\n",
      " 'convnext_tiny.fb_in22k_ft_in1k_384',\n",
      " 'convnext_tiny.in12k',\n",
      " 'convnext_tiny.in12k_ft_in1k',\n",
      " 'convnext_tiny.in12k_ft_in1k_384',\n",
      " 'convnext_tiny_hnf.a2h_in1k',\n",
      " 'convnext_xlarge.fb_in22k',\n",
      " 'convnext_xlarge.fb_in22k_ft_in1k',\n",
      " 'convnext_xlarge.fb_in22k_ft_in1k_384',\n",
      " 'convnext_xxlarge.clip_laion2b_rewind',\n",
      " 'convnext_xxlarge.clip_laion2b_soup',\n",
      " 'convnext_xxlarge.clip_laion2b_soup_ft_in1k',\n",
      " 'convnext_xxlarge.clip_laion2b_soup_ft_in12k',\n",
      " 'convnext_zepto_rms.ra4_e3600_r224_in1k',\n",
      " 'convnext_zepto_rms_ols.ra4_e3600_r224_in1k',\n",
      " 'convnextv2_atto.fcmae',\n",
      " 'convnextv2_atto.fcmae_ft_in1k',\n",
      " 'convnextv2_base.fcmae',\n",
      " 'convnextv2_base.fcmae_ft_in1k',\n",
      " 'convnextv2_base.fcmae_ft_in22k_in1k',\n",
      " 'convnextv2_base.fcmae_ft_in22k_in1k_384',\n",
      " 'convnextv2_femto.fcmae',\n",
      " 'convnextv2_femto.fcmae_ft_in1k',\n",
      " 'convnextv2_huge.fcmae',\n",
      " 'convnextv2_huge.fcmae_ft_in1k',\n",
      " 'convnextv2_huge.fcmae_ft_in22k_in1k_384',\n",
      " 'convnextv2_huge.fcmae_ft_in22k_in1k_512',\n",
      " 'convnextv2_large.fcmae',\n",
      " 'convnextv2_large.fcmae_ft_in1k',\n",
      " 'convnextv2_large.fcmae_ft_in22k_in1k',\n",
      " 'convnextv2_large.fcmae_ft_in22k_in1k_384',\n",
      " 'convnextv2_nano.fcmae',\n",
      " 'convnextv2_nano.fcmae_ft_in1k',\n",
      " 'convnextv2_nano.fcmae_ft_in22k_in1k',\n",
      " 'convnextv2_nano.fcmae_ft_in22k_in1k_384',\n",
      " 'convnextv2_pico.fcmae',\n",
      " 'convnextv2_pico.fcmae_ft_in1k',\n",
      " 'convnextv2_tiny.fcmae',\n",
      " 'convnextv2_tiny.fcmae_ft_in1k',\n",
      " 'convnextv2_tiny.fcmae_ft_in22k_in1k',\n",
      " 'convnextv2_tiny.fcmae_ft_in22k_in1k_384',\n",
      " 'crossvit_9_240.in1k',\n",
      " 'crossvit_9_dagger_240.in1k',\n",
      " 'crossvit_15_240.in1k',\n",
      " 'crossvit_15_dagger_240.in1k',\n",
      " 'crossvit_15_dagger_408.in1k',\n",
      " 'crossvit_18_240.in1k',\n",
      " 'crossvit_18_dagger_240.in1k',\n",
      " 'crossvit_18_dagger_408.in1k',\n",
      " 'crossvit_base_240.in1k',\n",
      " 'crossvit_small_240.in1k',\n",
      " 'crossvit_tiny_240.in1k',\n",
      " 'cs3darknet_focus_l.c2ns_in1k',\n",
      " 'cs3darknet_focus_m.c2ns_in1k',\n",
      " 'cs3darknet_l.c2ns_in1k',\n",
      " 'cs3darknet_m.c2ns_in1k',\n",
      " 'cs3darknet_x.c2ns_in1k',\n",
      " 'cs3edgenet_x.c2_in1k',\n",
      " 'cs3se_edgenet_x.c2ns_in1k',\n",
      " 'cs3sedarknet_l.c2ns_in1k',\n",
      " 'cs3sedarknet_x.c2ns_in1k',\n",
      " 'cspdarknet53.ra_in1k',\n",
      " 'cspresnet50.ra_in1k',\n",
      " 'cspresnext50.ra_in1k',\n",
      " 'darknet53.c2ns_in1k',\n",
      " 'darknetaa53.c2ns_in1k',\n",
      " 'davit_base.msft_in1k',\n",
      " 'davit_base_fl.msft_florence2',\n",
      " 'davit_huge_fl.msft_florence2',\n",
      " 'davit_small.msft_in1k',\n",
      " 'davit_tiny.msft_in1k',\n",
      " 'deit3_base_patch16_224.fb_in1k',\n",
      " 'deit3_base_patch16_224.fb_in22k_ft_in1k',\n",
      " 'deit3_base_patch16_384.fb_in1k',\n",
      " 'deit3_base_patch16_384.fb_in22k_ft_in1k',\n",
      " 'deit3_huge_patch14_224.fb_in1k',\n",
      " 'deit3_huge_patch14_224.fb_in22k_ft_in1k',\n",
      " 'deit3_large_patch16_224.fb_in1k',\n",
      " 'deit3_large_patch16_224.fb_in22k_ft_in1k',\n",
      " 'deit3_large_patch16_384.fb_in1k',\n",
      " 'deit3_large_patch16_384.fb_in22k_ft_in1k',\n",
      " 'deit3_medium_patch16_224.fb_in1k',\n",
      " 'deit3_medium_patch16_224.fb_in22k_ft_in1k',\n",
      " 'deit3_small_patch16_224.fb_in1k',\n",
      " 'deit3_small_patch16_224.fb_in22k_ft_in1k',\n",
      " 'deit3_small_patch16_384.fb_in1k',\n",
      " 'deit3_small_patch16_384.fb_in22k_ft_in1k',\n",
      " 'deit_base_distilled_patch16_224.fb_in1k',\n",
      " 'deit_base_distilled_patch16_384.fb_in1k',\n",
      " 'deit_base_patch16_224.fb_in1k',\n",
      " 'deit_base_patch16_384.fb_in1k',\n",
      " 'deit_small_distilled_patch16_224.fb_in1k',\n",
      " 'deit_small_patch16_224.fb_in1k',\n",
      " 'deit_tiny_distilled_patch16_224.fb_in1k',\n",
      " 'deit_tiny_patch16_224.fb_in1k',\n",
      " 'densenet121.ra_in1k',\n",
      " 'densenet121.tv_in1k',\n",
      " 'densenet161.tv_in1k',\n",
      " 'densenet169.tv_in1k',\n",
      " 'densenet201.tv_in1k',\n",
      " 'densenetblur121d.ra_in1k',\n",
      " 'dla34.in1k',\n",
      " 'dla46_c.in1k',\n",
      " 'dla46x_c.in1k',\n",
      " 'dla60.in1k',\n",
      " 'dla60_res2net.in1k',\n",
      " 'dla60_res2next.in1k',\n",
      " 'dla60x.in1k',\n",
      " 'dla60x_c.in1k',\n",
      " 'dla102.in1k',\n",
      " 'dla102x2.in1k',\n",
      " 'dla102x.in1k',\n",
      " 'dla169.in1k',\n",
      " 'dm_nfnet_f0.dm_in1k',\n",
      " 'dm_nfnet_f1.dm_in1k',\n",
      " 'dm_nfnet_f2.dm_in1k',\n",
      " 'dm_nfnet_f3.dm_in1k',\n",
      " 'dm_nfnet_f4.dm_in1k',\n",
      " 'dm_nfnet_f5.dm_in1k',\n",
      " 'dm_nfnet_f6.dm_in1k',\n",
      " 'dpn68.mx_in1k',\n",
      " 'dpn68b.mx_in1k',\n",
      " 'dpn68b.ra_in1k',\n",
      " 'dpn92.mx_in1k',\n",
      " 'dpn98.mx_in1k',\n",
      " 'dpn107.mx_in1k',\n",
      " 'dpn131.mx_in1k',\n",
      " 'eca_botnext26ts_256.c1_in1k',\n",
      " 'eca_halonext26ts.c1_in1k',\n",
      " 'eca_nfnet_l0.ra2_in1k',\n",
      " 'eca_nfnet_l1.ra2_in1k',\n",
      " 'eca_nfnet_l2.ra3_in1k',\n",
      " 'eca_resnet33ts.ra2_in1k',\n",
      " 'eca_resnext26ts.ch_in1k',\n",
      " 'ecaresnet26t.ra2_in1k',\n",
      " 'ecaresnet50d.miil_in1k',\n",
      " 'ecaresnet50d_pruned.miil_in1k',\n",
      " 'ecaresnet50t.a1_in1k',\n",
      " 'ecaresnet50t.a2_in1k',\n",
      " 'ecaresnet50t.a3_in1k',\n",
      " 'ecaresnet50t.ra2_in1k',\n",
      " 'ecaresnet101d.miil_in1k',\n",
      " 'ecaresnet101d_pruned.miil_in1k',\n",
      " 'ecaresnet269d.ra2_in1k',\n",
      " 'ecaresnetlight.miil_in1k',\n",
      " 'edgenext_base.in21k_ft_in1k',\n",
      " 'edgenext_base.usi_in1k',\n",
      " 'edgenext_small.usi_in1k',\n",
      " 'edgenext_small_rw.sw_in1k',\n",
      " 'edgenext_x_small.in1k',\n",
      " 'edgenext_xx_small.in1k',\n",
      " 'efficientformer_l1.snap_dist_in1k',\n",
      " 'efficientformer_l3.snap_dist_in1k',\n",
      " 'efficientformer_l7.snap_dist_in1k',\n",
      " 'efficientformerv2_l.snap_dist_in1k',\n",
      " 'efficientformerv2_s0.snap_dist_in1k',\n",
      " 'efficientformerv2_s1.snap_dist_in1k',\n",
      " 'efficientformerv2_s2.snap_dist_in1k',\n",
      " 'efficientnet_b0.ra4_e3600_r224_in1k',\n",
      " 'efficientnet_b0.ra_in1k',\n",
      " 'efficientnet_b1.ft_in1k',\n",
      " 'efficientnet_b1.ra4_e3600_r240_in1k',\n",
      " 'efficientnet_b1_pruned.in1k',\n",
      " 'efficientnet_b2.ra_in1k',\n",
      " 'efficientnet_b2_pruned.in1k',\n",
      " 'efficientnet_b3.ra2_in1k',\n",
      " 'efficientnet_b3_pruned.in1k',\n",
      " 'efficientnet_b4.ra2_in1k',\n",
      " 'efficientnet_b5.sw_in12k',\n",
      " 'efficientnet_b5.sw_in12k_ft_in1k',\n",
      " 'efficientnet_el.ra_in1k',\n",
      " 'efficientnet_el_pruned.in1k',\n",
      " 'efficientnet_em.ra2_in1k',\n",
      " 'efficientnet_es.ra_in1k',\n",
      " 'efficientnet_es_pruned.in1k',\n",
      " 'efficientnet_lite0.ra_in1k',\n",
      " 'efficientnetv2_rw_m.agc_in1k',\n",
      " 'efficientnetv2_rw_s.ra2_in1k',\n",
      " 'efficientnetv2_rw_t.ra2_in1k',\n",
      " 'efficientvit_b0.r224_in1k',\n",
      " 'efficientvit_b1.r224_in1k',\n",
      " 'efficientvit_b1.r256_in1k',\n",
      " 'efficientvit_b1.r288_in1k',\n",
      " 'efficientvit_b2.r224_in1k',\n",
      " 'efficientvit_b2.r256_in1k',\n",
      " 'efficientvit_b2.r288_in1k',\n",
      " 'efficientvit_b3.r224_in1k',\n",
      " 'efficientvit_b3.r256_in1k',\n",
      " 'efficientvit_b3.r288_in1k',\n",
      " 'efficientvit_l1.r224_in1k',\n",
      " 'efficientvit_l2.r224_in1k',\n",
      " 'efficientvit_l2.r256_in1k',\n",
      " 'efficientvit_l2.r288_in1k',\n",
      " 'efficientvit_l2.r384_in1k',\n",
      " 'efficientvit_l3.r224_in1k',\n",
      " 'efficientvit_l3.r256_in1k',\n",
      " 'efficientvit_l3.r320_in1k',\n",
      " 'efficientvit_l3.r384_in1k',\n",
      " 'efficientvit_m0.r224_in1k',\n",
      " 'efficientvit_m1.r224_in1k',\n",
      " 'efficientvit_m2.r224_in1k',\n",
      " 'efficientvit_m3.r224_in1k',\n",
      " 'efficientvit_m4.r224_in1k',\n",
      " 'efficientvit_m5.r224_in1k',\n",
      " 'ese_vovnet19b_dw.ra_in1k',\n",
      " 'ese_vovnet39b.ra_in1k',\n",
      " 'eva02_base_patch14_224.mim_in22k',\n",
      " 'eva02_base_patch14_448.mim_in22k_ft_in1k',\n",
      " 'eva02_base_patch14_448.mim_in22k_ft_in22k',\n",
      " 'eva02_base_patch14_448.mim_in22k_ft_in22k_in1k',\n",
      " 'eva02_base_patch16_clip_224.merged2b',\n",
      " 'eva02_enormous_patch14_clip_224.laion2b',\n",
      " 'eva02_enormous_patch14_clip_224.laion2b_plus',\n",
      " 'eva02_large_patch14_224.mim_in22k',\n",
      " 'eva02_large_patch14_224.mim_m38m',\n",
      " 'eva02_large_patch14_448.mim_in22k_ft_in1k',\n",
      " 'eva02_large_patch14_448.mim_in22k_ft_in22k',\n",
      " 'eva02_large_patch14_448.mim_in22k_ft_in22k_in1k',\n",
      " 'eva02_large_patch14_448.mim_m38m_ft_in1k',\n",
      " 'eva02_large_patch14_448.mim_m38m_ft_in22k',\n",
      " 'eva02_large_patch14_448.mim_m38m_ft_in22k_in1k',\n",
      " 'eva02_large_patch14_clip_224.merged2b',\n",
      " 'eva02_large_patch14_clip_336.merged2b',\n",
      " 'eva02_small_patch14_224.mim_in22k',\n",
      " 'eva02_small_patch14_336.mim_in22k_ft_in1k',\n",
      " 'eva02_tiny_patch14_224.mim_in22k',\n",
      " 'eva02_tiny_patch14_336.mim_in22k_ft_in1k',\n",
      " 'eva_giant_patch14_224.clip_ft_in1k',\n",
      " 'eva_giant_patch14_336.clip_ft_in1k',\n",
      " 'eva_giant_patch14_336.m30m_ft_in22k_in1k',\n",
      " 'eva_giant_patch14_560.m30m_ft_in22k_in1k',\n",
      " 'eva_giant_patch14_clip_224.laion400m',\n",
      " 'eva_giant_patch14_clip_224.merged2b',\n",
      " 'eva_large_patch14_196.in22k_ft_in1k',\n",
      " 'eva_large_patch14_196.in22k_ft_in22k_in1k',\n",
      " 'eva_large_patch14_336.in22k_ft_in1k',\n",
      " 'eva_large_patch14_336.in22k_ft_in22k_in1k',\n",
      " 'fastvit_ma36.apple_dist_in1k',\n",
      " 'fastvit_ma36.apple_in1k',\n",
      " 'fastvit_mci0.apple_mclip',\n",
      " 'fastvit_mci1.apple_mclip',\n",
      " 'fastvit_mci2.apple_mclip',\n",
      " 'fastvit_s12.apple_dist_in1k',\n",
      " 'fastvit_s12.apple_in1k',\n",
      " 'fastvit_sa12.apple_dist_in1k',\n",
      " 'fastvit_sa12.apple_in1k',\n",
      " 'fastvit_sa24.apple_dist_in1k',\n",
      " 'fastvit_sa24.apple_in1k',\n",
      " 'fastvit_sa36.apple_dist_in1k',\n",
      " 'fastvit_sa36.apple_in1k',\n",
      " 'fastvit_t8.apple_dist_in1k',\n",
      " 'fastvit_t8.apple_in1k',\n",
      " 'fastvit_t12.apple_dist_in1k',\n",
      " 'fastvit_t12.apple_in1k',\n",
      " 'fbnetc_100.rmsp_in1k',\n",
      " 'fbnetv3_b.ra2_in1k',\n",
      " 'fbnetv3_d.ra2_in1k',\n",
      " 'fbnetv3_g.ra2_in1k',\n",
      " 'flexivit_base.300ep_in1k',\n",
      " 'flexivit_base.300ep_in21k',\n",
      " 'flexivit_base.600ep_in1k',\n",
      " 'flexivit_base.1000ep_in21k',\n",
      " 'flexivit_base.1200ep_in1k',\n",
      " 'flexivit_base.patch16_in21k',\n",
      " 'flexivit_base.patch30_in21k',\n",
      " 'flexivit_large.300ep_in1k',\n",
      " 'flexivit_large.600ep_in1k',\n",
      " 'flexivit_large.1200ep_in1k',\n",
      " 'flexivit_small.300ep_in1k',\n",
      " 'flexivit_small.600ep_in1k',\n",
      " 'flexivit_small.1200ep_in1k',\n",
      " 'focalnet_base_lrf.ms_in1k',\n",
      " 'focalnet_base_srf.ms_in1k',\n",
      " 'focalnet_huge_fl3.ms_in22k',\n",
      " 'focalnet_huge_fl4.ms_in22k',\n",
      " 'focalnet_large_fl3.ms_in22k',\n",
      " 'focalnet_large_fl4.ms_in22k',\n",
      " 'focalnet_small_lrf.ms_in1k',\n",
      " 'focalnet_small_srf.ms_in1k',\n",
      " 'focalnet_tiny_lrf.ms_in1k',\n",
      " 'focalnet_tiny_srf.ms_in1k',\n",
      " 'focalnet_xlarge_fl3.ms_in22k',\n",
      " 'focalnet_xlarge_fl4.ms_in22k',\n",
      " 'gc_efficientnetv2_rw_t.agc_in1k',\n",
      " 'gcresnet33ts.ra2_in1k',\n",
      " 'gcresnet50t.ra2_in1k',\n",
      " 'gcresnext26ts.ch_in1k',\n",
      " 'gcresnext50ts.ch_in1k',\n",
      " 'gcvit_base.in1k',\n",
      " 'gcvit_small.in1k',\n",
      " 'gcvit_tiny.in1k',\n",
      " 'gcvit_xtiny.in1k',\n",
      " 'gcvit_xxtiny.in1k',\n",
      " 'gernet_l.idstcv_in1k',\n",
      " 'gernet_m.idstcv_in1k',\n",
      " 'gernet_s.idstcv_in1k',\n",
      " 'ghostnet_100.in1k',\n",
      " 'ghostnetv2_100.in1k',\n",
      " 'ghostnetv2_130.in1k',\n",
      " 'ghostnetv2_160.in1k',\n",
      " 'gmixer_24_224.ra3_in1k',\n",
      " 'gmlp_s16_224.ra3_in1k',\n",
      " 'halo2botnet50ts_256.a1h_in1k',\n",
      " 'halonet26t.a1h_in1k',\n",
      " 'halonet50ts.a1h_in1k',\n",
      " 'haloregnetz_b.ra3_in1k',\n",
      " 'hardcorenas_a.miil_green_in1k',\n",
      " 'hardcorenas_b.miil_green_in1k',\n",
      " 'hardcorenas_c.miil_green_in1k',\n",
      " 'hardcorenas_d.miil_green_in1k',\n",
      " 'hardcorenas_e.miil_green_in1k',\n",
      " 'hardcorenas_f.miil_green_in1k',\n",
      " 'hgnet_base.ssld_in1k',\n",
      " 'hgnet_small.paddle_in1k',\n",
      " 'hgnet_small.ssld_in1k',\n",
      " 'hgnet_tiny.paddle_in1k',\n",
      " 'hgnet_tiny.ssld_in1k',\n",
      " 'hgnetv2_b0.ssld_stage1_in22k_in1k',\n",
      " 'hgnetv2_b0.ssld_stage2_ft_in1k',\n",
      " 'hgnetv2_b1.ssld_stage1_in22k_in1k',\n",
      " 'hgnetv2_b1.ssld_stage2_ft_in1k',\n",
      " 'hgnetv2_b2.ssld_stage1_in22k_in1k',\n",
      " 'hgnetv2_b2.ssld_stage2_ft_in1k',\n",
      " 'hgnetv2_b3.ssld_stage1_in22k_in1k',\n",
      " 'hgnetv2_b3.ssld_stage2_ft_in1k',\n",
      " 'hgnetv2_b4.ssld_stage1_in22k_in1k',\n",
      " 'hgnetv2_b4.ssld_stage2_ft_in1k',\n",
      " 'hgnetv2_b5.ssld_stage1_in22k_in1k',\n",
      " 'hgnetv2_b5.ssld_stage2_ft_in1k',\n",
      " 'hgnetv2_b6.ssld_stage1_in22k_in1k',\n",
      " 'hgnetv2_b6.ssld_stage2_ft_in1k',\n",
      " 'hiera_base_224.mae',\n",
      " 'hiera_base_224.mae_in1k_ft_in1k',\n",
      " 'hiera_base_plus_224.mae',\n",
      " 'hiera_base_plus_224.mae_in1k_ft_in1k',\n",
      " 'hiera_huge_224.mae',\n",
      " 'hiera_huge_224.mae_in1k_ft_in1k',\n",
      " 'hiera_large_224.mae',\n",
      " 'hiera_large_224.mae_in1k_ft_in1k',\n",
      " 'hiera_small_224.mae',\n",
      " 'hiera_small_224.mae_in1k_ft_in1k',\n",
      " 'hiera_small_abswin_256.sbb2_e200_in12k',\n",
      " 'hiera_small_abswin_256.sbb2_e200_in12k_ft_in1k',\n",
      " 'hiera_small_abswin_256.sbb2_pd_e200_in12k',\n",
      " 'hiera_small_abswin_256.sbb2_pd_e200_in12k_ft_in1k',\n",
      " 'hiera_tiny_224.mae',\n",
      " 'hiera_tiny_224.mae_in1k_ft_in1k',\n",
      " 'hrnet_w18.ms_aug_in1k',\n",
      " 'hrnet_w18.ms_in1k',\n",
      " 'hrnet_w18_small.gluon_in1k',\n",
      " 'hrnet_w18_small.ms_in1k',\n",
      " 'hrnet_w18_small_v2.gluon_in1k',\n",
      " 'hrnet_w18_small_v2.ms_in1k',\n",
      " 'hrnet_w18_ssld.paddle_in1k',\n",
      " 'hrnet_w30.ms_in1k',\n",
      " 'hrnet_w32.ms_in1k',\n",
      " 'hrnet_w40.ms_in1k',\n",
      " 'hrnet_w44.ms_in1k',\n",
      " 'hrnet_w48.ms_in1k',\n",
      " 'hrnet_w48_ssld.paddle_in1k',\n",
      " 'hrnet_w64.ms_in1k',\n",
      " 'inception_next_base.sail_in1k',\n",
      " 'inception_next_base.sail_in1k_384',\n",
      " 'inception_next_small.sail_in1k',\n",
      " 'inception_next_tiny.sail_in1k',\n",
      " 'inception_resnet_v2.tf_ens_adv_in1k',\n",
      " 'inception_resnet_v2.tf_in1k',\n",
      " 'inception_v3.gluon_in1k',\n",
      " 'inception_v3.tf_adv_in1k',\n",
      " 'inception_v3.tf_in1k',\n",
      " 'inception_v3.tv_in1k',\n",
      " 'inception_v4.tf_in1k',\n",
      " 'lambda_resnet26rpt_256.c1_in1k',\n",
      " 'lambda_resnet26t.c1_in1k',\n",
      " 'lambda_resnet50ts.a1h_in1k',\n",
      " 'lamhalobotnet50ts_256.a1h_in1k',\n",
      " 'lcnet_050.ra2_in1k',\n",
      " 'lcnet_075.ra2_in1k',\n",
      " 'lcnet_100.ra2_in1k',\n",
      " 'legacy_senet154.in1k',\n",
      " 'legacy_seresnet18.in1k',\n",
      " 'legacy_seresnet34.in1k',\n",
      " 'legacy_seresnet50.in1k',\n",
      " 'legacy_seresnet101.in1k',\n",
      " 'legacy_seresnet152.in1k',\n",
      " 'legacy_seresnext26_32x4d.in1k',\n",
      " 'legacy_seresnext50_32x4d.in1k',\n",
      " 'legacy_seresnext101_32x4d.in1k',\n",
      " 'legacy_xception.tf_in1k',\n",
      " 'levit_128.fb_dist_in1k',\n",
      " 'levit_128s.fb_dist_in1k',\n",
      " 'levit_192.fb_dist_in1k',\n",
      " 'levit_256.fb_dist_in1k',\n",
      " 'levit_384.fb_dist_in1k',\n",
      " 'levit_conv_128.fb_dist_in1k',\n",
      " 'levit_conv_128s.fb_dist_in1k',\n",
      " 'levit_conv_192.fb_dist_in1k',\n",
      " 'levit_conv_256.fb_dist_in1k',\n",
      " 'levit_conv_384.fb_dist_in1k',\n",
      " 'mambaout_base.in1k',\n",
      " 'mambaout_base_plus_rw.sw_e150_in12k',\n",
      " 'mambaout_base_plus_rw.sw_e150_in12k_ft_in1k',\n",
      " 'mambaout_base_plus_rw.sw_e150_r384_in12k_ft_in1k',\n",
      " 'mambaout_base_short_rw.sw_e500_in1k',\n",
      " 'mambaout_base_tall_rw.sw_e500_in1k',\n",
      " 'mambaout_base_wide_rw.sw_e500_in1k',\n",
      " 'mambaout_femto.in1k',\n",
      " 'mambaout_kobe.in1k',\n",
      " 'mambaout_small.in1k',\n",
      " 'mambaout_small_rw.sw_e450_in1k',\n",
      " 'mambaout_tiny.in1k',\n",
      " 'maxvit_base_tf_224.in1k',\n",
      " 'maxvit_base_tf_224.in21k',\n",
      " 'maxvit_base_tf_384.in1k',\n",
      " 'maxvit_base_tf_384.in21k_ft_in1k',\n",
      " 'maxvit_base_tf_512.in1k',\n",
      " 'maxvit_base_tf_512.in21k_ft_in1k',\n",
      " 'maxvit_large_tf_224.in1k',\n",
      " 'maxvit_large_tf_224.in21k',\n",
      " 'maxvit_large_tf_384.in1k',\n",
      " 'maxvit_large_tf_384.in21k_ft_in1k',\n",
      " 'maxvit_large_tf_512.in1k',\n",
      " 'maxvit_large_tf_512.in21k_ft_in1k',\n",
      " 'maxvit_nano_rw_256.sw_in1k',\n",
      " 'maxvit_rmlp_base_rw_224.sw_in12k',\n",
      " 'maxvit_rmlp_base_rw_224.sw_in12k_ft_in1k',\n",
      " 'maxvit_rmlp_base_rw_384.sw_in12k_ft_in1k',\n",
      " 'maxvit_rmlp_nano_rw_256.sw_in1k',\n",
      " 'maxvit_rmlp_pico_rw_256.sw_in1k',\n",
      " 'maxvit_rmlp_small_rw_224.sw_in1k',\n",
      " 'maxvit_rmlp_tiny_rw_256.sw_in1k',\n",
      " 'maxvit_small_tf_224.in1k',\n",
      " 'maxvit_small_tf_384.in1k',\n",
      " 'maxvit_small_tf_512.in1k',\n",
      " 'maxvit_tiny_rw_224.sw_in1k',\n",
      " 'maxvit_tiny_tf_224.in1k',\n",
      " 'maxvit_tiny_tf_384.in1k',\n",
      " 'maxvit_tiny_tf_512.in1k',\n",
      " 'maxvit_xlarge_tf_224.in21k',\n",
      " 'maxvit_xlarge_tf_384.in21k_ft_in1k',\n",
      " 'maxvit_xlarge_tf_512.in21k_ft_in1k',\n",
      " 'maxxvit_rmlp_nano_rw_256.sw_in1k',\n",
      " 'maxxvit_rmlp_small_rw_256.sw_in1k',\n",
      " 'maxxvitv2_nano_rw_256.sw_in1k',\n",
      " 'maxxvitv2_rmlp_base_rw_224.sw_in12k',\n",
      " 'maxxvitv2_rmlp_base_rw_224.sw_in12k_ft_in1k',\n",
      " 'maxxvitv2_rmlp_base_rw_384.sw_in12k_ft_in1k',\n",
      " 'mixer_b16_224.goog_in21k',\n",
      " 'mixer_b16_224.goog_in21k_ft_in1k',\n",
      " 'mixer_b16_224.miil_in21k',\n",
      " 'mixer_b16_224.miil_in21k_ft_in1k',\n",
      " 'mixer_l16_224.goog_in21k',\n",
      " 'mixer_l16_224.goog_in21k_ft_in1k',\n",
      " 'mixnet_l.ft_in1k',\n",
      " 'mixnet_m.ft_in1k',\n",
      " 'mixnet_s.ft_in1k',\n",
      " 'mixnet_xl.ra_in1k',\n",
      " 'mnasnet_100.rmsp_in1k',\n",
      " 'mnasnet_small.lamb_in1k',\n",
      " 'mobilenet_edgetpu_v2_m.ra4_e3600_r224_in1k',\n",
      " 'mobilenetv1_100.ra4_e3600_r224_in1k',\n",
      " 'mobilenetv1_100h.ra4_e3600_r224_in1k',\n",
      " 'mobilenetv1_125.ra4_e3600_r224_in1k',\n",
      " 'mobilenetv2_050.lamb_in1k',\n",
      " 'mobilenetv2_100.ra_in1k',\n",
      " 'mobilenetv2_110d.ra_in1k',\n",
      " 'mobilenetv2_120d.ra_in1k',\n",
      " 'mobilenetv2_140.ra_in1k',\n",
      " 'mobilenetv3_large_100.miil_in21k',\n",
      " 'mobilenetv3_large_100.miil_in21k_ft_in1k',\n",
      " 'mobilenetv3_large_100.ra4_e3600_r224_in1k',\n",
      " 'mobilenetv3_large_100.ra_in1k',\n",
      " 'mobilenetv3_large_150d.ra4_e3600_r256_in1k',\n",
      " 'mobilenetv3_rw.rmsp_in1k',\n",
      " 'mobilenetv3_small_050.lamb_in1k',\n",
      " 'mobilenetv3_small_075.lamb_in1k',\n",
      " 'mobilenetv3_small_100.lamb_in1k',\n",
      " 'mobilenetv4_conv_aa_large.e230_r384_in12k',\n",
      " 'mobilenetv4_conv_aa_large.e230_r384_in12k_ft_in1k',\n",
      " 'mobilenetv4_conv_aa_large.e230_r448_in12k_ft_in1k',\n",
      " 'mobilenetv4_conv_aa_large.e600_r384_in1k',\n",
      " 'mobilenetv4_conv_blur_medium.e500_r224_in1k',\n",
      " 'mobilenetv4_conv_large.e500_r256_in1k',\n",
      " 'mobilenetv4_conv_large.e600_r384_in1k',\n",
      " 'mobilenetv4_conv_medium.e500_r224_in1k',\n",
      " 'mobilenetv4_conv_medium.e500_r256_in1k',\n",
      " 'mobilenetv4_conv_small.e1200_r224_in1k',\n",
      " 'mobilenetv4_conv_small.e2400_r224_in1k',\n",
      " 'mobilenetv4_conv_small_050.e3000_r224_in1k',\n",
      " 'mobilenetv4_hybrid_large.e600_r384_in1k',\n",
      " 'mobilenetv4_hybrid_large.ix_e600_r384_in1k',\n",
      " 'mobilenetv4_hybrid_medium.e200_r256_in12k',\n",
      " 'mobilenetv4_hybrid_medium.e200_r256_in12k_ft_in1k',\n",
      " 'mobilenetv4_hybrid_medium.e500_r224_in1k',\n",
      " 'mobilenetv4_hybrid_medium.ix_e550_r256_in1k',\n",
      " 'mobilenetv4_hybrid_medium.ix_e550_r384_in1k',\n",
      " 'mobileone_s0.apple_in1k',\n",
      " 'mobileone_s1.apple_in1k',\n",
      " 'mobileone_s2.apple_in1k',\n",
      " 'mobileone_s3.apple_in1k',\n",
      " 'mobileone_s4.apple_in1k',\n",
      " 'mobilevit_s.cvnets_in1k',\n",
      " 'mobilevit_xs.cvnets_in1k',\n",
      " 'mobilevit_xxs.cvnets_in1k',\n",
      " 'mobilevitv2_050.cvnets_in1k',\n",
      " 'mobilevitv2_075.cvnets_in1k',\n",
      " 'mobilevitv2_100.cvnets_in1k',\n",
      " 'mobilevitv2_125.cvnets_in1k',\n",
      " 'mobilevitv2_150.cvnets_in1k',\n",
      " 'mobilevitv2_150.cvnets_in22k_ft_in1k',\n",
      " 'mobilevitv2_150.cvnets_in22k_ft_in1k_384',\n",
      " 'mobilevitv2_175.cvnets_in1k',\n",
      " 'mobilevitv2_175.cvnets_in22k_ft_in1k',\n",
      " 'mobilevitv2_175.cvnets_in22k_ft_in1k_384',\n",
      " 'mobilevitv2_200.cvnets_in1k',\n",
      " 'mobilevitv2_200.cvnets_in22k_ft_in1k',\n",
      " 'mobilevitv2_200.cvnets_in22k_ft_in1k_384',\n",
      " 'mvitv2_base.fb_in1k',\n",
      " 'mvitv2_base_cls.fb_inw21k',\n",
      " 'mvitv2_huge_cls.fb_inw21k',\n",
      " 'mvitv2_large.fb_in1k',\n",
      " 'mvitv2_large_cls.fb_inw21k',\n",
      " 'mvitv2_small.fb_in1k',\n",
      " 'mvitv2_tiny.fb_in1k',\n",
      " 'nasnetalarge.tf_in1k',\n",
      " 'nest_base_jx.goog_in1k',\n",
      " 'nest_small_jx.goog_in1k',\n",
      " 'nest_tiny_jx.goog_in1k',\n",
      " 'nextvit_base.bd_in1k',\n",
      " 'nextvit_base.bd_in1k_384',\n",
      " 'nextvit_base.bd_ssld_6m_in1k',\n",
      " 'nextvit_base.bd_ssld_6m_in1k_384',\n",
      " 'nextvit_large.bd_in1k',\n",
      " 'nextvit_large.bd_in1k_384',\n",
      " 'nextvit_large.bd_ssld_6m_in1k',\n",
      " 'nextvit_large.bd_ssld_6m_in1k_384',\n",
      " 'nextvit_small.bd_in1k',\n",
      " 'nextvit_small.bd_in1k_384',\n",
      " 'nextvit_small.bd_ssld_6m_in1k',\n",
      " 'nextvit_small.bd_ssld_6m_in1k_384',\n",
      " 'nf_regnet_b1.ra2_in1k',\n",
      " 'nf_resnet50.ra2_in1k',\n",
      " 'nfnet_l0.ra2_in1k',\n",
      " 'pit_b_224.in1k',\n",
      " 'pit_b_distilled_224.in1k',\n",
      " 'pit_s_224.in1k',\n",
      " 'pit_s_distilled_224.in1k',\n",
      " 'pit_ti_224.in1k',\n",
      " 'pit_ti_distilled_224.in1k',\n",
      " 'pit_xs_224.in1k',\n",
      " 'pit_xs_distilled_224.in1k',\n",
      " 'pnasnet5large.tf_in1k',\n",
      " 'poolformer_m36.sail_in1k',\n",
      " 'poolformer_m48.sail_in1k',\n",
      " 'poolformer_s12.sail_in1k',\n",
      " 'poolformer_s24.sail_in1k',\n",
      " 'poolformer_s36.sail_in1k',\n",
      " 'poolformerv2_m36.sail_in1k',\n",
      " 'poolformerv2_m48.sail_in1k',\n",
      " 'poolformerv2_s12.sail_in1k',\n",
      " 'poolformerv2_s24.sail_in1k',\n",
      " 'poolformerv2_s36.sail_in1k',\n",
      " 'pvt_v2_b0.in1k',\n",
      " 'pvt_v2_b1.in1k',\n",
      " 'pvt_v2_b2.in1k',\n",
      " 'pvt_v2_b2_li.in1k',\n",
      " 'pvt_v2_b3.in1k',\n",
      " 'pvt_v2_b4.in1k',\n",
      " 'pvt_v2_b5.in1k',\n",
      " 'rdnet_base.nv_in1k',\n",
      " 'rdnet_large.nv_in1k',\n",
      " 'rdnet_large.nv_in1k_ft_in1k_384',\n",
      " 'rdnet_small.nv_in1k',\n",
      " 'rdnet_tiny.nv_in1k',\n",
      " 'regnetv_040.ra3_in1k',\n",
      " 'regnetv_064.ra3_in1k',\n",
      " 'regnetx_002.pycls_in1k',\n",
      " 'regnetx_004.pycls_in1k',\n",
      " 'regnetx_004_tv.tv2_in1k',\n",
      " 'regnetx_006.pycls_in1k',\n",
      " 'regnetx_008.pycls_in1k',\n",
      " 'regnetx_008.tv2_in1k',\n",
      " 'regnetx_016.pycls_in1k',\n",
      " 'regnetx_016.tv2_in1k',\n",
      " 'regnetx_032.pycls_in1k',\n",
      " 'regnetx_032.tv2_in1k',\n",
      " 'regnetx_040.pycls_in1k',\n",
      " 'regnetx_064.pycls_in1k',\n",
      " 'regnetx_080.pycls_in1k',\n",
      " 'regnetx_080.tv2_in1k',\n",
      " 'regnetx_120.pycls_in1k',\n",
      " 'regnetx_160.pycls_in1k',\n",
      " 'regnetx_160.tv2_in1k',\n",
      " 'regnetx_320.pycls_in1k',\n",
      " 'regnetx_320.tv2_in1k',\n",
      " 'regnety_002.pycls_in1k',\n",
      " 'regnety_004.pycls_in1k',\n",
      " 'regnety_004.tv2_in1k',\n",
      " 'regnety_006.pycls_in1k',\n",
      " 'regnety_008.pycls_in1k',\n",
      " 'regnety_008_tv.tv2_in1k',\n",
      " 'regnety_016.pycls_in1k',\n",
      " 'regnety_016.tv2_in1k',\n",
      " 'regnety_032.pycls_in1k',\n",
      " 'regnety_032.ra_in1k',\n",
      " 'regnety_032.tv2_in1k',\n",
      " 'regnety_040.pycls_in1k',\n",
      " 'regnety_040.ra3_in1k',\n",
      " 'regnety_064.pycls_in1k',\n",
      " 'regnety_064.ra3_in1k',\n",
      " 'regnety_080.pycls_in1k',\n",
      " 'regnety_080.ra3_in1k',\n",
      " 'regnety_080_tv.tv2_in1k',\n",
      " 'regnety_120.pycls_in1k',\n",
      " 'regnety_120.sw_in12k',\n",
      " 'regnety_120.sw_in12k_ft_in1k',\n",
      " 'regnety_160.deit_in1k',\n",
      " 'regnety_160.lion_in12k_ft_in1k',\n",
      " 'regnety_160.pycls_in1k',\n",
      " 'regnety_160.sw_in12k',\n",
      " 'regnety_160.sw_in12k_ft_in1k',\n",
      " 'regnety_160.swag_ft_in1k',\n",
      " 'regnety_160.swag_lc_in1k',\n",
      " 'regnety_160.tv2_in1k',\n",
      " 'regnety_320.pycls_in1k',\n",
      " 'regnety_320.seer',\n",
      " 'regnety_320.seer_ft_in1k',\n",
      " 'regnety_320.swag_ft_in1k',\n",
      " 'regnety_320.swag_lc_in1k',\n",
      " 'regnety_320.tv2_in1k',\n",
      " 'regnety_640.seer',\n",
      " 'regnety_640.seer_ft_in1k',\n",
      " 'regnety_1280.seer',\n",
      " 'regnety_1280.seer_ft_in1k',\n",
      " 'regnety_1280.swag_ft_in1k',\n",
      " 'regnety_1280.swag_lc_in1k',\n",
      " 'regnety_2560.seer_ft_in1k',\n",
      " 'regnetz_040.ra3_in1k',\n",
      " 'regnetz_040_h.ra3_in1k',\n",
      " 'regnetz_b16.ra3_in1k',\n",
      " 'regnetz_c16.ra3_in1k',\n",
      " 'regnetz_c16_evos.ch_in1k',\n",
      " 'regnetz_d8.ra3_in1k',\n",
      " 'regnetz_d8_evos.ch_in1k',\n",
      " 'regnetz_d32.ra3_in1k',\n",
      " 'regnetz_e8.ra3_in1k',\n",
      " 'repghostnet_050.in1k',\n",
      " 'repghostnet_058.in1k',\n",
      " 'repghostnet_080.in1k',\n",
      " 'repghostnet_100.in1k',\n",
      " 'repghostnet_111.in1k',\n",
      " 'repghostnet_130.in1k',\n",
      " 'repghostnet_150.in1k',\n",
      " 'repghostnet_200.in1k',\n",
      " 'repvgg_a0.rvgg_in1k',\n",
      " 'repvgg_a1.rvgg_in1k',\n",
      " 'repvgg_a2.rvgg_in1k',\n",
      " 'repvgg_b0.rvgg_in1k',\n",
      " 'repvgg_b1.rvgg_in1k',\n",
      " 'repvgg_b1g4.rvgg_in1k',\n",
      " 'repvgg_b2.rvgg_in1k',\n",
      " 'repvgg_b2g4.rvgg_in1k',\n",
      " 'repvgg_b3.rvgg_in1k',\n",
      " 'repvgg_b3g4.rvgg_in1k',\n",
      " 'repvgg_d2se.rvgg_in1k',\n",
      " 'repvit_m0_9.dist_300e_in1k',\n",
      " 'repvit_m0_9.dist_450e_in1k',\n",
      " 'repvit_m1.dist_in1k',\n",
      " 'repvit_m1_0.dist_300e_in1k',\n",
      " 'repvit_m1_0.dist_450e_in1k',\n",
      " 'repvit_m1_1.dist_300e_in1k',\n",
      " 'repvit_m1_1.dist_450e_in1k',\n",
      " 'repvit_m1_5.dist_300e_in1k',\n",
      " 'repvit_m1_5.dist_450e_in1k',\n",
      " 'repvit_m2.dist_in1k',\n",
      " 'repvit_m2_3.dist_300e_in1k',\n",
      " 'repvit_m2_3.dist_450e_in1k',\n",
      " 'repvit_m3.dist_in1k',\n",
      " 'res2net50_14w_8s.in1k',\n",
      " 'res2net50_26w_4s.in1k',\n",
      " 'res2net50_26w_6s.in1k',\n",
      " 'res2net50_26w_8s.in1k',\n",
      " 'res2net50_48w_2s.in1k',\n",
      " 'res2net50d.in1k',\n",
      " 'res2net101_26w_4s.in1k',\n",
      " 'res2net101d.in1k',\n",
      " 'res2next50.in1k',\n",
      " 'resmlp_12_224.fb_dino',\n",
      " 'resmlp_12_224.fb_distilled_in1k',\n",
      " 'resmlp_12_224.fb_in1k',\n",
      " 'resmlp_24_224.fb_dino',\n",
      " 'resmlp_24_224.fb_distilled_in1k',\n",
      " 'resmlp_24_224.fb_in1k',\n",
      " 'resmlp_36_224.fb_distilled_in1k',\n",
      " 'resmlp_36_224.fb_in1k',\n",
      " 'resmlp_big_24_224.fb_distilled_in1k',\n",
      " 'resmlp_big_24_224.fb_in1k',\n",
      " 'resmlp_big_24_224.fb_in22k_ft_in1k',\n",
      " 'resnest14d.gluon_in1k',\n",
      " 'resnest26d.gluon_in1k',\n",
      " 'resnest50d.in1k',\n",
      " 'resnest50d_1s4x24d.in1k',\n",
      " 'resnest50d_4s2x40d.in1k',\n",
      " 'resnest101e.in1k',\n",
      " 'resnest200e.in1k',\n",
      " 'resnest269e.in1k',\n",
      " 'resnet10t.c3_in1k',\n",
      " 'resnet14t.c3_in1k',\n",
      " 'resnet18.a1_in1k',\n",
      " 'resnet18.a2_in1k',\n",
      " 'resnet18.a3_in1k',\n",
      " 'resnet18.fb_ssl_yfcc100m_ft_in1k',\n",
      " 'resnet18.fb_swsl_ig1b_ft_in1k',\n",
      " 'resnet18.gluon_in1k',\n",
      " 'resnet18.tv_in1k',\n",
      " 'resnet18d.ra2_in1k',\n",
      " 'resnet26.bt_in1k',\n",
      " 'resnet26d.bt_in1k',\n",
      " 'resnet26t.ra2_in1k',\n",
      " 'resnet32ts.ra2_in1k',\n",
      " 'resnet33ts.ra2_in1k',\n",
      " 'resnet34.a1_in1k',\n",
      " 'resnet34.a2_in1k',\n",
      " 'resnet34.a3_in1k',\n",
      " 'resnet34.bt_in1k',\n",
      " 'resnet34.gluon_in1k',\n",
      " 'resnet34.tv_in1k',\n",
      " 'resnet34d.ra2_in1k',\n",
      " 'resnet50.a1_in1k',\n",
      " 'resnet50.a1h_in1k',\n",
      " 'resnet50.a2_in1k',\n",
      " 'resnet50.a3_in1k',\n",
      " 'resnet50.am_in1k',\n",
      " 'resnet50.b1k_in1k',\n",
      " 'resnet50.b2k_in1k',\n",
      " 'resnet50.bt_in1k',\n",
      " 'resnet50.c1_in1k',\n",
      " 'resnet50.c2_in1k',\n",
      " 'resnet50.d_in1k',\n",
      " 'resnet50.fb_ssl_yfcc100m_ft_in1k',\n",
      " 'resnet50.fb_swsl_ig1b_ft_in1k',\n",
      " 'resnet50.gluon_in1k',\n",
      " 'resnet50.ra_in1k',\n",
      " 'resnet50.ram_in1k',\n",
      " 'resnet50.tv2_in1k',\n",
      " 'resnet50.tv_in1k',\n",
      " 'resnet50_clip.openai',\n",
      " 'resnet50_clip_gap.openai',\n",
      " 'resnet50_gn.a1h_in1k',\n",
      " 'resnet50c.gluon_in1k',\n",
      " 'resnet50d.a1_in1k',\n",
      " 'resnet50d.a2_in1k',\n",
      " 'resnet50d.a3_in1k',\n",
      " 'resnet50d.gluon_in1k',\n",
      " 'resnet50d.ra2_in1k',\n",
      " 'resnet50d.ra4_e3600_r224_in1k',\n",
      " 'resnet50s.gluon_in1k',\n",
      " 'resnet50x4_clip.openai',\n",
      " 'resnet50x4_clip_gap.openai',\n",
      " 'resnet50x16_clip.openai',\n",
      " 'resnet50x16_clip_gap.openai',\n",
      " 'resnet50x64_clip.openai',\n",
      " 'resnet50x64_clip_gap.openai',\n",
      " 'resnet51q.ra2_in1k',\n",
      " 'resnet61q.ra2_in1k',\n",
      " 'resnet101.a1_in1k',\n",
      " 'resnet101.a1h_in1k',\n",
      " 'resnet101.a2_in1k',\n",
      " 'resnet101.a3_in1k',\n",
      " 'resnet101.gluon_in1k',\n",
      " 'resnet101.tv2_in1k',\n",
      " 'resnet101.tv_in1k',\n",
      " 'resnet101_clip.openai',\n",
      " 'resnet101_clip_gap.openai',\n",
      " 'resnet101c.gluon_in1k',\n",
      " 'resnet101d.gluon_in1k',\n",
      " 'resnet101d.ra2_in1k',\n",
      " 'resnet101s.gluon_in1k',\n",
      " 'resnet152.a1_in1k',\n",
      " 'resnet152.a1h_in1k',\n",
      " 'resnet152.a2_in1k',\n",
      " 'resnet152.a3_in1k',\n",
      " 'resnet152.gluon_in1k',\n",
      " 'resnet152.tv2_in1k',\n",
      " 'resnet152.tv_in1k',\n",
      " 'resnet152c.gluon_in1k',\n",
      " 'resnet152d.gluon_in1k',\n",
      " 'resnet152d.ra2_in1k',\n",
      " 'resnet152s.gluon_in1k',\n",
      " 'resnet200d.ra2_in1k',\n",
      " 'resnetaa50.a1h_in1k',\n",
      " 'resnetaa50d.d_in12k',\n",
      " 'resnetaa50d.sw_in12k',\n",
      " 'resnetaa50d.sw_in12k_ft_in1k',\n",
      " 'resnetaa101d.sw_in12k',\n",
      " 'resnetaa101d.sw_in12k_ft_in1k',\n",
      " 'resnetblur50.bt_in1k',\n",
      " 'resnetrs50.tf_in1k',\n",
      " 'resnetrs101.tf_in1k',\n",
      " 'resnetrs152.tf_in1k',\n",
      " 'resnetrs200.tf_in1k',\n",
      " 'resnetrs270.tf_in1k',\n",
      " 'resnetrs350.tf_in1k',\n",
      " 'resnetrs420.tf_in1k',\n",
      " 'resnetv2_50.a1h_in1k',\n",
      " 'resnetv2_50d_evos.ah_in1k',\n",
      " 'resnetv2_50d_gn.ah_in1k',\n",
      " 'resnetv2_50x1_bit.goog_distilled_in1k',\n",
      " 'resnetv2_50x1_bit.goog_in21k',\n",
      " 'resnetv2_50x1_bit.goog_in21k_ft_in1k',\n",
      " 'resnetv2_50x3_bit.goog_in21k',\n",
      " 'resnetv2_50x3_bit.goog_in21k_ft_in1k',\n",
      " 'resnetv2_101.a1h_in1k',\n",
      " 'resnetv2_101x1_bit.goog_in21k',\n",
      " 'resnetv2_101x1_bit.goog_in21k_ft_in1k',\n",
      " 'resnetv2_101x3_bit.goog_in21k',\n",
      " 'resnetv2_101x3_bit.goog_in21k_ft_in1k',\n",
      " 'resnetv2_152x2_bit.goog_in21k',\n",
      " 'resnetv2_152x2_bit.goog_in21k_ft_in1k',\n",
      " 'resnetv2_152x2_bit.goog_teacher_in21k_ft_in1k',\n",
      " 'resnetv2_152x2_bit.goog_teacher_in21k_ft_in1k_384',\n",
      " 'resnetv2_152x4_bit.goog_in21k',\n",
      " 'resnetv2_152x4_bit.goog_in21k_ft_in1k',\n",
      " 'resnext26ts.ra2_in1k',\n",
      " 'resnext50_32x4d.a1_in1k',\n",
      " 'resnext50_32x4d.a1h_in1k',\n",
      " 'resnext50_32x4d.a2_in1k',\n",
      " 'resnext50_32x4d.a3_in1k',\n",
      " 'resnext50_32x4d.fb_ssl_yfcc100m_ft_in1k',\n",
      " 'resnext50_32x4d.fb_swsl_ig1b_ft_in1k',\n",
      " 'resnext50_32x4d.gluon_in1k',\n",
      " 'resnext50_32x4d.ra_in1k',\n",
      " 'resnext50_32x4d.tv2_in1k',\n",
      " 'resnext50_32x4d.tv_in1k',\n",
      " 'resnext50d_32x4d.bt_in1k',\n",
      " 'resnext101_32x4d.fb_ssl_yfcc100m_ft_in1k',\n",
      " 'resnext101_32x4d.fb_swsl_ig1b_ft_in1k',\n",
      " 'resnext101_32x4d.gluon_in1k',\n",
      " 'resnext101_32x8d.fb_ssl_yfcc100m_ft_in1k',\n",
      " 'resnext101_32x8d.fb_swsl_ig1b_ft_in1k',\n",
      " 'resnext101_32x8d.fb_wsl_ig1b_ft_in1k',\n",
      " 'resnext101_32x8d.tv2_in1k',\n",
      " 'resnext101_32x8d.tv_in1k',\n",
      " 'resnext101_32x16d.fb_ssl_yfcc100m_ft_in1k',\n",
      " 'resnext101_32x16d.fb_swsl_ig1b_ft_in1k',\n",
      " 'resnext101_32x16d.fb_wsl_ig1b_ft_in1k',\n",
      " 'resnext101_32x32d.fb_wsl_ig1b_ft_in1k',\n",
      " 'resnext101_64x4d.c1_in1k',\n",
      " 'resnext101_64x4d.gluon_in1k',\n",
      " 'resnext101_64x4d.tv_in1k',\n",
      " 'rexnet_100.nav_in1k',\n",
      " 'rexnet_130.nav_in1k',\n",
      " 'rexnet_150.nav_in1k',\n",
      " 'rexnet_200.nav_in1k',\n",
      " 'rexnet_300.nav_in1k',\n",
      " 'rexnetr_200.sw_in12k',\n",
      " 'rexnetr_200.sw_in12k_ft_in1k',\n",
      " 'rexnetr_300.sw_in12k',\n",
      " 'rexnetr_300.sw_in12k_ft_in1k',\n",
      " 'sam2_hiera_base_plus',\n",
      " 'sam2_hiera_large',\n",
      " 'sam2_hiera_small',\n",
      " 'sam2_hiera_tiny.r224',\n",
      " 'sam2_hiera_tiny.r896',\n",
      " 'samvit_base_patch16.sa1b',\n",
      " 'samvit_huge_patch16.sa1b',\n",
      " 'samvit_large_patch16.sa1b',\n",
      " 'sebotnet33ts_256.a1h_in1k',\n",
      " 'sehalonet33ts.ra2_in1k',\n",
      " 'selecsls42b.in1k',\n",
      " 'selecsls60.in1k',\n",
      " 'selecsls60b.in1k',\n",
      " 'semnasnet_075.rmsp_in1k',\n",
      " 'semnasnet_100.rmsp_in1k',\n",
      " 'senet154.gluon_in1k',\n",
      " 'sequencer2d_l.in1k',\n",
      " 'sequencer2d_m.in1k',\n",
      " 'sequencer2d_s.in1k',\n",
      " 'seresnet33ts.ra2_in1k',\n",
      " 'seresnet50.a1_in1k',\n",
      " 'seresnet50.a2_in1k',\n",
      " 'seresnet50.a3_in1k',\n",
      " 'seresnet50.ra2_in1k',\n",
      " 'seresnet152d.ra2_in1k',\n",
      " 'seresnext26d_32x4d.bt_in1k',\n",
      " 'seresnext26t_32x4d.bt_in1k',\n",
      " 'seresnext26ts.ch_in1k',\n",
      " 'seresnext50_32x4d.gluon_in1k',\n",
      " 'seresnext50_32x4d.racm_in1k',\n",
      " 'seresnext101_32x4d.gluon_in1k',\n",
      " 'seresnext101_32x8d.ah_in1k',\n",
      " 'seresnext101_64x4d.gluon_in1k',\n",
      " 'seresnext101d_32x8d.ah_in1k',\n",
      " 'seresnextaa101d_32x8d.ah_in1k',\n",
      " 'seresnextaa101d_32x8d.sw_in12k',\n",
      " 'seresnextaa101d_32x8d.sw_in12k_ft_in1k',\n",
      " 'seresnextaa101d_32x8d.sw_in12k_ft_in1k_288',\n",
      " 'seresnextaa201d_32x8d.sw_in12k',\n",
      " 'seresnextaa201d_32x8d.sw_in12k_ft_in1k_384',\n",
      " 'skresnet18.ra_in1k',\n",
      " 'skresnet34.ra_in1k',\n",
      " 'skresnext50_32x4d.ra_in1k',\n",
      " 'spnasnet_100.rmsp_in1k',\n",
      " 'swin_base_patch4_window7_224.ms_in1k',\n",
      " 'swin_base_patch4_window7_224.ms_in22k',\n",
      " 'swin_base_patch4_window7_224.ms_in22k_ft_in1k',\n",
      " 'swin_base_patch4_window12_384.ms_in1k',\n",
      " 'swin_base_patch4_window12_384.ms_in22k',\n",
      " 'swin_base_patch4_window12_384.ms_in22k_ft_in1k',\n",
      " 'swin_large_patch4_window7_224.ms_in22k',\n",
      " 'swin_large_patch4_window7_224.ms_in22k_ft_in1k',\n",
      " 'swin_large_patch4_window12_384.ms_in22k',\n",
      " 'swin_large_patch4_window12_384.ms_in22k_ft_in1k',\n",
      " 'swin_s3_base_224.ms_in1k',\n",
      " 'swin_s3_small_224.ms_in1k',\n",
      " 'swin_s3_tiny_224.ms_in1k',\n",
      " 'swin_small_patch4_window7_224.ms_in1k',\n",
      " 'swin_small_patch4_window7_224.ms_in22k',\n",
      " 'swin_small_patch4_window7_224.ms_in22k_ft_in1k',\n",
      " 'swin_tiny_patch4_window7_224.ms_in1k',\n",
      " 'swin_tiny_patch4_window7_224.ms_in22k',\n",
      " 'swin_tiny_patch4_window7_224.ms_in22k_ft_in1k',\n",
      " 'swinv2_base_window8_256.ms_in1k',\n",
      " 'swinv2_base_window12_192.ms_in22k',\n",
      " 'swinv2_base_window12to16_192to256.ms_in22k_ft_in1k',\n",
      " 'swinv2_base_window12to24_192to384.ms_in22k_ft_in1k',\n",
      " 'swinv2_base_window16_256.ms_in1k',\n",
      " 'swinv2_cr_small_224.sw_in1k',\n",
      " 'swinv2_cr_small_ns_224.sw_in1k',\n",
      " 'swinv2_cr_tiny_ns_224.sw_in1k',\n",
      " 'swinv2_large_window12_192.ms_in22k',\n",
      " 'swinv2_large_window12to16_192to256.ms_in22k_ft_in1k',\n",
      " 'swinv2_large_window12to24_192to384.ms_in22k_ft_in1k',\n",
      " 'swinv2_small_window8_256.ms_in1k',\n",
      " 'swinv2_small_window16_256.ms_in1k',\n",
      " 'swinv2_tiny_window8_256.ms_in1k',\n",
      " 'swinv2_tiny_window16_256.ms_in1k',\n",
      " 'test_byobnet.r160_in1k',\n",
      " 'test_convnext2.r160_in1k',\n",
      " 'test_convnext3.r160_in1k',\n",
      " 'test_convnext.r160_in1k',\n",
      " 'test_efficientnet.r160_in1k',\n",
      " 'test_efficientnet_evos.r160_in1k',\n",
      " 'test_efficientnet_gn.r160_in1k',\n",
      " 'test_efficientnet_ln.r160_in1k',\n",
      " 'test_nfnet.r160_in1k',\n",
      " 'test_resnet.r160_in1k',\n",
      " 'test_vit2.r160_in1k',\n",
      " 'test_vit3.r160_in1k',\n",
      " 'test_vit.r160_in1k',\n",
      " 'tf_efficientnet_b0.aa_in1k',\n",
      " 'tf_efficientnet_b0.ap_in1k',\n",
      " 'tf_efficientnet_b0.in1k',\n",
      " 'tf_efficientnet_b0.ns_jft_in1k',\n",
      " 'tf_efficientnet_b1.aa_in1k',\n",
      " 'tf_efficientnet_b1.ap_in1k',\n",
      " 'tf_efficientnet_b1.in1k',\n",
      " 'tf_efficientnet_b1.ns_jft_in1k',\n",
      " 'tf_efficientnet_b2.aa_in1k',\n",
      " 'tf_efficientnet_b2.ap_in1k',\n",
      " 'tf_efficientnet_b2.in1k',\n",
      " 'tf_efficientnet_b2.ns_jft_in1k',\n",
      " 'tf_efficientnet_b3.aa_in1k',\n",
      " 'tf_efficientnet_b3.ap_in1k',\n",
      " 'tf_efficientnet_b3.in1k',\n",
      " 'tf_efficientnet_b3.ns_jft_in1k',\n",
      " 'tf_efficientnet_b4.aa_in1k',\n",
      " 'tf_efficientnet_b4.ap_in1k',\n",
      " 'tf_efficientnet_b4.in1k',\n",
      " 'tf_efficientnet_b4.ns_jft_in1k',\n",
      " 'tf_efficientnet_b5.aa_in1k',\n",
      " 'tf_efficientnet_b5.ap_in1k',\n",
      " 'tf_efficientnet_b5.in1k',\n",
      " 'tf_efficientnet_b5.ns_jft_in1k',\n",
      " 'tf_efficientnet_b5.ra_in1k',\n",
      " 'tf_efficientnet_b6.aa_in1k',\n",
      " 'tf_efficientnet_b6.ap_in1k',\n",
      " 'tf_efficientnet_b6.ns_jft_in1k',\n",
      " 'tf_efficientnet_b7.aa_in1k',\n",
      " 'tf_efficientnet_b7.ap_in1k',\n",
      " 'tf_efficientnet_b7.ns_jft_in1k',\n",
      " 'tf_efficientnet_b7.ra_in1k',\n",
      " 'tf_efficientnet_b8.ap_in1k',\n",
      " 'tf_efficientnet_b8.ra_in1k',\n",
      " 'tf_efficientnet_cc_b0_4e.in1k',\n",
      " 'tf_efficientnet_cc_b0_8e.in1k',\n",
      " 'tf_efficientnet_cc_b1_8e.in1k',\n",
      " 'tf_efficientnet_el.in1k',\n",
      " 'tf_efficientnet_em.in1k',\n",
      " 'tf_efficientnet_es.in1k',\n",
      " 'tf_efficientnet_l2.ns_jft_in1k',\n",
      " 'tf_efficientnet_l2.ns_jft_in1k_475',\n",
      " 'tf_efficientnet_lite0.in1k',\n",
      " 'tf_efficientnet_lite1.in1k',\n",
      " 'tf_efficientnet_lite2.in1k',\n",
      " 'tf_efficientnet_lite3.in1k',\n",
      " 'tf_efficientnet_lite4.in1k',\n",
      " 'tf_efficientnetv2_b0.in1k',\n",
      " 'tf_efficientnetv2_b1.in1k',\n",
      " 'tf_efficientnetv2_b2.in1k',\n",
      " 'tf_efficientnetv2_b3.in1k',\n",
      " 'tf_efficientnetv2_b3.in21k',\n",
      " 'tf_efficientnetv2_b3.in21k_ft_in1k',\n",
      " 'tf_efficientnetv2_l.in1k',\n",
      " 'tf_efficientnetv2_l.in21k',\n",
      " 'tf_efficientnetv2_l.in21k_ft_in1k',\n",
      " 'tf_efficientnetv2_m.in1k',\n",
      " 'tf_efficientnetv2_m.in21k',\n",
      " 'tf_efficientnetv2_m.in21k_ft_in1k',\n",
      " 'tf_efficientnetv2_s.in1k',\n",
      " 'tf_efficientnetv2_s.in21k',\n",
      " 'tf_efficientnetv2_s.in21k_ft_in1k',\n",
      " 'tf_efficientnetv2_xl.in21k',\n",
      " 'tf_efficientnetv2_xl.in21k_ft_in1k',\n",
      " 'tf_mixnet_l.in1k',\n",
      " 'tf_mixnet_m.in1k',\n",
      " 'tf_mixnet_s.in1k',\n",
      " 'tf_mobilenetv3_large_075.in1k',\n",
      " 'tf_mobilenetv3_large_100.in1k',\n",
      " 'tf_mobilenetv3_large_minimal_100.in1k',\n",
      " 'tf_mobilenetv3_small_075.in1k',\n",
      " 'tf_mobilenetv3_small_100.in1k',\n",
      " 'tf_mobilenetv3_small_minimal_100.in1k',\n",
      " 'tiny_vit_5m_224.dist_in22k',\n",
      " 'tiny_vit_5m_224.dist_in22k_ft_in1k',\n",
      " 'tiny_vit_5m_224.in1k',\n",
      " 'tiny_vit_11m_224.dist_in22k',\n",
      " 'tiny_vit_11m_224.dist_in22k_ft_in1k',\n",
      " 'tiny_vit_11m_224.in1k',\n",
      " 'tiny_vit_21m_224.dist_in22k',\n",
      " 'tiny_vit_21m_224.dist_in22k_ft_in1k',\n",
      " 'tiny_vit_21m_224.in1k',\n",
      " 'tiny_vit_21m_384.dist_in22k_ft_in1k',\n",
      " 'tiny_vit_21m_512.dist_in22k_ft_in1k',\n",
      " 'tinynet_a.in1k',\n",
      " 'tinynet_b.in1k',\n",
      " 'tinynet_c.in1k',\n",
      " 'tinynet_d.in1k',\n",
      " 'tinynet_e.in1k',\n",
      " 'tnt_s_patch16_224',\n",
      " 'tresnet_l.miil_in1k',\n",
      " 'tresnet_l.miil_in1k_448',\n",
      " 'tresnet_m.miil_in1k',\n",
      " 'tresnet_m.miil_in1k_448',\n",
      " 'tresnet_m.miil_in21k',\n",
      " 'tresnet_m.miil_in21k_ft_in1k',\n",
      " 'tresnet_v2_l.miil_in21k',\n",
      " 'tresnet_v2_l.miil_in21k_ft_in1k',\n",
      " 'tresnet_xl.miil_in1k',\n",
      " 'tresnet_xl.miil_in1k_448',\n",
      " 'twins_pcpvt_base.in1k',\n",
      " 'twins_pcpvt_large.in1k',\n",
      " 'twins_pcpvt_small.in1k',\n",
      " 'twins_svt_base.in1k',\n",
      " 'twins_svt_large.in1k',\n",
      " 'twins_svt_small.in1k',\n",
      " 'vgg11.tv_in1k',\n",
      " 'vgg11_bn.tv_in1k',\n",
      " 'vgg13.tv_in1k',\n",
      " 'vgg13_bn.tv_in1k',\n",
      " 'vgg16.tv_in1k',\n",
      " 'vgg16_bn.tv_in1k',\n",
      " 'vgg19.tv_in1k',\n",
      " 'vgg19_bn.tv_in1k',\n",
      " 'visformer_small.in1k',\n",
      " 'visformer_tiny.in1k',\n",
      " 'vit_base_mci_224.apple_mclip',\n",
      " 'vit_base_mci_224.apple_mclip_lt',\n",
      " 'vit_base_patch8_224.augreg2_in21k_ft_in1k',\n",
      " 'vit_base_patch8_224.augreg_in21k',\n",
      " 'vit_base_patch8_224.augreg_in21k_ft_in1k',\n",
      " 'vit_base_patch8_224.dino',\n",
      " 'vit_base_patch14_dinov2.lvd142m',\n",
      " 'vit_base_patch14_reg4_dinov2.lvd142m',\n",
      " 'vit_base_patch16_224.augreg2_in21k_ft_in1k',\n",
      " 'vit_base_patch16_224.augreg_in1k',\n",
      " 'vit_base_patch16_224.augreg_in21k',\n",
      " 'vit_base_patch16_224.augreg_in21k_ft_in1k',\n",
      " 'vit_base_patch16_224.dino',\n",
      " 'vit_base_patch16_224.mae',\n",
      " 'vit_base_patch16_224.orig_in21k',\n",
      " 'vit_base_patch16_224.orig_in21k_ft_in1k',\n",
      " 'vit_base_patch16_224.sam_in1k',\n",
      " 'vit_base_patch16_224_miil.in21k',\n",
      " 'vit_base_patch16_224_miil.in21k_ft_in1k',\n",
      " 'vit_base_patch16_384.augreg_in1k',\n",
      " 'vit_base_patch16_384.augreg_in21k_ft_in1k',\n",
      " 'vit_base_patch16_384.orig_in21k_ft_in1k',\n",
      " 'vit_base_patch16_clip_224.datacompxl',\n",
      " 'vit_base_patch16_clip_224.dfn2b',\n",
      " 'vit_base_patch16_clip_224.laion2b',\n",
      " 'vit_base_patch16_clip_224.laion2b_ft_in1k',\n",
      " 'vit_base_patch16_clip_224.laion2b_ft_in12k',\n",
      " 'vit_base_patch16_clip_224.laion2b_ft_in12k_in1k',\n",
      " 'vit_base_patch16_clip_224.metaclip_2pt5b',\n",
      " 'vit_base_patch16_clip_224.openai',\n",
      " 'vit_base_patch16_clip_224.openai_ft_in1k',\n",
      " 'vit_base_patch16_clip_224.openai_ft_in12k',\n",
      " 'vit_base_patch16_clip_224.openai_ft_in12k_in1k',\n",
      " 'vit_base_patch16_clip_384.laion2b_ft_in1k',\n",
      " 'vit_base_patch16_clip_384.laion2b_ft_in12k_in1k',\n",
      " 'vit_base_patch16_clip_384.openai_ft_in1k',\n",
      " 'vit_base_patch16_clip_384.openai_ft_in12k_in1k',\n",
      " 'vit_base_patch16_clip_quickgelu_224.metaclip_2pt5b',\n",
      " 'vit_base_patch16_clip_quickgelu_224.openai',\n",
      " 'vit_base_patch16_rope_reg1_gap_256.sbb_in1k',\n",
      " 'vit_base_patch16_rpn_224.sw_in1k',\n",
      " 'vit_base_patch16_siglip_224.webli',\n",
      " 'vit_base_patch16_siglip_256.webli',\n",
      " 'vit_base_patch16_siglip_256.webli_i18n',\n",
      " 'vit_base_patch16_siglip_384.webli',\n",
      " 'vit_base_patch16_siglip_512.webli',\n",
      " 'vit_base_patch16_siglip_gap_224.webli',\n",
      " 'vit_base_patch16_siglip_gap_256.webli',\n",
      " 'vit_base_patch16_siglip_gap_256.webli_i18n',\n",
      " 'vit_base_patch16_siglip_gap_384.webli',\n",
      " 'vit_base_patch16_siglip_gap_512.webli',\n",
      " 'vit_base_patch32_224.augreg_in1k',\n",
      " 'vit_base_patch32_224.augreg_in21k',\n",
      " 'vit_base_patch32_224.augreg_in21k_ft_in1k',\n",
      " 'vit_base_patch32_224.orig_in21k',\n",
      " 'vit_base_patch32_224.sam_in1k',\n",
      " 'vit_base_patch32_384.augreg_in1k',\n",
      " 'vit_base_patch32_384.augreg_in21k_ft_in1k',\n",
      " 'vit_base_patch32_clip_224.datacompxl',\n",
      " 'vit_base_patch32_clip_224.laion2b',\n",
      " 'vit_base_patch32_clip_224.laion2b_ft_in1k',\n",
      " 'vit_base_patch32_clip_224.laion2b_ft_in12k_in1k',\n",
      " 'vit_base_patch32_clip_224.metaclip_2pt5b',\n",
      " 'vit_base_patch32_clip_224.openai',\n",
      " 'vit_base_patch32_clip_224.openai_ft_in1k',\n",
      " 'vit_base_patch32_clip_256.datacompxl',\n",
      " 'vit_base_patch32_clip_384.laion2b_ft_in12k_in1k',\n",
      " 'vit_base_patch32_clip_384.openai_ft_in12k_in1k',\n",
      " 'vit_base_patch32_clip_448.laion2b_ft_in12k_in1k',\n",
      " 'vit_base_patch32_clip_quickgelu_224.metaclip_2pt5b',\n",
      " 'vit_base_patch32_clip_quickgelu_224.openai',\n",
      " 'vit_base_r50_s16_224.orig_in21k',\n",
      " 'vit_base_r50_s16_384.orig_in21k_ft_in1k',\n",
      " 'vit_betwixt_patch16_reg1_gap_256.sbb_in1k',\n",
      " 'vit_betwixt_patch16_reg4_gap_256.sbb2_e200_in12k',\n",
      " 'vit_betwixt_patch16_reg4_gap_256.sbb2_e200_in12k_ft_in1k',\n",
      " 'vit_betwixt_patch16_reg4_gap_256.sbb_in1k',\n",
      " 'vit_betwixt_patch16_reg4_gap_256.sbb_in12k',\n",
      " 'vit_betwixt_patch16_reg4_gap_256.sbb_in12k_ft_in1k',\n",
      " 'vit_betwixt_patch16_reg4_gap_384.sbb2_e200_in12k_ft_in1k',\n",
      " 'vit_betwixt_patch16_rope_reg4_gap_256.sbb_in1k',\n",
      " 'vit_betwixt_patch32_clip_224.tinyclip_laion400m',\n",
      " 'vit_giant_patch14_clip_224.laion2b',\n",
      " 'vit_giant_patch14_dinov2.lvd142m',\n",
      " 'vit_giant_patch14_reg4_dinov2.lvd142m',\n",
      " 'vit_giant_patch16_gap_224.in22k_ijepa',\n",
      " 'vit_gigantic_patch14_clip_224.laion2b',\n",
      " 'vit_huge_patch14_224.mae',\n",
      " 'vit_huge_patch14_224.orig_in21k',\n",
      " 'vit_huge_patch14_clip_224.dfn5b',\n",
      " 'vit_huge_patch14_clip_224.laion2b',\n",
      " 'vit_huge_patch14_clip_224.laion2b_ft_in1k',\n",
      " 'vit_huge_patch14_clip_224.laion2b_ft_in12k',\n",
      " 'vit_huge_patch14_clip_224.laion2b_ft_in12k_in1k',\n",
      " 'vit_huge_patch14_clip_224.metaclip_2pt5b',\n",
      " 'vit_huge_patch14_clip_336.laion2b_ft_in12k_in1k',\n",
      " 'vit_huge_patch14_clip_378.dfn5b',\n",
      " 'vit_huge_patch14_clip_quickgelu_224.dfn5b',\n",
      " 'vit_huge_patch14_clip_quickgelu_224.metaclip_2pt5b',\n",
      " 'vit_huge_patch14_clip_quickgelu_378.dfn5b',\n",
      " 'vit_huge_patch14_gap_224.in1k_ijepa',\n",
      " 'vit_huge_patch14_gap_224.in22k_ijepa',\n",
      " 'vit_huge_patch16_gap_448.in1k_ijepa',\n",
      " 'vit_intern300m_patch14_448.ogvl_dist',\n",
      " 'vit_large_patch14_clip_224.datacompxl',\n",
      " 'vit_large_patch14_clip_224.dfn2b',\n",
      " 'vit_large_patch14_clip_224.laion2b',\n",
      " 'vit_large_patch14_clip_224.laion2b_ft_in1k',\n",
      " 'vit_large_patch14_clip_224.laion2b_ft_in12k',\n",
      " 'vit_large_patch14_clip_224.laion2b_ft_in12k_in1k',\n",
      " 'vit_large_patch14_clip_224.metaclip_2pt5b',\n",
      " 'vit_large_patch14_clip_224.openai',\n",
      " 'vit_large_patch14_clip_224.openai_ft_in1k',\n",
      " 'vit_large_patch14_clip_224.openai_ft_in12k',\n",
      " 'vit_large_patch14_clip_224.openai_ft_in12k_in1k',\n",
      " 'vit_large_patch14_clip_336.laion2b_ft_in1k',\n",
      " 'vit_large_patch14_clip_336.laion2b_ft_in12k_in1k',\n",
      " 'vit_large_patch14_clip_336.openai',\n",
      " 'vit_large_patch14_clip_336.openai_ft_in12k_in1k',\n",
      " 'vit_large_patch14_clip_quickgelu_224.dfn2b',\n",
      " 'vit_large_patch14_clip_quickgelu_224.metaclip_2pt5b',\n",
      " 'vit_large_patch14_clip_quickgelu_224.openai',\n",
      " 'vit_large_patch14_clip_quickgelu_336.openai',\n",
      " 'vit_large_patch14_dinov2.lvd142m',\n",
      " 'vit_large_patch14_reg4_dinov2.lvd142m',\n",
      " 'vit_large_patch16_224.augreg_in21k',\n",
      " 'vit_large_patch16_224.augreg_in21k_ft_in1k',\n",
      " 'vit_large_patch16_224.mae',\n",
      " 'vit_large_patch16_224.orig_in21k',\n",
      " 'vit_large_patch16_384.augreg_in21k_ft_in1k',\n",
      " 'vit_large_patch16_siglip_256.webli',\n",
      " 'vit_large_patch16_siglip_384.webli',\n",
      " 'vit_large_patch16_siglip_gap_256.webli',\n",
      " 'vit_large_patch16_siglip_gap_384.webli',\n",
      " 'vit_large_patch32_224.orig_in21k',\n",
      " 'vit_large_patch32_384.orig_in21k_ft_in1k',\n",
      " 'vit_large_r50_s32_224.augreg_in21k',\n",
      " 'vit_large_r50_s32_224.augreg_in21k_ft_in1k',\n",
      " 'vit_large_r50_s32_384.augreg_in21k_ft_in1k',\n",
      " 'vit_little_patch16_reg1_gap_256.sbb_in12k',\n",
      " 'vit_little_patch16_reg1_gap_256.sbb_in12k_ft_in1k',\n",
      " 'vit_little_patch16_reg4_gap_256.sbb_in1k',\n",
      " 'vit_medium_patch16_clip_224.tinyclip_yfcc15m',\n",
      " 'vit_medium_patch16_gap_240.sw_in12k',\n",
      " 'vit_medium_patch16_gap_256.sw_in12k_ft_in1k',\n",
      " 'vit_medium_patch16_gap_384.sw_in12k_ft_in1k',\n",
      " 'vit_medium_patch16_reg1_gap_256.sbb_in1k',\n",
      " 'vit_medium_patch16_reg4_gap_256.sbb_in1k',\n",
      " 'vit_medium_patch16_reg4_gap_256.sbb_in12k',\n",
      " 'vit_medium_patch16_reg4_gap_256.sbb_in12k_ft_in1k',\n",
      " 'vit_medium_patch16_rope_reg1_gap_256.sbb_in1k',\n",
      " 'vit_medium_patch32_clip_224.tinyclip_laion400m',\n",
      " 'vit_mediumd_patch16_reg4_gap_256.sbb2_e200_in12k',\n",
      " 'vit_mediumd_patch16_reg4_gap_256.sbb2_e200_in12k_ft_in1k',\n",
      " 'vit_mediumd_patch16_reg4_gap_256.sbb_in12k',\n",
      " 'vit_mediumd_patch16_reg4_gap_256.sbb_in12k_ft_in1k',\n",
      " 'vit_mediumd_patch16_reg4_gap_384.sbb2_e200_in12k_ft_in1k',\n",
      " 'vit_mediumd_patch16_rope_reg1_gap_256.sbb_in1k',\n",
      " 'vit_pwee_patch16_reg1_gap_256.sbb_in1k',\n",
      " 'vit_relpos_base_patch16_224.sw_in1k',\n",
      " 'vit_relpos_base_patch16_clsgap_224.sw_in1k',\n",
      " 'vit_relpos_base_patch32_plus_rpn_256.sw_in1k',\n",
      " 'vit_relpos_medium_patch16_224.sw_in1k',\n",
      " 'vit_relpos_medium_patch16_cls_224.sw_in1k',\n",
      " 'vit_relpos_medium_patch16_rpn_224.sw_in1k',\n",
      " 'vit_relpos_small_patch16_224.sw_in1k',\n",
      " 'vit_small_patch8_224.dino',\n",
      " 'vit_small_patch14_dinov2.lvd142m',\n",
      " 'vit_small_patch14_reg4_dinov2.lvd142m',\n",
      " 'vit_small_patch16_224.augreg_in1k',\n",
      " 'vit_small_patch16_224.augreg_in21k',\n",
      " 'vit_small_patch16_224.augreg_in21k_ft_in1k',\n",
      " 'vit_small_patch16_224.dino',\n",
      " 'vit_small_patch16_384.augreg_in1k',\n",
      " 'vit_small_patch16_384.augreg_in21k_ft_in1k',\n",
      " 'vit_small_patch32_224.augreg_in21k',\n",
      " 'vit_small_patch32_224.augreg_in21k_ft_in1k',\n",
      " 'vit_small_patch32_384.augreg_in21k_ft_in1k',\n",
      " 'vit_small_r26_s32_224.augreg_in21k',\n",
      " 'vit_small_r26_s32_224.augreg_in21k_ft_in1k',\n",
      " 'vit_small_r26_s32_384.augreg_in21k_ft_in1k',\n",
      " 'vit_so400m_patch14_siglip_224.webli',\n",
      " 'vit_so400m_patch14_siglip_378.webli',\n",
      " 'vit_so400m_patch14_siglip_378.webli_ft_in1k',\n",
      " 'vit_so400m_patch14_siglip_384.webli',\n",
      " 'vit_so400m_patch14_siglip_gap_224.pali_mix',\n",
      " 'vit_so400m_patch14_siglip_gap_224.pali_pt',\n",
      " 'vit_so400m_patch14_siglip_gap_224.webli',\n",
      " 'vit_so400m_patch14_siglip_gap_378.webli',\n",
      " 'vit_so400m_patch14_siglip_gap_378.webli_ft_in1k',\n",
      " 'vit_so400m_patch14_siglip_gap_384.webli',\n",
      " 'vit_so400m_patch14_siglip_gap_448.pali_mix',\n",
      " 'vit_so400m_patch14_siglip_gap_448.pali_pt',\n",
      " 'vit_so400m_patch14_siglip_gap_896.pali_pt',\n",
      " 'vit_so400m_patch16_siglip_256.webli_i18n',\n",
      " 'vit_so400m_patch16_siglip_gap_256.webli_i18n',\n",
      " 'vit_srelpos_medium_patch16_224.sw_in1k',\n",
      " 'vit_srelpos_small_patch16_224.sw_in1k',\n",
      " 'vit_tiny_patch16_224.augreg_in21k',\n",
      " 'vit_tiny_patch16_224.augreg_in21k_ft_in1k',\n",
      " 'vit_tiny_patch16_384.augreg_in21k_ft_in1k',\n",
      " 'vit_tiny_r_s16_p8_224.augreg_in21k',\n",
      " 'vit_tiny_r_s16_p8_224.augreg_in21k_ft_in1k',\n",
      " 'vit_tiny_r_s16_p8_384.augreg_in21k_ft_in1k',\n",
      " 'vit_wee_patch16_reg1_gap_256.sbb_in1k',\n",
      " 'vit_xsmall_patch16_clip_224.tinyclip_yfcc15m',\n",
      " 'vitamin_base_224.datacomp1b_clip',\n",
      " 'vitamin_base_224.datacomp1b_clip_ltt',\n",
      " 'vitamin_large2_224.datacomp1b_clip',\n",
      " 'vitamin_large2_256.datacomp1b_clip',\n",
      " 'vitamin_large2_336.datacomp1b_clip',\n",
      " 'vitamin_large2_384.datacomp1b_clip',\n",
      " 'vitamin_large_224.datacomp1b_clip',\n",
      " 'vitamin_large_256.datacomp1b_clip',\n",
      " 'vitamin_large_336.datacomp1b_clip',\n",
      " 'vitamin_large_384.datacomp1b_clip',\n",
      " 'vitamin_small_224.datacomp1b_clip',\n",
      " 'vitamin_small_224.datacomp1b_clip_ltt',\n",
      " 'vitamin_xlarge_256.datacomp1b_clip',\n",
      " 'vitamin_xlarge_336.datacomp1b_clip',\n",
      " 'vitamin_xlarge_384.datacomp1b_clip',\n",
      " 'volo_d1_224.sail_in1k',\n",
      " 'volo_d1_384.sail_in1k',\n",
      " 'volo_d2_224.sail_in1k',\n",
      " 'volo_d2_384.sail_in1k',\n",
      " 'volo_d3_224.sail_in1k',\n",
      " 'volo_d3_448.sail_in1k',\n",
      " 'volo_d4_224.sail_in1k',\n",
      " 'volo_d4_448.sail_in1k',\n",
      " 'volo_d5_224.sail_in1k',\n",
      " 'volo_d5_448.sail_in1k',\n",
      " 'volo_d5_512.sail_in1k',\n",
      " 'wide_resnet50_2.racm_in1k',\n",
      " 'wide_resnet50_2.tv2_in1k',\n",
      " 'wide_resnet50_2.tv_in1k',\n",
      " 'wide_resnet101_2.tv2_in1k',\n",
      " 'wide_resnet101_2.tv_in1k',\n",
      " 'xception41.tf_in1k',\n",
      " 'xception41p.ra3_in1k',\n",
      " 'xception65.ra3_in1k',\n",
      " 'xception65.tf_in1k',\n",
      " 'xception65p.ra3_in1k',\n",
      " 'xception71.tf_in1k',\n",
      " 'xcit_large_24_p8_224.fb_dist_in1k',\n",
      " 'xcit_large_24_p8_224.fb_in1k',\n",
      " 'xcit_large_24_p8_384.fb_dist_in1k',\n",
      " 'xcit_large_24_p16_224.fb_dist_in1k',\n",
      " 'xcit_large_24_p16_224.fb_in1k',\n",
      " 'xcit_large_24_p16_384.fb_dist_in1k',\n",
      " 'xcit_medium_24_p8_224.fb_dist_in1k',\n",
      " 'xcit_medium_24_p8_224.fb_in1k',\n",
      " 'xcit_medium_24_p8_384.fb_dist_in1k',\n",
      " 'xcit_medium_24_p16_224.fb_dist_in1k',\n",
      " 'xcit_medium_24_p16_224.fb_in1k',\n",
      " 'xcit_medium_24_p16_384.fb_dist_in1k',\n",
      " 'xcit_nano_12_p8_224.fb_dist_in1k',\n",
      " 'xcit_nano_12_p8_224.fb_in1k',\n",
      " 'xcit_nano_12_p8_384.fb_dist_in1k',\n",
      " 'xcit_nano_12_p16_224.fb_dist_in1k',\n",
      " 'xcit_nano_12_p16_224.fb_in1k',\n",
      " 'xcit_nano_12_p16_384.fb_dist_in1k',\n",
      " 'xcit_small_12_p8_224.fb_dist_in1k',\n",
      " 'xcit_small_12_p8_224.fb_in1k',\n",
      " 'xcit_small_12_p8_384.fb_dist_in1k',\n",
      " 'xcit_small_12_p16_224.fb_dist_in1k',\n",
      " 'xcit_small_12_p16_224.fb_in1k',\n",
      " 'xcit_small_12_p16_384.fb_dist_in1k',\n",
      " 'xcit_small_24_p8_224.fb_dist_in1k',\n",
      " 'xcit_small_24_p8_224.fb_in1k',\n",
      " 'xcit_small_24_p8_384.fb_dist_in1k',\n",
      " 'xcit_small_24_p16_224.fb_dist_in1k',\n",
      " 'xcit_small_24_p16_224.fb_in1k',\n",
      " 'xcit_small_24_p16_384.fb_dist_in1k',\n",
      " 'xcit_tiny_12_p8_224.fb_dist_in1k',\n",
      " 'xcit_tiny_12_p8_224.fb_in1k',\n",
      " 'xcit_tiny_12_p8_384.fb_dist_in1k',\n",
      " 'xcit_tiny_12_p16_224.fb_dist_in1k',\n",
      " 'xcit_tiny_12_p16_224.fb_in1k',\n",
      " 'xcit_tiny_12_p16_384.fb_dist_in1k',\n",
      " 'xcit_tiny_24_p8_224.fb_dist_in1k',\n",
      " 'xcit_tiny_24_p8_224.fb_in1k',\n",
      " 'xcit_tiny_24_p8_384.fb_dist_in1k',\n",
      " 'xcit_tiny_24_p16_224.fb_dist_in1k',\n",
      " 'xcit_tiny_24_p16_224.fb_in1k',\n",
      " 'xcit_tiny_24_p16_384.fb_dist_in1k']\n"
     ]
    }
   ],
   "source": [
    "model_names = timm.list_models(pretrained=True)\n",
    "pprint(model_names)"
   ]
  },
  {
   "cell_type": "code",
   "execution_count": 10,
   "metadata": {},
   "outputs": [],
   "source": [
    "model = timm.create_model('swin_base_patch4_window7_224.ms_in22k', pretrained=True, num_classes=2)\n",
    "model = model.to(device)"
   ]
  },
  {
   "cell_type": "markdown",
   "metadata": {},
   "source": [
    "### Fine Tuning for Medical Data"
   ]
  },
  {
   "cell_type": "code",
   "execution_count": 11,
   "metadata": {},
   "outputs": [],
   "source": [
    "# loss function\n",
    "criterion = nn.CrossEntropyLoss()\n",
    "# optimizer\n",
    "optimizer = optim.Adam(model.parameters(), lr=lr)"
   ]
  },
  {
   "cell_type": "code",
   "execution_count": 12,
   "metadata": {},
   "outputs": [
    {
     "data": {
      "application/vnd.jupyter.widget-view+json": {
       "model_id": "f32e0ed6ee4d4bfd8919f421788433c7",
       "version_major": 2,
       "version_minor": 0
      },
      "text/plain": [
       "  0%|          | 0/10 [00:00<?, ?it/s]"
      ]
     },
     "metadata": {},
     "output_type": "display_data"
    },
    {
     "name": "stdout",
     "output_type": "stream",
     "text": [
      "Epoch : 1 - loss : 0.8748 - acc: 0.4988 - val_loss : 0.6836 - val_acc: 0.5089\n",
      "\n",
      "\n"
     ]
    },
    {
     "data": {
      "application/vnd.jupyter.widget-view+json": {
       "model_id": "5be37e9df678484ea395ae940df05842",
       "version_major": 2,
       "version_minor": 0
      },
      "text/plain": [
       "  0%|          | 0/10 [00:00<?, ?it/s]"
      ]
     },
     "metadata": {},
     "output_type": "display_data"
    },
    {
     "name": "stdout",
     "output_type": "stream",
     "text": [
      "Epoch : 2 - loss : 0.5820 - acc: 0.7013 - val_loss : 0.7941 - val_acc: 0.4375\n",
      "\n",
      "\n"
     ]
    },
    {
     "data": {
      "application/vnd.jupyter.widget-view+json": {
       "model_id": "073079f18ed5450e8d311666eb350c88",
       "version_major": 2,
       "version_minor": 0
      },
      "text/plain": [
       "  0%|          | 0/10 [00:00<?, ?it/s]"
      ]
     },
     "metadata": {},
     "output_type": "display_data"
    },
    {
     "name": "stdout",
     "output_type": "stream",
     "text": [
      "Epoch : 3 - loss : 0.3260 - acc: 0.8500 - val_loss : 0.3370 - val_acc: 0.8542\n",
      "\n",
      "\n"
     ]
    },
    {
     "data": {
      "application/vnd.jupyter.widget-view+json": {
       "model_id": "c890ed19183c4cea8bf3fbb7fad141f4",
       "version_major": 2,
       "version_minor": 0
      },
      "text/plain": [
       "  0%|          | 0/10 [00:00<?, ?it/s]"
      ]
     },
     "metadata": {},
     "output_type": "display_data"
    },
    {
     "name": "stdout",
     "output_type": "stream",
     "text": [
      "Epoch : 4 - loss : 0.1649 - acc: 0.9563 - val_loss : 0.4383 - val_acc: 0.8958\n",
      "\n",
      "\n"
     ]
    },
    {
     "data": {
      "application/vnd.jupyter.widget-view+json": {
       "model_id": "2d9ff35c2c0e4b40af777b77e72ab945",
       "version_major": 2,
       "version_minor": 0
      },
      "text/plain": [
       "  0%|          | 0/10 [00:00<?, ?it/s]"
      ]
     },
     "metadata": {},
     "output_type": "display_data"
    },
    {
     "name": "stdout",
     "output_type": "stream",
     "text": [
      "Epoch : 5 - loss : 0.1396 - acc: 0.9463 - val_loss : 0.3833 - val_acc: 0.9167\n",
      "\n",
      "\n"
     ]
    },
    {
     "data": {
      "application/vnd.jupyter.widget-view+json": {
       "model_id": "04eceecda7694b8ca9a2187f1f2114b3",
       "version_major": 2,
       "version_minor": 0
      },
      "text/plain": [
       "  0%|          | 0/10 [00:00<?, ?it/s]"
      ]
     },
     "metadata": {},
     "output_type": "display_data"
    },
    {
     "name": "stdout",
     "output_type": "stream",
     "text": [
      "Epoch : 6 - loss : 0.0941 - acc: 0.9625 - val_loss : 0.4316 - val_acc: 0.8750\n",
      "\n",
      "\n"
     ]
    },
    {
     "data": {
      "application/vnd.jupyter.widget-view+json": {
       "model_id": "9fa7a6d21bc14d8dac5a4037c10258a6",
       "version_major": 2,
       "version_minor": 0
      },
      "text/plain": [
       "  0%|          | 0/10 [00:00<?, ?it/s]"
      ]
     },
     "metadata": {},
     "output_type": "display_data"
    },
    {
     "name": "stdout",
     "output_type": "stream",
     "text": [
      "Epoch : 7 - loss : 0.1187 - acc: 0.9688 - val_loss : 0.5561 - val_acc: 0.8006\n",
      "\n",
      "\n"
     ]
    },
    {
     "data": {
      "application/vnd.jupyter.widget-view+json": {
       "model_id": "fa2a4ce0039548f99ad0f3b2511c3f1f",
       "version_major": 2,
       "version_minor": 0
      },
      "text/plain": [
       "  0%|          | 0/10 [00:00<?, ?it/s]"
      ]
     },
     "metadata": {},
     "output_type": "display_data"
    },
    {
     "name": "stdout",
     "output_type": "stream",
     "text": [
      "Epoch : 8 - loss : 0.0500 - acc: 0.9750 - val_loss : 0.5803 - val_acc: 0.8750\n",
      "\n",
      "\n"
     ]
    },
    {
     "data": {
      "application/vnd.jupyter.widget-view+json": {
       "model_id": "a963430a5f334da3b9a86ff0fcc71536",
       "version_major": 2,
       "version_minor": 0
      },
      "text/plain": [
       "  0%|          | 0/10 [00:00<?, ?it/s]"
      ]
     },
     "metadata": {},
     "output_type": "display_data"
    },
    {
     "name": "stdout",
     "output_type": "stream",
     "text": [
      "Epoch : 9 - loss : 0.0194 - acc: 0.9938 - val_loss : 0.4677 - val_acc: 0.8958\n",
      "\n",
      "\n"
     ]
    },
    {
     "data": {
      "application/vnd.jupyter.widget-view+json": {
       "model_id": "9c94cea7fdae4db3ac88d744d5defb8a",
       "version_major": 2,
       "version_minor": 0
      },
      "text/plain": [
       "  0%|          | 0/10 [00:00<?, ?it/s]"
      ]
     },
     "metadata": {},
     "output_type": "display_data"
    },
    {
     "name": "stdout",
     "output_type": "stream",
     "text": [
      "Epoch : 10 - loss : 0.0019 - acc: 1.0000 - val_loss : 0.5225 - val_acc: 0.8958\n",
      "\n",
      "\n"
     ]
    },
    {
     "data": {
      "application/vnd.jupyter.widget-view+json": {
       "model_id": "dda1cf5948b047ccb11de93d30617596",
       "version_major": 2,
       "version_minor": 0
      },
      "text/plain": [
       "  0%|          | 0/10 [00:00<?, ?it/s]"
      ]
     },
     "metadata": {},
     "output_type": "display_data"
    },
    {
     "name": "stdout",
     "output_type": "stream",
     "text": [
      "Epoch : 11 - loss : 0.0004 - acc: 1.0000 - val_loss : 0.4842 - val_acc: 0.8958\n",
      "\n",
      "\n"
     ]
    },
    {
     "data": {
      "application/vnd.jupyter.widget-view+json": {
       "model_id": "afc521b4727e4c2b911db68559691e98",
       "version_major": 2,
       "version_minor": 0
      },
      "text/plain": [
       "  0%|          | 0/10 [00:00<?, ?it/s]"
      ]
     },
     "metadata": {},
     "output_type": "display_data"
    },
    {
     "name": "stdout",
     "output_type": "stream",
     "text": [
      "Epoch : 12 - loss : 0.0005 - acc: 1.0000 - val_loss : 0.5446 - val_acc: 0.8542\n",
      "\n",
      "\n"
     ]
    },
    {
     "data": {
      "application/vnd.jupyter.widget-view+json": {
       "model_id": "2203a91da6ed4ef7967f944335b79786",
       "version_major": 2,
       "version_minor": 0
      },
      "text/plain": [
       "  0%|          | 0/10 [00:00<?, ?it/s]"
      ]
     },
     "metadata": {},
     "output_type": "display_data"
    },
    {
     "name": "stdout",
     "output_type": "stream",
     "text": [
      "Epoch : 13 - loss : 0.0011 - acc: 1.0000 - val_loss : 0.5717 - val_acc: 0.8958\n",
      "\n",
      "\n"
     ]
    },
    {
     "data": {
      "application/vnd.jupyter.widget-view+json": {
       "model_id": "7a92ca6f080648b0bae0b621da82d12e",
       "version_major": 2,
       "version_minor": 0
      },
      "text/plain": [
       "  0%|          | 0/10 [00:00<?, ?it/s]"
      ]
     },
     "metadata": {},
     "output_type": "display_data"
    },
    {
     "name": "stdout",
     "output_type": "stream",
     "text": [
      "Epoch : 14 - loss : 0.0088 - acc: 0.9900 - val_loss : 0.6571 - val_acc: 0.8958\n",
      "\n",
      "\n"
     ]
    },
    {
     "data": {
      "application/vnd.jupyter.widget-view+json": {
       "model_id": "bb3ffd79a28e486492e42be9c24e4fb9",
       "version_major": 2,
       "version_minor": 0
      },
      "text/plain": [
       "  0%|          | 0/10 [00:00<?, ?it/s]"
      ]
     },
     "metadata": {},
     "output_type": "display_data"
    },
    {
     "name": "stdout",
     "output_type": "stream",
     "text": [
      "Epoch : 15 - loss : 0.0608 - acc: 0.9625 - val_loss : 0.6545 - val_acc: 0.8482\n",
      "\n",
      "\n"
     ]
    },
    {
     "data": {
      "application/vnd.jupyter.widget-view+json": {
       "model_id": "db59fe10c3ed4f43949313f01a2ccce2",
       "version_major": 2,
       "version_minor": 0
      },
      "text/plain": [
       "  0%|          | 0/10 [00:00<?, ?it/s]"
      ]
     },
     "metadata": {},
     "output_type": "display_data"
    },
    {
     "name": "stdout",
     "output_type": "stream",
     "text": [
      "Epoch : 16 - loss : 0.0819 - acc: 0.9688 - val_loss : 0.9219 - val_acc: 0.6875\n",
      "\n",
      "\n"
     ]
    },
    {
     "data": {
      "application/vnd.jupyter.widget-view+json": {
       "model_id": "fa03e0d7939e4045a98244f50193c32f",
       "version_major": 2,
       "version_minor": 0
      },
      "text/plain": [
       "  0%|          | 0/10 [00:00<?, ?it/s]"
      ]
     },
     "metadata": {},
     "output_type": "display_data"
    },
    {
     "name": "stdout",
     "output_type": "stream",
     "text": [
      "Epoch : 17 - loss : 0.1057 - acc: 0.9625 - val_loss : 0.3263 - val_acc: 0.9167\n",
      "\n",
      "\n"
     ]
    },
    {
     "data": {
      "application/vnd.jupyter.widget-view+json": {
       "model_id": "1deed1e0bf0a49c999b8b41f5d87ecea",
       "version_major": 2,
       "version_minor": 0
      },
      "text/plain": [
       "  0%|          | 0/10 [00:00<?, ?it/s]"
      ]
     },
     "metadata": {},
     "output_type": "display_data"
    },
    {
     "name": "stdout",
     "output_type": "stream",
     "text": [
      "Epoch : 18 - loss : 0.0418 - acc: 0.9875 - val_loss : 0.4795 - val_acc: 0.9167\n",
      "\n",
      "\n"
     ]
    },
    {
     "data": {
      "application/vnd.jupyter.widget-view+json": {
       "model_id": "a79629b506d949f5afd727e29f03eca6",
       "version_major": 2,
       "version_minor": 0
      },
      "text/plain": [
       "  0%|          | 0/10 [00:00<?, ?it/s]"
      ]
     },
     "metadata": {},
     "output_type": "display_data"
    },
    {
     "name": "stdout",
     "output_type": "stream",
     "text": [
      "Epoch : 19 - loss : 0.0015 - acc: 1.0000 - val_loss : 0.8161 - val_acc: 0.8958\n",
      "\n",
      "\n"
     ]
    },
    {
     "data": {
      "application/vnd.jupyter.widget-view+json": {
       "model_id": "38410ed24c5746989a854c1f6c5d604f",
       "version_major": 2,
       "version_minor": 0
      },
      "text/plain": [
       "  0%|          | 0/10 [00:00<?, ?it/s]"
      ]
     },
     "metadata": {},
     "output_type": "display_data"
    },
    {
     "name": "stdout",
     "output_type": "stream",
     "text": [
      "Epoch : 20 - loss : 0.0100 - acc: 0.9938 - val_loss : 0.7524 - val_acc: 0.8958\n",
      "\n",
      "\n"
     ]
    },
    {
     "data": {
      "application/vnd.jupyter.widget-view+json": {
       "model_id": "3ca51f2006d7485eb73905fbbed6773e",
       "version_major": 2,
       "version_minor": 0
      },
      "text/plain": [
       "  0%|          | 0/10 [00:00<?, ?it/s]"
      ]
     },
     "metadata": {},
     "output_type": "display_data"
    },
    {
     "name": "stdout",
     "output_type": "stream",
     "text": [
      "Epoch : 21 - loss : 0.0234 - acc: 0.9938 - val_loss : 1.1530 - val_acc: 0.8214\n",
      "\n",
      "\n"
     ]
    },
    {
     "data": {
      "application/vnd.jupyter.widget-view+json": {
       "model_id": "910b471ef4c24cc2af61d79a1507f7a1",
       "version_major": 2,
       "version_minor": 0
      },
      "text/plain": [
       "  0%|          | 0/10 [00:00<?, ?it/s]"
      ]
     },
     "metadata": {},
     "output_type": "display_data"
    },
    {
     "name": "stdout",
     "output_type": "stream",
     "text": [
      "Epoch : 22 - loss : 0.0832 - acc: 0.9813 - val_loss : 0.3673 - val_acc: 0.9167\n",
      "\n",
      "\n"
     ]
    },
    {
     "data": {
      "application/vnd.jupyter.widget-view+json": {
       "model_id": "803a70071f1a49608c1f2023a76b7900",
       "version_major": 2,
       "version_minor": 0
      },
      "text/plain": [
       "  0%|          | 0/10 [00:00<?, ?it/s]"
      ]
     },
     "metadata": {},
     "output_type": "display_data"
    },
    {
     "name": "stdout",
     "output_type": "stream",
     "text": [
      "Epoch : 23 - loss : 0.0527 - acc: 0.9875 - val_loss : 0.4505 - val_acc: 0.8958\n",
      "\n",
      "\n"
     ]
    },
    {
     "data": {
      "application/vnd.jupyter.widget-view+json": {
       "model_id": "7aa35ad48b724f58a9b01ff90072969e",
       "version_major": 2,
       "version_minor": 0
      },
      "text/plain": [
       "  0%|          | 0/10 [00:00<?, ?it/s]"
      ]
     },
     "metadata": {},
     "output_type": "display_data"
    },
    {
     "name": "stdout",
     "output_type": "stream",
     "text": [
      "Epoch : 24 - loss : 0.0191 - acc: 1.0000 - val_loss : 0.4534 - val_acc: 0.8958\n",
      "\n",
      "\n"
     ]
    },
    {
     "data": {
      "application/vnd.jupyter.widget-view+json": {
       "model_id": "bf4b6cd1bd3848309adc7e8f54dbf181",
       "version_major": 2,
       "version_minor": 0
      },
      "text/plain": [
       "  0%|          | 0/10 [00:00<?, ?it/s]"
      ]
     },
     "metadata": {},
     "output_type": "display_data"
    },
    {
     "name": "stdout",
     "output_type": "stream",
     "text": [
      "Epoch : 25 - loss : 0.0197 - acc: 0.9938 - val_loss : 0.6608 - val_acc: 0.8750\n",
      "\n",
      "\n"
     ]
    },
    {
     "data": {
      "application/vnd.jupyter.widget-view+json": {
       "model_id": "eb4518e9540a41da9437ce0951e1b3e9",
       "version_major": 2,
       "version_minor": 0
      },
      "text/plain": [
       "  0%|          | 0/10 [00:00<?, ?it/s]"
      ]
     },
     "metadata": {},
     "output_type": "display_data"
    },
    {
     "name": "stdout",
     "output_type": "stream",
     "text": [
      "Epoch : 26 - loss : 0.0183 - acc: 0.9938 - val_loss : 0.5427 - val_acc: 0.9167\n",
      "\n",
      "\n"
     ]
    },
    {
     "data": {
      "application/vnd.jupyter.widget-view+json": {
       "model_id": "00c5dbf47f6144688ea56d8662f85543",
       "version_major": 2,
       "version_minor": 0
      },
      "text/plain": [
       "  0%|          | 0/10 [00:00<?, ?it/s]"
      ]
     },
     "metadata": {},
     "output_type": "display_data"
    },
    {
     "name": "stdout",
     "output_type": "stream",
     "text": [
      "Epoch : 27 - loss : 0.0142 - acc: 0.9938 - val_loss : 0.4973 - val_acc: 0.9375\n",
      "\n",
      "\n"
     ]
    },
    {
     "data": {
      "application/vnd.jupyter.widget-view+json": {
       "model_id": "7c5dad702b1b4e47b911e2f16fd02d41",
       "version_major": 2,
       "version_minor": 0
      },
      "text/plain": [
       "  0%|          | 0/10 [00:00<?, ?it/s]"
      ]
     },
     "metadata": {},
     "output_type": "display_data"
    },
    {
     "name": "stdout",
     "output_type": "stream",
     "text": [
      "Epoch : 28 - loss : 0.0010 - acc: 1.0000 - val_loss : 0.5564 - val_acc: 0.8750\n",
      "\n",
      "\n"
     ]
    },
    {
     "data": {
      "application/vnd.jupyter.widget-view+json": {
       "model_id": "13269f1113df4eb3bc2c18ece06415a5",
       "version_major": 2,
       "version_minor": 0
      },
      "text/plain": [
       "  0%|          | 0/10 [00:00<?, ?it/s]"
      ]
     },
     "metadata": {},
     "output_type": "display_data"
    },
    {
     "name": "stdout",
     "output_type": "stream",
     "text": [
      "Epoch : 29 - loss : 0.0010 - acc: 1.0000 - val_loss : 0.4479 - val_acc: 0.9167\n",
      "\n",
      "\n"
     ]
    },
    {
     "data": {
      "application/vnd.jupyter.widget-view+json": {
       "model_id": "546ae183b1ca463faa09c9d9e7d7e7b2",
       "version_major": 2,
       "version_minor": 0
      },
      "text/plain": [
       "  0%|          | 0/10 [00:00<?, ?it/s]"
      ]
     },
     "metadata": {},
     "output_type": "display_data"
    },
    {
     "name": "stdout",
     "output_type": "stream",
     "text": [
      "Epoch : 30 - loss : 0.0009 - acc: 1.0000 - val_loss : 0.5968 - val_acc: 0.9167\n",
      "\n",
      "\n"
     ]
    },
    {
     "data": {
      "application/vnd.jupyter.widget-view+json": {
       "model_id": "e285b80527f64e98baaffba91d4eb112",
       "version_major": 2,
       "version_minor": 0
      },
      "text/plain": [
       "  0%|          | 0/10 [00:00<?, ?it/s]"
      ]
     },
     "metadata": {},
     "output_type": "display_data"
    },
    {
     "name": "stdout",
     "output_type": "stream",
     "text": [
      "Epoch : 31 - loss : 0.0003 - acc: 1.0000 - val_loss : 0.5874 - val_acc: 0.8958\n",
      "\n",
      "\n"
     ]
    },
    {
     "data": {
      "application/vnd.jupyter.widget-view+json": {
       "model_id": "a534486a144240638ff1ae170efa8a16",
       "version_major": 2,
       "version_minor": 0
      },
      "text/plain": [
       "  0%|          | 0/10 [00:00<?, ?it/s]"
      ]
     },
     "metadata": {},
     "output_type": "display_data"
    },
    {
     "name": "stdout",
     "output_type": "stream",
     "text": [
      "Epoch : 32 - loss : 0.0002 - acc: 1.0000 - val_loss : 0.5700 - val_acc: 0.9375\n",
      "\n",
      "\n"
     ]
    },
    {
     "data": {
      "application/vnd.jupyter.widget-view+json": {
       "model_id": "a5337068e10c4f428ee0754c41a3c677",
       "version_major": 2,
       "version_minor": 0
      },
      "text/plain": [
       "  0%|          | 0/10 [00:00<?, ?it/s]"
      ]
     },
     "metadata": {},
     "output_type": "display_data"
    },
    {
     "name": "stdout",
     "output_type": "stream",
     "text": [
      "Epoch : 33 - loss : 0.0002 - acc: 1.0000 - val_loss : 0.6049 - val_acc: 0.9375\n",
      "\n",
      "\n"
     ]
    },
    {
     "data": {
      "application/vnd.jupyter.widget-view+json": {
       "model_id": "61a92cff7eee4df39b1bc696b1b0d97f",
       "version_major": 2,
       "version_minor": 0
      },
      "text/plain": [
       "  0%|          | 0/10 [00:00<?, ?it/s]"
      ]
     },
     "metadata": {},
     "output_type": "display_data"
    },
    {
     "name": "stdout",
     "output_type": "stream",
     "text": [
      "Epoch : 34 - loss : 0.0001 - acc: 1.0000 - val_loss : 0.5682 - val_acc: 0.9375\n",
      "\n",
      "\n"
     ]
    },
    {
     "data": {
      "application/vnd.jupyter.widget-view+json": {
       "model_id": "98f67c22b24942218cc597a12f0b6786",
       "version_major": 2,
       "version_minor": 0
      },
      "text/plain": [
       "  0%|          | 0/10 [00:00<?, ?it/s]"
      ]
     },
     "metadata": {},
     "output_type": "display_data"
    },
    {
     "name": "stdout",
     "output_type": "stream",
     "text": [
      "Epoch : 35 - loss : 0.0002 - acc: 1.0000 - val_loss : 0.6159 - val_acc: 0.9375\n",
      "\n",
      "\n"
     ]
    },
    {
     "data": {
      "application/vnd.jupyter.widget-view+json": {
       "model_id": "2cb39cade3e346089a649305988b6a66",
       "version_major": 2,
       "version_minor": 0
      },
      "text/plain": [
       "  0%|          | 0/10 [00:00<?, ?it/s]"
      ]
     },
     "metadata": {},
     "output_type": "display_data"
    },
    {
     "name": "stdout",
     "output_type": "stream",
     "text": [
      "Epoch : 36 - loss : 0.0001 - acc: 1.0000 - val_loss : 0.5986 - val_acc: 0.9167\n",
      "\n",
      "\n"
     ]
    },
    {
     "data": {
      "application/vnd.jupyter.widget-view+json": {
       "model_id": "a9f38a45454c412d88f502e4af234d96",
       "version_major": 2,
       "version_minor": 0
      },
      "text/plain": [
       "  0%|          | 0/10 [00:00<?, ?it/s]"
      ]
     },
     "metadata": {},
     "output_type": "display_data"
    },
    {
     "name": "stdout",
     "output_type": "stream",
     "text": [
      "Epoch : 37 - loss : 0.0000 - acc: 1.0000 - val_loss : 0.6263 - val_acc: 0.9167\n",
      "\n",
      "\n"
     ]
    },
    {
     "data": {
      "application/vnd.jupyter.widget-view+json": {
       "model_id": "ff2a09a2fe784167be187d22862ef5cb",
       "version_major": 2,
       "version_minor": 0
      },
      "text/plain": [
       "  0%|          | 0/10 [00:00<?, ?it/s]"
      ]
     },
     "metadata": {},
     "output_type": "display_data"
    },
    {
     "name": "stdout",
     "output_type": "stream",
     "text": [
      "Epoch : 38 - loss : 0.0001 - acc: 1.0000 - val_loss : 0.6500 - val_acc: 0.9167\n",
      "\n",
      "\n"
     ]
    },
    {
     "data": {
      "application/vnd.jupyter.widget-view+json": {
       "model_id": "6982f846e0a044f2b72ddc733b91cc36",
       "version_major": 2,
       "version_minor": 0
      },
      "text/plain": [
       "  0%|          | 0/10 [00:00<?, ?it/s]"
      ]
     },
     "metadata": {},
     "output_type": "display_data"
    },
    {
     "name": "stdout",
     "output_type": "stream",
     "text": [
      "Epoch : 39 - loss : 0.0001 - acc: 1.0000 - val_loss : 0.6225 - val_acc: 0.9167\n",
      "\n",
      "\n"
     ]
    },
    {
     "data": {
      "application/vnd.jupyter.widget-view+json": {
       "model_id": "6b96a0c1ca094f2b975ec38a21dd3ff3",
       "version_major": 2,
       "version_minor": 0
      },
      "text/plain": [
       "  0%|          | 0/10 [00:00<?, ?it/s]"
      ]
     },
     "metadata": {},
     "output_type": "display_data"
    },
    {
     "name": "stdout",
     "output_type": "stream",
     "text": [
      "Epoch : 40 - loss : 0.0001 - acc: 1.0000 - val_loss : 0.6816 - val_acc: 0.9375\n",
      "\n",
      "\n"
     ]
    },
    {
     "data": {
      "application/vnd.jupyter.widget-view+json": {
       "model_id": "bf19c6af78e04854bc030f09b07ab827",
       "version_major": 2,
       "version_minor": 0
      },
      "text/plain": [
       "  0%|          | 0/10 [00:00<?, ?it/s]"
      ]
     },
     "metadata": {},
     "output_type": "display_data"
    },
    {
     "name": "stdout",
     "output_type": "stream",
     "text": [
      "Epoch : 41 - loss : 0.0000 - acc: 1.0000 - val_loss : 0.6823 - val_acc: 0.9375\n",
      "\n",
      "\n"
     ]
    },
    {
     "data": {
      "application/vnd.jupyter.widget-view+json": {
       "model_id": "9a480f380a734082965a78b3ed2bfbaa",
       "version_major": 2,
       "version_minor": 0
      },
      "text/plain": [
       "  0%|          | 0/10 [00:00<?, ?it/s]"
      ]
     },
     "metadata": {},
     "output_type": "display_data"
    },
    {
     "name": "stdout",
     "output_type": "stream",
     "text": [
      "Epoch : 42 - loss : 0.0019 - acc: 1.0000 - val_loss : 0.6742 - val_acc: 0.9167\n",
      "\n",
      "\n"
     ]
    },
    {
     "data": {
      "application/vnd.jupyter.widget-view+json": {
       "model_id": "0b12a7a5a0cc42a5a62ed233ce84dcb3",
       "version_major": 2,
       "version_minor": 0
      },
      "text/plain": [
       "  0%|          | 0/10 [00:00<?, ?it/s]"
      ]
     },
     "metadata": {},
     "output_type": "display_data"
    },
    {
     "name": "stdout",
     "output_type": "stream",
     "text": [
      "Epoch : 43 - loss : 0.0002 - acc: 1.0000 - val_loss : 0.7515 - val_acc: 0.8958\n",
      "\n",
      "\n"
     ]
    },
    {
     "data": {
      "application/vnd.jupyter.widget-view+json": {
       "model_id": "e3a2deadc6864912be740d366f2c2fa2",
       "version_major": 2,
       "version_minor": 0
      },
      "text/plain": [
       "  0%|          | 0/10 [00:00<?, ?it/s]"
      ]
     },
     "metadata": {},
     "output_type": "display_data"
    },
    {
     "name": "stdout",
     "output_type": "stream",
     "text": [
      "Epoch : 44 - loss : 0.0004 - acc: 1.0000 - val_loss : 0.8516 - val_acc: 0.8750\n",
      "\n",
      "\n"
     ]
    },
    {
     "data": {
      "application/vnd.jupyter.widget-view+json": {
       "model_id": "7d5eab45477a42299caf47155813e435",
       "version_major": 2,
       "version_minor": 0
      },
      "text/plain": [
       "  0%|          | 0/10 [00:00<?, ?it/s]"
      ]
     },
     "metadata": {},
     "output_type": "display_data"
    },
    {
     "name": "stdout",
     "output_type": "stream",
     "text": [
      "Epoch : 45 - loss : 0.0003 - acc: 1.0000 - val_loss : 0.7609 - val_acc: 0.8958\n",
      "\n",
      "\n"
     ]
    },
    {
     "data": {
      "application/vnd.jupyter.widget-view+json": {
       "model_id": "73b6ba22deb448e1861b4d79e4016040",
       "version_major": 2,
       "version_minor": 0
      },
      "text/plain": [
       "  0%|          | 0/10 [00:00<?, ?it/s]"
      ]
     },
     "metadata": {},
     "output_type": "display_data"
    },
    {
     "name": "stdout",
     "output_type": "stream",
     "text": [
      "Epoch : 46 - loss : 0.0000 - acc: 1.0000 - val_loss : 0.7746 - val_acc: 0.8958\n",
      "\n",
      "\n"
     ]
    },
    {
     "data": {
      "application/vnd.jupyter.widget-view+json": {
       "model_id": "0bfce6da376b4cc1b5a2226478569edf",
       "version_major": 2,
       "version_minor": 0
      },
      "text/plain": [
       "  0%|          | 0/10 [00:00<?, ?it/s]"
      ]
     },
     "metadata": {},
     "output_type": "display_data"
    },
    {
     "name": "stdout",
     "output_type": "stream",
     "text": [
      "Epoch : 47 - loss : 0.0035 - acc: 1.0000 - val_loss : 0.7385 - val_acc: 0.9375\n",
      "\n",
      "\n"
     ]
    },
    {
     "data": {
      "application/vnd.jupyter.widget-view+json": {
       "model_id": "1bae67be793f4a0e9297a0d1a2f477ba",
       "version_major": 2,
       "version_minor": 0
      },
      "text/plain": [
       "  0%|          | 0/10 [00:00<?, ?it/s]"
      ]
     },
     "metadata": {},
     "output_type": "display_data"
    },
    {
     "name": "stdout",
     "output_type": "stream",
     "text": [
      "Epoch : 48 - loss : 0.0074 - acc: 0.9938 - val_loss : 0.8910 - val_acc: 0.8958\n",
      "\n",
      "\n"
     ]
    },
    {
     "data": {
      "application/vnd.jupyter.widget-view+json": {
       "model_id": "65e94145e68440d89ab85712d75f8daa",
       "version_major": 2,
       "version_minor": 0
      },
      "text/plain": [
       "  0%|          | 0/10 [00:00<?, ?it/s]"
      ]
     },
     "metadata": {},
     "output_type": "display_data"
    },
    {
     "name": "stdout",
     "output_type": "stream",
     "text": [
      "Epoch : 49 - loss : 0.0043 - acc: 1.0000 - val_loss : 0.7929 - val_acc: 0.9167\n",
      "\n",
      "\n"
     ]
    },
    {
     "data": {
      "application/vnd.jupyter.widget-view+json": {
       "model_id": "d7b7d888ec524400a835175c1c71a014",
       "version_major": 2,
       "version_minor": 0
      },
      "text/plain": [
       "  0%|          | 0/10 [00:00<?, ?it/s]"
      ]
     },
     "metadata": {},
     "output_type": "display_data"
    },
    {
     "name": "stdout",
     "output_type": "stream",
     "text": [
      "Epoch : 50 - loss : 0.0000 - acc: 1.0000 - val_loss : 0.7894 - val_acc: 0.8958\n",
      "\n",
      "\n"
     ]
    },
    {
     "data": {
      "application/vnd.jupyter.widget-view+json": {
       "model_id": "58e648c058b54fd682ce2a8796337054",
       "version_major": 2,
       "version_minor": 0
      },
      "text/plain": [
       "  0%|          | 0/10 [00:00<?, ?it/s]"
      ]
     },
     "metadata": {},
     "output_type": "display_data"
    },
    {
     "name": "stdout",
     "output_type": "stream",
     "text": [
      "Epoch : 51 - loss : 0.0057 - acc: 1.0000 - val_loss : 0.8147 - val_acc: 0.9167\n",
      "\n",
      "\n"
     ]
    },
    {
     "data": {
      "application/vnd.jupyter.widget-view+json": {
       "model_id": "94329c9d41894f028c13d6b264f14039",
       "version_major": 2,
       "version_minor": 0
      },
      "text/plain": [
       "  0%|          | 0/10 [00:00<?, ?it/s]"
      ]
     },
     "metadata": {},
     "output_type": "display_data"
    },
    {
     "name": "stdout",
     "output_type": "stream",
     "text": [
      "Epoch : 52 - loss : 0.0085 - acc: 0.9938 - val_loss : 0.6703 - val_acc: 0.9167\n",
      "\n",
      "\n"
     ]
    },
    {
     "data": {
      "application/vnd.jupyter.widget-view+json": {
       "model_id": "cb3577220865436295fa00c9a56d131f",
       "version_major": 2,
       "version_minor": 0
      },
      "text/plain": [
       "  0%|          | 0/10 [00:00<?, ?it/s]"
      ]
     },
     "metadata": {},
     "output_type": "display_data"
    },
    {
     "name": "stdout",
     "output_type": "stream",
     "text": [
      "Epoch : 53 - loss : 0.0002 - acc: 1.0000 - val_loss : 0.6853 - val_acc: 0.8958\n",
      "\n",
      "\n"
     ]
    },
    {
     "data": {
      "application/vnd.jupyter.widget-view+json": {
       "model_id": "7cab058ce6cd40ecb10f810effcc7af3",
       "version_major": 2,
       "version_minor": 0
      },
      "text/plain": [
       "  0%|          | 0/10 [00:00<?, ?it/s]"
      ]
     },
     "metadata": {},
     "output_type": "display_data"
    },
    {
     "name": "stdout",
     "output_type": "stream",
     "text": [
      "Epoch : 54 - loss : 0.0023 - acc: 1.0000 - val_loss : 0.5049 - val_acc: 0.9167\n",
      "\n",
      "\n"
     ]
    },
    {
     "data": {
      "application/vnd.jupyter.widget-view+json": {
       "model_id": "f9849878b2734c769837c6c2e471d7f5",
       "version_major": 2,
       "version_minor": 0
      },
      "text/plain": [
       "  0%|          | 0/10 [00:00<?, ?it/s]"
      ]
     },
     "metadata": {},
     "output_type": "display_data"
    },
    {
     "name": "stdout",
     "output_type": "stream",
     "text": [
      "Epoch : 55 - loss : 0.0039 - acc: 1.0000 - val_loss : 0.7157 - val_acc: 0.8958\n",
      "\n",
      "\n"
     ]
    },
    {
     "data": {
      "application/vnd.jupyter.widget-view+json": {
       "model_id": "6396f678a9b044c9968b1a68b15c1c57",
       "version_major": 2,
       "version_minor": 0
      },
      "text/plain": [
       "  0%|          | 0/10 [00:00<?, ?it/s]"
      ]
     },
     "metadata": {},
     "output_type": "display_data"
    },
    {
     "name": "stdout",
     "output_type": "stream",
     "text": [
      "Epoch : 56 - loss : 0.0023 - acc: 1.0000 - val_loss : 0.6900 - val_acc: 0.9167\n",
      "\n",
      "\n"
     ]
    },
    {
     "data": {
      "application/vnd.jupyter.widget-view+json": {
       "model_id": "7e64045f7ece45068dcac740c5f6e251",
       "version_major": 2,
       "version_minor": 0
      },
      "text/plain": [
       "  0%|          | 0/10 [00:00<?, ?it/s]"
      ]
     },
     "metadata": {},
     "output_type": "display_data"
    },
    {
     "name": "stdout",
     "output_type": "stream",
     "text": [
      "Epoch : 57 - loss : 0.0000 - acc: 1.0000 - val_loss : 0.6218 - val_acc: 0.9375\n",
      "\n",
      "\n"
     ]
    },
    {
     "data": {
      "application/vnd.jupyter.widget-view+json": {
       "model_id": "ec88ca3006d7424d84966fc143ea9f42",
       "version_major": 2,
       "version_minor": 0
      },
      "text/plain": [
       "  0%|          | 0/10 [00:00<?, ?it/s]"
      ]
     },
     "metadata": {},
     "output_type": "display_data"
    },
    {
     "name": "stdout",
     "output_type": "stream",
     "text": [
      "Epoch : 58 - loss : 0.0000 - acc: 1.0000 - val_loss : 0.6622 - val_acc: 0.9167\n",
      "\n",
      "\n"
     ]
    },
    {
     "data": {
      "application/vnd.jupyter.widget-view+json": {
       "model_id": "2fc9b480e88f4b4c80065243746af340",
       "version_major": 2,
       "version_minor": 0
      },
      "text/plain": [
       "  0%|          | 0/10 [00:00<?, ?it/s]"
      ]
     },
     "metadata": {},
     "output_type": "display_data"
    },
    {
     "name": "stdout",
     "output_type": "stream",
     "text": [
      "Epoch : 59 - loss : 0.0000 - acc: 1.0000 - val_loss : 0.6361 - val_acc: 0.9375\n",
      "\n",
      "\n"
     ]
    },
    {
     "data": {
      "application/vnd.jupyter.widget-view+json": {
       "model_id": "7740aa2d86d0485793dd1e3623106f38",
       "version_major": 2,
       "version_minor": 0
      },
      "text/plain": [
       "  0%|          | 0/10 [00:00<?, ?it/s]"
      ]
     },
     "metadata": {},
     "output_type": "display_data"
    },
    {
     "name": "stdout",
     "output_type": "stream",
     "text": [
      "Epoch : 60 - loss : 0.0000 - acc: 1.0000 - val_loss : 0.6932 - val_acc: 0.9167\n",
      "\n",
      "\n"
     ]
    },
    {
     "data": {
      "application/vnd.jupyter.widget-view+json": {
       "model_id": "5bbe2fdc78c146ada49b793bd97834aa",
       "version_major": 2,
       "version_minor": 0
      },
      "text/plain": [
       "  0%|          | 0/10 [00:00<?, ?it/s]"
      ]
     },
     "metadata": {},
     "output_type": "display_data"
    },
    {
     "name": "stdout",
     "output_type": "stream",
     "text": [
      "Epoch : 61 - loss : 0.0000 - acc: 1.0000 - val_loss : 0.6306 - val_acc: 0.9375\n",
      "\n",
      "\n"
     ]
    },
    {
     "data": {
      "application/vnd.jupyter.widget-view+json": {
       "model_id": "5dd0e1236ae947dda2c41e2dd75b3b44",
       "version_major": 2,
       "version_minor": 0
      },
      "text/plain": [
       "  0%|          | 0/10 [00:00<?, ?it/s]"
      ]
     },
     "metadata": {},
     "output_type": "display_data"
    },
    {
     "name": "stdout",
     "output_type": "stream",
     "text": [
      "Epoch : 62 - loss : 0.0000 - acc: 1.0000 - val_loss : 0.7070 - val_acc: 0.9375\n",
      "\n",
      "\n"
     ]
    },
    {
     "data": {
      "application/vnd.jupyter.widget-view+json": {
       "model_id": "3a7458228f0741c196f6fc70394bd807",
       "version_major": 2,
       "version_minor": 0
      },
      "text/plain": [
       "  0%|          | 0/10 [00:00<?, ?it/s]"
      ]
     },
     "metadata": {},
     "output_type": "display_data"
    },
    {
     "name": "stdout",
     "output_type": "stream",
     "text": [
      "Epoch : 63 - loss : 0.0000 - acc: 1.0000 - val_loss : 0.6681 - val_acc: 0.9375\n",
      "\n",
      "\n"
     ]
    },
    {
     "data": {
      "application/vnd.jupyter.widget-view+json": {
       "model_id": "7624b2d287d845fe8217fa4eb04e7dc9",
       "version_major": 2,
       "version_minor": 0
      },
      "text/plain": [
       "  0%|          | 0/10 [00:00<?, ?it/s]"
      ]
     },
     "metadata": {},
     "output_type": "display_data"
    },
    {
     "name": "stdout",
     "output_type": "stream",
     "text": [
      "Epoch : 64 - loss : 0.0000 - acc: 1.0000 - val_loss : 0.6463 - val_acc: 0.9167\n",
      "\n",
      "\n"
     ]
    },
    {
     "data": {
      "application/vnd.jupyter.widget-view+json": {
       "model_id": "2999ea7f0d624eb68507774a109cedba",
       "version_major": 2,
       "version_minor": 0
      },
      "text/plain": [
       "  0%|          | 0/10 [00:00<?, ?it/s]"
      ]
     },
     "metadata": {},
     "output_type": "display_data"
    },
    {
     "name": "stdout",
     "output_type": "stream",
     "text": [
      "Epoch : 65 - loss : 0.0000 - acc: 1.0000 - val_loss : 0.6984 - val_acc: 0.9375\n",
      "\n",
      "\n"
     ]
    },
    {
     "data": {
      "application/vnd.jupyter.widget-view+json": {
       "model_id": "6d25271a39074865aa5c92775f14d623",
       "version_major": 2,
       "version_minor": 0
      },
      "text/plain": [
       "  0%|          | 0/10 [00:00<?, ?it/s]"
      ]
     },
     "metadata": {},
     "output_type": "display_data"
    },
    {
     "name": "stdout",
     "output_type": "stream",
     "text": [
      "Epoch : 66 - loss : 0.0000 - acc: 1.0000 - val_loss : 0.6491 - val_acc: 0.9167\n",
      "\n",
      "\n"
     ]
    },
    {
     "data": {
      "application/vnd.jupyter.widget-view+json": {
       "model_id": "6c5aa118754d4abe8b4c472ebd091718",
       "version_major": 2,
       "version_minor": 0
      },
      "text/plain": [
       "  0%|          | 0/10 [00:00<?, ?it/s]"
      ]
     },
     "metadata": {},
     "output_type": "display_data"
    },
    {
     "name": "stdout",
     "output_type": "stream",
     "text": [
      "Epoch : 67 - loss : 0.0000 - acc: 1.0000 - val_loss : 0.6942 - val_acc: 0.9375\n",
      "\n",
      "\n"
     ]
    },
    {
     "data": {
      "application/vnd.jupyter.widget-view+json": {
       "model_id": "645d69345b5b46f9ab52b1dc5f44079e",
       "version_major": 2,
       "version_minor": 0
      },
      "text/plain": [
       "  0%|          | 0/10 [00:00<?, ?it/s]"
      ]
     },
     "metadata": {},
     "output_type": "display_data"
    },
    {
     "name": "stdout",
     "output_type": "stream",
     "text": [
      "Epoch : 68 - loss : 0.0000 - acc: 1.0000 - val_loss : 0.5835 - val_acc: 0.9375\n",
      "\n",
      "\n"
     ]
    },
    {
     "data": {
      "application/vnd.jupyter.widget-view+json": {
       "model_id": "0d8b62b5549744fc83ea4d2b3d585a82",
       "version_major": 2,
       "version_minor": 0
      },
      "text/plain": [
       "  0%|          | 0/10 [00:00<?, ?it/s]"
      ]
     },
     "metadata": {},
     "output_type": "display_data"
    },
    {
     "name": "stdout",
     "output_type": "stream",
     "text": [
      "Epoch : 69 - loss : 0.0000 - acc: 1.0000 - val_loss : 0.6656 - val_acc: 0.9375\n",
      "\n",
      "\n"
     ]
    },
    {
     "data": {
      "application/vnd.jupyter.widget-view+json": {
       "model_id": "d7a792c4ae864881836d333a918a0f5e",
       "version_major": 2,
       "version_minor": 0
      },
      "text/plain": [
       "  0%|          | 0/10 [00:00<?, ?it/s]"
      ]
     },
     "metadata": {},
     "output_type": "display_data"
    },
    {
     "name": "stdout",
     "output_type": "stream",
     "text": [
      "Epoch : 70 - loss : 0.0000 - acc: 1.0000 - val_loss : 0.6816 - val_acc: 0.9375\n",
      "\n",
      "\n"
     ]
    },
    {
     "data": {
      "application/vnd.jupyter.widget-view+json": {
       "model_id": "f18b888185fa437a84f1a8224c62565a",
       "version_major": 2,
       "version_minor": 0
      },
      "text/plain": [
       "  0%|          | 0/10 [00:00<?, ?it/s]"
      ]
     },
     "metadata": {},
     "output_type": "display_data"
    },
    {
     "name": "stdout",
     "output_type": "stream",
     "text": [
      "Epoch : 71 - loss : 0.0000 - acc: 1.0000 - val_loss : 0.7072 - val_acc: 0.9375\n",
      "\n",
      "\n"
     ]
    },
    {
     "data": {
      "application/vnd.jupyter.widget-view+json": {
       "model_id": "65be8fb44acf47f5b88ae8a8caf2c6ce",
       "version_major": 2,
       "version_minor": 0
      },
      "text/plain": [
       "  0%|          | 0/10 [00:00<?, ?it/s]"
      ]
     },
     "metadata": {},
     "output_type": "display_data"
    },
    {
     "name": "stdout",
     "output_type": "stream",
     "text": [
      "Epoch : 72 - loss : 0.0000 - acc: 1.0000 - val_loss : 0.5894 - val_acc: 0.9375\n",
      "\n",
      "\n"
     ]
    },
    {
     "data": {
      "application/vnd.jupyter.widget-view+json": {
       "model_id": "273836e757404e7b949b54d0c3413fcd",
       "version_major": 2,
       "version_minor": 0
      },
      "text/plain": [
       "  0%|          | 0/10 [00:00<?, ?it/s]"
      ]
     },
     "metadata": {},
     "output_type": "display_data"
    },
    {
     "name": "stdout",
     "output_type": "stream",
     "text": [
      "Epoch : 73 - loss : 0.0000 - acc: 1.0000 - val_loss : 0.6523 - val_acc: 0.9167\n",
      "\n",
      "\n"
     ]
    },
    {
     "data": {
      "application/vnd.jupyter.widget-view+json": {
       "model_id": "fc65360adb394f3cb3616ff1b26b5241",
       "version_major": 2,
       "version_minor": 0
      },
      "text/plain": [
       "  0%|          | 0/10 [00:00<?, ?it/s]"
      ]
     },
     "metadata": {},
     "output_type": "display_data"
    },
    {
     "name": "stdout",
     "output_type": "stream",
     "text": [
      "Epoch : 74 - loss : 0.0000 - acc: 1.0000 - val_loss : 0.6563 - val_acc: 0.9375\n",
      "\n",
      "\n"
     ]
    },
    {
     "data": {
      "application/vnd.jupyter.widget-view+json": {
       "model_id": "2d5dc6a336ac423d803cece9b280068b",
       "version_major": 2,
       "version_minor": 0
      },
      "text/plain": [
       "  0%|          | 0/10 [00:00<?, ?it/s]"
      ]
     },
     "metadata": {},
     "output_type": "display_data"
    },
    {
     "name": "stdout",
     "output_type": "stream",
     "text": [
      "Epoch : 75 - loss : 0.0000 - acc: 1.0000 - val_loss : 0.6594 - val_acc: 0.9375\n",
      "\n",
      "\n"
     ]
    },
    {
     "data": {
      "application/vnd.jupyter.widget-view+json": {
       "model_id": "dc4b79d093b24c0fbf1899cc5f6053f1",
       "version_major": 2,
       "version_minor": 0
      },
      "text/plain": [
       "  0%|          | 0/10 [00:00<?, ?it/s]"
      ]
     },
     "metadata": {},
     "output_type": "display_data"
    },
    {
     "name": "stdout",
     "output_type": "stream",
     "text": [
      "Epoch : 76 - loss : 0.0000 - acc: 1.0000 - val_loss : 0.6648 - val_acc: 0.9375\n",
      "\n",
      "\n"
     ]
    },
    {
     "data": {
      "application/vnd.jupyter.widget-view+json": {
       "model_id": "d31240a7f9e84a03b378c206eb2eae6c",
       "version_major": 2,
       "version_minor": 0
      },
      "text/plain": [
       "  0%|          | 0/10 [00:00<?, ?it/s]"
      ]
     },
     "metadata": {},
     "output_type": "display_data"
    },
    {
     "name": "stdout",
     "output_type": "stream",
     "text": [
      "Epoch : 77 - loss : 0.0000 - acc: 1.0000 - val_loss : 0.6974 - val_acc: 0.9375\n",
      "\n",
      "\n"
     ]
    },
    {
     "data": {
      "application/vnd.jupyter.widget-view+json": {
       "model_id": "96441bcd42c44f099c2ad3ce2566ecb6",
       "version_major": 2,
       "version_minor": 0
      },
      "text/plain": [
       "  0%|          | 0/10 [00:00<?, ?it/s]"
      ]
     },
     "metadata": {},
     "output_type": "display_data"
    },
    {
     "name": "stdout",
     "output_type": "stream",
     "text": [
      "Epoch : 78 - loss : 0.0000 - acc: 1.0000 - val_loss : 0.7050 - val_acc: 0.9375\n",
      "\n",
      "\n"
     ]
    },
    {
     "data": {
      "application/vnd.jupyter.widget-view+json": {
       "model_id": "7eae328ea088441f87e461dbdb4ada14",
       "version_major": 2,
       "version_minor": 0
      },
      "text/plain": [
       "  0%|          | 0/10 [00:00<?, ?it/s]"
      ]
     },
     "metadata": {},
     "output_type": "display_data"
    },
    {
     "name": "stdout",
     "output_type": "stream",
     "text": [
      "Epoch : 79 - loss : 0.0000 - acc: 1.0000 - val_loss : 0.7279 - val_acc: 0.9375\n",
      "\n",
      "\n"
     ]
    },
    {
     "data": {
      "application/vnd.jupyter.widget-view+json": {
       "model_id": "1f9b43e11f304357ac3f91fe6d1445ff",
       "version_major": 2,
       "version_minor": 0
      },
      "text/plain": [
       "  0%|          | 0/10 [00:00<?, ?it/s]"
      ]
     },
     "metadata": {},
     "output_type": "display_data"
    },
    {
     "name": "stdout",
     "output_type": "stream",
     "text": [
      "Epoch : 80 - loss : 0.0000 - acc: 1.0000 - val_loss : 0.6242 - val_acc: 0.9375\n",
      "\n",
      "\n"
     ]
    },
    {
     "data": {
      "application/vnd.jupyter.widget-view+json": {
       "model_id": "5f417dd8ea744497a7e22e2699f83a49",
       "version_major": 2,
       "version_minor": 0
      },
      "text/plain": [
       "  0%|          | 0/10 [00:00<?, ?it/s]"
      ]
     },
     "metadata": {},
     "output_type": "display_data"
    },
    {
     "name": "stdout",
     "output_type": "stream",
     "text": [
      "Epoch : 81 - loss : 0.0000 - acc: 1.0000 - val_loss : 0.7050 - val_acc: 0.9167\n",
      "\n",
      "\n"
     ]
    },
    {
     "data": {
      "application/vnd.jupyter.widget-view+json": {
       "model_id": "23d6ac39a4604bb6b8b0c098dfcaee41",
       "version_major": 2,
       "version_minor": 0
      },
      "text/plain": [
       "  0%|          | 0/10 [00:00<?, ?it/s]"
      ]
     },
     "metadata": {},
     "output_type": "display_data"
    },
    {
     "name": "stdout",
     "output_type": "stream",
     "text": [
      "Epoch : 82 - loss : 0.0000 - acc: 1.0000 - val_loss : 0.7353 - val_acc: 0.9167\n",
      "\n",
      "\n"
     ]
    },
    {
     "data": {
      "application/vnd.jupyter.widget-view+json": {
       "model_id": "893edaa5070443f585363a6132816dcf",
       "version_major": 2,
       "version_minor": 0
      },
      "text/plain": [
       "  0%|          | 0/10 [00:00<?, ?it/s]"
      ]
     },
     "metadata": {},
     "output_type": "display_data"
    },
    {
     "name": "stdout",
     "output_type": "stream",
     "text": [
      "Epoch : 83 - loss : 0.0000 - acc: 1.0000 - val_loss : 0.7771 - val_acc: 0.8958\n",
      "\n",
      "\n"
     ]
    },
    {
     "data": {
      "application/vnd.jupyter.widget-view+json": {
       "model_id": "7682d1762b014abc9eaa0f0e1d5cf14c",
       "version_major": 2,
       "version_minor": 0
      },
      "text/plain": [
       "  0%|          | 0/10 [00:00<?, ?it/s]"
      ]
     },
     "metadata": {},
     "output_type": "display_data"
    },
    {
     "name": "stdout",
     "output_type": "stream",
     "text": [
      "Epoch : 84 - loss : 0.0000 - acc: 1.0000 - val_loss : 0.7662 - val_acc: 0.9375\n",
      "\n",
      "\n"
     ]
    },
    {
     "data": {
      "application/vnd.jupyter.widget-view+json": {
       "model_id": "c1fc70af98d340058e4ee40cdc32e90d",
       "version_major": 2,
       "version_minor": 0
      },
      "text/plain": [
       "  0%|          | 0/10 [00:00<?, ?it/s]"
      ]
     },
     "metadata": {},
     "output_type": "display_data"
    },
    {
     "name": "stdout",
     "output_type": "stream",
     "text": [
      "Epoch : 85 - loss : 0.0000 - acc: 1.0000 - val_loss : 0.6915 - val_acc: 0.9375\n",
      "\n",
      "\n"
     ]
    },
    {
     "data": {
      "application/vnd.jupyter.widget-view+json": {
       "model_id": "54ac339fc2ba49d9aa4a54da7b297e40",
       "version_major": 2,
       "version_minor": 0
      },
      "text/plain": [
       "  0%|          | 0/10 [00:00<?, ?it/s]"
      ]
     },
     "metadata": {},
     "output_type": "display_data"
    },
    {
     "name": "stdout",
     "output_type": "stream",
     "text": [
      "Epoch : 86 - loss : 0.0000 - acc: 1.0000 - val_loss : 0.6900 - val_acc: 0.9375\n",
      "\n",
      "\n"
     ]
    },
    {
     "data": {
      "application/vnd.jupyter.widget-view+json": {
       "model_id": "d2790a6c7aab45458972254f67f9876c",
       "version_major": 2,
       "version_minor": 0
      },
      "text/plain": [
       "  0%|          | 0/10 [00:00<?, ?it/s]"
      ]
     },
     "metadata": {},
     "output_type": "display_data"
    },
    {
     "name": "stdout",
     "output_type": "stream",
     "text": [
      "Epoch : 87 - loss : 0.0000 - acc: 1.0000 - val_loss : 0.7315 - val_acc: 0.9375\n",
      "\n",
      "\n"
     ]
    },
    {
     "data": {
      "application/vnd.jupyter.widget-view+json": {
       "model_id": "f8d3982912004e1bb1898625a982c1bd",
       "version_major": 2,
       "version_minor": 0
      },
      "text/plain": [
       "  0%|          | 0/10 [00:00<?, ?it/s]"
      ]
     },
     "metadata": {},
     "output_type": "display_data"
    },
    {
     "name": "stdout",
     "output_type": "stream",
     "text": [
      "Epoch : 88 - loss : 0.0000 - acc: 1.0000 - val_loss : 0.6838 - val_acc: 0.9375\n",
      "\n",
      "\n"
     ]
    },
    {
     "data": {
      "application/vnd.jupyter.widget-view+json": {
       "model_id": "89ae9ada0de34f549042b836e43da54c",
       "version_major": 2,
       "version_minor": 0
      },
      "text/plain": [
       "  0%|          | 0/10 [00:00<?, ?it/s]"
      ]
     },
     "metadata": {},
     "output_type": "display_data"
    },
    {
     "name": "stdout",
     "output_type": "stream",
     "text": [
      "Epoch : 89 - loss : 0.0000 - acc: 1.0000 - val_loss : 0.7618 - val_acc: 0.9375\n",
      "\n",
      "\n"
     ]
    },
    {
     "data": {
      "application/vnd.jupyter.widget-view+json": {
       "model_id": "2c8208885294483692bdb1c47eecba2c",
       "version_major": 2,
       "version_minor": 0
      },
      "text/plain": [
       "  0%|          | 0/10 [00:00<?, ?it/s]"
      ]
     },
     "metadata": {},
     "output_type": "display_data"
    },
    {
     "name": "stdout",
     "output_type": "stream",
     "text": [
      "Epoch : 90 - loss : 0.0000 - acc: 1.0000 - val_loss : 0.7169 - val_acc: 0.9167\n",
      "\n",
      "\n"
     ]
    },
    {
     "data": {
      "application/vnd.jupyter.widget-view+json": {
       "model_id": "de263ed67bf841b5a9bda16b82878247",
       "version_major": 2,
       "version_minor": 0
      },
      "text/plain": [
       "  0%|          | 0/10 [00:00<?, ?it/s]"
      ]
     },
     "metadata": {},
     "output_type": "display_data"
    },
    {
     "name": "stdout",
     "output_type": "stream",
     "text": [
      "Epoch : 91 - loss : 0.0000 - acc: 1.0000 - val_loss : 0.7574 - val_acc: 0.8958\n",
      "\n",
      "\n"
     ]
    },
    {
     "data": {
      "application/vnd.jupyter.widget-view+json": {
       "model_id": "88f142b98e3947cf8e068aeeed85f046",
       "version_major": 2,
       "version_minor": 0
      },
      "text/plain": [
       "  0%|          | 0/10 [00:00<?, ?it/s]"
      ]
     },
     "metadata": {},
     "output_type": "display_data"
    },
    {
     "name": "stdout",
     "output_type": "stream",
     "text": [
      "Epoch : 92 - loss : 0.0000 - acc: 1.0000 - val_loss : 0.7091 - val_acc: 0.9375\n",
      "\n",
      "\n"
     ]
    },
    {
     "data": {
      "application/vnd.jupyter.widget-view+json": {
       "model_id": "ffd45b53c4c140cca5d0df77fb0da62a",
       "version_major": 2,
       "version_minor": 0
      },
      "text/plain": [
       "  0%|          | 0/10 [00:00<?, ?it/s]"
      ]
     },
     "metadata": {},
     "output_type": "display_data"
    },
    {
     "name": "stdout",
     "output_type": "stream",
     "text": [
      "Epoch : 93 - loss : 0.0001 - acc: 1.0000 - val_loss : 0.7031 - val_acc: 0.9375\n",
      "\n",
      "\n"
     ]
    },
    {
     "data": {
      "application/vnd.jupyter.widget-view+json": {
       "model_id": "e1a1ed88a1bf4dcb954ff0d8ece57643",
       "version_major": 2,
       "version_minor": 0
      },
      "text/plain": [
       "  0%|          | 0/10 [00:00<?, ?it/s]"
      ]
     },
     "metadata": {},
     "output_type": "display_data"
    },
    {
     "name": "stdout",
     "output_type": "stream",
     "text": [
      "Epoch : 94 - loss : 0.0000 - acc: 1.0000 - val_loss : 0.7427 - val_acc: 0.9375\n",
      "\n",
      "\n"
     ]
    },
    {
     "data": {
      "application/vnd.jupyter.widget-view+json": {
       "model_id": "68f7dc8bff8c47019c5634423a992373",
       "version_major": 2,
       "version_minor": 0
      },
      "text/plain": [
       "  0%|          | 0/10 [00:00<?, ?it/s]"
      ]
     },
     "metadata": {},
     "output_type": "display_data"
    },
    {
     "name": "stdout",
     "output_type": "stream",
     "text": [
      "Epoch : 95 - loss : 0.0000 - acc: 1.0000 - val_loss : 0.7505 - val_acc: 0.8958\n",
      "\n",
      "\n"
     ]
    },
    {
     "data": {
      "application/vnd.jupyter.widget-view+json": {
       "model_id": "fd55b1d3363f474ab8b766abf340b72d",
       "version_major": 2,
       "version_minor": 0
      },
      "text/plain": [
       "  0%|          | 0/10 [00:00<?, ?it/s]"
      ]
     },
     "metadata": {},
     "output_type": "display_data"
    },
    {
     "name": "stdout",
     "output_type": "stream",
     "text": [
      "Epoch : 96 - loss : 0.0000 - acc: 1.0000 - val_loss : 0.7778 - val_acc: 0.9167\n",
      "\n",
      "\n"
     ]
    },
    {
     "data": {
      "application/vnd.jupyter.widget-view+json": {
       "model_id": "94751265da494503bb3c4f599393a5ec",
       "version_major": 2,
       "version_minor": 0
      },
      "text/plain": [
       "  0%|          | 0/10 [00:00<?, ?it/s]"
      ]
     },
     "metadata": {},
     "output_type": "display_data"
    },
    {
     "name": "stdout",
     "output_type": "stream",
     "text": [
      "Epoch : 97 - loss : 0.0000 - acc: 1.0000 - val_loss : 0.6445 - val_acc: 0.9375\n",
      "\n",
      "\n"
     ]
    },
    {
     "data": {
      "application/vnd.jupyter.widget-view+json": {
       "model_id": "2f273dcc992346cf9933558cccab6e3d",
       "version_major": 2,
       "version_minor": 0
      },
      "text/plain": [
       "  0%|          | 0/10 [00:00<?, ?it/s]"
      ]
     },
     "metadata": {},
     "output_type": "display_data"
    },
    {
     "name": "stdout",
     "output_type": "stream",
     "text": [
      "Epoch : 98 - loss : 0.0000 - acc: 1.0000 - val_loss : 0.7208 - val_acc: 0.9375\n",
      "\n",
      "\n"
     ]
    },
    {
     "data": {
      "application/vnd.jupyter.widget-view+json": {
       "model_id": "6a7cf3e187de44639b735d23829d8e55",
       "version_major": 2,
       "version_minor": 0
      },
      "text/plain": [
       "  0%|          | 0/10 [00:00<?, ?it/s]"
      ]
     },
     "metadata": {},
     "output_type": "display_data"
    },
    {
     "name": "stdout",
     "output_type": "stream",
     "text": [
      "Epoch : 99 - loss : 0.0000 - acc: 1.0000 - val_loss : 0.7334 - val_acc: 0.9375\n",
      "\n",
      "\n"
     ]
    },
    {
     "data": {
      "application/vnd.jupyter.widget-view+json": {
       "model_id": "dee8a01bd80f4ef7b50ae774620f9352",
       "version_major": 2,
       "version_minor": 0
      },
      "text/plain": [
       "  0%|          | 0/10 [00:00<?, ?it/s]"
      ]
     },
     "metadata": {},
     "output_type": "display_data"
    },
    {
     "name": "stdout",
     "output_type": "stream",
     "text": [
      "Epoch : 100 - loss : 0.0000 - acc: 1.0000 - val_loss : 0.7200 - val_acc: 0.9375\n",
      "\n",
      "\n"
     ]
    }
   ],
   "source": [
    "best_loss = None\n",
    "\n",
    "# Accuracy計算用の関数\n",
    "def calculate_accuracy(output, target):\n",
    "    output = (torch.sigmoid(output) >= 0.5)\n",
    "    target = (target == 1.0)\n",
    "    accuracy = torch.true_divide((target == output).sum(dim=0), output.size(0)).item()\n",
    "    return accuracy\n",
    "\n",
    "train_acc_list = []\n",
    "val_acc_list = []\n",
    "train_loss_list = []\n",
    "val_loss_list = []\n",
    "\n",
    "for epoch in range(epochs):\n",
    "    epoch_loss = 0\n",
    "    epoch_accuracy = 0\n",
    "\n",
    "    for data, label in tqdm(train_loader):\n",
    "        data = data.to(device)\n",
    "        label = label.to(device)\n",
    "\n",
    "        output = model(data)\n",
    "        loss = criterion(output, label)\n",
    "\n",
    "        optimizer.zero_grad()\n",
    "        loss.backward()\n",
    "        optimizer.step()\n",
    "\n",
    "        acc = (output.argmax(dim=1) == label).float().mean()\n",
    "        epoch_accuracy += acc / len(train_loader)\n",
    "        epoch_loss += loss / len(train_loader)              \n",
    "\n",
    "    with torch.no_grad():\n",
    "        epoch_val_accuracy = 0\n",
    "        epoch_val_loss = 0\n",
    "        for data, label in valid_loader:\n",
    "            data = data.to(device)\n",
    "            label = label.to(device)\n",
    "\n",
    "            val_output = model(data)\n",
    "            val_loss = criterion(val_output, label)\n",
    "\n",
    "            acc = (val_output.argmax(dim=1) == label).float().mean()\n",
    "            epoch_val_accuracy += acc / len(valid_loader)\n",
    "            epoch_val_loss += val_loss / len(valid_loader)\n",
    "\n",
    "    print(\n",
    "        f\"Epoch : {epoch+1} - loss : {epoch_loss:.4f} - acc: {epoch_accuracy:.4f} - val_loss : {epoch_val_loss:.4f} - val_acc: {epoch_val_accuracy:.4f}\\n\"\n",
    "    )\n",
    "\n",
    "    train_acc_list.append(epoch_accuracy)\n",
    "    val_acc_list.append(epoch_val_accuracy)\n",
    "    train_loss_list.append(epoch_loss)\n",
    "    val_loss_list.append(epoch_val_loss)\n",
    "\n",
    "    if (best_loss is None) or (best_loss > val_loss):\n",
    "        best_loss = val_loss\n",
    "        model_path = './trained_models/bestswinmodel.pth'\n",
    "        torch.save(model.state_dict(), model_path)\n",
    "        \n",
    "    print()"
   ]
  },
  {
   "cell_type": "code",
   "execution_count": 13,
   "metadata": {},
   "outputs": [
    {
     "data": {
      "image/png": "[encoded data removed]",
      "text/plain": [
       "<Figure size 960x320 with 3 Axes>"
      ]
     },
     "metadata": {},
     "output_type": "display_data"
    }
   ],
   "source": [
    "device2 = torch.device('cpu')\n",
    "\n",
    "train_acc = []\n",
    "train_loss = []\n",
    "val_acc = []\n",
    "val_loss = []\n",
    "\n",
    "for i in range(epochs):\n",
    "    train_acc2 = train_acc_list[i].to(device2)\n",
    "    train_acc3 = train_acc2.clone().numpy()\n",
    "    train_acc.append(train_acc3)\n",
    "    \n",
    "    train_loss2 = train_loss_list[i].to(device2)\n",
    "    train_loss3 = train_loss2.clone().detach().numpy()\n",
    "    train_loss.append(train_loss3)\n",
    "    \n",
    "    val_acc2 = val_acc_list[i].to(device2)\n",
    "    val_acc3 = val_acc2.clone().numpy()\n",
    "    val_acc.append(val_acc3)\n",
    "    \n",
    "    val_loss2 = val_loss_list[i].to(device2)\n",
    "    val_loss3 = val_loss2.clone().numpy()\n",
    "    val_loss.append(val_loss3)\n",
    "\n",
    "#取得したデータをグラフ化する\n",
    "sns.set()\n",
    "num_epochs = epochs\n",
    "\n",
    "fig = plt.subplots(figsize=(12, 4), dpi=80)\n",
    "\n",
    "ax1 = plt.subplot(1,2,1)\n",
    "ax1.plot(range(num_epochs), train_acc, c='b', label='train acc')\n",
    "ax1.plot(range(num_epochs), val_acc, c='r', label='val acc')\n",
    "ax1.set_xlabel('epoch', fontsize='12')\n",
    "ax1.set_ylabel('accuracy', fontsize='12')\n",
    "ax1.set_title('training and val acc', fontsize='14')\n",
    "ax1.legend(fontsize='12')\n",
    "\n",
    "ax2 = plt.subplot(1,2,2)\n",
    "ax2.plot(range(num_epochs), train_loss, c='b', label='train loss')\n",
    "ax2.plot(range(num_epochs), val_loss, c='r', label='val loss')\n",
    "ax2.set_xlabel('epoch', fontsize='12')\n",
    "ax2.set_ylabel('loss', fontsize='12')\n",
    "ax2.set_title('training and val loss', fontsize='14')\n",
    "ax2.legend(fontsize='12')\n",
    "plt.show()"
   ]
  },
  {
   "cell_type": "code",
   "execution_count": 14,
   "metadata": {},
   "outputs": [
    {
     "name": "stderr",
     "output_type": "stream",
     "text": [
      "/tmp/ipykernel_20016/2146568538.py:2: FutureWarning: You are using `torch.load` with `weights_only=False` (the current default value), which uses the default pickle module implicitly. It is possible to construct malicious pickle data which will execute arbitrary code during unpickling (See https://github.com/pytorch/pytorch/blob/main/SECURITY.md#untrusted-models for more details). In a future release, the default value for `weights_only` will be flipped to `True`. This limits the functions that could be executed during unpickling. Arbitrary objects will no longer be allowed to be loaded via this mode unless they are explicitly allowlisted by the user via `torch.serialization.add_safe_globals`. We recommend you start setting `weights_only=True` for any use case where you don't have full control of the loaded file. Please open an issue on GitHub for any issues related to this experimental feature.\n",
      "  model.load_state_dict(torch.load(\"./trained_models/bestswinmodel.pth\"))\n"
     ]
    },
    {
     "name": "stdout",
     "output_type": "stream",
     "text": [
      "Accuracy: 0.9362\n",
      "感度: 0.9231\n",
      "特異度: 0.9524\n",
      "PPV: 0.9600\n",
      "NPV: 0.9091\n",
      "F-Score: 0.9412\n",
      "AUC: 0.9487\n"
     ]
    },
    {
     "data": {
      "image/png": "[encoded data removed]",
      "text/plain": [
       "<Figure size 700x600 with 2 Axes>"
      ]
     },
     "metadata": {},
     "output_type": "display_data"
    },
    {
     "data": {
      "image/png": "[encoded data removed]",
      "text/plain": [
       "<Figure size 600x600 with 1 Axes>"
      ]
     },
     "metadata": {},
     "output_type": "display_data"
    }
   ],
   "source": [
    "def evaluate_model(model, test_loader):\n",
    "    model.load_state_dict(torch.load(\"./trained_models/bestswinmodel.pth\"))\n",
    "    model.eval()\n",
    "    predictions = []\n",
    "    actuals = []\n",
    "    probas = []\n",
    "    with torch.no_grad():\n",
    "        for images, labels in test_loader:\n",
    "            images = images.to(device)\n",
    "            labels = labels.to(device)\n",
    "            outputs = model(images)\n",
    "            _, predicted = torch.max(outputs.data, 1)\n",
    "            probas.extend(outputs[:, 1].cpu().numpy())  # 二番目のクラス（陽性クラス）の確率\n",
    "            predictions.extend(predicted.cpu().numpy())\n",
    "            actuals.extend(labels.cpu().numpy())\n",
    "\n",
    "\n",
    "    # 指標の計算\n",
    "    confusion = confusion_matrix(actuals, predictions)\n",
    "    accuracy = accuracy_score(actuals, predictions)\n",
    "    recall = recall_score(actuals, predictions)  # 感度\n",
    "    specificity = recall_score(actuals, predictions, pos_label=0)\n",
    "    precision = precision_score(actuals, predictions)  # PPV\n",
    "    npv = precision_score(actuals, predictions, pos_label=0)  # NPV\n",
    "    f1 = f1_score(actuals, predictions)\n",
    "    auc = roc_auc_score(actuals, probas)\n",
    "\n",
    "\n",
    "    #print(\"混同行列:\\n\", confusion)\n",
    "    print(f\"Accuracy: {accuracy:.4f}\")\n",
    "    print(f\"感度: {recall:.4f}\")\n",
    "    print(f\"特異度: {specificity:.4f}\")\n",
    "    print(f\"PPV: {precision:.4f}\")\n",
    "    print(f\"NPV: {npv:.4f}\")\n",
    "    print(f\"F-Score: {f1:.4f}\")\n",
    "    print(f\"AUC: {auc:.4f}\")\n",
    "\n",
    "\n",
    "    # Confusion matrixの描画\n",
    "    # 混同行列の可視化\n",
    "    plt.figure(figsize=(7, 6))\n",
    "    sns.heatmap(confusion, annot=True, fmt=\"d\", cmap=\"Blues\")\n",
    "    plt.title(\"Confusion Matrix\")\n",
    "    plt.ylabel(\"True\")\n",
    "    plt.xlabel(\"Predicted\")\n",
    "    plt.show()\n",
    "\n",
    "\n",
    "    # ROC曲線の描画\n",
    "    fpr, tpr, thresholds = roc_curve(actuals, probas)\n",
    "    plt.figure(figsize=(6,6))\n",
    "    plt.plot(fpr, tpr, color='blue', label='ROC curve (AUC = %0.2f)' % auc)\n",
    "    plt.plot([0, 1], [0, 1], color='gray', linestyle='--')\n",
    "    plt.xlabel('False Positive Rate')\n",
    "    plt.ylabel('True Positive Rate')\n",
    "    plt.title('ROC Curve')\n",
    "    plt.legend(loc=\"lower right\")\n",
    "    plt.show()\n",
    "\n",
    "\n",
    "evaluate_model(model, test_loader)"
   ]
  }
 ],
 "metadata": {
  "kernelspec": {
   "display_name": "base",
   "language": "python",
   "name": "python3"
  },
  "language_info": {
   "codemirror_mode": {
    "name": "ipython",
    "version": 3
   },
   "file_extension": ".py",
   "mimetype": "text/x-python",
   "name": "python",
   "nbconvert_exporter": "python",
   "pygments_lexer": "ipython3",
   "version": "3.11.0"
  }
 },
 "nbformat": 4,
 "nbformat_minor": 2
}
