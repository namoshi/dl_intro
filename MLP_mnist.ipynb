{
 "cells": [
  {
   "cell_type": "markdown",
   "metadata": {},
   "source": [
    "## Multi-layered Perceptron (MLP)\n",
    "\n",
    "Classification of handwritten numbers (MNIST) by MLP"
   ]
  },
  {
   "cell_type": "code",
   "execution_count": 1,
   "metadata": {},
   "outputs": [],
   "source": [
    "import torch\n",
    "import torch.nn as nn\n",
    "import torch.optim as optim\n",
    "import torchvision.datasets as dsets\n",
    "import torchvision.transforms as transforms"
   ]
  },
  {
   "cell_type": "code",
   "execution_count": 2,
   "metadata": {},
   "outputs": [
    {
     "name": "stdout",
     "output_type": "stream",
     "text": [
      "train_dataset =  48000\n",
      "valid_dataset =  12000\n",
      "test_dataset =  10000\n"
     ]
    }
   ],
   "source": [
    "# load MNIST data\n",
    "train_Dataset = dsets.MNIST(\n",
    "      root='./data',  # rootで指定したフォルダーを作成して生データを展開\n",
    "      train=True,  # 学習かテストかの選択\n",
    "      transform=transforms.ToTensor(),  # PyTroch のテンソルに変換\n",
    "      download=True)  # ダウンロードするかどうかの選択\n",
    "\n",
    "test_dataset = dsets.MNIST(\n",
    "      root='./data',  \n",
    "      train=False, \n",
    "      transform=transforms.ToTensor(),\n",
    "      download=True)\n",
    "\n",
    "train_dataset, valid_dataset = torch.utils.data.random_split(  # データセットの分割\n",
    "      train_Dataset,   # 分割するデータセット\n",
    "      [48000, 12000])  # 分割数\n",
    " \n",
    "print('train_dataset = ', len(train_dataset))\n",
    "print('valid_dataset = ', len(valid_dataset))  \n",
    "print('test_dataset = ', len(test_dataset))\n"
   ]
  },
  {
   "cell_type": "code",
   "execution_count": 3,
   "metadata": {},
   "outputs": [],
   "source": [
    "# set data loader\n",
    "train_loader = torch.utils.data.DataLoader(\n",
    "      dataset=train_dataset,  # データセットの指定\n",
    "      batch_size=64,  # ミニバッチの指定\n",
    "      shuffle=True,  # シャッフルするかどうかの指定\n",
    "      num_workers=2)  # コアの数\n",
    "\n",
    "valid_loader = torch.utils.data.DataLoader(\n",
    "      dataset=valid_dataset,\n",
    "      batch_size=64, \n",
    "      shuffle=False,\n",
    "      num_workers=2)\n",
    "\n",
    "test_loader = torch.utils.data.DataLoader(\n",
    "      dataset=test_dataset,\n",
    "      batch_size=64, \n",
    "      shuffle=False,\n",
    "      num_workers=2)\n"
   ]
  },
  {
   "cell_type": "code",
   "execution_count": 4,
   "metadata": {},
   "outputs": [
    {
     "name": "stdout",
     "output_type": "stream",
     "text": [
      "cuda\n"
     ]
    }
   ],
   "source": [
    "# Multi Layer Perceptron Network\n",
    "class MLPNet (nn.Module):\n",
    "    def __init__(self):\n",
    "        super(MLPNet, self).__init__()\n",
    "        self.fc1 = nn.Linear(28 * 28 * 1, 128)   \n",
    "        self.fc2 = nn.Linear(128, 10)\n",
    "        self.dropout = nn.Dropout2d(0.4)\n",
    "        \n",
    "    def forward(self, x):\n",
    "        y = torch.relu(self.fc1(x))\n",
    "#        y = torch.sigmoid(self.fc1(x))\n",
    "#        y = torch.tanh(self.fc1(x))\n",
    "#        y = self.dropout1(y)\n",
    "        z = self.fc2(y)\n",
    "        return z\n",
    "\n",
    "# select device\n",
    "device = 'cuda' if torch.cuda.is_available() else 'cpu'\n",
    "net = MLPNet().to(device)\n",
    "print(device)\n",
    "\n",
    "# optimizing\n",
    "criterion = nn.CrossEntropyLoss()\n",
    "#optimizer = optim.SGD(net.parameters(), lr=0.01, momentum=0.9, weight_decay=0.01)\n",
    "optimizer = optim.AdamW(net.parameters(), lr=0.01, weight_decay=0.01)\n"
   ]
  },
  {
   "cell_type": "code",
   "execution_count": 5,
   "metadata": {},
   "outputs": [
    {
     "name": "stdout",
     "output_type": "stream",
     "text": [
      "training start ...\n",
      "Epoch [1/50] train Loss: 0.0022, train acc: 0.9578 | val_loss: 0.0029, val_acc: 0.9445\n",
      "Epoch [2/50] train Loss: 0.0015, train acc: 0.9702 | val_loss: 0.0023, val_acc: 0.9587\n",
      "Epoch [3/50] train Loss: 0.0014, train acc: 0.9711 | val_loss: 0.0026, val_acc: 0.9560\n",
      "Epoch [4/50] train Loss: 0.0011, train acc: 0.9774 | val_loss: 0.0025, val_acc: 0.9605\n",
      "Epoch [5/50] train Loss: 0.0011, train acc: 0.9773 | val_loss: 0.0025, val_acc: 0.9615\n",
      "Epoch [6/50] train Loss: 0.0015, train acc: 0.9716 | val_loss: 0.0031, val_acc: 0.9541\n",
      "Epoch [7/50] train Loss: 0.0012, train acc: 0.9763 | val_loss: 0.0029, val_acc: 0.9551\n",
      "Epoch [8/50] train Loss: 0.0011, train acc: 0.9798 | val_loss: 0.0029, val_acc: 0.9592\n",
      "Epoch [9/50] train Loss: 0.0010, train acc: 0.9809 | val_loss: 0.0027, val_acc: 0.9630\n",
      "Epoch [10/50] train Loss: 0.0009, train acc: 0.9808 | val_loss: 0.0028, val_acc: 0.9634\n",
      "Epoch [11/50] train Loss: 0.0013, train acc: 0.9779 | val_loss: 0.0038, val_acc: 0.9578\n",
      "Epoch [12/50] train Loss: 0.0007, train acc: 0.9843 | val_loss: 0.0026, val_acc: 0.9627\n",
      "Epoch [13/50] train Loss: 0.0008, train acc: 0.9851 | val_loss: 0.0029, val_acc: 0.9628\n",
      "Epoch [14/50] train Loss: 0.0011, train acc: 0.9786 | val_loss: 0.0038, val_acc: 0.9543\n",
      "Epoch [15/50] train Loss: 0.0008, train acc: 0.9847 | val_loss: 0.0028, val_acc: 0.9637\n",
      "Epoch [16/50] train Loss: 0.0008, train acc: 0.9859 | val_loss: 0.0029, val_acc: 0.9638\n",
      "Epoch [17/50] train Loss: 0.0005, train acc: 0.9895 | val_loss: 0.0026, val_acc: 0.9663\n",
      "Epoch [18/50] train Loss: 0.0007, train acc: 0.9850 | val_loss: 0.0029, val_acc: 0.9633\n",
      "Epoch [19/50] train Loss: 0.0007, train acc: 0.9862 | val_loss: 0.0031, val_acc: 0.9623\n",
      "Epoch [20/50] train Loss: 0.0008, train acc: 0.9842 | val_loss: 0.0035, val_acc: 0.9588\n",
      "Epoch [21/50] train Loss: 0.0007, train acc: 0.9863 | val_loss: 0.0029, val_acc: 0.9639\n",
      "Epoch [22/50] train Loss: 0.0010, train acc: 0.9812 | val_loss: 0.0036, val_acc: 0.9563\n",
      "Epoch [23/50] train Loss: 0.0007, train acc: 0.9863 | val_loss: 0.0033, val_acc: 0.9616\n",
      "Epoch [24/50] train Loss: 0.0005, train acc: 0.9893 | val_loss: 0.0027, val_acc: 0.9667\n",
      "Epoch [25/50] train Loss: 0.0007, train acc: 0.9872 | val_loss: 0.0031, val_acc: 0.9624\n",
      "Epoch [26/50] train Loss: 0.0007, train acc: 0.9866 | val_loss: 0.0031, val_acc: 0.9627\n",
      "Epoch [27/50] train Loss: 0.0008, train acc: 0.9869 | val_loss: 0.0031, val_acc: 0.9653\n",
      "Epoch [28/50] train Loss: 0.0006, train acc: 0.9872 | val_loss: 0.0032, val_acc: 0.9643\n",
      "Epoch [29/50] train Loss: 0.0007, train acc: 0.9869 | val_loss: 0.0030, val_acc: 0.9618\n",
      "Epoch [30/50] train Loss: 0.0006, train acc: 0.9881 | val_loss: 0.0031, val_acc: 0.9666\n",
      "Epoch [31/50] train Loss: 0.0008, train acc: 0.9861 | val_loss: 0.0030, val_acc: 0.9662\n",
      "Epoch [32/50] train Loss: 0.0007, train acc: 0.9870 | val_loss: 0.0031, val_acc: 0.9650\n",
      "Epoch [33/50] train Loss: 0.0012, train acc: 0.9799 | val_loss: 0.0041, val_acc: 0.9559\n",
      "Epoch [34/50] train Loss: 0.0008, train acc: 0.9855 | val_loss: 0.0033, val_acc: 0.9626\n",
      "Epoch [35/50] train Loss: 0.0005, train acc: 0.9908 | val_loss: 0.0026, val_acc: 0.9700\n",
      "Epoch [36/50] train Loss: 0.0007, train acc: 0.9876 | val_loss: 0.0032, val_acc: 0.9641\n",
      "Epoch [37/50] train Loss: 0.0007, train acc: 0.9875 | val_loss: 0.0029, val_acc: 0.9659\n",
      "Epoch [38/50] train Loss: 0.0008, train acc: 0.9859 | val_loss: 0.0032, val_acc: 0.9622\n",
      "Epoch [39/50] train Loss: 0.0006, train acc: 0.9879 | val_loss: 0.0032, val_acc: 0.9649\n",
      "Epoch [40/50] train Loss: 0.0005, train acc: 0.9903 | val_loss: 0.0029, val_acc: 0.9683\n",
      "Epoch [41/50] train Loss: 0.0008, train acc: 0.9864 | val_loss: 0.0034, val_acc: 0.9638\n",
      "Epoch [42/50] train Loss: 0.0005, train acc: 0.9899 | val_loss: 0.0028, val_acc: 0.9681\n",
      "Epoch [43/50] train Loss: 0.0009, train acc: 0.9836 | val_loss: 0.0036, val_acc: 0.9593\n",
      "Epoch [44/50] train Loss: 0.0006, train acc: 0.9874 | val_loss: 0.0029, val_acc: 0.9674\n",
      "Epoch [45/50] train Loss: 0.0006, train acc: 0.9879 | val_loss: 0.0030, val_acc: 0.9634\n",
      "Epoch [46/50] train Loss: 0.0006, train acc: 0.9880 | val_loss: 0.0027, val_acc: 0.9647\n",
      "Epoch [47/50] train Loss: 0.0005, train acc: 0.9896 | val_loss: 0.0030, val_acc: 0.9657\n",
      "Epoch [48/50] train Loss: 0.0006, train acc: 0.9878 | val_loss: 0.0030, val_acc: 0.9655\n",
      "Epoch [49/50] train Loss: 0.0006, train acc: 0.9888 | val_loss: 0.0030, val_acc: 0.9657\n",
      "Epoch [50/50] train Loss: 0.0006, train acc: 0.9884 | val_loss: 0.0029, val_acc: 0.9673\n"
     ]
    }
   ],
   "source": [
    "###  training\n",
    "print ('training start ...')\n",
    "num_epochs = 50   \n",
    "\n",
    "# initialize list for plot graph after training\n",
    "train_loss_list, train_acc_list, val_loss_list, val_acc_list = [], [], [], []\n",
    "\n",
    "for epoch in range(num_epochs):\n",
    "    # initialize each epoch\n",
    "    train_loss, train_acc, val_loss, val_acc = 0, 0, 0, 0\n",
    "    \n",
    "    # ======== train_mode (Backprop) ======\n",
    "    net.train()\n",
    "    for i, (images, labels) in enumerate(train_loader):  # get mini batch samples\n",
    "        #viewで28×28×１画像を１次元に変換し、deviceへ転送\n",
    "        images, labels = images.view(-1, 28*28*1).to(device), labels.to(device)\n",
    "        optimizer.zero_grad()  # Reset the gradients\n",
    "        outputs = net(images)  # forward computation\n",
    "        loss = criterion(outputs, labels)  # loss\n",
    "        loss.backward()  # backward computation        \n",
    "        optimizer.step()  # optimization\n",
    "    \n",
    "    # ======== eval_mode (training samples) ======\n",
    "    net.eval()\n",
    "    with torch.no_grad():  # no computation of gradients\n",
    "      for images, labels in train_loader:        \n",
    "          images, labels = images.view(-1, 28*28*1).to(device), labels.to(device)\n",
    "          outputs = net(images)\n",
    "          loss = criterion(outputs, labels)\n",
    "          train_loss += loss.item()\n",
    "          acc = (outputs.max(1)[1] == labels).sum()\n",
    "          train_acc += acc.item()\n",
    "    avg_train_loss = train_loss / len(train_loader.dataset)\n",
    "    avg_train_acc = train_acc / len(train_loader.dataset)\n",
    "\n",
    "    # ======== eval_mode (validation samples) ======\n",
    "    net.eval()\n",
    "    with torch.no_grad():  # no comptutation of gradients\n",
    "      for images, labels in valid_loader:        \n",
    "          images, labels = images.view(-1, 28*28*1).to(device), labels.to(device)\n",
    "          outputs = net(images)\n",
    "          loss = criterion(outputs, labels)\n",
    "          val_loss += loss.item()\n",
    "          acc = (outputs.max(1)[1] == labels).sum()\n",
    "          val_acc += acc.item()\n",
    "    avg_val_loss = val_loss / len(valid_loader.dataset)\n",
    "    avg_val_acc = val_acc / len(valid_loader.dataset)\n",
    "    \n",
    "    # print log\n",
    "    print ('Epoch [{}/{}] train Loss: {loss:.4f}, train acc: {acc:.4f} | val_loss: {val_loss:.4f}, val_acc: {val_acc:.4f}' \n",
    "                   .format(epoch+1, num_epochs, i+1, loss=avg_train_loss, acc=avg_train_acc, val_loss=avg_val_loss, val_acc=avg_val_acc))\n",
    "\n",
    "    # append list for polt graph after training\n",
    "    train_loss_list.append(avg_train_loss)\n",
    "    train_acc_list.append(avg_train_acc)\n",
    "    val_loss_list.append(avg_val_loss)\n",
    "    val_acc_list.append(avg_val_acc)\n"
   ]
  },
  {
   "cell_type": "code",
   "execution_count": 6,
   "metadata": {},
   "outputs": [
    {
     "name": "stdout",
     "output_type": "stream",
     "text": [
      "test_accuracy: 96.73 %\n"
     ]
    }
   ],
   "source": [
    "# ======== eval_mode (test samples) ======\n",
    "net.eval()\n",
    "with torch.no_grad():\n",
    "    total = 0\n",
    "    test_acc = 0\n",
    "    for images, labels in test_loader:        \n",
    "        images, labels = images.view(-1, 28 * 28 * 1 ).to(device), labels.to(device)\n",
    "        outputs = net(images)\n",
    "        test_acc += (outputs.max(1)[1] == labels).sum().item()\n",
    "        total += labels.size(0)\n",
    "    print('test_accuracy: {} %'.format(100 * test_acc / total)) \n",
    "\n",
    "# save weights (You can save the model by uncomment the following line)\n",
    "#torch.save(net.state_dict(), 'mnist_net.ckpt')\n"
   ]
  },
  {
   "cell_type": "code",
   "execution_count": 7,
   "metadata": {},
   "outputs": [
    {
     "data": {
      "image/png": "[encoded data removed]",
      "text/plain": [
       "<Figure size 432x288 with 1 Axes>"
      ]
     },
     "metadata": {
      "needs_background": "light"
     },
     "output_type": "display_data"
    },
    {
     "data": {
      "image/png": "[encoded data removed]",
      "text/plain": [
       "<Figure size 432x288 with 1 Axes>"
      ]
     },
     "metadata": {
      "needs_background": "light"
     },
     "output_type": "display_data"
    }
   ],
   "source": [
    "# plot graph\n",
    "import matplotlib.pyplot as plt\n",
    "\n",
    "plt.figure()\n",
    "plt.plot(range(num_epochs), train_loss_list, color='blue', linestyle='-', label='train_loss')\n",
    "plt.plot(range(num_epochs), val_loss_list, color='green', linestyle='--', label='val_loss')\n",
    "plt.ylim([0.0,0.02])\n",
    "plt.legend()\n",
    "plt.xlabel('epoch')\n",
    "plt.ylabel('loss')\n",
    "plt.title('Training and validation loss')\n",
    "plt.grid()\n",
    "plt.savefig('MLP_mnist_loss.png')\n",
    "plt.show()\n",
    "\n",
    "plt.figure()\n",
    "plt.plot(range(num_epochs), train_acc_list, color='blue', linestyle='-', label='train_acc')\n",
    "plt.plot(range(num_epochs), val_acc_list, color='green', linestyle='--', label='val_acc')\n",
    "plt.ylim([0.5, 1.0])\n",
    "plt.legend()\n",
    "plt.xlabel('epoch')\n",
    "plt.ylabel('acc')\n",
    "plt.title('Training and validation accuracy')\n",
    "plt.grid()\n",
    "plt.savefig('MLP_mnist_acc.png')\n",
    "plt.show()"
   ]
  },
  {
   "cell_type": "code",
   "execution_count": null,
   "metadata": {},
   "outputs": [],
   "source": []
  }
 ],
 "metadata": {
  "kernelspec": {
   "display_name": "Python 3",
   "language": "python",
   "name": "python3"
  },
  "language_info": {
   "codemirror_mode": {
    "name": "ipython",
    "version": 3
   },
   "file_extension": ".py",
   "mimetype": "text/x-python",
   "name": "python",
   "nbconvert_exporter": "python",
   "pygments_lexer": "ipython3",
   "version": "3.7.7"
  }
 },
 "nbformat": 4,
 "nbformat_minor": 4
}
