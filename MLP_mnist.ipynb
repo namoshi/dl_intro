{
 "cells": [
  {
   "cell_type": "markdown",
   "metadata": {},
   "source": [
    "## Multi-layered Perceptron (MLP)\n",
    "\n",
    "Classification of handwritten numbers (MNIST) by MLP"
   ]
  },
  {
   "cell_type": "code",
   "execution_count": 17,
   "metadata": {},
   "outputs": [],
   "source": [
    "import torch\n",
    "import torch.nn as nn\n",
    "import torch.optim as optim\n",
    "import torch.nn.functional as F\n",
    "import torchvision.datasets as dsets\n",
    "import torchvision.transforms as transforms"
   ]
  },
  {
   "cell_type": "code",
   "execution_count": 18,
   "metadata": {},
   "outputs": [
    {
     "name": "stdout",
     "output_type": "stream",
     "text": [
      "train_dataset =  48000\n",
      "valid_dataset =  12000\n",
      "test_dataset =  10000\n"
     ]
    }
   ],
   "source": [
    "# load MNIST data\n",
    "train_Dataset = dsets.MNIST(\n",
    "      root='./data_mnist/',  # rootで指定したフォルダーを作成して生データを展開\n",
    "      train=True,  # 学習かテストかの選択\n",
    "      transform=transforms.ToTensor(),  # PyTroch のテンソルに変換\n",
    "      download=True)  # ダウンロードするかどうかの選択\n",
    "\n",
    "test_dataset = dsets.MNIST(\n",
    "      root='./data_mnist/',  \n",
    "      train=False, \n",
    "      transform=transforms.ToTensor(),\n",
    "      download=True)\n",
    "\n",
    "train_dataset, valid_dataset = torch.utils.data.random_split(  # データセットの分割\n",
    "      train_Dataset,   # 分割するデータセット\n",
    "      [48000, 12000])  # 分割数\n",
    " \n",
    "print('train_dataset = ', len(train_dataset))\n",
    "print('valid_dataset = ', len(valid_dataset))  \n",
    "print('test_dataset = ', len(test_dataset))\n"
   ]
  },
  {
   "cell_type": "code",
   "execution_count": 19,
   "metadata": {},
   "outputs": [],
   "source": [
    "# set data loader\n",
    "train_loader = torch.utils.data.DataLoader(\n",
    "      dataset=train_dataset,  # データセットの指定\n",
    "      batch_size=64,  # ミニバッチの指定\n",
    "      shuffle=True,  # シャッフルするかどうかの指定\n",
    "      num_workers=2)  # コアの数\n",
    "\n",
    "valid_loader = torch.utils.data.DataLoader(\n",
    "      dataset=valid_dataset,\n",
    "      batch_size=64, \n",
    "      shuffle=False,\n",
    "      num_workers=2)\n",
    "\n",
    "test_loader = torch.utils.data.DataLoader(\n",
    "      dataset=test_dataset,\n",
    "      batch_size=64, \n",
    "      shuffle=False,\n",
    "      num_workers=2)\n"
   ]
  },
  {
   "cell_type": "code",
   "execution_count": 20,
   "metadata": {},
   "outputs": [
    {
     "name": "stdout",
     "output_type": "stream",
     "text": [
      "cpu\n"
     ]
    }
   ],
   "source": [
    "# Multi Layer Perceptron Network\n",
    "class MLPNet (nn.Module):\n",
    "    def __init__(self):\n",
    "        super(MLPNet, self).__init__()\n",
    "        self.fc1 = nn.Linear(28 * 28 * 1, 512)   \n",
    "#        self.fc2 = nn.Linear(512, 512)\n",
    "        self.fc3 = nn.Linear(512, 10)\n",
    "        self.dropout1 = nn.Dropout2d(0.2)\n",
    "        self.dropout2 = nn.Dropout2d(0.2)\n",
    "        \n",
    "    def forward(self, x):\n",
    "        x = F.relu(self.fc1(x))\n",
    "        x = self.dropout1(x)\n",
    "#        x = F.relu(self.fc2(x))\n",
    "#        x = self.dropout2(x)\n",
    "        return F.relu(self.fc3(x))\n",
    "\n",
    "# select device\n",
    "device = 'cuda' if torch.cuda.is_available() else 'cpu'\n",
    "net = MLPNet().to(device)\n",
    "print(device)\n",
    "\n",
    "# optimizing\n",
    "criterion = nn.CrossEntropyLoss()\n",
    "optimizer = optim.SGD(net.parameters(), lr=0.01, momentum=0.9, weight_decay=5e-4)\n"
   ]
  },
  {
   "cell_type": "code",
   "execution_count": 21,
   "metadata": {},
   "outputs": [
    {
     "name": "stdout",
     "output_type": "stream",
     "text": [
      "training start ...\n",
      "Epoch [1/50] train Loss: 0.0124, train acc: 0.7540 | val_loss: 0.0124, val_acc: 0.7568\n",
      "Epoch [2/50] train Loss: 0.0103, train acc: 0.8131 | val_loss: 0.0104, val_acc: 0.8117\n",
      "Epoch [3/50] train Loss: 0.0031, train acc: 0.9442 | val_loss: 0.0033, val_acc: 0.9413\n",
      "Epoch [4/50] train Loss: 0.0024, train acc: 0.9567 | val_loss: 0.0027, val_acc: 0.9521\n",
      "Epoch [5/50] train Loss: 0.0020, train acc: 0.9655 | val_loss: 0.0023, val_acc: 0.9590\n",
      "Epoch [6/50] train Loss: 0.0017, train acc: 0.9703 | val_loss: 0.0021, val_acc: 0.9626\n",
      "Epoch [7/50] train Loss: 0.0015, train acc: 0.9736 | val_loss: 0.0019, val_acc: 0.9647\n",
      "Epoch [8/50] train Loss: 0.0014, train acc: 0.9777 | val_loss: 0.0017, val_acc: 0.9680\n",
      "Epoch [9/50] train Loss: 0.0013, train acc: 0.9778 | val_loss: 0.0017, val_acc: 0.9679\n",
      "Epoch [10/50] train Loss: 0.0012, train acc: 0.9815 | val_loss: 0.0016, val_acc: 0.9696\n",
      "Epoch [11/50] train Loss: 0.0011, train acc: 0.9827 | val_loss: 0.0015, val_acc: 0.9705\n",
      "Epoch [12/50] train Loss: 0.0010, train acc: 0.9844 | val_loss: 0.0015, val_acc: 0.9736\n",
      "Epoch [13/50] train Loss: 0.0010, train acc: 0.9846 | val_loss: 0.0014, val_acc: 0.9723\n",
      "Epoch [14/50] train Loss: 0.0009, train acc: 0.9860 | val_loss: 0.0014, val_acc: 0.9743\n",
      "Epoch [15/50] train Loss: 0.0009, train acc: 0.9863 | val_loss: 0.0014, val_acc: 0.9733\n",
      "Epoch [16/50] train Loss: 0.0008, train acc: 0.9881 | val_loss: 0.0013, val_acc: 0.9752\n",
      "Epoch [17/50] train Loss: 0.0008, train acc: 0.9884 | val_loss: 0.0013, val_acc: 0.9747\n",
      "Epoch [18/50] train Loss: 0.0008, train acc: 0.9884 | val_loss: 0.0013, val_acc: 0.9762\n",
      "Epoch [19/50] train Loss: 0.0008, train acc: 0.9889 | val_loss: 0.0013, val_acc: 0.9751\n",
      "Epoch [20/50] train Loss: 0.0007, train acc: 0.9905 | val_loss: 0.0013, val_acc: 0.9762\n",
      "Epoch [21/50] train Loss: 0.0007, train acc: 0.9899 | val_loss: 0.0013, val_acc: 0.9755\n",
      "Epoch [22/50] train Loss: 0.0007, train acc: 0.9905 | val_loss: 0.0012, val_acc: 0.9761\n",
      "Epoch [23/50] train Loss: 0.0007, train acc: 0.9910 | val_loss: 0.0012, val_acc: 0.9773\n",
      "Epoch [24/50] train Loss: 0.0007, train acc: 0.9916 | val_loss: 0.0012, val_acc: 0.9769\n",
      "Epoch [25/50] train Loss: 0.0007, train acc: 0.9917 | val_loss: 0.0012, val_acc: 0.9768\n",
      "Epoch [26/50] train Loss: 0.0006, train acc: 0.9923 | val_loss: 0.0012, val_acc: 0.9777\n",
      "Epoch [27/50] train Loss: 0.0006, train acc: 0.9925 | val_loss: 0.0012, val_acc: 0.9782\n",
      "Epoch [28/50] train Loss: 0.0006, train acc: 0.9926 | val_loss: 0.0012, val_acc: 0.9774\n",
      "Epoch [29/50] train Loss: 0.0006, train acc: 0.9925 | val_loss: 0.0012, val_acc: 0.9788\n",
      "Epoch [30/50] train Loss: 0.0006, train acc: 0.9935 | val_loss: 0.0012, val_acc: 0.9789\n",
      "Epoch [31/50] train Loss: 0.0006, train acc: 0.9934 | val_loss: 0.0012, val_acc: 0.9779\n",
      "Epoch [32/50] train Loss: 0.0006, train acc: 0.9934 | val_loss: 0.0011, val_acc: 0.9782\n",
      "Epoch [33/50] train Loss: 0.0006, train acc: 0.9935 | val_loss: 0.0012, val_acc: 0.9778\n",
      "Epoch [34/50] train Loss: 0.0005, train acc: 0.9936 | val_loss: 0.0011, val_acc: 0.9783\n",
      "Epoch [35/50] train Loss: 0.0006, train acc: 0.9936 | val_loss: 0.0012, val_acc: 0.9771\n",
      "Epoch [36/50] train Loss: 0.0006, train acc: 0.9939 | val_loss: 0.0012, val_acc: 0.9783\n",
      "Epoch [37/50] train Loss: 0.0005, train acc: 0.9942 | val_loss: 0.0011, val_acc: 0.9785\n",
      "Epoch [38/50] train Loss: 0.0005, train acc: 0.9940 | val_loss: 0.0012, val_acc: 0.9776\n",
      "Epoch [39/50] train Loss: 0.0005, train acc: 0.9945 | val_loss: 0.0011, val_acc: 0.9782\n",
      "Epoch [40/50] train Loss: 0.0006, train acc: 0.9942 | val_loss: 0.0012, val_acc: 0.9780\n",
      "Epoch [41/50] train Loss: 0.0005, train acc: 0.9935 | val_loss: 0.0011, val_acc: 0.9792\n",
      "Epoch [42/50] train Loss: 0.0005, train acc: 0.9941 | val_loss: 0.0011, val_acc: 0.9787\n",
      "Epoch [43/50] train Loss: 0.0005, train acc: 0.9947 | val_loss: 0.0011, val_acc: 0.9790\n",
      "Epoch [44/50] train Loss: 0.0005, train acc: 0.9949 | val_loss: 0.0011, val_acc: 0.9785\n",
      "Epoch [45/50] train Loss: 0.0005, train acc: 0.9946 | val_loss: 0.0011, val_acc: 0.9793\n",
      "Epoch [46/50] train Loss: 0.0005, train acc: 0.9951 | val_loss: 0.0011, val_acc: 0.9791\n",
      "Epoch [47/50] train Loss: 0.0005, train acc: 0.9947 | val_loss: 0.0011, val_acc: 0.9793\n",
      "Epoch [48/50] train Loss: 0.0005, train acc: 0.9951 | val_loss: 0.0011, val_acc: 0.9790\n",
      "Epoch [49/50] train Loss: 0.0005, train acc: 0.9948 | val_loss: 0.0011, val_acc: 0.9790\n",
      "Epoch [50/50] train Loss: 0.0005, train acc: 0.9950 | val_loss: 0.0011, val_acc: 0.9785\n"
     ]
    }
   ],
   "source": [
    "###  training\n",
    "print ('training start ...')\n",
    "num_epochs = 50   \n",
    "\n",
    "# initialize list for plot graph after training\n",
    "train_loss_list, train_acc_list, val_loss_list, val_acc_list = [], [], [], []\n",
    "\n",
    "for epoch in range(num_epochs):\n",
    "    # initialize each epoch\n",
    "    train_loss, train_acc, val_loss, val_acc = 0, 0, 0, 0\n",
    "    \n",
    "    # ======== train_mode (Backprop) ======\n",
    "    net.train()\n",
    "    for i, (images, labels) in enumerate(train_loader):  # ミニバッチ回数実行\n",
    "        #viewで28×28×１画像を１次元に変換し、deviceへ転送\n",
    "        images, labels = images.view(-1, 28*28*1).to(device), labels.to(device)\n",
    "        optimizer.zero_grad()  # 勾配リセット\n",
    "        outputs = net(images)  # 順伝播の計算\n",
    "        loss = criterion(outputs, labels)  # lossの計算\n",
    "#        train_loss += loss.item()  # train_loss に結果を蓄積\n",
    "#        acc = (outputs.max(1)[1] == labels).sum()  #  予測とラベルが合っている数の合計\n",
    "#        train_acc += acc.item()  # train_acc に結果を蓄積\n",
    "        loss.backward()  # 逆伝播の計算        \n",
    "        optimizer.step()  # 重みの更新\n",
    "#        avg_train_loss = train_loss / len(train_loader.dataset)  # lossの平均を計算\n",
    "#        avg_train_acc = train_acc / len(train_loader.dataset)  # accの平均を計算\n",
    "    \n",
    "    # ======== eval_mode (training samples) ======\n",
    "    net.eval()\n",
    "    with torch.no_grad():  # 必要のない計算を停止\n",
    "      for images, labels in train_loader:        \n",
    "          images, labels = images.view(-1, 28*28*1).to(device), labels.to(device)\n",
    "          outputs = net(images)\n",
    "          loss = criterion(outputs, labels)\n",
    "          train_loss += loss.item()\n",
    "          acc = (outputs.max(1)[1] == labels).sum()\n",
    "          train_acc += acc.item()\n",
    "    avg_train_loss = train_loss / len(train_loader.dataset)\n",
    "    avg_train_acc = train_acc / len(train_loader.dataset)\n",
    "\n",
    "    # ======== eval_mode (validation samples) ======\n",
    "    net.eval()\n",
    "    with torch.no_grad():  # 必要のない計算を停止\n",
    "      for images, labels in valid_loader:        \n",
    "          images, labels = images.view(-1, 28*28*1).to(device), labels.to(device)\n",
    "          outputs = net(images)\n",
    "          loss = criterion(outputs, labels)\n",
    "          val_loss += loss.item()\n",
    "          acc = (outputs.max(1)[1] == labels).sum()\n",
    "          val_acc += acc.item()\n",
    "    avg_val_loss = val_loss / len(valid_loader.dataset)\n",
    "    avg_val_acc = val_acc / len(valid_loader.dataset)\n",
    "    \n",
    "    # print log\n",
    "    print ('Epoch [{}/{}] train Loss: {loss:.4f}, train acc: {acc:.4f} | val_loss: {val_loss:.4f}, val_acc: {val_acc:.4f}' \n",
    "                   .format(epoch+1, num_epochs, i+1, loss=avg_train_loss, acc=avg_train_acc, val_loss=avg_val_loss, val_acc=avg_val_acc))\n",
    "\n",
    "    # append list for polt graph after training\n",
    "    train_loss_list.append(avg_train_loss)\n",
    "    train_acc_list.append(avg_train_acc)\n",
    "    val_loss_list.append(avg_val_loss)\n",
    "    val_acc_list.append(avg_val_acc)\n"
   ]
  },
  {
   "cell_type": "code",
   "execution_count": 22,
   "metadata": {},
   "outputs": [
    {
     "name": "stdout",
     "output_type": "stream",
     "text": [
      "test_accuracy: 98.22 %\n"
     ]
    }
   ],
   "source": [
    "# ======== eval_mode (test samples) ======\n",
    "net.eval()\n",
    "with torch.no_grad():\n",
    "    total = 0\n",
    "    test_acc = 0\n",
    "    for images, labels in test_loader:        \n",
    "        images, labels = images.view(-1, 28 * 28 * 1 ).to(device), labels.to(device)\n",
    "        outputs = net(images)\n",
    "        test_acc += (outputs.max(1)[1] == labels).sum().item()\n",
    "        total += labels.size(0)\n",
    "    print('test_accuracy: {} %'.format(100 * test_acc / total)) \n",
    "\n",
    "# save weights (You can save the model by uncomment the following line)\n",
    "#torch.save(net.state_dict(), 'mnist_net.ckpt')\n"
   ]
  },
  {
   "cell_type": "code",
   "execution_count": 24,
   "metadata": {},
   "outputs": [
    {
     "data": {
      "image/png": "[encoded data removed]",
      "text/plain": [
       "<Figure size 432x288 with 1 Axes>"
      ]
     },
     "metadata": {
      "needs_background": "light"
     },
     "output_type": "display_data"
    },
    {
     "data": {
      "image/png": "[encoded data removed]",
      "text/plain": [
       "<Figure size 432x288 with 1 Axes>"
      ]
     },
     "metadata": {
      "needs_background": "light"
     },
     "output_type": "display_data"
    }
   ],
   "source": [
    "# plot graph\n",
    "import matplotlib.pyplot as plt\n",
    "\n",
    "plt.figure()\n",
    "plt.plot(range(num_epochs), train_loss_list, color='blue', linestyle='-', label='train_loss')\n",
    "plt.plot(range(num_epochs), val_loss_list, color='green', linestyle='--', label='val_loss')\n",
    "plt.legend()\n",
    "plt.xlabel('epoch')\n",
    "plt.ylabel('loss')\n",
    "plt.title('Training and validation loss')\n",
    "plt.grid()\n",
    "plt.savefig('MLP_mnist_loss.png')\n",
    "\n",
    "plt.figure()\n",
    "plt.plot(range(num_epochs), train_acc_list, color='blue', linestyle='-', label='train_acc')\n",
    "plt.plot(range(num_epochs), val_acc_list, color='green', linestyle='--', label='val_acc')\n",
    "plt.legend()\n",
    "plt.xlabel('epoch')\n",
    "plt.ylabel('acc')\n",
    "plt.title('Training and validation accuracy')\n",
    "plt.grid()\n",
    "plt.savefig('MLP_mnist_acc.png')"
   ]
  },
  {
   "cell_type": "code",
   "execution_count": null,
   "metadata": {},
   "outputs": [],
   "source": []
  }
 ],
 "metadata": {
  "kernelspec": {
   "display_name": "Python 3",
   "language": "python",
   "name": "python3"
  },
  "language_info": {
   "codemirror_mode": {
    "name": "ipython",
    "version": 3
   },
   "file_extension": ".py",
   "mimetype": "text/x-python",
   "name": "python",
   "nbconvert_exporter": "python",
   "pygments_lexer": "ipython3",
   "version": "3.7.7"
  }
 },
 "nbformat": 4,
 "nbformat_minor": 4
}
