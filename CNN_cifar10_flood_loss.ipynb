{
  "cells": [
    {
      "cell_type": "markdown",
      "metadata": {
        "id": "view-in-github",
        "colab_type": "text"
      },
      "source": [
        "<a href=\"https://colab.research.google.com/github/namoshi/dl_intro/blob/master/CNN_cifar10_flood_loss.ipynb\" target=\"_parent\"><img src=\"https://colab.research.google.com/assets/colab-badge.svg\" alt=\"Open In Colab\"/></a>"
      ]
    },
    {
      "cell_type": "markdown",
      "metadata": {
        "id": "lAnUu7lqG6T5"
      },
      "source": [
        "## Convolutional Neural Network (CNN)\n",
        "\n",
        "Image Classification (CIAR-10) by CNN\n",
        "\n",
        "Flood Loss\n",
        "\n",
        "\\begin{align*}\n",
        "  \\tilde{J}(\\theta) = | J(\\theta) - b| + b\n",
        "\\end{align*}\n",
        "where $J(\\theta)$ is the original loss."
      ]
    },
    {
      "cell_type": "code",
      "execution_count": 18,
      "metadata": {
        "id": "d1k6RAqdG6T7"
      },
      "outputs": [],
      "source": [
        "import torch\n",
        "import torch.nn as nn\n",
        "import torch.optim as optim\n",
        "import torchvision.datasets as dsets\n",
        "import torchvision.transforms as transforms\n",
        "import torch.nn.functional as F"
      ]
    },
    {
      "cell_type": "code",
      "source": [
        "class FloodLoss(nn.Module):\n",
        "    def __init__(self, b, device='cuda'):\n",
        "        super(FloodLoss, self).__init__()\n",
        "        self.b = b\n",
        "        self.criterion = nn.CrossEntropyLoss().to(device)\n",
        "    def forward(self, outputs, targets):\n",
        "        loss = self.criterion(outputs, targets)\n",
        "        return (loss - self.b).abs() + self.b"
      ],
      "metadata": {
        "id": "_B2dNgYhkBa8"
      },
      "execution_count": 19,
      "outputs": []
    },
    {
      "cell_type": "code",
      "execution_count": 20,
      "metadata": {
        "colab": {
          "base_uri": "https://localhost:8080/"
        },
        "id": "AE_KqyBzG6UA",
        "outputId": "12c38c44-064b-43d9-acfb-b2c16eeac369"
      },
      "outputs": [
        {
          "output_type": "stream",
          "name": "stdout",
          "text": [
            "Files already downloaded and verified\n",
            "Files already downloaded and verified\n",
            "train_dataset =  40000\n",
            "valid_dataset =  10000\n",
            "test_dataset =  10000\n"
          ]
        }
      ],
      "source": [
        "# load CIFAR-10 data\n",
        "train_dataset = dsets.CIFAR10('./data',\n",
        "                         train=True,\n",
        "                         download=True,\n",
        "                         transform=transforms.Compose([\n",
        "                             transforms.ToTensor(),\n",
        "                             transforms.Normalize(\n",
        "                                [0.5, 0.5, 0.5],  # RGB 平均\n",
        "                                [0.5, 0.5, 0.5]   # RGB 標準偏差\n",
        "                                )\n",
        "                         ]))\n",
        "\n",
        "test_dataset = dsets.CIFAR10('./data',\n",
        "                         train=False,\n",
        "                         download=True,\n",
        "                         transform=transforms.Compose([\n",
        "                             transforms.ToTensor(),\n",
        "                             transforms.Normalize(\n",
        "                                 [0.5, 0.5, 0.5],  # RGB 平均\n",
        "                                 [0.5, 0.5, 0.5]  # RGB 標準偏差\n",
        "                             )\n",
        "                         ]))\n",
        "\n",
        "#print(len(train_Dataset))\n",
        "\n",
        "train_dataset, valid_dataset = torch.utils.data.random_split(  # データセットの分割\n",
        "      train_dataset,   # 分割するデータセット\n",
        "      [40000, 10000])  # 分割数\n",
        "\n",
        "print('train_dataset = ', len(train_dataset))\n",
        "print('valid_dataset = ', len(valid_dataset))\n",
        "print('test_dataset = ', len(test_dataset))\n",
        "\n"
      ]
    },
    {
      "cell_type": "code",
      "execution_count": 21,
      "metadata": {
        "id": "aav3n_2KG6UG"
      },
      "outputs": [],
      "source": [
        "# Set up DataLoader\n",
        "batch=128\n",
        "\n",
        "train_loader = torch.utils.data.DataLoader(\n",
        "        dataset=train_dataset,\n",
        "        batch_size=batch,\n",
        "        shuffle=True\n",
        "    )\n",
        "\n",
        "valid_loader = torch.utils.data.DataLoader(\n",
        "        dataset=valid_dataset,\n",
        "        batch_size=batch,\n",
        "        shuffle=True\n",
        "    )\n",
        "\n",
        "test_loader = torch.utils.data.DataLoader(\n",
        "        dataset=test_dataset,\n",
        "        batch_size=batch,\n",
        "        shuffle=True\n",
        "    )\n"
      ]
    },
    {
      "cell_type": "code",
      "execution_count": 22,
      "metadata": {
        "colab": {
          "base_uri": "https://localhost:8080/"
        },
        "id": "SlhzS6FfG6UK",
        "outputId": "f0e2f26f-56cd-4dd8-f0da-e08619bab2c3"
      },
      "outputs": [
        {
          "output_type": "stream",
          "name": "stdout",
          "text": [
            "cuda\n",
            "Network architecture for CNN\n",
            " Network(\n",
            "  (conv1): Conv2d(3, 32, kernel_size=(3, 3), stride=(1, 1), padding=(1, 1))\n",
            "  (pool1): MaxPool2d(kernel_size=2, stride=2, padding=0, dilation=1, ceil_mode=False)\n",
            "  (dropout1): Dropout(p=0.2, inplace=False)\n",
            "  (conv2): Conv2d(32, 32, kernel_size=(3, 3), stride=(1, 1), padding=(1, 1))\n",
            "  (pool2): MaxPool2d(kernel_size=2, stride=2, padding=0, dilation=1, ceil_mode=False)\n",
            "  (dropout2): Dropout(p=0.2, inplace=False)\n",
            "  (fc1): Linear(in_features=2048, out_features=128, bias=True)\n",
            "  (dropout3): Dropout(p=0.2, inplace=False)\n",
            "  (fc2): Linear(in_features=128, out_features=10, bias=True)\n",
            ")\n"
          ]
        }
      ],
      "source": [
        "class Network(nn.Module):\n",
        "    def __init__(self):\n",
        "        super(Network, self).__init__()\n",
        "        self.conv1 = nn.Conv2d(3,32,3, padding=1)\n",
        "        self.pool1 = nn.MaxPool2d(2,2)\n",
        "        self.dropout1 = nn.Dropout(p=0.2)\n",
        "        self.conv2 = nn.Conv2d(32,32,3, padding=1)\n",
        "        self.pool2 = nn.MaxPool2d(2,2)\n",
        "        self.dropout2 = nn.Dropout(p=0.2)\n",
        "        self.fc1 = nn.Linear(32*8*8, 128)\n",
        "        self.dropout3 = nn.Dropout(p=0.2)\n",
        "        self.fc2 = nn.Linear(128, 10)\n",
        "\n",
        "\n",
        "    def forward(self, x):\n",
        "        x = self.pool1(F.relu(self.conv1(x)))\n",
        "        x = self.dropout1(x)\n",
        "        x = self.pool2(F.relu(self.conv2(x)))\n",
        "        x = self.dropout2(x)\n",
        "        x = x.view(-1, 32 * 8 * 8)\n",
        "        x = F.relu(self.fc1(x))\n",
        "        x = self.dropout3(x)\n",
        "        x = self.fc2(x)\n",
        "        return x\n",
        "\n",
        "net = Network()\n",
        "device = 'cuda' if torch.cuda.is_available() else 'cpu'\n",
        "print(device)\n",
        "\n",
        "if torch.cuda.is_available():\n",
        "  net.cuda()\n",
        "\n",
        "print('Network architecture for CNN\\n', net)"
      ]
    },
    {
      "cell_type": "code",
      "execution_count": 23,
      "metadata": {
        "id": "OlCfd_HXG6UQ"
      },
      "outputs": [],
      "source": [
        "# optimizing\n",
        "#criterion = nn.CrossEntropyLoss()\n",
        "criterion = FloodLoss(b=0.1)\n",
        "optimizer = optim.SGD(net.parameters(), lr=0.01, momentum=0.9, weight_decay=0.001)\n",
        "#optimizer = optim.AdamW(net.parameters(), lr=0.01, weight_decay=0.001)\n"
      ]
    },
    {
      "cell_type": "code",
      "execution_count": 24,
      "metadata": {
        "id": "8XOoWNm9G6UU"
      },
      "outputs": [],
      "source": [
        "# Define Class names\n",
        "classes = ('plane', 'car', 'bird', 'cat', 'deer',\n",
        "               'dog', 'frog', 'horse', 'ship', 'truck')\n"
      ]
    },
    {
      "cell_type": "code",
      "execution_count": 29,
      "metadata": {
        "colab": {
          "base_uri": "https://localhost:8080/"
        },
        "id": "QLVSY_raG6UZ",
        "outputId": "2586b303-d6cf-4adf-81fa-16a23d215b0a"
      },
      "outputs": [
        {
          "output_type": "stream",
          "name": "stdout",
          "text": [
            "training start ...\n",
            "Epoch [1/10] train Loss: 0.0016, train acc: 0.9546 | val_loss: 0.0062, val_acc: 0.7407\n",
            "Epoch [2/10] train Loss: 0.0016, train acc: 0.9568 | val_loss: 0.0062, val_acc: 0.7376\n",
            "Epoch [3/10] train Loss: 0.0015, train acc: 0.9603 | val_loss: 0.0062, val_acc: 0.7440\n",
            "Epoch [4/10] train Loss: 0.0014, train acc: 0.9633 | val_loss: 0.0062, val_acc: 0.7413\n",
            "Epoch [5/10] train Loss: 0.0015, train acc: 0.9645 | val_loss: 0.0061, val_acc: 0.7462\n",
            "Epoch [6/10] train Loss: 0.0014, train acc: 0.9674 | val_loss: 0.0060, val_acc: 0.7438\n",
            "Epoch [7/10] train Loss: 0.0014, train acc: 0.9650 | val_loss: 0.0062, val_acc: 0.7379\n",
            "Epoch [8/10] train Loss: 0.0014, train acc: 0.9638 | val_loss: 0.0062, val_acc: 0.7452\n",
            "Epoch [9/10] train Loss: 0.0014, train acc: 0.9682 | val_loss: 0.0062, val_acc: 0.7418\n",
            "Epoch [10/10] train Loss: 0.0014, train acc: 0.9667 | val_loss: 0.0062, val_acc: 0.7471\n"
          ]
        }
      ],
      "source": [
        "###  training\n",
        "print ('training start ...')\n",
        "num_epochs = 100\n",
        "\n",
        "# initialize list for plot graph after training\n",
        "train_loss_list, train_acc_list, val_loss_list, val_acc_list = [], [], [], []\n",
        "\n",
        "for epoch in range(num_epochs):\n",
        "    # initialize each epoch\n",
        "    train_loss, train_acc, val_loss, val_acc = 0, 0, 0, 0\n",
        "\n",
        "    # ======== train_mode (Backprop) ======\n",
        "    net.train()\n",
        "    for i, (images, labels) in enumerate(train_loader):  # get mini batch samples\n",
        "        #viewで28×28×１画像を１次元に変換し、deviceへ転送\n",
        "#        images, labels = images.view(-1, 28*28*1).to(device), labels.to(device)\n",
        "        images, labels = images.to(device), labels.to(device)\n",
        "        optimizer.zero_grad()  # Reset the gradients\n",
        "        outputs = net(images)  # forward computation\n",
        "        loss = criterion(outputs, labels)  # loss\n",
        "        loss.backward()  # backward computation\n",
        "        optimizer.step()  # optimization\n",
        "\n",
        "    # ======== eval_mode (training samples) ======\n",
        "    net.eval()\n",
        "    with torch.no_grad():  # no computation of gradients\n",
        "      for images, labels in train_loader:\n",
        "#          images, labels = images.view(-1, 28*28*1).to(device), labels.to(device)\n",
        "          images, labels = images.to(device), labels.to(device)\n",
        "          outputs = net(images)\n",
        "          loss = criterion(outputs, labels)\n",
        "          train_loss += loss.item()\n",
        "          acc = (outputs.max(1)[1] == labels).sum()\n",
        "          train_acc += acc.item()\n",
        "    avg_train_loss = train_loss / len(train_loader.dataset)\n",
        "    avg_train_acc = train_acc / len(train_loader.dataset)\n",
        "\n",
        "    # ======== eval_mode (validation samples) ======\n",
        "    net.eval()\n",
        "    with torch.no_grad():  # no comptutation of gradients\n",
        "      for images, labels in valid_loader:\n",
        "#          images, labels = images.view(-1, 28*28*1).to(device), labels.to(device)\n",
        "          images, labels = images.to(device), labels.to(device)\n",
        "          outputs = net(images)\n",
        "          loss = criterion(outputs, labels)\n",
        "          val_loss += loss.item()\n",
        "          acc = (outputs.max(1)[1] == labels).sum()\n",
        "          val_acc += acc.item()\n",
        "    avg_val_loss = val_loss / len(valid_loader.dataset)\n",
        "    avg_val_acc = val_acc / len(valid_loader.dataset)\n",
        "\n",
        "    # print log\n",
        "    print ('Epoch [{}/{}] train Loss: {loss:.4f}, train acc: {acc:.4f} | val_loss: {val_loss:.4f}, val_acc: {val_acc:.4f}'\n",
        "                   .format(epoch+1, num_epochs, i+1, loss=avg_train_loss, acc=avg_train_acc, val_loss=avg_val_loss, val_acc=avg_val_acc))\n",
        "\n",
        "    # append list for polt graph after training\n",
        "    train_loss_list.append(avg_train_loss)\n",
        "    train_acc_list.append(avg_train_acc)\n",
        "    val_loss_list.append(avg_val_loss)\n",
        "    val_acc_list.append(avg_val_acc)\n"
      ]
    },
    {
      "cell_type": "code",
      "execution_count": 30,
      "metadata": {
        "colab": {
          "base_uri": "https://localhost:8080/"
        },
        "id": "lcVFP0RKG6Uf",
        "outputId": "91cf8e47-9406-47d9-e315-f19d19a0cf07"
      },
      "outputs": [
        {
          "output_type": "stream",
          "name": "stdout",
          "text": [
            "test_accuracy: 73.98 %\n"
          ]
        }
      ],
      "source": [
        "# ======== eval_mode (test samples) ======\n",
        "net.eval()\n",
        "with torch.no_grad():\n",
        "    total = 0\n",
        "    test_acc = 0\n",
        "    for images, labels in test_loader:\n",
        "#        images, labels = images.view(-1, 28 * 28 * 1 ).to(device), labels.to(device)\n",
        "        images, labels = images.to(device), labels.to(device)\n",
        "        outputs = net(images)\n",
        "        test_acc += (outputs.max(1)[1] == labels).sum().item()\n",
        "        total += labels.size(0)\n",
        "    print('test_accuracy: {} %'.format(100 * test_acc / total))\n",
        "\n",
        "# save weights (You can save the model by uncomment the following line)\n",
        "#torch.save(net.state_dict(), 'mnist_net.ckpt')\n"
      ]
    },
    {
      "cell_type": "code",
      "execution_count": 31,
      "metadata": {
        "colab": {
          "base_uri": "https://localhost:8080/",
          "height": 927
        },
        "id": "tEEIBGsJG6Uk",
        "outputId": "3ae7539f-e62f-4def-d18d-93b628a611f0"
      },
      "outputs": [
        {
          "output_type": "display_data",
          "data": {
            "text/plain": [
              "<Figure size 640x480 with 1 Axes>"
            ],
            "image/png": "[encoded data removed]"
          },
          "metadata": {}
        },
        {
          "output_type": "display_data",
          "data": {
            "text/plain": [
              "<Figure size 640x480 with 1 Axes>"
            ],
            "image/png": "[encoded data removed]"
          },
          "metadata": {}
        }
      ],
      "source": [
        "# plot graph\n",
        "import matplotlib.pyplot as plt\n",
        "\n",
        "plt.figure()\n",
        "plt.plot(range(num_epochs), train_loss_list, color='blue', linestyle='-', label='train_loss')\n",
        "plt.plot(range(num_epochs), val_loss_list, color='green', linestyle='--', label='val_loss')\n",
        "plt.ylim([0.0,0.02])\n",
        "plt.legend()\n",
        "plt.xlabel('epoch')\n",
        "plt.ylabel('loss')\n",
        "plt.title('Training and validation loss')\n",
        "plt.grid()\n",
        "plt.savefig('CNN_cifar10_loss.png')\n",
        "plt.show()\n",
        "\n",
        "plt.figure()\n",
        "plt.plot(range(num_epochs), train_acc_list, color='blue', linestyle='-', label='train_acc')\n",
        "plt.plot(range(num_epochs), val_acc_list, color='green', linestyle='--', label='val_acc')\n",
        "plt.ylim([0.5, 1.0])\n",
        "plt.legend()\n",
        "plt.xlabel('epoch')\n",
        "plt.ylabel('acc')\n",
        "plt.title('Training and validation accuracy')\n",
        "plt.grid()\n",
        "plt.savefig('CNN_cifar10_acc.png')\n",
        "plt.show()"
      ]
    },
    {
      "cell_type": "code",
      "source": [
        "from google.colab import drive\n",
        "drive.mount('/content/drive')"
      ],
      "metadata": {
        "id": "fBptv5HEu_fO"
      },
      "execution_count": null,
      "outputs": []
    },
    {
      "cell_type": "code",
      "execution_count": null,
      "metadata": {
        "id": "g1jdTzc0G6Up"
      },
      "outputs": [],
      "source": []
    }
  ],
  "metadata": {
    "accelerator": "GPU",
    "colab": {
      "provenance": [],
      "include_colab_link": true
    },
    "kernelspec": {
      "display_name": "Python 3",
      "language": "python",
      "name": "python3"
    },
    "language_info": {
      "codemirror_mode": {
        "name": "ipython",
        "version": 3
      },
      "file_extension": ".py",
      "mimetype": "text/x-python",
      "name": "python",
      "nbconvert_exporter": "python",
      "pygments_lexer": "ipython3",
      "version": "3.7.9"
    }
  },
  "nbformat": 4,
  "nbformat_minor": 0
}