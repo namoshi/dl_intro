{
 "cells": [
  {
   "cell_type": "markdown",
   "metadata": {},
   "source": [
    "## Comparison of the optimization algorithms"
   ]
  },
  {
   "cell_type": "code",
   "execution_count": 1,
   "metadata": {},
   "outputs": [
    {
     "name": "stdout",
     "output_type": "stream",
     "text": [
      "torch version is 1.10.0\n",
      "cuda is not available\n"
     ]
    }
   ],
   "source": [
    "import numpy as np\n",
    "import torch\n",
    "import torch.nn as nn\n",
    "import torch.optim as optim\n",
    "import torchvision.datasets as dsets\n",
    "import torchvision.transforms as transforms\n",
    "import torch.nn.functional as F\n",
    "from torch.utils.tensorboard import SummaryWriter\n",
    "\n",
    "print('torch version is {}'.format(torch.__version__))\n",
    "if torch.cuda.is_available():\n",
    "    print('cuda is available')\n",
    "else:\n",
    "    print('cuda is not available')"
   ]
  },
  {
   "cell_type": "code",
   "execution_count": 2,
   "metadata": {},
   "outputs": [
    {
     "name": "stdout",
     "output_type": "stream",
     "text": [
      "train_dataset =  10000\n",
      "valid_dataset =  50000\n",
      "test_dataset =  10000\n"
     ]
    },
    {
     "name": "stderr",
     "output_type": "stream",
     "text": [
      "/Users/kurita/miniforge3/lib/python3.9/site-packages/torchvision/datasets/mnist.py:498: UserWarning: The given NumPy array is not writeable, and PyTorch does not support non-writeable tensors. This means you can write to the underlying (supposedly non-writeable) NumPy array using the tensor. You may want to copy the array to protect its data or make it writeable before converting it to a tensor. This type of warning will be suppressed for the rest of this program. (Triggered internally at  /Users/runner/miniforge3/conda-bld/pytorch-recipe_1635217266490/work/torch/csrc/utils/tensor_numpy.cpp:189.)\n",
      "  return torch.from_numpy(parsed.astype(m[2], copy=False)).view(*s)\n"
     ]
    }
   ],
   "source": [
    "# load MNIST data\n",
    "train_Dataset = dsets.FashionMNIST(\n",
    "      root='./data',  # rootで指定したフォルダーを作成して生データを展開\n",
    "      train=True,  # 学習かテストかの選択\n",
    "      transform=transforms.ToTensor(),  # PyTroch のテンソルに変換\n",
    "      download=True)  # ダウンロードするかどうかの選択\n",
    "\n",
    "test_dataset = dsets.FashionMNIST(\n",
    "      root='./data',  \n",
    "      train=False, \n",
    "      transform=transforms.ToTensor(),\n",
    "      download=True)\n",
    "\n",
    "train_dataset, valid_dataset = torch.utils.data.random_split(  # データセットの分割\n",
    "      train_Dataset,   # 分割するデータセット\n",
    "      [10000, 50000])  # 分割数\n",
    " \n",
    "print('train_dataset = ', len(train_dataset))\n",
    "print('valid_dataset = ', len(valid_dataset))  \n",
    "print('test_dataset = ', len(test_dataset))\n"
   ]
  },
  {
   "cell_type": "code",
   "execution_count": 3,
   "metadata": {},
   "outputs": [],
   "source": [
    "# set data loader\n",
    "train_loader = torch.utils.data.DataLoader(\n",
    "      dataset=train_dataset,  # データセットの指定\n",
    "      batch_size=64,  # ミニバッチの指定\n",
    "      shuffle=True,  # シャッフルするかどうかの指定\n",
    "      num_workers=2)  # コアの数\n",
    "\n",
    "valid_loader = torch.utils.data.DataLoader(\n",
    "      dataset=valid_dataset,\n",
    "      batch_size=64, \n",
    "      shuffle=False,\n",
    "      num_workers=2)\n",
    "\n",
    "test_loader = torch.utils.data.DataLoader(\n",
    "      dataset=test_dataset,\n",
    "      batch_size=64, \n",
    "      shuffle=False,\n",
    "      num_workers=2)\n"
   ]
  },
  {
   "cell_type": "code",
   "execution_count": 4,
   "metadata": {},
   "outputs": [
    {
     "name": "stdout",
     "output_type": "stream",
     "text": [
      "cpu\n",
      "Network architecture for CNN\n",
      " Network(\n",
      "  (conv1): Conv2d(1, 32, kernel_size=(3, 3), stride=(1, 1), padding=(1, 1))\n",
      "  (pool1): MaxPool2d(kernel_size=2, stride=2, padding=0, dilation=1, ceil_mode=False)\n",
      "  (conv2): Conv2d(32, 32, kernel_size=(3, 3), stride=(1, 1), padding=(1, 1))\n",
      "  (pool2): MaxPool2d(kernel_size=2, stride=2, padding=0, dilation=1, ceil_mode=False)\n",
      "  (fc1): Linear(in_features=1568, out_features=128, bias=True)\n",
      "  (fc2): Linear(in_features=128, out_features=10, bias=True)\n",
      ")\n"
     ]
    }
   ],
   "source": [
    "class Network(nn.Module):\n",
    "    def __init__(self):\n",
    "        super(Network, self).__init__()\n",
    "        self.conv1 = nn.Conv2d(1,32,3, padding=1)\n",
    "        self.pool1 = nn.MaxPool2d(2,2)\n",
    "        self.conv2 = nn.Conv2d(32,32,3, padding=1)\n",
    "        self.pool2 = nn.MaxPool2d(2,2)\n",
    "        self.fc1 = nn.Linear(32*7*7, 128)\n",
    "        self.fc2 = nn.Linear(128, 10)\n",
    "\n",
    "    def forward(self, x):\n",
    "        x = self.pool1(F.relu(self.conv1(x)))\n",
    "        x = self.pool2(F.relu(self.conv2(x)))\n",
    "        x = x.view(-1, 32 * 7 * 7)\n",
    "        x = F.relu(self.fc1(x))\n",
    "        x = self.fc2(x)\n",
    "        return x\n",
    "\n",
    "net = Network()\n",
    "device = 'cuda' if torch.cuda.is_available() else 'cpu'\n",
    "print(device)\n",
    "\n",
    "if torch.cuda.is_available():\n",
    "  net.cuda()\n",
    "\n",
    "print('Network architecture for CNN\\n', net)"
   ]
  },
  {
   "cell_type": "code",
   "execution_count": 5,
   "metadata": {},
   "outputs": [],
   "source": [
    "# optimizing\n",
    "criterion = nn.CrossEntropyLoss()\n",
    "optimizer = optim.SGD(net.parameters(), lr=0.01, momentum=0.9, weight_decay=0.01)\n",
    "#optimizer = optim.AdamW(net.parameters(), lr=0.01, weight_decay=0.01)\n"
   ]
  },
  {
   "cell_type": "code",
   "execution_count": 6,
   "metadata": {},
   "outputs": [],
   "source": [
    "# Initialize Weights\n",
    "\n",
    "#torch.cuda.manual_seed_all(100100)\n",
    "#torch.manual_seed(100100)\n",
    "#np.random.seed(100100)\n",
    "\n",
    "#def weight_reset(m):\n",
    "#    if isinstance(m, nn.Conv2d) or isinstance(m, nn.Linear):\n",
    "#        m.reset_parameters()\n",
    "\n",
    "#net.apply(weight_reset)"
   ]
  },
  {
   "cell_type": "code",
   "execution_count": 7,
   "metadata": {},
   "outputs": [
    {
     "name": "stdout",
     "output_type": "stream",
     "text": [
      "training start ...\n",
      "Epoch [1/20] train Loss: 0.0115, train acc: 0.7135 | val_loss: 0.0118, val_acc: 0.7087\n",
      "Epoch [2/20] train Loss: 0.0099, train acc: 0.7608 | val_loss: 0.0102, val_acc: 0.7521\n",
      "Epoch [3/20] train Loss: 0.0097, train acc: 0.7723 | val_loss: 0.0101, val_acc: 0.7611\n",
      "Epoch [4/20] train Loss: 0.0080, train acc: 0.8058 | val_loss: 0.0084, val_acc: 0.7982\n",
      "Epoch [5/20] train Loss: 0.0073, train acc: 0.8366 | val_loss: 0.0077, val_acc: 0.8263\n",
      "Epoch [6/20] train Loss: 0.0075, train acc: 0.8236 | val_loss: 0.0080, val_acc: 0.8071\n",
      "Epoch [7/20] train Loss: 0.0079, train acc: 0.8117 | val_loss: 0.0085, val_acc: 0.7973\n",
      "Epoch [8/20] train Loss: 0.0070, train acc: 0.8445 | val_loss: 0.0075, val_acc: 0.8257\n",
      "Epoch [9/20] train Loss: 0.0067, train acc: 0.8465 | val_loss: 0.0073, val_acc: 0.8323\n",
      "Epoch [10/20] train Loss: 0.0071, train acc: 0.8359 | val_loss: 0.0077, val_acc: 0.8229\n",
      "Epoch [11/20] train Loss: 0.0073, train acc: 0.8330 | val_loss: 0.0079, val_acc: 0.8150\n",
      "Epoch [12/20] train Loss: 0.0066, train acc: 0.8434 | val_loss: 0.0072, val_acc: 0.8274\n",
      "Epoch [13/20] train Loss: 0.0064, train acc: 0.8495 | val_loss: 0.0070, val_acc: 0.8347\n",
      "Epoch [14/20] train Loss: 0.0070, train acc: 0.8278 | val_loss: 0.0077, val_acc: 0.8130\n",
      "Epoch [15/20] train Loss: 0.0057, train acc: 0.8726 | val_loss: 0.0063, val_acc: 0.8561\n",
      "Epoch [16/20] train Loss: 0.0061, train acc: 0.8543 | val_loss: 0.0070, val_acc: 0.8383\n",
      "Epoch [17/20] train Loss: 0.0059, train acc: 0.8644 | val_loss: 0.0066, val_acc: 0.8493\n",
      "Epoch [18/20] train Loss: 0.0065, train acc: 0.8486 | val_loss: 0.0072, val_acc: 0.8282\n",
      "Epoch [19/20] train Loss: 0.0058, train acc: 0.8728 | val_loss: 0.0065, val_acc: 0.8557\n",
      "Epoch [20/20] train Loss: 0.0061, train acc: 0.8541 | val_loss: 0.0070, val_acc: 0.8398\n"
     ]
    }
   ],
   "source": [
    "###  training\n",
    "print ('training start ...')\n",
    "num_epochs = 20   \n",
    "\n",
    "tb = SummaryWriter()\n",
    "\n",
    "# initialize list for plot graph after training\n",
    "train_loss_list, train_acc_list, val_loss_list, val_acc_list = [], [], [], []\n",
    "\n",
    "for epoch in range(num_epochs):\n",
    "    # initialize each epoch\n",
    "    train_loss, train_acc, val_loss, val_acc = 0, 0, 0, 0\n",
    "    \n",
    "    # ======== train_mode (Backprop) ======\n",
    "    net.train()\n",
    "    for i, (images, labels) in enumerate(train_loader):  # get mini batch samples\n",
    "        #viewで28×28×１画像を１次元に変換し、deviceへ転送\n",
    "#        images, labels = images.view(-1, 28*28*1).to(device), labels.to(device)\n",
    "        images, labels = images.to(device), labels.to(device)\n",
    "        optimizer.zero_grad()  # Reset the gradients\n",
    "        outputs = net(images)  # forward computation\n",
    "        loss = criterion(outputs, labels)  # loss\n",
    "        loss.backward()  # backward computation        \n",
    "        optimizer.step()  # optimization\n",
    "    \n",
    "    # ======== eval_mode (training samples) ======\n",
    "    net.eval()\n",
    "    with torch.no_grad():  # no computation of gradients\n",
    "      for images, labels in train_loader:        \n",
    "#          images, labels = images.view(-1, 28*28*1).to(device), labels.to(device)\n",
    "          images, labels = images.to(device), labels.to(device)\n",
    "          outputs = net(images)\n",
    "          loss = criterion(outputs, labels)\n",
    "          train_loss += loss.item()\n",
    "          acc = (outputs.max(1)[1] == labels).sum()\n",
    "          train_acc += acc.item()\n",
    "    avg_train_loss = train_loss / len(train_loader.dataset)\n",
    "    avg_train_acc = train_acc / len(train_loader.dataset)\n",
    "\n",
    "    # ======== eval_mode (validation samples) ======\n",
    "    net.eval()\n",
    "    with torch.no_grad():  # no comptutation of gradients\n",
    "      for images, labels in valid_loader:        \n",
    "#          images, labels = images.view(-1, 28*28*1).to(device), labels.to(device)\n",
    "          images, labels = images.to(device), labels.to(device)\n",
    "          outputs = net(images)\n",
    "          loss = criterion(outputs, labels)\n",
    "          val_loss += loss.item()\n",
    "          acc = (outputs.max(1)[1] == labels).sum()\n",
    "          val_acc += acc.item()\n",
    "    avg_val_loss = val_loss / len(valid_loader.dataset)\n",
    "    avg_val_acc = val_acc / len(valid_loader.dataset)\n",
    "    \n",
    "    # print log\n",
    "    print ('Epoch [{}/{}] train Loss: {loss:.4f}, train acc: {acc:.4f} | val_loss: {val_loss:.4f}, val_acc: {val_acc:.4f}' \n",
    "                   .format(epoch+1, num_epochs, i+1, loss=avg_train_loss, acc=avg_train_acc, val_loss=avg_val_loss, val_acc=avg_val_acc))\n",
    "\n",
    "# output informations for tensorboard\n",
    "    tb.add_scalars('loss', {'train_loss':avg_train_loss, 'val_loss':avg_val_loss}, epoch)\n",
    "    tb.add_scalars('accuracy', {'train_acc':avg_train_acc, 'val_acc':avg_val_acc}, epoch)\n",
    "\n",
    "    for name, weight in net.named_parameters():\n",
    "#        print('name=', name)\n",
    "        tb.add_histogram(name, weight, epoch)\n",
    "        tb.add_histogram(f'{name}.grad', weight.grad, epoch)\n",
    "\n",
    "\n",
    "    # append list for polt graph after training\n",
    "    train_loss_list.append(avg_train_loss)\n",
    "    train_acc_list.append(avg_train_acc)\n",
    "    val_loss_list.append(avg_val_loss)\n",
    "    val_acc_list.append(avg_val_acc)\n",
    "\n",
    "tb.close()"
   ]
  },
  {
   "cell_type": "code",
   "execution_count": 8,
   "metadata": {},
   "outputs": [
    {
     "name": "stdout",
     "output_type": "stream",
     "text": [
      "test_accuracy: 83.06 %\n"
     ]
    }
   ],
   "source": [
    "# ======== eval_mode (test samples) ======\n",
    "net.eval()\n",
    "with torch.no_grad():\n",
    "    total = 0\n",
    "    test_acc = 0\n",
    "    for images, labels in test_loader:        \n",
    "#        images, labels = images.view(-1, 28 * 28 * 1 ).to(device), labels.to(device)\n",
    "        images, labels = images.to(device), labels.to(device)\n",
    "        outputs = net(images)\n",
    "        test_acc += (outputs.max(1)[1] == labels).sum().item()\n",
    "        total += labels.size(0)\n",
    "    print('test_accuracy: {} %'.format(100 * test_acc / total)) \n",
    "\n",
    "# save weights (You can save the model by uncomment the following line)\n",
    "#torch.save(net.state_dict(), 'mnist_net.ckpt')\n"
   ]
  },
  {
   "cell_type": "code",
   "execution_count": 9,
   "metadata": {},
   "outputs": [
    {
     "data": {
      "image/png": "[encoded data removed]",
      "text/plain": [
       "<Figure size 432x288 with 1 Axes>"
      ]
     },
     "metadata": {
      "needs_background": "light"
     },
     "output_type": "display_data"
    },
    {
     "data": {
      "image/png": "[encoded data removed]",
      "text/plain": [
       "<Figure size 432x288 with 1 Axes>"
      ]
     },
     "metadata": {
      "needs_background": "light"
     },
     "output_type": "display_data"
    }
   ],
   "source": [
    "# plot graph\n",
    "import matplotlib.pyplot as plt\n",
    "\n",
    "plt.figure()\n",
    "plt.plot(range(num_epochs), train_loss_list, color='blue', linestyle='-', label='train_loss')\n",
    "plt.plot(range(num_epochs), val_loss_list, color='green', linestyle='--', label='val_loss')\n",
    "plt.ylim([0.0,0.02])\n",
    "plt.legend()\n",
    "plt.xlabel('epoch')\n",
    "plt.ylabel('loss')\n",
    "plt.title('Training and validation loss (SGD)')\n",
    "plt.grid()\n",
    "plt.savefig('images/CNN_FashionMNIST_SGD_loss.png')\n",
    "plt.show()\n",
    "\n",
    "plt.figure()\n",
    "plt.plot(range(num_epochs), train_acc_list, color='blue', linestyle='-', label='train_acc')\n",
    "plt.plot(range(num_epochs), val_acc_list, color='green', linestyle='--', label='val_acc')\n",
    "plt.ylim([0.5, 1.0])\n",
    "plt.legend()\n",
    "plt.xlabel('epoch')\n",
    "plt.ylabel('acc')\n",
    "plt.title('Training and validation accuracy (SGD)')\n",
    "plt.grid()\n",
    "plt.savefig('images/CNN_FashionMNIST_SGD_acc.png')\n",
    "plt.show()"
   ]
  }
 ],
 "metadata": {
  "kernelspec": {
   "display_name": "Python 3",
   "language": "python",
   "name": "python3"
  },
  "language_info": {
   "codemirror_mode": {
    "name": "ipython",
    "version": 3
   },
   "file_extension": ".py",
   "mimetype": "text/x-python",
   "name": "python",
   "nbconvert_exporter": "python",
   "pygments_lexer": "ipython3",
   "version": "3.9.7"
  }
 },
 "nbformat": 4,
 "nbformat_minor": 4
}
