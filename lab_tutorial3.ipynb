{
  "nbformat": 4,
  "nbformat_minor": 0,
  "metadata": {
    "colab": {
      "name": "lab_tutorial3.ipynb",
      "provenance": [],
      "collapsed_sections": [],
      "include_colab_link": true
    },
    "kernelspec": {
      "name": "python3",
      "display_name": "Python 3"
    },
    "accelerator": "GPU"
  },
  "cells": [
    {
      "cell_type": "markdown",
      "metadata": {
        "id": "view-in-github",
        "colab_type": "text"
      },
      "source": [
        "<a href=\"https://colab.research.google.com/github/namoshi/dl_intro/blob/master/lab_tutorial3.ipynb\" target=\"_parent\"><img src=\"https://colab.research.google.com/assets/colab-badge.svg\" alt=\"Open In Colab\"/></a>"
      ]
    },
    {
      "cell_type": "markdown",
      "metadata": {
        "id": "inLMQZKU0rUs",
        "colab_type": "text"
      },
      "source": [
        "3. Siamese Network\n",
        "\n",
        "The Siamese Neural Network consists of two identical networks joined at their outputs.\n",
        "\n",
        "The two networks extract feature vectors from two different samples.\n",
        "\n",
        "Usually, the weights of the two networks are shared, the objective function of the optimization for training the parameters of the networks is defined by using these extracted feature vectors.\n",
        "\n",
        "The parameters of the Siamese Network are trained to distinguish between similar and dissimilar pairs of the training samples. \n",
        "\n",
        "This network architecture is usually used for metric learning, and a contrastive loss over the metric defined on the trained representation is used as the objective function for the optimization. The objective function is defined as\n",
        "\n",
        "\\begin{align}\n",
        "E&=\\frac{1}{2N}\\sum_i^N \\sum_j^N l_{ij}(D_{ij})^2 + (1-l_{ij})max(m-D_{ij}, ~0)^2 \\\\\n",
        "D_{ij}&=||{\\boldsymbol y}_{i}-{\\boldsymbol y}_{j}||^2_2\n",
        "\\end{align}\n",
        "\n",
        "where $m$ is a parameter indicating the distance between clusters and $D_{ij}$ represents the distance between the pair of the outputs $\\boldsymbol{y}_i$ and $\\boldsymbol{y}_j$ of each network for the sample pair $\\boldsymbol{x}_i$ and$\\boldsymbol{x}_j$.\n",
        "\n",
        "A label $l$ is assigned for each sample pair such that label is $l_{ij}=1$ when the pair $i$ and $j$ is similar and label is $l_{ij}=0$ when the pair $i$ and $j$ is dissimilar.\n",
        "\n",
        "After the training of Siamese Network, the outputs for dissimilar pair will be dissimilar while the outputs for similar pair become similar."
      ]
    },
    {
      "cell_type": "markdown",
      "metadata": {
        "id": "27jSOzDfDQ17",
        "colab_type": "text"
      },
      "source": [
        "※If you want to perform learning, create a source file.\n",
        "\n",
        "Import of required library."
      ]
    },
    {
      "cell_type": "code",
      "metadata": {
        "id": "JEegKhQ00m4r",
        "colab_type": "code",
        "outputId": "55159783-ace8-4473-d6a8-2ed982c556a5",
        "colab": {
          "base_uri": "https://localhost:8080/",
          "height": 340
        }
      },
      "source": [
        "import numpy as np\n",
        "import chainer.functions as F\n",
        "import matplotlib.pyplot as plt\n",
        "import torch\n",
        "import torch.nn as nn\n",
        "import torchvision.datasets as dsets\n",
        "import torchvision.transforms as transforms\n",
        "from torch.autograd import Variable\n",
        "from torch import Tensor\n",
        "import torch.nn.functional as F\n",
        "import contrastive as C"
      ],
      "execution_count": 0,
      "outputs": [
        {
          "output_type": "error",
          "ename": "ModuleNotFoundError",
          "evalue": "ignored",
          "traceback": [
            "\u001b[0;31m---------------------------------------------------------------------------\u001b[0m",
            "\u001b[0;31mModuleNotFoundError\u001b[0m                       Traceback (most recent call last)",
            "\u001b[0;32m<ipython-input-1-b3d1672b9624>\u001b[0m in \u001b[0;36m<module>\u001b[0;34m()\u001b[0m\n\u001b[1;32m      9\u001b[0m \u001b[0;32mfrom\u001b[0m \u001b[0mtorch\u001b[0m \u001b[0;32mimport\u001b[0m \u001b[0mTensor\u001b[0m\u001b[0;34m\u001b[0m\u001b[0;34m\u001b[0m\u001b[0m\n\u001b[1;32m     10\u001b[0m \u001b[0;32mimport\u001b[0m \u001b[0mtorch\u001b[0m\u001b[0;34m.\u001b[0m\u001b[0mnn\u001b[0m\u001b[0;34m.\u001b[0m\u001b[0mfunctional\u001b[0m \u001b[0;32mas\u001b[0m \u001b[0mF\u001b[0m\u001b[0;34m\u001b[0m\u001b[0;34m\u001b[0m\u001b[0m\n\u001b[0;32m---> 11\u001b[0;31m \u001b[0;32mimport\u001b[0m \u001b[0mcontrastive\u001b[0m \u001b[0;32mas\u001b[0m \u001b[0mC\u001b[0m\u001b[0;34m\u001b[0m\u001b[0;34m\u001b[0m\u001b[0m\n\u001b[0m",
            "\u001b[0;31mModuleNotFoundError\u001b[0m: No module named 'contrastive'",
            "",
            "\u001b[0;31m---------------------------------------------------------------------------\u001b[0;32m\nNOTE: If your import is failing due to a missing package, you can\nmanually install dependencies using either !pip or !apt.\n\nTo view examples of installing some common dependencies, click the\n\"Open Examples\" button below.\n\u001b[0;31m---------------------------------------------------------------------------\u001b[0m\n"
          ]
        }
      ]
    },
    {
      "cell_type": "markdown",
      "metadata": {
        "id": "AlcQrfhJD14m",
        "colab_type": "text"
      },
      "source": [
        "Fixed seed value for random numbers."
      ]
    },
    {
      "cell_type": "code",
      "metadata": {
        "id": "sB_m2S6yD45I",
        "colab_type": "code",
        "colab": {}
      },
      "source": [
        "torch.cuda.manual_seed_all(100100)\n",
        "torch.manual_seed(100100)\n",
        "np.random.seed(100100)"
      ],
      "execution_count": 0,
      "outputs": []
    },
    {
      "cell_type": "markdown",
      "metadata": {
        "id": "KMehWf5rD89M",
        "colab_type": "text"
      },
      "source": [
        "Reading dataset."
      ]
    },
    {
      "cell_type": "code",
      "metadata": {
        "id": "4A6hskyjECro",
        "colab_type": "code",
        "colab": {}
      },
      "source": [
        "mnist_train = dsets.MNIST(\".\", download=True, train=True)\n",
        "x_train = []\n",
        "y_train = []\n",
        "x_test = []\n",
        "y_test = []\n",
        "\n",
        "mnist_test = dsets.MNIST(\".\", download=True, train=False)\n",
        "\n",
        "\n",
        "\n",
        "for i in range(len(mnist_train)):\n",
        "\tx_train.append(np.array(mnist_train[i][0]))\n",
        "\ty_train.append(mnist_train[i][1])\n",
        "\t\n",
        "for i in range(len(mnist_test)):\n",
        "\tx_test.append(np.array(mnist_test[i][0]))\n",
        "\ty_test.append(mnist_test[i][1])\n",
        "\n",
        "\n",
        "x_train = np.array(x_train)\n",
        "y_train = np.array(y_train)\n",
        "x_train = x_train.reshape(len(mnist_train), 1, 28, 28)\n",
        "\n",
        "x_test = np.array(x_test)\n",
        "y_test = np.array(y_test)\n",
        "x_test = x_test.reshape(len(mnist_test), 1, 28, 28)"
      ],
      "execution_count": 0,
      "outputs": []
    },
    {
      "cell_type": "markdown",
      "metadata": {
        "id": "d7o65WdSENN-",
        "colab_type": "text"
      },
      "source": [
        "Designation of mini-batch size and number of epochs."
      ]
    },
    {
      "cell_type": "code",
      "metadata": {
        "id": "hK1McKQiENdZ",
        "colab_type": "code",
        "colab": {}
      },
      "source": [
        "epoch=100\n",
        "batchsize=100"
      ],
      "execution_count": 0,
      "outputs": []
    },
    {
      "cell_type": "markdown",
      "metadata": {
        "id": "EektVQdcEaNZ",
        "colab_type": "text"
      },
      "source": [
        "Define the model structure.\n",
        "\n",
        "By alternately inputting two samples to the model and obtaining the respective outputs, the two models sharing weights is designed.\n",
        "\n",
        "In this example, a two-dimensional feature vector is obtained as output."
      ]
    },
    {
      "cell_type": "code",
      "metadata": {
        "id": "wE1Hjx9kEaWE",
        "colab_type": "code",
        "colab": {}
      },
      "source": [
        "class Network(nn.Module):\n",
        "\tdef __init__(self):\n",
        "\t\tsuper(Network, self).__init__()\n",
        "\t\tself.conv1 = nn.Conv2d(1,32,3, padding=1)\n",
        "\t\tself.conv2 = nn.Conv2d(32,32,3, padding=1)\n",
        "\t\tself.fc1 = nn.Linear(32*7*7, 128)\n",
        "\t\tself.fc2 = nn.Linear(128, 2)\n",
        "\t\tself.pool = nn.MaxPool2d(2,2)\n",
        "\n",
        "\tdef forward(self, x1, x2):\n",
        "\t\tx1 = self.pool(F.relu(self.conv1(x1)))\n",
        "\t\tx1 = self.pool(F.relu(self.conv2(x1)))\n",
        "\t\tx1 = x1.view(-1, 32 * 7 * 7)\n",
        "\t\tx1 = F.relu(self.fc1(x1))\n",
        "\t\tx1 = self.fc2(x1)\n",
        "\n",
        "\t\tx2 = self.pool(F.relu(self.conv1(x2)))\n",
        "\t\tx2 = self.pool(F.relu(self.conv2(x2)))\n",
        "\t\tx2 = x2.view(-1, 32 * 7 * 7)\n",
        "\t\tx2 = F.relu(self.fc1(x2))\n",
        "\t\tx2 = self.fc2(x2)\n",
        "\t\treturn x1, x2\n",
        "\n",
        "\tdef forward_test(self, x):\n",
        "\t\tx = self.pool(F.relu(self.conv1(x)))\n",
        "\t\tx = self.pool(F.relu(self.conv2(x)))\n",
        "\t\tx = x.view(-1, 32 * 7 * 7)\n",
        "\t\tx = F.relu(self.fc1(x))\n",
        "\t\tx = self.fc2(x)\n",
        "\t\treturn x\n",
        "\n",
        "\n",
        "net = Network()\n",
        "net.cuda()"
      ],
      "execution_count": 0,
      "outputs": []
    },
    {
      "cell_type": "markdown",
      "metadata": {
        "id": "to_yNhBoGNg9",
        "colab_type": "text"
      },
      "source": [
        "Define loss and optimizer."
      ]
    },
    {
      "cell_type": "code",
      "metadata": {
        "id": "m4juAaB3GiCz",
        "colab_type": "code",
        "colab": {}
      },
      "source": [
        "contrastive_loss = C.ContrastiveLoss(margin=1.0)\n",
        "\n",
        "optimizer = torch.optim.SGD(net.parameters(), lr=0.01, momentum=0.9, weight_decay=0.005)"
      ],
      "execution_count": 0,
      "outputs": []
    },
    {
      "cell_type": "markdown",
      "metadata": {
        "id": "tvoCrFq4GrWp",
        "colab_type": "text"
      },
      "source": [
        "Input data into the model for each mini-batch and perform parameter update.\n",
        "\n",
        "The number of similar pairs and similar pairs is adjusted to be the same in the minibatch."
      ]
    },
    {
      "cell_type": "code",
      "metadata": {
        "id": "iRplKNZ4GskZ",
        "colab_type": "code",
        "colab": {}
      },
      "source": [
        "train_loss=[]\n",
        "train_acc=[]\n",
        "test_loss=[]\n",
        "test_acc=[]\n",
        "\n",
        "n_class=10\n",
        "\n",
        "\n",
        "for epoch in range(1, epoch+1):\n",
        "\tx0_train = np.empty((class_num_train*n_class, 3, 32, 32)).astype(np.float32)\n",
        "\ty0_train = np.empty((class_num_train*n_class)).astype(np.int32)\n",
        "\tx1_train = np.empty((class_num_train*n_class, 3, 32, 32)).astype(np.float32)\n",
        "\ty1_train = np.empty((class_num_train*n_class)).astype(np.int32)\n",
        "  \n",
        "  #Create input pair so that the number of pairs of the same class and the number of pairs of different classes are equal.\n",
        "\tfor i in range(n_class):\n",
        "\t\ta = x_train[y_train == i]\n",
        "\t\tb = y_train[y_train == i]\n",
        "\t\ts = i*class_num_train\n",
        "\t\tg = s+class_num_train\n",
        "\t\trannum0 = np.random.permutation(class_num_train)\n",
        "\t\tx0_train[s:g] = a[rannum0[0:class_num_train]]\n",
        "\t\ty0_train[s:g] = b[rannum0[0:class_num_train]]\n",
        "\t\trannum1_0 = np.random.permutation(class_num_train)\n",
        "\t\tm = s+halfsize\n",
        "\t\tg = m+halfsize\n",
        "\t\tx1_train[s:m] = a[rannum1_0[0:halfsize]]\n",
        "\t\ty1_train[s:m] = b[rannum1_0[0:halfsize]]\n",
        "\t\tad = x_train[y_train != i]\n",
        "\t\tbd = y_train[y_train != i]\n",
        "\t\tdifsize = len(bd)\n",
        "\t\trannum1_1 = np.random.permutation(difsize)\n",
        "\t\tx1_train[m:g] = ad[rannum1_1[0:halfsize]]\n",
        "\t\ty1_train[m:g] = bd[rannum1_1[0:halfsize]]\n",
        "\ty0_train = np.eye(n_class)[y0_train].astype(np.int32)\n",
        "\ty1_train = np.eye(n_class)[y1_train].astype(np.int32)\n",
        "  \n",
        "  \n",
        "\tprint('epoch', epoch)\n",
        "\tperm = np.random.permutation(datasize)\n",
        "\tfor i in range(0, datasize, batchsize):\n",
        "\t\tx1_batch = x0_train[perm[i:i+batchsize]]\n",
        "\t\ty1_batch = y0_train[perm[i:i+batchsize]]\n",
        "\t\tx2_batch = x1_train[perm[i:i+batchsize]]\n",
        "\t\ty2_batch = y1_train[perm[i:i+batchsize]]\n",
        "\t\tlabel = np.array(y1_batch == y2_batch, dtype=np.int32)\n",
        "\t\tx1_batch = torch.from_numpy(x1_batch.copy()).float().cuda()\n",
        "\t\tx2_batch = torch.from_numpy(x2_batch.copy()).float().cuda()\n",
        "\t\tlabel = torch.from_numpy(label).float().cuda()\n",
        "\t\toptimizer.zero_grad()\n",
        "\t\ty1, y2 = net(x1_batch, x2_batch)\n",
        "\t\tloss = contrastive_loss(y1, y2, label)           \n",
        "\t\tloss.backward()                           \n",
        "\t\toptimizer.step()\n",
        "\n",
        "\n",
        "\n",
        "\tsum_score = 0\n",
        "\tsum_loss = 0\n",
        "\n",
        "\tfor i in range(0, datasize, batchsize):\n",
        "\t\tx1_batch = x_train[perm[i:i+batchsize]]\n",
        "\t\ty1_batch = y_train[perm[i:i+batchsize]]\n",
        "\t\tx2_batch = x_train[perm[i:i+batchsize]][::-1]\n",
        "\t\ty2_batch = y_train[perm[i:i+batchsize]][::-1]\n",
        "\t\tlabel = np.array(y1_batch == y2_batch, dtype=np.int32)\n",
        "\t\tx1_batch = torch.from_numpy(x1_batch.copy()).float().cuda()\n",
        "\t\tx2_batch = torch.from_numpy(x2_batch.copy()).float().cuda()\n",
        "\t\tlabel = torch.from_numpy(label).float().cuda()\n",
        "\t\ty1, y2 = net(x1_batch, x2_batch)\n",
        "\t\tloss = contrastive_loss(y1, y2, label)           \n",
        "\t\tsum_loss += float(loss.cpu().data.item()) * batchsize\n",
        "\tprint(\"train  mean loss={}\".format(sum_loss / datasize))\n",
        "\ttrain_loss.append(sum_loss / datasize)\n",
        "\n",
        "\n",
        "\tsum_score = 0\n",
        "\tsum_loss = 0\n",
        "\tperm = np.random.permutation(datasize_test)\n",
        "\tfor i in range(0, datasize_test, batchsize):\n",
        "\t\tx1_batch = x_test[perm[i:i+batchsize]]\n",
        "\t\ty1_batch = y_test[perm[i:i+batchsize]]\n",
        "\t\tx2_batch = x_test[perm[i:i+batchsize]][::-1]\n",
        "\t\ty2_batch = y_test[perm[i:i+batchsize]][::-1]\n",
        "\t\tlabel = np.array(y1_batch == y2_batch, dtype=np.int32)\n",
        "\t\tx1_batch = torch.from_numpy(x1_batch.copy()).float().cuda()\n",
        "\t\tx2_batch = torch.from_numpy(x2_batch.copy()).float().cuda()\n",
        "\t\tlabel = torch.from_numpy(label).float().cuda()\n",
        "\t\ty1, y2 = net(x1_batch, x2_batch)\n",
        "\t\tloss = contrastive_loss(y1, y2, label)           \n",
        "\t\tsum_loss += float(loss.cpu().data.item()) * batchsize\n",
        "\tprint(\"test  mean loss={}\".format(sum_loss / datasize_test))\n",
        "\ttest_loss.append(sum_loss / datasize_test)"
      ],
      "execution_count": 0,
      "outputs": []
    },
    {
      "cell_type": "markdown",
      "metadata": {
        "id": "HndLkGJdU34n",
        "colab_type": "text"
      },
      "source": [
        "Plot the feature space obtained by learning."
      ]
    },
    {
      "cell_type": "code",
      "metadata": {
        "id": "zqnIhD6GO68j",
        "colab_type": "code",
        "colab": {}
      },
      "source": [
        "#Get the model output from train data.\n",
        "for i in range(0, datasize, batchsize):\n",
        "\tx1_batch = x_train[i:i+batchsize]\n",
        "\tx1_batch = torch.from_numpy(x1_batch.copy()).float().cuda()\n",
        "\ttest_result = net.forward_test(x1_batch)\n",
        "\ttest_result = test_result.cpu().data.numpy()\n",
        "\tresult[i:i + batchsize] = test_result\n",
        "\n",
        "\n",
        "#Get the model output from test data.\n",
        "for i in range(0, datasize_test, batchsize):\n",
        "\tx1_batch = x_test[i:i+batchsize]\n",
        "\tx1_batch = torch.from_numpy(x1_batch.copy()).float().cuda()\n",
        "\ttest_result = net.forward_test(x1_batch)\n",
        "\ttest_result = test_result.cpu().data.numpy()\n",
        "\tresult_test[i:i + batchsize] = test_result\n",
        "\n",
        "\n",
        "#plot the obtained output.\n",
        "c = ['#ff0000', '#ffff00', '#00ff00', '#00ffff', '#0000ff','#ff00ff', '#990000', '#999900', '#009900', '#009999']\n",
        "plt.figure()\n",
        "for i in range(10):\n",
        "\tfeat = result[np.where(y_train == i)]\n",
        "\tplt.plot(feat[:,0], feat[:,1], '.', c=c[i])\n",
        "plt.legend(['0', '1', '2', '3', '4', '5', '6', '7', '8', '9'])\n",
        "plt.show()\n",
        "\n",
        "plt.figure()\n",
        "for i in range(10):\n",
        "\tfeat = result_test[np.where(y_test == i)]\n",
        "\tplt.plot(feat[:,0], feat[:,1], '.', c=c[i])\n",
        "plt.legend(['0', '1', '2', '3', '4', '5', '6', '7', '8', '9'])\n",
        "plt.show()\n",
        "\n",
        "plt.figure(figsize=(6,6))\n",
        "plt.plot(range(epoch), train_loss)\n",
        "plt.plot(range(epoch), test_loss, c='#00ff00')\n",
        "plt.legend(['train loss', 'test loss'])\n",
        "plt.title('loss')\n",
        "plt.show()\n",
        "\n"
      ],
      "execution_count": 0,
      "outputs": []
    },
    {
      "cell_type": "markdown",
      "metadata": {
        "id": "S1OS1Y3mVV9E",
        "colab_type": "text"
      },
      "source": [
        "※Pytorch does not implement contrastive loss, which is a standard loss of the siamese network.\n",
        "\n",
        "So, if you want to use siamese network with contrastive loss, you need to import the following source code \"contrastive.py\"."
      ]
    },
    {
      "cell_type": "code",
      "metadata": {
        "id": "8ZykIwy0Wl72",
        "colab_type": "code",
        "colab": {}
      },
      "source": [
        "import torch\n",
        "import torch.nn\n",
        "\n",
        "\n",
        "class ContrastiveLoss(torch.nn.Module):\n",
        "\tdef __init__(self, margin=1.0):\n",
        "\t\tsuper(ContrastiveLoss, self).__init__()\n",
        "\t\tself.margin = margin\n",
        "\n",
        "\tdef check_type_forward(self, in_types):\n",
        "\t\tassert len(in_types) == 3\n",
        "\n",
        "\n",
        "\t\tx0_type, x1_type, y_type = in_types\n",
        "\t\tassert x0_type.size() == x1_type.shape\n",
        "\t\tassert x1_type.size()[0] == y_type.shape[0]\n",
        "\t\tassert x1_type.size()[0] > 0\n",
        "\t\tassert x0_type.dim() == 2\n",
        "\t\tassert x1_type.dim() == 2\n",
        "\t\tassert y_type.dim() == 1\n",
        "\n",
        "\tdef forward(self, x0, x1, y):\n",
        "\t\tself.check_type_forward((x0, x1, y))\n",
        "\n",
        "\t\tdiff = x0 - x1\n",
        "\t\tdist = diff.norm(dim=1)\n",
        "\t\tdist_sq = torch.pow(dist, 2)\n",
        "\n",
        "\t\tmdist = self.margin - dist\n",
        "\t\tdist = torch.clamp(mdist, min=0.0)\n",
        "\t\tloss = y * dist_sq + (1 - y) * torch.pow(dist, 2)\n",
        "\t\tloss = torch.sum(loss) / 2.0 / x0.size()[0]\n",
        "\t\treturn loss"
      ],
      "execution_count": 0,
      "outputs": []
    }
  ]
}