{
 "cells": [
  {
   "cell_type": "markdown",
   "metadata": {
    "colab_type": "text",
    "id": "view-in-github"
   },
   "source": [
    "<a href=\"https://colab.research.google.com/github/namoshi/dl_intro/blob/master/CNN_cifar10.ipynb\" target=\"_parent\"><img src=\"https://colab.research.google.com/assets/colab-badge.svg\" alt=\"Open In Colab\"/></a>"
   ]
  },
  {
   "cell_type": "markdown",
   "metadata": {
    "colab_type": "text",
    "id": "lAnUu7lqG6T5"
   },
   "source": [
    "## Convolutional Neural Network (CNN)\n",
    "\n",
    "Image Classification (CIAR-10) by CNN"
   ]
  },
  {
   "cell_type": "code",
   "execution_count": 1,
   "metadata": {
    "colab": {},
    "colab_type": "code",
    "id": "d1k6RAqdG6T7"
   },
   "outputs": [],
   "source": [
    "import torch\n",
    "import torch.nn as nn\n",
    "import torch.optim as optim\n",
    "import torchvision.datasets as dsets\n",
    "import torchvision.transforms as transforms\n",
    "import torch.nn.functional as F"
   ]
  },
  {
   "cell_type": "code",
   "execution_count": 2,
   "metadata": {
    "colab": {
     "base_uri": "https://localhost:8080/",
     "height": 157,
     "referenced_widgets": [
      "7114e80c1f8b4aca847703f8a014d8a7",
      "debeeb78f1d241dfb82bb7bde84dd4ac",
      "b4a4ae59292342dfa0f8d6c1251142ff",
      "3518365b90ab4730aebd3ef054e9ccd0",
      "bed83fc4215947609b67fe11bea00a5b",
      "85e4eef28deb4a608483b9392b84ae5f",
      "d073dcf55ea54958a0609ec0d44e57ab",
      "cd41e4ea14c04e7786937814163dc404"
     ]
    },
    "colab_type": "code",
    "id": "AE_KqyBzG6UA",
    "outputId": "0c5a65c7-e505-458a-94ec-21f7980563f0"
   },
   "outputs": [
    {
     "name": "stdout",
     "output_type": "stream",
     "text": [
      "Files already downloaded and verified\n",
      "Files already downloaded and verified\n",
      "train_dataset =  10000\n",
      "valid_dataset =  40000\n",
      "test_dataset =  10000\n"
     ]
    }
   ],
   "source": [
    "# load CIFAR-10 data\n",
    "train_dataset = dsets.CIFAR10('./data',\n",
    "                         train=True,\n",
    "                         download=True,\n",
    "                         transform=transforms.Compose([\n",
    "                             transforms.ToTensor(),\n",
    "                             transforms.Normalize(\n",
    "                                [0.5, 0.5, 0.5],  # RGB 平均\n",
    "                                [0.5, 0.5, 0.5]   # RGB 標準偏差\n",
    "                                )\n",
    "                         ]))\n",
    "\n",
    "test_dataset = dsets.CIFAR10('./data',\n",
    "                         train=False,\n",
    "                         download=True,\n",
    "                         transform=transforms.Compose([\n",
    "                             transforms.ToTensor(),\n",
    "                             transforms.Normalize(\n",
    "                                 [0.5, 0.5, 0.5],  # RGB 平均\n",
    "                                 [0.5, 0.5, 0.5]  # RGB 標準偏差\n",
    "                             )\n",
    "                         ]))\n",
    "\n",
    "#print(len(train_Dataset))\n",
    "\n",
    "train_dataset, valid_dataset = torch.utils.data.random_split(  # データセットの分割\n",
    "      train_dataset,   # 分割するデータセット\n",
    "      [10000, 40000])  # 分割数\n",
    " \n",
    "print('train_dataset = ', len(train_dataset))\n",
    "print('valid_dataset = ', len(valid_dataset))  \n",
    "print('test_dataset = ', len(test_dataset))\n",
    "\n"
   ]
  },
  {
   "cell_type": "code",
   "execution_count": 3,
   "metadata": {
    "colab": {},
    "colab_type": "code",
    "id": "aav3n_2KG6UG"
   },
   "outputs": [],
   "source": [
    "# Set up DataLoader\n",
    "batch=128\n",
    "\n",
    "train_loader = torch.utils.data.DataLoader(\n",
    "        dataset=train_dataset,\n",
    "        batch_size=batch,\n",
    "        shuffle=True\n",
    "    )\n",
    "\n",
    "valid_loader = torch.utils.data.DataLoader(\n",
    "        dataset=valid_dataset,\n",
    "        batch_size=batch,\n",
    "        shuffle=True\n",
    "    )\n",
    "\n",
    "test_loader = torch.utils.data.DataLoader(\n",
    "        dataset=test_dataset,\n",
    "        batch_size=batch,\n",
    "        shuffle=True\n",
    "    )\n"
   ]
  },
  {
   "cell_type": "markdown",
   "metadata": {},
   "source": [
    "## Without Dropout"
   ]
  },
  {
   "cell_type": "code",
   "execution_count": 4,
   "metadata": {
    "colab": {
     "base_uri": "https://localhost:8080/",
     "height": 197
    },
    "colab_type": "code",
    "id": "SlhzS6FfG6UK",
    "outputId": "b7f87c99-53dc-4d7e-b9cc-7b4261f73a33"
   },
   "outputs": [],
   "source": [
    "class Network(nn.Module):\n",
    "    def __init__(self):\n",
    "        super(Network, self).__init__()\n",
    "        self.conv1 = nn.Conv2d(3,32,3, padding=1)\n",
    "        self.pool1 = nn.MaxPool2d(2,2)\n",
    "        self.conv2 = nn.Conv2d(32,32,3, padding=1)\n",
    "        self.pool2 = nn.MaxPool2d(2,2)\n",
    "        self.fc1 = nn.Linear(32*8*8, 128)\n",
    "        self.fc2 = nn.Linear(128, 10)\n",
    "#        self.dropout = nn.Dropout2d(0.2)\n",
    "\n",
    "\n",
    "    def forward(self, x):\n",
    "        x = self.pool1(F.relu(self.conv1(x)))\n",
    "#        x = self.dropout(x)\n",
    "        x = self.pool2(F.relu(self.conv2(x)))\n",
    "#        x = self.dropout(x)\n",
    "        x = x.view(-1, 32 * 8 * 8)\n",
    "        x = F.relu(self.fc1(x))\n",
    "#        x = self.dropout(x)\n",
    "        x = self.fc2(x)\n",
    "        return x"
   ]
  },
  {
   "cell_type": "code",
   "execution_count": 5,
   "metadata": {},
   "outputs": [
    {
     "name": "stdout",
     "output_type": "stream",
     "text": [
      "cuda\n",
      "Network architecture for CNN\n",
      " Network(\n",
      "  (conv1): Conv2d(3, 32, kernel_size=(3, 3), stride=(1, 1), padding=(1, 1))\n",
      "  (pool1): MaxPool2d(kernel_size=2, stride=2, padding=0, dilation=1, ceil_mode=False)\n",
      "  (conv2): Conv2d(32, 32, kernel_size=(3, 3), stride=(1, 1), padding=(1, 1))\n",
      "  (pool2): MaxPool2d(kernel_size=2, stride=2, padding=0, dilation=1, ceil_mode=False)\n",
      "  (fc1): Linear(in_features=2048, out_features=128, bias=True)\n",
      "  (fc2): Linear(in_features=128, out_features=10, bias=True)\n",
      ")\n"
     ]
    }
   ],
   "source": [
    "net = Network()\n",
    "device = 'cuda' if torch.cuda.is_available() else 'cpu'\n",
    "print(device)\n",
    "\n",
    "if torch.cuda.is_available():\n",
    "  net.cuda()\n",
    "\n",
    "print('Network architecture for CNN\\n', net)"
   ]
  },
  {
   "cell_type": "code",
   "execution_count": 6,
   "metadata": {
    "colab": {},
    "colab_type": "code",
    "id": "OlCfd_HXG6UQ"
   },
   "outputs": [],
   "source": [
    "# optimizing\n",
    "wd = 0.000000001\n",
    "criterion = nn.CrossEntropyLoss()\n",
    "optimizer = optim.SGD(net.parameters(), lr=0.001, momentum=0.9, weight_decay=wd)\n",
    "#optimizer = optim.AdamW(net.parameters(), lr=0.01, weight_decay=0.001)\n"
   ]
  },
  {
   "cell_type": "code",
   "execution_count": 7,
   "metadata": {
    "colab": {},
    "colab_type": "code",
    "id": "8XOoWNm9G6UU"
   },
   "outputs": [],
   "source": [
    "# Define Class names\n",
    "classes = ('plane', 'car', 'bird', 'cat', 'deer',\n",
    "               'dog', 'frog', 'horse', 'ship', 'truck')\n",
    " "
   ]
  },
  {
   "cell_type": "code",
   "execution_count": 8,
   "metadata": {
    "colab": {
     "base_uri": "https://localhost:8080/",
     "height": 935
    },
    "colab_type": "code",
    "id": "QLVSY_raG6UZ",
    "outputId": "97c11a7c-67c2-4650-f82b-3a13dfa32e31"
   },
   "outputs": [
    {
     "name": "stdout",
     "output_type": "stream",
     "text": [
      "training start ...\n",
      "Epoch [1/100] train Loss: 0.0181, train acc: 0.1072 | val_loss: 0.0179, val_acc: 0.1082\n",
      "Epoch [2/100] train Loss: 0.0179, train acc: 0.1764 | val_loss: 0.0178, val_acc: 0.1711\n",
      "Epoch [3/100] train Loss: 0.0175, train acc: 0.2335 | val_loss: 0.0174, val_acc: 0.2240\n",
      "Epoch [4/100] train Loss: 0.0168, train acc: 0.2500 | val_loss: 0.0167, val_acc: 0.2430\n",
      "Epoch [5/100] train Loss: 0.0161, train acc: 0.2838 | val_loss: 0.0161, val_acc: 0.2778\n",
      "Epoch [6/100] train Loss: 0.0155, train acc: 0.3108 | val_loss: 0.0155, val_acc: 0.3059\n",
      "Epoch [7/100] train Loss: 0.0150, train acc: 0.3322 | val_loss: 0.0150, val_acc: 0.3245\n",
      "Epoch [8/100] train Loss: 0.0146, train acc: 0.3449 | val_loss: 0.0146, val_acc: 0.3372\n",
      "Epoch [9/100] train Loss: 0.0143, train acc: 0.3630 | val_loss: 0.0144, val_acc: 0.3555\n",
      "Epoch [10/100] train Loss: 0.0139, train acc: 0.3725 | val_loss: 0.0141, val_acc: 0.3648\n",
      "Epoch [11/100] train Loss: 0.0138, train acc: 0.3876 | val_loss: 0.0139, val_acc: 0.3770\n",
      "Epoch [12/100] train Loss: 0.0135, train acc: 0.3941 | val_loss: 0.0136, val_acc: 0.3847\n",
      "Epoch [13/100] train Loss: 0.0133, train acc: 0.4042 | val_loss: 0.0135, val_acc: 0.3903\n",
      "Epoch [14/100] train Loss: 0.0131, train acc: 0.4147 | val_loss: 0.0133, val_acc: 0.4003\n",
      "Epoch [15/100] train Loss: 0.0129, train acc: 0.4209 | val_loss: 0.0131, val_acc: 0.4065\n",
      "Epoch [16/100] train Loss: 0.0128, train acc: 0.4239 | val_loss: 0.0130, val_acc: 0.4102\n",
      "Epoch [17/100] train Loss: 0.0125, train acc: 0.4368 | val_loss: 0.0128, val_acc: 0.4196\n",
      "Epoch [18/100] train Loss: 0.0124, train acc: 0.4387 | val_loss: 0.0127, val_acc: 0.4219\n",
      "Epoch [19/100] train Loss: 0.0121, train acc: 0.4499 | val_loss: 0.0124, val_acc: 0.4280\n",
      "Epoch [20/100] train Loss: 0.0119, train acc: 0.4650 | val_loss: 0.0122, val_acc: 0.4434\n",
      "Epoch [21/100] train Loss: 0.0117, train acc: 0.4700 | val_loss: 0.0121, val_acc: 0.4453\n",
      "Epoch [22/100] train Loss: 0.0116, train acc: 0.4759 | val_loss: 0.0119, val_acc: 0.4525\n",
      "Epoch [23/100] train Loss: 0.0114, train acc: 0.4878 | val_loss: 0.0118, val_acc: 0.4647\n",
      "Epoch [24/100] train Loss: 0.0111, train acc: 0.4926 | val_loss: 0.0116, val_acc: 0.4697\n",
      "Epoch [25/100] train Loss: 0.0110, train acc: 0.4990 | val_loss: 0.0115, val_acc: 0.4706\n",
      "Epoch [26/100] train Loss: 0.0108, train acc: 0.5104 | val_loss: 0.0114, val_acc: 0.4812\n",
      "Epoch [27/100] train Loss: 0.0108, train acc: 0.5149 | val_loss: 0.0113, val_acc: 0.4808\n",
      "Epoch [28/100] train Loss: 0.0106, train acc: 0.5186 | val_loss: 0.0112, val_acc: 0.4889\n",
      "Epoch [29/100] train Loss: 0.0105, train acc: 0.5205 | val_loss: 0.0111, val_acc: 0.4880\n",
      "Epoch [30/100] train Loss: 0.0103, train acc: 0.5387 | val_loss: 0.0110, val_acc: 0.4983\n",
      "Epoch [31/100] train Loss: 0.0102, train acc: 0.5410 | val_loss: 0.0109, val_acc: 0.5037\n",
      "Epoch [32/100] train Loss: 0.0101, train acc: 0.5434 | val_loss: 0.0108, val_acc: 0.5023\n",
      "Epoch [33/100] train Loss: 0.0100, train acc: 0.5463 | val_loss: 0.0108, val_acc: 0.5060\n",
      "Epoch [34/100] train Loss: 0.0100, train acc: 0.5534 | val_loss: 0.0108, val_acc: 0.5090\n",
      "Epoch [35/100] train Loss: 0.0099, train acc: 0.5525 | val_loss: 0.0107, val_acc: 0.5069\n",
      "Epoch [36/100] train Loss: 0.0097, train acc: 0.5653 | val_loss: 0.0106, val_acc: 0.5168\n",
      "Epoch [37/100] train Loss: 0.0097, train acc: 0.5695 | val_loss: 0.0106, val_acc: 0.5186\n",
      "Epoch [38/100] train Loss: 0.0095, train acc: 0.5738 | val_loss: 0.0105, val_acc: 0.5238\n",
      "Epoch [39/100] train Loss: 0.0095, train acc: 0.5811 | val_loss: 0.0105, val_acc: 0.5241\n",
      "Epoch [40/100] train Loss: 0.0094, train acc: 0.5784 | val_loss: 0.0104, val_acc: 0.5240\n",
      "Epoch [41/100] train Loss: 0.0092, train acc: 0.5909 | val_loss: 0.0103, val_acc: 0.5294\n",
      "Epoch [42/100] train Loss: 0.0093, train acc: 0.5924 | val_loss: 0.0104, val_acc: 0.5306\n",
      "Epoch [43/100] train Loss: 0.0090, train acc: 0.5996 | val_loss: 0.0102, val_acc: 0.5323\n",
      "Epoch [44/100] train Loss: 0.0092, train acc: 0.5888 | val_loss: 0.0105, val_acc: 0.5264\n",
      "Epoch [45/100] train Loss: 0.0089, train acc: 0.6048 | val_loss: 0.0102, val_acc: 0.5345\n",
      "Epoch [46/100] train Loss: 0.0088, train acc: 0.6134 | val_loss: 0.0102, val_acc: 0.5391\n",
      "Epoch [47/100] train Loss: 0.0090, train acc: 0.6011 | val_loss: 0.0104, val_acc: 0.5312\n",
      "Epoch [48/100] train Loss: 0.0088, train acc: 0.6100 | val_loss: 0.0102, val_acc: 0.5353\n",
      "Epoch [49/100] train Loss: 0.0086, train acc: 0.6135 | val_loss: 0.0102, val_acc: 0.5400\n",
      "Epoch [50/100] train Loss: 0.0084, train acc: 0.6258 | val_loss: 0.0101, val_acc: 0.5451\n",
      "Epoch [51/100] train Loss: 0.0086, train acc: 0.6206 | val_loss: 0.0102, val_acc: 0.5413\n",
      "Epoch [52/100] train Loss: 0.0082, train acc: 0.6396 | val_loss: 0.0099, val_acc: 0.5531\n",
      "Epoch [53/100] train Loss: 0.0081, train acc: 0.6438 | val_loss: 0.0100, val_acc: 0.5516\n",
      "Epoch [54/100] train Loss: 0.0082, train acc: 0.6366 | val_loss: 0.0100, val_acc: 0.5467\n",
      "Epoch [55/100] train Loss: 0.0081, train acc: 0.6435 | val_loss: 0.0100, val_acc: 0.5494\n",
      "Epoch [56/100] train Loss: 0.0079, train acc: 0.6552 | val_loss: 0.0099, val_acc: 0.5557\n",
      "Epoch [57/100] train Loss: 0.0078, train acc: 0.6595 | val_loss: 0.0098, val_acc: 0.5589\n",
      "Epoch [58/100] train Loss: 0.0079, train acc: 0.6589 | val_loss: 0.0099, val_acc: 0.5516\n",
      "Epoch [59/100] train Loss: 0.0077, train acc: 0.6600 | val_loss: 0.0099, val_acc: 0.5558\n",
      "Epoch [60/100] train Loss: 0.0076, train acc: 0.6724 | val_loss: 0.0097, val_acc: 0.5625\n",
      "Epoch [61/100] train Loss: 0.0075, train acc: 0.6670 | val_loss: 0.0099, val_acc: 0.5549\n",
      "Epoch [62/100] train Loss: 0.0073, train acc: 0.6814 | val_loss: 0.0097, val_acc: 0.5637\n",
      "Epoch [63/100] train Loss: 0.0074, train acc: 0.6772 | val_loss: 0.0099, val_acc: 0.5605\n",
      "Epoch [64/100] train Loss: 0.0072, train acc: 0.6858 | val_loss: 0.0098, val_acc: 0.5662\n",
      "Epoch [65/100] train Loss: 0.0071, train acc: 0.6890 | val_loss: 0.0098, val_acc: 0.5641\n",
      "Epoch [66/100] train Loss: 0.0072, train acc: 0.6791 | val_loss: 0.0100, val_acc: 0.5577\n",
      "Epoch [67/100] train Loss: 0.0069, train acc: 0.6977 | val_loss: 0.0098, val_acc: 0.5670\n",
      "Epoch [68/100] train Loss: 0.0071, train acc: 0.6879 | val_loss: 0.0100, val_acc: 0.5593\n",
      "Epoch [69/100] train Loss: 0.0067, train acc: 0.7142 | val_loss: 0.0097, val_acc: 0.5722\n",
      "Epoch [70/100] train Loss: 0.0067, train acc: 0.7054 | val_loss: 0.0098, val_acc: 0.5654\n",
      "Epoch [71/100] train Loss: 0.0068, train acc: 0.6992 | val_loss: 0.0100, val_acc: 0.5599\n",
      "Epoch [72/100] train Loss: 0.0067, train acc: 0.7073 | val_loss: 0.0099, val_acc: 0.5663\n",
      "Epoch [73/100] train Loss: 0.0064, train acc: 0.7259 | val_loss: 0.0097, val_acc: 0.5713\n",
      "Epoch [74/100] train Loss: 0.0069, train acc: 0.6913 | val_loss: 0.0104, val_acc: 0.5513\n",
      "Epoch [75/100] train Loss: 0.0062, train acc: 0.7267 | val_loss: 0.0098, val_acc: 0.5743\n",
      "Epoch [76/100] train Loss: 0.0062, train acc: 0.7331 | val_loss: 0.0099, val_acc: 0.5673\n",
      "Epoch [77/100] train Loss: 0.0063, train acc: 0.7243 | val_loss: 0.0100, val_acc: 0.5639\n",
      "Epoch [78/100] train Loss: 0.0062, train acc: 0.7294 | val_loss: 0.0101, val_acc: 0.5635\n",
      "Epoch [79/100] train Loss: 0.0059, train acc: 0.7467 | val_loss: 0.0099, val_acc: 0.5694\n",
      "Epoch [80/100] train Loss: 0.0057, train acc: 0.7573 | val_loss: 0.0099, val_acc: 0.5746\n",
      "Epoch [81/100] train Loss: 0.0059, train acc: 0.7399 | val_loss: 0.0102, val_acc: 0.5627\n",
      "Epoch [82/100] train Loss: 0.0056, train acc: 0.7634 | val_loss: 0.0100, val_acc: 0.5729\n",
      "Epoch [83/100] train Loss: 0.0057, train acc: 0.7542 | val_loss: 0.0102, val_acc: 0.5646\n",
      "Epoch [84/100] train Loss: 0.0054, train acc: 0.7735 | val_loss: 0.0101, val_acc: 0.5740\n",
      "Epoch [85/100] train Loss: 0.0053, train acc: 0.7712 | val_loss: 0.0101, val_acc: 0.5729\n",
      "Epoch [86/100] train Loss: 0.0054, train acc: 0.7766 | val_loss: 0.0103, val_acc: 0.5708\n",
      "Epoch [87/100] train Loss: 0.0051, train acc: 0.7871 | val_loss: 0.0101, val_acc: 0.5734\n",
      "Epoch [88/100] train Loss: 0.0055, train acc: 0.7577 | val_loss: 0.0105, val_acc: 0.5662\n",
      "Epoch [89/100] train Loss: 0.0050, train acc: 0.7886 | val_loss: 0.0103, val_acc: 0.5682\n",
      "Epoch [90/100] train Loss: 0.0047, train acc: 0.8052 | val_loss: 0.0101, val_acc: 0.5804\n",
      "Epoch [91/100] train Loss: 0.0052, train acc: 0.7771 | val_loss: 0.0108, val_acc: 0.5615\n",
      "Epoch [92/100] train Loss: 0.0048, train acc: 0.8005 | val_loss: 0.0106, val_acc: 0.5700\n",
      "Epoch [93/100] train Loss: 0.0044, train acc: 0.8232 | val_loss: 0.0104, val_acc: 0.5752\n",
      "Epoch [94/100] train Loss: 0.0044, train acc: 0.8189 | val_loss: 0.0104, val_acc: 0.5744\n",
      "Epoch [95/100] train Loss: 0.0042, train acc: 0.8280 | val_loss: 0.0104, val_acc: 0.5762\n",
      "Epoch [96/100] train Loss: 0.0041, train acc: 0.8378 | val_loss: 0.0105, val_acc: 0.5741\n",
      "Epoch [97/100] train Loss: 0.0039, train acc: 0.8423 | val_loss: 0.0106, val_acc: 0.5769\n",
      "Epoch [98/100] train Loss: 0.0043, train acc: 0.8206 | val_loss: 0.0109, val_acc: 0.5667\n",
      "Epoch [99/100] train Loss: 0.0039, train acc: 0.8447 | val_loss: 0.0108, val_acc: 0.5753\n",
      "Epoch [100/100] train Loss: 0.0036, train acc: 0.8629 | val_loss: 0.0107, val_acc: 0.5775\n"
     ]
    }
   ],
   "source": [
    "###  training\n",
    "print ('training start ...')\n",
    "num_epochs = 100   \n",
    "\n",
    "# initialize list for plot graph after training\n",
    "train_loss_list, train_acc_list, val_loss_list, val_acc_list = [], [], [], []\n",
    "\n",
    "for epoch in range(num_epochs):\n",
    "    # initialize each epoch\n",
    "    train_loss, train_acc, val_loss, val_acc = 0, 0, 0, 0\n",
    "    \n",
    "    # ======== train_mode (Backprop) ======\n",
    "    net.train()\n",
    "    for i, (images, labels) in enumerate(train_loader):  # get mini batch samples\n",
    "        #viewで28×28×１画像を１次元に変換し、deviceへ転送\n",
    "#        images, labels = images.view(-1, 28*28*1).to(device), labels.to(device)\n",
    "        images, labels = images.to(device), labels.to(device)\n",
    "        optimizer.zero_grad()  # Reset the gradients\n",
    "        outputs = net(images)  # forward computation\n",
    "        loss = criterion(outputs, labels)  # loss\n",
    "        loss.backward()  # backward computation        \n",
    "        optimizer.step()  # optimization\n",
    "    \n",
    "    # ======== eval_mode (training samples) ======\n",
    "    net.eval()\n",
    "    with torch.no_grad():  # no computation of gradients\n",
    "      for images, labels in train_loader:        \n",
    "#          images, labels = images.view(-1, 28*28*1).to(device), labels.to(device)\n",
    "          images, labels = images.to(device), labels.to(device)\n",
    "          outputs = net(images)\n",
    "          loss = criterion(outputs, labels)\n",
    "          train_loss += loss.item()\n",
    "          acc = (outputs.max(1)[1] == labels).sum()\n",
    "          train_acc += acc.item()\n",
    "    avg_train_loss = train_loss / len(train_loader.dataset)\n",
    "    avg_train_acc = train_acc / len(train_loader.dataset)\n",
    "\n",
    "    # ======== eval_mode (validation samples) ======\n",
    "    net.eval()\n",
    "    with torch.no_grad():  # no comptutation of gradients\n",
    "      for images, labels in valid_loader:        \n",
    "#          images, labels = images.view(-1, 28*28*1).to(device), labels.to(device)\n",
    "          images, labels = images.to(device), labels.to(device)\n",
    "          outputs = net(images)\n",
    "          loss = criterion(outputs, labels)\n",
    "          val_loss += loss.item()\n",
    "          acc = (outputs.max(1)[1] == labels).sum()\n",
    "          val_acc += acc.item()\n",
    "    avg_val_loss = val_loss / len(valid_loader.dataset)\n",
    "    avg_val_acc = val_acc / len(valid_loader.dataset)\n",
    "    \n",
    "    # print log\n",
    "    print ('Epoch [{}/{}] train Loss: {loss:.4f}, train acc: {acc:.4f} | val_loss: {val_loss:.4f}, val_acc: {val_acc:.4f}' \n",
    "                   .format(epoch+1, num_epochs, i+1, loss=avg_train_loss, acc=avg_train_acc, val_loss=avg_val_loss, val_acc=avg_val_acc))\n",
    "\n",
    "    # append list for polt graph after training\n",
    "    train_loss_list.append(avg_train_loss)\n",
    "    train_acc_list.append(avg_train_acc)\n",
    "    val_loss_list.append(avg_val_loss)\n",
    "    val_acc_list.append(avg_val_acc)\n"
   ]
  },
  {
   "cell_type": "code",
   "execution_count": 9,
   "metadata": {
    "colab": {
     "base_uri": "https://localhost:8080/",
     "height": 35
    },
    "colab_type": "code",
    "id": "lcVFP0RKG6Uf",
    "outputId": "768a56dd-019e-4edd-8221-93f7e5f26699"
   },
   "outputs": [
    {
     "name": "stdout",
     "output_type": "stream",
     "text": [
      "test_accuracy: 57.61 %\n"
     ]
    }
   ],
   "source": [
    "# ======== eval_mode (test samples) ======\n",
    "net.eval()\n",
    "with torch.no_grad():\n",
    "    total = 0\n",
    "    test_acc = 0\n",
    "    for images, labels in test_loader:        \n",
    "#        images, labels = images.view(-1, 28 * 28 * 1 ).to(device), labels.to(device)\n",
    "        images, labels = images.to(device), labels.to(device)\n",
    "        outputs = net(images)\n",
    "        test_acc += (outputs.max(1)[1] == labels).sum().item()\n",
    "        total += labels.size(0)\n",
    "    print('test_accuracy: {} %'.format(100 * test_acc / total)) \n",
    "\n",
    "# save weights (You can save the model by uncomment the following line)\n",
    "#torch.save(net.state_dict(), 'mnist_net.ckpt')\n"
   ]
  },
  {
   "cell_type": "code",
   "execution_count": 10,
   "metadata": {
    "colab": {
     "base_uri": "https://localhost:8080/",
     "height": 573
    },
    "colab_type": "code",
    "id": "tEEIBGsJG6Uk",
    "outputId": "48c8f044-1516-4235-81d3-e0be19bfd714"
   },
   "outputs": [
    {
     "data": {
      "image/png": "[encoded data removed]",
      "text/plain": [
       "<Figure size 640x480 with 1 Axes>"
      ]
     },
     "metadata": {},
     "output_type": "display_data"
    },
    {
     "data": {
      "image/png": "[encoded data removed]",
      "text/plain": [
       "<Figure size 640x480 with 1 Axes>"
      ]
     },
     "metadata": {},
     "output_type": "display_data"
    }
   ],
   "source": [
    "# plot graph\n",
    "import matplotlib.pyplot as plt\n",
    "\n",
    "plt.figure()\n",
    "plt.plot(range(num_epochs), train_loss_list, color='blue', linestyle='-', label='train_loss')\n",
    "plt.plot(range(num_epochs), val_loss_list, color='green', linestyle='--', label='val_loss')\n",
    "plt.ylim([0.0,0.02])\n",
    "plt.legend()\n",
    "plt.xlabel('epoch')\n",
    "plt.ylabel('loss')\n",
    "plt.title('Training and validation loss')\n",
    "plt.grid()\n",
    "plt.savefig('CNN_cifar10_loss_nodropout.png')\n",
    "plt.show()\n",
    "\n",
    "plt.figure()\n",
    "plt.plot(range(num_epochs), train_acc_list, color='blue', linestyle='-', label='train_acc')\n",
    "plt.plot(range(num_epochs), val_acc_list, color='green', linestyle='--', label='val_acc')\n",
    "plt.ylim([0.5, 1.0])\n",
    "plt.legend()\n",
    "plt.xlabel('epoch')\n",
    "plt.ylabel('acc')\n",
    "plt.title('Training and validation accuracy')\n",
    "plt.grid()\n",
    "plt.savefig('CNN_cifar10_acc_nodropout.png')\n",
    "plt.show()"
   ]
  },
  {
   "cell_type": "markdown",
   "metadata": {
    "colab": {},
    "colab_type": "code",
    "id": "g1jdTzc0G6Up"
   },
   "source": [
    "## With Dropout"
   ]
  },
  {
   "cell_type": "code",
   "execution_count": 17,
   "metadata": {
    "colab": {
     "base_uri": "https://localhost:8080/",
     "height": 197
    },
    "colab_type": "code",
    "id": "SlhzS6FfG6UK",
    "outputId": "b7f87c99-53dc-4d7e-b9cc-7b4261f73a33"
   },
   "outputs": [],
   "source": [
    "dropout_prob = 0.3\n",
    "\n",
    "class Network(nn.Module):\n",
    "    def __init__(self):\n",
    "        super(Network, self).__init__()\n",
    "        self.conv1 = nn.Conv2d(3,32,3, padding=1)\n",
    "        self.pool1 = nn.MaxPool2d(2,2)\n",
    "        self.conv2 = nn.Conv2d(32,32,3, padding=1)\n",
    "        self.pool2 = nn.MaxPool2d(2,2)\n",
    "        self.fc1 = nn.Linear(32*8*8, 128)\n",
    "        self.fc2 = nn.Linear(128, 10)\n",
    "        self.dropout = nn.Dropout(dropout_prob)\n",
    "\n",
    "\n",
    "    def forward(self, x):\n",
    "        x = self.pool1(F.relu(self.conv1(x)))\n",
    "        x = self.dropout(x)\n",
    "        x = self.pool2(F.relu(self.conv2(x)))\n",
    "        x = self.dropout(x)\n",
    "        x = x.view(-1, 32 * 8 * 8)\n",
    "        x = F.relu(self.fc1(x))\n",
    "        x = self.dropout(x)\n",
    "        x = self.fc2(x)\n",
    "        return x"
   ]
  },
  {
   "cell_type": "code",
   "execution_count": 18,
   "metadata": {},
   "outputs": [
    {
     "name": "stdout",
     "output_type": "stream",
     "text": [
      "cuda\n",
      "Network architecture for CNN\n",
      " Network(\n",
      "  (conv1): Conv2d(3, 32, kernel_size=(3, 3), stride=(1, 1), padding=(1, 1))\n",
      "  (pool1): MaxPool2d(kernel_size=2, stride=2, padding=0, dilation=1, ceil_mode=False)\n",
      "  (conv2): Conv2d(32, 32, kernel_size=(3, 3), stride=(1, 1), padding=(1, 1))\n",
      "  (pool2): MaxPool2d(kernel_size=2, stride=2, padding=0, dilation=1, ceil_mode=False)\n",
      "  (fc1): Linear(in_features=2048, out_features=128, bias=True)\n",
      "  (fc2): Linear(in_features=128, out_features=10, bias=True)\n",
      "  (dropout): Dropout(p=0.3, inplace=False)\n",
      ")\n"
     ]
    }
   ],
   "source": [
    "net = Network()\n",
    "device = 'cuda' if torch.cuda.is_available() else 'cpu'\n",
    "print(device)\n",
    "\n",
    "if torch.cuda.is_available():\n",
    "  net.cuda()\n",
    "\n",
    "print('Network architecture for CNN\\n', net)"
   ]
  },
  {
   "cell_type": "code",
   "execution_count": 19,
   "metadata": {
    "colab": {},
    "colab_type": "code",
    "id": "OlCfd_HXG6UQ"
   },
   "outputs": [],
   "source": [
    "# optimizing\n",
    "wd = 0.000000001\n",
    "criterion = nn.CrossEntropyLoss()\n",
    "optimizer = optim.SGD(net.parameters(), lr=0.001, momentum=0.9, weight_decay=wd)\n",
    "#optimizer = optim.AdamW(net.parameters(), lr=0.01, weight_decay=0.001)\n"
   ]
  },
  {
   "cell_type": "code",
   "execution_count": 20,
   "metadata": {
    "colab": {},
    "colab_type": "code",
    "id": "8XOoWNm9G6UU"
   },
   "outputs": [],
   "source": [
    "# Define Class names\n",
    "classes = ('plane', 'car', 'bird', 'cat', 'deer',\n",
    "               'dog', 'frog', 'horse', 'ship', 'truck')\n",
    " "
   ]
  },
  {
   "cell_type": "code",
   "execution_count": 21,
   "metadata": {
    "colab": {
     "base_uri": "https://localhost:8080/",
     "height": 935
    },
    "colab_type": "code",
    "id": "QLVSY_raG6UZ",
    "outputId": "97c11a7c-67c2-4650-f82b-3a13dfa32e31"
   },
   "outputs": [
    {
     "name": "stdout",
     "output_type": "stream",
     "text": [
      "training start ...\n",
      "Epoch [1/100] train Loss: 0.0181, train acc: 0.1070 | val_loss: 0.0179, val_acc: 0.0988\n",
      "Epoch [2/100] train Loss: 0.0179, train acc: 0.1493 | val_loss: 0.0178, val_acc: 0.1415\n",
      "Epoch [3/100] train Loss: 0.0176, train acc: 0.2275 | val_loss: 0.0174, val_acc: 0.2198\n",
      "Epoch [4/100] train Loss: 0.0170, train acc: 0.2509 | val_loss: 0.0169, val_acc: 0.2452\n",
      "Epoch [5/100] train Loss: 0.0164, train acc: 0.2738 | val_loss: 0.0164, val_acc: 0.2655\n",
      "Epoch [6/100] train Loss: 0.0159, train acc: 0.2978 | val_loss: 0.0159, val_acc: 0.2900\n",
      "Epoch [7/100] train Loss: 0.0155, train acc: 0.3152 | val_loss: 0.0155, val_acc: 0.3099\n",
      "Epoch [8/100] train Loss: 0.0151, train acc: 0.3310 | val_loss: 0.0151, val_acc: 0.3224\n",
      "Epoch [9/100] train Loss: 0.0148, train acc: 0.3395 | val_loss: 0.0148, val_acc: 0.3309\n",
      "Epoch [10/100] train Loss: 0.0145, train acc: 0.3536 | val_loss: 0.0146, val_acc: 0.3442\n",
      "Epoch [11/100] train Loss: 0.0143, train acc: 0.3647 | val_loss: 0.0144, val_acc: 0.3548\n",
      "Epoch [12/100] train Loss: 0.0141, train acc: 0.3771 | val_loss: 0.0142, val_acc: 0.3672\n",
      "Epoch [13/100] train Loss: 0.0139, train acc: 0.3808 | val_loss: 0.0140, val_acc: 0.3687\n",
      "Epoch [14/100] train Loss: 0.0137, train acc: 0.3878 | val_loss: 0.0139, val_acc: 0.3760\n",
      "Epoch [15/100] train Loss: 0.0136, train acc: 0.3968 | val_loss: 0.0137, val_acc: 0.3821\n",
      "Epoch [16/100] train Loss: 0.0134, train acc: 0.4069 | val_loss: 0.0136, val_acc: 0.3914\n",
      "Epoch [17/100] train Loss: 0.0134, train acc: 0.4084 | val_loss: 0.0135, val_acc: 0.3910\n",
      "Epoch [18/100] train Loss: 0.0132, train acc: 0.4109 | val_loss: 0.0134, val_acc: 0.3936\n",
      "Epoch [19/100] train Loss: 0.0130, train acc: 0.4288 | val_loss: 0.0132, val_acc: 0.4073\n",
      "Epoch [20/100] train Loss: 0.0128, train acc: 0.4289 | val_loss: 0.0130, val_acc: 0.4124\n",
      "Epoch [21/100] train Loss: 0.0128, train acc: 0.4368 | val_loss: 0.0129, val_acc: 0.4160\n",
      "Epoch [22/100] train Loss: 0.0126, train acc: 0.4408 | val_loss: 0.0128, val_acc: 0.4186\n",
      "Epoch [23/100] train Loss: 0.0126, train acc: 0.4401 | val_loss: 0.0128, val_acc: 0.4200\n",
      "Epoch [24/100] train Loss: 0.0124, train acc: 0.4509 | val_loss: 0.0126, val_acc: 0.4298\n",
      "Epoch [25/100] train Loss: 0.0123, train acc: 0.4564 | val_loss: 0.0125, val_acc: 0.4331\n",
      "Epoch [26/100] train Loss: 0.0121, train acc: 0.4611 | val_loss: 0.0124, val_acc: 0.4396\n",
      "Epoch [27/100] train Loss: 0.0120, train acc: 0.4691 | val_loss: 0.0123, val_acc: 0.4413\n",
      "Epoch [28/100] train Loss: 0.0119, train acc: 0.4705 | val_loss: 0.0122, val_acc: 0.4462\n",
      "Epoch [29/100] train Loss: 0.0119, train acc: 0.4702 | val_loss: 0.0121, val_acc: 0.4475\n",
      "Epoch [30/100] train Loss: 0.0117, train acc: 0.4789 | val_loss: 0.0120, val_acc: 0.4538\n",
      "Epoch [31/100] train Loss: 0.0116, train acc: 0.4811 | val_loss: 0.0120, val_acc: 0.4524\n",
      "Epoch [32/100] train Loss: 0.0115, train acc: 0.4871 | val_loss: 0.0118, val_acc: 0.4583\n",
      "Epoch [33/100] train Loss: 0.0114, train acc: 0.4914 | val_loss: 0.0118, val_acc: 0.4629\n",
      "Epoch [34/100] train Loss: 0.0113, train acc: 0.4980 | val_loss: 0.0117, val_acc: 0.4679\n",
      "Epoch [35/100] train Loss: 0.0113, train acc: 0.4955 | val_loss: 0.0117, val_acc: 0.4662\n",
      "Epoch [36/100] train Loss: 0.0111, train acc: 0.5028 | val_loss: 0.0116, val_acc: 0.4727\n",
      "Epoch [37/100] train Loss: 0.0111, train acc: 0.5019 | val_loss: 0.0116, val_acc: 0.4712\n",
      "Epoch [38/100] train Loss: 0.0110, train acc: 0.5098 | val_loss: 0.0114, val_acc: 0.4783\n",
      "Epoch [39/100] train Loss: 0.0109, train acc: 0.5099 | val_loss: 0.0114, val_acc: 0.4791\n",
      "Epoch [40/100] train Loss: 0.0109, train acc: 0.5110 | val_loss: 0.0114, val_acc: 0.4757\n",
      "Epoch [41/100] train Loss: 0.0108, train acc: 0.5161 | val_loss: 0.0113, val_acc: 0.4830\n",
      "Epoch [42/100] train Loss: 0.0108, train acc: 0.5187 | val_loss: 0.0113, val_acc: 0.4839\n",
      "Epoch [43/100] train Loss: 0.0107, train acc: 0.5229 | val_loss: 0.0112, val_acc: 0.4874\n",
      "Epoch [44/100] train Loss: 0.0106, train acc: 0.5236 | val_loss: 0.0111, val_acc: 0.4899\n",
      "Epoch [45/100] train Loss: 0.0106, train acc: 0.5256 | val_loss: 0.0111, val_acc: 0.4920\n",
      "Epoch [46/100] train Loss: 0.0105, train acc: 0.5302 | val_loss: 0.0110, val_acc: 0.4971\n",
      "Epoch [47/100] train Loss: 0.0104, train acc: 0.5328 | val_loss: 0.0110, val_acc: 0.4983\n",
      "Epoch [48/100] train Loss: 0.0104, train acc: 0.5337 | val_loss: 0.0110, val_acc: 0.4989\n",
      "Epoch [49/100] train Loss: 0.0103, train acc: 0.5434 | val_loss: 0.0109, val_acc: 0.5021\n",
      "Epoch [50/100] train Loss: 0.0103, train acc: 0.5407 | val_loss: 0.0109, val_acc: 0.4964\n",
      "Epoch [51/100] train Loss: 0.0102, train acc: 0.5454 | val_loss: 0.0108, val_acc: 0.5070\n",
      "Epoch [52/100] train Loss: 0.0102, train acc: 0.5437 | val_loss: 0.0109, val_acc: 0.5026\n",
      "Epoch [53/100] train Loss: 0.0101, train acc: 0.5499 | val_loss: 0.0108, val_acc: 0.5090\n",
      "Epoch [54/100] train Loss: 0.0100, train acc: 0.5568 | val_loss: 0.0107, val_acc: 0.5124\n",
      "Epoch [55/100] train Loss: 0.0100, train acc: 0.5567 | val_loss: 0.0107, val_acc: 0.5099\n",
      "Epoch [56/100] train Loss: 0.0099, train acc: 0.5584 | val_loss: 0.0107, val_acc: 0.5144\n",
      "Epoch [57/100] train Loss: 0.0099, train acc: 0.5637 | val_loss: 0.0106, val_acc: 0.5124\n",
      "Epoch [58/100] train Loss: 0.0100, train acc: 0.5577 | val_loss: 0.0107, val_acc: 0.5114\n",
      "Epoch [59/100] train Loss: 0.0098, train acc: 0.5682 | val_loss: 0.0105, val_acc: 0.5181\n",
      "Epoch [60/100] train Loss: 0.0097, train acc: 0.5717 | val_loss: 0.0105, val_acc: 0.5196\n",
      "Epoch [61/100] train Loss: 0.0096, train acc: 0.5713 | val_loss: 0.0105, val_acc: 0.5203\n",
      "Epoch [62/100] train Loss: 0.0096, train acc: 0.5734 | val_loss: 0.0104, val_acc: 0.5221\n",
      "Epoch [63/100] train Loss: 0.0095, train acc: 0.5788 | val_loss: 0.0104, val_acc: 0.5263\n",
      "Epoch [64/100] train Loss: 0.0095, train acc: 0.5796 | val_loss: 0.0104, val_acc: 0.5238\n",
      "Epoch [65/100] train Loss: 0.0094, train acc: 0.5874 | val_loss: 0.0103, val_acc: 0.5286\n",
      "Epoch [66/100] train Loss: 0.0093, train acc: 0.5894 | val_loss: 0.0103, val_acc: 0.5320\n",
      "Epoch [67/100] train Loss: 0.0093, train acc: 0.5936 | val_loss: 0.0102, val_acc: 0.5326\n",
      "Epoch [68/100] train Loss: 0.0093, train acc: 0.5913 | val_loss: 0.0102, val_acc: 0.5312\n",
      "Epoch [69/100] train Loss: 0.0092, train acc: 0.5926 | val_loss: 0.0102, val_acc: 0.5339\n",
      "Epoch [70/100] train Loss: 0.0091, train acc: 0.5975 | val_loss: 0.0101, val_acc: 0.5360\n",
      "Epoch [71/100] train Loss: 0.0092, train acc: 0.5991 | val_loss: 0.0102, val_acc: 0.5352\n",
      "Epoch [72/100] train Loss: 0.0091, train acc: 0.6053 | val_loss: 0.0102, val_acc: 0.5367\n",
      "Epoch [73/100] train Loss: 0.0090, train acc: 0.6060 | val_loss: 0.0101, val_acc: 0.5370\n",
      "Epoch [74/100] train Loss: 0.0090, train acc: 0.6068 | val_loss: 0.0100, val_acc: 0.5418\n",
      "Epoch [75/100] train Loss: 0.0090, train acc: 0.6076 | val_loss: 0.0101, val_acc: 0.5388\n",
      "Epoch [76/100] train Loss: 0.0089, train acc: 0.6101 | val_loss: 0.0101, val_acc: 0.5389\n",
      "Epoch [77/100] train Loss: 0.0088, train acc: 0.6155 | val_loss: 0.0100, val_acc: 0.5438\n",
      "Epoch [78/100] train Loss: 0.0088, train acc: 0.6176 | val_loss: 0.0100, val_acc: 0.5438\n",
      "Epoch [79/100] train Loss: 0.0087, train acc: 0.6227 | val_loss: 0.0099, val_acc: 0.5478\n",
      "Epoch [80/100] train Loss: 0.0087, train acc: 0.6217 | val_loss: 0.0099, val_acc: 0.5457\n",
      "Epoch [81/100] train Loss: 0.0086, train acc: 0.6264 | val_loss: 0.0099, val_acc: 0.5510\n",
      "Epoch [82/100] train Loss: 0.0086, train acc: 0.6240 | val_loss: 0.0099, val_acc: 0.5511\n",
      "Epoch [83/100] train Loss: 0.0086, train acc: 0.6246 | val_loss: 0.0099, val_acc: 0.5495\n",
      "Epoch [84/100] train Loss: 0.0085, train acc: 0.6292 | val_loss: 0.0099, val_acc: 0.5518\n",
      "Epoch [85/100] train Loss: 0.0085, train acc: 0.6330 | val_loss: 0.0098, val_acc: 0.5534\n",
      "Epoch [86/100] train Loss: 0.0084, train acc: 0.6393 | val_loss: 0.0098, val_acc: 0.5540\n",
      "Epoch [87/100] train Loss: 0.0084, train acc: 0.6378 | val_loss: 0.0098, val_acc: 0.5545\n",
      "Epoch [88/100] train Loss: 0.0084, train acc: 0.6355 | val_loss: 0.0098, val_acc: 0.5538\n",
      "Epoch [89/100] train Loss: 0.0083, train acc: 0.6402 | val_loss: 0.0097, val_acc: 0.5587\n",
      "Epoch [90/100] train Loss: 0.0082, train acc: 0.6420 | val_loss: 0.0097, val_acc: 0.5590\n",
      "Epoch [91/100] train Loss: 0.0082, train acc: 0.6453 | val_loss: 0.0097, val_acc: 0.5568\n",
      "Epoch [92/100] train Loss: 0.0081, train acc: 0.6477 | val_loss: 0.0096, val_acc: 0.5616\n",
      "Epoch [93/100] train Loss: 0.0081, train acc: 0.6485 | val_loss: 0.0097, val_acc: 0.5602\n",
      "Epoch [94/100] train Loss: 0.0080, train acc: 0.6506 | val_loss: 0.0096, val_acc: 0.5643\n",
      "Epoch [95/100] train Loss: 0.0080, train acc: 0.6560 | val_loss: 0.0096, val_acc: 0.5647\n",
      "Epoch [96/100] train Loss: 0.0081, train acc: 0.6532 | val_loss: 0.0097, val_acc: 0.5598\n",
      "Epoch [97/100] train Loss: 0.0079, train acc: 0.6595 | val_loss: 0.0096, val_acc: 0.5654\n",
      "Epoch [98/100] train Loss: 0.0079, train acc: 0.6618 | val_loss: 0.0096, val_acc: 0.5654\n",
      "Epoch [99/100] train Loss: 0.0079, train acc: 0.6592 | val_loss: 0.0095, val_acc: 0.5659\n",
      "Epoch [100/100] train Loss: 0.0078, train acc: 0.6677 | val_loss: 0.0095, val_acc: 0.5697\n"
     ]
    }
   ],
   "source": [
    "###  training\n",
    "print ('training start ...')\n",
    "num_epochs = 100   \n",
    "\n",
    "# initialize list for plot graph after training\n",
    "train_loss_list, train_acc_list, val_loss_list, val_acc_list = [], [], [], []\n",
    "\n",
    "for epoch in range(num_epochs):\n",
    "    # initialize each epoch\n",
    "    train_loss, train_acc, val_loss, val_acc = 0, 0, 0, 0\n",
    "    \n",
    "    # ======== train_mode (Backprop) ======\n",
    "    net.train()\n",
    "    for i, (images, labels) in enumerate(train_loader):  # get mini batch samples\n",
    "        #viewで28×28×１画像を１次元に変換し、deviceへ転送\n",
    "#        images, labels = images.view(-1, 28*28*1).to(device), labels.to(device)\n",
    "        images, labels = images.to(device), labels.to(device)\n",
    "        optimizer.zero_grad()  # Reset the gradients\n",
    "        outputs = net(images)  # forward computation\n",
    "        loss = criterion(outputs, labels)  # loss\n",
    "        loss.backward()  # backward computation        \n",
    "        optimizer.step()  # optimization\n",
    "    \n",
    "    # ======== eval_mode (training samples) ======\n",
    "    net.eval()\n",
    "    with torch.no_grad():  # no computation of gradients\n",
    "      for images, labels in train_loader:        \n",
    "#          images, labels = images.view(-1, 28*28*1).to(device), labels.to(device)\n",
    "          images, labels = images.to(device), labels.to(device)\n",
    "          outputs = net(images)\n",
    "          loss = criterion(outputs, labels)\n",
    "          train_loss += loss.item()\n",
    "          acc = (outputs.max(1)[1] == labels).sum()\n",
    "          train_acc += acc.item()\n",
    "    avg_train_loss = train_loss / len(train_loader.dataset)\n",
    "    avg_train_acc = train_acc / len(train_loader.dataset)\n",
    "\n",
    "    # ======== eval_mode (validation samples) ======\n",
    "    net.eval()\n",
    "    with torch.no_grad():  # no comptutation of gradients\n",
    "      for images, labels in valid_loader:        \n",
    "#          images, labels = images.view(-1, 28*28*1).to(device), labels.to(device)\n",
    "          images, labels = images.to(device), labels.to(device)\n",
    "          outputs = net(images)\n",
    "          loss = criterion(outputs, labels)\n",
    "          val_loss += loss.item()\n",
    "          acc = (outputs.max(1)[1] == labels).sum()\n",
    "          val_acc += acc.item()\n",
    "    avg_val_loss = val_loss / len(valid_loader.dataset)\n",
    "    avg_val_acc = val_acc / len(valid_loader.dataset)\n",
    "    \n",
    "    # print log\n",
    "    print ('Epoch [{}/{}] train Loss: {loss:.4f}, train acc: {acc:.4f} | val_loss: {val_loss:.4f}, val_acc: {val_acc:.4f}' \n",
    "                   .format(epoch+1, num_epochs, i+1, loss=avg_train_loss, acc=avg_train_acc, val_loss=avg_val_loss, val_acc=avg_val_acc))\n",
    "\n",
    "    # append list for polt graph after training\n",
    "    train_loss_list.append(avg_train_loss)\n",
    "    train_acc_list.append(avg_train_acc)\n",
    "    val_loss_list.append(avg_val_loss)\n",
    "    val_acc_list.append(avg_val_acc)\n"
   ]
  },
  {
   "cell_type": "code",
   "execution_count": 16,
   "metadata": {
    "colab": {
     "base_uri": "https://localhost:8080/",
     "height": 35
    },
    "colab_type": "code",
    "id": "lcVFP0RKG6Uf",
    "outputId": "768a56dd-019e-4edd-8221-93f7e5f26699"
   },
   "outputs": [
    {
     "name": "stdout",
     "output_type": "stream",
     "text": [
      "test_accuracy: 58.77 %\n"
     ]
    }
   ],
   "source": [
    "# ======== eval_mode (test samples) ======\n",
    "net.eval()\n",
    "with torch.no_grad():\n",
    "    total = 0\n",
    "    test_acc = 0\n",
    "    for images, labels in test_loader:        \n",
    "#        images, labels = images.view(-1, 28 * 28 * 1 ).to(device), labels.to(device)\n",
    "        images, labels = images.to(device), labels.to(device)\n",
    "        outputs = net(images)\n",
    "        test_acc += (outputs.max(1)[1] == labels).sum().item()\n",
    "        total += labels.size(0)\n",
    "    print('test_accuracy: {} %'.format(100 * test_acc / total)) \n",
    "\n",
    "# save weights (You can save the model by uncomment the following line)\n",
    "#torch.save(net.state_dict(), 'mnist_net.ckpt')\n"
   ]
  },
  {
   "cell_type": "code",
   "execution_count": 17,
   "metadata": {
    "colab": {
     "base_uri": "https://localhost:8080/",
     "height": 573
    },
    "colab_type": "code",
    "id": "tEEIBGsJG6Uk",
    "outputId": "48c8f044-1516-4235-81d3-e0be19bfd714"
   },
   "outputs": [
    {
     "data": {
      "image/png": "[encoded data removed]",
      "text/plain": [
       "<Figure size 432x288 with 1 Axes>"
      ]
     },
     "metadata": {
      "needs_background": "light"
     },
     "output_type": "display_data"
    },
    {
     "data": {
      "image/png": "[encoded data removed]",
      "text/plain": [
       "<Figure size 432x288 with 1 Axes>"
      ]
     },
     "metadata": {
      "needs_background": "light"
     },
     "output_type": "display_data"
    }
   ],
   "source": [
    "# plot graph\n",
    "import matplotlib.pyplot as plt\n",
    "\n",
    "plt.figure()\n",
    "plt.plot(range(num_epochs), train_loss_list, color='blue', linestyle='-', label='train_loss')\n",
    "plt.plot(range(num_epochs), val_loss_list, color='green', linestyle='--', label='val_loss')\n",
    "plt.ylim([0.0,0.02])\n",
    "plt.legend()\n",
    "plt.xlabel('epoch')\n",
    "plt.ylabel('loss')\n",
    "plt.title('Training and validation loss')\n",
    "plt.grid()\n",
    "plt.savefig('CNN_cifar10_loss_dropout.png')\n",
    "plt.show()\n",
    "\n",
    "plt.figure()\n",
    "plt.plot(range(num_epochs), train_acc_list, color='blue', linestyle='-', label='train_acc')\n",
    "plt.plot(range(num_epochs), val_acc_list, color='green', linestyle='--', label='val_acc')\n",
    "plt.ylim([0.5, 1.0])\n",
    "plt.legend()\n",
    "plt.xlabel('epoch')\n",
    "plt.ylabel('acc')\n",
    "plt.title('Training and validation accuracy')\n",
    "plt.grid()\n",
    "plt.savefig('CNN_cifar10_acc_dropout.png')\n",
    "plt.show()"
   ]
  },
  {
   "cell_type": "code",
   "execution_count": null,
   "metadata": {
    "colab": {},
    "colab_type": "code",
    "id": "g1jdTzc0G6Up"
   },
   "outputs": [],
   "source": []
  }
 ],
 "metadata": {
  "accelerator": "GPU",
  "colab": {
   "include_colab_link": true,
   "name": "CNN_cifar10.ipynb",
   "provenance": []
  },
  "kernelspec": {
   "display_name": "Python 3",
   "language": "python",
   "name": "python3"
  },
  "language_info": {
   "codemirror_mode": {
    "name": "ipython",
    "version": 3
   },
   "file_extension": ".py",
   "mimetype": "text/x-python",
   "name": "python",
   "nbconvert_exporter": "python",
   "pygments_lexer": "ipython3",
   "version": "3.12.4"
  },
  "widgets": {
   "application/vnd.jupyter.widget-state+json": {
    "3518365b90ab4730aebd3ef054e9ccd0": {
     "model_module": "@jupyter-widgets/controls",
     "model_name": "HTMLModel",
     "state": {
      "_dom_classes": [],
      "_model_module": "@jupyter-widgets/controls",
      "_model_module_version": "1.5.0",
      "_model_name": "HTMLModel",
      "_view_count": null,
      "_view_module": "@jupyter-widgets/controls",
      "_view_module_version": "1.5.0",
      "_view_name": "HTMLView",
      "description": "",
      "description_tooltip": null,
      "layout": "IPY_MODEL_cd41e4ea14c04e7786937814163dc404",
      "placeholder": "​",
      "style": "IPY_MODEL_d073dcf55ea54958a0609ec0d44e57ab",
      "value": " 170500096/? [00:20&lt;00:00, 83450838.57it/s]"
     }
    },
    "7114e80c1f8b4aca847703f8a014d8a7": {
     "model_module": "@jupyter-widgets/controls",
     "model_name": "HBoxModel",
     "state": {
      "_dom_classes": [],
      "_model_module": "@jupyter-widgets/controls",
      "_model_module_version": "1.5.0",
      "_model_name": "HBoxModel",
      "_view_count": null,
      "_view_module": "@jupyter-widgets/controls",
      "_view_module_version": "1.5.0",
      "_view_name": "HBoxView",
      "box_style": "",
      "children": [
       "IPY_MODEL_b4a4ae59292342dfa0f8d6c1251142ff",
       "IPY_MODEL_3518365b90ab4730aebd3ef054e9ccd0"
      ],
      "layout": "IPY_MODEL_debeeb78f1d241dfb82bb7bde84dd4ac"
     }
    },
    "85e4eef28deb4a608483b9392b84ae5f": {
     "model_module": "@jupyter-widgets/base",
     "model_name": "LayoutModel",
     "state": {
      "_model_module": "@jupyter-widgets/base",
      "_model_module_version": "1.2.0",
      "_model_name": "LayoutModel",
      "_view_count": null,
      "_view_module": "@jupyter-widgets/base",
      "_view_module_version": "1.2.0",
      "_view_name": "LayoutView",
      "align_content": null,
      "align_items": null,
      "align_self": null,
      "border": null,
      "bottom": null,
      "display": null,
      "flex": null,
      "flex_flow": null,
      "grid_area": null,
      "grid_auto_columns": null,
      "grid_auto_flow": null,
      "grid_auto_rows": null,
      "grid_column": null,
      "grid_gap": null,
      "grid_row": null,
      "grid_template_areas": null,
      "grid_template_columns": null,
      "grid_template_rows": null,
      "height": null,
      "justify_content": null,
      "justify_items": null,
      "left": null,
      "margin": null,
      "max_height": null,
      "max_width": null,
      "min_height": null,
      "min_width": null,
      "object_fit": null,
      "object_position": null,
      "order": null,
      "overflow": null,
      "overflow_x": null,
      "overflow_y": null,
      "padding": null,
      "right": null,
      "top": null,
      "visibility": null,
      "width": null
     }
    },
    "b4a4ae59292342dfa0f8d6c1251142ff": {
     "model_module": "@jupyter-widgets/controls",
     "model_name": "FloatProgressModel",
     "state": {
      "_dom_classes": [],
      "_model_module": "@jupyter-widgets/controls",
      "_model_module_version": "1.5.0",
      "_model_name": "FloatProgressModel",
      "_view_count": null,
      "_view_module": "@jupyter-widgets/controls",
      "_view_module_version": "1.5.0",
      "_view_name": "ProgressView",
      "bar_style": "info",
      "description": "",
      "description_tooltip": null,
      "layout": "IPY_MODEL_85e4eef28deb4a608483b9392b84ae5f",
      "max": 1,
      "min": 0,
      "orientation": "horizontal",
      "style": "IPY_MODEL_bed83fc4215947609b67fe11bea00a5b",
      "value": 1
     }
    },
    "bed83fc4215947609b67fe11bea00a5b": {
     "model_module": "@jupyter-widgets/controls",
     "model_name": "ProgressStyleModel",
     "state": {
      "_model_module": "@jupyter-widgets/controls",
      "_model_module_version": "1.5.0",
      "_model_name": "ProgressStyleModel",
      "_view_count": null,
      "_view_module": "@jupyter-widgets/base",
      "_view_module_version": "1.2.0",
      "_view_name": "StyleView",
      "bar_color": null,
      "description_width": "initial"
     }
    },
    "cd41e4ea14c04e7786937814163dc404": {
     "model_module": "@jupyter-widgets/base",
     "model_name": "LayoutModel",
     "state": {
      "_model_module": "@jupyter-widgets/base",
      "_model_module_version": "1.2.0",
      "_model_name": "LayoutModel",
      "_view_count": null,
      "_view_module": "@jupyter-widgets/base",
      "_view_module_version": "1.2.0",
      "_view_name": "LayoutView",
      "align_content": null,
      "align_items": null,
      "align_self": null,
      "border": null,
      "bottom": null,
      "display": null,
      "flex": null,
      "flex_flow": null,
      "grid_area": null,
      "grid_auto_columns": null,
      "grid_auto_flow": null,
      "grid_auto_rows": null,
      "grid_column": null,
      "grid_gap": null,
      "grid_row": null,
      "grid_template_areas": null,
      "grid_template_columns": null,
      "grid_template_rows": null,
      "height": null,
      "justify_content": null,
      "justify_items": null,
      "left": null,
      "margin": null,
      "max_height": null,
      "max_width": null,
      "min_height": null,
      "min_width": null,
      "object_fit": null,
      "object_position": null,
      "order": null,
      "overflow": null,
      "overflow_x": null,
      "overflow_y": null,
      "padding": null,
      "right": null,
      "top": null,
      "visibility": null,
      "width": null
     }
    },
    "d073dcf55ea54958a0609ec0d44e57ab": {
     "model_module": "@jupyter-widgets/controls",
     "model_name": "DescriptionStyleModel",
     "state": {
      "_model_module": "@jupyter-widgets/controls",
      "_model_module_version": "1.5.0",
      "_model_name": "DescriptionStyleModel",
      "_view_count": null,
      "_view_module": "@jupyter-widgets/base",
      "_view_module_version": "1.2.0",
      "_view_name": "StyleView",
      "description_width": ""
     }
    },
    "debeeb78f1d241dfb82bb7bde84dd4ac": {
     "model_module": "@jupyter-widgets/base",
     "model_name": "LayoutModel",
     "state": {
      "_model_module": "@jupyter-widgets/base",
      "_model_module_version": "1.2.0",
      "_model_name": "LayoutModel",
      "_view_count": null,
      "_view_module": "@jupyter-widgets/base",
      "_view_module_version": "1.2.0",
      "_view_name": "LayoutView",
      "align_content": null,
      "align_items": null,
      "align_self": null,
      "border": null,
      "bottom": null,
      "display": null,
      "flex": null,
      "flex_flow": null,
      "grid_area": null,
      "grid_auto_columns": null,
      "grid_auto_flow": null,
      "grid_auto_rows": null,
      "grid_column": null,
      "grid_gap": null,
      "grid_row": null,
      "grid_template_areas": null,
      "grid_template_columns": null,
      "grid_template_rows": null,
      "height": null,
      "justify_content": null,
      "justify_items": null,
      "left": null,
      "margin": null,
      "max_height": null,
      "max_width": null,
      "min_height": null,
      "min_width": null,
      "object_fit": null,
      "object_position": null,
      "order": null,
      "overflow": null,
      "overflow_x": null,
      "overflow_y": null,
      "padding": null,
      "right": null,
      "top": null,
      "visibility": null,
      "width": null
     }
    }
   }
  }
 },
 "nbformat": 4,
 "nbformat_minor": 4
}
