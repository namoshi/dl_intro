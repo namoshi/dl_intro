{
 "cells": [
  {
   "cell_type": "markdown",
   "metadata": {
    "colab_type": "text",
    "id": "view-in-github"
   },
   "source": [
    "<a href=\"https://colab.research.google.com/github/namoshi/dl_intro/blob/master/CNN_cifar10.ipynb\" target=\"_parent\"><img src=\"https://colab.research.google.com/assets/colab-badge.svg\" alt=\"Open In Colab\"/></a>"
   ]
  },
  {
   "cell_type": "markdown",
   "metadata": {
    "colab_type": "text",
    "id": "lAnUu7lqG6T5"
   },
   "source": [
    "## Convolutional Neural Network (CNN)\n",
    "\n",
    "Image Classification (CIAR-10) by CNN"
   ]
  },
  {
   "cell_type": "code",
   "execution_count": 1,
   "metadata": {
    "colab": {},
    "colab_type": "code",
    "id": "d1k6RAqdG6T7"
   },
   "outputs": [],
   "source": [
    "import torch\n",
    "import torch.nn as nn\n",
    "import torch.optim as optim\n",
    "import torchvision.datasets as dsets\n",
    "import torchvision.transforms as transforms\n",
    "import torch.nn.functional as F"
   ]
  },
  {
   "cell_type": "code",
   "execution_count": 2,
   "metadata": {
    "colab": {
     "base_uri": "https://localhost:8080/",
     "height": 157,
     "referenced_widgets": [
      "7114e80c1f8b4aca847703f8a014d8a7",
      "debeeb78f1d241dfb82bb7bde84dd4ac",
      "b4a4ae59292342dfa0f8d6c1251142ff",
      "3518365b90ab4730aebd3ef054e9ccd0",
      "bed83fc4215947609b67fe11bea00a5b",
      "85e4eef28deb4a608483b9392b84ae5f",
      "d073dcf55ea54958a0609ec0d44e57ab",
      "cd41e4ea14c04e7786937814163dc404"
     ]
    },
    "colab_type": "code",
    "id": "AE_KqyBzG6UA",
    "outputId": "0c5a65c7-e505-458a-94ec-21f7980563f0"
   },
   "outputs": [
    {
     "name": "stdout",
     "output_type": "stream",
     "text": [
      "Files already downloaded and verified\n",
      "Files already downloaded and verified\n",
      "train_dataset =  10000\n",
      "valid_dataset =  40000\n",
      "test_dataset =  10000\n"
     ]
    }
   ],
   "source": [
    "# load CIFAR-10 data\n",
    "train_dataset = dsets.CIFAR10('./data',\n",
    "                         train=True,\n",
    "                         download=True,\n",
    "                         transform=transforms.Compose([\n",
    "                             transforms.ToTensor(),\n",
    "                             transforms.Normalize(\n",
    "                                [0.5, 0.5, 0.5],  # RGB 平均\n",
    "                                [0.5, 0.5, 0.5]   # RGB 標準偏差\n",
    "                                )\n",
    "                         ]))\n",
    "\n",
    "test_dataset = dsets.CIFAR10('./data',\n",
    "                         train=False,\n",
    "                         download=True,\n",
    "                         transform=transforms.Compose([\n",
    "                             transforms.ToTensor(),\n",
    "                             transforms.Normalize(\n",
    "                                 [0.5, 0.5, 0.5],  # RGB 平均\n",
    "                                 [0.5, 0.5, 0.5]  # RGB 標準偏差\n",
    "                             )\n",
    "                         ]))\n",
    "\n",
    "#print(len(train_Dataset))\n",
    "\n",
    "train_dataset, valid_dataset = torch.utils.data.random_split(  # データセットの分割\n",
    "      train_dataset,   # 分割するデータセット\n",
    "      [10000, 40000])  # 分割数\n",
    " \n",
    "print('train_dataset = ', len(train_dataset))\n",
    "print('valid_dataset = ', len(valid_dataset))  \n",
    "print('test_dataset = ', len(test_dataset))\n",
    "\n"
   ]
  },
  {
   "cell_type": "code",
   "execution_count": 3,
   "metadata": {
    "colab": {},
    "colab_type": "code",
    "id": "aav3n_2KG6UG"
   },
   "outputs": [],
   "source": [
    "# Set up DataLoader\n",
    "batch=128\n",
    "\n",
    "train_loader = torch.utils.data.DataLoader(\n",
    "        dataset=train_dataset,\n",
    "        batch_size=batch,\n",
    "        shuffle=True\n",
    "    )\n",
    "\n",
    "valid_loader = torch.utils.data.DataLoader(\n",
    "        dataset=valid_dataset,\n",
    "        batch_size=batch,\n",
    "        shuffle=True\n",
    "    )\n",
    "\n",
    "test_loader = torch.utils.data.DataLoader(\n",
    "        dataset=test_dataset,\n",
    "        batch_size=batch,\n",
    "        shuffle=True\n",
    "    )\n"
   ]
  },
  {
   "cell_type": "markdown",
   "metadata": {},
   "source": [
    "## Without Dropout"
   ]
  },
  {
   "cell_type": "code",
   "execution_count": 4,
   "metadata": {
    "colab": {
     "base_uri": "https://localhost:8080/",
     "height": 197
    },
    "colab_type": "code",
    "id": "SlhzS6FfG6UK",
    "outputId": "b7f87c99-53dc-4d7e-b9cc-7b4261f73a33"
   },
   "outputs": [],
   "source": [
    "class Network(nn.Module):\n",
    "    def __init__(self):\n",
    "        super(Network, self).__init__()\n",
    "        self.conv1 = nn.Conv2d(3,32,3, padding=1)\n",
    "        self.pool = nn.MaxPool2d(2,2)\n",
    "        self.conv2 = nn.Conv2d(32,32,3, padding=1)\n",
    "        self.fc1 = nn.Linear(32*8*8, 128)\n",
    "        self.fc2 = nn.Linear(128, 10)\n",
    "#        self.dropout = nn.Dropout2d(0.2)\n",
    "\n",
    "\n",
    "    def forward(self, x):\n",
    "        x = self.pool(F.relu(self.conv1(x)))\n",
    "#        x = self.dropout(x)\n",
    "        x = self.pool(F.relu(self.conv2(x)))\n",
    "#        x = self.dropout(x)\n",
    "        x = x.view(-1, 32 * 8 * 8)\n",
    "        x = F.relu(self.fc1(x))\n",
    "#        x = self.dropout(x)\n",
    "        x = self.fc2(x)\n",
    "        return x"
   ]
  },
  {
   "cell_type": "code",
   "execution_count": 5,
   "metadata": {},
   "outputs": [
    {
     "name": "stdout",
     "output_type": "stream",
     "text": [
      "cuda\n",
      "Network architecture for CNN\n",
      " Network(\n",
      "  (conv1): Conv2d(3, 32, kernel_size=(3, 3), stride=(1, 1), padding=(1, 1))\n",
      "  (pool): MaxPool2d(kernel_size=2, stride=2, padding=0, dilation=1, ceil_mode=False)\n",
      "  (conv2): Conv2d(32, 32, kernel_size=(3, 3), stride=(1, 1), padding=(1, 1))\n",
      "  (fc1): Linear(in_features=2048, out_features=128, bias=True)\n",
      "  (fc2): Linear(in_features=128, out_features=10, bias=True)\n",
      ")\n"
     ]
    }
   ],
   "source": [
    "net = Network()\n",
    "device = 'cuda' if torch.cuda.is_available() else 'cpu'\n",
    "print(device)\n",
    "\n",
    "if torch.cuda.is_available():\n",
    "  net.cuda()\n",
    "\n",
    "print('Network architecture for CNN\\n', net)"
   ]
  },
  {
   "cell_type": "code",
   "execution_count": 6,
   "metadata": {
    "colab": {},
    "colab_type": "code",
    "id": "OlCfd_HXG6UQ"
   },
   "outputs": [],
   "source": [
    "# optimizing\n",
    "wd = 0.000000001\n",
    "criterion = nn.CrossEntropyLoss()\n",
    "optimizer = optim.SGD(net.parameters(), lr=0.01, momentum=0.9, weight_decay=wd)\n",
    "#optimizer = optim.AdamW(net.parameters(), lr=0.01, weight_decay=0.001)\n"
   ]
  },
  {
   "cell_type": "code",
   "execution_count": 7,
   "metadata": {
    "colab": {},
    "colab_type": "code",
    "id": "8XOoWNm9G6UU"
   },
   "outputs": [],
   "source": [
    "# Define Class names\n",
    "classes = ('plane', 'car', 'bird', 'cat', 'deer',\n",
    "               'dog', 'frog', 'horse', 'ship', 'truck')\n",
    " "
   ]
  },
  {
   "cell_type": "code",
   "execution_count": 8,
   "metadata": {
    "colab": {
     "base_uri": "https://localhost:8080/",
     "height": 935
    },
    "colab_type": "code",
    "id": "QLVSY_raG6UZ",
    "outputId": "97c11a7c-67c2-4650-f82b-3a13dfa32e31"
   },
   "outputs": [
    {
     "name": "stdout",
     "output_type": "stream",
     "text": [
      "training start ...\n",
      "Epoch [1/50] train Loss: 0.0160, train acc: 0.2635 | val_loss: 0.0158, val_acc: 0.2604\n",
      "Epoch [2/50] train Loss: 0.0141, train acc: 0.3583 | val_loss: 0.0140, val_acc: 0.3594\n",
      "Epoch [3/50] train Loss: 0.0122, train acc: 0.4402 | val_loss: 0.0123, val_acc: 0.4277\n",
      "Epoch [4/50] train Loss: 0.0115, train acc: 0.4826 | val_loss: 0.0118, val_acc: 0.4592\n",
      "Epoch [5/50] train Loss: 0.0104, train acc: 0.5257 | val_loss: 0.0111, val_acc: 0.4899\n",
      "Epoch [6/50] train Loss: 0.0101, train acc: 0.5437 | val_loss: 0.0110, val_acc: 0.4908\n",
      "Epoch [7/50] train Loss: 0.0092, train acc: 0.5790 | val_loss: 0.0104, val_acc: 0.5200\n",
      "Epoch [8/50] train Loss: 0.0086, train acc: 0.6086 | val_loss: 0.0101, val_acc: 0.5376\n",
      "Epoch [9/50] train Loss: 0.0087, train acc: 0.5956 | val_loss: 0.0105, val_acc: 0.5228\n",
      "Epoch [10/50] train Loss: 0.0077, train acc: 0.6519 | val_loss: 0.0100, val_acc: 0.5506\n",
      "Epoch [11/50] train Loss: 0.0074, train acc: 0.6595 | val_loss: 0.0101, val_acc: 0.5557\n",
      "Epoch [12/50] train Loss: 0.0068, train acc: 0.6999 | val_loss: 0.0099, val_acc: 0.5589\n",
      "Epoch [13/50] train Loss: 0.0077, train acc: 0.6455 | val_loss: 0.0116, val_acc: 0.5234\n",
      "Epoch [14/50] train Loss: 0.0056, train acc: 0.7559 | val_loss: 0.0100, val_acc: 0.5697\n",
      "Epoch [15/50] train Loss: 0.0051, train acc: 0.7772 | val_loss: 0.0102, val_acc: 0.5672\n",
      "Epoch [16/50] train Loss: 0.0042, train acc: 0.8257 | val_loss: 0.0103, val_acc: 0.5778\n",
      "Epoch [17/50] train Loss: 0.0037, train acc: 0.8506 | val_loss: 0.0106, val_acc: 0.5785\n",
      "Epoch [18/50] train Loss: 0.0033, train acc: 0.8562 | val_loss: 0.0110, val_acc: 0.5823\n",
      "Epoch [19/50] train Loss: 0.0027, train acc: 0.8884 | val_loss: 0.0120, val_acc: 0.5774\n",
      "Epoch [20/50] train Loss: 0.0025, train acc: 0.8912 | val_loss: 0.0127, val_acc: 0.5729\n",
      "Epoch [21/50] train Loss: 0.0018, train acc: 0.9252 | val_loss: 0.0130, val_acc: 0.5819\n",
      "Epoch [22/50] train Loss: 0.0016, train acc: 0.9342 | val_loss: 0.0141, val_acc: 0.5802\n",
      "Epoch [23/50] train Loss: 0.0015, train acc: 0.9381 | val_loss: 0.0153, val_acc: 0.5660\n",
      "Epoch [24/50] train Loss: 0.0009, train acc: 0.9709 | val_loss: 0.0148, val_acc: 0.5858\n",
      "Epoch [25/50] train Loss: 0.0009, train acc: 0.9615 | val_loss: 0.0163, val_acc: 0.5786\n",
      "Epoch [26/50] train Loss: 0.0009, train acc: 0.9690 | val_loss: 0.0161, val_acc: 0.5743\n",
      "Epoch [27/50] train Loss: 0.0003, train acc: 0.9937 | val_loss: 0.0169, val_acc: 0.5899\n",
      "Epoch [28/50] train Loss: 0.0002, train acc: 0.9972 | val_loss: 0.0177, val_acc: 0.5892\n",
      "Epoch [29/50] train Loss: 0.0001, train acc: 0.9996 | val_loss: 0.0186, val_acc: 0.5942\n",
      "Epoch [30/50] train Loss: 0.0001, train acc: 0.9997 | val_loss: 0.0193, val_acc: 0.5963\n",
      "Epoch [31/50] train Loss: 0.0001, train acc: 0.9998 | val_loss: 0.0200, val_acc: 0.5958\n",
      "Epoch [32/50] train Loss: 0.0001, train acc: 0.9971 | val_loss: 0.0205, val_acc: 0.5910\n",
      "Epoch [33/50] train Loss: 0.0000, train acc: 1.0000 | val_loss: 0.0205, val_acc: 0.5971\n",
      "Epoch [34/50] train Loss: 0.0000, train acc: 1.0000 | val_loss: 0.0209, val_acc: 0.5960\n",
      "Epoch [35/50] train Loss: 0.0000, train acc: 1.0000 | val_loss: 0.0213, val_acc: 0.5962\n",
      "Epoch [36/50] train Loss: 0.0000, train acc: 1.0000 | val_loss: 0.0216, val_acc: 0.5968\n",
      "Epoch [37/50] train Loss: 0.0000, train acc: 1.0000 | val_loss: 0.0219, val_acc: 0.5971\n",
      "Epoch [38/50] train Loss: 0.0000, train acc: 1.0000 | val_loss: 0.0221, val_acc: 0.5967\n",
      "Epoch [39/50] train Loss: 0.0000, train acc: 1.0000 | val_loss: 0.0223, val_acc: 0.5975\n",
      "Epoch [40/50] train Loss: 0.0000, train acc: 1.0000 | val_loss: 0.0225, val_acc: 0.5964\n",
      "Epoch [41/50] train Loss: 0.0000, train acc: 1.0000 | val_loss: 0.0227, val_acc: 0.5964\n",
      "Epoch [42/50] train Loss: 0.0000, train acc: 1.0000 | val_loss: 0.0229, val_acc: 0.5961\n",
      "Epoch [43/50] train Loss: 0.0000, train acc: 1.0000 | val_loss: 0.0231, val_acc: 0.5968\n",
      "Epoch [44/50] train Loss: 0.0000, train acc: 1.0000 | val_loss: 0.0232, val_acc: 0.5956\n",
      "Epoch [45/50] train Loss: 0.0000, train acc: 1.0000 | val_loss: 0.0234, val_acc: 0.5966\n",
      "Epoch [46/50] train Loss: 0.0000, train acc: 1.0000 | val_loss: 0.0235, val_acc: 0.5968\n",
      "Epoch [47/50] train Loss: 0.0000, train acc: 1.0000 | val_loss: 0.0236, val_acc: 0.5969\n",
      "Epoch [48/50] train Loss: 0.0000, train acc: 1.0000 | val_loss: 0.0238, val_acc: 0.5967\n",
      "Epoch [49/50] train Loss: 0.0000, train acc: 1.0000 | val_loss: 0.0239, val_acc: 0.5962\n",
      "Epoch [50/50] train Loss: 0.0000, train acc: 1.0000 | val_loss: 0.0240, val_acc: 0.5961\n"
     ]
    }
   ],
   "source": [
    "###  training\n",
    "print ('training start ...')\n",
    "num_epochs = 50   \n",
    "\n",
    "# initialize list for plot graph after training\n",
    "train_loss_list, train_acc_list, val_loss_list, val_acc_list = [], [], [], []\n",
    "\n",
    "for epoch in range(num_epochs):\n",
    "    # initialize each epoch\n",
    "    train_loss, train_acc, val_loss, val_acc = 0, 0, 0, 0\n",
    "    \n",
    "    # ======== train_mode (Backprop) ======\n",
    "    net.train()\n",
    "    for i, (images, labels) in enumerate(train_loader):  # get mini batch samples\n",
    "        #viewで28×28×１画像を１次元に変換し、deviceへ転送\n",
    "#        images, labels = images.view(-1, 28*28*1).to(device), labels.to(device)\n",
    "        images, labels = images.to(device), labels.to(device)\n",
    "        optimizer.zero_grad()  # Reset the gradients\n",
    "        outputs = net(images)  # forward computation\n",
    "        loss = criterion(outputs, labels)  # loss\n",
    "        loss.backward()  # backward computation        \n",
    "        optimizer.step()  # optimization\n",
    "    \n",
    "    # ======== eval_mode (training samples) ======\n",
    "    net.eval()\n",
    "    with torch.no_grad():  # no computation of gradients\n",
    "      for images, labels in train_loader:        \n",
    "#          images, labels = images.view(-1, 28*28*1).to(device), labels.to(device)\n",
    "          images, labels = images.to(device), labels.to(device)\n",
    "          outputs = net(images)\n",
    "          loss = criterion(outputs, labels)\n",
    "          train_loss += loss.item()\n",
    "          acc = (outputs.max(1)[1] == labels).sum()\n",
    "          train_acc += acc.item()\n",
    "    avg_train_loss = train_loss / len(train_loader.dataset)\n",
    "    avg_train_acc = train_acc / len(train_loader.dataset)\n",
    "\n",
    "    # ======== eval_mode (validation samples) ======\n",
    "    net.eval()\n",
    "    with torch.no_grad():  # no comptutation of gradients\n",
    "      for images, labels in valid_loader:        \n",
    "#          images, labels = images.view(-1, 28*28*1).to(device), labels.to(device)\n",
    "          images, labels = images.to(device), labels.to(device)\n",
    "          outputs = net(images)\n",
    "          loss = criterion(outputs, labels)\n",
    "          val_loss += loss.item()\n",
    "          acc = (outputs.max(1)[1] == labels).sum()\n",
    "          val_acc += acc.item()\n",
    "    avg_val_loss = val_loss / len(valid_loader.dataset)\n",
    "    avg_val_acc = val_acc / len(valid_loader.dataset)\n",
    "    \n",
    "    # print log\n",
    "    print ('Epoch [{}/{}] train Loss: {loss:.4f}, train acc: {acc:.4f} | val_loss: {val_loss:.4f}, val_acc: {val_acc:.4f}' \n",
    "                   .format(epoch+1, num_epochs, i+1, loss=avg_train_loss, acc=avg_train_acc, val_loss=avg_val_loss, val_acc=avg_val_acc))\n",
    "\n",
    "    # append list for polt graph after training\n",
    "    train_loss_list.append(avg_train_loss)\n",
    "    train_acc_list.append(avg_train_acc)\n",
    "    val_loss_list.append(avg_val_loss)\n",
    "    val_acc_list.append(avg_val_acc)\n"
   ]
  },
  {
   "cell_type": "code",
   "execution_count": 9,
   "metadata": {
    "colab": {
     "base_uri": "https://localhost:8080/",
     "height": 35
    },
    "colab_type": "code",
    "id": "lcVFP0RKG6Uf",
    "outputId": "768a56dd-019e-4edd-8221-93f7e5f26699"
   },
   "outputs": [
    {
     "name": "stdout",
     "output_type": "stream",
     "text": [
      "test_accuracy: 59.76 %\n"
     ]
    }
   ],
   "source": [
    "# ======== eval_mode (test samples) ======\n",
    "net.eval()\n",
    "with torch.no_grad():\n",
    "    total = 0\n",
    "    test_acc = 0\n",
    "    for images, labels in test_loader:        \n",
    "#        images, labels = images.view(-1, 28 * 28 * 1 ).to(device), labels.to(device)\n",
    "        images, labels = images.to(device), labels.to(device)\n",
    "        outputs = net(images)\n",
    "        test_acc += (outputs.max(1)[1] == labels).sum().item()\n",
    "        total += labels.size(0)\n",
    "    print('test_accuracy: {} %'.format(100 * test_acc / total)) \n",
    "\n",
    "# save weights (You can save the model by uncomment the following line)\n",
    "#torch.save(net.state_dict(), 'mnist_net.ckpt')\n"
   ]
  },
  {
   "cell_type": "code",
   "execution_count": 10,
   "metadata": {
    "colab": {
     "base_uri": "https://localhost:8080/",
     "height": 573
    },
    "colab_type": "code",
    "id": "tEEIBGsJG6Uk",
    "outputId": "48c8f044-1516-4235-81d3-e0be19bfd714"
   },
   "outputs": [
    {
     "data": {
      "image/png": "[encoded data removed]",
      "text/plain": [
       "<Figure size 432x288 with 1 Axes>"
      ]
     },
     "metadata": {
      "needs_background": "light"
     },
     "output_type": "display_data"
    },
    {
     "data": {
      "image/png": "[encoded data removed]",
      "text/plain": [
       "<Figure size 432x288 with 1 Axes>"
      ]
     },
     "metadata": {
      "needs_background": "light"
     },
     "output_type": "display_data"
    }
   ],
   "source": [
    "# plot graph\n",
    "import matplotlib.pyplot as plt\n",
    "\n",
    "plt.figure()\n",
    "plt.plot(range(num_epochs), train_loss_list, color='blue', linestyle='-', label='train_loss')\n",
    "plt.plot(range(num_epochs), val_loss_list, color='green', linestyle='--', label='val_loss')\n",
    "plt.ylim([0.0,0.02])\n",
    "plt.legend()\n",
    "plt.xlabel('epoch')\n",
    "plt.ylabel('loss')\n",
    "plt.title('Training and validation loss')\n",
    "plt.grid()\n",
    "plt.savefig('CNN_cifar10_loss_nodropout.png')\n",
    "plt.show()\n",
    "\n",
    "plt.figure()\n",
    "plt.plot(range(num_epochs), train_acc_list, color='blue', linestyle='-', label='train_acc')\n",
    "plt.plot(range(num_epochs), val_acc_list, color='green', linestyle='--', label='val_acc')\n",
    "plt.ylim([0.5, 1.0])\n",
    "plt.legend()\n",
    "plt.xlabel('epoch')\n",
    "plt.ylabel('acc')\n",
    "plt.title('Training and validation accuracy')\n",
    "plt.grid()\n",
    "plt.savefig('CNN_cifar10_acc_nodropout.png')\n",
    "plt.show()"
   ]
  },
  {
   "cell_type": "markdown",
   "metadata": {
    "colab": {},
    "colab_type": "code",
    "id": "g1jdTzc0G6Up"
   },
   "source": [
    "## With Dropout"
   ]
  },
  {
   "cell_type": "code",
   "execution_count": 11,
   "metadata": {
    "colab": {
     "base_uri": "https://localhost:8080/",
     "height": 197
    },
    "colab_type": "code",
    "id": "SlhzS6FfG6UK",
    "outputId": "b7f87c99-53dc-4d7e-b9cc-7b4261f73a33"
   },
   "outputs": [],
   "source": [
    "dropout_prob = 0.3\n",
    "\n",
    "class Network(nn.Module):\n",
    "    def __init__(self):\n",
    "        super(Network, self).__init__()\n",
    "        self.conv1 = nn.Conv2d(3,32,3, padding=1)\n",
    "        self.pool = nn.MaxPool2d(2,2)\n",
    "        self.conv2 = nn.Conv2d(32,32,3, padding=1)\n",
    "        self.fc1 = nn.Linear(32*8*8, 128)\n",
    "        self.fc2 = nn.Linear(128, 10)\n",
    "        self.dropout = nn.Dropout2d(dropout_prob)\n",
    "\n",
    "\n",
    "    def forward(self, x):\n",
    "        x = self.pool(F.relu(self.conv1(x)))\n",
    "        x = self.dropout(x)\n",
    "        x = self.pool(F.relu(self.conv2(x)))\n",
    "        x = self.dropout(x)\n",
    "        x = x.view(-1, 32 * 8 * 8)\n",
    "        x = F.relu(self.fc1(x))\n",
    "        x = self.dropout(x)\n",
    "        x = self.fc2(x)\n",
    "        return x"
   ]
  },
  {
   "cell_type": "code",
   "execution_count": 12,
   "metadata": {},
   "outputs": [
    {
     "name": "stdout",
     "output_type": "stream",
     "text": [
      "cuda\n",
      "Network architecture for CNN\n",
      " Network(\n",
      "  (conv1): Conv2d(3, 32, kernel_size=(3, 3), stride=(1, 1), padding=(1, 1))\n",
      "  (pool): MaxPool2d(kernel_size=2, stride=2, padding=0, dilation=1, ceil_mode=False)\n",
      "  (conv2): Conv2d(32, 32, kernel_size=(3, 3), stride=(1, 1), padding=(1, 1))\n",
      "  (fc1): Linear(in_features=2048, out_features=128, bias=True)\n",
      "  (fc2): Linear(in_features=128, out_features=10, bias=True)\n",
      "  (dropout): Dropout2d(p=0.3, inplace=False)\n",
      ")\n"
     ]
    }
   ],
   "source": [
    "net = Network()\n",
    "device = 'cuda' if torch.cuda.is_available() else 'cpu'\n",
    "print(device)\n",
    "\n",
    "if torch.cuda.is_available():\n",
    "  net.cuda()\n",
    "\n",
    "print('Network architecture for CNN\\n', net)"
   ]
  },
  {
   "cell_type": "code",
   "execution_count": 13,
   "metadata": {
    "colab": {},
    "colab_type": "code",
    "id": "OlCfd_HXG6UQ"
   },
   "outputs": [],
   "source": [
    "# optimizing\n",
    "wd = 0.000000001\n",
    "criterion = nn.CrossEntropyLoss()\n",
    "optimizer = optim.SGD(net.parameters(), lr=0.01, momentum=0.9, weight_decay=wd)\n",
    "#optimizer = optim.AdamW(net.parameters(), lr=0.01, weight_decay=0.001)\n"
   ]
  },
  {
   "cell_type": "code",
   "execution_count": 14,
   "metadata": {
    "colab": {},
    "colab_type": "code",
    "id": "8XOoWNm9G6UU"
   },
   "outputs": [],
   "source": [
    "# Define Class names\n",
    "classes = ('plane', 'car', 'bird', 'cat', 'deer',\n",
    "               'dog', 'frog', 'horse', 'ship', 'truck')\n",
    " "
   ]
  },
  {
   "cell_type": "code",
   "execution_count": 15,
   "metadata": {
    "colab": {
     "base_uri": "https://localhost:8080/",
     "height": 935
    },
    "colab_type": "code",
    "id": "QLVSY_raG6UZ",
    "outputId": "97c11a7c-67c2-4650-f82b-3a13dfa32e31"
   },
   "outputs": [
    {
     "name": "stdout",
     "output_type": "stream",
     "text": [
      "training start ...\n",
      "Epoch [1/50] train Loss: 0.0164, train acc: 0.2588 | val_loss: 0.0163, val_acc: 0.2586\n",
      "Epoch [2/50] train Loss: 0.0149, train acc: 0.3322 | val_loss: 0.0148, val_acc: 0.3244\n",
      "Epoch [3/50] train Loss: 0.0135, train acc: 0.4011 | val_loss: 0.0134, val_acc: 0.3972\n",
      "Epoch [4/50] train Loss: 0.0126, train acc: 0.4215 | val_loss: 0.0128, val_acc: 0.4131\n",
      "Epoch [5/50] train Loss: 0.0120, train acc: 0.4563 | val_loss: 0.0123, val_acc: 0.4467\n",
      "Epoch [6/50] train Loss: 0.0118, train acc: 0.4609 | val_loss: 0.0121, val_acc: 0.4407\n",
      "Epoch [7/50] train Loss: 0.0113, train acc: 0.4856 | val_loss: 0.0117, val_acc: 0.4604\n",
      "Epoch [8/50] train Loss: 0.0110, train acc: 0.5116 | val_loss: 0.0115, val_acc: 0.4770\n",
      "Epoch [9/50] train Loss: 0.0107, train acc: 0.5181 | val_loss: 0.0113, val_acc: 0.4823\n",
      "Epoch [10/50] train Loss: 0.0104, train acc: 0.5416 | val_loss: 0.0111, val_acc: 0.4951\n",
      "Epoch [11/50] train Loss: 0.0101, train acc: 0.5584 | val_loss: 0.0109, val_acc: 0.5071\n",
      "Epoch [12/50] train Loss: 0.0096, train acc: 0.5763 | val_loss: 0.0106, val_acc: 0.5184\n",
      "Epoch [13/50] train Loss: 0.0092, train acc: 0.5877 | val_loss: 0.0103, val_acc: 0.5261\n",
      "Epoch [14/50] train Loss: 0.0090, train acc: 0.6070 | val_loss: 0.0103, val_acc: 0.5312\n",
      "Epoch [15/50] train Loss: 0.0087, train acc: 0.6140 | val_loss: 0.0101, val_acc: 0.5386\n",
      "Epoch [16/50] train Loss: 0.0087, train acc: 0.6257 | val_loss: 0.0101, val_acc: 0.5390\n",
      "Epoch [17/50] train Loss: 0.0083, train acc: 0.6429 | val_loss: 0.0100, val_acc: 0.5460\n",
      "Epoch [18/50] train Loss: 0.0082, train acc: 0.6587 | val_loss: 0.0099, val_acc: 0.5484\n",
      "Epoch [19/50] train Loss: 0.0077, train acc: 0.6671 | val_loss: 0.0097, val_acc: 0.5553\n",
      "Epoch [20/50] train Loss: 0.0075, train acc: 0.6841 | val_loss: 0.0096, val_acc: 0.5634\n",
      "Epoch [21/50] train Loss: 0.0073, train acc: 0.6929 | val_loss: 0.0096, val_acc: 0.5651\n",
      "Epoch [22/50] train Loss: 0.0070, train acc: 0.7060 | val_loss: 0.0095, val_acc: 0.5676\n",
      "Epoch [23/50] train Loss: 0.0069, train acc: 0.7066 | val_loss: 0.0096, val_acc: 0.5647\n",
      "Epoch [24/50] train Loss: 0.0065, train acc: 0.7319 | val_loss: 0.0094, val_acc: 0.5754\n",
      "Epoch [25/50] train Loss: 0.0063, train acc: 0.7503 | val_loss: 0.0094, val_acc: 0.5751\n",
      "Epoch [26/50] train Loss: 0.0061, train acc: 0.7648 | val_loss: 0.0093, val_acc: 0.5798\n",
      "Epoch [27/50] train Loss: 0.0058, train acc: 0.7770 | val_loss: 0.0093, val_acc: 0.5792\n",
      "Epoch [28/50] train Loss: 0.0057, train acc: 0.7787 | val_loss: 0.0093, val_acc: 0.5792\n",
      "Epoch [29/50] train Loss: 0.0057, train acc: 0.7855 | val_loss: 0.0094, val_acc: 0.5774\n",
      "Epoch [30/50] train Loss: 0.0053, train acc: 0.7967 | val_loss: 0.0093, val_acc: 0.5799\n",
      "Epoch [31/50] train Loss: 0.0051, train acc: 0.8212 | val_loss: 0.0093, val_acc: 0.5845\n",
      "Epoch [32/50] train Loss: 0.0049, train acc: 0.8186 | val_loss: 0.0094, val_acc: 0.5825\n",
      "Epoch [33/50] train Loss: 0.0046, train acc: 0.8328 | val_loss: 0.0093, val_acc: 0.5895\n",
      "Epoch [34/50] train Loss: 0.0045, train acc: 0.8527 | val_loss: 0.0093, val_acc: 0.5858\n",
      "Epoch [35/50] train Loss: 0.0045, train acc: 0.8423 | val_loss: 0.0094, val_acc: 0.5827\n",
      "Epoch [36/50] train Loss: 0.0040, train acc: 0.8695 | val_loss: 0.0092, val_acc: 0.5922\n",
      "Epoch [37/50] train Loss: 0.0038, train acc: 0.8779 | val_loss: 0.0093, val_acc: 0.5960\n",
      "Epoch [38/50] train Loss: 0.0039, train acc: 0.8797 | val_loss: 0.0094, val_acc: 0.5854\n",
      "Epoch [39/50] train Loss: 0.0037, train acc: 0.8780 | val_loss: 0.0094, val_acc: 0.5884\n",
      "Epoch [40/50] train Loss: 0.0033, train acc: 0.8985 | val_loss: 0.0094, val_acc: 0.5924\n",
      "Epoch [41/50] train Loss: 0.0032, train acc: 0.9085 | val_loss: 0.0094, val_acc: 0.5927\n",
      "Epoch [42/50] train Loss: 0.0030, train acc: 0.9158 | val_loss: 0.0095, val_acc: 0.5954\n",
      "Epoch [43/50] train Loss: 0.0030, train acc: 0.9151 | val_loss: 0.0095, val_acc: 0.5916\n",
      "Epoch [44/50] train Loss: 0.0028, train acc: 0.9279 | val_loss: 0.0095, val_acc: 0.5908\n",
      "Epoch [45/50] train Loss: 0.0029, train acc: 0.9232 | val_loss: 0.0096, val_acc: 0.5848\n",
      "Epoch [46/50] train Loss: 0.0026, train acc: 0.9309 | val_loss: 0.0097, val_acc: 0.5938\n",
      "Epoch [47/50] train Loss: 0.0025, train acc: 0.9395 | val_loss: 0.0097, val_acc: 0.5897\n",
      "Epoch [48/50] train Loss: 0.0023, train acc: 0.9444 | val_loss: 0.0098, val_acc: 0.5922\n",
      "Epoch [49/50] train Loss: 0.0022, train acc: 0.9377 | val_loss: 0.0101, val_acc: 0.5852\n",
      "Epoch [50/50] train Loss: 0.0021, train acc: 0.9469 | val_loss: 0.0100, val_acc: 0.5861\n"
     ]
    }
   ],
   "source": [
    "###  training\n",
    "print ('training start ...')\n",
    "num_epochs = 50   \n",
    "\n",
    "# initialize list for plot graph after training\n",
    "train_loss_list, train_acc_list, val_loss_list, val_acc_list = [], [], [], []\n",
    "\n",
    "for epoch in range(num_epochs):\n",
    "    # initialize each epoch\n",
    "    train_loss, train_acc, val_loss, val_acc = 0, 0, 0, 0\n",
    "    \n",
    "    # ======== train_mode (Backprop) ======\n",
    "    net.train()\n",
    "    for i, (images, labels) in enumerate(train_loader):  # get mini batch samples\n",
    "        #viewで28×28×１画像を１次元に変換し、deviceへ転送\n",
    "#        images, labels = images.view(-1, 28*28*1).to(device), labels.to(device)\n",
    "        images, labels = images.to(device), labels.to(device)\n",
    "        optimizer.zero_grad()  # Reset the gradients\n",
    "        outputs = net(images)  # forward computation\n",
    "        loss = criterion(outputs, labels)  # loss\n",
    "        loss.backward()  # backward computation        \n",
    "        optimizer.step()  # optimization\n",
    "    \n",
    "    # ======== eval_mode (training samples) ======\n",
    "    net.eval()\n",
    "    with torch.no_grad():  # no computation of gradients\n",
    "      for images, labels in train_loader:        \n",
    "#          images, labels = images.view(-1, 28*28*1).to(device), labels.to(device)\n",
    "          images, labels = images.to(device), labels.to(device)\n",
    "          outputs = net(images)\n",
    "          loss = criterion(outputs, labels)\n",
    "          train_loss += loss.item()\n",
    "          acc = (outputs.max(1)[1] == labels).sum()\n",
    "          train_acc += acc.item()\n",
    "    avg_train_loss = train_loss / len(train_loader.dataset)\n",
    "    avg_train_acc = train_acc / len(train_loader.dataset)\n",
    "\n",
    "    # ======== eval_mode (validation samples) ======\n",
    "    net.eval()\n",
    "    with torch.no_grad():  # no comptutation of gradients\n",
    "      for images, labels in valid_loader:        \n",
    "#          images, labels = images.view(-1, 28*28*1).to(device), labels.to(device)\n",
    "          images, labels = images.to(device), labels.to(device)\n",
    "          outputs = net(images)\n",
    "          loss = criterion(outputs, labels)\n",
    "          val_loss += loss.item()\n",
    "          acc = (outputs.max(1)[1] == labels).sum()\n",
    "          val_acc += acc.item()\n",
    "    avg_val_loss = val_loss / len(valid_loader.dataset)\n",
    "    avg_val_acc = val_acc / len(valid_loader.dataset)\n",
    "    \n",
    "    # print log\n",
    "    print ('Epoch [{}/{}] train Loss: {loss:.4f}, train acc: {acc:.4f} | val_loss: {val_loss:.4f}, val_acc: {val_acc:.4f}' \n",
    "                   .format(epoch+1, num_epochs, i+1, loss=avg_train_loss, acc=avg_train_acc, val_loss=avg_val_loss, val_acc=avg_val_acc))\n",
    "\n",
    "    # append list for polt graph after training\n",
    "    train_loss_list.append(avg_train_loss)\n",
    "    train_acc_list.append(avg_train_acc)\n",
    "    val_loss_list.append(avg_val_loss)\n",
    "    val_acc_list.append(avg_val_acc)\n"
   ]
  },
  {
   "cell_type": "code",
   "execution_count": 16,
   "metadata": {
    "colab": {
     "base_uri": "https://localhost:8080/",
     "height": 35
    },
    "colab_type": "code",
    "id": "lcVFP0RKG6Uf",
    "outputId": "768a56dd-019e-4edd-8221-93f7e5f26699"
   },
   "outputs": [
    {
     "name": "stdout",
     "output_type": "stream",
     "text": [
      "test_accuracy: 58.6 %\n"
     ]
    }
   ],
   "source": [
    "# ======== eval_mode (test samples) ======\n",
    "net.eval()\n",
    "with torch.no_grad():\n",
    "    total = 0\n",
    "    test_acc = 0\n",
    "    for images, labels in test_loader:        \n",
    "#        images, labels = images.view(-1, 28 * 28 * 1 ).to(device), labels.to(device)\n",
    "        images, labels = images.to(device), labels.to(device)\n",
    "        outputs = net(images)\n",
    "        test_acc += (outputs.max(1)[1] == labels).sum().item()\n",
    "        total += labels.size(0)\n",
    "    print('test_accuracy: {} %'.format(100 * test_acc / total)) \n",
    "\n",
    "# save weights (You can save the model by uncomment the following line)\n",
    "#torch.save(net.state_dict(), 'mnist_net.ckpt')\n"
   ]
  },
  {
   "cell_type": "code",
   "execution_count": 17,
   "metadata": {
    "colab": {
     "base_uri": "https://localhost:8080/",
     "height": 573
    },
    "colab_type": "code",
    "id": "tEEIBGsJG6Uk",
    "outputId": "48c8f044-1516-4235-81d3-e0be19bfd714"
   },
   "outputs": [
    {
     "data": {
      "image/png": "[encoded data removed]",
      "text/plain": [
       "<Figure size 432x288 with 1 Axes>"
      ]
     },
     "metadata": {
      "needs_background": "light"
     },
     "output_type": "display_data"
    },
    {
     "data": {
      "image/png": "[encoded data removed]",
      "text/plain": [
       "<Figure size 432x288 with 1 Axes>"
      ]
     },
     "metadata": {
      "needs_background": "light"
     },
     "output_type": "display_data"
    }
   ],
   "source": [
    "# plot graph\n",
    "import matplotlib.pyplot as plt\n",
    "\n",
    "plt.figure()\n",
    "plt.plot(range(num_epochs), train_loss_list, color='blue', linestyle='-', label='train_loss')\n",
    "plt.plot(range(num_epochs), val_loss_list, color='green', linestyle='--', label='val_loss')\n",
    "plt.ylim([0.0,0.02])\n",
    "plt.legend()\n",
    "plt.xlabel('epoch')\n",
    "plt.ylabel('loss')\n",
    "plt.title('Training and validation loss')\n",
    "plt.grid()\n",
    "plt.savefig('CNN_cifar10_loss_dropout.png')\n",
    "plt.show()\n",
    "\n",
    "plt.figure()\n",
    "plt.plot(range(num_epochs), train_acc_list, color='blue', linestyle='-', label='train_acc')\n",
    "plt.plot(range(num_epochs), val_acc_list, color='green', linestyle='--', label='val_acc')\n",
    "plt.ylim([0.5, 1.0])\n",
    "plt.legend()\n",
    "plt.xlabel('epoch')\n",
    "plt.ylabel('acc')\n",
    "plt.title('Training and validation accuracy')\n",
    "plt.grid()\n",
    "plt.savefig('CNN_cifar10_acc_dropout.png')\n",
    "plt.show()"
   ]
  },
  {
   "cell_type": "code",
   "execution_count": null,
   "metadata": {
    "colab": {},
    "colab_type": "code",
    "id": "g1jdTzc0G6Up"
   },
   "outputs": [],
   "source": []
  }
 ],
 "metadata": {
  "accelerator": "GPU",
  "colab": {
   "include_colab_link": true,
   "name": "CNN_cifar10.ipynb",
   "provenance": []
  },
  "kernelspec": {
   "display_name": "Python 3",
   "language": "python",
   "name": "python3"
  },
  "language_info": {
   "codemirror_mode": {
    "name": "ipython",
    "version": 3
   },
   "file_extension": ".py",
   "mimetype": "text/x-python",
   "name": "python",
   "nbconvert_exporter": "python",
   "pygments_lexer": "ipython3",
   "version": "3.7.7"
  },
  "widgets": {
   "application/vnd.jupyter.widget-state+json": {
    "3518365b90ab4730aebd3ef054e9ccd0": {
     "model_module": "@jupyter-widgets/controls",
     "model_name": "HTMLModel",
     "state": {
      "_dom_classes": [],
      "_model_module": "@jupyter-widgets/controls",
      "_model_module_version": "1.5.0",
      "_model_name": "HTMLModel",
      "_view_count": null,
      "_view_module": "@jupyter-widgets/controls",
      "_view_module_version": "1.5.0",
      "_view_name": "HTMLView",
      "description": "",
      "description_tooltip": null,
      "layout": "IPY_MODEL_cd41e4ea14c04e7786937814163dc404",
      "placeholder": "​",
      "style": "IPY_MODEL_d073dcf55ea54958a0609ec0d44e57ab",
      "value": " 170500096/? [00:20&lt;00:00, 83450838.57it/s]"
     }
    },
    "7114e80c1f8b4aca847703f8a014d8a7": {
     "model_module": "@jupyter-widgets/controls",
     "model_name": "HBoxModel",
     "state": {
      "_dom_classes": [],
      "_model_module": "@jupyter-widgets/controls",
      "_model_module_version": "1.5.0",
      "_model_name": "HBoxModel",
      "_view_count": null,
      "_view_module": "@jupyter-widgets/controls",
      "_view_module_version": "1.5.0",
      "_view_name": "HBoxView",
      "box_style": "",
      "children": [
       "IPY_MODEL_b4a4ae59292342dfa0f8d6c1251142ff",
       "IPY_MODEL_3518365b90ab4730aebd3ef054e9ccd0"
      ],
      "layout": "IPY_MODEL_debeeb78f1d241dfb82bb7bde84dd4ac"
     }
    },
    "85e4eef28deb4a608483b9392b84ae5f": {
     "model_module": "@jupyter-widgets/base",
     "model_name": "LayoutModel",
     "state": {
      "_model_module": "@jupyter-widgets/base",
      "_model_module_version": "1.2.0",
      "_model_name": "LayoutModel",
      "_view_count": null,
      "_view_module": "@jupyter-widgets/base",
      "_view_module_version": "1.2.0",
      "_view_name": "LayoutView",
      "align_content": null,
      "align_items": null,
      "align_self": null,
      "border": null,
      "bottom": null,
      "display": null,
      "flex": null,
      "flex_flow": null,
      "grid_area": null,
      "grid_auto_columns": null,
      "grid_auto_flow": null,
      "grid_auto_rows": null,
      "grid_column": null,
      "grid_gap": null,
      "grid_row": null,
      "grid_template_areas": null,
      "grid_template_columns": null,
      "grid_template_rows": null,
      "height": null,
      "justify_content": null,
      "justify_items": null,
      "left": null,
      "margin": null,
      "max_height": null,
      "max_width": null,
      "min_height": null,
      "min_width": null,
      "object_fit": null,
      "object_position": null,
      "order": null,
      "overflow": null,
      "overflow_x": null,
      "overflow_y": null,
      "padding": null,
      "right": null,
      "top": null,
      "visibility": null,
      "width": null
     }
    },
    "b4a4ae59292342dfa0f8d6c1251142ff": {
     "model_module": "@jupyter-widgets/controls",
     "model_name": "FloatProgressModel",
     "state": {
      "_dom_classes": [],
      "_model_module": "@jupyter-widgets/controls",
      "_model_module_version": "1.5.0",
      "_model_name": "FloatProgressModel",
      "_view_count": null,
      "_view_module": "@jupyter-widgets/controls",
      "_view_module_version": "1.5.0",
      "_view_name": "ProgressView",
      "bar_style": "info",
      "description": "",
      "description_tooltip": null,
      "layout": "IPY_MODEL_85e4eef28deb4a608483b9392b84ae5f",
      "max": 1,
      "min": 0,
      "orientation": "horizontal",
      "style": "IPY_MODEL_bed83fc4215947609b67fe11bea00a5b",
      "value": 1
     }
    },
    "bed83fc4215947609b67fe11bea00a5b": {
     "model_module": "@jupyter-widgets/controls",
     "model_name": "ProgressStyleModel",
     "state": {
      "_model_module": "@jupyter-widgets/controls",
      "_model_module_version": "1.5.0",
      "_model_name": "ProgressStyleModel",
      "_view_count": null,
      "_view_module": "@jupyter-widgets/base",
      "_view_module_version": "1.2.0",
      "_view_name": "StyleView",
      "bar_color": null,
      "description_width": "initial"
     }
    },
    "cd41e4ea14c04e7786937814163dc404": {
     "model_module": "@jupyter-widgets/base",
     "model_name": "LayoutModel",
     "state": {
      "_model_module": "@jupyter-widgets/base",
      "_model_module_version": "1.2.0",
      "_model_name": "LayoutModel",
      "_view_count": null,
      "_view_module": "@jupyter-widgets/base",
      "_view_module_version": "1.2.0",
      "_view_name": "LayoutView",
      "align_content": null,
      "align_items": null,
      "align_self": null,
      "border": null,
      "bottom": null,
      "display": null,
      "flex": null,
      "flex_flow": null,
      "grid_area": null,
      "grid_auto_columns": null,
      "grid_auto_flow": null,
      "grid_auto_rows": null,
      "grid_column": null,
      "grid_gap": null,
      "grid_row": null,
      "grid_template_areas": null,
      "grid_template_columns": null,
      "grid_template_rows": null,
      "height": null,
      "justify_content": null,
      "justify_items": null,
      "left": null,
      "margin": null,
      "max_height": null,
      "max_width": null,
      "min_height": null,
      "min_width": null,
      "object_fit": null,
      "object_position": null,
      "order": null,
      "overflow": null,
      "overflow_x": null,
      "overflow_y": null,
      "padding": null,
      "right": null,
      "top": null,
      "visibility": null,
      "width": null
     }
    },
    "d073dcf55ea54958a0609ec0d44e57ab": {
     "model_module": "@jupyter-widgets/controls",
     "model_name": "DescriptionStyleModel",
     "state": {
      "_model_module": "@jupyter-widgets/controls",
      "_model_module_version": "1.5.0",
      "_model_name": "DescriptionStyleModel",
      "_view_count": null,
      "_view_module": "@jupyter-widgets/base",
      "_view_module_version": "1.2.0",
      "_view_name": "StyleView",
      "description_width": ""
     }
    },
    "debeeb78f1d241dfb82bb7bde84dd4ac": {
     "model_module": "@jupyter-widgets/base",
     "model_name": "LayoutModel",
     "state": {
      "_model_module": "@jupyter-widgets/base",
      "_model_module_version": "1.2.0",
      "_model_name": "LayoutModel",
      "_view_count": null,
      "_view_module": "@jupyter-widgets/base",
      "_view_module_version": "1.2.0",
      "_view_name": "LayoutView",
      "align_content": null,
      "align_items": null,
      "align_self": null,
      "border": null,
      "bottom": null,
      "display": null,
      "flex": null,
      "flex_flow": null,
      "grid_area": null,
      "grid_auto_columns": null,
      "grid_auto_flow": null,
      "grid_auto_rows": null,
      "grid_column": null,
      "grid_gap": null,
      "grid_row": null,
      "grid_template_areas": null,
      "grid_template_columns": null,
      "grid_template_rows": null,
      "height": null,
      "justify_content": null,
      "justify_items": null,
      "left": null,
      "margin": null,
      "max_height": null,
      "max_width": null,
      "min_height": null,
      "min_width": null,
      "object_fit": null,
      "object_position": null,
      "order": null,
      "overflow": null,
      "overflow_x": null,
      "overflow_y": null,
      "padding": null,
      "right": null,
      "top": null,
      "visibility": null,
      "width": null
     }
    }
   }
  }
 },
 "nbformat": 4,
 "nbformat_minor": 4
}
