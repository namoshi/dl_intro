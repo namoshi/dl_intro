{
  "cells": [
    {
      "metadata": {
        "collapsed": true
      },
      "cell_type": "markdown",
      "source": "四則演算"
    },
    {
      "metadata": {
        "trusted": true
      },
      "cell_type": "code",
      "source": "1+2*3-4/5",
      "execution_count": 1,
      "outputs": [
        {
          "output_type": "execute_result",
          "execution_count": 1,
          "data": {
            "text/plain": "6.2"
          },
          "metadata": {}
        }
      ]
    },
    {
      "metadata": {
        "trusted": true
      },
      "cell_type": "code",
      "source": "(1+2+3+4+5+6+7+8+9+10)/5",
      "execution_count": 2,
      "outputs": [
        {
          "output_type": "execute_result",
          "execution_count": 2,
          "data": {
            "text/plain": "11.0"
          },
          "metadata": {}
        }
      ]
    },
    {
      "metadata": {},
      "cell_type": "markdown",
      "source": "累乗"
    },
    {
      "metadata": {
        "trusted": true
      },
      "cell_type": "code",
      "source": "2**10",
      "execution_count": 3,
      "outputs": [
        {
          "output_type": "execute_result",
          "execution_count": 3,
          "data": {
            "text/plain": "1024"
          },
          "metadata": {}
        }
      ]
    },
    {
      "metadata": {},
      "cell_type": "markdown",
      "source": "変数"
    },
    {
      "metadata": {
        "trusted": true
      },
      "cell_type": "code",
      "source": "x = 1\ny = 1/3\nx + y",
      "execution_count": 4,
      "outputs": [
        {
          "output_type": "execute_result",
          "execution_count": 4,
          "data": {
            "text/plain": "1.3333333333333333"
          },
          "metadata": {}
        }
      ]
    },
    {
      "metadata": {
        "trusted": true
      },
      "cell_type": "code",
      "source": "My_Int = 1\nMy_Real = 1/3\nMy_Int + My_Real",
      "execution_count": 5,
      "outputs": [
        {
          "output_type": "execute_result",
          "execution_count": 5,
          "data": {
            "text/plain": "1.3333333333333333"
          },
          "metadata": {}
        }
      ]
    },
    {
      "metadata": {},
      "cell_type": "markdown",
      "source": "変数の型"
    },
    {
      "metadata": {
        "trusted": true
      },
      "cell_type": "code",
      "source": "type(My_Int)",
      "execution_count": 6,
      "outputs": [
        {
          "output_type": "execute_result",
          "execution_count": 6,
          "data": {
            "text/plain": "int"
          },
          "metadata": {}
        }
      ]
    },
    {
      "metadata": {
        "trusted": true
      },
      "cell_type": "code",
      "source": "type(My_Real)",
      "execution_count": 7,
      "outputs": [
        {
          "output_type": "execute_result",
          "execution_count": 7,
          "data": {
            "text/plain": "float"
          },
          "metadata": {}
        }
      ]
    },
    {
      "metadata": {
        "trusted": true
      },
      "cell_type": "code",
      "source": "type(1.0)",
      "execution_count": 8,
      "outputs": [
        {
          "output_type": "execute_result",
          "execution_count": 8,
          "data": {
            "text/plain": "float"
          },
          "metadata": {}
        }
      ]
    },
    {
      "metadata": {},
      "cell_type": "markdown",
      "source": "文字列"
    },
    {
      "metadata": {
        "trusted": true
      },
      "cell_type": "code",
      "source": "s = 'Machine Learning'\ntype(s)\ns",
      "execution_count": 9,
      "outputs": [
        {
          "output_type": "execute_result",
          "execution_count": 9,
          "data": {
            "text/plain": "'Machine Learning'"
          },
          "metadata": {}
        }
      ]
    },
    {
      "metadata": {
        "trusted": true
      },
      "cell_type": "code",
      "source": "t = ' is a set of tools for AI.'\ns + t",
      "execution_count": 10,
      "outputs": [
        {
          "output_type": "execute_result",
          "execution_count": 10,
          "data": {
            "text/plain": "'Machine Learning is a set of tools for AI.'"
          },
          "metadata": {}
        }
      ]
    },
    {
      "metadata": {},
      "cell_type": "markdown",
      "source": "print"
    },
    {
      "metadata": {
        "trusted": true
      },
      "cell_type": "code",
      "source": "x = 1 / 3\nprint(x)\ny = 2 / 3\nprint(y)",
      "execution_count": 11,
      "outputs": [
        {
          "output_type": "stream",
          "text": "0.3333333333333333\n0.6666666666666666\n",
          "name": "stdout"
        }
      ]
    },
    {
      "metadata": {
        "trusted": true
      },
      "cell_type": "code",
      "source": "print('weight = {0} kg'.format(x))",
      "execution_count": 12,
      "outputs": [
        {
          "output_type": "stream",
          "text": "weight = 0.3333333333333333 kg\n",
          "name": "stdout"
        }
      ]
    },
    {
      "metadata": {
        "trusted": true
      },
      "cell_type": "code",
      "source": "print('weight = {0} kg, {1} kg'.format(x, y))",
      "execution_count": 13,
      "outputs": [
        {
          "output_type": "stream",
          "text": "weight = 0.3333333333333333 kg, 0.6666666666666666 kg\n",
          "name": "stdout"
        }
      ]
    },
    {
      "metadata": {
        "trusted": true
      },
      "cell_type": "code",
      "source": "print('weight = {0:.2f} kg, {1:.2f} kg'.format(x, y))",
      "execution_count": 14,
      "outputs": [
        {
          "output_type": "stream",
          "text": "weight = 0.33 kg, 0.67 kg\n",
          "name": "stdout"
        }
      ]
    },
    {
      "metadata": {},
      "cell_type": "markdown",
      "source": "リスト"
    },
    {
      "metadata": {
        "trusted": true
      },
      "cell_type": "code",
      "source": "x = [1, 0, 2, 3, 4, 5]\nprint(x)",
      "execution_count": 17,
      "outputs": [
        {
          "output_type": "stream",
          "text": "[1, 0, 2, 3, 4, 5]\n",
          "name": "stdout"
        }
      ]
    },
    {
      "metadata": {
        "trusted": true
      },
      "cell_type": "code",
      "source": "type(x)",
      "execution_count": 18,
      "outputs": [
        {
          "output_type": "execute_result",
          "execution_count": 18,
          "data": {
            "text/plain": "list"
          },
          "metadata": {}
        }
      ]
    },
    {
      "metadata": {
        "trusted": true
      },
      "cell_type": "code",
      "source": "x[0]",
      "execution_count": 19,
      "outputs": [
        {
          "output_type": "execute_result",
          "execution_count": 19,
          "data": {
            "text/plain": "1"
          },
          "metadata": {}
        }
      ]
    },
    {
      "metadata": {
        "trusted": true
      },
      "cell_type": "code",
      "source": "x[3]",
      "execution_count": 20,
      "outputs": [
        {
          "output_type": "execute_result",
          "execution_count": 20,
          "data": {
            "text/plain": "3"
          },
          "metadata": {}
        }
      ]
    },
    {
      "metadata": {
        "trusted": true
      },
      "cell_type": "code",
      "source": "type(x[3])",
      "execution_count": 21,
      "outputs": [
        {
          "output_type": "execute_result",
          "execution_count": 21,
          "data": {
            "text/plain": "int"
          },
          "metadata": {}
        }
      ]
    },
    {
      "metadata": {
        "trusted": true
      },
      "cell_type": "code",
      "source": "s = ['SUN', 'MON', 'TUE']\nprint(s)",
      "execution_count": 22,
      "outputs": [
        {
          "output_type": "stream",
          "text": "['SUN', 'MON', 'TUE']\n",
          "name": "stdout"
        }
      ]
    },
    {
      "metadata": {
        "trusted": true
      },
      "cell_type": "code",
      "source": "s[1]",
      "execution_count": 23,
      "outputs": [
        {
          "output_type": "execute_result",
          "execution_count": 23,
          "data": {
            "text/plain": "'MON'"
          },
          "metadata": {}
        }
      ]
    },
    {
      "metadata": {
        "trusted": true
      },
      "cell_type": "code",
      "source": "type(s)",
      "execution_count": 24,
      "outputs": [
        {
          "output_type": "execute_result",
          "execution_count": 24,
          "data": {
            "text/plain": "list"
          },
          "metadata": {}
        }
      ]
    },
    {
      "metadata": {
        "trusted": true
      },
      "cell_type": "code",
      "source": "type(s[1])",
      "execution_count": 25,
      "outputs": [
        {
          "output_type": "execute_result",
          "execution_count": 25,
          "data": {
            "text/plain": "str"
          },
          "metadata": {}
        }
      ]
    },
    {
      "metadata": {},
      "cell_type": "markdown",
      "source": "２次元の配列（リストのリスト）"
    },
    {
      "metadata": {
        "trusted": true
      },
      "cell_type": "code",
      "source": "a = [[1, 2, 3], [4, 5, 6]]\nprint(a)",
      "execution_count": 26,
      "outputs": [
        {
          "output_type": "stream",
          "text": "[[1, 2, 3], [4, 5, 6]]\n",
          "name": "stdout"
        }
      ]
    },
    {
      "metadata": {
        "trusted": true
      },
      "cell_type": "code",
      "source": "a[0][1]",
      "execution_count": 27,
      "outputs": [
        {
          "output_type": "execute_result",
          "execution_count": 27,
          "data": {
            "text/plain": "2"
          },
          "metadata": {}
        }
      ]
    },
    {
      "metadata": {
        "trusted": true
      },
      "cell_type": "code",
      "source": "a[1][2]",
      "execution_count": 28,
      "outputs": [
        {
          "output_type": "execute_result",
          "execution_count": 28,
          "data": {
            "text/plain": "6"
          },
          "metadata": {}
        }
      ]
    },
    {
      "metadata": {
        "trusted": true
      },
      "cell_type": "code",
      "source": "a[0][1] = 10\nprint(a)",
      "execution_count": 29,
      "outputs": [
        {
          "output_type": "stream",
          "text": "[[1, 10, 3], [4, 5, 6]]\n",
          "name": "stdout"
        }
      ]
    },
    {
      "metadata": {
        "trusted": true
      },
      "cell_type": "code",
      "source": "len(s)",
      "execution_count": 30,
      "outputs": [
        {
          "output_type": "execute_result",
          "execution_count": 30,
          "data": {
            "text/plain": "3"
          },
          "metadata": {}
        }
      ]
    },
    {
      "metadata": {
        "trusted": true
      },
      "cell_type": "code",
      "source": "len(a)",
      "execution_count": 31,
      "outputs": [
        {
          "output_type": "execute_result",
          "execution_count": 31,
          "data": {
            "text/plain": "2"
          },
          "metadata": {}
        }
      ]
    },
    {
      "metadata": {
        "trusted": true
      },
      "cell_type": "code",
      "source": "len(a[0])",
      "execution_count": 32,
      "outputs": [
        {
          "output_type": "execute_result",
          "execution_count": 32,
          "data": {
            "text/plain": "3"
          },
          "metadata": {}
        }
      ]
    },
    {
      "metadata": {},
      "cell_type": "markdown",
      "source": "連続した整数データ"
    },
    {
      "metadata": {
        "trusted": true
      },
      "cell_type": "code",
      "source": "y = range(5, 10)\nprint(y)",
      "execution_count": 33,
      "outputs": [
        {
          "output_type": "stream",
          "text": "range(5, 10)\n",
          "name": "stdout"
        }
      ]
    },
    {
      "metadata": {
        "trusted": true
      },
      "cell_type": "code",
      "source": "y[0]",
      "execution_count": 34,
      "outputs": [
        {
          "output_type": "execute_result",
          "execution_count": 34,
          "data": {
            "text/plain": "5"
          },
          "metadata": {}
        }
      ]
    },
    {
      "metadata": {
        "trusted": true
      },
      "cell_type": "code",
      "source": "z = list(range(5, 10))\nprint(z)",
      "execution_count": 35,
      "outputs": [
        {
          "output_type": "stream",
          "text": "[5, 6, 7, 8, 9]\n",
          "name": "stdout"
        }
      ]
    },
    {
      "metadata": {
        "trusted": true
      },
      "cell_type": "code",
      "source": "zz = list(range(10))\nprint(zz)",
      "execution_count": 36,
      "outputs": [
        {
          "output_type": "stream",
          "text": "[0, 1, 2, 3, 4, 5, 6, 7, 8, 9]\n",
          "name": "stdout"
        }
      ]
    },
    {
      "metadata": {},
      "cell_type": "markdown",
      "source": "tuple （タプル）"
    },
    {
      "metadata": {
        "trusted": true
      },
      "cell_type": "code",
      "source": "a = (1, 2, 3)\nprint(a)",
      "execution_count": 37,
      "outputs": [
        {
          "output_type": "stream",
          "text": "(1, 2, 3)\n",
          "name": "stdout"
        }
      ]
    },
    {
      "metadata": {
        "trusted": true
      },
      "cell_type": "code",
      "source": "print(a[1])",
      "execution_count": 38,
      "outputs": [
        {
          "output_type": "stream",
          "text": "2\n",
          "name": "stdout"
        }
      ]
    },
    {
      "metadata": {
        "trusted": true
      },
      "cell_type": "code",
      "source": "type(a)",
      "execution_count": 39,
      "outputs": [
        {
          "output_type": "execute_result",
          "execution_count": 39,
          "data": {
            "text/plain": "tuple"
          },
          "metadata": {}
        }
      ]
    },
    {
      "metadata": {
        "trusted": true
      },
      "cell_type": "code",
      "source": "a[2] = 1",
      "execution_count": 40,
      "outputs": [
        {
          "output_type": "error",
          "ename": "TypeError",
          "evalue": "'tuple' object does not support item assignment",
          "traceback": [
            "\u001b[0;31m---------------------------------------------------------------------------\u001b[0m",
            "\u001b[0;31mTypeError\u001b[0m                                 Traceback (most recent call last)",
            "\u001b[0;32m<ipython-input-40-05809b234b3f>\u001b[0m in \u001b[0;36m<module>\u001b[0;34m\u001b[0m\n\u001b[0;32m----> 1\u001b[0;31m \u001b[0ma\u001b[0m\u001b[0;34m[\u001b[0m\u001b[0;36m2\u001b[0m\u001b[0;34m]\u001b[0m \u001b[0;34m=\u001b[0m \u001b[0;36m1\u001b[0m\u001b[0;34m\u001b[0m\u001b[0m\n\u001b[0m",
            "\u001b[0;31mTypeError\u001b[0m: 'tuple' object does not support item assignment"
          ]
        }
      ]
    },
    {
      "metadata": {
        "trusted": true
      },
      "cell_type": "code",
      "source": "a = (1)\ntype(a)",
      "execution_count": 41,
      "outputs": [
        {
          "output_type": "execute_result",
          "execution_count": 41,
          "data": {
            "text/plain": "int"
          },
          "metadata": {}
        }
      ]
    },
    {
      "metadata": {
        "trusted": true
      },
      "cell_type": "code",
      "source": "a = (1,)\ntype(a)",
      "execution_count": 42,
      "outputs": [
        {
          "output_type": "execute_result",
          "execution_count": 42,
          "data": {
            "text/plain": "tuple"
          },
          "metadata": {}
        }
      ]
    },
    {
      "metadata": {},
      "cell_type": "markdown",
      "source": "if 文"
    },
    {
      "metadata": {
        "trusted": true
      },
      "cell_type": "code",
      "source": "x = 11\nif x > 10:\n    print('x is larger than 10.')\n    print('x = {0}'.format(x))\nelse:\n    print('x = {0}'.format(x))",
      "execution_count": 43,
      "outputs": [
        {
          "output_type": "stream",
          "text": "x is larger than 10.\nx = 11\n",
          "name": "stdout"
        }
      ]
    },
    {
      "metadata": {
        "trusted": true
      },
      "cell_type": "code",
      "source": "x > 10",
      "execution_count": 44,
      "outputs": [
        {
          "output_type": "execute_result",
          "execution_count": 44,
          "data": {
            "text/plain": "True"
          },
          "metadata": {}
        }
      ]
    },
    {
      "metadata": {
        "trusted": true
      },
      "cell_type": "code",
      "source": "type(x > 10)",
      "execution_count": 45,
      "outputs": [
        {
          "output_type": "execute_result",
          "execution_count": 45,
          "data": {
            "text/plain": "bool"
          },
          "metadata": {}
        }
      ]
    },
    {
      "metadata": {},
      "cell_type": "markdown",
      "source": "比較演算子"
    },
    {
      "metadata": {
        "trusted": true
      },
      "cell_type": "code",
      "source": "a = 10\nb = 11\nprint(a == b)\nprint(a > b)\nprint(a >= b)\nprint(a < b)\nprint(a <= b)\nprint(a != b)\nprint(a < b and a != b)",
      "execution_count": 46,
      "outputs": [
        {
          "output_type": "stream",
          "text": "False\nFalse\nFalse\nTrue\nTrue\nTrue\nTrue\n",
          "name": "stdout"
        }
      ]
    },
    {
      "metadata": {},
      "cell_type": "markdown",
      "source": "for 文"
    },
    {
      "metadata": {
        "trusted": true
      },
      "cell_type": "code",
      "source": "for i in [1, 2, 3]:\n    print('i = {0}'.format(i))",
      "execution_count": 47,
      "outputs": [
        {
          "output_type": "stream",
          "text": "i = 1\ni = 2\ni = 3\n",
          "name": "stdout"
        }
      ]
    },
    {
      "metadata": {
        "trusted": true
      },
      "cell_type": "code",
      "source": "num = [2, 4, 6, 8, 10]\nfor i in range(len(num)):\n    num[i] = num[i] * 2\nprint(num)",
      "execution_count": 48,
      "outputs": [
        {
          "output_type": "stream",
          "text": "[4, 8, 12, 16, 20]\n",
          "name": "stdout"
        }
      ]
    },
    {
      "metadata": {},
      "cell_type": "markdown",
      "source": "# numpy を利用した配列計算\n\nベクトル"
    },
    {
      "metadata": {
        "trusted": true
      },
      "cell_type": "code",
      "source": "import numpy as np\nx = np.array([1, 2, 3])\nprint(x)\ntype(x)",
      "execution_count": 49,
      "outputs": [
        {
          "output_type": "stream",
          "text": "[1 2 3]\n",
          "name": "stdout"
        },
        {
          "output_type": "execute_result",
          "execution_count": 49,
          "data": {
            "text/plain": "numpy.ndarray"
          },
          "metadata": {}
        }
      ]
    },
    {
      "metadata": {
        "trusted": true
      },
      "cell_type": "code",
      "source": "y = np.array([4, 5, 6])\nprint(y)\nz = x + 2*y\nprint(z)",
      "execution_count": 50,
      "outputs": [
        {
          "output_type": "stream",
          "text": "[4 5 6]\n[ 9 12 15]\n",
          "name": "stdout"
        }
      ]
    },
    {
      "metadata": {
        "trusted": true
      },
      "cell_type": "code",
      "source": "print(x[0])\nprint(y[2])\nprint(z[1])",
      "execution_count": 51,
      "outputs": [
        {
          "output_type": "stream",
          "text": "1\n6\n12\n",
          "name": "stdout"
        }
      ]
    },
    {
      "metadata": {
        "trusted": true
      },
      "cell_type": "code",
      "source": "x[0] = 2\nprint(x)",
      "execution_count": 52,
      "outputs": [
        {
          "output_type": "stream",
          "text": "[2 2 3]\n",
          "name": "stdout"
        }
      ]
    },
    {
      "metadata": {
        "trusted": true
      },
      "cell_type": "code",
      "source": "z = x + 2*y\nprint(z)",
      "execution_count": 53,
      "outputs": [
        {
          "output_type": "stream",
          "text": "[10 12 15]\n",
          "name": "stdout"
        }
      ]
    },
    {
      "metadata": {},
      "cell_type": "markdown",
      "source": "連続したベクトルの作成"
    },
    {
      "metadata": {
        "trusted": true
      },
      "cell_type": "code",
      "source": "a = np.arange(10)\nprint(a)",
      "execution_count": 54,
      "outputs": [
        {
          "output_type": "stream",
          "text": "[0 1 2 3 4 5 6 7 8 9]\n",
          "name": "stdout"
        }
      ]
    },
    {
      "metadata": {
        "trusted": true
      },
      "cell_type": "code",
      "source": "b = np.arange(5,10)\nprint(b)",
      "execution_count": 55,
      "outputs": [
        {
          "output_type": "stream",
          "text": "[5 6 7 8 9]\n",
          "name": "stdout"
        }
      ]
    },
    {
      "metadata": {},
      "cell_type": "markdown",
      "source": "ベクトルのコピー\n（注意： a = b は使えない！）"
    },
    {
      "metadata": {
        "trusted": true
      },
      "cell_type": "code",
      "source": "a = np.array([1, 2])\nb = np.copy(a)\nb[0] = 2\nc = a.copy()\nprint('a is {0}'.format(a))\nprint('b is {0}'.format(b))\nprint('c is {0}'.format(c))",
      "execution_count": 56,
      "outputs": [
        {
          "output_type": "stream",
          "text": "a is [1 2]\nb is [2 2]\nc is [1 2]\n",
          "name": "stdout"
        }
      ]
    },
    {
      "metadata": {},
      "cell_type": "markdown",
      "source": "ソート"
    },
    {
      "metadata": {
        "trusted": true
      },
      "cell_type": "code",
      "source": "data = np.random.randint(0,100,10)\nprint('ソートの前：', data)\ndata.sort()\nprint('ソートの後：', data)",
      "execution_count": 57,
      "outputs": [
        {
          "output_type": "stream",
          "text": "ソートの前： [84  4  3 58 29 87  7 55 80 69]\nソートの後： [ 3  4  7 29 55 58 69 80 84 87]\n",
          "name": "stdout"
        }
      ]
    },
    {
      "metadata": {},
      "cell_type": "markdown",
      "source": "最大，最小，合計"
    },
    {
      "metadata": {
        "trusted": true
      },
      "cell_type": "code",
      "source": "# Min\nprint('Min:', data.min())\n# Max\nprint('Max:', data.max())\n# sum\nprint('Sum:', data.sum())",
      "execution_count": 58,
      "outputs": [
        {
          "output_type": "stream",
          "text": "Min: 3\nMax: 87\nSum: 476\n",
          "name": "stdout"
        }
      ]
    },
    {
      "metadata": {},
      "cell_type": "markdown",
      "source": "# numpyを持ちた配列\n\n行列（Matrix)"
    },
    {
      "metadata": {
        "trusted": true
      },
      "cell_type": "code",
      "source": "X = np.array([[1,2,3],[4,5,6],[7,8,9]])\nprint(X)",
      "execution_count": 59,
      "outputs": [
        {
          "output_type": "stream",
          "text": "[[1 2 3]\n [4 5 6]\n [7 8 9]]\n",
          "name": "stdout"
        }
      ]
    },
    {
      "metadata": {
        "trusted": true
      },
      "cell_type": "code",
      "source": "np.shape(X)",
      "execution_count": 60,
      "outputs": [
        {
          "output_type": "execute_result",
          "execution_count": 60,
          "data": {
            "text/plain": "(3, 3)"
          },
          "metadata": {}
        }
      ]
    },
    {
      "metadata": {
        "trusted": true
      },
      "cell_type": "code",
      "source": "X.shape",
      "execution_count": 61,
      "outputs": [
        {
          "output_type": "execute_result",
          "execution_count": 61,
          "data": {
            "text/plain": "(3, 3)"
          },
          "metadata": {}
        }
      ]
    },
    {
      "metadata": {
        "trusted": true
      },
      "cell_type": "code",
      "source": "Y = np.array([[1,2,3],[3,2,1]])\nprint('Y is ')\nprint(Y)\nm, n = Y.shape\nprint('m = {0}'.format(m))\nprint('n = {0}'.format(n))",
      "execution_count": 62,
      "outputs": [
        {
          "output_type": "stream",
          "text": "Y is \n[[1 2 3]\n [3 2 1]]\nm = 2\nn = 3\n",
          "name": "stdout"
        }
      ]
    },
    {
      "metadata": {
        "trusted": true
      },
      "cell_type": "code",
      "source": "print('X is')\nprint(X)\nprint('X[0,1]= {0}'.format(X[0, 1]))\nprint('X[1,1]= {0}'.format(X[1, 1]))\nprint('X[2,2]= {0}'.format(X[2, 2]))",
      "execution_count": 63,
      "outputs": [
        {
          "output_type": "stream",
          "text": "X is\n[[1 2 3]\n [4 5 6]\n [7 8 9]]\nX[0,1]= 2\nX[1,1]= 5\nX[2,2]= 9\n",
          "name": "stdout"
        }
      ]
    },
    {
      "metadata": {
        "trusted": true
      },
      "cell_type": "code",
      "source": "X[1, 2] = 66\nprint('X is')\nprint(X)",
      "execution_count": 64,
      "outputs": [
        {
          "output_type": "stream",
          "text": "X is\n[[ 1  2  3]\n [ 4  5 66]\n [ 7  8  9]]\n",
          "name": "stdout"
        }
      ]
    },
    {
      "metadata": {
        "trusted": true
      },
      "cell_type": "code",
      "source": "O = np.zeros((3,3))\nprint('O is')\nprint(O)",
      "execution_count": 65,
      "outputs": [
        {
          "output_type": "stream",
          "text": "O is\n[[0. 0. 0.]\n [0. 0. 0.]\n [0. 0. 0.]]\n",
          "name": "stdout"
        }
      ]
    },
    {
      "metadata": {
        "trusted": true
      },
      "cell_type": "code",
      "source": "ones = np.ones((10))\nprint(ones)\nOnes = np.ones((3,3))\nprint(Ones)",
      "execution_count": 66,
      "outputs": [
        {
          "output_type": "stream",
          "text": "[1. 1. 1. 1. 1. 1. 1. 1. 1. 1.]\n[[1. 1. 1.]\n [1. 1. 1.]\n [1. 1. 1.]]\n",
          "name": "stdout"
        }
      ]
    },
    {
      "metadata": {
        "trusted": true
      },
      "cell_type": "code",
      "source": "R = np.random.rand(3, 2)\nprint('R is a random matrix')\nprint(R)",
      "execution_count": 67,
      "outputs": [
        {
          "output_type": "stream",
          "text": "R is a random matrix\n[[0.96939912 0.58067708]\n [0.59931081 0.02780962]\n [0.18597647 0.79932074]]\n",
          "name": "stdout"
        }
      ]
    },
    {
      "metadata": {
        "trusted": true
      },
      "cell_type": "code",
      "source": "a = np.arange(10)\nprint(a)\nb = np.reshape(a, (2, 5))\nprint(b)",
      "execution_count": 68,
      "outputs": [
        {
          "output_type": "stream",
          "text": "[0 1 2 3 4 5 6 7 8 9]\n[[0 1 2 3 4]\n [5 6 7 8 9]]\n",
          "name": "stdout"
        }
      ]
    },
    {
      "metadata": {
        "trusted": true
      },
      "cell_type": "code",
      "source": "c = a.reshape(2, 5)\nprint(c)",
      "execution_count": 69,
      "outputs": [
        {
          "output_type": "stream",
          "text": "[[0 1 2 3 4]\n [5 6 7 8 9]]\n",
          "name": "stdout"
        }
      ]
    },
    {
      "metadata": {},
      "cell_type": "markdown",
      "source": "行列計算 (Matrix Calculation)"
    },
    {
      "metadata": {},
      "cell_type": "markdown",
      "source": "和，差"
    },
    {
      "metadata": {
        "trusted": true
      },
      "cell_type": "code",
      "source": "A = np.array([[1,2,3],[3,3,3]])\nB = np.array([[3,2,1],[1,2,3]])\nC = A + B\nD = A - B\nprint('A')\nprint(A)\nprint('B')\nprint(B)\nprint('A + B')\nprint(C)\nprint('A - B')\nprint(D)",
      "execution_count": 70,
      "outputs": [
        {
          "output_type": "stream",
          "text": "A\n[[1 2 3]\n [3 3 3]]\nB\n[[3 2 1]\n [1 2 3]]\nA + B\n[[4 4 4]\n [4 5 6]]\nA - B\n[[-2  0  2]\n [ 2  1  0]]\n",
          "name": "stdout"
        }
      ]
    },
    {
      "metadata": {},
      "cell_type": "markdown",
      "source": "スカラー倍"
    },
    {
      "metadata": {
        "trusted": true
      },
      "cell_type": "code",
      "source": "a = 2.0\nC = a * A\nprint('a={0}'.format(a))\nprint('A')\nprint(A)\nprint('a * A')\nprint(C)",
      "execution_count": 71,
      "outputs": [
        {
          "output_type": "stream",
          "text": "a=2.0\nA\n[[1 2 3]\n [3 3 3]]\na * A\n[[2. 4. 6.]\n [6. 6. 6.]]\n",
          "name": "stdout"
        }
      ]
    },
    {
      "metadata": {},
      "cell_type": "markdown",
      "source": "積"
    },
    {
      "metadata": {
        "trusted": true
      },
      "cell_type": "code",
      "source": "A = np.array([[1,2,3],[4,5,6]])\nB = np.array([[1,2],[3,1],[2,1]])\nprint('A')\nprint(A)\nprint('B')\nprint(B)\nC = np.dot(A,B)\nprint('C')\nprint(C)\nD = A.dot(B)\nprint('D')\nprint(D)\nC = np.dot(B, A)\nprint('C')\nprint(C)\nD = B.dot(A)\nprint('D')\nprint(D)",
      "execution_count": 72,
      "outputs": [
        {
          "output_type": "stream",
          "text": "A\n[[1 2 3]\n [4 5 6]]\nB\n[[1 2]\n [3 1]\n [2 1]]\nC\n[[13  7]\n [31 19]]\nD\n[[13  7]\n [31 19]]\nC\n[[ 9 12 15]\n [ 7 11 15]\n [ 6  9 12]]\nD\n[[ 9 12 15]\n [ 7 11 15]\n [ 6  9 12]]\n",
          "name": "stdout"
        }
      ]
    },
    {
      "metadata": {},
      "cell_type": "markdown",
      "source": "転置"
    },
    {
      "metadata": {
        "trusted": true
      },
      "cell_type": "code",
      "source": "A = np.array([[1,2,3],[4,5,6],[7,8,9]])\nprint('A')\nprint(A)\nB = np.transpose(A)\nprint('Transpose of A')\nprint(B)\nC = A.T\nprint('Transpose of A can be calculated by A.T')\nprint(C)",
      "execution_count": 73,
      "outputs": [
        {
          "output_type": "stream",
          "text": "A\n[[1 2 3]\n [4 5 6]\n [7 8 9]]\nTranspose of A\n[[1 4 7]\n [2 5 8]\n [3 6 9]]\nTranspose of A can be calculated by A.T\n[[1 4 7]\n [2 5 8]\n [3 6 9]]\n",
          "name": "stdout"
        }
      ]
    },
    {
      "metadata": {},
      "cell_type": "markdown",
      "source": "単位行列"
    },
    {
      "metadata": {
        "trusted": true
      },
      "cell_type": "code",
      "source": "E = np.identity((3))\nprint(E)",
      "execution_count": 74,
      "outputs": [
        {
          "output_type": "stream",
          "text": "[[1. 0. 0.]\n [0. 1. 0.]\n [0. 0. 1.]]\n",
          "name": "stdout"
        }
      ]
    },
    {
      "metadata": {},
      "cell_type": "markdown",
      "source": "トレース"
    },
    {
      "metadata": {
        "trusted": true
      },
      "cell_type": "code",
      "source": "A = np.array([[1,2,3],[4,5,6],[7,8,9]])\nprint('A')\nprint(A)\nt = np.trace(A)\nprint('Trace of A is {0}'.format(t))",
      "execution_count": 75,
      "outputs": [
        {
          "output_type": "stream",
          "text": "A\n[[1 2 3]\n [4 5 6]\n [7 8 9]]\nTrace of A is 15\n",
          "name": "stdout"
        }
      ]
    },
    {
      "metadata": {},
      "cell_type": "markdown",
      "source": "行列式"
    },
    {
      "metadata": {
        "trusted": true
      },
      "cell_type": "code",
      "source": "A = np.array([[1,1,0],[4,5,0],[1,0,1]])\nprint('A')\nprint(A)\nd = np.linalg.det(A)\nprint('Determinant of A is {0}'.format(d))",
      "execution_count": 76,
      "outputs": [
        {
          "output_type": "stream",
          "text": "A\n[[1 1 0]\n [4 5 0]\n [1 0 1]]\nDeterminant of A is 1.0\n",
          "name": "stdout"
        }
      ]
    },
    {
      "metadata": {},
      "cell_type": "markdown",
      "source": "逆行列"
    },
    {
      "metadata": {
        "trusted": true
      },
      "cell_type": "code",
      "source": "A = np.array([[1,1,0],[4,5,0],[1,0,1]])\nprint('A')\nprint(A)\nAinv = np.linalg.inv(A)\nprint('Inverse of A')\nprint(Ainv)\nprint('A Ainv')\nprint(A.dot(Ainv))",
      "execution_count": 77,
      "outputs": [
        {
          "output_type": "stream",
          "text": "A\n[[1 1 0]\n [4 5 0]\n [1 0 1]]\nInverse of A\n[[ 5. -1.  0.]\n [-4.  1. -0.]\n [-5.  1.  1.]]\nA Ainv\n[[1. 0. 0.]\n [0. 1. 0.]\n [0. 0. 1.]]\n",
          "name": "stdout"
        }
      ]
    },
    {
      "metadata": {},
      "cell_type": "markdown",
      "source": "スライシング"
    },
    {
      "metadata": {
        "trusted": true
      },
      "cell_type": "code",
      "source": "x = np.arange(10)\nprint(x)\nprint(x[:5])",
      "execution_count": 76,
      "outputs": [
        {
          "output_type": "stream",
          "text": "[0 1 2 3 4 5 6 7 8 9]\n[0 1 2 3 4]\n",
          "name": "stdout"
        }
      ]
    },
    {
      "metadata": {
        "trusted": true
      },
      "cell_type": "code",
      "source": "print(x[5:])",
      "execution_count": 77,
      "outputs": [
        {
          "output_type": "stream",
          "text": "[5 6 7 8 9]\n",
          "name": "stdout"
        }
      ]
    },
    {
      "metadata": {
        "trusted": true
      },
      "cell_type": "code",
      "source": "print(x[3:5])",
      "execution_count": 78,
      "outputs": [
        {
          "output_type": "stream",
          "text": "[3 4]\n",
          "name": "stdout"
        }
      ]
    },
    {
      "metadata": {
        "trusted": true
      },
      "cell_type": "code",
      "source": "print(x[3:8:2])",
      "execution_count": 79,
      "outputs": [
        {
          "output_type": "stream",
          "text": "[3 5 7]\n",
          "name": "stdout"
        }
      ]
    },
    {
      "metadata": {},
      "cell_type": "markdown",
      "source": "逆順"
    },
    {
      "metadata": {
        "trusted": true
      },
      "cell_type": "code",
      "source": "print(x[::-1])",
      "execution_count": 80,
      "outputs": [
        {
          "output_type": "stream",
          "text": "[9 8 7 6 5 4 3 2 1 0]\n",
          "name": "stdout"
        }
      ]
    },
    {
      "metadata": {
        "trusted": true
      },
      "cell_type": "code",
      "source": "X = np.array([[1,2,3],[4,5,6],[7,8,9]])\nprint(X)\nprint(X[:2, 0:2])",
      "execution_count": 81,
      "outputs": [
        {
          "output_type": "stream",
          "text": "[[1 2 3]\n [4 5 6]\n [7 8 9]]\n[[1 2]\n [4 5]]\n",
          "name": "stdout"
        }
      ]
    },
    {
      "metadata": {},
      "cell_type": "markdown",
      "source": "条件を満たすデータの変更"
    },
    {
      "metadata": {
        "trusted": true
      },
      "cell_type": "code",
      "source": "x = np.array([1,2,3,4,5,8,13])\nprint(x)\nprint(x > 3)",
      "execution_count": 82,
      "outputs": [
        {
          "output_type": "stream",
          "text": "[ 1  2  3  4  5  8 13]\n[False False False  True  True  True  True]\n",
          "name": "stdout"
        }
      ]
    },
    {
      "metadata": {
        "trusted": true
      },
      "cell_type": "code",
      "source": "print(x[x > 3])",
      "execution_count": 83,
      "outputs": [
        {
          "output_type": "stream",
          "text": "[ 4  5  8 13]\n",
          "name": "stdout"
        }
      ]
    },
    {
      "metadata": {
        "trusted": true
      },
      "cell_type": "code",
      "source": "x[x > 3] = 99\nprint(x)",
      "execution_count": 84,
      "outputs": [
        {
          "output_type": "stream",
          "text": "[ 1  2  3 99 99 99 99]\n",
          "name": "stdout"
        }
      ]
    },
    {
      "metadata": {},
      "cell_type": "markdown",
      "source": "関数の定義"
    },
    {
      "metadata": {
        "trusted": true
      },
      "cell_type": "code",
      "source": "def my_sum(a, b):\n    c = a + b\n    return c",
      "execution_count": 85,
      "outputs": []
    },
    {
      "metadata": {},
      "cell_type": "markdown",
      "source": "関数の実行"
    },
    {
      "metadata": {
        "trusted": true
      },
      "cell_type": "code",
      "source": "x = 10.0\ny = 20.0\nz = my_sum(x, y)\nprint(z)",
      "execution_count": 86,
      "outputs": [
        {
          "output_type": "stream",
          "text": "30.0\n",
          "name": "stdout"
        }
      ]
    },
    {
      "metadata": {
        "trusted": true
      },
      "cell_type": "code",
      "source": "",
      "execution_count": null,
      "outputs": []
    },
    {
      "metadata": {
        "trusted": true
      },
      "cell_type": "code",
      "source": "",
      "execution_count": null,
      "outputs": []
    },
    {
      "metadata": {
        "trusted": true
      },
      "cell_type": "code",
      "source": "",
      "execution_count": null,
      "outputs": []
    },
    {
      "metadata": {
        "trusted": true
      },
      "cell_type": "code",
      "source": "",
      "execution_count": null,
      "outputs": []
    }
  ],
  "metadata": {
    "kernelspec": {
      "name": "python36",
      "display_name": "Python 3.6",
      "language": "python"
    },
    "language_info": {
      "mimetype": "text/x-python",
      "nbconvert_exporter": "python",
      "name": "python",
      "pygments_lexer": "ipython3",
      "version": "3.6.6",
      "file_extension": ".py",
      "codemirror_mode": {
        "version": 3,
        "name": "ipython"
      }
    }
  },
  "nbformat": 4,
  "nbformat_minor": 2
}