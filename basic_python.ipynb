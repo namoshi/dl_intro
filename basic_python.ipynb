{
  "nbformat": 4,
  "nbformat_minor": 0,
  "metadata": {
    "kernelspec": {
      "name": "python3",
      "display_name": "Python 3"
    },
    "colab": {
      "name": "basic_python.ipynb",
      "provenance": [],
      "include_colab_link": true
    }
  },
  "cells": [
    {
      "cell_type": "markdown",
      "metadata": {
        "id": "view-in-github",
        "colab_type": "text"
      },
      "source": [
        "<a href=\"https://colab.research.google.com/github/namoshi/dl_intro/blob/master/basic_python.ipynb\" target=\"_parent\"><img src=\"https://colab.research.google.com/assets/colab-badge.svg\" alt=\"Open In Colab\"/></a>"
      ]
    },
    {
      "cell_type": "markdown",
      "metadata": {
        "collapsed": true,
        "id": "sLTj7zVW9rLE",
        "colab_type": "text"
      },
      "source": [
        "四則演算"
      ]
    },
    {
      "cell_type": "code",
      "metadata": {
        "trusted": true,
        "id": "htZMAj3U9rLJ",
        "colab_type": "code",
        "colab": {
          "base_uri": "https://localhost:8080/",
          "height": 34
        },
        "outputId": "41961d78-9c26-4ea9-d468-7fd7aa7f0f1b"
      },
      "source": [
        "1+2*3-4/5"
      ],
      "execution_count": 6,
      "outputs": [
        {
          "output_type": "execute_result",
          "data": {
            "text/plain": [
              "6.2"
            ]
          },
          "metadata": {
            "tags": []
          },
          "execution_count": 6
        }
      ]
    },
    {
      "cell_type": "code",
      "metadata": {
        "trusted": true,
        "id": "qlOYjWhT9rLa",
        "colab_type": "code",
        "colab": {
          "base_uri": "https://localhost:8080/",
          "height": 34
        },
        "outputId": "40ad117b-5eba-47d9-ab70-92ab364de4c2"
      },
      "source": [
        "(1+2+3+4+5+6+7+8+9+10)/5"
      ],
      "execution_count": 7,
      "outputs": [
        {
          "output_type": "execute_result",
          "data": {
            "text/plain": [
              "11.0"
            ]
          },
          "metadata": {
            "tags": []
          },
          "execution_count": 7
        }
      ]
    },
    {
      "cell_type": "markdown",
      "metadata": {
        "id": "5UbbBuHg9rLr",
        "colab_type": "text"
      },
      "source": [
        "累乗"
      ]
    },
    {
      "cell_type": "code",
      "metadata": {
        "trusted": true,
        "id": "VLsE8Tel9rLu",
        "colab_type": "code",
        "colab": {},
        "outputId": "4201f9cf-c5a9-447c-f715-6ab1c14239a7"
      },
      "source": [
        "2**10"
      ],
      "execution_count": 0,
      "outputs": [
        {
          "output_type": "execute_result",
          "data": {
            "text/plain": [
              "1024"
            ]
          },
          "metadata": {
            "tags": []
          },
          "execution_count": 3
        }
      ]
    },
    {
      "cell_type": "markdown",
      "metadata": {
        "id": "AvHTL8WU9rL6",
        "colab_type": "text"
      },
      "source": [
        "変数"
      ]
    },
    {
      "cell_type": "code",
      "metadata": {
        "trusted": true,
        "id": "IrWAvZfG9rL9",
        "colab_type": "code",
        "colab": {},
        "outputId": "8c90e0f8-9f7d-49b2-ebb9-5aa1df28aceb"
      },
      "source": [
        "x = 1\n",
        "y = 1/3\n",
        "x + y"
      ],
      "execution_count": 0,
      "outputs": [
        {
          "output_type": "execute_result",
          "data": {
            "text/plain": [
              "1.3333333333333333"
            ]
          },
          "metadata": {
            "tags": []
          },
          "execution_count": 4
        }
      ]
    },
    {
      "cell_type": "code",
      "metadata": {
        "trusted": true,
        "id": "pzXQaVeW9rMO",
        "colab_type": "code",
        "colab": {},
        "outputId": "f9d27ff9-07ac-4025-f425-764ff80144f2"
      },
      "source": [
        "My_Int = 1\n",
        "My_Real = 1/3\n",
        "My_Int + My_Real"
      ],
      "execution_count": 0,
      "outputs": [
        {
          "output_type": "execute_result",
          "data": {
            "text/plain": [
              "1.3333333333333333"
            ]
          },
          "metadata": {
            "tags": []
          },
          "execution_count": 5
        }
      ]
    },
    {
      "cell_type": "markdown",
      "metadata": {
        "id": "ZPSg5lpE9rMg",
        "colab_type": "text"
      },
      "source": [
        "変数の型"
      ]
    },
    {
      "cell_type": "code",
      "metadata": {
        "trusted": true,
        "id": "PAqr4T799rMk",
        "colab_type": "code",
        "colab": {},
        "outputId": "4d68660f-1cad-4b28-8a7b-13d0dc43f594"
      },
      "source": [
        "type(My_Int)"
      ],
      "execution_count": 0,
      "outputs": [
        {
          "output_type": "execute_result",
          "data": {
            "text/plain": [
              "int"
            ]
          },
          "metadata": {
            "tags": []
          },
          "execution_count": 6
        }
      ]
    },
    {
      "cell_type": "code",
      "metadata": {
        "trusted": true,
        "id": "GUX9Slrr9rM9",
        "colab_type": "code",
        "colab": {},
        "outputId": "0a2f5adf-333d-423f-df18-54762f12a0a9"
      },
      "source": [
        "type(My_Real)"
      ],
      "execution_count": 0,
      "outputs": [
        {
          "output_type": "execute_result",
          "data": {
            "text/plain": [
              "float"
            ]
          },
          "metadata": {
            "tags": []
          },
          "execution_count": 7
        }
      ]
    },
    {
      "cell_type": "code",
      "metadata": {
        "trusted": true,
        "id": "8UqYtjBN9rNH",
        "colab_type": "code",
        "colab": {},
        "outputId": "e6daa84f-7d90-4a15-feab-96a6e12a5f6c"
      },
      "source": [
        "type(1.0)"
      ],
      "execution_count": 0,
      "outputs": [
        {
          "output_type": "execute_result",
          "data": {
            "text/plain": [
              "float"
            ]
          },
          "metadata": {
            "tags": []
          },
          "execution_count": 8
        }
      ]
    },
    {
      "cell_type": "markdown",
      "metadata": {
        "id": "d2tDHMS09rNr",
        "colab_type": "text"
      },
      "source": [
        "文字列"
      ]
    },
    {
      "cell_type": "code",
      "metadata": {
        "trusted": true,
        "id": "XK5l-xJs9rNw",
        "colab_type": "code",
        "colab": {},
        "outputId": "aa2197fb-231f-4ea5-de66-e44931deea0c"
      },
      "source": [
        "s = 'Machine Learning'\n",
        "type(s)\n",
        "s"
      ],
      "execution_count": 0,
      "outputs": [
        {
          "output_type": "execute_result",
          "data": {
            "text/plain": [
              "'Machine Learning'"
            ]
          },
          "metadata": {
            "tags": []
          },
          "execution_count": 9
        }
      ]
    },
    {
      "cell_type": "code",
      "metadata": {
        "trusted": true,
        "id": "58zD0yBZ9rN8",
        "colab_type": "code",
        "colab": {},
        "outputId": "16a5e487-7537-4432-d5fe-a5e233419f64"
      },
      "source": [
        "t = ' is a set of tools for AI.'\n",
        "s + t"
      ],
      "execution_count": 0,
      "outputs": [
        {
          "output_type": "execute_result",
          "data": {
            "text/plain": [
              "'Machine Learning is a set of tools for AI.'"
            ]
          },
          "metadata": {
            "tags": []
          },
          "execution_count": 10
        }
      ]
    },
    {
      "cell_type": "markdown",
      "metadata": {
        "id": "sq4rWeHb9rOF",
        "colab_type": "text"
      },
      "source": [
        "print"
      ]
    },
    {
      "cell_type": "code",
      "metadata": {
        "trusted": true,
        "id": "8vHMt5FJ9rOJ",
        "colab_type": "code",
        "colab": {},
        "outputId": "4bb3fd14-3895-4e5f-ab30-6d5f64d56520"
      },
      "source": [
        "x = 1 / 3\n",
        "print(x)\n",
        "y = 2 / 3\n",
        "print(y)"
      ],
      "execution_count": 0,
      "outputs": [
        {
          "output_type": "stream",
          "text": [
            "0.3333333333333333\n",
            "0.6666666666666666\n"
          ],
          "name": "stdout"
        }
      ]
    },
    {
      "cell_type": "code",
      "metadata": {
        "trusted": true,
        "id": "-EKHzl759rOV",
        "colab_type": "code",
        "colab": {},
        "outputId": "ec6cfafd-e368-4aa4-ca9a-32af3f510c4c"
      },
      "source": [
        "print('weight = {0} kg'.format(x))"
      ],
      "execution_count": 0,
      "outputs": [
        {
          "output_type": "stream",
          "text": [
            "weight = 0.3333333333333333 kg\n"
          ],
          "name": "stdout"
        }
      ]
    },
    {
      "cell_type": "code",
      "metadata": {
        "trusted": true,
        "id": "a9ihwNZA9rOj",
        "colab_type": "code",
        "colab": {},
        "outputId": "3b7bce7d-ab32-422f-d601-3684d9d83156"
      },
      "source": [
        "print('weight = {0} kg, {1} kg'.format(x, y))"
      ],
      "execution_count": 0,
      "outputs": [
        {
          "output_type": "stream",
          "text": [
            "weight = 0.3333333333333333 kg, 0.6666666666666666 kg\n"
          ],
          "name": "stdout"
        }
      ]
    },
    {
      "cell_type": "code",
      "metadata": {
        "trusted": true,
        "id": "6MLXqXwq9rOu",
        "colab_type": "code",
        "colab": {},
        "outputId": "64718629-78cb-4412-cb1c-9ef65a870642"
      },
      "source": [
        "print('weight = {0:.2f} kg, {1:.2f} kg'.format(x, y))"
      ],
      "execution_count": 0,
      "outputs": [
        {
          "output_type": "stream",
          "text": [
            "weight = 0.33 kg, 0.67 kg\n"
          ],
          "name": "stdout"
        }
      ]
    },
    {
      "cell_type": "markdown",
      "metadata": {
        "id": "oBCX34ob9rO6",
        "colab_type": "text"
      },
      "source": [
        "リスト"
      ]
    },
    {
      "cell_type": "code",
      "metadata": {
        "trusted": true,
        "id": "MEBQd_Eg9rO9",
        "colab_type": "code",
        "colab": {},
        "outputId": "da4006f8-1256-4144-9ce8-2e390092c0e4"
      },
      "source": [
        "x = [1, 0, 2, 3, 4, 5]\n",
        "print(x)"
      ],
      "execution_count": 0,
      "outputs": [
        {
          "output_type": "stream",
          "text": [
            "[1, 0, 2, 3, 4, 5]\n"
          ],
          "name": "stdout"
        }
      ]
    },
    {
      "cell_type": "code",
      "metadata": {
        "trusted": true,
        "id": "D3J9lZXR9rPJ",
        "colab_type": "code",
        "colab": {},
        "outputId": "7f224461-8f72-4c05-f805-483a4b4f8b96"
      },
      "source": [
        "type(x)"
      ],
      "execution_count": 0,
      "outputs": [
        {
          "output_type": "execute_result",
          "data": {
            "text/plain": [
              "list"
            ]
          },
          "metadata": {
            "tags": []
          },
          "execution_count": 18
        }
      ]
    },
    {
      "cell_type": "code",
      "metadata": {
        "trusted": true,
        "id": "uik2tHLw9rPS",
        "colab_type": "code",
        "colab": {},
        "outputId": "73d34d43-1588-4434-bfcc-e922a86022df"
      },
      "source": [
        "x[0]"
      ],
      "execution_count": 0,
      "outputs": [
        {
          "output_type": "execute_result",
          "data": {
            "text/plain": [
              "1"
            ]
          },
          "metadata": {
            "tags": []
          },
          "execution_count": 19
        }
      ]
    },
    {
      "cell_type": "code",
      "metadata": {
        "trusted": true,
        "id": "Uq-w_v5G9rPa",
        "colab_type": "code",
        "colab": {},
        "outputId": "eff28480-a18e-45ee-9cc4-c6454ca0280b"
      },
      "source": [
        "x[3]"
      ],
      "execution_count": 0,
      "outputs": [
        {
          "output_type": "execute_result",
          "data": {
            "text/plain": [
              "3"
            ]
          },
          "metadata": {
            "tags": []
          },
          "execution_count": 20
        }
      ]
    },
    {
      "cell_type": "code",
      "metadata": {
        "trusted": true,
        "id": "btHU2D4Y9rPl",
        "colab_type": "code",
        "colab": {},
        "outputId": "72221bb3-2406-4405-cd34-8931255f8e2a"
      },
      "source": [
        "type(x[3])"
      ],
      "execution_count": 0,
      "outputs": [
        {
          "output_type": "execute_result",
          "data": {
            "text/plain": [
              "int"
            ]
          },
          "metadata": {
            "tags": []
          },
          "execution_count": 21
        }
      ]
    },
    {
      "cell_type": "code",
      "metadata": {
        "trusted": true,
        "id": "ImTc_7399rP5",
        "colab_type": "code",
        "colab": {},
        "outputId": "9f98ee4a-1ca2-4b0d-e817-141aeb63ee1c"
      },
      "source": [
        "s = ['SUN', 'MON', 'TUE']\n",
        "print(s)"
      ],
      "execution_count": 0,
      "outputs": [
        {
          "output_type": "stream",
          "text": [
            "['SUN', 'MON', 'TUE']\n"
          ],
          "name": "stdout"
        }
      ]
    },
    {
      "cell_type": "code",
      "metadata": {
        "trusted": true,
        "id": "ZQnMXnCD9rQO",
        "colab_type": "code",
        "colab": {},
        "outputId": "c8710265-419b-412a-ad0a-fcfcfbe69698"
      },
      "source": [
        "s[1]"
      ],
      "execution_count": 0,
      "outputs": [
        {
          "output_type": "execute_result",
          "data": {
            "text/plain": [
              "'MON'"
            ]
          },
          "metadata": {
            "tags": []
          },
          "execution_count": 23
        }
      ]
    },
    {
      "cell_type": "code",
      "metadata": {
        "trusted": true,
        "id": "yUjbpz0f9rQY",
        "colab_type": "code",
        "colab": {},
        "outputId": "d51041a5-8a01-4a20-e4e7-74479585703e"
      },
      "source": [
        "type(s)"
      ],
      "execution_count": 0,
      "outputs": [
        {
          "output_type": "execute_result",
          "data": {
            "text/plain": [
              "list"
            ]
          },
          "metadata": {
            "tags": []
          },
          "execution_count": 24
        }
      ]
    },
    {
      "cell_type": "code",
      "metadata": {
        "trusted": true,
        "id": "qHBB8EZp9rQi",
        "colab_type": "code",
        "colab": {},
        "outputId": "00d0b422-a54e-4c1b-aa26-7ff3ea5e5f18"
      },
      "source": [
        "type(s[1])"
      ],
      "execution_count": 0,
      "outputs": [
        {
          "output_type": "execute_result",
          "data": {
            "text/plain": [
              "str"
            ]
          },
          "metadata": {
            "tags": []
          },
          "execution_count": 25
        }
      ]
    },
    {
      "cell_type": "markdown",
      "metadata": {
        "id": "g6kFmllY9rQu",
        "colab_type": "text"
      },
      "source": [
        "２次元の配列（リストのリスト）"
      ]
    },
    {
      "cell_type": "code",
      "metadata": {
        "trusted": true,
        "id": "hasHmN6g9rQz",
        "colab_type": "code",
        "colab": {},
        "outputId": "03a7aa68-b388-4c9c-e061-562940211c11"
      },
      "source": [
        "a = [[1, 2, 3], [4, 5, 6]]\n",
        "print(a)"
      ],
      "execution_count": 0,
      "outputs": [
        {
          "output_type": "stream",
          "text": [
            "[[1, 2, 3], [4, 5, 6]]\n"
          ],
          "name": "stdout"
        }
      ]
    },
    {
      "cell_type": "code",
      "metadata": {
        "trusted": true,
        "id": "qVJ_coX29rQ9",
        "colab_type": "code",
        "colab": {},
        "outputId": "b5577468-83fb-43b1-a002-16687bbdd893"
      },
      "source": [
        "a[0][1]"
      ],
      "execution_count": 0,
      "outputs": [
        {
          "output_type": "execute_result",
          "data": {
            "text/plain": [
              "2"
            ]
          },
          "metadata": {
            "tags": []
          },
          "execution_count": 27
        }
      ]
    },
    {
      "cell_type": "code",
      "metadata": {
        "trusted": true,
        "id": "Cx13UrUl9rRG",
        "colab_type": "code",
        "colab": {},
        "outputId": "0c24a659-95e5-4e2a-98a7-a1d4dd5ee3b7"
      },
      "source": [
        "a[1][2]"
      ],
      "execution_count": 0,
      "outputs": [
        {
          "output_type": "execute_result",
          "data": {
            "text/plain": [
              "6"
            ]
          },
          "metadata": {
            "tags": []
          },
          "execution_count": 28
        }
      ]
    },
    {
      "cell_type": "code",
      "metadata": {
        "trusted": true,
        "id": "zG8pCuaW9rRb",
        "colab_type": "code",
        "colab": {},
        "outputId": "53ce94ad-c69c-4616-984d-7b444f7cf876"
      },
      "source": [
        "a[0][1] = 10\n",
        "print(a)"
      ],
      "execution_count": 0,
      "outputs": [
        {
          "output_type": "stream",
          "text": [
            "[[1, 10, 3], [4, 5, 6]]\n"
          ],
          "name": "stdout"
        }
      ]
    },
    {
      "cell_type": "code",
      "metadata": {
        "trusted": true,
        "id": "U4OXqHmo9rRp",
        "colab_type": "code",
        "colab": {},
        "outputId": "5813cf5c-55a3-4fcb-cb02-a1b9696f812b"
      },
      "source": [
        "len(s)"
      ],
      "execution_count": 0,
      "outputs": [
        {
          "output_type": "execute_result",
          "data": {
            "text/plain": [
              "3"
            ]
          },
          "metadata": {
            "tags": []
          },
          "execution_count": 30
        }
      ]
    },
    {
      "cell_type": "code",
      "metadata": {
        "trusted": true,
        "id": "NGOC78zb9rR6",
        "colab_type": "code",
        "colab": {},
        "outputId": "afc8c6e6-d8c3-4e60-ab67-da2cd518675a"
      },
      "source": [
        "len(a)"
      ],
      "execution_count": 0,
      "outputs": [
        {
          "output_type": "execute_result",
          "data": {
            "text/plain": [
              "2"
            ]
          },
          "metadata": {
            "tags": []
          },
          "execution_count": 31
        }
      ]
    },
    {
      "cell_type": "code",
      "metadata": {
        "trusted": true,
        "id": "sLh4fVpM9rSD",
        "colab_type": "code",
        "colab": {},
        "outputId": "6bc64e4f-84ea-47b7-b56c-ad6f8f166c7e"
      },
      "source": [
        "len(a[0])"
      ],
      "execution_count": 0,
      "outputs": [
        {
          "output_type": "execute_result",
          "data": {
            "text/plain": [
              "3"
            ]
          },
          "metadata": {
            "tags": []
          },
          "execution_count": 32
        }
      ]
    },
    {
      "cell_type": "markdown",
      "metadata": {
        "id": "zLCHaTxE9rSX",
        "colab_type": "text"
      },
      "source": [
        "連続した整数データ"
      ]
    },
    {
      "cell_type": "code",
      "metadata": {
        "trusted": true,
        "id": "RNbRwuGk9rSc",
        "colab_type": "code",
        "colab": {},
        "outputId": "a61353b0-1f8a-457e-acb7-4fac0f937f7e"
      },
      "source": [
        "y = range(5, 10)\n",
        "print(y)"
      ],
      "execution_count": 0,
      "outputs": [
        {
          "output_type": "stream",
          "text": [
            "range(5, 10)\n"
          ],
          "name": "stdout"
        }
      ]
    },
    {
      "cell_type": "code",
      "metadata": {
        "trusted": true,
        "id": "VxTFS64g9rSk",
        "colab_type": "code",
        "colab": {},
        "outputId": "507c249e-9528-4da3-b8b9-0af57033a34a"
      },
      "source": [
        "y[0]"
      ],
      "execution_count": 0,
      "outputs": [
        {
          "output_type": "execute_result",
          "data": {
            "text/plain": [
              "5"
            ]
          },
          "metadata": {
            "tags": []
          },
          "execution_count": 34
        }
      ]
    },
    {
      "cell_type": "code",
      "metadata": {
        "trusted": true,
        "id": "1q7lV8Kg9rSt",
        "colab_type": "code",
        "colab": {},
        "outputId": "cfe09de2-e58c-4936-9095-f839a5eedbba"
      },
      "source": [
        "z = list(range(5, 10))\n",
        "print(z)"
      ],
      "execution_count": 0,
      "outputs": [
        {
          "output_type": "stream",
          "text": [
            "[5, 6, 7, 8, 9]\n"
          ],
          "name": "stdout"
        }
      ]
    },
    {
      "cell_type": "code",
      "metadata": {
        "trusted": true,
        "id": "wlraCvw19rS7",
        "colab_type": "code",
        "colab": {},
        "outputId": "3a7de9a9-afbb-4df0-e23d-0818c19f7276"
      },
      "source": [
        "zz = list(range(10))\n",
        "print(zz)"
      ],
      "execution_count": 0,
      "outputs": [
        {
          "output_type": "stream",
          "text": [
            "[0, 1, 2, 3, 4, 5, 6, 7, 8, 9]\n"
          ],
          "name": "stdout"
        }
      ]
    },
    {
      "cell_type": "markdown",
      "metadata": {
        "id": "3CK5qHqM9rTG",
        "colab_type": "text"
      },
      "source": [
        "tuple （タプル）"
      ]
    },
    {
      "cell_type": "code",
      "metadata": {
        "trusted": true,
        "id": "WOr7PMjB9rTO",
        "colab_type": "code",
        "colab": {},
        "outputId": "1a4984de-caa1-4d19-f64c-2045789cf674"
      },
      "source": [
        "a = (1, 2, 3)\n",
        "print(a)"
      ],
      "execution_count": 0,
      "outputs": [
        {
          "output_type": "stream",
          "text": [
            "(1, 2, 3)\n"
          ],
          "name": "stdout"
        }
      ]
    },
    {
      "cell_type": "code",
      "metadata": {
        "trusted": true,
        "id": "-KJO-zBe9rTX",
        "colab_type": "code",
        "colab": {},
        "outputId": "97128ae0-db67-4b7f-ae18-fb08de1b321e"
      },
      "source": [
        "print(a[1])"
      ],
      "execution_count": 0,
      "outputs": [
        {
          "output_type": "stream",
          "text": [
            "2\n"
          ],
          "name": "stdout"
        }
      ]
    },
    {
      "cell_type": "code",
      "metadata": {
        "trusted": true,
        "id": "bQKHhDcM9rTj",
        "colab_type": "code",
        "colab": {},
        "outputId": "72ce62e7-e53b-4674-f9d0-f42a07da8b45"
      },
      "source": [
        "type(a)"
      ],
      "execution_count": 0,
      "outputs": [
        {
          "output_type": "execute_result",
          "data": {
            "text/plain": [
              "tuple"
            ]
          },
          "metadata": {
            "tags": []
          },
          "execution_count": 39
        }
      ]
    },
    {
      "cell_type": "code",
      "metadata": {
        "trusted": true,
        "id": "FN903V4S9rUD",
        "colab_type": "code",
        "colab": {},
        "outputId": "d5b9974a-b8d3-484c-a2bd-11a34e20579a"
      },
      "source": [
        "a[2] = 1"
      ],
      "execution_count": 0,
      "outputs": [
        {
          "output_type": "error",
          "ename": "TypeError",
          "evalue": "'tuple' object does not support item assignment",
          "traceback": [
            "\u001b[0;31m---------------------------------------------------------------------------\u001b[0m",
            "\u001b[0;31mTypeError\u001b[0m                                 Traceback (most recent call last)",
            "\u001b[0;32m<ipython-input-40-05809b234b3f>\u001b[0m in \u001b[0;36m<module>\u001b[0;34m\u001b[0m\n\u001b[0;32m----> 1\u001b[0;31m \u001b[0ma\u001b[0m\u001b[0;34m[\u001b[0m\u001b[0;36m2\u001b[0m\u001b[0;34m]\u001b[0m \u001b[0;34m=\u001b[0m \u001b[0;36m1\u001b[0m\u001b[0;34m\u001b[0m\u001b[0m\n\u001b[0m",
            "\u001b[0;31mTypeError\u001b[0m: 'tuple' object does not support item assignment"
          ]
        }
      ]
    },
    {
      "cell_type": "code",
      "metadata": {
        "trusted": true,
        "id": "a_pQ5h5Z9rUd",
        "colab_type": "code",
        "colab": {},
        "outputId": "373ec46b-c50b-45f6-8ad8-5b72afe69677"
      },
      "source": [
        "a = (1)\n",
        "type(a)"
      ],
      "execution_count": 0,
      "outputs": [
        {
          "output_type": "execute_result",
          "data": {
            "text/plain": [
              "int"
            ]
          },
          "metadata": {
            "tags": []
          },
          "execution_count": 41
        }
      ]
    },
    {
      "cell_type": "code",
      "metadata": {
        "trusted": true,
        "id": "xZRXj7gq9rUv",
        "colab_type": "code",
        "colab": {},
        "outputId": "745643cc-9f7f-4046-eefa-2ab2e8f3aef8"
      },
      "source": [
        "a = (1,)\n",
        "type(a)"
      ],
      "execution_count": 0,
      "outputs": [
        {
          "output_type": "execute_result",
          "data": {
            "text/plain": [
              "tuple"
            ]
          },
          "metadata": {
            "tags": []
          },
          "execution_count": 42
        }
      ]
    },
    {
      "cell_type": "markdown",
      "metadata": {
        "id": "7A0ba5uN9rU3",
        "colab_type": "text"
      },
      "source": [
        "if 文"
      ]
    },
    {
      "cell_type": "code",
      "metadata": {
        "trusted": true,
        "id": "s9FhJAkZ9rU6",
        "colab_type": "code",
        "colab": {},
        "outputId": "55ae77df-05a7-424f-d9c8-dbd31cc9952d"
      },
      "source": [
        "x = 11\n",
        "if x > 10:\n",
        "    print('x is larger than 10.')\n",
        "    print('x = {0}'.format(x))\n",
        "else:\n",
        "    print('x = {0}'.format(x))"
      ],
      "execution_count": 0,
      "outputs": [
        {
          "output_type": "stream",
          "text": [
            "x is larger than 10.\n",
            "x = 11\n"
          ],
          "name": "stdout"
        }
      ]
    },
    {
      "cell_type": "code",
      "metadata": {
        "trusted": true,
        "id": "Fzgg4mGN9rVK",
        "colab_type": "code",
        "colab": {},
        "outputId": "7e0b5364-b1c8-453e-beef-0c9c227521f0"
      },
      "source": [
        "x > 10"
      ],
      "execution_count": 0,
      "outputs": [
        {
          "output_type": "execute_result",
          "data": {
            "text/plain": [
              "True"
            ]
          },
          "metadata": {
            "tags": []
          },
          "execution_count": 44
        }
      ]
    },
    {
      "cell_type": "code",
      "metadata": {
        "trusted": true,
        "id": "k9bob4oz9rVj",
        "colab_type": "code",
        "colab": {},
        "outputId": "61a2cae6-3810-4769-c12c-6c6b6830dc59"
      },
      "source": [
        "type(x > 10)"
      ],
      "execution_count": 0,
      "outputs": [
        {
          "output_type": "execute_result",
          "data": {
            "text/plain": [
              "bool"
            ]
          },
          "metadata": {
            "tags": []
          },
          "execution_count": 45
        }
      ]
    },
    {
      "cell_type": "markdown",
      "metadata": {
        "id": "urc5GhCs9rV3",
        "colab_type": "text"
      },
      "source": [
        "比較演算子"
      ]
    },
    {
      "cell_type": "code",
      "metadata": {
        "trusted": true,
        "id": "D0S6uwnN9rV5",
        "colab_type": "code",
        "colab": {},
        "outputId": "46cb4f44-34af-40b6-d60f-a624412b2309"
      },
      "source": [
        "a = 10\n",
        "b = 11\n",
        "print(a == b)\n",
        "print(a > b)\n",
        "print(a >= b)\n",
        "print(a < b)\n",
        "print(a <= b)\n",
        "print(a != b)\n",
        "print(a < b and a != b)"
      ],
      "execution_count": 0,
      "outputs": [
        {
          "output_type": "stream",
          "text": [
            "False\n",
            "False\n",
            "False\n",
            "True\n",
            "True\n",
            "True\n",
            "True\n"
          ],
          "name": "stdout"
        }
      ]
    },
    {
      "cell_type": "markdown",
      "metadata": {
        "id": "g0AlfTdM9rWJ",
        "colab_type": "text"
      },
      "source": [
        "for 文"
      ]
    },
    {
      "cell_type": "code",
      "metadata": {
        "trusted": true,
        "id": "tq90OJWt9rWM",
        "colab_type": "code",
        "colab": {},
        "outputId": "71ea3760-52a6-4cc9-e288-95a22e1850f1"
      },
      "source": [
        "for i in [1, 2, 3]:\n",
        "    print('i = {0}'.format(i))"
      ],
      "execution_count": 0,
      "outputs": [
        {
          "output_type": "stream",
          "text": [
            "i = 1\n",
            "i = 2\n",
            "i = 3\n"
          ],
          "name": "stdout"
        }
      ]
    },
    {
      "cell_type": "code",
      "metadata": {
        "trusted": true,
        "id": "YPWvx1vA9rWk",
        "colab_type": "code",
        "colab": {},
        "outputId": "431a2e60-4c1d-410d-ad77-e449eb141bc5"
      },
      "source": [
        "num = [2, 4, 6, 8, 10]\n",
        "for i in range(len(num)):\n",
        "    num[i] = num[i] * 2\n",
        "print(num)"
      ],
      "execution_count": 0,
      "outputs": [
        {
          "output_type": "stream",
          "text": [
            "[4, 8, 12, 16, 20]\n"
          ],
          "name": "stdout"
        }
      ]
    },
    {
      "cell_type": "markdown",
      "metadata": {
        "id": "sGJKHHfE9rW3",
        "colab_type": "text"
      },
      "source": [
        "# numpy を利用した配列計算\n",
        "\n",
        "ベクトル"
      ]
    },
    {
      "cell_type": "code",
      "metadata": {
        "trusted": true,
        "id": "hcU6KEnp9rW5",
        "colab_type": "code",
        "colab": {},
        "outputId": "badb4a85-c2be-4d71-bc56-b7dab551147d"
      },
      "source": [
        "import numpy as np\n",
        "x = np.array([1, 2, 3])\n",
        "print(x)\n",
        "type(x)"
      ],
      "execution_count": 0,
      "outputs": [
        {
          "output_type": "stream",
          "text": [
            "[1 2 3]\n"
          ],
          "name": "stdout"
        },
        {
          "output_type": "execute_result",
          "data": {
            "text/plain": [
              "numpy.ndarray"
            ]
          },
          "metadata": {
            "tags": []
          },
          "execution_count": 49
        }
      ]
    },
    {
      "cell_type": "code",
      "metadata": {
        "trusted": true,
        "id": "kJG0JYdK9rXL",
        "colab_type": "code",
        "colab": {},
        "outputId": "aff6219b-667c-4f8a-d5f1-9c5e39b0f54b"
      },
      "source": [
        "y = np.array([4, 5, 6])\n",
        "print(y)\n",
        "z = x + 2*y\n",
        "print(z)"
      ],
      "execution_count": 0,
      "outputs": [
        {
          "output_type": "stream",
          "text": [
            "[4 5 6]\n",
            "[ 9 12 15]\n"
          ],
          "name": "stdout"
        }
      ]
    },
    {
      "cell_type": "code",
      "metadata": {
        "trusted": true,
        "id": "FUYPpClV9rXZ",
        "colab_type": "code",
        "colab": {},
        "outputId": "3d355126-1de6-42dc-8b19-4786f5f6b6b1"
      },
      "source": [
        "print(x[0])\n",
        "print(y[2])\n",
        "print(z[1])"
      ],
      "execution_count": 0,
      "outputs": [
        {
          "output_type": "stream",
          "text": [
            "1\n",
            "6\n",
            "12\n"
          ],
          "name": "stdout"
        }
      ]
    },
    {
      "cell_type": "code",
      "metadata": {
        "trusted": true,
        "id": "40ut8YmG9rXm",
        "colab_type": "code",
        "colab": {},
        "outputId": "a1275901-e13f-4683-e3e2-120d6e1720a8"
      },
      "source": [
        "x[0] = 2\n",
        "print(x)"
      ],
      "execution_count": 0,
      "outputs": [
        {
          "output_type": "stream",
          "text": [
            "[2 2 3]\n"
          ],
          "name": "stdout"
        }
      ]
    },
    {
      "cell_type": "code",
      "metadata": {
        "trusted": true,
        "id": "sCHZlhWN9rXt",
        "colab_type": "code",
        "colab": {},
        "outputId": "9bba4348-ab9b-4ebb-ce36-91af8a818197"
      },
      "source": [
        "z = x + 2*y\n",
        "print(z)"
      ],
      "execution_count": 0,
      "outputs": [
        {
          "output_type": "stream",
          "text": [
            "[10 12 15]\n"
          ],
          "name": "stdout"
        }
      ]
    },
    {
      "cell_type": "markdown",
      "metadata": {
        "id": "L1sjJsJh9rXy",
        "colab_type": "text"
      },
      "source": [
        "連続したベクトルの作成"
      ]
    },
    {
      "cell_type": "code",
      "metadata": {
        "trusted": true,
        "id": "-31d36Y-9rX1",
        "colab_type": "code",
        "colab": {},
        "outputId": "7d919917-04e2-4a72-da70-23d78e9a1525"
      },
      "source": [
        "a = np.arange(10)\n",
        "print(a)"
      ],
      "execution_count": 0,
      "outputs": [
        {
          "output_type": "stream",
          "text": [
            "[0 1 2 3 4 5 6 7 8 9]\n"
          ],
          "name": "stdout"
        }
      ]
    },
    {
      "cell_type": "code",
      "metadata": {
        "trusted": true,
        "id": "4zXaXTUY9rX9",
        "colab_type": "code",
        "colab": {},
        "outputId": "4b05d598-d411-4ca6-af05-4d5dd5a43e0d"
      },
      "source": [
        "b = np.arange(5,10)\n",
        "print(b)"
      ],
      "execution_count": 0,
      "outputs": [
        {
          "output_type": "stream",
          "text": [
            "[5 6 7 8 9]\n"
          ],
          "name": "stdout"
        }
      ]
    },
    {
      "cell_type": "markdown",
      "metadata": {
        "id": "PIgpsKf49rYC",
        "colab_type": "text"
      },
      "source": [
        "ベクトルのコピー\n",
        "（注意： a = b は使えない！）"
      ]
    },
    {
      "cell_type": "code",
      "metadata": {
        "trusted": true,
        "id": "WLPDsvTM9rYE",
        "colab_type": "code",
        "colab": {},
        "outputId": "30c2e819-97a7-4108-e7db-29015065dfc3"
      },
      "source": [
        "a = np.array([1, 2])\n",
        "b = np.copy(a)\n",
        "b[0] = 2\n",
        "c = a.copy()\n",
        "print('a is {0}'.format(a))\n",
        "print('b is {0}'.format(b))\n",
        "print('c is {0}'.format(c))"
      ],
      "execution_count": 0,
      "outputs": [
        {
          "output_type": "stream",
          "text": [
            "a is [1 2]\n",
            "b is [2 2]\n",
            "c is [1 2]\n"
          ],
          "name": "stdout"
        }
      ]
    },
    {
      "cell_type": "markdown",
      "metadata": {
        "id": "gatpKala9rYK",
        "colab_type": "text"
      },
      "source": [
        "ソート"
      ]
    },
    {
      "cell_type": "code",
      "metadata": {
        "trusted": true,
        "id": "uDYqq5Rb9rYM",
        "colab_type": "code",
        "colab": {},
        "outputId": "6614bef4-13bb-4f15-dc63-82c6a196f373"
      },
      "source": [
        "data = np.random.randint(0,100,10)\n",
        "print('ソートの前：', data)\n",
        "data.sort()\n",
        "print('ソートの後：', data)"
      ],
      "execution_count": 0,
      "outputs": [
        {
          "output_type": "stream",
          "text": [
            "ソートの前： [84  4  3 58 29 87  7 55 80 69]\n",
            "ソートの後： [ 3  4  7 29 55 58 69 80 84 87]\n"
          ],
          "name": "stdout"
        }
      ]
    },
    {
      "cell_type": "markdown",
      "metadata": {
        "id": "uElQk2eu9rYY",
        "colab_type": "text"
      },
      "source": [
        "最大，最小，合計"
      ]
    },
    {
      "cell_type": "code",
      "metadata": {
        "trusted": true,
        "id": "2vvSWNS-9rYf",
        "colab_type": "code",
        "colab": {},
        "outputId": "e27f4b1f-4dba-4f07-efe8-4d43fbc059f4"
      },
      "source": [
        "# Min\n",
        "print('Min:', data.min())\n",
        "# Max\n",
        "print('Max:', data.max())\n",
        "# sum\n",
        "print('Sum:', data.sum())"
      ],
      "execution_count": 0,
      "outputs": [
        {
          "output_type": "stream",
          "text": [
            "Min: 3\n",
            "Max: 87\n",
            "Sum: 476\n"
          ],
          "name": "stdout"
        }
      ]
    },
    {
      "cell_type": "markdown",
      "metadata": {
        "id": "5Q0QtC0F9rYz",
        "colab_type": "text"
      },
      "source": [
        "# numpyを持ちた配列\n",
        "\n",
        "行列（Matrix)"
      ]
    },
    {
      "cell_type": "code",
      "metadata": {
        "trusted": true,
        "id": "04txqmCb9rY1",
        "colab_type": "code",
        "colab": {},
        "outputId": "013f58fb-81b7-4564-ab08-112be47b13ee"
      },
      "source": [
        "X = np.array([[1,2,3],[4,5,6],[7,8,9]])\n",
        "print(X)"
      ],
      "execution_count": 0,
      "outputs": [
        {
          "output_type": "stream",
          "text": [
            "[[1 2 3]\n",
            " [4 5 6]\n",
            " [7 8 9]]\n"
          ],
          "name": "stdout"
        }
      ]
    },
    {
      "cell_type": "code",
      "metadata": {
        "trusted": true,
        "id": "7AYQpCbi9rZP",
        "colab_type": "code",
        "colab": {},
        "outputId": "5fd5e7b3-9922-4343-8806-08cfa9ed8ce2"
      },
      "source": [
        "np.shape(X)"
      ],
      "execution_count": 0,
      "outputs": [
        {
          "output_type": "execute_result",
          "data": {
            "text/plain": [
              "(3, 3)"
            ]
          },
          "metadata": {
            "tags": []
          },
          "execution_count": 60
        }
      ]
    },
    {
      "cell_type": "code",
      "metadata": {
        "trusted": true,
        "id": "TYE7Y43N9rZV",
        "colab_type": "code",
        "colab": {},
        "outputId": "b0d1c53e-be46-4461-ffec-61775b894a10"
      },
      "source": [
        "X.shape"
      ],
      "execution_count": 0,
      "outputs": [
        {
          "output_type": "execute_result",
          "data": {
            "text/plain": [
              "(3, 3)"
            ]
          },
          "metadata": {
            "tags": []
          },
          "execution_count": 61
        }
      ]
    },
    {
      "cell_type": "code",
      "metadata": {
        "trusted": true,
        "id": "UQW1cud09rZd",
        "colab_type": "code",
        "colab": {},
        "outputId": "e789146f-15b3-46a2-d499-cbc5fd5998bf"
      },
      "source": [
        "Y = np.array([[1,2,3],[3,2,1]])\n",
        "print('Y is ')\n",
        "print(Y)\n",
        "m, n = Y.shape\n",
        "print('m = {0}'.format(m))\n",
        "print('n = {0}'.format(n))"
      ],
      "execution_count": 0,
      "outputs": [
        {
          "output_type": "stream",
          "text": [
            "Y is \n",
            "[[1 2 3]\n",
            " [3 2 1]]\n",
            "m = 2\n",
            "n = 3\n"
          ],
          "name": "stdout"
        }
      ]
    },
    {
      "cell_type": "code",
      "metadata": {
        "trusted": true,
        "id": "A8EftDKn9rZj",
        "colab_type": "code",
        "colab": {},
        "outputId": "2c45e406-5ff2-43ff-c422-e36f8619319a"
      },
      "source": [
        "print('X is')\n",
        "print(X)\n",
        "print('X[0,1]= {0}'.format(X[0, 1]))\n",
        "print('X[1,1]= {0}'.format(X[1, 1]))\n",
        "print('X[2,2]= {0}'.format(X[2, 2]))"
      ],
      "execution_count": 0,
      "outputs": [
        {
          "output_type": "stream",
          "text": [
            "X is\n",
            "[[1 2 3]\n",
            " [4 5 6]\n",
            " [7 8 9]]\n",
            "X[0,1]= 2\n",
            "X[1,1]= 5\n",
            "X[2,2]= 9\n"
          ],
          "name": "stdout"
        }
      ]
    },
    {
      "cell_type": "code",
      "metadata": {
        "trusted": true,
        "id": "JTkTEfZJ9rZr",
        "colab_type": "code",
        "colab": {},
        "outputId": "8f55cfe6-1831-4b36-d767-cc828fb03599"
      },
      "source": [
        "X[1, 2] = 66\n",
        "print('X is')\n",
        "print(X)"
      ],
      "execution_count": 0,
      "outputs": [
        {
          "output_type": "stream",
          "text": [
            "X is\n",
            "[[ 1  2  3]\n",
            " [ 4  5 66]\n",
            " [ 7  8  9]]\n"
          ],
          "name": "stdout"
        }
      ]
    },
    {
      "cell_type": "code",
      "metadata": {
        "trusted": true,
        "id": "AClSkJna9raA",
        "colab_type": "code",
        "colab": {},
        "outputId": "b0c9c001-0615-4047-bf23-f1d16df6d092"
      },
      "source": [
        "O = np.zeros((3,3))\n",
        "print('O is')\n",
        "print(O)"
      ],
      "execution_count": 0,
      "outputs": [
        {
          "output_type": "stream",
          "text": [
            "O is\n",
            "[[0. 0. 0.]\n",
            " [0. 0. 0.]\n",
            " [0. 0. 0.]]\n"
          ],
          "name": "stdout"
        }
      ]
    },
    {
      "cell_type": "code",
      "metadata": {
        "trusted": true,
        "id": "ej_499dH9raI",
        "colab_type": "code",
        "colab": {},
        "outputId": "eb149444-329f-4ce0-ee6f-f7eda32ebacd"
      },
      "source": [
        "ones = np.ones((10))\n",
        "print(ones)\n",
        "Ones = np.ones((3,3))\n",
        "print(Ones)"
      ],
      "execution_count": 0,
      "outputs": [
        {
          "output_type": "stream",
          "text": [
            "[1. 1. 1. 1. 1. 1. 1. 1. 1. 1.]\n",
            "[[1. 1. 1.]\n",
            " [1. 1. 1.]\n",
            " [1. 1. 1.]]\n"
          ],
          "name": "stdout"
        }
      ]
    },
    {
      "cell_type": "code",
      "metadata": {
        "trusted": true,
        "id": "5hCNaWYk9rax",
        "colab_type": "code",
        "colab": {},
        "outputId": "0ee82fe0-e62d-46e5-a26c-405d6b8f05d3"
      },
      "source": [
        "R = np.random.rand(3, 2)\n",
        "print('R is a random matrix')\n",
        "print(R)"
      ],
      "execution_count": 0,
      "outputs": [
        {
          "output_type": "stream",
          "text": [
            "R is a random matrix\n",
            "[[0.96939912 0.58067708]\n",
            " [0.59931081 0.02780962]\n",
            " [0.18597647 0.79932074]]\n"
          ],
          "name": "stdout"
        }
      ]
    },
    {
      "cell_type": "code",
      "metadata": {
        "trusted": true,
        "id": "arFhdiS59rbJ",
        "colab_type": "code",
        "colab": {},
        "outputId": "c8a8558e-363d-4d5c-a58b-f562762a6f38"
      },
      "source": [
        "a = np.arange(10)\n",
        "print(a)\n",
        "b = np.reshape(a, (2, 5))\n",
        "print(b)"
      ],
      "execution_count": 0,
      "outputs": [
        {
          "output_type": "stream",
          "text": [
            "[0 1 2 3 4 5 6 7 8 9]\n",
            "[[0 1 2 3 4]\n",
            " [5 6 7 8 9]]\n"
          ],
          "name": "stdout"
        }
      ]
    },
    {
      "cell_type": "code",
      "metadata": {
        "trusted": true,
        "id": "TwArnFap9rbP",
        "colab_type": "code",
        "colab": {},
        "outputId": "eb5d5e76-09b2-4d5c-be76-838599911be5"
      },
      "source": [
        "c = a.reshape(2, 5)\n",
        "print(c)"
      ],
      "execution_count": 0,
      "outputs": [
        {
          "output_type": "stream",
          "text": [
            "[[0 1 2 3 4]\n",
            " [5 6 7 8 9]]\n"
          ],
          "name": "stdout"
        }
      ]
    },
    {
      "cell_type": "markdown",
      "metadata": {
        "id": "GfN4AldR9rbZ",
        "colab_type": "text"
      },
      "source": [
        "行列計算 (Matrix Calculation)"
      ]
    },
    {
      "cell_type": "markdown",
      "metadata": {
        "id": "4mD6_NiB9rbb",
        "colab_type": "text"
      },
      "source": [
        "和，差"
      ]
    },
    {
      "cell_type": "code",
      "metadata": {
        "trusted": true,
        "id": "qT-GLLFC9rbr",
        "colab_type": "code",
        "colab": {},
        "outputId": "8ed17b1b-4422-464b-afe7-17d81ee37ee2"
      },
      "source": [
        "A = np.array([[1,2,3],[3,3,3]])\n",
        "B = np.array([[3,2,1],[1,2,3]])\n",
        "C = A + B\n",
        "D = A - B\n",
        "print('A')\n",
        "print(A)\n",
        "print('B')\n",
        "print(B)\n",
        "print('A + B')\n",
        "print(C)\n",
        "print('A - B')\n",
        "print(D)"
      ],
      "execution_count": 0,
      "outputs": [
        {
          "output_type": "stream",
          "text": [
            "A\n",
            "[[1 2 3]\n",
            " [3 3 3]]\n",
            "B\n",
            "[[3 2 1]\n",
            " [1 2 3]]\n",
            "A + B\n",
            "[[4 4 4]\n",
            " [4 5 6]]\n",
            "A - B\n",
            "[[-2  0  2]\n",
            " [ 2  1  0]]\n"
          ],
          "name": "stdout"
        }
      ]
    },
    {
      "cell_type": "markdown",
      "metadata": {
        "id": "xYaqhFYB9rb4",
        "colab_type": "text"
      },
      "source": [
        "スカラー倍"
      ]
    },
    {
      "cell_type": "code",
      "metadata": {
        "trusted": true,
        "id": "w3Lhi5_39rb7",
        "colab_type": "code",
        "colab": {},
        "outputId": "54d87abc-b537-4b14-cfc5-1758d7c17ff5"
      },
      "source": [
        "a = 2.0\n",
        "C = a * A\n",
        "print('a={0}'.format(a))\n",
        "print('A')\n",
        "print(A)\n",
        "print('a * A')\n",
        "print(C)"
      ],
      "execution_count": 0,
      "outputs": [
        {
          "output_type": "stream",
          "text": [
            "a=2.0\n",
            "A\n",
            "[[1 2 3]\n",
            " [3 3 3]]\n",
            "a * A\n",
            "[[2. 4. 6.]\n",
            " [6. 6. 6.]]\n"
          ],
          "name": "stdout"
        }
      ]
    },
    {
      "cell_type": "markdown",
      "metadata": {
        "id": "-ZBX3dCE9rcF",
        "colab_type": "text"
      },
      "source": [
        "積"
      ]
    },
    {
      "cell_type": "code",
      "metadata": {
        "trusted": true,
        "id": "57A7sN6l9rcH",
        "colab_type": "code",
        "colab": {},
        "outputId": "dc55f0a3-d78d-4102-d93b-305de8bda7d2"
      },
      "source": [
        "A = np.array([[1,2,3],[4,5,6]])\n",
        "B = np.array([[1,2],[3,1],[2,1]])\n",
        "print('A')\n",
        "print(A)\n",
        "print('B')\n",
        "print(B)\n",
        "C = np.dot(A,B)\n",
        "print('C')\n",
        "print(C)\n",
        "D = A.dot(B)\n",
        "print('D')\n",
        "print(D)\n",
        "C = np.dot(B, A)\n",
        "print('C')\n",
        "print(C)\n",
        "D = B.dot(A)\n",
        "print('D')\n",
        "print(D)"
      ],
      "execution_count": 0,
      "outputs": [
        {
          "output_type": "stream",
          "text": [
            "A\n",
            "[[1 2 3]\n",
            " [4 5 6]]\n",
            "B\n",
            "[[1 2]\n",
            " [3 1]\n",
            " [2 1]]\n",
            "C\n",
            "[[13  7]\n",
            " [31 19]]\n",
            "D\n",
            "[[13  7]\n",
            " [31 19]]\n",
            "C\n",
            "[[ 9 12 15]\n",
            " [ 7 11 15]\n",
            " [ 6  9 12]]\n",
            "D\n",
            "[[ 9 12 15]\n",
            " [ 7 11 15]\n",
            " [ 6  9 12]]\n"
          ],
          "name": "stdout"
        }
      ]
    },
    {
      "cell_type": "markdown",
      "metadata": {
        "id": "akdKH9lX9rcT",
        "colab_type": "text"
      },
      "source": [
        "転置"
      ]
    },
    {
      "cell_type": "code",
      "metadata": {
        "trusted": true,
        "id": "i_wvVEtL9rcV",
        "colab_type": "code",
        "colab": {},
        "outputId": "c98ce2f4-c921-4a2e-c217-a2081e5d48a7"
      },
      "source": [
        "A = np.array([[1,2,3],[4,5,6],[7,8,9]])\n",
        "print('A')\n",
        "print(A)\n",
        "B = np.transpose(A)\n",
        "print('Transpose of A')\n",
        "print(B)\n",
        "C = A.T\n",
        "print('Transpose of A can be calculated by A.T')\n",
        "print(C)"
      ],
      "execution_count": 0,
      "outputs": [
        {
          "output_type": "stream",
          "text": [
            "A\n",
            "[[1 2 3]\n",
            " [4 5 6]\n",
            " [7 8 9]]\n",
            "Transpose of A\n",
            "[[1 4 7]\n",
            " [2 5 8]\n",
            " [3 6 9]]\n",
            "Transpose of A can be calculated by A.T\n",
            "[[1 4 7]\n",
            " [2 5 8]\n",
            " [3 6 9]]\n"
          ],
          "name": "stdout"
        }
      ]
    },
    {
      "cell_type": "markdown",
      "metadata": {
        "id": "9JKAJPgg9rcb",
        "colab_type": "text"
      },
      "source": [
        "単位行列"
      ]
    },
    {
      "cell_type": "code",
      "metadata": {
        "trusted": true,
        "id": "1eoTxKm09rcd",
        "colab_type": "code",
        "colab": {},
        "outputId": "0ba10745-2296-42d6-9a13-e79bafa08ebe"
      },
      "source": [
        "E = np.identity((3))\n",
        "print(E)"
      ],
      "execution_count": 0,
      "outputs": [
        {
          "output_type": "stream",
          "text": [
            "[[1. 0. 0.]\n",
            " [0. 1. 0.]\n",
            " [0. 0. 1.]]\n"
          ],
          "name": "stdout"
        }
      ]
    },
    {
      "cell_type": "markdown",
      "metadata": {
        "id": "DKHEtkEh9rc1",
        "colab_type": "text"
      },
      "source": [
        "トレース"
      ]
    },
    {
      "cell_type": "code",
      "metadata": {
        "trusted": true,
        "id": "hX3sbHUy9rc5",
        "colab_type": "code",
        "colab": {},
        "outputId": "ccbb9f1f-c3bf-4069-9e33-81edc81d971b"
      },
      "source": [
        "A = np.array([[1,2,3],[4,5,6],[7,8,9]])\n",
        "print('A')\n",
        "print(A)\n",
        "t = np.trace(A)\n",
        "print('Trace of A is {0}'.format(t))"
      ],
      "execution_count": 0,
      "outputs": [
        {
          "output_type": "stream",
          "text": [
            "A\n",
            "[[1 2 3]\n",
            " [4 5 6]\n",
            " [7 8 9]]\n",
            "Trace of A is 15\n"
          ],
          "name": "stdout"
        }
      ]
    },
    {
      "cell_type": "markdown",
      "metadata": {
        "id": "RMzCgISp9rc-",
        "colab_type": "text"
      },
      "source": [
        "行列式"
      ]
    },
    {
      "cell_type": "code",
      "metadata": {
        "trusted": true,
        "id": "z4sr0YdU9rdA",
        "colab_type": "code",
        "colab": {},
        "outputId": "a70f24bb-ddac-46fb-c662-f7eca58a2453"
      },
      "source": [
        "A = np.array([[1,1,0],[4,5,0],[1,0,1]])\n",
        "print('A')\n",
        "print(A)\n",
        "d = np.linalg.det(A)\n",
        "print('Determinant of A is {0}'.format(d))"
      ],
      "execution_count": 0,
      "outputs": [
        {
          "output_type": "stream",
          "text": [
            "A\n",
            "[[1 1 0]\n",
            " [4 5 0]\n",
            " [1 0 1]]\n",
            "Determinant of A is 1.0\n"
          ],
          "name": "stdout"
        }
      ]
    },
    {
      "cell_type": "markdown",
      "metadata": {
        "id": "wAKVZiWg9rdI",
        "colab_type": "text"
      },
      "source": [
        "逆行列"
      ]
    },
    {
      "cell_type": "code",
      "metadata": {
        "trusted": true,
        "id": "JAjnmQ7h9rdJ",
        "colab_type": "code",
        "colab": {},
        "outputId": "f45e20cf-024f-4639-cb2e-8cf5931ce8ad"
      },
      "source": [
        "A = np.array([[1,1,0],[4,5,0],[1,0,1]])\n",
        "print('A')\n",
        "print(A)\n",
        "Ainv = np.linalg.inv(A)\n",
        "print('Inverse of A')\n",
        "print(Ainv)\n",
        "print('A Ainv')\n",
        "print(A.dot(Ainv))"
      ],
      "execution_count": 0,
      "outputs": [
        {
          "output_type": "stream",
          "text": [
            "A\n",
            "[[1 1 0]\n",
            " [4 5 0]\n",
            " [1 0 1]]\n",
            "Inverse of A\n",
            "[[ 5. -1.  0.]\n",
            " [-4.  1. -0.]\n",
            " [-5.  1.  1.]]\n",
            "A Ainv\n",
            "[[1. 0. 0.]\n",
            " [0. 1. 0.]\n",
            " [0. 0. 1.]]\n"
          ],
          "name": "stdout"
        }
      ]
    },
    {
      "cell_type": "markdown",
      "metadata": {
        "id": "D_ggUDCt9rdS",
        "colab_type": "text"
      },
      "source": [
        "スライシング"
      ]
    },
    {
      "cell_type": "code",
      "metadata": {
        "trusted": true,
        "id": "_r329y4T9rdV",
        "colab_type": "code",
        "colab": {},
        "outputId": "f6fa495e-67c4-486a-a05d-0a19118b5723"
      },
      "source": [
        "x = np.arange(10)\n",
        "print(x)\n",
        "print(x[:5])"
      ],
      "execution_count": 0,
      "outputs": [
        {
          "output_type": "stream",
          "text": [
            "[0 1 2 3 4 5 6 7 8 9]\n",
            "[0 1 2 3 4]\n"
          ],
          "name": "stdout"
        }
      ]
    },
    {
      "cell_type": "code",
      "metadata": {
        "trusted": true,
        "id": "5-JHYf-G9rdb",
        "colab_type": "code",
        "colab": {},
        "outputId": "aef2d0c8-3fb0-45fb-cfa7-b8ee4d6cc5ff"
      },
      "source": [
        "print(x[5:])"
      ],
      "execution_count": 0,
      "outputs": [
        {
          "output_type": "stream",
          "text": [
            "[5 6 7 8 9]\n"
          ],
          "name": "stdout"
        }
      ]
    },
    {
      "cell_type": "code",
      "metadata": {
        "trusted": true,
        "id": "UzHuOdLw9re5",
        "colab_type": "code",
        "colab": {},
        "outputId": "cfe4db2b-b195-41bc-9bc1-e6c325ac146f"
      },
      "source": [
        "print(x[3:5])"
      ],
      "execution_count": 0,
      "outputs": [
        {
          "output_type": "stream",
          "text": [
            "[3 4]\n"
          ],
          "name": "stdout"
        }
      ]
    },
    {
      "cell_type": "code",
      "metadata": {
        "trusted": true,
        "id": "rNl6y8UC9re-",
        "colab_type": "code",
        "colab": {},
        "outputId": "dfcacb85-131f-49df-98e6-a5ebdea9854c"
      },
      "source": [
        "print(x[3:8:2])"
      ],
      "execution_count": 0,
      "outputs": [
        {
          "output_type": "stream",
          "text": [
            "[3 5 7]\n"
          ],
          "name": "stdout"
        }
      ]
    },
    {
      "cell_type": "markdown",
      "metadata": {
        "id": "CuSGGs509rfF",
        "colab_type": "text"
      },
      "source": [
        "逆順"
      ]
    },
    {
      "cell_type": "code",
      "metadata": {
        "trusted": true,
        "id": "nZ6KQtMe9rfL",
        "colab_type": "code",
        "colab": {},
        "outputId": "edad05b9-7ba9-4f97-84e4-d3b3af5d6b53"
      },
      "source": [
        "print(x[::-1])"
      ],
      "execution_count": 0,
      "outputs": [
        {
          "output_type": "stream",
          "text": [
            "[9 8 7 6 5 4 3 2 1 0]\n"
          ],
          "name": "stdout"
        }
      ]
    },
    {
      "cell_type": "code",
      "metadata": {
        "trusted": true,
        "id": "skSjCyuP9rfQ",
        "colab_type": "code",
        "colab": {},
        "outputId": "03d81f20-ac1c-4bc0-f5c6-a80c92d97c50"
      },
      "source": [
        "X = np.array([[1,2,3],[4,5,6],[7,8,9]])\n",
        "print(X)\n",
        "print(X[:2, 0:2])"
      ],
      "execution_count": 0,
      "outputs": [
        {
          "output_type": "stream",
          "text": [
            "[[1 2 3]\n",
            " [4 5 6]\n",
            " [7 8 9]]\n",
            "[[1 2]\n",
            " [4 5]]\n"
          ],
          "name": "stdout"
        }
      ]
    },
    {
      "cell_type": "markdown",
      "metadata": {
        "id": "sej_hpn-9rfX",
        "colab_type": "text"
      },
      "source": [
        "条件を満たすデータの変更"
      ]
    },
    {
      "cell_type": "code",
      "metadata": {
        "trusted": true,
        "id": "sxk5F-V29rfZ",
        "colab_type": "code",
        "colab": {},
        "outputId": "a73781e0-b49c-4fb7-d2ba-22bb0c9bc196"
      },
      "source": [
        "x = np.array([1,2,3,4,5,8,13])\n",
        "print(x)\n",
        "print(x > 3)"
      ],
      "execution_count": 0,
      "outputs": [
        {
          "output_type": "stream",
          "text": [
            "[ 1  2  3  4  5  8 13]\n",
            "[False False False  True  True  True  True]\n"
          ],
          "name": "stdout"
        }
      ]
    },
    {
      "cell_type": "code",
      "metadata": {
        "trusted": true,
        "id": "o8pQQhQv9rfk",
        "colab_type": "code",
        "colab": {},
        "outputId": "af103a6e-a369-400d-b1d6-7b59c59a100d"
      },
      "source": [
        "print(x[x > 3])"
      ],
      "execution_count": 0,
      "outputs": [
        {
          "output_type": "stream",
          "text": [
            "[ 4  5  8 13]\n"
          ],
          "name": "stdout"
        }
      ]
    },
    {
      "cell_type": "code",
      "metadata": {
        "trusted": true,
        "id": "E2juq0ay9rfy",
        "colab_type": "code",
        "colab": {},
        "outputId": "4294450b-44ae-46c9-eba4-1305b66d679f"
      },
      "source": [
        "x[x > 3] = 99\n",
        "print(x)"
      ],
      "execution_count": 0,
      "outputs": [
        {
          "output_type": "stream",
          "text": [
            "[ 1  2  3 99 99 99 99]\n"
          ],
          "name": "stdout"
        }
      ]
    },
    {
      "cell_type": "markdown",
      "metadata": {
        "id": "hZcel5ZS9rgD",
        "colab_type": "text"
      },
      "source": [
        "関数の定義"
      ]
    },
    {
      "cell_type": "code",
      "metadata": {
        "trusted": true,
        "id": "l5aHFJYH9rgR",
        "colab_type": "code",
        "colab": {}
      },
      "source": [
        "def my_sum(a, b):\n",
        "    c = a + b\n",
        "    return c"
      ],
      "execution_count": 0,
      "outputs": []
    },
    {
      "cell_type": "markdown",
      "metadata": {
        "id": "khI7fsSl9rgW",
        "colab_type": "text"
      },
      "source": [
        "関数の実行"
      ]
    },
    {
      "cell_type": "code",
      "metadata": {
        "trusted": true,
        "id": "LttqQ2Ng9rgY",
        "colab_type": "code",
        "colab": {},
        "outputId": "421b144a-fc97-4eab-af70-18aa21e26f10"
      },
      "source": [
        "x = 10.0\n",
        "y = 20.0\n",
        "z = my_sum(x, y)\n",
        "print(z)"
      ],
      "execution_count": 0,
      "outputs": [
        {
          "output_type": "stream",
          "text": [
            "30.0\n"
          ],
          "name": "stdout"
        }
      ]
    },
    {
      "cell_type": "code",
      "metadata": {
        "trusted": true,
        "id": "ZGH3CKxh9rge",
        "colab_type": "code",
        "colab": {}
      },
      "source": [
        ""
      ],
      "execution_count": 0,
      "outputs": []
    },
    {
      "cell_type": "code",
      "metadata": {
        "trusted": true,
        "id": "E9NIsqP19rgi",
        "colab_type": "code",
        "colab": {}
      },
      "source": [
        ""
      ],
      "execution_count": 0,
      "outputs": []
    },
    {
      "cell_type": "code",
      "metadata": {
        "trusted": true,
        "id": "styLTpn-9rgv",
        "colab_type": "code",
        "colab": {}
      },
      "source": [
        ""
      ],
      "execution_count": 0,
      "outputs": []
    },
    {
      "cell_type": "code",
      "metadata": {
        "trusted": true,
        "id": "j2DVvZG59rgy",
        "colab_type": "code",
        "colab": {}
      },
      "source": [
        ""
      ],
      "execution_count": 0,
      "outputs": []
    }
  ]
}