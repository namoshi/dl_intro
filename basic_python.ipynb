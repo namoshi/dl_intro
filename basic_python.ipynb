{
  "nbformat": 4,
  "nbformat_minor": 0,
  "metadata": {
    "kernelspec": {
      "name": "python36",
      "display_name": "Python 3.6",
      "language": "python"
    },
    "language_info": {
      "mimetype": "text/x-python",
      "nbconvert_exporter": "python",
      "name": "python",
      "pygments_lexer": "ipython3",
      "version": "3.6.6",
      "file_extension": ".py",
      "codemirror_mode": {
        "version": 3,
        "name": "ipython"
      }
    },
    "colab": {
      "name": "basic_python.ipynb",
      "provenance": [],
      "include_colab_link": true
    }
  },
  "cells": [
    {
      "cell_type": "markdown",
      "metadata": {
        "id": "view-in-github",
        "colab_type": "text"
      },
      "source": [
        "<a href=\"https://colab.research.google.com/github/namoshi/dl_intro/blob/master/basic_python.ipynb\" target=\"_parent\"><img src=\"https://colab.research.google.com/assets/colab-badge.svg\" alt=\"Open In Colab\"/></a>"
      ]
    },
    {
      "cell_type": "markdown",
      "metadata": {
        "collapsed": true,
        "id": "lybX6hMg8yTZ",
        "colab_type": "text"
      },
      "source": [
        "四則演算"
      ]
    },
    {
      "cell_type": "code",
      "metadata": {
        "trusted": true,
        "id": "GIfWZ9bP8yTh",
        "colab_type": "code",
        "colab": {
          "base_uri": "https://localhost:8080/",
          "height": 34
        },
        "outputId": "d68e04ab-821b-4fd8-8575-3b8386778f19"
      },
      "source": [
        "1+2*3-4/5"
      ],
      "execution_count": 1,
      "outputs": [
        {
          "output_type": "execute_result",
          "data": {
            "text/plain": [
              "6.2"
            ]
          },
          "metadata": {
            "tags": []
          },
          "execution_count": 1
        }
      ]
    },
    {
      "cell_type": "code",
      "metadata": {
        "trusted": true,
        "id": "O68Ra6Ly8yTw",
        "colab_type": "code",
        "colab": {
          "base_uri": "https://localhost:8080/",
          "height": 34
        },
        "outputId": "811564dc-e122-4d01-ff55-91942ac2ec8e"
      },
      "source": [
        "(1+2+3+4+5+6+7+8+9+10)/5"
      ],
      "execution_count": 2,
      "outputs": [
        {
          "output_type": "execute_result",
          "data": {
            "text/plain": [
              "11.0"
            ]
          },
          "metadata": {
            "tags": []
          },
          "execution_count": 2
        }
      ]
    },
    {
      "cell_type": "markdown",
      "metadata": {
        "id": "mTdWIqGm8yUC",
        "colab_type": "text"
      },
      "source": [
        "累乗"
      ]
    },
    {
      "cell_type": "code",
      "metadata": {
        "trusted": true,
        "id": "MDiu0fyi8yUF",
        "colab_type": "code",
        "colab": {
          "base_uri": "https://localhost:8080/",
          "height": 34
        },
        "outputId": "05205c01-92d4-4ba0-cfbe-335286af471e"
      },
      "source": [
        "2**10"
      ],
      "execution_count": 3,
      "outputs": [
        {
          "output_type": "execute_result",
          "data": {
            "text/plain": [
              "1024"
            ]
          },
          "metadata": {
            "tags": []
          },
          "execution_count": 3
        }
      ]
    },
    {
      "cell_type": "markdown",
      "metadata": {
        "id": "20Y9WxKV8yUS",
        "colab_type": "text"
      },
      "source": [
        "変数"
      ]
    },
    {
      "cell_type": "code",
      "metadata": {
        "trusted": true,
        "id": "mF7_F9cu8yUV",
        "colab_type": "code",
        "colab": {
          "base_uri": "https://localhost:8080/",
          "height": 34
        },
        "outputId": "a02e2919-7590-476f-87a3-440d3448435a"
      },
      "source": [
        "x = 1\n",
        "y = 1/3\n",
        "x + y"
      ],
      "execution_count": 4,
      "outputs": [
        {
          "output_type": "execute_result",
          "data": {
            "text/plain": [
              "1.3333333333333333"
            ]
          },
          "metadata": {
            "tags": []
          },
          "execution_count": 4
        }
      ]
    },
    {
      "cell_type": "code",
      "metadata": {
        "trusted": true,
        "id": "2sbUBLpY8yUj",
        "colab_type": "code",
        "colab": {
          "base_uri": "https://localhost:8080/",
          "height": 34
        },
        "outputId": "d603a22d-69b8-43d9-c6c7-413df29694b6"
      },
      "source": [
        "My_Int = 1\n",
        "My_Real = 1/3\n",
        "My_Int + My_Real"
      ],
      "execution_count": 5,
      "outputs": [
        {
          "output_type": "execute_result",
          "data": {
            "text/plain": [
              "1.3333333333333333"
            ]
          },
          "metadata": {
            "tags": []
          },
          "execution_count": 5
        }
      ]
    },
    {
      "cell_type": "markdown",
      "metadata": {
        "id": "fVI_nKQh8yU4",
        "colab_type": "text"
      },
      "source": [
        "変数の型"
      ]
    },
    {
      "cell_type": "code",
      "metadata": {
        "trusted": true,
        "id": "d6RwTqem8yU9",
        "colab_type": "code",
        "colab": {},
        "outputId": "fc86cf3a-6fd6-48c9-be6a-b7f0591db76b"
      },
      "source": [
        "type(My_Int)"
      ],
      "execution_count": 0,
      "outputs": [
        {
          "output_type": "execute_result",
          "data": {
            "text/plain": [
              "int"
            ]
          },
          "metadata": {
            "tags": []
          },
          "execution_count": 6
        }
      ]
    },
    {
      "cell_type": "code",
      "metadata": {
        "trusted": true,
        "id": "aBCmkhvI8yVH",
        "colab_type": "code",
        "colab": {},
        "outputId": "cdb37293-d68c-4f98-c93d-d985d1e862e4"
      },
      "source": [
        "type(My_Real)"
      ],
      "execution_count": 0,
      "outputs": [
        {
          "output_type": "execute_result",
          "data": {
            "text/plain": [
              "float"
            ]
          },
          "metadata": {
            "tags": []
          },
          "execution_count": 7
        }
      ]
    },
    {
      "cell_type": "code",
      "metadata": {
        "trusted": true,
        "id": "37cAiCu88yVT",
        "colab_type": "code",
        "colab": {},
        "outputId": "46830291-d9a8-4d12-8935-10d2cdd509dc"
      },
      "source": [
        "type(1.0)"
      ],
      "execution_count": 0,
      "outputs": [
        {
          "output_type": "execute_result",
          "data": {
            "text/plain": [
              "float"
            ]
          },
          "metadata": {
            "tags": []
          },
          "execution_count": 8
        }
      ]
    },
    {
      "cell_type": "markdown",
      "metadata": {
        "id": "rdmrNS_m8yVo",
        "colab_type": "text"
      },
      "source": [
        "文字列"
      ]
    },
    {
      "cell_type": "code",
      "metadata": {
        "trusted": true,
        "id": "wy8EZmpI8yVt",
        "colab_type": "code",
        "colab": {},
        "outputId": "e7241916-aaa9-4a87-a81f-ec88948acde3"
      },
      "source": [
        "s = 'Machine Learning'\n",
        "type(s)\n",
        "s"
      ],
      "execution_count": 0,
      "outputs": [
        {
          "output_type": "execute_result",
          "data": {
            "text/plain": [
              "'Machine Learning'"
            ]
          },
          "metadata": {
            "tags": []
          },
          "execution_count": 9
        }
      ]
    },
    {
      "cell_type": "code",
      "metadata": {
        "trusted": true,
        "id": "WXoTUhPE8yV7",
        "colab_type": "code",
        "colab": {},
        "outputId": "f9100bef-d037-45b8-93ab-49497e85b86c"
      },
      "source": [
        "t = ' is a set of tools for AI.'\n",
        "s + t"
      ],
      "execution_count": 0,
      "outputs": [
        {
          "output_type": "execute_result",
          "data": {
            "text/plain": [
              "'Machine Learning is a set of tools for AI.'"
            ]
          },
          "metadata": {
            "tags": []
          },
          "execution_count": 10
        }
      ]
    },
    {
      "cell_type": "markdown",
      "metadata": {
        "id": "Uo9DQYE88yWK",
        "colab_type": "text"
      },
      "source": [
        "print"
      ]
    },
    {
      "cell_type": "code",
      "metadata": {
        "trusted": true,
        "id": "y6f9X4d68yWN",
        "colab_type": "code",
        "colab": {},
        "outputId": "e5cb9bdf-82ce-44c9-dc29-838cf37c4ced"
      },
      "source": [
        "x = 1 / 3\n",
        "print(x)\n",
        "y = 2 / 3\n",
        "print(y)"
      ],
      "execution_count": 0,
      "outputs": [
        {
          "output_type": "stream",
          "text": [
            "0.3333333333333333\n",
            "0.6666666666666666\n"
          ],
          "name": "stdout"
        }
      ]
    },
    {
      "cell_type": "code",
      "metadata": {
        "trusted": true,
        "id": "GEoj1E5B8yWX",
        "colab_type": "code",
        "colab": {},
        "outputId": "40aa265d-be1d-4aff-e5f3-6d4c37e46b5a"
      },
      "source": [
        "print('weight = {0} kg'.format(x))"
      ],
      "execution_count": 0,
      "outputs": [
        {
          "output_type": "stream",
          "text": [
            "weight = 0.3333333333333333 kg\n"
          ],
          "name": "stdout"
        }
      ]
    },
    {
      "cell_type": "code",
      "metadata": {
        "trusted": true,
        "id": "NaNn0L258yWg",
        "colab_type": "code",
        "colab": {},
        "outputId": "0fbf767c-52fd-4344-eab9-7a11262e2f07"
      },
      "source": [
        "print('weight = {0} kg, {1} kg'.format(x, y))"
      ],
      "execution_count": 0,
      "outputs": [
        {
          "output_type": "stream",
          "text": [
            "weight = 0.3333333333333333 kg, 0.6666666666666666 kg\n"
          ],
          "name": "stdout"
        }
      ]
    },
    {
      "cell_type": "code",
      "metadata": {
        "trusted": true,
        "id": "dN7ABJpy8yWr",
        "colab_type": "code",
        "colab": {},
        "outputId": "2376e95f-0c0f-4863-e473-499c4abb472b"
      },
      "source": [
        "print('weight = {0:.2f} kg, {1:.2f} kg'.format(x, y))"
      ],
      "execution_count": 0,
      "outputs": [
        {
          "output_type": "stream",
          "text": [
            "weight = 0.33 kg, 0.67 kg\n"
          ],
          "name": "stdout"
        }
      ]
    },
    {
      "cell_type": "markdown",
      "metadata": {
        "id": "GXrObad78yXC",
        "colab_type": "text"
      },
      "source": [
        "リスト"
      ]
    },
    {
      "cell_type": "code",
      "metadata": {
        "trusted": true,
        "id": "i4l4L2vk8yXH",
        "colab_type": "code",
        "colab": {},
        "outputId": "3430ecfe-b00a-48b8-eeaf-eaab49141582"
      },
      "source": [
        "x = [1, 0, 2, 3, 4, 5]\n",
        "print(x)"
      ],
      "execution_count": 0,
      "outputs": [
        {
          "output_type": "stream",
          "text": [
            "[1, 0, 2, 3, 4, 5]\n"
          ],
          "name": "stdout"
        }
      ]
    },
    {
      "cell_type": "code",
      "metadata": {
        "trusted": true,
        "id": "VZpru5W98yXR",
        "colab_type": "code",
        "colab": {},
        "outputId": "9b6cb8a8-d089-45d0-f957-b1e8d7905359"
      },
      "source": [
        "type(x)"
      ],
      "execution_count": 0,
      "outputs": [
        {
          "output_type": "execute_result",
          "data": {
            "text/plain": [
              "list"
            ]
          },
          "metadata": {
            "tags": []
          },
          "execution_count": 18
        }
      ]
    },
    {
      "cell_type": "code",
      "metadata": {
        "trusted": true,
        "id": "s26hvaGb8yXc",
        "colab_type": "code",
        "colab": {},
        "outputId": "aba98958-192c-4644-dccd-c96224efa8c9"
      },
      "source": [
        "x[0]"
      ],
      "execution_count": 0,
      "outputs": [
        {
          "output_type": "execute_result",
          "data": {
            "text/plain": [
              "1"
            ]
          },
          "metadata": {
            "tags": []
          },
          "execution_count": 19
        }
      ]
    },
    {
      "cell_type": "code",
      "metadata": {
        "trusted": true,
        "id": "U06WBN_88yXo",
        "colab_type": "code",
        "colab": {},
        "outputId": "5c0b6554-7b45-4d6a-803f-016a88c306b0"
      },
      "source": [
        "x[3]"
      ],
      "execution_count": 0,
      "outputs": [
        {
          "output_type": "execute_result",
          "data": {
            "text/plain": [
              "3"
            ]
          },
          "metadata": {
            "tags": []
          },
          "execution_count": 20
        }
      ]
    },
    {
      "cell_type": "code",
      "metadata": {
        "trusted": true,
        "id": "TdjNvcV38yX2",
        "colab_type": "code",
        "colab": {},
        "outputId": "620ed9e4-1cf1-406e-bca0-47fdf41db04f"
      },
      "source": [
        "type(x[3])"
      ],
      "execution_count": 0,
      "outputs": [
        {
          "output_type": "execute_result",
          "data": {
            "text/plain": [
              "int"
            ]
          },
          "metadata": {
            "tags": []
          },
          "execution_count": 21
        }
      ]
    },
    {
      "cell_type": "code",
      "metadata": {
        "trusted": true,
        "id": "04Xryl4X8yYB",
        "colab_type": "code",
        "colab": {},
        "outputId": "511d7543-97b9-4aaa-9a71-cfa8873b15d8"
      },
      "source": [
        "s = ['SUN', 'MON', 'TUE']\n",
        "print(s)"
      ],
      "execution_count": 0,
      "outputs": [
        {
          "output_type": "stream",
          "text": [
            "['SUN', 'MON', 'TUE']\n"
          ],
          "name": "stdout"
        }
      ]
    },
    {
      "cell_type": "code",
      "metadata": {
        "trusted": true,
        "id": "XMd060uQ8yYN",
        "colab_type": "code",
        "colab": {},
        "outputId": "14e3f812-d57a-4201-fb3d-e71595a18b29"
      },
      "source": [
        "s[1]"
      ],
      "execution_count": 0,
      "outputs": [
        {
          "output_type": "execute_result",
          "data": {
            "text/plain": [
              "'MON'"
            ]
          },
          "metadata": {
            "tags": []
          },
          "execution_count": 23
        }
      ]
    },
    {
      "cell_type": "code",
      "metadata": {
        "trusted": true,
        "id": "lNN4YcBQ8yYZ",
        "colab_type": "code",
        "colab": {},
        "outputId": "9cb856bc-61f7-4e9f-ab28-5eab789d2f3f"
      },
      "source": [
        "type(s)"
      ],
      "execution_count": 0,
      "outputs": [
        {
          "output_type": "execute_result",
          "data": {
            "text/plain": [
              "list"
            ]
          },
          "metadata": {
            "tags": []
          },
          "execution_count": 24
        }
      ]
    },
    {
      "cell_type": "code",
      "metadata": {
        "trusted": true,
        "id": "oUMUe5b_8yYh",
        "colab_type": "code",
        "colab": {},
        "outputId": "3b7b0cd7-d3b7-4cdb-e1b7-6d539b1ae3e3"
      },
      "source": [
        "type(s[1])"
      ],
      "execution_count": 0,
      "outputs": [
        {
          "output_type": "execute_result",
          "data": {
            "text/plain": [
              "str"
            ]
          },
          "metadata": {
            "tags": []
          },
          "execution_count": 25
        }
      ]
    },
    {
      "cell_type": "markdown",
      "metadata": {
        "id": "6ZtINbvQ8yYw",
        "colab_type": "text"
      },
      "source": [
        "２次元の配列（リストのリスト）"
      ]
    },
    {
      "cell_type": "code",
      "metadata": {
        "trusted": true,
        "id": "OCcp82gE8yYz",
        "colab_type": "code",
        "colab": {},
        "outputId": "37962358-1634-497c-c4fd-453ea41ed694"
      },
      "source": [
        "a = [[1, 2, 3], [4, 5, 6]]\n",
        "print(a)"
      ],
      "execution_count": 0,
      "outputs": [
        {
          "output_type": "stream",
          "text": [
            "[[1, 2, 3], [4, 5, 6]]\n"
          ],
          "name": "stdout"
        }
      ]
    },
    {
      "cell_type": "code",
      "metadata": {
        "trusted": true,
        "id": "vZwKv1I18yZB",
        "colab_type": "code",
        "colab": {},
        "outputId": "e16016c8-c96c-4db2-f8d3-bacf87d3fdbd"
      },
      "source": [
        "a[0][1]"
      ],
      "execution_count": 0,
      "outputs": [
        {
          "output_type": "execute_result",
          "data": {
            "text/plain": [
              "2"
            ]
          },
          "metadata": {
            "tags": []
          },
          "execution_count": 27
        }
      ]
    },
    {
      "cell_type": "code",
      "metadata": {
        "trusted": true,
        "id": "SAH0PY7k8yZM",
        "colab_type": "code",
        "colab": {},
        "outputId": "dcb9ec72-9b9c-4a97-b6f0-59cdaef8dca2"
      },
      "source": [
        "a[1][2]"
      ],
      "execution_count": 0,
      "outputs": [
        {
          "output_type": "execute_result",
          "data": {
            "text/plain": [
              "6"
            ]
          },
          "metadata": {
            "tags": []
          },
          "execution_count": 28
        }
      ]
    },
    {
      "cell_type": "code",
      "metadata": {
        "trusted": true,
        "id": "Q-Fcqifr8yZc",
        "colab_type": "code",
        "colab": {},
        "outputId": "1dea2080-4166-4287-98a9-d87210258897"
      },
      "source": [
        "a[0][1] = 10\n",
        "print(a)"
      ],
      "execution_count": 0,
      "outputs": [
        {
          "output_type": "stream",
          "text": [
            "[[1, 10, 3], [4, 5, 6]]\n"
          ],
          "name": "stdout"
        }
      ]
    },
    {
      "cell_type": "code",
      "metadata": {
        "trusted": true,
        "id": "nHzH4mCn8yZk",
        "colab_type": "code",
        "colab": {},
        "outputId": "3f5c5c85-9b00-48ec-d5ad-f2c9d62528cc"
      },
      "source": [
        "len(s)"
      ],
      "execution_count": 0,
      "outputs": [
        {
          "output_type": "execute_result",
          "data": {
            "text/plain": [
              "3"
            ]
          },
          "metadata": {
            "tags": []
          },
          "execution_count": 30
        }
      ]
    },
    {
      "cell_type": "code",
      "metadata": {
        "trusted": true,
        "id": "AqMoaffE8yZx",
        "colab_type": "code",
        "colab": {},
        "outputId": "223d8878-555c-4cd2-b146-332d69fa21de"
      },
      "source": [
        "len(a)"
      ],
      "execution_count": 0,
      "outputs": [
        {
          "output_type": "execute_result",
          "data": {
            "text/plain": [
              "2"
            ]
          },
          "metadata": {
            "tags": []
          },
          "execution_count": 31
        }
      ]
    },
    {
      "cell_type": "code",
      "metadata": {
        "trusted": true,
        "id": "WI3HH4cD8yZ_",
        "colab_type": "code",
        "colab": {},
        "outputId": "efcf221b-90bb-4505-9901-eed981941f23"
      },
      "source": [
        "len(a[0])"
      ],
      "execution_count": 0,
      "outputs": [
        {
          "output_type": "execute_result",
          "data": {
            "text/plain": [
              "3"
            ]
          },
          "metadata": {
            "tags": []
          },
          "execution_count": 32
        }
      ]
    },
    {
      "cell_type": "markdown",
      "metadata": {
        "id": "jrhGagAx8yaT",
        "colab_type": "text"
      },
      "source": [
        "連続した整数データ"
      ]
    },
    {
      "cell_type": "code",
      "metadata": {
        "trusted": true,
        "id": "NubivJhh8yaW",
        "colab_type": "code",
        "colab": {},
        "outputId": "b985f169-7395-4441-97dd-00378c4b1914"
      },
      "source": [
        "y = range(5, 10)\n",
        "print(y)"
      ],
      "execution_count": 0,
      "outputs": [
        {
          "output_type": "stream",
          "text": [
            "range(5, 10)\n"
          ],
          "name": "stdout"
        }
      ]
    },
    {
      "cell_type": "code",
      "metadata": {
        "trusted": true,
        "id": "7Pg-KjdB8yax",
        "colab_type": "code",
        "colab": {},
        "outputId": "73825aea-6318-4ec9-fe9c-48f3285412bf"
      },
      "source": [
        "y[0]"
      ],
      "execution_count": 0,
      "outputs": [
        {
          "output_type": "execute_result",
          "data": {
            "text/plain": [
              "5"
            ]
          },
          "metadata": {
            "tags": []
          },
          "execution_count": 34
        }
      ]
    },
    {
      "cell_type": "code",
      "metadata": {
        "trusted": true,
        "id": "a70TVhZb8ya5",
        "colab_type": "code",
        "colab": {},
        "outputId": "7fce36fa-9b2e-4680-93a9-23d828ac8bf1"
      },
      "source": [
        "z = list(range(5, 10))\n",
        "print(z)"
      ],
      "execution_count": 0,
      "outputs": [
        {
          "output_type": "stream",
          "text": [
            "[5, 6, 7, 8, 9]\n"
          ],
          "name": "stdout"
        }
      ]
    },
    {
      "cell_type": "code",
      "metadata": {
        "trusted": true,
        "id": "uBt5kUkA8ybS",
        "colab_type": "code",
        "colab": {},
        "outputId": "70f2516b-4e8f-402e-e67b-e5b710e4a2a9"
      },
      "source": [
        "zz = list(range(10))\n",
        "print(zz)"
      ],
      "execution_count": 0,
      "outputs": [
        {
          "output_type": "stream",
          "text": [
            "[0, 1, 2, 3, 4, 5, 6, 7, 8, 9]\n"
          ],
          "name": "stdout"
        }
      ]
    },
    {
      "cell_type": "markdown",
      "metadata": {
        "id": "QMC76gzB8ybf",
        "colab_type": "text"
      },
      "source": [
        "tuple （タプル）"
      ]
    },
    {
      "cell_type": "code",
      "metadata": {
        "trusted": true,
        "id": "A_2a8Y1u8ybi",
        "colab_type": "code",
        "colab": {},
        "outputId": "ce7d5645-ec5b-49dd-97c5-e2eab9f3a35e"
      },
      "source": [
        "a = (1, 2, 3)\n",
        "print(a)"
      ],
      "execution_count": 0,
      "outputs": [
        {
          "output_type": "stream",
          "text": [
            "(1, 2, 3)\n"
          ],
          "name": "stdout"
        }
      ]
    },
    {
      "cell_type": "code",
      "metadata": {
        "trusted": true,
        "id": "PwCKvc5A8ybr",
        "colab_type": "code",
        "colab": {},
        "outputId": "74f86134-5b5b-4ac8-8476-3bf3b0b6573d"
      },
      "source": [
        "print(a[1])"
      ],
      "execution_count": 0,
      "outputs": [
        {
          "output_type": "stream",
          "text": [
            "2\n"
          ],
          "name": "stdout"
        }
      ]
    },
    {
      "cell_type": "code",
      "metadata": {
        "trusted": true,
        "id": "QlOahba28ybz",
        "colab_type": "code",
        "colab": {},
        "outputId": "14381e32-2cfd-4850-d5eb-edaaa6a69693"
      },
      "source": [
        "type(a)"
      ],
      "execution_count": 0,
      "outputs": [
        {
          "output_type": "execute_result",
          "data": {
            "text/plain": [
              "tuple"
            ]
          },
          "metadata": {
            "tags": []
          },
          "execution_count": 39
        }
      ]
    },
    {
      "cell_type": "code",
      "metadata": {
        "trusted": true,
        "id": "WB4GSMLe8yb8",
        "colab_type": "code",
        "colab": {},
        "outputId": "b1f86703-0b6b-4f11-f78d-68e721740629"
      },
      "source": [
        "a[2] = 1"
      ],
      "execution_count": 0,
      "outputs": [
        {
          "output_type": "error",
          "ename": "TypeError",
          "evalue": "'tuple' object does not support item assignment",
          "traceback": [
            "\u001b[0;31m---------------------------------------------------------------------------\u001b[0m",
            "\u001b[0;31mTypeError\u001b[0m                                 Traceback (most recent call last)",
            "\u001b[0;32m<ipython-input-40-05809b234b3f>\u001b[0m in \u001b[0;36m<module>\u001b[0;34m\u001b[0m\n\u001b[0;32m----> 1\u001b[0;31m \u001b[0ma\u001b[0m\u001b[0;34m[\u001b[0m\u001b[0;36m2\u001b[0m\u001b[0;34m]\u001b[0m \u001b[0;34m=\u001b[0m \u001b[0;36m1\u001b[0m\u001b[0;34m\u001b[0m\u001b[0m\n\u001b[0m",
            "\u001b[0;31mTypeError\u001b[0m: 'tuple' object does not support item assignment"
          ]
        }
      ]
    },
    {
      "cell_type": "code",
      "metadata": {
        "trusted": true,
        "id": "PxFaX8I78ycZ",
        "colab_type": "code",
        "colab": {},
        "outputId": "d057195c-f1b5-47b2-db60-605546446169"
      },
      "source": [
        "a = (1)\n",
        "type(a)"
      ],
      "execution_count": 0,
      "outputs": [
        {
          "output_type": "execute_result",
          "data": {
            "text/plain": [
              "int"
            ]
          },
          "metadata": {
            "tags": []
          },
          "execution_count": 41
        }
      ]
    },
    {
      "cell_type": "code",
      "metadata": {
        "trusted": true,
        "id": "xoalFIDp8yco",
        "colab_type": "code",
        "colab": {},
        "outputId": "b7d78297-53a4-4a53-916f-2eed6c0c7755"
      },
      "source": [
        "a = (1,)\n",
        "type(a)"
      ],
      "execution_count": 0,
      "outputs": [
        {
          "output_type": "execute_result",
          "data": {
            "text/plain": [
              "tuple"
            ]
          },
          "metadata": {
            "tags": []
          },
          "execution_count": 42
        }
      ]
    },
    {
      "cell_type": "markdown",
      "metadata": {
        "id": "KrQaYE5l8ycv",
        "colab_type": "text"
      },
      "source": [
        "if 文"
      ]
    },
    {
      "cell_type": "code",
      "metadata": {
        "trusted": true,
        "id": "WuGRSsFD8ycy",
        "colab_type": "code",
        "colab": {},
        "outputId": "73e0063c-ede4-41c4-92a1-713d9308f00c"
      },
      "source": [
        "x = 11\n",
        "if x > 10:\n",
        "    print('x is larger than 10.')\n",
        "    print('x = {0}'.format(x))\n",
        "else:\n",
        "    print('x = {0}'.format(x))"
      ],
      "execution_count": 0,
      "outputs": [
        {
          "output_type": "stream",
          "text": [
            "x is larger than 10.\n",
            "x = 11\n"
          ],
          "name": "stdout"
        }
      ]
    },
    {
      "cell_type": "code",
      "metadata": {
        "trusted": true,
        "id": "0Y2aR05R8yc9",
        "colab_type": "code",
        "colab": {},
        "outputId": "e9960b10-0806-47e9-9805-88fd3366a6f8"
      },
      "source": [
        "x > 10"
      ],
      "execution_count": 0,
      "outputs": [
        {
          "output_type": "execute_result",
          "data": {
            "text/plain": [
              "True"
            ]
          },
          "metadata": {
            "tags": []
          },
          "execution_count": 44
        }
      ]
    },
    {
      "cell_type": "code",
      "metadata": {
        "trusted": true,
        "id": "tmeAEZ1v8ydc",
        "colab_type": "code",
        "colab": {},
        "outputId": "b49b5464-1c8b-4ed7-ea0a-e07b87f4dbdd"
      },
      "source": [
        "type(x > 10)"
      ],
      "execution_count": 0,
      "outputs": [
        {
          "output_type": "execute_result",
          "data": {
            "text/plain": [
              "bool"
            ]
          },
          "metadata": {
            "tags": []
          },
          "execution_count": 45
        }
      ]
    },
    {
      "cell_type": "markdown",
      "metadata": {
        "id": "9zmT7pyS8ydw",
        "colab_type": "text"
      },
      "source": [
        "比較演算子"
      ]
    },
    {
      "cell_type": "code",
      "metadata": {
        "trusted": true,
        "id": "gAC66Tat8ydy",
        "colab_type": "code",
        "colab": {},
        "outputId": "57a1f363-8186-4bc0-b8d8-ca645fcb6fb5"
      },
      "source": [
        "a = 10\n",
        "b = 11\n",
        "print(a == b)\n",
        "print(a > b)\n",
        "print(a >= b)\n",
        "print(a < b)\n",
        "print(a <= b)\n",
        "print(a != b)\n",
        "print(a < b and a != b)"
      ],
      "execution_count": 0,
      "outputs": [
        {
          "output_type": "stream",
          "text": [
            "False\n",
            "False\n",
            "False\n",
            "True\n",
            "True\n",
            "True\n",
            "True\n"
          ],
          "name": "stdout"
        }
      ]
    },
    {
      "cell_type": "markdown",
      "metadata": {
        "id": "zj5q0Om58yeP",
        "colab_type": "text"
      },
      "source": [
        "for 文"
      ]
    },
    {
      "cell_type": "code",
      "metadata": {
        "trusted": true,
        "id": "YWfzuCDb8yeS",
        "colab_type": "code",
        "colab": {},
        "outputId": "a2f3ea96-79fa-4f74-b7a0-db577e0a19ad"
      },
      "source": [
        "for i in [1, 2, 3]:\n",
        "    print('i = {0}'.format(i))"
      ],
      "execution_count": 0,
      "outputs": [
        {
          "output_type": "stream",
          "text": [
            "i = 1\n",
            "i = 2\n",
            "i = 3\n"
          ],
          "name": "stdout"
        }
      ]
    },
    {
      "cell_type": "code",
      "metadata": {
        "trusted": true,
        "id": "qpou6GJX8yeh",
        "colab_type": "code",
        "colab": {},
        "outputId": "28ac6530-12b2-471d-8bc0-24f82aa77750"
      },
      "source": [
        "num = [2, 4, 6, 8, 10]\n",
        "for i in range(len(num)):\n",
        "    num[i] = num[i] * 2\n",
        "print(num)"
      ],
      "execution_count": 0,
      "outputs": [
        {
          "output_type": "stream",
          "text": [
            "[4, 8, 12, 16, 20]\n"
          ],
          "name": "stdout"
        }
      ]
    },
    {
      "cell_type": "markdown",
      "metadata": {
        "id": "xUJITMzh8yeo",
        "colab_type": "text"
      },
      "source": [
        "# numpy を利用した配列計算\n",
        "\n",
        "ベクトル"
      ]
    },
    {
      "cell_type": "code",
      "metadata": {
        "trusted": true,
        "id": "q-B6lBff8yeq",
        "colab_type": "code",
        "colab": {},
        "outputId": "d5c1d1d2-1b49-44fb-8c0e-27a28362c036"
      },
      "source": [
        "import numpy as np\n",
        "x = np.array([1, 2, 3])\n",
        "print(x)\n",
        "type(x)"
      ],
      "execution_count": 0,
      "outputs": [
        {
          "output_type": "stream",
          "text": [
            "[1 2 3]\n"
          ],
          "name": "stdout"
        },
        {
          "output_type": "execute_result",
          "data": {
            "text/plain": [
              "numpy.ndarray"
            ]
          },
          "metadata": {
            "tags": []
          },
          "execution_count": 49
        }
      ]
    },
    {
      "cell_type": "code",
      "metadata": {
        "trusted": true,
        "id": "cSXSUDHI8yez",
        "colab_type": "code",
        "colab": {},
        "outputId": "5839d824-fae1-41ba-ee81-4dfeaf9c513c"
      },
      "source": [
        "y = np.array([4, 5, 6])\n",
        "print(y)\n",
        "z = x + 2*y\n",
        "print(z)"
      ],
      "execution_count": 0,
      "outputs": [
        {
          "output_type": "stream",
          "text": [
            "[4 5 6]\n",
            "[ 9 12 15]\n"
          ],
          "name": "stdout"
        }
      ]
    },
    {
      "cell_type": "code",
      "metadata": {
        "trusted": true,
        "id": "t0GMte8Q8ye_",
        "colab_type": "code",
        "colab": {},
        "outputId": "76635d74-d9cf-4149-b71f-13ccdd9ff73a"
      },
      "source": [
        "print(x[0])\n",
        "print(y[2])\n",
        "print(z[1])"
      ],
      "execution_count": 0,
      "outputs": [
        {
          "output_type": "stream",
          "text": [
            "1\n",
            "6\n",
            "12\n"
          ],
          "name": "stdout"
        }
      ]
    },
    {
      "cell_type": "code",
      "metadata": {
        "trusted": true,
        "id": "K8ro2VsV8yfF",
        "colab_type": "code",
        "colab": {},
        "outputId": "c57a5f3f-63b0-4e72-a69a-8a290c9642e4"
      },
      "source": [
        "x[0] = 2\n",
        "print(x)"
      ],
      "execution_count": 0,
      "outputs": [
        {
          "output_type": "stream",
          "text": [
            "[2 2 3]\n"
          ],
          "name": "stdout"
        }
      ]
    },
    {
      "cell_type": "code",
      "metadata": {
        "trusted": true,
        "id": "JBhdycwd8yfM",
        "colab_type": "code",
        "colab": {},
        "outputId": "244f73b9-ca2c-4326-a737-6d25bfd48247"
      },
      "source": [
        "z = x + 2*y\n",
        "print(z)"
      ],
      "execution_count": 0,
      "outputs": [
        {
          "output_type": "stream",
          "text": [
            "[10 12 15]\n"
          ],
          "name": "stdout"
        }
      ]
    },
    {
      "cell_type": "markdown",
      "metadata": {
        "id": "u1rcS98v8yfV",
        "colab_type": "text"
      },
      "source": [
        "連続したベクトルの作成"
      ]
    },
    {
      "cell_type": "code",
      "metadata": {
        "trusted": true,
        "id": "wytWIVXV8yfX",
        "colab_type": "code",
        "colab": {},
        "outputId": "6963707f-c1ac-4933-dacf-5105fc6fcb5e"
      },
      "source": [
        "a = np.arange(10)\n",
        "print(a)"
      ],
      "execution_count": 0,
      "outputs": [
        {
          "output_type": "stream",
          "text": [
            "[0 1 2 3 4 5 6 7 8 9]\n"
          ],
          "name": "stdout"
        }
      ]
    },
    {
      "cell_type": "code",
      "metadata": {
        "trusted": true,
        "id": "fKptXJG18yfl",
        "colab_type": "code",
        "colab": {},
        "outputId": "3a253da6-3035-4ae1-b72f-a85523646b95"
      },
      "source": [
        "b = np.arange(5,10)\n",
        "print(b)"
      ],
      "execution_count": 0,
      "outputs": [
        {
          "output_type": "stream",
          "text": [
            "[5 6 7 8 9]\n"
          ],
          "name": "stdout"
        }
      ]
    },
    {
      "cell_type": "markdown",
      "metadata": {
        "id": "WVPwTT7v8yft",
        "colab_type": "text"
      },
      "source": [
        "ベクトルのコピー\n",
        "（注意： a = b は使えない！）"
      ]
    },
    {
      "cell_type": "code",
      "metadata": {
        "trusted": true,
        "id": "mubKJFHI8yfv",
        "colab_type": "code",
        "colab": {},
        "outputId": "476db258-bb7f-4683-b417-4d283a5d88b9"
      },
      "source": [
        "a = np.array([1, 2])\n",
        "b = np.copy(a)\n",
        "b[0] = 2\n",
        "c = a.copy()\n",
        "print('a is {0}'.format(a))\n",
        "print('b is {0}'.format(b))\n",
        "print('c is {0}'.format(c))"
      ],
      "execution_count": 0,
      "outputs": [
        {
          "output_type": "stream",
          "text": [
            "a is [1 2]\n",
            "b is [2 2]\n",
            "c is [1 2]\n"
          ],
          "name": "stdout"
        }
      ]
    },
    {
      "cell_type": "markdown",
      "metadata": {
        "id": "K5WzRSDV8yf1",
        "colab_type": "text"
      },
      "source": [
        "ソート"
      ]
    },
    {
      "cell_type": "code",
      "metadata": {
        "trusted": true,
        "id": "48Ndq5WX8yf3",
        "colab_type": "code",
        "colab": {},
        "outputId": "e33bfab9-ebdf-4b16-ff07-bef6ec541c73"
      },
      "source": [
        "data = np.random.randint(0,100,10)\n",
        "print('ソートの前：', data)\n",
        "data.sort()\n",
        "print('ソートの後：', data)"
      ],
      "execution_count": 0,
      "outputs": [
        {
          "output_type": "stream",
          "text": [
            "ソートの前： [84  4  3 58 29 87  7 55 80 69]\n",
            "ソートの後： [ 3  4  7 29 55 58 69 80 84 87]\n"
          ],
          "name": "stdout"
        }
      ]
    },
    {
      "cell_type": "markdown",
      "metadata": {
        "id": "5jZtde7H8ygI",
        "colab_type": "text"
      },
      "source": [
        "最大，最小，合計"
      ]
    },
    {
      "cell_type": "code",
      "metadata": {
        "trusted": true,
        "id": "32ye0-dQ8ygM",
        "colab_type": "code",
        "colab": {},
        "outputId": "fda66adf-5953-4fd9-93d0-e3767c879c7e"
      },
      "source": [
        "# Min\n",
        "print('Min:', data.min())\n",
        "# Max\n",
        "print('Max:', data.max())\n",
        "# sum\n",
        "print('Sum:', data.sum())"
      ],
      "execution_count": 0,
      "outputs": [
        {
          "output_type": "stream",
          "text": [
            "Min: 3\n",
            "Max: 87\n",
            "Sum: 476\n"
          ],
          "name": "stdout"
        }
      ]
    },
    {
      "cell_type": "markdown",
      "metadata": {
        "id": "93aK3P4m8ygU",
        "colab_type": "text"
      },
      "source": [
        "# numpyを持ちた配列\n",
        "\n",
        "行列（Matrix)"
      ]
    },
    {
      "cell_type": "code",
      "metadata": {
        "trusted": true,
        "id": "_he8Vao-8ygY",
        "colab_type": "code",
        "colab": {},
        "outputId": "e64ce2bb-21b3-4a3c-92d6-4b7b4ec42bd7"
      },
      "source": [
        "X = np.array([[1,2,3],[4,5,6],[7,8,9]])\n",
        "print(X)"
      ],
      "execution_count": 0,
      "outputs": [
        {
          "output_type": "stream",
          "text": [
            "[[1 2 3]\n",
            " [4 5 6]\n",
            " [7 8 9]]\n"
          ],
          "name": "stdout"
        }
      ]
    },
    {
      "cell_type": "code",
      "metadata": {
        "trusted": true,
        "id": "d41ZRI7-8yg0",
        "colab_type": "code",
        "colab": {},
        "outputId": "1f5c460c-aafa-4e89-f045-8ec3d11148b0"
      },
      "source": [
        "np.shape(X)"
      ],
      "execution_count": 0,
      "outputs": [
        {
          "output_type": "execute_result",
          "data": {
            "text/plain": [
              "(3, 3)"
            ]
          },
          "metadata": {
            "tags": []
          },
          "execution_count": 60
        }
      ]
    },
    {
      "cell_type": "code",
      "metadata": {
        "trusted": true,
        "id": "6E-aolUS8yhD",
        "colab_type": "code",
        "colab": {},
        "outputId": "c1c376aa-b0e8-47c6-b3ab-9ea269a1a320"
      },
      "source": [
        "X.shape"
      ],
      "execution_count": 0,
      "outputs": [
        {
          "output_type": "execute_result",
          "data": {
            "text/plain": [
              "(3, 3)"
            ]
          },
          "metadata": {
            "tags": []
          },
          "execution_count": 61
        }
      ]
    },
    {
      "cell_type": "code",
      "metadata": {
        "trusted": true,
        "id": "m0lecj6Y8yhI",
        "colab_type": "code",
        "colab": {},
        "outputId": "40db2327-1b54-457f-9a3d-d14213ba6eea"
      },
      "source": [
        "Y = np.array([[1,2,3],[3,2,1]])\n",
        "print('Y is ')\n",
        "print(Y)\n",
        "m, n = Y.shape\n",
        "print('m = {0}'.format(m))\n",
        "print('n = {0}'.format(n))"
      ],
      "execution_count": 0,
      "outputs": [
        {
          "output_type": "stream",
          "text": [
            "Y is \n",
            "[[1 2 3]\n",
            " [3 2 1]]\n",
            "m = 2\n",
            "n = 3\n"
          ],
          "name": "stdout"
        }
      ]
    },
    {
      "cell_type": "code",
      "metadata": {
        "trusted": true,
        "id": "FtSRBUU58yhO",
        "colab_type": "code",
        "colab": {},
        "outputId": "67d9d3ec-ad25-4913-97bf-65be56b0bc59"
      },
      "source": [
        "print('X is')\n",
        "print(X)\n",
        "print('X[0,1]= {0}'.format(X[0, 1]))\n",
        "print('X[1,1]= {0}'.format(X[1, 1]))\n",
        "print('X[2,2]= {0}'.format(X[2, 2]))"
      ],
      "execution_count": 0,
      "outputs": [
        {
          "output_type": "stream",
          "text": [
            "X is\n",
            "[[1 2 3]\n",
            " [4 5 6]\n",
            " [7 8 9]]\n",
            "X[0,1]= 2\n",
            "X[1,1]= 5\n",
            "X[2,2]= 9\n"
          ],
          "name": "stdout"
        }
      ]
    },
    {
      "cell_type": "code",
      "metadata": {
        "trusted": true,
        "id": "rTORstk38yhU",
        "colab_type": "code",
        "colab": {},
        "outputId": "be10056d-18b9-4ef5-a5d1-d00059df0cff"
      },
      "source": [
        "X[1, 2] = 66\n",
        "print('X is')\n",
        "print(X)"
      ],
      "execution_count": 0,
      "outputs": [
        {
          "output_type": "stream",
          "text": [
            "X is\n",
            "[[ 1  2  3]\n",
            " [ 4  5 66]\n",
            " [ 7  8  9]]\n"
          ],
          "name": "stdout"
        }
      ]
    },
    {
      "cell_type": "code",
      "metadata": {
        "trusted": true,
        "id": "rpFE7C7K8yhr",
        "colab_type": "code",
        "colab": {},
        "outputId": "291dba12-5837-47ab-f62d-9843e034ecc9"
      },
      "source": [
        "O = np.zeros((3,3))\n",
        "print('O is')\n",
        "print(O)"
      ],
      "execution_count": 0,
      "outputs": [
        {
          "output_type": "stream",
          "text": [
            "O is\n",
            "[[0. 0. 0.]\n",
            " [0. 0. 0.]\n",
            " [0. 0. 0.]]\n"
          ],
          "name": "stdout"
        }
      ]
    },
    {
      "cell_type": "code",
      "metadata": {
        "trusted": true,
        "id": "dM3RjlTk8yh6",
        "colab_type": "code",
        "colab": {},
        "outputId": "3f33ebfe-a706-417f-81d6-a9ee4b61c9da"
      },
      "source": [
        "ones = np.ones((10))\n",
        "print(ones)\n",
        "Ones = np.ones((3,3))\n",
        "print(Ones)"
      ],
      "execution_count": 0,
      "outputs": [
        {
          "output_type": "stream",
          "text": [
            "[1. 1. 1. 1. 1. 1. 1. 1. 1. 1.]\n",
            "[[1. 1. 1.]\n",
            " [1. 1. 1.]\n",
            " [1. 1. 1.]]\n"
          ],
          "name": "stdout"
        }
      ]
    },
    {
      "cell_type": "code",
      "metadata": {
        "trusted": true,
        "id": "cLkDJTxr8yiD",
        "colab_type": "code",
        "colab": {},
        "outputId": "db4a983c-fa16-4542-b07b-513d418df80f"
      },
      "source": [
        "R = np.random.rand(3, 2)\n",
        "print('R is a random matrix')\n",
        "print(R)"
      ],
      "execution_count": 0,
      "outputs": [
        {
          "output_type": "stream",
          "text": [
            "R is a random matrix\n",
            "[[0.96939912 0.58067708]\n",
            " [0.59931081 0.02780962]\n",
            " [0.18597647 0.79932074]]\n"
          ],
          "name": "stdout"
        }
      ]
    },
    {
      "cell_type": "code",
      "metadata": {
        "trusted": true,
        "id": "3UaN5fWq8yiN",
        "colab_type": "code",
        "colab": {},
        "outputId": "18b82585-f127-475c-ccd8-f11f1b390199"
      },
      "source": [
        "a = np.arange(10)\n",
        "print(a)\n",
        "b = np.reshape(a, (2, 5))\n",
        "print(b)"
      ],
      "execution_count": 0,
      "outputs": [
        {
          "output_type": "stream",
          "text": [
            "[0 1 2 3 4 5 6 7 8 9]\n",
            "[[0 1 2 3 4]\n",
            " [5 6 7 8 9]]\n"
          ],
          "name": "stdout"
        }
      ]
    },
    {
      "cell_type": "code",
      "metadata": {
        "trusted": true,
        "id": "5v3A6FPO8yie",
        "colab_type": "code",
        "colab": {},
        "outputId": "cc165d7c-b288-4bbc-8add-5a36c923acad"
      },
      "source": [
        "c = a.reshape(2, 5)\n",
        "print(c)"
      ],
      "execution_count": 0,
      "outputs": [
        {
          "output_type": "stream",
          "text": [
            "[[0 1 2 3 4]\n",
            " [5 6 7 8 9]]\n"
          ],
          "name": "stdout"
        }
      ]
    },
    {
      "cell_type": "markdown",
      "metadata": {
        "id": "AnuYHRL48yim",
        "colab_type": "text"
      },
      "source": [
        "行列計算 (Matrix Calculation)"
      ]
    },
    {
      "cell_type": "markdown",
      "metadata": {
        "id": "QfgpYQPA8yin",
        "colab_type": "text"
      },
      "source": [
        "和，差"
      ]
    },
    {
      "cell_type": "code",
      "metadata": {
        "trusted": true,
        "id": "_94u15A-8yip",
        "colab_type": "code",
        "colab": {},
        "outputId": "15602ca2-2326-4ea3-dd3f-dc6839413129"
      },
      "source": [
        "A = np.array([[1,2,3],[3,3,3]])\n",
        "B = np.array([[3,2,1],[1,2,3]])\n",
        "C = A + B\n",
        "D = A - B\n",
        "print('A')\n",
        "print(A)\n",
        "print('B')\n",
        "print(B)\n",
        "print('A + B')\n",
        "print(C)\n",
        "print('A - B')\n",
        "print(D)"
      ],
      "execution_count": 0,
      "outputs": [
        {
          "output_type": "stream",
          "text": [
            "A\n",
            "[[1 2 3]\n",
            " [3 3 3]]\n",
            "B\n",
            "[[3 2 1]\n",
            " [1 2 3]]\n",
            "A + B\n",
            "[[4 4 4]\n",
            " [4 5 6]]\n",
            "A - B\n",
            "[[-2  0  2]\n",
            " [ 2  1  0]]\n"
          ],
          "name": "stdout"
        }
      ]
    },
    {
      "cell_type": "markdown",
      "metadata": {
        "id": "nFVCp5nQ8yi0",
        "colab_type": "text"
      },
      "source": [
        "スカラー倍"
      ]
    },
    {
      "cell_type": "code",
      "metadata": {
        "trusted": true,
        "id": "NaP2kO9s8yi2",
        "colab_type": "code",
        "colab": {},
        "outputId": "0ebc2d25-c17a-4d98-bbc2-2cb06038c2ab"
      },
      "source": [
        "a = 2.0\n",
        "C = a * A\n",
        "print('a={0}'.format(a))\n",
        "print('A')\n",
        "print(A)\n",
        "print('a * A')\n",
        "print(C)"
      ],
      "execution_count": 0,
      "outputs": [
        {
          "output_type": "stream",
          "text": [
            "a=2.0\n",
            "A\n",
            "[[1 2 3]\n",
            " [3 3 3]]\n",
            "a * A\n",
            "[[2. 4. 6.]\n",
            " [6. 6. 6.]]\n"
          ],
          "name": "stdout"
        }
      ]
    },
    {
      "cell_type": "markdown",
      "metadata": {
        "id": "7Fwwf16G8yi-",
        "colab_type": "text"
      },
      "source": [
        "積"
      ]
    },
    {
      "cell_type": "code",
      "metadata": {
        "trusted": true,
        "id": "BYi__kah8yi_",
        "colab_type": "code",
        "colab": {},
        "outputId": "ed322a4a-084c-4920-8e06-60dd9e2d0a80"
      },
      "source": [
        "A = np.array([[1,2,3],[4,5,6]])\n",
        "B = np.array([[1,2],[3,1],[2,1]])\n",
        "print('A')\n",
        "print(A)\n",
        "print('B')\n",
        "print(B)\n",
        "C = np.dot(A,B)\n",
        "print('C')\n",
        "print(C)\n",
        "D = A.dot(B)\n",
        "print('D')\n",
        "print(D)\n",
        "C = np.dot(B, A)\n",
        "print('C')\n",
        "print(C)\n",
        "D = B.dot(A)\n",
        "print('D')\n",
        "print(D)"
      ],
      "execution_count": 0,
      "outputs": [
        {
          "output_type": "stream",
          "text": [
            "A\n",
            "[[1 2 3]\n",
            " [4 5 6]]\n",
            "B\n",
            "[[1 2]\n",
            " [3 1]\n",
            " [2 1]]\n",
            "C\n",
            "[[13  7]\n",
            " [31 19]]\n",
            "D\n",
            "[[13  7]\n",
            " [31 19]]\n",
            "C\n",
            "[[ 9 12 15]\n",
            " [ 7 11 15]\n",
            " [ 6  9 12]]\n",
            "D\n",
            "[[ 9 12 15]\n",
            " [ 7 11 15]\n",
            " [ 6  9 12]]\n"
          ],
          "name": "stdout"
        }
      ]
    },
    {
      "cell_type": "markdown",
      "metadata": {
        "id": "eYNogkdV8yjG",
        "colab_type": "text"
      },
      "source": [
        "転置"
      ]
    },
    {
      "cell_type": "code",
      "metadata": {
        "trusted": true,
        "id": "4z78enOA8yjI",
        "colab_type": "code",
        "colab": {},
        "outputId": "c47b2440-3ce7-4938-e812-518871c9df72"
      },
      "source": [
        "A = np.array([[1,2,3],[4,5,6],[7,8,9]])\n",
        "print('A')\n",
        "print(A)\n",
        "B = np.transpose(A)\n",
        "print('Transpose of A')\n",
        "print(B)\n",
        "C = A.T\n",
        "print('Transpose of A can be calculated by A.T')\n",
        "print(C)"
      ],
      "execution_count": 0,
      "outputs": [
        {
          "output_type": "stream",
          "text": [
            "A\n",
            "[[1 2 3]\n",
            " [4 5 6]\n",
            " [7 8 9]]\n",
            "Transpose of A\n",
            "[[1 4 7]\n",
            " [2 5 8]\n",
            " [3 6 9]]\n",
            "Transpose of A can be calculated by A.T\n",
            "[[1 4 7]\n",
            " [2 5 8]\n",
            " [3 6 9]]\n"
          ],
          "name": "stdout"
        }
      ]
    },
    {
      "cell_type": "markdown",
      "metadata": {
        "id": "kdQXsnPu8yjO",
        "colab_type": "text"
      },
      "source": [
        "単位行列"
      ]
    },
    {
      "cell_type": "code",
      "metadata": {
        "trusted": true,
        "id": "TASvSahy8yjP",
        "colab_type": "code",
        "colab": {},
        "outputId": "033bebf8-3c3d-4857-cb37-0f4330c3dce2"
      },
      "source": [
        "E = np.identity((3))\n",
        "print(E)"
      ],
      "execution_count": 0,
      "outputs": [
        {
          "output_type": "stream",
          "text": [
            "[[1. 0. 0.]\n",
            " [0. 1. 0.]\n",
            " [0. 0. 1.]]\n"
          ],
          "name": "stdout"
        }
      ]
    },
    {
      "cell_type": "markdown",
      "metadata": {
        "id": "R5Ir7LmP8yjq",
        "colab_type": "text"
      },
      "source": [
        "トレース"
      ]
    },
    {
      "cell_type": "code",
      "metadata": {
        "trusted": true,
        "id": "MSwL57qU8yjs",
        "colab_type": "code",
        "colab": {},
        "outputId": "dffb3b8f-7cca-4c1d-d2c2-5aa2d6a3badb"
      },
      "source": [
        "A = np.array([[1,2,3],[4,5,6],[7,8,9]])\n",
        "print('A')\n",
        "print(A)\n",
        "t = np.trace(A)\n",
        "print('Trace of A is {0}'.format(t))"
      ],
      "execution_count": 0,
      "outputs": [
        {
          "output_type": "stream",
          "text": [
            "A\n",
            "[[1 2 3]\n",
            " [4 5 6]\n",
            " [7 8 9]]\n",
            "Trace of A is 15\n"
          ],
          "name": "stdout"
        }
      ]
    },
    {
      "cell_type": "markdown",
      "metadata": {
        "id": "CGmgzs8K8yj4",
        "colab_type": "text"
      },
      "source": [
        "行列式"
      ]
    },
    {
      "cell_type": "code",
      "metadata": {
        "trusted": true,
        "id": "LtvQOqBM8yj7",
        "colab_type": "code",
        "colab": {},
        "outputId": "c807d4f0-c753-4515-d7a3-f8d4ce640044"
      },
      "source": [
        "A = np.array([[1,1,0],[4,5,0],[1,0,1]])\n",
        "print('A')\n",
        "print(A)\n",
        "d = np.linalg.det(A)\n",
        "print('Determinant of A is {0}'.format(d))"
      ],
      "execution_count": 0,
      "outputs": [
        {
          "output_type": "stream",
          "text": [
            "A\n",
            "[[1 1 0]\n",
            " [4 5 0]\n",
            " [1 0 1]]\n",
            "Determinant of A is 1.0\n"
          ],
          "name": "stdout"
        }
      ]
    },
    {
      "cell_type": "markdown",
      "metadata": {
        "id": "ainWUs3S8ykA",
        "colab_type": "text"
      },
      "source": [
        "逆行列"
      ]
    },
    {
      "cell_type": "code",
      "metadata": {
        "trusted": true,
        "id": "iu-4Hly78ykB",
        "colab_type": "code",
        "colab": {},
        "outputId": "afdd8823-c19f-4bac-8ef9-73293d3dc405"
      },
      "source": [
        "A = np.array([[1,1,0],[4,5,0],[1,0,1]])\n",
        "print('A')\n",
        "print(A)\n",
        "Ainv = np.linalg.inv(A)\n",
        "print('Inverse of A')\n",
        "print(Ainv)\n",
        "print('A Ainv')\n",
        "print(A.dot(Ainv))"
      ],
      "execution_count": 0,
      "outputs": [
        {
          "output_type": "stream",
          "text": [
            "A\n",
            "[[1 1 0]\n",
            " [4 5 0]\n",
            " [1 0 1]]\n",
            "Inverse of A\n",
            "[[ 5. -1.  0.]\n",
            " [-4.  1. -0.]\n",
            " [-5.  1.  1.]]\n",
            "A Ainv\n",
            "[[1. 0. 0.]\n",
            " [0. 1. 0.]\n",
            " [0. 0. 1.]]\n"
          ],
          "name": "stdout"
        }
      ]
    },
    {
      "cell_type": "markdown",
      "metadata": {
        "id": "C5V_qFH68ykM",
        "colab_type": "text"
      },
      "source": [
        "スライシング"
      ]
    },
    {
      "cell_type": "code",
      "metadata": {
        "trusted": true,
        "id": "TQiWgdBd8ykN",
        "colab_type": "code",
        "colab": {},
        "outputId": "4765d092-a3b8-4934-f890-1da5b3e63499"
      },
      "source": [
        "x = np.arange(10)\n",
        "print(x)\n",
        "print(x[:5])"
      ],
      "execution_count": 0,
      "outputs": [
        {
          "output_type": "stream",
          "text": [
            "[0 1 2 3 4 5 6 7 8 9]\n",
            "[0 1 2 3 4]\n"
          ],
          "name": "stdout"
        }
      ]
    },
    {
      "cell_type": "code",
      "metadata": {
        "trusted": true,
        "id": "flKhooR08ykS",
        "colab_type": "code",
        "colab": {},
        "outputId": "58129d0b-7370-478a-e42f-0100a09cfcc1"
      },
      "source": [
        "print(x[5:])"
      ],
      "execution_count": 0,
      "outputs": [
        {
          "output_type": "stream",
          "text": [
            "[5 6 7 8 9]\n"
          ],
          "name": "stdout"
        }
      ]
    },
    {
      "cell_type": "code",
      "metadata": {
        "trusted": true,
        "id": "P2-eASt68ykY",
        "colab_type": "code",
        "colab": {},
        "outputId": "a5333fcb-d9f4-40d4-8900-70c62cfa44dc"
      },
      "source": [
        "print(x[3:5])"
      ],
      "execution_count": 0,
      "outputs": [
        {
          "output_type": "stream",
          "text": [
            "[3 4]\n"
          ],
          "name": "stdout"
        }
      ]
    },
    {
      "cell_type": "code",
      "metadata": {
        "trusted": true,
        "id": "5Q2covWo8ykc",
        "colab_type": "code",
        "colab": {},
        "outputId": "5264c362-93dc-48ca-ff3e-123bbb3cd5a2"
      },
      "source": [
        "print(x[3:8:2])"
      ],
      "execution_count": 0,
      "outputs": [
        {
          "output_type": "stream",
          "text": [
            "[3 5 7]\n"
          ],
          "name": "stdout"
        }
      ]
    },
    {
      "cell_type": "markdown",
      "metadata": {
        "id": "lAOxUWW48ykk",
        "colab_type": "text"
      },
      "source": [
        "逆順"
      ]
    },
    {
      "cell_type": "code",
      "metadata": {
        "trusted": true,
        "id": "0rfRIuEs8ykn",
        "colab_type": "code",
        "colab": {},
        "outputId": "1d5ae396-6df5-4730-98be-f7eb1600e07c"
      },
      "source": [
        "print(x[::-1])"
      ],
      "execution_count": 0,
      "outputs": [
        {
          "output_type": "stream",
          "text": [
            "[9 8 7 6 5 4 3 2 1 0]\n"
          ],
          "name": "stdout"
        }
      ]
    },
    {
      "cell_type": "code",
      "metadata": {
        "trusted": true,
        "id": "XMi7ujhw8yku",
        "colab_type": "code",
        "colab": {},
        "outputId": "293b077d-0f27-4569-979a-58d546ec9a77"
      },
      "source": [
        "X = np.array([[1,2,3],[4,5,6],[7,8,9]])\n",
        "print(X)\n",
        "print(X[:2, 0:2])"
      ],
      "execution_count": 0,
      "outputs": [
        {
          "output_type": "stream",
          "text": [
            "[[1 2 3]\n",
            " [4 5 6]\n",
            " [7 8 9]]\n",
            "[[1 2]\n",
            " [4 5]]\n"
          ],
          "name": "stdout"
        }
      ]
    },
    {
      "cell_type": "markdown",
      "metadata": {
        "id": "CYzSbfLs8yk4",
        "colab_type": "text"
      },
      "source": [
        "条件を満たすデータの変更"
      ]
    },
    {
      "cell_type": "code",
      "metadata": {
        "trusted": true,
        "id": "qCfZLHU-8yk6",
        "colab_type": "code",
        "colab": {},
        "outputId": "be5b0b78-375a-40e7-8120-f007c5ffb831"
      },
      "source": [
        "x = np.array([1,2,3,4,5,8,13])\n",
        "print(x)\n",
        "print(x > 3)"
      ],
      "execution_count": 0,
      "outputs": [
        {
          "output_type": "stream",
          "text": [
            "[ 1  2  3  4  5  8 13]\n",
            "[False False False  True  True  True  True]\n"
          ],
          "name": "stdout"
        }
      ]
    },
    {
      "cell_type": "code",
      "metadata": {
        "trusted": true,
        "id": "mcBjkMdp8ylD",
        "colab_type": "code",
        "colab": {},
        "outputId": "d6185181-8c4c-4ab0-b59f-f7ebd4904498"
      },
      "source": [
        "print(x[x > 3])"
      ],
      "execution_count": 0,
      "outputs": [
        {
          "output_type": "stream",
          "text": [
            "[ 4  5  8 13]\n"
          ],
          "name": "stdout"
        }
      ]
    },
    {
      "cell_type": "code",
      "metadata": {
        "trusted": true,
        "id": "yIS7bsVP8ylP",
        "colab_type": "code",
        "colab": {},
        "outputId": "fbc79be2-e756-41ae-cf8c-2c50a5731742"
      },
      "source": [
        "x[x > 3] = 99\n",
        "print(x)"
      ],
      "execution_count": 0,
      "outputs": [
        {
          "output_type": "stream",
          "text": [
            "[ 1  2  3 99 99 99 99]\n"
          ],
          "name": "stdout"
        }
      ]
    },
    {
      "cell_type": "markdown",
      "metadata": {
        "id": "BsH1c17R8ylf",
        "colab_type": "text"
      },
      "source": [
        "関数の定義"
      ]
    },
    {
      "cell_type": "code",
      "metadata": {
        "trusted": true,
        "id": "f93Uq_9o8ylh",
        "colab_type": "code",
        "colab": {}
      },
      "source": [
        "def my_sum(a, b):\n",
        "    c = a + b\n",
        "    return c"
      ],
      "execution_count": 0,
      "outputs": []
    },
    {
      "cell_type": "markdown",
      "metadata": {
        "id": "d4fe87re8ylt",
        "colab_type": "text"
      },
      "source": [
        "関数の実行"
      ]
    },
    {
      "cell_type": "code",
      "metadata": {
        "trusted": true,
        "id": "zuYy4M4Y8ylu",
        "colab_type": "code",
        "colab": {},
        "outputId": "b1e80b93-4d87-40c6-ab19-ca1fa47109e3"
      },
      "source": [
        "x = 10.0\n",
        "y = 20.0\n",
        "z = my_sum(x, y)\n",
        "print(z)"
      ],
      "execution_count": 0,
      "outputs": [
        {
          "output_type": "stream",
          "text": [
            "30.0\n"
          ],
          "name": "stdout"
        }
      ]
    },
    {
      "cell_type": "code",
      "metadata": {
        "trusted": true,
        "id": "EN9ZvX458yl2",
        "colab_type": "code",
        "colab": {}
      },
      "source": [
        ""
      ],
      "execution_count": 0,
      "outputs": []
    },
    {
      "cell_type": "code",
      "metadata": {
        "trusted": true,
        "id": "DPkoHJGz8yl8",
        "colab_type": "code",
        "colab": {}
      },
      "source": [
        ""
      ],
      "execution_count": 0,
      "outputs": []
    },
    {
      "cell_type": "code",
      "metadata": {
        "trusted": true,
        "id": "RkJWNL7N8yl_",
        "colab_type": "code",
        "colab": {}
      },
      "source": [
        ""
      ],
      "execution_count": 0,
      "outputs": []
    },
    {
      "cell_type": "code",
      "metadata": {
        "trusted": true,
        "id": "SIIfVMUO8ymD",
        "colab_type": "code",
        "colab": {}
      },
      "source": [
        ""
      ],
      "execution_count": 0,
      "outputs": []
    }
  ]
}