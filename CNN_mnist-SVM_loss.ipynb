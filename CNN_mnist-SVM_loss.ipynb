{
  "cells": [
    {
      "cell_type": "markdown",
      "metadata": {
        "id": "view-in-github",
        "colab_type": "text"
      },
      "source": [
        "<a href=\"https://colab.research.google.com/github/namoshi/dl_intro/blob/master/CNN_mnist-SVM_loss.ipynb\" target=\"_parent\"><img src=\"https://colab.research.google.com/assets/colab-badge.svg\" alt=\"Open In Colab\"/></a>"
      ]
    },
    {
      "cell_type": "markdown",
      "metadata": {
        "id": "KsmQWKeZ-qh9"
      },
      "source": [
        "## Convolutional Neural Network (CNN)\n",
        "\n",
        "Classification of handwritten numbers (MNIST) by CNN"
      ]
    },
    {
      "cell_type": "code",
      "execution_count": 52,
      "metadata": {
        "id": "NHzKxcj2-qh_"
      },
      "outputs": [],
      "source": [
        "import torch\n",
        "import torch.nn as nn\n",
        "import torch.optim as optim\n",
        "import torchvision.datasets as dsets\n",
        "import torchvision.transforms as transforms\n",
        "import torch.nn.functional as F"
      ]
    },
    {
      "cell_type": "code",
      "execution_count": 53,
      "metadata": {
        "colab": {
          "base_uri": "https://localhost:8080/"
        },
        "id": "APmriexa-qiE",
        "outputId": "c0d18762-f567-40e0-8143-f16d9005e315"
      },
      "outputs": [
        {
          "output_type": "stream",
          "name": "stdout",
          "text": [
            "train_dataset =  48000\n",
            "valid_dataset =  12000\n",
            "test_dataset =  10000\n"
          ]
        }
      ],
      "source": [
        "# load MNIST data\n",
        "train_Dataset = dsets.MNIST(\n",
        "      root='./data',  # rootで指定したフォルダーを作成して生データを展開\n",
        "      train=True,  # 学習かテストかの選択\n",
        "      transform=transforms.ToTensor(),  # PyTroch のテンソルに変換\n",
        "      download=True)  # ダウンロードするかどうかの選択\n",
        "\n",
        "test_dataset = dsets.MNIST(\n",
        "      root='./data',\n",
        "      train=False,\n",
        "      transform=transforms.ToTensor(),\n",
        "      download=True)\n",
        "\n",
        "train_dataset, valid_dataset = torch.utils.data.random_split(  # データセットの分割\n",
        "      train_Dataset,   # 分割するデータセット\n",
        "      [48000, 12000])  # 分割数\n",
        "\n",
        "print('train_dataset = ', len(train_dataset))\n",
        "print('valid_dataset = ', len(valid_dataset))\n",
        "print('test_dataset = ', len(test_dataset))\n"
      ]
    },
    {
      "cell_type": "code",
      "execution_count": 54,
      "metadata": {
        "id": "ZFoHMk08-qiJ"
      },
      "outputs": [],
      "source": [
        "# set data loader\n",
        "train_loader = torch.utils.data.DataLoader(\n",
        "      dataset=train_dataset,  # データセットの指定\n",
        "      batch_size=64,  # ミニバッチの指定\n",
        "      shuffle=True,  # シャッフルするかどうかの指定\n",
        "      num_workers=2)  # コアの数\n",
        "\n",
        "valid_loader = torch.utils.data.DataLoader(\n",
        "      dataset=valid_dataset,\n",
        "      batch_size=64,\n",
        "      shuffle=False,\n",
        "      num_workers=2)\n",
        "\n",
        "test_loader = torch.utils.data.DataLoader(\n",
        "      dataset=test_dataset,\n",
        "      batch_size=64,\n",
        "      shuffle=False,\n",
        "      num_workers=2)\n"
      ]
    },
    {
      "cell_type": "code",
      "execution_count": 55,
      "metadata": {
        "colab": {
          "base_uri": "https://localhost:8080/"
        },
        "id": "RIPwR9GF-qiN",
        "outputId": "14210c39-9c41-4ea1-959c-7743254c0739"
      },
      "outputs": [
        {
          "output_type": "stream",
          "name": "stdout",
          "text": [
            "cpu\n",
            "Network architecture for CNN\n",
            " Network(\n",
            "  (conv1): Conv2d(1, 32, kernel_size=(3, 3), stride=(1, 1), padding=(1, 1))\n",
            "  (pool1): MaxPool2d(kernel_size=2, stride=2, padding=0, dilation=1, ceil_mode=False)\n",
            "  (conv2): Conv2d(32, 32, kernel_size=(3, 3), stride=(1, 1), padding=(1, 1))\n",
            "  (pool2): MaxPool2d(kernel_size=2, stride=2, padding=0, dilation=1, ceil_mode=False)\n",
            "  (fc1): Linear(in_features=1568, out_features=128, bias=True)\n",
            "  (fc2): Linear(in_features=128, out_features=10, bias=True)\n",
            ")\n"
          ]
        }
      ],
      "source": [
        "class Network(nn.Module):\n",
        "    def __init__(self):\n",
        "        super(Network, self).__init__()\n",
        "        self.conv1 = nn.Conv2d(1,32,3, padding=1)\n",
        "        self.pool1 = nn.MaxPool2d(2,2)\n",
        "        self.conv2 = nn.Conv2d(32,32,3, padding=1)\n",
        "        self.pool2 = nn.MaxPool2d(2,2)\n",
        "        self.fc1 = nn.Linear(32*7*7, 128)\n",
        "        self.fc2 = nn.Linear(128, 10)\n",
        "\n",
        "    def forward(self, x):\n",
        "        x = self.pool1(F.relu(self.conv1(x)))\n",
        "        x = self.pool2(F.relu(self.conv2(x)))\n",
        "        x = x.view(-1, 32 * 7 * 7)\n",
        "        x = F.relu(self.fc1(x))\n",
        "        x = self.fc2(x)\n",
        "        return x\n",
        "\n",
        "net = Network()\n",
        "device = 'cuda' if torch.cuda.is_available() else 'cpu'\n",
        "print(device)\n",
        "\n",
        "if torch.cuda.is_available():\n",
        "  net.cuda()\n",
        "\n",
        "print('Network architecture for CNN\\n', net)"
      ]
    },
    {
      "cell_type": "code",
      "source": [
        "class HingeLoss(torch.nn.Module):\n",
        "\n",
        "    def __init__(self):\n",
        "        super(HingeLoss, self).__init__()\n",
        "        self.relu = nn.ReLU()\n",
        "\n",
        "    def forward(self, output, target):\n",
        "        one_hot_target = nn.functional.one_hot(target, num_classes=10)\n",
        "#        print(one_hot_target.shape)\n",
        "#        print(output.shape)\n",
        "        all_ones = torch.ones_like(one_hot_target)\n",
        "#        print(all_ones.shape)\n",
        "        labels = 2 * one_hot_target - all_ones\n",
        "#        print(labels.shape)\n",
        "#        print(output.squeeze(1).shape)\n",
        "        losses = all_ones - torch.mul(output.squeeze(1), labels)\n",
        "\n",
        "        return torch.norm(self.relu(losses))"
      ],
      "metadata": {
        "id": "34MDiDNUzP6A"
      },
      "execution_count": 56,
      "outputs": []
    },
    {
      "cell_type": "code",
      "execution_count": 57,
      "metadata": {
        "id": "HDmxPMK4-qiS"
      },
      "outputs": [],
      "source": [
        "# optimizing\n",
        "#criterion = nn.CrossEntropyLoss()\n",
        "criterion = HingeLoss()\n",
        "optimizer = optim.SGD(net.parameters(), lr=0.01, momentum=0.9, weight_decay=0.01)\n",
        "#optimizer = optim.AdamW(net.parameters(), lr=0.01, weight_decay=0.01)\n"
      ]
    },
    {
      "cell_type": "code",
      "execution_count": 58,
      "metadata": {
        "colab": {
          "base_uri": "https://localhost:8080/"
        },
        "id": "1eevlBuY-qiW",
        "outputId": "12764406-bd74-44a2-d638-96c475f90ebc"
      },
      "outputs": [
        {
          "output_type": "stream",
          "name": "stdout",
          "text": [
            "training start ...\n",
            "Epoch [1/50] train Loss: 0.0891, train acc: 0.9345 | val_loss: 0.0893, val_acc: 0.9339\n",
            "Epoch [2/50] train Loss: 0.0568, train acc: 0.9707 | val_loss: 0.0590, val_acc: 0.9717\n",
            "Epoch [3/50] train Loss: 0.0675, train acc: 0.9629 | val_loss: 0.0690, val_acc: 0.9619\n",
            "Epoch [4/50] train Loss: 0.0593, train acc: 0.9701 | val_loss: 0.0625, val_acc: 0.9683\n"
          ]
        },
        {
          "output_type": "stream",
          "name": "stderr",
          "text": [
            "Exception ignored in: <function _MultiProcessingDataLoaderIter.__del__ at 0x78ed7eff8b80>\n",
            "Traceback (most recent call last):\n",
            "  File \"/usr/local/lib/python3.10/dist-packages/torch/utils/data/dataloader.py\", line 1477, in __del__\n",
            "    self._shutdown_workers()\n",
            "  File \"/usr/local/lib/python3.10/dist-packages/torch/utils/data/dataloader.py\", line 1460, in _shutdown_workers\n",
            "    if w.is_alive():\n",
            "  File \"/usr/lib/python3.10/multiprocessing/process.py\", line 160, in is_alive\n",
            "    assert self._parent_pid == os.getpid(), 'can only test a child process'\n",
            "AssertionError: can only test a child process\n",
            "Exception ignored in: <function _MultiProcessingDataLoaderIter.__del__ at 0x78ed7eff8b80>\n",
            "Traceback (most recent call last):\n",
            "  File \"/usr/local/lib/python3.10/dist-packages/torch/utils/data/dataloader.py\", line 1477, in __del__\n",
            "    self._shutdown_workers()\n",
            "  File \"/usr/local/lib/python3.10/dist-packages/torch/utils/data/dataloader.py\", line 1460, in _shutdown_workers\n",
            "    if w.is_alive():\n",
            "  File \"/usr/lib/python3.10/multiprocessing/process.py\", line 160, in is_alive\n",
            "    assert self._parent_pid == os.getpid(), 'can only test a child process'\n",
            "AssertionError: can only test a child process\n",
            "Exception ignored in: <function _MultiProcessingDataLoaderIter.__del__ at 0x78ed7eff8b80>\n",
            "Traceback (most recent call last):\n",
            "  File \"/usr/local/lib/python3.10/dist-packages/torch/utils/data/dataloader.py\", line 1477, in __del__\n",
            "    self._shutdown_workers()\n",
            "  File \"/usr/local/lib/python3.10/dist-packages/torch/utils/data/dataloader.py\", line 1460, in _shutdown_workers\n",
            "    if w.is_alive():\n",
            "  File \"/usr/lib/python3.10/multiprocessing/process.py\", line 160, in is_alive\n",
            "    assert self._parent_pid == os.getpid(), 'can only test a child process'\n",
            "AssertionError: can only test a child process\n",
            "Exception ignored in: <function _MultiProcessingDataLoaderIter.__del__ at 0x78ed7eff8b80>\n",
            "Traceback (most recent call last):\n",
            "  File \"/usr/local/lib/python3.10/dist-packages/torch/utils/data/dataloader.py\", line 1477, in __del__\n",
            "    self._shutdown_workers()\n",
            "  File \"/usr/local/lib/python3.10/dist-packages/torch/utils/data/dataloader.py\", line 1460, in _shutdown_workers\n",
            "    if w.is_alive():\n",
            "  File \"/usr/lib/python3.10/multiprocessing/process.py\", line 160, in is_alive\n",
            "    assert self._parent_pid == os.getpid(), 'can only test a child process'\n",
            "AssertionError: can only test a child process\n"
          ]
        },
        {
          "output_type": "stream",
          "name": "stdout",
          "text": [
            "Epoch [5/50] train Loss: 0.0622, train acc: 0.9651 | val_loss: 0.0658, val_acc: 0.9629\n"
          ]
        },
        {
          "output_type": "stream",
          "name": "stderr",
          "text": [
            "Exception ignored in: <function _MultiProcessingDataLoaderIter.__del__ at 0x78ed7eff8b80>\n",
            "Traceback (most recent call last):\n",
            "  File \"/usr/local/lib/python3.10/dist-packages/torch/utils/data/dataloader.py\", line 1477, in __del__\n",
            "    self._shutdown_workers()\n",
            "  File \"/usr/local/lib/python3.10/dist-packages/torch/utils/data/dataloader.py\", line 1460, in _shutdown_workers\n",
            "    if w.is_alive():\n",
            "  File \"/usr/lib/python3.10/multiprocessing/process.py\", line 160, in is_alive\n",
            "    assert self._parent_pid == os.getpid(), 'can only test a child process'\n",
            "AssertionError: can only test a child process\n",
            "Exception ignored in: <function _MultiProcessingDataLoaderIter.__del__ at 0x78ed7eff8b80>\n",
            "Traceback (most recent call last):\n",
            "  File \"/usr/local/lib/python3.10/dist-packages/torch/utils/data/dataloader.py\", line 1477, in __del__\n",
            "    self._shutdown_workers()\n",
            "  File \"/usr/local/lib/python3.10/dist-packages/torch/utils/data/dataloader.py\", line 1460, in _shutdown_workers\n",
            "    if w.is_alive():\n",
            "  File \"/usr/lib/python3.10/multiprocessing/process.py\", line 160, in is_alive\n",
            "    assert self._parent_pid == os.getpid(), 'can only test a child process'\n",
            "AssertionError: can only test a child process\n",
            "Exception ignored in: <function _MultiProcessingDataLoaderIter.__del__ at 0x78ed7eff8b80>Exception ignored in: <function _MultiProcessingDataLoaderIter.__del__ at 0x78ed7eff8b80>\n",
            "Traceback (most recent call last):\n",
            "  File \"/usr/local/lib/python3.10/dist-packages/torch/utils/data/dataloader.py\", line 1477, in __del__\n",
            "\n",
            "    Traceback (most recent call last):\n",
            "self._shutdown_workers()  File \"/usr/local/lib/python3.10/dist-packages/torch/utils/data/dataloader.py\", line 1477, in __del__\n",
            "    self._shutdown_workers()\n",
            "\n",
            "  File \"/usr/local/lib/python3.10/dist-packages/torch/utils/data/dataloader.py\", line 1460, in _shutdown_workers\n",
            "  File \"/usr/local/lib/python3.10/dist-packages/torch/utils/data/dataloader.py\", line 1460, in _shutdown_workers\n",
            "    if w.is_alive():    \n",
            "if w.is_alive():  File \"/usr/lib/python3.10/multiprocessing/process.py\", line 160, in is_alive\n",
            "\n",
            "  File \"/usr/lib/python3.10/multiprocessing/process.py\", line 160, in is_alive\n",
            "    assert self._parent_pid == os.getpid(), 'can only test a child process'    \n",
            "assert self._parent_pid == os.getpid(), 'can only test a child process'AssertionError\n",
            ": AssertionErrorcan only test a child process: \n",
            "can only test a child process\n",
            "Exception ignored in: Exception ignored in: <function _MultiProcessingDataLoaderIter.__del__ at 0x78ed7eff8b80><function _MultiProcessingDataLoaderIter.__del__ at 0x78ed7eff8b80>\n",
            "\n",
            "Traceback (most recent call last):\n",
            "Traceback (most recent call last):\n",
            "  File \"/usr/local/lib/python3.10/dist-packages/torch/utils/data/dataloader.py\", line 1477, in __del__\n",
            "  File \"/usr/local/lib/python3.10/dist-packages/torch/utils/data/dataloader.py\", line 1477, in __del__\n",
            "        self._shutdown_workers()\n",
            "self._shutdown_workers()\n",
            "  File \"/usr/local/lib/python3.10/dist-packages/torch/utils/data/dataloader.py\", line 1460, in _shutdown_workers\n",
            "  File \"/usr/local/lib/python3.10/dist-packages/torch/utils/data/dataloader.py\", line 1460, in _shutdown_workers\n",
            "        if w.is_alive():\n",
            "  File \"/usr/lib/python3.10/multiprocessing/process.py\", line 160, in is_alive\n",
            "    assert self._parent_pid == os.getpid(), 'can only test a child process'\n",
            "AssertionError: can only test a child process\n",
            "if w.is_alive():\n",
            "  File \"/usr/lib/python3.10/multiprocessing/process.py\", line 160, in is_alive\n",
            "    assert self._parent_pid == os.getpid(), 'can only test a child process'\n",
            "AssertionError: can only test a child process\n"
          ]
        },
        {
          "output_type": "stream",
          "name": "stdout",
          "text": [
            "Epoch [6/50] train Loss: 0.0498, train acc: 0.9783 | val_loss: 0.0526, val_acc: 0.9758\n"
          ]
        },
        {
          "output_type": "stream",
          "name": "stderr",
          "text": [
            "Exception ignored in: <function _MultiProcessingDataLoaderIter.__del__ at 0x78ed7eff8b80>\n",
            "Exception ignored in: Traceback (most recent call last):\n",
            "<function _MultiProcessingDataLoaderIter.__del__ at 0x78ed7eff8b80>\n",
            "  File \"/usr/local/lib/python3.10/dist-packages/torch/utils/data/dataloader.py\", line 1477, in __del__\n",
            "Traceback (most recent call last):\n",
            "  File \"/usr/local/lib/python3.10/dist-packages/torch/utils/data/dataloader.py\", line 1477, in __del__\n",
            "        self._shutdown_workers()\n",
            "  File \"/usr/local/lib/python3.10/dist-packages/torch/utils/data/dataloader.py\", line 1460, in _shutdown_workers\n",
            "    if w.is_alive():\n",
            "self._shutdown_workers()  File \"/usr/lib/python3.10/multiprocessing/process.py\", line 160, in is_alive\n",
            "\n",
            "    assert self._parent_pid == os.getpid(), 'can only test a child process'  File \"/usr/local/lib/python3.10/dist-packages/torch/utils/data/dataloader.py\", line 1460, in _shutdown_workers\n",
            "    \n",
            "if w.is_alive():\n",
            "AssertionError  File \"/usr/lib/python3.10/multiprocessing/process.py\", line 160, in is_alive\n",
            ":     can only test a child processassert self._parent_pid == os.getpid(), 'can only test a child process'\n",
            "\n",
            "AssertionError: can only test a child process\n",
            "Exception ignored in: <function _MultiProcessingDataLoaderIter.__del__ at 0x78ed7eff8b80>Exception ignored in: \n",
            "<function _MultiProcessingDataLoaderIter.__del__ at 0x78ed7eff8b80>Traceback (most recent call last):\n",
            "  File \"/usr/local/lib/python3.10/dist-packages/torch/utils/data/dataloader.py\", line 1477, in __del__\n",
            "\n",
            "    self._shutdown_workers()\n",
            "  File \"/usr/local/lib/python3.10/dist-packages/torch/utils/data/dataloader.py\", line 1460, in _shutdown_workers\n",
            "Traceback (most recent call last):\n",
            "      File \"/usr/local/lib/python3.10/dist-packages/torch/utils/data/dataloader.py\", line 1477, in __del__\n",
            "if w.is_alive():    \n",
            "self._shutdown_workers()\n",
            "  File \"/usr/lib/python3.10/multiprocessing/process.py\", line 160, in is_alive\n",
            "      File \"/usr/local/lib/python3.10/dist-packages/torch/utils/data/dataloader.py\", line 1460, in _shutdown_workers\n",
            "assert self._parent_pid == os.getpid(), 'can only test a child process'    \n",
            "if w.is_alive():AssertionError\n",
            "  File \"/usr/lib/python3.10/multiprocessing/process.py\", line 160, in is_alive\n",
            ":     can only test a child processassert self._parent_pid == os.getpid(), 'can only test a child process'\n",
            "\n",
            "AssertionError: can only test a child process\n"
          ]
        },
        {
          "output_type": "stream",
          "name": "stdout",
          "text": [
            "Epoch [7/50] train Loss: 0.0621, train acc: 0.9682 | val_loss: 0.0661, val_acc: 0.9637\n",
            "Epoch [8/50] train Loss: 0.0544, train acc: 0.9749 | val_loss: 0.0562, val_acc: 0.9749\n",
            "Epoch [9/50] train Loss: 0.0609, train acc: 0.9691 | val_loss: 0.0655, val_acc: 0.9645\n",
            "Epoch [10/50] train Loss: 0.0531, train acc: 0.9734 | val_loss: 0.0567, val_acc: 0.9711\n",
            "Epoch [11/50] train Loss: 0.0708, train acc: 0.9596 | val_loss: 0.0746, val_acc: 0.9566\n",
            "Epoch [12/50] train Loss: 0.0494, train acc: 0.9811 | val_loss: 0.0528, val_acc: 0.9783\n",
            "Epoch [13/50] train Loss: 0.0650, train acc: 0.9708 | val_loss: 0.0672, val_acc: 0.9692\n",
            "Epoch [14/50] train Loss: 0.0700, train acc: 0.9632 | val_loss: 0.0729, val_acc: 0.9605\n",
            "Epoch [15/50] train Loss: 0.0552, train acc: 0.9744 | val_loss: 0.0592, val_acc: 0.9720\n",
            "Epoch [16/50] train Loss: 0.0663, train acc: 0.9669 | val_loss: 0.0674, val_acc: 0.9668\n",
            "Epoch [17/50] train Loss: 0.0625, train acc: 0.9647 | val_loss: 0.0639, val_acc: 0.9633\n",
            "Epoch [18/50] train Loss: 0.0618, train acc: 0.9692 | val_loss: 0.0634, val_acc: 0.9673\n",
            "Epoch [19/50] train Loss: 0.0589, train acc: 0.9681 | val_loss: 0.0614, val_acc: 0.9671\n",
            "Epoch [20/50] train Loss: 0.0605, train acc: 0.9702 | val_loss: 0.0634, val_acc: 0.9683\n",
            "Epoch [21/50] train Loss: 0.0574, train acc: 0.9724 | val_loss: 0.0604, val_acc: 0.9688\n",
            "Epoch [22/50] train Loss: 0.0658, train acc: 0.9651 | val_loss: 0.0696, val_acc: 0.9627\n",
            "Epoch [23/50] train Loss: 0.0656, train acc: 0.9632 | val_loss: 0.0668, val_acc: 0.9607\n",
            "Epoch [24/50] train Loss: 0.0530, train acc: 0.9748 | val_loss: 0.0561, val_acc: 0.9728\n",
            "Epoch [25/50] train Loss: 0.0586, train acc: 0.9702 | val_loss: 0.0621, val_acc: 0.9683\n",
            "Epoch [26/50] train Loss: 0.0568, train acc: 0.9731 | val_loss: 0.0599, val_acc: 0.9721\n",
            "Epoch [27/50] train Loss: 0.0635, train acc: 0.9673 | val_loss: 0.0639, val_acc: 0.9676\n",
            "Epoch [28/50] train Loss: 0.0539, train acc: 0.9750 | val_loss: 0.0575, val_acc: 0.9701\n",
            "Epoch [29/50] train Loss: 0.0509, train acc: 0.9766 | val_loss: 0.0538, val_acc: 0.9757\n",
            "Epoch [30/50] train Loss: 0.0513, train acc: 0.9779 | val_loss: 0.0535, val_acc: 0.9749\n",
            "Epoch [31/50] train Loss: 0.0861, train acc: 0.9418 | val_loss: 0.0870, val_acc: 0.9407\n",
            "Epoch [32/50] train Loss: 0.0549, train acc: 0.9736 | val_loss: 0.0581, val_acc: 0.9718\n",
            "Epoch [33/50] train Loss: 0.0619, train acc: 0.9674 | val_loss: 0.0660, val_acc: 0.9646\n",
            "Epoch [34/50] train Loss: 0.0643, train acc: 0.9635 | val_loss: 0.0681, val_acc: 0.9590\n",
            "Epoch [35/50] train Loss: 0.0589, train acc: 0.9725 | val_loss: 0.0641, val_acc: 0.9690\n",
            "Epoch [36/50] train Loss: 0.0587, train acc: 0.9707 | val_loss: 0.0620, val_acc: 0.9674\n",
            "Epoch [37/50] train Loss: 0.0677, train acc: 0.9634 | val_loss: 0.0693, val_acc: 0.9604\n",
            "Epoch [38/50] train Loss: 0.0788, train acc: 0.9564 | val_loss: 0.0805, val_acc: 0.9546\n",
            "Epoch [39/50] train Loss: 0.0582, train acc: 0.9694 | val_loss: 0.0598, val_acc: 0.9670\n",
            "Epoch [40/50] train Loss: 0.0673, train acc: 0.9599 | val_loss: 0.0698, val_acc: 0.9561\n",
            "Epoch [41/50] train Loss: 0.0584, train acc: 0.9705 | val_loss: 0.0608, val_acc: 0.9674\n",
            "Epoch [42/50] train Loss: 0.0602, train acc: 0.9674 | val_loss: 0.0610, val_acc: 0.9666\n",
            "Epoch [43/50] train Loss: 0.0538, train acc: 0.9755 | val_loss: 0.0573, val_acc: 0.9742\n",
            "Epoch [44/50] train Loss: 0.0663, train acc: 0.9609 | val_loss: 0.0713, val_acc: 0.9568\n",
            "Epoch [45/50] train Loss: 0.0717, train acc: 0.9588 | val_loss: 0.0769, val_acc: 0.9517\n",
            "Epoch [46/50] train Loss: 0.0634, train acc: 0.9657 | val_loss: 0.0647, val_acc: 0.9644\n",
            "Epoch [47/50] train Loss: 0.0858, train acc: 0.9519 | val_loss: 0.0912, val_acc: 0.9476\n",
            "Epoch [48/50] train Loss: 0.0644, train acc: 0.9669 | val_loss: 0.0683, val_acc: 0.9616\n",
            "Epoch [49/50] train Loss: 0.0491, train acc: 0.9775 | val_loss: 0.0522, val_acc: 0.9737\n",
            "Epoch [50/50] train Loss: 0.0719, train acc: 0.9571 | val_loss: 0.0755, val_acc: 0.9541\n"
          ]
        }
      ],
      "source": [
        "###  training\n",
        "print ('training start ...')\n",
        "num_epochs = 50\n",
        "\n",
        "# initialize list for plot graph after training\n",
        "train_loss_list, train_acc_list, val_loss_list, val_acc_list = [], [], [], []\n",
        "\n",
        "for epoch in range(num_epochs):\n",
        "    # initialize each epoch\n",
        "    train_loss, train_acc, val_loss, val_acc = 0, 0, 0, 0\n",
        "\n",
        "    # ======== train_mode (Backprop) ======\n",
        "    net.train()\n",
        "    for i, (images, labels) in enumerate(train_loader):  # get mini batch samples\n",
        "        #viewで28×28×１画像を１次元に変換し、deviceへ転送\n",
        "#        images, labels = images.view(-1, 28*28*1).to(device), labels.to(device)\n",
        "        images, labels = images.to(device), labels.to(device)\n",
        "        optimizer.zero_grad()  # Reset the gradients\n",
        "        outputs = net(images)  # forward computation\n",
        "        loss = criterion(outputs, labels)  # loss\n",
        "        loss.backward()  # backward computation\n",
        "        optimizer.step()  # optimization\n",
        "\n",
        "    # ======== eval_mode (training samples) ======\n",
        "    net.eval()\n",
        "    with torch.no_grad():  # no computation of gradients\n",
        "      for images, labels in train_loader:\n",
        "#          images, labels = images.view(-1, 28*28*1).to(device), labels.to(device)\n",
        "          images, labels = images.to(device), labels.to(device)\n",
        "          outputs = net(images)\n",
        "          loss = criterion(outputs, labels)\n",
        "          train_loss += loss.item()\n",
        "          acc = (outputs.max(1)[1] == labels).sum()\n",
        "          train_acc += acc.item()\n",
        "    avg_train_loss = train_loss / len(train_loader.dataset)\n",
        "    avg_train_acc = train_acc / len(train_loader.dataset)\n",
        "\n",
        "    # ======== eval_mode (validation samples) ======\n",
        "    net.eval()\n",
        "    with torch.no_grad():  # no comptutation of gradients\n",
        "      for images, labels in valid_loader:\n",
        "#          images, labels = images.view(-1, 28*28*1).to(device), labels.to(device)\n",
        "          images, labels = images.to(device), labels.to(device)\n",
        "          outputs = net(images)\n",
        "          loss = criterion(outputs, labels)\n",
        "          val_loss += loss.item()\n",
        "          acc = (outputs.max(1)[1] == labels).sum()\n",
        "          val_acc += acc.item()\n",
        "    avg_val_loss = val_loss / len(valid_loader.dataset)\n",
        "    avg_val_acc = val_acc / len(valid_loader.dataset)\n",
        "\n",
        "    # print log\n",
        "    print ('Epoch [{}/{}] train Loss: {loss:.4f}, train acc: {acc:.4f} | val_loss: {val_loss:.4f}, val_acc: {val_acc:.4f}'\n",
        "                   .format(epoch+1, num_epochs, i+1, loss=avg_train_loss, acc=avg_train_acc, val_loss=avg_val_loss, val_acc=avg_val_acc))\n",
        "\n",
        "    # append list for polt graph after training\n",
        "    train_loss_list.append(avg_train_loss)\n",
        "    train_acc_list.append(avg_train_acc)\n",
        "    val_loss_list.append(avg_val_loss)\n",
        "    val_acc_list.append(avg_val_acc)\n"
      ]
    },
    {
      "cell_type": "code",
      "execution_count": 59,
      "metadata": {
        "id": "GLrdT9io-qia",
        "outputId": "9c03c428-d4d1-48a7-bd80-2137cffa2894",
        "colab": {
          "base_uri": "https://localhost:8080/"
        }
      },
      "outputs": [
        {
          "output_type": "stream",
          "name": "stdout",
          "text": [
            "test_accuracy: 95.6 %\n"
          ]
        }
      ],
      "source": [
        "# ======== eval_mode (test samples) ======\n",
        "net.eval()\n",
        "with torch.no_grad():\n",
        "    total = 0\n",
        "    test_acc = 0\n",
        "    for images, labels in test_loader:\n",
        "#        images, labels = images.view(-1, 28 * 28 * 1 ).to(device), labels.to(device)\n",
        "        images, labels = images.to(device), labels.to(device)\n",
        "        outputs = net(images)\n",
        "        test_acc += (outputs.max(1)[1] == labels).sum().item()\n",
        "        total += labels.size(0)\n",
        "    print('test_accuracy: {} %'.format(100 * test_acc / total))\n",
        "\n",
        "# save weights (You can save the model by uncomment the following line)\n",
        "#torch.save(net.state_dict(), 'mnist_net.ckpt')\n"
      ]
    },
    {
      "cell_type": "code",
      "execution_count": 62,
      "metadata": {
        "id": "UbrGQqV5-qie",
        "outputId": "365c591d-4040-4eff-fddb-224cfdf4e5ee",
        "colab": {
          "base_uri": "https://localhost:8080/",
          "height": 927
        }
      },
      "outputs": [
        {
          "output_type": "display_data",
          "data": {
            "text/plain": [
              "<Figure size 640x480 with 1 Axes>"
            ],
            "image/png": "[encoded data removed]"
          },
          "metadata": {}
        },
        {
          "output_type": "display_data",
          "data": {
            "text/plain": [
              "<Figure size 640x480 with 1 Axes>"
            ],
            "image/png": "[encoded data removed]"
          },
          "metadata": {}
        }
      ],
      "source": [
        "# plot graph\n",
        "import matplotlib.pyplot as plt\n",
        "\n",
        "plt.figure()\n",
        "plt.plot(range(num_epochs), train_loss_list, color='blue', linestyle='-', label='train_loss')\n",
        "plt.plot(range(num_epochs), val_loss_list, color='green', linestyle='--', label='val_loss')\n",
        "plt.ylim([0.0,0.1])\n",
        "plt.legend()\n",
        "plt.xlabel('epoch')\n",
        "plt.ylabel('loss')\n",
        "plt.title('Training and validation loss')\n",
        "plt.grid()\n",
        "plt.savefig('CNN_mnist_loss.png')\n",
        "plt.show()\n",
        "\n",
        "plt.figure()\n",
        "plt.plot(range(num_epochs), train_acc_list, color='blue', linestyle='-', label='train_acc')\n",
        "plt.plot(range(num_epochs), val_acc_list, color='green', linestyle='--', label='val_acc')\n",
        "plt.ylim([0.5, 1.0])\n",
        "plt.legend()\n",
        "plt.xlabel('epoch')\n",
        "plt.ylabel('acc')\n",
        "plt.title('Training and validation accuracy')\n",
        "plt.grid()\n",
        "plt.savefig('CNN_mnist_acc.png')\n",
        "plt.show()"
      ]
    },
    {
      "cell_type": "code",
      "execution_count": null,
      "metadata": {
        "id": "YntKDJYU-qij"
      },
      "outputs": [],
      "source": []
    }
  ],
  "metadata": {
    "accelerator": "GPU",
    "colab": {
      "name": "CNN_mnist.ipynb",
      "provenance": [],
      "include_colab_link": true
    },
    "kernelspec": {
      "display_name": "Python 3",
      "language": "python",
      "name": "python3"
    },
    "language_info": {
      "codemirror_mode": {
        "name": "ipython",
        "version": 3
      },
      "file_extension": ".py",
      "mimetype": "text/x-python",
      "name": "python",
      "nbconvert_exporter": "python",
      "pygments_lexer": "ipython3",
      "version": "3.7.9"
    }
  },
  "nbformat": 4,
  "nbformat_minor": 0
}