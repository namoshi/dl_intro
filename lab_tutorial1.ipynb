{
 "cells": [
  {
   "cell_type": "markdown",
   "metadata": {
    "colab_type": "text",
    "id": "view-in-github"
   },
   "source": [
    "<a href=\"https://colab.research.google.com/github/namoshi/dl_intro/blob/master/lab_tutorial1.ipynb\" target=\"_parent\"><img src=\"https://colab.research.google.com/assets/colab-badge.svg\" alt=\"Open In Colab\"/></a>"
   ]
  },
  {
   "cell_type": "markdown",
   "metadata": {
    "colab_type": "text",
    "id": "Ght-oPu9-r4R"
   },
   "source": [
    "# Convolutional Neural Network (CNN)\n"
   ]
  },
  {
   "cell_type": "markdown",
   "metadata": {
    "colab_type": "text",
    "id": "jKhf9HBgqfpB"
   },
   "source": [
    "## Example of Classification by CNN\n",
    "\n",
    "This is an example of classification of mnist using Convolutional Neural Network (CNN)."
   ]
  },
  {
   "cell_type": "markdown",
   "metadata": {
    "colab_type": "text",
    "id": "CmgnFhZGAyOz"
   },
   "source": [
    "Import of required library."
   ]
  },
  {
   "cell_type": "code",
   "execution_count": 1,
   "metadata": {
    "colab": {
     "base_uri": "https://localhost:8080/",
     "height": 51
    },
    "colab_type": "code",
    "id": "UDpMZHJEA8ZA",
    "outputId": "21030289-ce7e-4b16-981f-2bd3c717a4c8"
   },
   "outputs": [
    {
     "name": "stdout",
     "output_type": "stream",
     "text": [
      "torch version is 1.5.1\n",
      "cuda is available\n"
     ]
    }
   ],
   "source": [
    "import numpy as np\n",
    "import matplotlib.pyplot as plt\n",
    "import torch\n",
    "import torch.nn as nn\n",
    "import torchvision.datasets as dsets\n",
    "import torchvision.transforms as transforms\n",
    "from torch.autograd import Variable\n",
    "from torch import Tensor\n",
    "import torch.nn.functional as F\n",
    "%matplotlib inline\n",
    "\n",
    "print('torch version is {}'.format(torch.__version__))\n",
    "if torch.cuda.is_available():\n",
    "    print('cuda is available')\n",
    "else:\n",
    "    print('cuda is not avaibalbe')"
   ]
  },
  {
   "cell_type": "markdown",
   "metadata": {
    "colab_type": "text",
    "id": "C8G0RhRpBHn6"
   },
   "source": [
    "Fixed seed value for random numbers.\n",
    "\n",
    "The initial value of the weight is determined by random numbers. By fixing the seed value of the random number, you can get the same results. Otherwise, you will get different results depending on the initial value."
   ]
  },
  {
   "cell_type": "code",
   "execution_count": 2,
   "metadata": {
    "colab": {},
    "colab_type": "code",
    "id": "Ap5k0pKmCQLH"
   },
   "outputs": [],
   "source": [
    "torch.cuda.manual_seed_all(100100)\n",
    "torch.manual_seed(100100)\n",
    "np.random.seed(100100)"
   ]
  },
  {
   "cell_type": "markdown",
   "metadata": {
    "colab_type": "text",
    "id": "SFBh-snpCoG6"
   },
   "source": [
    "Reading dataset.\n",
    "\n",
    "Image data is stored in x_train and x_test, and labels are stored in y_train and y_test.\n",
    "\n",
    "This part should be rewritten as appropriate depending on the data set you use.\n",
    "\n",
    "The input image to the model should have the shape of $(N, C, H, W)$.\n",
    "\n",
    "$N:$ number of data\n",
    "\n",
    "$C:$ number of channnel\n",
    "\n",
    "$H:$ height\n",
    "\n",
    "$W:$ width"
   ]
  },
  {
   "cell_type": "code",
   "execution_count": 3,
   "metadata": {
    "colab": {
     "base_uri": "https://localhost:8080/",
     "height": 255
    },
    "colab_type": "code",
    "id": "BcxOk-KICqxf",
    "outputId": "c7a5e42c-1fa9-45e8-b8b8-63a80a0bc664"
   },
   "outputs": [],
   "source": [
    "mnist_train = dsets.MNIST(\".\", download=True, train=True)\n",
    "x_train = []\n",
    "y_train = []\n",
    "x_test = []\n",
    "y_test = []\n",
    "\n",
    "mnist_test = dsets.MNIST(\".\", download=True, train=False)\n",
    "\n",
    "\n",
    "\n",
    "for i in range(len(mnist_train)):\n",
    "\tx_train.append(np.array(mnist_train[i][0]))\n",
    "\ty_train.append(mnist_train[i][1])\n",
    "\n",
    "for i in range(len(mnist_test)):\n",
    "\tx_test.append(np.array(mnist_test[i][0]))\n",
    "\ty_test.append(mnist_test[i][1])\n",
    "\n",
    "#Change shape to (N, C, H, W) by reshape.\n",
    "x_train = np.array(x_train)\n",
    "y_train = np.array(y_train)\n",
    "x_train = x_train.reshape(len(mnist_train), 1, 28, 28)\n",
    "x_train = x_train / 255.0\n",
    "\n",
    "x_test = np.array(x_test)\n",
    "y_test = np.array(y_test)\n",
    "x_test = x_test.reshape(len(mnist_test), 1, 28, 28)\n",
    "x_test = x_test / 255.0\n",
    "\n",
    "\n",
    "datasize = len(y_train)\n",
    "datasize_test = len(y_test)"
   ]
  },
  {
   "cell_type": "markdown",
   "metadata": {
    "colab_type": "text",
    "id": "k8rIo1KHtmGC"
   },
   "source": [
    "Define the model structure.\n",
    "\n",
    "The computation within the convolution layers is regarded as a filtering process of the input image as\n",
    "\\begin{align}\n",
    "f_{p,q}^{(c)}=h(\\sum^{convy-1}_{r=0}\\sum^{convx-1}_{s=0}w^{(c)}_{r,s}f^{(c-1)}_{p+r, q+s}+b^{(c)}) \\; ,\n",
    "\\end{align}\n",
    "\n",
    "where $w^{(c)}_{r,s}$ is the weight of the neuron indexed as $(r,s)$ in the $c$-th convolution layer and $b^{(c)}$ is the bias of the $c$-th convolution layer. \n",
    "\n",
    "The size of the convolution filter is given as $convx \\times convy$. The activation function of each neuron is denoted as $h$. \n",
    "\n",
    "Usually, pooling layers are added after the convolution layers. The pooling layer performs downsampling for reducing computational costs and enhancing against micro position changes. \n",
    "\n",
    "Fully-connected layers like multi layer perceptron is connected to the convolution layers which is used to construct the classifier. \n",
    "\n",
    "In this example, a model of the following structure is defined.\n",
    "\n",
    "\n",
    "---\n",
    "\n",
    "convolution layer1:(filtersize:3*3, channel:32)\n",
    "\n",
    "convolution layer2:(filtersize:3*3, channel:32)\n",
    "\n",
    "full connected:(128)\n",
    "\n",
    "\n",
    "---\n",
    "\n"
   ]
  },
  {
   "cell_type": "code",
   "execution_count": 6,
   "metadata": {
    "colab": {},
    "colab_type": "code",
    "id": "RcZi9egWvd5C"
   },
   "outputs": [
    {
     "name": "stdout",
     "output_type": "stream",
     "text": [
      "Network(\n",
      "  (conv1): Conv2d(1, 32, kernel_size=(3, 3), stride=(1, 1), padding=(1, 1))\n",
      "  (pool): MaxPool2d(kernel_size=2, stride=2, padding=0, dilation=1, ceil_mode=False)\n",
      "  (conv2): Conv2d(32, 32, kernel_size=(3, 3), stride=(1, 1), padding=(1, 1))\n",
      "  (fc1): Linear(in_features=1568, out_features=128, bias=True)\n",
      "  (fc2): Linear(in_features=128, out_features=10, bias=True)\n",
      ")\n"
     ]
    }
   ],
   "source": [
    "class Network(nn.Module):\n",
    "    def __init__(self):\n",
    "        super(Network, self).__init__()\n",
    "        self.conv1 = nn.Conv2d(1,32,3, padding=1)\n",
    "        self.pool = nn.MaxPool2d(2,2)\n",
    "        self.conv2 = nn.Conv2d(32,32,3, padding=1)\n",
    "        self.fc1 = nn.Linear(32*7*7, 128)\n",
    "        self.fc2 = nn.Linear(128, 10)\n",
    "\n",
    "    def forward(self, x):\n",
    "        x = self.pool(F.relu(self.conv1(x)))\n",
    "        x = self.pool(F.relu(self.conv2(x)))\n",
    "        x = x.view(-1, 32 * 7 * 7)\n",
    "        x = F.relu(self.fc1(x))\n",
    "        x = self.fc2(x)\n",
    "        return x\n",
    "\n",
    "net = Network()\n",
    "if torch.cuda.is_available():\n",
    "  net.cuda()\n",
    "\n",
    "print(net)"
   ]
  },
  {
   "cell_type": "markdown",
   "metadata": {
    "colab_type": "text",
    "id": "jHZ-VU_Nv83w"
   },
   "source": [
    "Definition of loss function.\n",
    "\n",
    "The cross entropy loss is defined as the following equation.\n",
    "\n",
    "\n",
    "\\begin{align}\n",
    "E = -\\sum_n^N {\\boldsymbol t}_n^Tlog(S({\\boldsymbol y}_n)) \\; \n",
    "\\end{align}\n",
    "\n",
    "$S(\\cdot)$ is an activation function of the output layer.\n",
    "\n",
    "${\\boldsymbol t_n}$ is a label and ${\\boldsymbol y_n}$ is the output of the network.\n",
    "\n",
    "In multiclass classification, the softmax function is generally used for the activation function of the output layer."
   ]
  },
  {
   "cell_type": "code",
   "execution_count": 7,
   "metadata": {
    "colab": {},
    "colab_type": "code",
    "id": "mP60jrGTzdft"
   },
   "outputs": [],
   "source": [
    "softmax_cross_entropy = nn.CrossEntropyLoss()"
   ]
  },
  {
   "cell_type": "markdown",
   "metadata": {
    "colab_type": "text",
    "id": "aG1793oHf9Ss"
   },
   "source": [
    "Definition of optimizer. \n",
    "\n",
    "In the example, the stochastic gradient descent method with momentum (SGD with momentum) is used.\n",
    "\n",
    "$\\mu$ is a learning rate and $\\eta$ is a momentum parameter.\n",
    "\n",
    "\\begin{align}\n",
    "{\\boldsymbol w}^{(t+1)} &\\leftarrow {\\boldsymbol w}^{(t)} + \\Delta  {\\boldsymbol w}^{(t)} \\\\\n",
    " \\Delta  {\\boldsymbol w}^{(t)} &= \\mu \\Delta {\\boldsymbol w}^{(t - 1)} - (1-\\mu) \\eta {\\boldsymbol g}^{(t)} \\\\\n",
    " {\\boldsymbol g}^{(t)} &= \\nabla E({\\boldsymbol w}^{(t)})\n",
    " \\end{align}\n",
    " \n",
    "In addition, regularization terms such as weight decay may be added as necessary to prevent over-learning."
   ]
  },
  {
   "cell_type": "code",
   "execution_count": 8,
   "metadata": {
    "colab": {},
    "colab_type": "code",
    "id": "6ErvMc0GZlcx"
   },
   "outputs": [],
   "source": [
    "optimizer = torch.optim.SGD(net.parameters(), lr=0.01, momentum=0.9, weight_decay=0.005)"
   ]
  },
  {
   "cell_type": "markdown",
   "metadata": {
    "colab_type": "text",
    "id": "v1jsgYv8d9CX"
   },
   "source": [
    "Then we can train the parameters of the network.\n",
    "\n",
    "Input data into the model for each mini-batch and perform parameter update."
   ]
  },
  {
   "cell_type": "code",
   "execution_count": 16,
   "metadata": {
    "colab": {
     "base_uri": "https://localhost:8080/",
     "height": 1000
    },
    "colab_type": "code",
    "id": "mYoFAxXld9SP",
    "outputId": "831e512c-6a11-43e8-cdee-b1611e2e1572"
   },
   "outputs": [
    {
     "name": "stdout",
     "output_type": "stream",
     "text": [
      "epoch 1\n",
      "\ttrain  mean loss=0.13120756584530074, accuracy=0.9604833333333334\n",
      "\ttest  mean loss=0.12218451040331274, accuracy=0.963\n",
      "epoch 2\n",
      "\ttrain  mean loss=0.09250599631108343, accuracy=0.9722\n",
      "\ttest  mean loss=0.08381646020105109, accuracy=0.9735\n",
      "epoch 3\n",
      "\ttrain  mean loss=0.07254654499314105, accuracy=0.97895\n",
      "\ttest  mean loss=0.06423724060645326, accuracy=0.9802\n",
      "epoch 4\n",
      "\ttrain  mean loss=0.07886124402284622, accuracy=0.97685\n",
      "\ttest  mean loss=0.07432077149860561, accuracy=0.977\n",
      "epoch 5\n",
      "\ttrain  mean loss=0.07037788491540899, accuracy=0.9795333333333334\n",
      "\ttest  mean loss=0.0680863693775609, accuracy=0.9797\n",
      "epoch 6\n",
      "\ttrain  mean loss=0.0663222689422158, accuracy=0.9817166666666667\n",
      "\ttest  mean loss=0.06579200265929103, accuracy=0.9788\n",
      "epoch 7\n",
      "\ttrain  mean loss=0.0794036763239031, accuracy=0.9762\n",
      "\ttest  mean loss=0.07622063082759269, accuracy=0.9766\n",
      "epoch 8\n",
      "\ttrain  mean loss=0.06202574517733107, accuracy=0.98305\n",
      "\ttest  mean loss=0.06094385468168184, accuracy=0.9814\n",
      "epoch 9\n",
      "\ttrain  mean loss=0.059149975114657236, accuracy=0.9838833333333333\n",
      "\ttest  mean loss=0.058111393731087445, accuracy=0.9832\n",
      "epoch 10\n",
      "\ttrain  mean loss=0.056045199228295435, accuracy=0.9837833333333333\n",
      "\ttest  mean loss=0.05658073223894462, accuracy=0.9826\n",
      "epoch 11\n",
      "\ttrain  mean loss=0.06569062691026678, accuracy=0.9813666666666667\n",
      "\ttest  mean loss=0.06575893646804616, accuracy=0.9811\n",
      "epoch 12\n",
      "\ttrain  mean loss=0.058811392358814676, accuracy=0.9836666666666667\n",
      "\ttest  mean loss=0.05711875920649618, accuracy=0.9832\n",
      "epoch 13\n",
      "\ttrain  mean loss=0.05513006738270633, accuracy=0.9839333333333333\n",
      "\ttest  mean loss=0.053166040712967516, accuracy=0.9833\n",
      "epoch 14\n",
      "\ttrain  mean loss=0.05536125695332885, accuracy=0.9841666666666666\n",
      "\ttest  mean loss=0.052217073624487964, accuracy=0.9848\n",
      "epoch 15\n",
      "\ttrain  mean loss=0.05038199428352527, accuracy=0.9859666666666667\n",
      "\ttest  mean loss=0.0501665668055648, accuracy=0.985\n",
      "epoch 16\n",
      "\ttrain  mean loss=0.054117905055948844, accuracy=0.9842333333333333\n",
      "\ttest  mean loss=0.04956815565004945, accuracy=0.9859\n",
      "epoch 17\n",
      "\ttrain  mean loss=0.05432759997318499, accuracy=0.9854166666666667\n",
      "\ttest  mean loss=0.05382036640192382, accuracy=0.9845\n",
      "epoch 18\n",
      "\ttrain  mean loss=0.057467314920698606, accuracy=0.9852\n",
      "\ttest  mean loss=0.060404472404625265, accuracy=0.9819\n",
      "epoch 19\n",
      "\ttrain  mean loss=0.06809472804966693, accuracy=0.9808166666666667\n",
      "\ttest  mean loss=0.07105241162120364, accuracy=0.9795\n",
      "epoch 20\n",
      "\ttrain  mean loss=0.05298735786889059, accuracy=0.9860166666666667\n",
      "\ttest  mean loss=0.05289468368515372, accuracy=0.9844\n",
      "epoch 21\n",
      "\ttrain  mean loss=0.05873929871323829, accuracy=0.9827333333333333\n",
      "\ttest  mean loss=0.059122130325995385, accuracy=0.9829\n",
      "epoch 22\n",
      "\ttrain  mean loss=0.061924191945387674, accuracy=0.9826\n",
      "\ttest  mean loss=0.06264818487921729, accuracy=0.9813\n",
      "epoch 23\n",
      "\ttrain  mean loss=0.05178546880371868, accuracy=0.9851666666666666\n",
      "\ttest  mean loss=0.05304351674043573, accuracy=0.9862\n",
      "epoch 24\n",
      "\ttrain  mean loss=0.05161049882027631, accuracy=0.98555\n",
      "\ttest  mean loss=0.05266102259396575, accuracy=0.9848\n",
      "epoch 25\n",
      "\ttrain  mean loss=0.05974427526273454, accuracy=0.9824166666666667\n",
      "\ttest  mean loss=0.05468197515700012, accuracy=0.9838\n",
      "epoch 26\n",
      "\ttrain  mean loss=0.05935457579325885, accuracy=0.9825333333333334\n",
      "\ttest  mean loss=0.05861435868428089, accuracy=0.9807\n",
      "epoch 27\n",
      "\ttrain  mean loss=0.05165882342262194, accuracy=0.9866\n",
      "\ttest  mean loss=0.05241374297067523, accuracy=0.9841\n",
      "epoch 28\n",
      "\ttrain  mean loss=0.053127571548490474, accuracy=0.9856166666666667\n",
      "\ttest  mean loss=0.05232350521022454, accuracy=0.9845\n",
      "epoch 29\n",
      "\ttrain  mean loss=0.060879718741634864, accuracy=0.9821666666666666\n",
      "\ttest  mean loss=0.060882575364084916, accuracy=0.9801\n",
      "epoch 30\n",
      "\ttrain  mean loss=0.0534681169463632, accuracy=0.9850833333333333\n",
      "\ttest  mean loss=0.0526819425902795, accuracy=0.9845\n",
      "epoch 31\n",
      "\ttrain  mean loss=0.05436593034459899, accuracy=0.9844833333333334\n",
      "\ttest  mean loss=0.05610159413306974, accuracy=0.9827\n",
      "epoch 32\n",
      "\ttrain  mean loss=0.09415200770211717, accuracy=0.9688166666666667\n",
      "\ttest  mean loss=0.09743695991579443, accuracy=0.9669\n",
      "epoch 33\n",
      "\ttrain  mean loss=0.052344121453740323, accuracy=0.9861166666666666\n",
      "\ttest  mean loss=0.05318385752150789, accuracy=0.9845\n",
      "epoch 34\n",
      "\ttrain  mean loss=0.05788496124868592, accuracy=0.9834\n",
      "\ttest  mean loss=0.05998939322540536, accuracy=0.9822\n",
      "epoch 35\n",
      "\ttrain  mean loss=0.06287678024498745, accuracy=0.9817666666666667\n",
      "\ttest  mean loss=0.06346339925192296, accuracy=0.9804\n",
      "epoch 36\n",
      "\ttrain  mean loss=0.058455764343962074, accuracy=0.9834833333333334\n",
      "\ttest  mean loss=0.05661636411678046, accuracy=0.9837\n",
      "epoch 37\n",
      "\ttrain  mean loss=0.051362868012317146, accuracy=0.9865666666666667\n",
      "\ttest  mean loss=0.054762155805365184, accuracy=0.9831\n",
      "epoch 38\n",
      "\ttrain  mean loss=0.05646271156768004, accuracy=0.9840333333333333\n",
      "\ttest  mean loss=0.0571195945458021, accuracy=0.9813\n",
      "epoch 39\n",
      "\ttrain  mean loss=0.04885774973779917, accuracy=0.9869833333333333\n",
      "\ttest  mean loss=0.04956345090060495, accuracy=0.9854\n",
      "epoch 40\n",
      "\ttrain  mean loss=0.053389752741592626, accuracy=0.9854833333333334\n",
      "\ttest  mean loss=0.055322386430343616, accuracy=0.9833\n",
      "epoch 41\n",
      "\ttrain  mean loss=0.06041803038679063, accuracy=0.9831\n",
      "\ttest  mean loss=0.060128078018315136, accuracy=0.9813\n",
      "epoch 42\n",
      "\ttrain  mean loss=0.060222769083920866, accuracy=0.9830166666666666\n",
      "\ttest  mean loss=0.058506372891133654, accuracy=0.9844\n",
      "epoch 43\n",
      "\ttrain  mean loss=0.05226764760290583, accuracy=0.9856333333333334\n",
      "\ttest  mean loss=0.05305864958034363, accuracy=0.9849\n",
      "epoch 44\n",
      "\ttrain  mean loss=0.04602914614602924, accuracy=0.98815\n",
      "\ttest  mean loss=0.04521731446031481, accuracy=0.9881\n",
      "epoch 45\n",
      "\ttrain  mean loss=0.04758020331384614, accuracy=0.9871\n",
      "\ttest  mean loss=0.04605939897941425, accuracy=0.9865\n",
      "epoch 46\n",
      "\ttrain  mean loss=0.052384940893389284, accuracy=0.98575\n",
      "\ttest  mean loss=0.054098226251080635, accuracy=0.9839\n",
      "epoch 47\n",
      "\ttrain  mean loss=0.05088043382197308, accuracy=0.9855166666666667\n",
      "\ttest  mean loss=0.05314065023558214, accuracy=0.9838\n",
      "epoch 48\n",
      "\ttrain  mean loss=0.05255518052028492, accuracy=0.9859833333333333\n",
      "\ttest  mean loss=0.05669858197798021, accuracy=0.9831\n",
      "epoch 49\n",
      "\ttrain  mean loss=0.05061023846268654, accuracy=0.9863166666666666\n",
      "\ttest  mean loss=0.05116148049244657, accuracy=0.9854\n",
      "epoch 50\n",
      "\ttrain  mean loss=0.04974931672293072, accuracy=0.9862333333333333\n",
      "\ttest  mean loss=0.05111117920489051, accuracy=0.9848\n",
      "epoch 51\n",
      "\ttrain  mean loss=0.05371640309613819, accuracy=0.9849166666666667\n",
      "\ttest  mean loss=0.05606820469489321, accuracy=0.9838\n",
      "epoch 52\n",
      "\ttrain  mean loss=0.052842733614767594, accuracy=0.9861166666666666\n",
      "\ttest  mean loss=0.05455593207967468, accuracy=0.9839\n",
      "epoch 53\n",
      "\ttrain  mean loss=0.05436365926094974, accuracy=0.9849\n",
      "\ttest  mean loss=0.05705632837838493, accuracy=0.9825\n",
      "epoch 54\n",
      "\ttrain  mean loss=0.05130206028542792, accuracy=0.9869666666666667\n",
      "\ttest  mean loss=0.052934765961254016, accuracy=0.984\n",
      "epoch 55\n",
      "\ttrain  mean loss=0.04912395966433299, accuracy=0.9861833333333333\n",
      "\ttest  mean loss=0.052699858203995975, accuracy=0.9838\n",
      "epoch 56\n",
      "\ttrain  mean loss=0.05460953061042043, accuracy=0.9848333333333333\n",
      "\ttest  mean loss=0.05553741771320347, accuracy=0.9849\n",
      "epoch 57\n",
      "\ttrain  mean loss=0.06310523431748152, accuracy=0.9827\n",
      "\ttest  mean loss=0.062088821392972025, accuracy=0.982\n",
      "epoch 58\n",
      "\ttrain  mean loss=0.04981974031038893, accuracy=0.9867\n",
      "\ttest  mean loss=0.05271310967509635, accuracy=0.9846\n",
      "epoch 59\n",
      "\ttrain  mean loss=0.052230726553825664, accuracy=0.9858333333333333\n",
      "\ttest  mean loss=0.055727284499444064, accuracy=0.9832\n",
      "epoch 60\n",
      "\ttrain  mean loss=0.04932062997793158, accuracy=0.98635\n",
      "\ttest  mean loss=0.05063175918709021, accuracy=0.9854\n",
      "epoch 61\n",
      "\ttrain  mean loss=0.047958970423787835, accuracy=0.9875\n",
      "\ttest  mean loss=0.04886327480431646, accuracy=0.9867\n",
      "epoch 62\n",
      "\ttrain  mean loss=0.05359443025896326, accuracy=0.9840333333333333\n",
      "\ttest  mean loss=0.05206832284340635, accuracy=0.9844\n",
      "epoch 63\n",
      "\ttrain  mean loss=0.0484872248962832, accuracy=0.9872833333333333\n",
      "\ttest  mean loss=0.048729636076604944, accuracy=0.9863\n",
      "epoch 64\n",
      "\ttrain  mean loss=0.05117391399340704, accuracy=0.98585\n",
      "\ttest  mean loss=0.051976186620304364, accuracy=0.9845\n",
      "epoch 65\n",
      "\ttrain  mean loss=0.04935858570892985, accuracy=0.9874\n",
      "\ttest  mean loss=0.04964036542456597, accuracy=0.9858\n",
      "epoch 66\n",
      "\ttrain  mean loss=0.05278611747004713, accuracy=0.9851\n",
      "\ttest  mean loss=0.053319893649313596, accuracy=0.9843\n",
      "epoch 67\n",
      "\ttrain  mean loss=0.052490757886941235, accuracy=0.9857166666666667\n",
      "\ttest  mean loss=0.054017506178934124, accuracy=0.9838\n",
      "epoch 68\n",
      "\ttrain  mean loss=0.05496386644779704, accuracy=0.98495\n",
      "\ttest  mean loss=0.05716272995341569, accuracy=0.9832\n",
      "epoch 69\n",
      "\ttrain  mean loss=0.0577373859185415, accuracy=0.9842166666666666\n",
      "\ttest  mean loss=0.05718305504065938, accuracy=0.9824\n",
      "epoch 70\n",
      "\ttrain  mean loss=0.04818616761399123, accuracy=0.9866833333333334\n",
      "\ttest  mean loss=0.04877777027024422, accuracy=0.9857\n",
      "epoch 71\n",
      "\ttrain  mean loss=0.053851874145912006, accuracy=0.9853\n",
      "\ttest  mean loss=0.055735849442426114, accuracy=0.9819\n",
      "epoch 72\n",
      "\ttrain  mean loss=0.04852010145162543, accuracy=0.9866666666666667\n",
      "\ttest  mean loss=0.049351352449157275, accuracy=0.9851\n",
      "epoch 73\n",
      "\ttrain  mean loss=0.05613652748366197, accuracy=0.9843333333333333\n",
      "\ttest  mean loss=0.05699023356777616, accuracy=0.9836\n",
      "epoch 74\n",
      "\ttrain  mean loss=0.05027200028765946, accuracy=0.9860833333333333\n",
      "\ttest  mean loss=0.0510237380489707, accuracy=0.9853\n",
      "epoch 75\n",
      "\ttrain  mean loss=0.06213591372749458, accuracy=0.9813833333333334\n",
      "\ttest  mean loss=0.0653564357594587, accuracy=0.98\n",
      "epoch 76\n",
      "\ttrain  mean loss=0.06014954065748801, accuracy=0.9815833333333334\n",
      "\ttest  mean loss=0.06039493174292147, accuracy=0.9805\n",
      "epoch 77\n",
      "\ttrain  mean loss=0.05358845770902311, accuracy=0.9864\n",
      "\ttest  mean loss=0.057646088926121594, accuracy=0.9824\n",
      "epoch 78\n",
      "\ttrain  mean loss=0.05346107530873269, accuracy=0.9851333333333333\n",
      "\ttest  mean loss=0.05552381104789674, accuracy=0.9835\n",
      "epoch 79\n",
      "\ttrain  mean loss=0.055472418427622565, accuracy=0.9855166666666667\n",
      "\ttest  mean loss=0.05714306356618181, accuracy=0.9846\n",
      "epoch 80\n",
      "\ttrain  mean loss=0.05373811828515803, accuracy=0.9864333333333334\n",
      "\ttest  mean loss=0.057811439733486625, accuracy=0.9827\n",
      "epoch 81\n",
      "\ttrain  mean loss=0.050543934525921944, accuracy=0.9867\n",
      "\ttest  mean loss=0.05379136822884902, accuracy=0.9835\n",
      "epoch 82\n",
      "\ttrain  mean loss=0.06242554209583129, accuracy=0.9819\n",
      "\ttest  mean loss=0.061207401672145355, accuracy=0.9822\n",
      "epoch 83\n",
      "\ttrain  mean loss=0.05182895292527974, accuracy=0.9854333333333334\n",
      "\ttest  mean loss=0.050690616918727754, accuracy=0.9848\n",
      "epoch 84\n",
      "\ttrain  mean loss=0.04563251953630242, accuracy=0.9881833333333333\n",
      "\ttest  mean loss=0.04712005910056177, accuracy=0.9863\n",
      "epoch 85\n",
      "\ttrain  mean loss=0.05225847019503514, accuracy=0.9854833333333334\n",
      "\ttest  mean loss=0.05393144361325539, accuracy=0.9857\n",
      "epoch 86\n",
      "\ttrain  mean loss=0.049010594740587596, accuracy=0.98745\n",
      "\ttest  mean loss=0.05239742480393034, accuracy=0.9844\n",
      "epoch 87\n",
      "\ttrain  mean loss=0.06542327718964468, accuracy=0.98075\n",
      "\ttest  mean loss=0.06650054031051696, accuracy=0.9797\n",
      "epoch 88\n",
      "\ttrain  mean loss=0.0488462159743843, accuracy=0.98705\n",
      "\ttest  mean loss=0.05189520675805397, accuracy=0.9857\n",
      "epoch 89\n",
      "\ttrain  mean loss=0.05571466422523372, accuracy=0.9838666666666667\n",
      "\ttest  mean loss=0.05847623715759255, accuracy=0.982\n",
      "epoch 90\n",
      "\ttrain  mean loss=0.05469307640256981, accuracy=0.9851833333333333\n",
      "\ttest  mean loss=0.059326162412762645, accuracy=0.982\n",
      "epoch 91\n",
      "\ttrain  mean loss=0.04707517993131963, accuracy=0.9874333333333334\n",
      "\ttest  mean loss=0.04870277535985224, accuracy=0.9861\n",
      "epoch 92\n",
      "\ttrain  mean loss=0.05548767535714433, accuracy=0.9846666666666667\n",
      "\ttest  mean loss=0.05715462815016508, accuracy=0.9833\n",
      "epoch 93\n",
      "\ttrain  mean loss=0.04873506636979679, accuracy=0.9863333333333333\n",
      "\ttest  mean loss=0.04875036276760511, accuracy=0.9852\n",
      "epoch 94\n",
      "\ttrain  mean loss=0.062736702025868, accuracy=0.9809666666666667\n",
      "\ttest  mean loss=0.06239886656287126, accuracy=0.9794\n",
      "epoch 95\n",
      "\ttrain  mean loss=0.04621730214450508, accuracy=0.9877333333333334\n",
      "\ttest  mean loss=0.04917512919579167, accuracy=0.9855\n",
      "epoch 96\n",
      "\ttrain  mean loss=0.049152258274455865, accuracy=0.9874166666666667\n",
      "\ttest  mean loss=0.05093125916551799, accuracy=0.9861\n",
      "epoch 97\n",
      "\ttrain  mean loss=0.0527731365035288, accuracy=0.9846333333333334\n",
      "\ttest  mean loss=0.053011971327941866, accuracy=0.9842\n",
      "epoch 98\n",
      "\ttrain  mean loss=0.0571120923710987, accuracy=0.9836333333333334\n",
      "\ttest  mean loss=0.056787297462578865, accuracy=0.9833\n",
      "epoch 99\n",
      "\ttrain  mean loss=0.05318222661580269, accuracy=0.9852666666666666\n",
      "\ttest  mean loss=0.05543797791469842, accuracy=0.9838\n",
      "epoch 100\n",
      "\ttrain  mean loss=0.054066404935438184, accuracy=0.98615\n",
      "\ttest  mean loss=0.05601708874688484, accuracy=0.9841\n"
     ]
    }
   ],
   "source": [
    "train_loss=[]\n",
    "train_acc=[]\n",
    "test_loss=[]\n",
    "test_acc=[]\n",
    "\n",
    "#define batch-size and epoch.\n",
    "epoch=100\n",
    "batchsize=100\n",
    "\n",
    "\n",
    "for epoch in range(1, epoch+1):\n",
    "\tprint('epoch', epoch)\n",
    "\tperm = np.random.permutation(datasize)\n",
    "\tfor i in range(0, datasize, batchsize):\n",
    "\t\t#Create mini-batch.\n",
    "\t\tx_batch = x_train[perm[i:i+batchsize]]\n",
    "\t\ty_batch = y_train[perm[i:i+batchsize]]\n",
    "    \n",
    "\t\t#Convert a numpy array to a tensor to do gradient calculations.\n",
    "\t\tif torch.cuda.is_available():\n",
    "\t\t\tx_batch = torch.from_numpy(x_batch).float().cuda()\n",
    "\t\t\ty_batch = torch.from_numpy(y_batch).long().cuda()\n",
    "\t\telse:\n",
    "\t\t\tx_batch = torch.from_numpy(x_batch).float()\n",
    "\t\t\ty_batch = torch.from_numpy(y_batch).long()\n",
    "\n",
    "\t\t#Initialize the stored gradient.\n",
    "\t\toptimizer.zero_grad()\n",
    "\n",
    "\t\t#Get the model output for the input mini-batch.\n",
    "\t\ty = net(x_batch)\n",
    "    \n",
    "\t\t#Calculate loss from the output of the model. At this time, the activation function of the output layer is also reflected in the calculation.\n",
    "\t\tloss = softmax_cross_entropy(y, y_batch)  \n",
    "    \n",
    "\t\t#From loss, calculate the gradient of each parameter.\n",
    "\t\tloss.backward()\n",
    "\n",
    "\t\t#Each parameter is updated from the calculated gradient.\n",
    "\t\toptimizer.step()\n",
    "\n",
    "\n",
    "\n",
    "\tsum_score = 0\n",
    "\tsum_loss = 0\n",
    "  \n",
    "\t#Evaluate the model with train data.\n",
    "\tfor i in range(0, datasize, batchsize):\n",
    "\t\tx_batch = x_train[i:i+batchsize]\n",
    "\t\ty_batch = y_train[i:i+batchsize]\n",
    "\t\tif torch.cuda.is_available():\n",
    "\t\t\tx_batch = torch.from_numpy(x_batch).float().cuda()\n",
    "\t\t\ty_batch = torch.from_numpy(y_batch).long().cuda()\n",
    "\t\telse:\n",
    "\t\t\tx_batch = torch.from_numpy(x_batch).float()\n",
    "\t\t\ty_batch = torch.from_numpy(y_batch).long()\n",
    "\t\ty = net(x_batch)\n",
    "\t\tloss = softmax_cross_entropy(y, y_batch)\n",
    "\t\tsum_loss += float(loss.cpu().data.item()) * batchsize\n",
    "\t\t_, predict = y.max(1)\n",
    "\t\tsum_score += predict.eq(y_batch).sum().item()\n",
    "\tprint(\"\\ttrain  mean loss={}, accuracy={}\".format(sum_loss / datasize, sum_score / datasize))\n",
    "\ttrain_loss.append(sum_loss / datasize)\n",
    "\ttrain_acc.append(sum_score / datasize)\n",
    "\n",
    "\n",
    "\tsum_score = 0\n",
    "\tsum_loss = 0\n",
    "\n",
    "  \n",
    "\t#Evaluate the model with test data.\n",
    "\tfor i in range(0, datasize_test, batchsize):\n",
    "\t\tx_batch = x_test[i:i+batchsize]\n",
    "\t\ty_batch = y_test[i:i+batchsize]\n",
    "\t\tif torch.cuda.is_available():\n",
    "\t\t\tx_batch = torch.from_numpy(x_batch).float().cuda()\n",
    "\t\t\ty_batch = torch.from_numpy(y_batch).long().cuda()\n",
    "\t\telse:\n",
    "\t\t\tx_batch = torch.from_numpy(x_batch).float()\n",
    "\t\t\ty_batch = torch.from_numpy(y_batch).long()\n",
    "\t\ty = net(x_batch)\n",
    "\t\tloss = softmax_cross_entropy(y, y_batch)\n",
    "\t\tsum_loss += float(loss.cpu().data.item()) * batchsize\n",
    "\t\t_, predict = y.max(1)\n",
    "\t\tsum_score += predict.eq(y_batch).sum().item()\n",
    "\tprint(\"\\ttest  mean loss={}, accuracy={}\".format(sum_loss / datasize_test, sum_score / datasize_test))\n",
    "\ttest_loss.append(sum_loss / datasize_test)\n",
    "\ttest_acc.append(sum_score / datasize_test)\n",
    "\n"
   ]
  },
  {
   "cell_type": "markdown",
   "metadata": {
    "colab_type": "text",
    "id": "RQ7ExXwkgaeR"
   },
   "source": [
    "Draw a graph of training curve (loss)."
   ]
  },
  {
   "cell_type": "code",
   "execution_count": 17,
   "metadata": {
    "colab": {
     "base_uri": "https://localhost:8080/",
     "height": 390
    },
    "colab_type": "code",
    "id": "AwkiA2h_gaod",
    "outputId": "d4e3937d-49b4-4c65-aefa-ee8ebbe974b4"
   },
   "outputs": [
    {
     "data": {
      "image/png": "[encoded data removed]",
      "text/plain": [
       "<Figure size 432x432 with 1 Axes>"
      ]
     },
     "metadata": {
      "needs_background": "light"
     },
     "output_type": "display_data"
    }
   ],
   "source": [
    "plt.figure(figsize=(6,6))\n",
    "\n",
    "plt.ylim(0,1.0)\n",
    "plt.plot(range(epoch), train_loss)\n",
    "plt.plot(range(epoch), test_loss, c='#00ff00')\n",
    "plt.legend(['train loss', 'test loss'])\n",
    "plt.title('loss')\n",
    "plt.show()"
   ]
  },
  {
   "cell_type": "markdown",
   "metadata": {
    "colab_type": "text",
    "id": "Gopav6c2htLt"
   },
   "source": [
    "Draw the graph of training curve (accuracy)."
   ]
  },
  {
   "cell_type": "code",
   "execution_count": 18,
   "metadata": {
    "colab": {
     "base_uri": "https://localhost:8080/",
     "height": 281
    },
    "colab_type": "code",
    "id": "KGmlusz6htZN",
    "outputId": "1f4d326a-4d06-47ed-f79e-a6c50e3b2232"
   },
   "outputs": [
    {
     "data": {
      "image/png": "[encoded data removed]",
      "text/plain": [
       "<Figure size 432x288 with 1 Axes>"
      ]
     },
     "metadata": {
      "needs_background": "light"
     },
     "output_type": "display_data"
    }
   ],
   "source": [
    "plt.plot(range(epoch), train_acc)\n",
    "plt.plot(range(epoch), test_acc, c='#00ff00')\n",
    "plt.ylim(0,1.0)\n",
    "plt.legend(['train acc', 'test acc'])\n",
    "plt.title('accuracy')\n",
    "plt.show()"
   ]
  },
  {
   "cell_type": "markdown",
   "metadata": {
    "colab_type": "text",
    "id": "t0Q1aiv18bLJ"
   },
   "source": [
    "Next, look at the change in the weight of the middle layer during learning.\n",
    "\n",
    "First, visualize the connection weights from the input of fully connected layers to the middle layer.\n",
    "\n",
    "Let's take a look at the unit connection weight, which uses the upper left value of the feature map as input.\n",
    "\n"
   ]
  },
  {
   "cell_type": "code",
   "execution_count": 19,
   "metadata": {
    "colab": {},
    "colab_type": "code",
    "id": "UlRNBOxgE4ZF"
   },
   "outputs": [],
   "source": [
    "net = Network()\n",
    "if torch.cuda.is_available():\n",
    "  net.cuda()\n",
    "\n",
    "\n",
    "optimizer = torch.optim.SGD(net.parameters(), lr=0.001, momentum=0.9, weight_decay=0.005)"
   ]
  },
  {
   "cell_type": "code",
   "execution_count": 20,
   "metadata": {
    "colab": {
     "base_uri": "https://localhost:8080/",
     "height": 1000
    },
    "colab_type": "code",
    "id": "NUVgSxVKIPj4",
    "outputId": "a6808a42-72a9-491d-8dea-4c7e04c187e2"
   },
   "outputs": [
    {
     "name": "stdout",
     "output_type": "stream",
     "text": [
      "epoch 1\n",
      "\ttrain  mean loss=0.49323065536717575, accuracy=0.8589\n",
      "\ttest  mean loss=0.477346570789814, accuracy=0.8663\n",
      "epoch 2\n",
      "\ttrain  mean loss=0.3050831359749039, accuracy=0.9093666666666667\n",
      "\ttest  mean loss=0.2942267022654414, accuracy=0.915\n",
      "epoch 3\n",
      "\ttrain  mean loss=0.25266684645166, accuracy=0.9253\n",
      "\ttest  mean loss=0.24439607804641128, accuracy=0.9296\n",
      "epoch 4\n",
      "\ttrain  mean loss=0.20446521325968206, accuracy=0.9385666666666667\n",
      "\ttest  mean loss=0.19051214950159193, accuracy=0.9421\n",
      "epoch 5\n",
      "\ttrain  mean loss=0.170195535623158, accuracy=0.9501833333333334\n",
      "\ttest  mean loss=0.16488322323188187, accuracy=0.9509\n",
      "epoch 6\n",
      "\ttrain  mean loss=0.14814595178390544, accuracy=0.95605\n",
      "\ttest  mean loss=0.13912888512015342, accuracy=0.9582\n",
      "epoch 7\n",
      "\ttrain  mean loss=0.12957214588765054, accuracy=0.9616333333333333\n",
      "\ttest  mean loss=0.12194383916445077, accuracy=0.9631\n",
      "epoch 8\n",
      "\ttrain  mean loss=0.12325885242161651, accuracy=0.9630333333333333\n",
      "\ttest  mean loss=0.1142302075959742, accuracy=0.9653\n",
      "epoch 9\n",
      "\ttrain  mean loss=0.11186888094060123, accuracy=0.9671833333333333\n",
      "\ttest  mean loss=0.10509615199407563, accuracy=0.9683\n",
      "epoch 10\n",
      "\ttrain  mean loss=0.1024748048465699, accuracy=0.9703666666666667\n",
      "\ttest  mean loss=0.09649845957290382, accuracy=0.9699\n",
      "epoch 11\n",
      "\ttrain  mean loss=0.0926419197069481, accuracy=0.97355\n",
      "\ttest  mean loss=0.0872660152730532, accuracy=0.9742\n",
      "epoch 12\n",
      "\ttrain  mean loss=0.1028679863239328, accuracy=0.96965\n",
      "\ttest  mean loss=0.09637516439892352, accuracy=0.9717\n",
      "epoch 13\n",
      "\ttrain  mean loss=0.08847432217405488, accuracy=0.9745333333333334\n",
      "\ttest  mean loss=0.08295502055902033, accuracy=0.9746\n",
      "epoch 14\n",
      "\ttrain  mean loss=0.09028352234512567, accuracy=0.9729666666666666\n",
      "\ttest  mean loss=0.08529894055332989, accuracy=0.9727\n",
      "epoch 15\n",
      "\ttrain  mean loss=0.07924697300652042, accuracy=0.9774666666666667\n",
      "\ttest  mean loss=0.07604285296052694, accuracy=0.9768\n",
      "epoch 16\n",
      "\ttrain  mean loss=0.077834498413528, accuracy=0.9783833333333334\n",
      "\ttest  mean loss=0.07494214173406362, accuracy=0.9784\n",
      "epoch 17\n",
      "\ttrain  mean loss=0.072611916406701, accuracy=0.97985\n",
      "\ttest  mean loss=0.06943917206837796, accuracy=0.9798\n",
      "epoch 18\n",
      "\ttrain  mean loss=0.07494665540444355, accuracy=0.9787833333333333\n",
      "\ttest  mean loss=0.0714619034458883, accuracy=0.9786\n",
      "epoch 19\n",
      "\ttrain  mean loss=0.07053111621566738, accuracy=0.98045\n",
      "\ttest  mean loss=0.06698605351848527, accuracy=0.9814\n",
      "epoch 20\n",
      "\ttrain  mean loss=0.06957201376169299, accuracy=0.9802166666666666\n",
      "\ttest  mean loss=0.06679128089454026, accuracy=0.9799\n",
      "epoch 21\n",
      "\ttrain  mean loss=0.07426529393143332, accuracy=0.9783833333333334\n",
      "\ttest  mean loss=0.07273385518230498, accuracy=0.977\n",
      "epoch 22\n",
      "\ttrain  mean loss=0.06783713441807776, accuracy=0.98185\n",
      "\ttest  mean loss=0.06630502132698894, accuracy=0.9794\n",
      "epoch 23\n",
      "\ttrain  mean loss=0.06579413584976768, accuracy=0.9819666666666667\n",
      "\ttest  mean loss=0.06685750062693842, accuracy=0.9791\n",
      "epoch 24\n",
      "\ttrain  mean loss=0.06490524939804648, accuracy=0.98265\n",
      "\ttest  mean loss=0.06324451542459428, accuracy=0.9805\n",
      "epoch 25\n",
      "\ttrain  mean loss=0.0669847597150753, accuracy=0.9813166666666666\n",
      "\ttest  mean loss=0.0632697676680982, accuracy=0.9811\n",
      "epoch 26\n",
      "\ttrain  mean loss=0.0638923861606357, accuracy=0.9815166666666667\n",
      "\ttest  mean loss=0.062349010119214655, accuracy=0.9817\n",
      "epoch 27\n",
      "\ttrain  mean loss=0.0586998202612934, accuracy=0.9841833333333333\n",
      "\ttest  mean loss=0.05815870401915163, accuracy=0.9827\n",
      "epoch 28\n",
      "\ttrain  mean loss=0.057969860224984585, accuracy=0.9841666666666666\n",
      "\ttest  mean loss=0.057118312660604714, accuracy=0.9838\n",
      "epoch 29\n",
      "\ttrain  mean loss=0.06303928495928024, accuracy=0.9820666666666666\n",
      "\ttest  mean loss=0.061625218570698054, accuracy=0.9808\n",
      "epoch 30\n",
      "\ttrain  mean loss=0.06027180530208474, accuracy=0.98355\n",
      "\ttest  mean loss=0.06158811582019553, accuracy=0.9822\n",
      "epoch 31\n",
      "\ttrain  mean loss=0.0618084072531201, accuracy=0.9827166666666667\n",
      "\ttest  mean loss=0.06171718775993213, accuracy=0.9815\n",
      "epoch 32\n",
      "\ttrain  mean loss=0.0575651804311201, accuracy=0.9844666666666667\n",
      "\ttest  mean loss=0.05643200961174443, accuracy=0.9838\n",
      "epoch 33\n",
      "\ttrain  mean loss=0.0571214253269136, accuracy=0.98425\n",
      "\ttest  mean loss=0.05553133794339374, accuracy=0.9846\n",
      "epoch 34\n",
      "\ttrain  mean loss=0.05518491610729446, accuracy=0.98485\n",
      "\ttest  mean loss=0.054439267255365846, accuracy=0.9848\n",
      "epoch 35\n",
      "\ttrain  mean loss=0.057470925104959554, accuracy=0.9851333333333333\n",
      "\ttest  mean loss=0.057894126317696644, accuracy=0.9829\n",
      "epoch 36\n",
      "\ttrain  mean loss=0.05754405753609414, accuracy=0.9840833333333333\n",
      "\ttest  mean loss=0.05855172748211771, accuracy=0.9828\n",
      "epoch 37\n",
      "\ttrain  mean loss=0.05467090119607747, accuracy=0.9853833333333334\n",
      "\ttest  mean loss=0.054610902646090836, accuracy=0.9839\n",
      "epoch 38\n",
      "\ttrain  mean loss=0.0556768476155897, accuracy=0.9846333333333334\n",
      "\ttest  mean loss=0.055864608478732404, accuracy=0.9831\n",
      "epoch 39\n",
      "\ttrain  mean loss=0.057229503622123354, accuracy=0.9845833333333334\n",
      "\ttest  mean loss=0.05902455972391181, accuracy=0.9811\n",
      "epoch 40\n",
      "\ttrain  mean loss=0.057068463227478786, accuracy=0.9848666666666667\n",
      "\ttest  mean loss=0.05828475545742549, accuracy=0.9829\n",
      "epoch 41\n",
      "\ttrain  mean loss=0.05197589001695936, accuracy=0.9864\n",
      "\ttest  mean loss=0.05357229522545822, accuracy=0.9845\n",
      "epoch 42\n",
      "\ttrain  mean loss=0.055564928400951126, accuracy=0.9850333333333333\n",
      "\ttest  mean loss=0.057589495988795536, accuracy=0.9822\n",
      "epoch 43\n",
      "\ttrain  mean loss=0.05770057306004067, accuracy=0.9844166666666667\n",
      "\ttest  mean loss=0.058512347060022875, accuracy=0.9842\n",
      "epoch 44\n",
      "\ttrain  mean loss=0.054453665161660565, accuracy=0.9853\n",
      "\ttest  mean loss=0.05574214013759047, accuracy=0.9845\n",
      "epoch 45\n",
      "\ttrain  mean loss=0.05417100881226361, accuracy=0.9855833333333334\n",
      "\ttest  mean loss=0.054456882515223695, accuracy=0.9848\n",
      "epoch 46\n",
      "\ttrain  mean loss=0.052809158786743256, accuracy=0.9860666666666666\n",
      "\ttest  mean loss=0.05419958893791772, accuracy=0.9847\n",
      "epoch 47\n",
      "\ttrain  mean loss=0.05254155033500865, accuracy=0.9859833333333333\n",
      "\ttest  mean loss=0.0533403339528013, accuracy=0.9831\n",
      "epoch 48\n",
      "\ttrain  mean loss=0.05249913746646295, accuracy=0.9863\n",
      "\ttest  mean loss=0.05467319101211615, accuracy=0.9829\n",
      "epoch 49\n",
      "\ttrain  mean loss=0.05202891520457342, accuracy=0.9863333333333333\n",
      "\ttest  mean loss=0.05265593528863974, accuracy=0.9846\n",
      "epoch 50\n",
      "\ttrain  mean loss=0.052041762894950806, accuracy=0.9867833333333333\n",
      "\ttest  mean loss=0.05415224148891866, accuracy=0.984\n",
      "epoch 51\n",
      "\ttrain  mean loss=0.05148045404658963, accuracy=0.9861666666666666\n",
      "\ttest  mean loss=0.05285281151300296, accuracy=0.984\n",
      "epoch 52\n",
      "\ttrain  mean loss=0.05184943388293808, accuracy=0.9855333333333334\n",
      "\ttest  mean loss=0.05257239056401886, accuracy=0.9842\n",
      "epoch 53\n",
      "\ttrain  mean loss=0.05428210137567172, accuracy=0.9853666666666666\n",
      "\ttest  mean loss=0.05564033780014142, accuracy=0.9835\n",
      "epoch 54\n",
      "\ttrain  mean loss=0.052212964087569466, accuracy=0.9861166666666666\n",
      "\ttest  mean loss=0.053635033018654216, accuracy=0.9848\n",
      "epoch 55\n",
      "\ttrain  mean loss=0.05137334216153249, accuracy=0.98615\n",
      "\ttest  mean loss=0.05262622675858438, accuracy=0.9844\n",
      "epoch 56\n",
      "\ttrain  mean loss=0.05183571900900764, accuracy=0.9863666666666666\n",
      "\ttest  mean loss=0.0535679190850351, accuracy=0.9838\n",
      "epoch 57\n",
      "\ttrain  mean loss=0.048371991291254135, accuracy=0.9874833333333334\n",
      "\ttest  mean loss=0.0513538248790428, accuracy=0.9849\n",
      "epoch 58\n",
      "\ttrain  mean loss=0.0508336124344108, accuracy=0.9868333333333333\n",
      "\ttest  mean loss=0.05240130366990343, accuracy=0.9844\n",
      "epoch 59\n",
      "\ttrain  mean loss=0.04835586877306923, accuracy=0.9876333333333334\n",
      "\ttest  mean loss=0.05044842582428828, accuracy=0.9846\n",
      "epoch 60\n",
      "\ttrain  mean loss=0.05287671983242035, accuracy=0.9859166666666667\n",
      "\ttest  mean loss=0.053374550179578366, accuracy=0.9841\n",
      "epoch 61\n",
      "\ttrain  mean loss=0.04884876041673124, accuracy=0.98745\n",
      "\ttest  mean loss=0.05155304113519378, accuracy=0.9852\n",
      "epoch 62\n",
      "\ttrain  mean loss=0.04803385279956274, accuracy=0.98765\n",
      "\ttest  mean loss=0.05020393053186126, accuracy=0.9861\n",
      "epoch 63\n",
      "\ttrain  mean loss=0.049230943330330776, accuracy=0.9874\n",
      "\ttest  mean loss=0.05268115982995369, accuracy=0.9848\n",
      "epoch 64\n",
      "\ttrain  mean loss=0.049422107763433205, accuracy=0.9873166666666666\n",
      "\ttest  mean loss=0.051308947034412994, accuracy=0.9848\n",
      "epoch 65\n",
      "\ttrain  mean loss=0.0491304065931278, accuracy=0.9871666666666666\n",
      "\ttest  mean loss=0.051291563746053724, accuracy=0.9857\n",
      "epoch 66\n",
      "\ttrain  mean loss=0.04874954764265567, accuracy=0.9873666666666666\n",
      "\ttest  mean loss=0.05394349068636075, accuracy=0.9828\n",
      "epoch 67\n",
      "\ttrain  mean loss=0.05810092722220967, accuracy=0.9839333333333333\n",
      "\ttest  mean loss=0.063979879245162, accuracy=0.9787\n",
      "epoch 68\n",
      "\ttrain  mean loss=0.04897269079112448, accuracy=0.9874\n",
      "\ttest  mean loss=0.051718664388172325, accuracy=0.9847\n",
      "epoch 69\n",
      "\ttrain  mean loss=0.04880203757512694, accuracy=0.9872\n",
      "\ttest  mean loss=0.0517202630918473, accuracy=0.9838\n",
      "epoch 70\n",
      "\ttrain  mean loss=0.04688975435099565, accuracy=0.9882833333333333\n",
      "\ttest  mean loss=0.04956253150012344, accuracy=0.9849\n",
      "epoch 71\n",
      "\ttrain  mean loss=0.046860299489926545, accuracy=0.9883\n",
      "\ttest  mean loss=0.05040452123619616, accuracy=0.9856\n",
      "epoch 72\n",
      "\ttrain  mean loss=0.046381926350295546, accuracy=0.9885666666666667\n",
      "\ttest  mean loss=0.048941917852498594, accuracy=0.9854\n",
      "epoch 73\n",
      "\ttrain  mean loss=0.052885507736355065, accuracy=0.9863333333333333\n",
      "\ttest  mean loss=0.05611363292089663, accuracy=0.9842\n",
      "epoch 74\n",
      "\ttrain  mean loss=0.04723068306067338, accuracy=0.9877333333333334\n",
      "\ttest  mean loss=0.04959065310133155, accuracy=0.9853\n",
      "epoch 75\n",
      "\ttrain  mean loss=0.04921841154495875, accuracy=0.9866666666666667\n",
      "\ttest  mean loss=0.05257626876351423, accuracy=0.9852\n",
      "epoch 76\n",
      "\ttrain  mean loss=0.04617962185177021, accuracy=0.98835\n",
      "\ttest  mean loss=0.049125191621715206, accuracy=0.9851\n",
      "epoch 77\n",
      "\ttrain  mean loss=0.0461435872145618, accuracy=0.9883\n",
      "\ttest  mean loss=0.04877854913123883, accuracy=0.9864\n",
      "epoch 78\n",
      "\ttrain  mean loss=0.05044235120061785, accuracy=0.9862\n",
      "\ttest  mean loss=0.054044141320046035, accuracy=0.983\n",
      "epoch 79\n",
      "\ttrain  mean loss=0.046600600002954407, accuracy=0.9883666666666666\n",
      "\ttest  mean loss=0.049853391229407865, accuracy=0.9848\n",
      "epoch 80\n",
      "\ttrain  mean loss=0.046242486072005706, accuracy=0.9882166666666666\n",
      "\ttest  mean loss=0.049340609575156125, accuracy=0.9863\n",
      "epoch 81\n",
      "\ttrain  mean loss=0.04627666237220789, accuracy=0.9884333333333334\n",
      "\ttest  mean loss=0.049977644468890504, accuracy=0.9858\n",
      "epoch 82\n",
      "\ttrain  mean loss=0.04716916253790259, accuracy=0.9882166666666666\n",
      "\ttest  mean loss=0.05082456280128099, accuracy=0.9846\n",
      "epoch 83\n",
      "\ttrain  mean loss=0.04676319429301657, accuracy=0.9884\n",
      "\ttest  mean loss=0.05076047741691582, accuracy=0.9847\n",
      "epoch 84\n",
      "\ttrain  mean loss=0.04968081389165794, accuracy=0.9864666666666667\n",
      "\ttest  mean loss=0.05117408722755499, accuracy=0.9855\n",
      "epoch 85\n",
      "\ttrain  mean loss=0.04808931448264048, accuracy=0.9877666666666667\n",
      "\ttest  mean loss=0.051991679185302925, accuracy=0.984\n",
      "epoch 86\n",
      "\ttrain  mean loss=0.04848461657607307, accuracy=0.9872666666666666\n",
      "\ttest  mean loss=0.05168136187363416, accuracy=0.9849\n",
      "epoch 87\n",
      "\ttrain  mean loss=0.04936791156573842, accuracy=0.9868666666666667\n",
      "\ttest  mean loss=0.05289867189014331, accuracy=0.9848\n",
      "epoch 88\n",
      "\ttrain  mean loss=0.04692546473350376, accuracy=0.98815\n",
      "\ttest  mean loss=0.050386921488679945, accuracy=0.9856\n",
      "epoch 89\n",
      "\ttrain  mean loss=0.046530669503845275, accuracy=0.9881333333333333\n",
      "\ttest  mean loss=0.05027567740064114, accuracy=0.9856\n",
      "epoch 90\n",
      "\ttrain  mean loss=0.04654354529028448, accuracy=0.9882833333333333\n",
      "\ttest  mean loss=0.04938047091010958, accuracy=0.9856\n",
      "epoch 91\n",
      "\ttrain  mean loss=0.04557279918265218, accuracy=0.9886166666666667\n",
      "\ttest  mean loss=0.048859720188193026, accuracy=0.9862\n",
      "epoch 92\n",
      "\ttrain  mean loss=0.048685877410850176, accuracy=0.9872333333333333\n",
      "\ttest  mean loss=0.0524415030668024, accuracy=0.9837\n",
      "epoch 93\n",
      "\ttrain  mean loss=0.055536799220523486, accuracy=0.9845333333333334\n",
      "\ttest  mean loss=0.05766297566704452, accuracy=0.9832\n",
      "epoch 94\n",
      "\ttrain  mean loss=0.04568033046865215, accuracy=0.9888\n",
      "\ttest  mean loss=0.04951859756140038, accuracy=0.9849\n",
      "epoch 95\n",
      "\ttrain  mean loss=0.04558331762285282, accuracy=0.9884666666666667\n",
      "\ttest  mean loss=0.04861816578777507, accuracy=0.9853\n",
      "epoch 96\n",
      "\ttrain  mean loss=0.044494427245808765, accuracy=0.9889333333333333\n",
      "\ttest  mean loss=0.04908861076575704, accuracy=0.9852\n",
      "epoch 97\n",
      "\ttrain  mean loss=0.048170787405688316, accuracy=0.9874166666666667\n",
      "\ttest  mean loss=0.05183318682247773, accuracy=0.9847\n",
      "epoch 98\n",
      "\ttrain  mean loss=0.047649683513057726, accuracy=0.9871\n",
      "\ttest  mean loss=0.051141317586880175, accuracy=0.9858\n",
      "epoch 99\n",
      "\ttrain  mean loss=0.05033892529938991, accuracy=0.9860166666666667\n",
      "\ttest  mean loss=0.054483355233678595, accuracy=0.9834\n",
      "epoch 100\n",
      "\ttrain  mean loss=0.04500390912988223, accuracy=0.9887833333333333\n",
      "\ttest  mean loss=0.049517750981030985, accuracy=0.9858\n"
     ]
    }
   ],
   "source": [
    "train_loss=[]\n",
    "train_acc=[]\n",
    "test_loss=[]\n",
    "test_acc=[]\n",
    "weight_num = 10\n",
    "\n",
    "\n",
    "#define batch-size and epoch.\n",
    "epoch=100\n",
    "batchsize=100\n",
    "\n",
    "#Defines an array that holds the weight for each epoch.\n",
    "train_weight = np.zeros((epoch, weight_num))\n",
    "\n",
    "#Specify the weight to be visualized.\n",
    "#Specify hidden layer unit j.\n",
    "rum_num = np.array([0,15,30,45,60,75,90,105,120,127])\n",
    "\n",
    "#Specify input layer unit i.\n",
    "perm_num = np.array([0, 0, 0, 0, 0, 0, 0, 0, 0, 0])\n",
    "\n",
    "#The weight w_ij connecting the input layer unit i and the hidden layer unit j is acquired.\n",
    "\n",
    "\n",
    "for epoch in range(1, epoch+1):\n",
    "  print('epoch', epoch)\n",
    "  perm = np.random.permutation(datasize)\n",
    "  for i in range(0, datasize, batchsize):\n",
    "    #Create mini-batch.\n",
    "    x_batch = x_train[perm[i:i+batchsize]]\n",
    "    y_batch = y_train[perm[i:i+batchsize]]\n",
    "    \n",
    "    #Convert a numpy array to a tensor to do gradient calculations.\n",
    "    if torch.cuda.is_available():\n",
    "      x_batch = torch.from_numpy(x_batch).float().cuda()\n",
    "      y_batch = torch.from_numpy(y_batch).long().cuda()\n",
    "    else:\n",
    "      x_batch = torch.from_numpy(x_batch).float()\n",
    "      y_batch = torch.from_numpy(y_batch).long()\n",
    "    \n",
    "    #Initialize the stored gradient.\n",
    "    optimizer.zero_grad()\n",
    "    \n",
    "    #Get the model output for the input mini-batch.\n",
    "    y = net(x_batch)\n",
    "    \n",
    "    #Calculate loss from the output of the model. At this time, the activation function of the output layer is also reflected in the calculation.\n",
    "    loss = softmax_cross_entropy(y, y_batch)  \n",
    "    \n",
    "    #From loss, calculate the gradient of each parameter.\n",
    "    loss.backward()               \n",
    "    \n",
    "    #Each parameter is updated from the calculated gradient.\n",
    "    optimizer.step()\n",
    "    \n",
    "  #Extract weight values from the model.\n",
    "  weight = net.fc1.weight.cpu().detach().numpy()\n",
    "  \n",
    "  for i in range(weight_num):\n",
    "    weight0 = weight[rum_num[i]][perm_num[i]]\n",
    "    train_weight[epoch-1][i] = weight0\n",
    "\n",
    "\n",
    "  sum_score = 0\n",
    "  sum_loss = 0\n",
    "  \n",
    "  #Evaluate the model with train data.\n",
    "  for i in range(0, datasize, batchsize):\n",
    "    x_batch = x_train[i:i+batchsize]\n",
    "    y_batch = y_train[i:i+batchsize]\n",
    "    if torch.cuda.is_available():\n",
    "      x_batch = torch.from_numpy(x_batch).float().cuda()\n",
    "      y_batch = torch.from_numpy(y_batch).long().cuda()\n",
    "    else:\n",
    "      x_batch = torch.from_numpy(x_batch).float()\n",
    "      y_batch = torch.from_numpy(y_batch).long()\n",
    "    y = net(x_batch)\n",
    "    loss = softmax_cross_entropy(y, y_batch)\n",
    "    sum_loss += float(loss.cpu().data.item()) * batchsize\n",
    "    _, predict = y.max(1)\n",
    "    sum_score += predict.eq(y_batch).sum().item()\n",
    "  print(\"\\ttrain  mean loss={}, accuracy={}\".format(sum_loss / datasize, sum_score / datasize))\n",
    "  train_loss.append(sum_loss / datasize)\n",
    "  train_acc.append(sum_score / datasize)\n",
    "\n",
    "\n",
    "  sum_score = 0\n",
    "  sum_loss = 0\n",
    "\n",
    "  \n",
    "  #Evaluate the model with test data.\n",
    "  for i in range(0, datasize_test, batchsize):\n",
    "    x_batch = x_test[i:i+batchsize]\n",
    "    y_batch = y_test[i:i+batchsize]\n",
    "    if torch.cuda.is_available():\n",
    "      x_batch = torch.from_numpy(x_batch).float().cuda()\n",
    "      y_batch = torch.from_numpy(y_batch).long().cuda()\n",
    "    else:\n",
    "      x_batch = torch.from_numpy(x_batch).float()\n",
    "      y_batch = torch.from_numpy(y_batch).long()\n",
    "    y = net(x_batch)\n",
    "    loss = softmax_cross_entropy(y, y_batch)\n",
    "    sum_loss += float(loss.cpu().data.item()) * batchsize\n",
    "    _, predict = y.max(1)\n",
    "    sum_score += predict.eq(y_batch).sum().item()\n",
    "  print(\"\\ttest  mean loss={}, accuracy={}\".format(sum_loss / datasize_test, sum_score / datasize_test))\n",
    "  test_loss.append(sum_loss / datasize_test)\n",
    "  test_acc.append(sum_score / datasize_test)\n"
   ]
  },
  {
   "cell_type": "code",
   "execution_count": 21,
   "metadata": {
    "colab": {
     "base_uri": "https://localhost:8080/",
     "height": 390
    },
    "colab_type": "code",
    "id": "kEpCXDI2NshD",
    "outputId": "5348eb69-e18c-4169-f5e7-47039e69ab78"
   },
   "outputs": [
    {
     "data": {
      "image/png": "[encoded data removed]",
      "text/plain": [
       "<Figure size 432x432 with 1 Axes>"
      ]
     },
     "metadata": {
      "needs_background": "light"
     },
     "output_type": "display_data"
    }
   ],
   "source": [
    "plt.figure(figsize=(6,6))\n",
    "#A list for specifying the color of the graph. Changes are required according to the number of weights to be displayed.\n",
    "c = ['#ff0000', '#ffff00', '#00ff00', '#00ffff', '#0000ff','#ff00ff', '#990000', '#999900', '#009900', '#009999']\n",
    "\n",
    "#Plot the obtained weights on a graph.\n",
    "train_weight = train_weight.transpose(1,0)\n",
    "for i in range(weight_num):\n",
    "  plt.plot(range(epoch), train_weight[i], c=c[i])\n",
    "plt.legend(['w0,0', 'w15,0', 'w30,0', 'w45,0', 'w60,0', 'w75,0', 'w90,0', 'w105,0', 'w120,0', 'w127,0'])\n",
    "plt.title('weight')\n",
    "plt.show()"
   ]
  },
  {
   "cell_type": "markdown",
   "metadata": {
    "colab_type": "text",
    "id": "vQoK5fVM32KW"
   },
   "source": [
    "The unit connection weights are all close to 0.\n",
    "\n",
    "That is, the value of index 0 unit in the input layer is rarely used."
   ]
  },
  {
   "cell_type": "markdown",
   "metadata": {
    "colab_type": "text",
    "id": "518_6UkpKsWD"
   },
   "source": [
    "Next, visualize the filter weight of the first layer of convolution."
   ]
  },
  {
   "cell_type": "code",
   "execution_count": 22,
   "metadata": {
    "colab": {},
    "colab_type": "code",
    "id": "6n84POtr8Fky"
   },
   "outputs": [],
   "source": [
    "net = Network()\n",
    "if torch.cuda.is_available():\n",
    "  net.cuda()\n",
    "\n",
    "\n",
    "optimizer = torch.optim.SGD(net.parameters(), lr=0.01, momentum=0.9, weight_decay=0.005)"
   ]
  },
  {
   "cell_type": "code",
   "execution_count": 23,
   "metadata": {
    "colab": {
     "base_uri": "https://localhost:8080/",
     "height": 1000
    },
    "colab_type": "code",
    "id": "RI2vZScnaKo-",
    "outputId": "8071332e-f470-454c-f3b7-5727681e53f7"
   },
   "outputs": [
    {
     "name": "stdout",
     "output_type": "stream",
     "text": [
      "epoch 1\n",
      "\ttrain  mean loss=0.1326679559890181, accuracy=0.9611\n",
      "\ttest  mean loss=0.12597968409769236, accuracy=0.962\n",
      "epoch 2\n",
      "\ttrain  mean loss=0.10159055247437208, accuracy=0.9689333333333333\n",
      "\ttest  mean loss=0.09139065333874896, accuracy=0.9719\n",
      "epoch 3\n",
      "\ttrain  mean loss=0.07175625058977554, accuracy=0.9790333333333333\n",
      "\ttest  mean loss=0.06706788338022307, accuracy=0.979\n",
      "epoch 4\n",
      "\ttrain  mean loss=0.06999938047956675, accuracy=0.98045\n",
      "\ttest  mean loss=0.06646389526547863, accuracy=0.9807\n",
      "epoch 5\n",
      "\ttrain  mean loss=0.06447225551353768, accuracy=0.9816\n",
      "\ttest  mean loss=0.0601549369120039, accuracy=0.9812\n",
      "epoch 6\n",
      "\ttrain  mean loss=0.05600986488939574, accuracy=0.9846833333333334\n",
      "\ttest  mean loss=0.05675735914963297, accuracy=0.9826\n",
      "epoch 7\n",
      "\ttrain  mean loss=0.06613264341528217, accuracy=0.98155\n",
      "\ttest  mean loss=0.06359222583007068, accuracy=0.982\n",
      "epoch 8\n",
      "\ttrain  mean loss=0.059235664980951695, accuracy=0.9832333333333333\n",
      "\ttest  mean loss=0.05942247858736664, accuracy=0.9813\n",
      "epoch 9\n",
      "\ttrain  mean loss=0.09065630491512518, accuracy=0.9717333333333333\n",
      "\ttest  mean loss=0.08865922088269144, accuracy=0.9716\n",
      "epoch 10\n",
      "\ttrain  mean loss=0.05339211535057984, accuracy=0.9853\n",
      "\ttest  mean loss=0.05298588317353278, accuracy=0.9836\n",
      "epoch 11\n",
      "\ttrain  mean loss=0.06094282189461713, accuracy=0.9828166666666667\n",
      "\ttest  mean loss=0.062424641440156844, accuracy=0.9828\n",
      "epoch 12\n",
      "\ttrain  mean loss=0.06731439764611423, accuracy=0.9798\n",
      "\ttest  mean loss=0.06320937164826318, accuracy=0.9816\n",
      "epoch 13\n",
      "\ttrain  mean loss=0.056652464729268104, accuracy=0.9848166666666667\n",
      "\ttest  mean loss=0.055364597763400525, accuracy=0.9841\n",
      "epoch 14\n",
      "\ttrain  mean loss=0.05520657025200004, accuracy=0.9853833333333334\n",
      "\ttest  mean loss=0.0553268898173701, accuracy=0.9837\n",
      "epoch 15\n",
      "\ttrain  mean loss=0.0655445481557399, accuracy=0.98055\n",
      "\ttest  mean loss=0.06489008908043616, accuracy=0.979\n",
      "epoch 16\n",
      "\ttrain  mean loss=0.054256762247532606, accuracy=0.9855666666666667\n",
      "\ttest  mean loss=0.056125705305021256, accuracy=0.9832\n",
      "epoch 17\n",
      "\ttrain  mean loss=0.04898038204254893, accuracy=0.98695\n",
      "\ttest  mean loss=0.05003491964540444, accuracy=0.9845\n",
      "epoch 18\n",
      "\ttrain  mean loss=0.0551919451666375, accuracy=0.9838666666666667\n",
      "\ttest  mean loss=0.05663249762146734, accuracy=0.9826\n",
      "epoch 19\n",
      "\ttrain  mean loss=0.05618569388597583, accuracy=0.9842333333333333\n",
      "\ttest  mean loss=0.0557303855731152, accuracy=0.9831\n",
      "epoch 20\n",
      "\ttrain  mean loss=0.06140589189211217, accuracy=0.98265\n",
      "\ttest  mean loss=0.06194013453554362, accuracy=0.9815\n",
      "epoch 21\n",
      "\ttrain  mean loss=0.04986501678397569, accuracy=0.9862166666666666\n",
      "\ttest  mean loss=0.048979383462574334, accuracy=0.9859\n",
      "epoch 22\n",
      "\ttrain  mean loss=0.05883783789662023, accuracy=0.9834166666666667\n",
      "\ttest  mean loss=0.057254620140884074, accuracy=0.9842\n",
      "epoch 23\n",
      "\ttrain  mean loss=0.053138252137384066, accuracy=0.9842166666666666\n",
      "\ttest  mean loss=0.049756140126264656, accuracy=0.9848\n",
      "epoch 24\n",
      "\ttrain  mean loss=0.05865795579971746, accuracy=0.9819833333333333\n",
      "\ttest  mean loss=0.058568092508940024, accuracy=0.9803\n",
      "epoch 25\n",
      "\ttrain  mean loss=0.06770329642963285, accuracy=0.98005\n",
      "\ttest  mean loss=0.0703123148321174, accuracy=0.9787\n",
      "epoch 26\n",
      "\ttrain  mean loss=0.05254345211976518, accuracy=0.9855333333333334\n",
      "\ttest  mean loss=0.05243296142318286, accuracy=0.9859\n",
      "epoch 27\n",
      "\ttrain  mean loss=0.05653967858175747, accuracy=0.9851\n",
      "\ttest  mean loss=0.055510823177173735, accuracy=0.9851\n",
      "epoch 28\n",
      "\ttrain  mean loss=0.0512537091000316, accuracy=0.9859666666666667\n",
      "\ttest  mean loss=0.05063992316718213, accuracy=0.9851\n",
      "epoch 29\n",
      "\ttrain  mean loss=0.05351257304816196, accuracy=0.9855666666666667\n",
      "\ttest  mean loss=0.056425082825589924, accuracy=0.9823\n",
      "epoch 30\n",
      "\ttrain  mean loss=0.05344229750024776, accuracy=0.9849\n",
      "\ttest  mean loss=0.05452345421770587, accuracy=0.9842\n",
      "epoch 31\n",
      "\ttrain  mean loss=0.047906491635367275, accuracy=0.9873833333333333\n",
      "\ttest  mean loss=0.04853526383172721, accuracy=0.9863\n",
      "epoch 32\n",
      "\ttrain  mean loss=0.05621175625283892, accuracy=0.9840833333333333\n",
      "\ttest  mean loss=0.054864428524160756, accuracy=0.984\n",
      "epoch 33\n",
      "\ttrain  mean loss=0.05091792833486882, accuracy=0.9854666666666667\n",
      "\ttest  mean loss=0.05063694897806272, accuracy=0.9846\n",
      "epoch 34\n",
      "\ttrain  mean loss=0.06351980071126793, accuracy=0.9823166666666666\n",
      "\ttest  mean loss=0.06821198282297701, accuracy=0.9789\n",
      "epoch 35\n",
      "\ttrain  mean loss=0.058710799685989815, accuracy=0.9841666666666666\n",
      "\ttest  mean loss=0.06146956665674225, accuracy=0.9808\n",
      "epoch 36\n",
      "\ttrain  mean loss=0.054601222715961434, accuracy=0.98605\n",
      "\ttest  mean loss=0.05657787039177492, accuracy=0.9847\n",
      "epoch 37\n",
      "\ttrain  mean loss=0.0490942565126655, accuracy=0.9871\n",
      "\ttest  mean loss=0.04944626136566512, accuracy=0.9866\n",
      "epoch 38\n",
      "\ttrain  mean loss=0.05889452656265348, accuracy=0.9827166666666667\n",
      "\ttest  mean loss=0.05723377255024389, accuracy=0.9824\n",
      "epoch 39\n",
      "\ttrain  mean loss=0.0510491118611147, accuracy=0.9866666666666667\n",
      "\ttest  mean loss=0.052761856589931995, accuracy=0.9843\n",
      "epoch 40\n",
      "\ttrain  mean loss=0.056263563444372264, accuracy=0.9837833333333333\n",
      "\ttest  mean loss=0.055777807901613415, accuracy=0.9837\n",
      "epoch 41\n",
      "\ttrain  mean loss=0.06562961681202675, accuracy=0.9809\n",
      "\ttest  mean loss=0.06388014694442973, accuracy=0.9799\n",
      "epoch 42\n",
      "\ttrain  mean loss=0.0587465883543094, accuracy=0.9826166666666667\n",
      "\ttest  mean loss=0.06037802723469213, accuracy=0.9817\n",
      "epoch 43\n",
      "\ttrain  mean loss=0.05561654633221527, accuracy=0.9850833333333333\n",
      "\ttest  mean loss=0.05842274516355246, accuracy=0.9825\n",
      "epoch 44\n",
      "\ttrain  mean loss=0.05298213705653325, accuracy=0.9852166666666666\n",
      "\ttest  mean loss=0.053264017250621694, accuracy=0.985\n",
      "epoch 45\n",
      "\ttrain  mean loss=0.05936106920669166, accuracy=0.9825666666666667\n",
      "\ttest  mean loss=0.05832390386960469, accuracy=0.9835\n",
      "epoch 46\n",
      "\ttrain  mean loss=0.04844831164227799, accuracy=0.9874666666666667\n",
      "\ttest  mean loss=0.05035867192433216, accuracy=0.9853\n",
      "epoch 47\n",
      "\ttrain  mean loss=0.05217793842001508, accuracy=0.9855333333333334\n",
      "\ttest  mean loss=0.05404867469449528, accuracy=0.9833\n",
      "epoch 48\n",
      "\ttrain  mean loss=0.07349527394399047, accuracy=0.9779833333333333\n",
      "\ttest  mean loss=0.07189713799627498, accuracy=0.9787\n",
      "epoch 49\n",
      "\ttrain  mean loss=0.0502128911887606, accuracy=0.9866666666666667\n",
      "\ttest  mean loss=0.05151536223012954, accuracy=0.9849\n",
      "epoch 50\n",
      "\ttrain  mean loss=0.05038532796083018, accuracy=0.9869\n",
      "\ttest  mean loss=0.05292616536840797, accuracy=0.9843\n",
      "epoch 51\n",
      "\ttrain  mean loss=0.0538170789865156, accuracy=0.98605\n",
      "\ttest  mean loss=0.05744583641528152, accuracy=0.9821\n",
      "epoch 52\n",
      "\ttrain  mean loss=0.050647765190418186, accuracy=0.9857166666666667\n",
      "\ttest  mean loss=0.05059249094279949, accuracy=0.9852\n",
      "epoch 53\n",
      "\ttrain  mean loss=0.05317745162484547, accuracy=0.9858166666666667\n",
      "\ttest  mean loss=0.05284064494306222, accuracy=0.9854\n",
      "epoch 54\n",
      "\ttrain  mean loss=0.05072990047667796, accuracy=0.9859833333333333\n",
      "\ttest  mean loss=0.054057280193082986, accuracy=0.9824\n",
      "epoch 55\n",
      "\ttrain  mean loss=0.05848643086462592, accuracy=0.9834\n",
      "\ttest  mean loss=0.061136389024322856, accuracy=0.9813\n",
      "epoch 56\n",
      "\ttrain  mean loss=0.048729431269845615, accuracy=0.98695\n",
      "\ttest  mean loss=0.050365248523303305, accuracy=0.9848\n",
      "epoch 57\n",
      "\ttrain  mean loss=0.05332735861185938, accuracy=0.9849666666666667\n",
      "\ttest  mean loss=0.05291676261404064, accuracy=0.9842\n",
      "epoch 58\n",
      "\ttrain  mean loss=0.052071025727006295, accuracy=0.98595\n",
      "\ttest  mean loss=0.05287505026673898, accuracy=0.9849\n",
      "epoch 59\n",
      "\ttrain  mean loss=0.06275227269157767, accuracy=0.98095\n",
      "\ttest  mean loss=0.0635370734729804, accuracy=0.9805\n",
      "epoch 60\n",
      "\ttrain  mean loss=0.05340829549590126, accuracy=0.9844833333333334\n",
      "\ttest  mean loss=0.055990885626524683, accuracy=0.9834\n",
      "epoch 61\n",
      "\ttrain  mean loss=0.06106143515169, accuracy=0.9822166666666666\n",
      "\ttest  mean loss=0.0607218765001744, accuracy=0.9819\n",
      "epoch 62\n",
      "\ttrain  mean loss=0.05860044048633426, accuracy=0.9840833333333333\n",
      "\ttest  mean loss=0.05961631033802405, accuracy=0.983\n",
      "epoch 63\n",
      "\ttrain  mean loss=0.05897976834210567, accuracy=0.9830666666666666\n",
      "\ttest  mean loss=0.05883058806299232, accuracy=0.9816\n",
      "epoch 64\n",
      "\ttrain  mean loss=0.050427137366496025, accuracy=0.9862833333333333\n",
      "\ttest  mean loss=0.05129430081695318, accuracy=0.9849\n",
      "epoch 65\n",
      "\ttrain  mean loss=0.049743785733977954, accuracy=0.98655\n",
      "\ttest  mean loss=0.051529879444278774, accuracy=0.9845\n",
      "epoch 66\n",
      "\ttrain  mean loss=0.05215583039137224, accuracy=0.9859166666666667\n",
      "\ttest  mean loss=0.05137617999338545, accuracy=0.9857\n",
      "epoch 67\n",
      "\ttrain  mean loss=0.052136521372788895, accuracy=0.9854\n",
      "\ttest  mean loss=0.05247184876585379, accuracy=0.9853\n",
      "epoch 68\n",
      "\ttrain  mean loss=0.0490628878659724, accuracy=0.9864166666666667\n",
      "\ttest  mean loss=0.04986217842204496, accuracy=0.9862\n",
      "epoch 69\n",
      "\ttrain  mean loss=0.04764881523830506, accuracy=0.9872333333333333\n",
      "\ttest  mean loss=0.04823145860224031, accuracy=0.9856\n",
      "epoch 70\n",
      "\ttrain  mean loss=0.05560641120420769, accuracy=0.9855\n",
      "\ttest  mean loss=0.059151548048248515, accuracy=0.9838\n",
      "epoch 71\n",
      "\ttrain  mean loss=0.050773756636772305, accuracy=0.9867166666666667\n",
      "\ttest  mean loss=0.05390937337186188, accuracy=0.9849\n",
      "epoch 72\n",
      "\ttrain  mean loss=0.060893621481955054, accuracy=0.9821833333333333\n",
      "\ttest  mean loss=0.05767327750567347, accuracy=0.9834\n",
      "epoch 73\n",
      "\ttrain  mean loss=0.05031497217093905, accuracy=0.9860333333333333\n",
      "\ttest  mean loss=0.050683256802149114, accuracy=0.9851\n",
      "epoch 74\n",
      "\ttrain  mean loss=0.05354080756660551, accuracy=0.9858166666666667\n",
      "\ttest  mean loss=0.05627714971196838, accuracy=0.9836\n",
      "epoch 75\n",
      "\ttrain  mean loss=0.058688382231630386, accuracy=0.98355\n",
      "\ttest  mean loss=0.06194319959497079, accuracy=0.9811\n",
      "epoch 76\n",
      "\ttrain  mean loss=0.06709257283713668, accuracy=0.9800833333333333\n",
      "\ttest  mean loss=0.07114526881487108, accuracy=0.9777\n",
      "epoch 77\n",
      "\ttrain  mean loss=0.05736341214738786, accuracy=0.9841666666666666\n",
      "\ttest  mean loss=0.058366451411275194, accuracy=0.9825\n",
      "epoch 78\n",
      "\ttrain  mean loss=0.0607148956534608, accuracy=0.9815833333333334\n",
      "\ttest  mean loss=0.06111739197745919, accuracy=0.9796\n",
      "epoch 79\n",
      "\ttrain  mean loss=0.04792398442553046, accuracy=0.9864833333333334\n",
      "\ttest  mean loss=0.04897530640999321, accuracy=0.9855\n",
      "epoch 80\n",
      "\ttrain  mean loss=0.04822331064109069, accuracy=0.9869833333333333\n",
      "\ttest  mean loss=0.048414179801475256, accuracy=0.9872\n",
      "epoch 81\n",
      "\ttrain  mean loss=0.04798694371789073, accuracy=0.987\n",
      "\ttest  mean loss=0.05038981601654086, accuracy=0.9847\n",
      "epoch 82\n",
      "\ttrain  mean loss=0.05213229298824444, accuracy=0.98645\n",
      "\ttest  mean loss=0.052645186482695866, accuracy=0.9855\n",
      "epoch 83\n",
      "\ttrain  mean loss=0.049231463773564126, accuracy=0.98755\n",
      "\ttest  mean loss=0.05006939772167243, accuracy=0.9864\n",
      "epoch 84\n",
      "\ttrain  mean loss=0.05059211727930233, accuracy=0.9870833333333333\n",
      "\ttest  mean loss=0.05158695112215355, accuracy=0.9858\n",
      "epoch 85\n",
      "\ttrain  mean loss=0.052258974820918715, accuracy=0.986\n",
      "\ttest  mean loss=0.05194633216713555, accuracy=0.9853\n",
      "epoch 86\n",
      "\ttrain  mean loss=0.0541903701541014, accuracy=0.98535\n",
      "\ttest  mean loss=0.055601291212951764, accuracy=0.9839\n",
      "epoch 87\n",
      "\ttrain  mean loss=0.048674092883011326, accuracy=0.9876833333333334\n",
      "\ttest  mean loss=0.049923866860335696, accuracy=0.9856\n",
      "epoch 88\n",
      "\ttrain  mean loss=0.051006764912356936, accuracy=0.9863666666666666\n",
      "\ttest  mean loss=0.05304844020283781, accuracy=0.9839\n",
      "epoch 89\n",
      "\ttrain  mean loss=0.04976547886966728, accuracy=0.9868666666666667\n",
      "\ttest  mean loss=0.05251750668045133, accuracy=0.984\n",
      "epoch 90\n",
      "\ttrain  mean loss=0.04620746258335809, accuracy=0.98765\n",
      "\ttest  mean loss=0.04833107721933629, accuracy=0.9852\n",
      "epoch 91\n",
      "\ttrain  mean loss=0.047065424785250796, accuracy=0.9875666666666667\n",
      "\ttest  mean loss=0.04840500700403936, accuracy=0.986\n",
      "epoch 92\n",
      "\ttrain  mean loss=0.05003113517304882, accuracy=0.9864333333333334\n",
      "\ttest  mean loss=0.05120815331698395, accuracy=0.9847\n",
      "epoch 93\n",
      "\ttrain  mean loss=0.048898827554270004, accuracy=0.9868666666666667\n",
      "\ttest  mean loss=0.048033985963556916, accuracy=0.9866\n",
      "epoch 94\n",
      "\ttrain  mean loss=0.05321445537769857, accuracy=0.98605\n",
      "\ttest  mean loss=0.05801999997231178, accuracy=0.9832\n",
      "epoch 95\n",
      "\ttrain  mean loss=0.059226955038805804, accuracy=0.98325\n",
      "\ttest  mean loss=0.05938640786451287, accuracy=0.982\n",
      "epoch 96\n",
      "\ttrain  mean loss=0.05031642696238123, accuracy=0.9864333333333334\n",
      "\ttest  mean loss=0.05349550552433357, accuracy=0.9842\n",
      "epoch 97\n",
      "\ttrain  mean loss=0.04761400120332837, accuracy=0.98745\n",
      "\ttest  mean loss=0.05050136527279392, accuracy=0.9846\n",
      "epoch 98\n",
      "\ttrain  mean loss=0.05165005177337056, accuracy=0.9860833333333333\n",
      "\ttest  mean loss=0.05297058075200766, accuracy=0.9845\n",
      "epoch 99\n",
      "\ttrain  mean loss=0.04950317862831677, accuracy=0.9865666666666667\n",
      "\ttest  mean loss=0.05233267203206196, accuracy=0.9837\n",
      "epoch 100\n",
      "\ttrain  mean loss=0.04679940714384429, accuracy=0.9873\n",
      "\ttest  mean loss=0.048974983555381185, accuracy=0.9857\n"
     ]
    }
   ],
   "source": [
    "train_loss=[]\n",
    "train_acc=[]\n",
    "test_loss=[]\n",
    "test_acc=[]\n",
    "\n",
    "\n",
    "\n",
    "\n",
    "#define batch-size and epoch.\n",
    "epoch=100\n",
    "batchsize=100\n",
    "\n",
    "#Specify the weight to be visualized.\n",
    "#Specify the input channel.\n",
    "inputc_num = np.array([0,0,0])\n",
    "\n",
    "#Specify the output channel.\n",
    "outputc_num = np.array([0,16,31])\n",
    "\n",
    "#Defines an array that holds the weight for each epoch.\n",
    "weight_num = int(len(inputc_num))\n",
    "k_size = int(net.conv1.weight.cpu().detach().numpy().shape[2])\n",
    "train_weight = np.zeros((weight_num, epoch, k_size*k_size))\n",
    "\n",
    "for epoch in range(1, epoch+1):\n",
    "  print('epoch', epoch)\n",
    "  perm = np.random.permutation(datasize)\n",
    "  for i in range(0, datasize, batchsize):\n",
    "    #Create mini-batch.\n",
    "    x_batch = x_train[perm[i:i+batchsize]]\n",
    "    y_batch = y_train[perm[i:i+batchsize]]\n",
    "    \n",
    "    #Convert a numpy array to a tensor to do gradient calculations.\n",
    "    if torch.cuda.is_available():\n",
    "      x_batch = torch.from_numpy(x_batch).float().cuda()\n",
    "      y_batch = torch.from_numpy(y_batch).long().cuda()\n",
    "    else:\n",
    "        x_batch = torch.from_numpy(x_batch).float()\n",
    "        y_batch = torch.from_numpy(y_batch).long()\n",
    "    \n",
    "    #Initialize the stored gradient.\n",
    "    optimizer.zero_grad()\n",
    "    \n",
    "    #Get the model output for the input mini-batch.\n",
    "    y = net(x_batch)\n",
    "    \n",
    "    #Calculate loss from the output of the model. At this time, the activation function of the output layer is also reflected in the calculation.\n",
    "    loss = softmax_cross_entropy(y, y_batch)  \n",
    "    \n",
    "    #From loss, calculate the gradient of each parameter.\n",
    "    loss.backward()               \n",
    "    \n",
    "    #Each parameter is updated from the calculated gradient.\n",
    "    optimizer.step()\n",
    "  #Extract weight values from the model.\n",
    "  weight = net.conv1.weight.cpu().detach().numpy()\n",
    "  \n",
    "  for i in range(weight_num):\n",
    "    weight0 = weight[outputc_num[i]][inputc_num[i]]\n",
    "    weight0 = weight0.flatten()\n",
    "    train_weight[i][epoch-1] = weight0\n",
    "\n",
    "\n",
    "  sum_score = 0\n",
    "  sum_loss = 0\n",
    "  \n",
    "  #Evaluate the model with train data.\n",
    "  for i in range(0, datasize, batchsize):\n",
    "    x_batch = x_train[i:i+batchsize]\n",
    "    y_batch = y_train[i:i+batchsize]\n",
    "    if torch.cuda.is_available():\n",
    "      x_batch = torch.from_numpy(x_batch).float().cuda()\n",
    "      y_batch = torch.from_numpy(y_batch).long().cuda()\n",
    "    else:\n",
    "        x_batch = torch.from_numpy(x_batch).float()\n",
    "        y_batch = torch.from_numpy(y_batch).long()\n",
    "    y = net(x_batch)\n",
    "    loss = softmax_cross_entropy(y, y_batch)\n",
    "    sum_loss += float(loss.cpu().data.item()) * batchsize\n",
    "    _, predict = y.max(1)\n",
    "    sum_score += predict.eq(y_batch).sum().item()\n",
    "  print(\"\\ttrain  mean loss={}, accuracy={}\".format(sum_loss / datasize, sum_score / datasize))\n",
    "  train_loss.append(sum_loss / datasize)\n",
    "  train_acc.append(sum_score / datasize)\n",
    "\n",
    "\n",
    "  sum_score = 0\n",
    "  sum_loss = 0\n",
    "\n",
    "  \n",
    "  #Evaluate the model with test data.\n",
    "  for i in range(0, datasize_test, batchsize):\n",
    "    x_batch = x_test[i:i+batchsize]\n",
    "    y_batch = y_test[i:i+batchsize]\n",
    "    if torch.cuda.is_available():\n",
    "      x_batch = torch.from_numpy(x_batch).float().cuda()\n",
    "      y_batch = torch.from_numpy(y_batch).long().cuda()\n",
    "    else:\n",
    "        x_batch = torch.from_numpy(x_batch).float()\n",
    "        y_batch = torch.from_numpy(y_batch).long()\n",
    "    y = net(x_batch)\n",
    "    loss = softmax_cross_entropy(y, y_batch)\n",
    "    sum_loss += float(loss.cpu().data.item()) * batchsize\n",
    "    _, predict = y.max(1)\n",
    "    sum_score += predict.eq(y_batch).sum().item()\n",
    "  print(\"\\ttest  mean loss={}, accuracy={}\".format(sum_loss / datasize_test, sum_score / datasize_test))\n",
    "  test_loss.append(sum_loss / datasize_test)\n",
    "  test_acc.append(sum_score / datasize_test)\n"
   ]
  },
  {
   "cell_type": "code",
   "execution_count": 24,
   "metadata": {
    "colab": {
     "base_uri": "https://localhost:8080/",
     "height": 1000
    },
    "colab_type": "code",
    "id": "Jt2NXm-cbyh5",
    "outputId": "32d90de0-d139-4bd3-a186-bbe64899c0c0"
   },
   "outputs": [
    {
     "data": {
      "image/png": "[encoded data removed]",
      "text/plain": [
       "<Figure size 432x432 with 1 Axes>"
      ]
     },
     "metadata": {
      "needs_background": "light"
     },
     "output_type": "display_data"
    },
    {
     "data": {
      "image/png": "[encoded data removed]",
      "text/plain": [
       "<Figure size 432x432 with 1 Axes>"
      ]
     },
     "metadata": {
      "needs_background": "light"
     },
     "output_type": "display_data"
    },
    {
     "data": {
      "image/png": "[encoded data removed]",
      "text/plain": [
       "<Figure size 432x432 with 1 Axes>"
      ]
     },
     "metadata": {
      "needs_background": "light"
     },
     "output_type": "display_data"
    }
   ],
   "source": [
    "#A list for specifying the color of the graph. Changes are required according to the number of weights to be displayed.\n",
    "c = ['#ff0000', '#ffff00', '#00ff00', '#00ffff', '#0000ff','#ff00ff', '#990000', '#999900', '#009900', '#009999']\n",
    "\n",
    "for i in range(weight_num):\n",
    "  plt.figure(figsize=(6,6))\n",
    "  p = train_weight[i]\n",
    "  p = p.transpose(1,0)\n",
    "  for j in range(k_size*k_size):\n",
    "    plt.plot(range(epoch), p[j], c=c[j])\n",
    "  plt.title('filter%d'%i)\n",
    "  plt.show()"
   ]
  },
  {
   "cell_type": "code",
   "execution_count": 9,
   "metadata": {
    "colab": {},
    "colab_type": "code",
    "id": "CqbJSz8N2i2u"
   },
   "outputs": [],
   "source": [
    "net = Network()\n",
    "if torch.cuda.is_available():\n",
    "  net.cuda()\n",
    "\n",
    "\n",
    "optimizer = torch.optim.SGD(net.parameters(), lr=0.01, momentum=0.9, weight_decay=0.005)"
   ]
  },
  {
   "cell_type": "code",
   "execution_count": 10,
   "metadata": {
    "colab": {
     "base_uri": "https://localhost:8080/",
     "height": 1000
    },
    "colab_type": "code",
    "id": "tww682NC2m4i",
    "outputId": "8ecd943c-27af-4b00-d473-c57e4ae10022"
   },
   "outputs": [
    {
     "name": "stdout",
     "output_type": "stream",
     "text": [
      "epoch 1\n",
      "\ttrain  mean loss=0.13490619109322627, accuracy=0.9603833333333334\n",
      "\ttest  mean loss=0.12541465000715107, accuracy=0.9629\n",
      "epoch 2\n",
      "\ttrain  mean loss=0.08465702978040403, accuracy=0.9753166666666667\n",
      "\ttest  mean loss=0.07610906537389382, accuracy=0.9775\n",
      "epoch 3\n",
      "\ttrain  mean loss=0.06963477424889182, accuracy=0.9799833333333333\n",
      "\ttest  mean loss=0.06277140835300088, accuracy=0.982\n",
      "epoch 4\n",
      "\ttrain  mean loss=0.07251857197765882, accuracy=0.9792833333333333\n",
      "\ttest  mean loss=0.06791191561380401, accuracy=0.9791\n",
      "epoch 5\n",
      "\ttrain  mean loss=0.06720649804764738, accuracy=0.981\n",
      "\ttest  mean loss=0.06469397893873975, accuracy=0.9812\n",
      "epoch 6\n",
      "\ttrain  mean loss=0.07290979855693877, accuracy=0.9792666666666666\n",
      "\ttest  mean loss=0.07354170784819872, accuracy=0.9774\n",
      "epoch 7\n",
      "\ttrain  mean loss=0.09076185503819337, accuracy=0.9726666666666667\n",
      "\ttest  mean loss=0.08832216208800674, accuracy=0.9738\n",
      "epoch 8\n",
      "\ttrain  mean loss=0.05554482413106598, accuracy=0.9859\n",
      "\ttest  mean loss=0.054232609247555956, accuracy=0.985\n",
      "epoch 9\n",
      "\ttrain  mean loss=0.05624228147867446, accuracy=0.9853833333333334\n",
      "\ttest  mean loss=0.054884676857618615, accuracy=0.9851\n",
      "epoch 10\n",
      "\ttrain  mean loss=0.05781668038573116, accuracy=0.98375\n",
      "\ttest  mean loss=0.05765883327112533, accuracy=0.9824\n",
      "epoch 11\n",
      "\ttrain  mean loss=0.06171096183514843, accuracy=0.9827\n",
      "\ttest  mean loss=0.06168300024000928, accuracy=0.9829\n",
      "epoch 12\n",
      "\ttrain  mean loss=0.05811992740646626, accuracy=0.9841\n",
      "\ttest  mean loss=0.056206757542677226, accuracy=0.9844\n",
      "epoch 13\n",
      "\ttrain  mean loss=0.05297344609163702, accuracy=0.9851166666666666\n",
      "\ttest  mean loss=0.053077587542356926, accuracy=0.9847\n",
      "epoch 14\n",
      "\ttrain  mean loss=0.056309206757384045, accuracy=0.9843333333333333\n",
      "\ttest  mean loss=0.05399407905410044, accuracy=0.983\n",
      "epoch 15\n",
      "\ttrain  mean loss=0.049720176629489285, accuracy=0.9863333333333333\n",
      "\ttest  mean loss=0.050293598126154394, accuracy=0.9849\n",
      "epoch 16\n",
      "\ttrain  mean loss=0.05161499836520913, accuracy=0.9851666666666666\n",
      "\ttest  mean loss=0.0492746653186623, accuracy=0.9847\n",
      "epoch 17\n",
      "\ttrain  mean loss=0.05220986848076185, accuracy=0.98605\n",
      "\ttest  mean loss=0.052593777528963985, accuracy=0.9857\n",
      "epoch 18\n",
      "\ttrain  mean loss=0.05364110042185833, accuracy=0.9869166666666667\n",
      "\ttest  mean loss=0.05651411472819746, accuracy=0.9828\n",
      "epoch 19\n",
      "\ttrain  mean loss=0.07304428320222844, accuracy=0.9791166666666666\n",
      "\ttest  mean loss=0.0762582289520651, accuracy=0.9764\n",
      "epoch 20\n",
      "\ttrain  mean loss=0.0514833609162209, accuracy=0.98665\n",
      "\ttest  mean loss=0.05170661600888707, accuracy=0.984\n",
      "epoch 21\n",
      "\ttrain  mean loss=0.05664925190232073, accuracy=0.98395\n",
      "\ttest  mean loss=0.058638253977987914, accuracy=0.983\n",
      "epoch 22\n",
      "\ttrain  mean loss=0.06038191124719257, accuracy=0.9832166666666666\n",
      "\ttest  mean loss=0.06063895710860379, accuracy=0.9827\n",
      "epoch 23\n",
      "\ttrain  mean loss=0.05355026664910838, accuracy=0.9848166666666667\n",
      "\ttest  mean loss=0.05469718135078438, accuracy=0.9842\n",
      "epoch 24\n",
      "\ttrain  mean loss=0.051325482145572705, accuracy=0.9861\n",
      "\ttest  mean loss=0.05384169492404908, accuracy=0.9844\n",
      "epoch 25\n",
      "\ttrain  mean loss=0.06041783581410224, accuracy=0.9825166666666667\n",
      "\ttest  mean loss=0.055937733650207516, accuracy=0.9835\n",
      "epoch 26\n",
      "\ttrain  mean loss=0.05886682235325376, accuracy=0.98365\n",
      "\ttest  mean loss=0.059155211347388104, accuracy=0.9806\n",
      "epoch 27\n",
      "\ttrain  mean loss=0.05260038210156684, accuracy=0.98645\n",
      "\ttest  mean loss=0.055220769703155384, accuracy=0.9829\n",
      "epoch 28\n",
      "\ttrain  mean loss=0.053299452376474314, accuracy=0.9858666666666667\n",
      "\ttest  mean loss=0.05326193445012905, accuracy=0.9844\n",
      "epoch 29\n",
      "\ttrain  mean loss=0.06017208517645486, accuracy=0.98225\n",
      "\ttest  mean loss=0.060948304490884765, accuracy=0.9806\n",
      "epoch 30\n",
      "\ttrain  mean loss=0.051342957735372084, accuracy=0.9860166666666667\n",
      "\ttest  mean loss=0.051319117529783395, accuracy=0.9848\n",
      "epoch 31\n",
      "\ttrain  mean loss=0.05395442920193697, accuracy=0.9846666666666667\n",
      "\ttest  mean loss=0.05591349423513748, accuracy=0.9826\n",
      "epoch 32\n",
      "\ttrain  mean loss=0.07959586364527543, accuracy=0.9752833333333333\n",
      "\ttest  mean loss=0.0823791699996218, accuracy=0.974\n",
      "epoch 33\n",
      "\ttrain  mean loss=0.05608389650238678, accuracy=0.9850333333333333\n",
      "\ttest  mean loss=0.05853617327054963, accuracy=0.9817\n",
      "epoch 34\n",
      "\ttrain  mean loss=0.054847940230586874, accuracy=0.9848\n",
      "\ttest  mean loss=0.056613187681650745, accuracy=0.9841\n",
      "epoch 35\n",
      "\ttrain  mean loss=0.05623873216720919, accuracy=0.9845833333333334\n",
      "\ttest  mean loss=0.05754575636703521, accuracy=0.9826\n",
      "epoch 36\n",
      "\ttrain  mean loss=0.055728453122234595, accuracy=0.9845166666666667\n",
      "\ttest  mean loss=0.05587409276282415, accuracy=0.9837\n",
      "epoch 37\n",
      "\ttrain  mean loss=0.05139009626310629, accuracy=0.9865\n",
      "\ttest  mean loss=0.05485504620010033, accuracy=0.983\n",
      "epoch 38\n",
      "\ttrain  mean loss=0.054301555724038435, accuracy=0.9851666666666666\n",
      "\ttest  mean loss=0.05493402702966705, accuracy=0.9838\n",
      "epoch 39\n",
      "\ttrain  mean loss=0.04814791384269483, accuracy=0.9870166666666667\n",
      "\ttest  mean loss=0.0494718920183368, accuracy=0.9861\n",
      "epoch 40\n",
      "\ttrain  mean loss=0.05361249989558322, accuracy=0.9849333333333333\n",
      "\ttest  mean loss=0.05524112614686601, accuracy=0.9821\n",
      "epoch 41\n",
      "\ttrain  mean loss=0.05667626769592365, accuracy=0.98465\n",
      "\ttest  mean loss=0.05695506672374904, accuracy=0.9838\n",
      "epoch 42\n",
      "\ttrain  mean loss=0.05934686449899649, accuracy=0.9833666666666666\n",
      "\ttest  mean loss=0.0585972991771996, accuracy=0.9829\n",
      "epoch 43\n",
      "\ttrain  mean loss=0.049994504580584666, accuracy=0.9865333333333334\n",
      "\ttest  mean loss=0.05130902194359806, accuracy=0.9845\n",
      "epoch 44\n",
      "\ttrain  mean loss=0.04572308641547958, accuracy=0.9881166666666666\n",
      "\ttest  mean loss=0.04535372876387555, accuracy=0.988\n",
      "epoch 45\n",
      "\ttrain  mean loss=0.04774241314580043, accuracy=0.9872666666666666\n",
      "\ttest  mean loss=0.04723922233097255, accuracy=0.9866\n",
      "epoch 46\n",
      "\ttrain  mean loss=0.05249949491117149, accuracy=0.9853166666666666\n",
      "\ttest  mean loss=0.05636529317358509, accuracy=0.9821\n",
      "epoch 47\n",
      "\ttrain  mean loss=0.05095648035019015, accuracy=0.9857166666666667\n",
      "\ttest  mean loss=0.05385163336992264, accuracy=0.984\n",
      "epoch 48\n",
      "\ttrain  mean loss=0.05388372272020206, accuracy=0.9854\n",
      "\ttest  mean loss=0.05951612544828094, accuracy=0.9819\n",
      "epoch 49\n",
      "\ttrain  mean loss=0.050669657986145464, accuracy=0.9871333333333333\n",
      "\ttest  mean loss=0.05225190607830882, accuracy=0.9848\n",
      "epoch 50\n",
      "\ttrain  mean loss=0.05087645928685864, accuracy=0.9856\n",
      "\ttest  mean loss=0.052612314972793686, accuracy=0.9844\n",
      "epoch 51\n",
      "\ttrain  mean loss=0.05444240850862116, accuracy=0.9847833333333333\n",
      "\ttest  mean loss=0.056827115355990825, accuracy=0.985\n",
      "epoch 52\n",
      "\ttrain  mean loss=0.05163694694560642, accuracy=0.98655\n",
      "\ttest  mean loss=0.05418311787652783, accuracy=0.9847\n",
      "epoch 53\n",
      "\ttrain  mean loss=0.05234659890023371, accuracy=0.98545\n",
      "\ttest  mean loss=0.055744533201213926, accuracy=0.9839\n",
      "epoch 54\n",
      "\ttrain  mean loss=0.04965462787154441, accuracy=0.9877666666666667\n",
      "\ttest  mean loss=0.05109941981150769, accuracy=0.9856\n",
      "epoch 55\n",
      "\ttrain  mean loss=0.046042430638335644, accuracy=0.9875333333333334\n",
      "\ttest  mean loss=0.050480823327088725, accuracy=0.9849\n",
      "epoch 56\n",
      "\ttrain  mean loss=0.05207894070267988, accuracy=0.9856166666666667\n",
      "\ttest  mean loss=0.054115572077571415, accuracy=0.9844\n",
      "epoch 57\n",
      "\ttrain  mean loss=0.0608512847412688, accuracy=0.98385\n",
      "\ttest  mean loss=0.060651005413383245, accuracy=0.9831\n",
      "epoch 58\n",
      "\ttrain  mean loss=0.049857587722751, accuracy=0.9864833333333334\n",
      "\ttest  mean loss=0.053509600444231184, accuracy=0.9836\n",
      "epoch 59\n",
      "\ttrain  mean loss=0.05231256968768624, accuracy=0.986\n",
      "\ttest  mean loss=0.05582571167498827, accuracy=0.9827\n",
      "epoch 60\n",
      "\ttrain  mean loss=0.0472932064672932, accuracy=0.9871166666666666\n",
      "\ttest  mean loss=0.048837951154564505, accuracy=0.9849\n",
      "epoch 61\n",
      "\ttrain  mean loss=0.047088232326786966, accuracy=0.98845\n",
      "\ttest  mean loss=0.04842806308646686, accuracy=0.9864\n",
      "epoch 62\n",
      "\ttrain  mean loss=0.053075603845839696, accuracy=0.98475\n",
      "\ttest  mean loss=0.052193202609196306, accuracy=0.9845\n",
      "epoch 63\n",
      "\ttrain  mean loss=0.04698905633452038, accuracy=0.9877833333333333\n",
      "\ttest  mean loss=0.04714496906613931, accuracy=0.9875\n",
      "epoch 64\n",
      "\ttrain  mean loss=0.04946797886940961, accuracy=0.9863166666666666\n",
      "\ttest  mean loss=0.050977416340028864, accuracy=0.9845\n",
      "epoch 65\n",
      "\ttrain  mean loss=0.04861325821296002, accuracy=0.98745\n",
      "\ttest  mean loss=0.04894885472720489, accuracy=0.9866\n",
      "epoch 66\n",
      "\ttrain  mean loss=0.05201746947442492, accuracy=0.9855333333333334\n",
      "\ttest  mean loss=0.052796454557683316, accuracy=0.9847\n",
      "epoch 67\n",
      "\ttrain  mean loss=0.05778052452563619, accuracy=0.9837\n",
      "\ttest  mean loss=0.06034548588679172, accuracy=0.9822\n",
      "epoch 68\n",
      "\ttrain  mean loss=0.05547313295149555, accuracy=0.9845333333333334\n",
      "\ttest  mean loss=0.05751560024218634, accuracy=0.9827\n",
      "epoch 69\n",
      "\ttrain  mean loss=0.05533149114189049, accuracy=0.9848833333333333\n",
      "\ttest  mean loss=0.055560643252683804, accuracy=0.9829\n",
      "epoch 70\n",
      "\ttrain  mean loss=0.04666216500995991, accuracy=0.9873\n",
      "\ttest  mean loss=0.04826040132844355, accuracy=0.9855\n",
      "epoch 71\n",
      "\ttrain  mean loss=0.054297809968702496, accuracy=0.9849\n",
      "\ttest  mean loss=0.057023441606434064, accuracy=0.9827\n",
      "epoch 72\n",
      "\ttrain  mean loss=0.04875074928160757, accuracy=0.9866666666666667\n",
      "\ttest  mean loss=0.04893010738072917, accuracy=0.9851\n",
      "epoch 73\n",
      "\ttrain  mean loss=0.054995792505796996, accuracy=0.98495\n",
      "\ttest  mean loss=0.056173912805970755, accuracy=0.9846\n",
      "epoch 74\n",
      "\ttrain  mean loss=0.04771474418618406, accuracy=0.9868166666666667\n",
      "\ttest  mean loss=0.048730051054153595, accuracy=0.986\n",
      "epoch 75\n",
      "\ttrain  mean loss=0.06271699290722609, accuracy=0.9810833333333333\n",
      "\ttest  mean loss=0.06630425815004855, accuracy=0.9794\n",
      "epoch 76\n",
      "\ttrain  mean loss=0.05563747371585729, accuracy=0.98325\n",
      "\ttest  mean loss=0.05635571746504866, accuracy=0.9824\n",
      "epoch 77\n",
      "\ttrain  mean loss=0.05131934050781031, accuracy=0.9865166666666667\n",
      "\ttest  mean loss=0.055872148987837135, accuracy=0.9835\n",
      "epoch 78\n",
      "\ttrain  mean loss=0.05096590086584911, accuracy=0.98575\n",
      "\ttest  mean loss=0.053371719656279314, accuracy=0.9839\n",
      "epoch 79\n",
      "\ttrain  mean loss=0.05340271046307559, accuracy=0.9864833333333334\n",
      "\ttest  mean loss=0.05544163643964566, accuracy=0.9843\n",
      "epoch 80\n",
      "\ttrain  mean loss=0.0522254079025394, accuracy=0.9868\n",
      "\ttest  mean loss=0.05699507738579996, accuracy=0.9826\n",
      "epoch 81\n",
      "\ttrain  mean loss=0.051086482299724595, accuracy=0.98665\n",
      "\ttest  mean loss=0.05525004975963384, accuracy=0.9838\n",
      "epoch 82\n",
      "\ttrain  mean loss=0.057285758343835674, accuracy=0.984\n",
      "\ttest  mean loss=0.057340703986701554, accuracy=0.9839\n",
      "epoch 83\n",
      "\ttrain  mean loss=0.05172691575639571, accuracy=0.9853333333333333\n",
      "\ttest  mean loss=0.05103066108073108, accuracy=0.985\n",
      "epoch 84\n",
      "\ttrain  mean loss=0.04550504993647337, accuracy=0.9878666666666667\n",
      "\ttest  mean loss=0.047221617099130524, accuracy=0.986\n",
      "epoch 85\n",
      "\ttrain  mean loss=0.05151503508988147, accuracy=0.9859833333333333\n",
      "\ttest  mean loss=0.05304037194233388, accuracy=0.9857\n",
      "epoch 86\n",
      "\ttrain  mean loss=0.048053668898452695, accuracy=0.98765\n",
      "\ttest  mean loss=0.05089060969708953, accuracy=0.9845\n",
      "epoch 87\n",
      "\ttrain  mean loss=0.061752322331691784, accuracy=0.9820666666666666\n",
      "\ttest  mean loss=0.06295643726130948, accuracy=0.9813\n",
      "epoch 88\n",
      "\ttrain  mean loss=0.04891272090530644, accuracy=0.9871166666666666\n",
      "\ttest  mean loss=0.05214547566953115, accuracy=0.9855\n",
      "epoch 89\n",
      "\ttrain  mean loss=0.05230638623121195, accuracy=0.9850166666666667\n",
      "\ttest  mean loss=0.05569238215335645, accuracy=0.9833\n",
      "epoch 90\n",
      "\ttrain  mean loss=0.05821573500909532, accuracy=0.9839333333333333\n",
      "\ttest  mean loss=0.06315043078153394, accuracy=0.9805\n",
      "epoch 91\n",
      "\ttrain  mean loss=0.046836516143521294, accuracy=0.9877333333333334\n",
      "\ttest  mean loss=0.04868215490947478, accuracy=0.986\n",
      "epoch 92\n",
      "\ttrain  mean loss=0.05393878239245775, accuracy=0.9850333333333333\n",
      "\ttest  mean loss=0.0560989381512627, accuracy=0.9836\n",
      "epoch 93\n",
      "\ttrain  mean loss=0.04982176970302438, accuracy=0.9858166666666667\n",
      "\ttest  mean loss=0.05004264964372851, accuracy=0.9853\n",
      "epoch 94\n",
      "\ttrain  mean loss=0.061478836052895836, accuracy=0.9815\n",
      "\ttest  mean loss=0.0617878507100977, accuracy=0.9799\n",
      "epoch 95\n",
      "\ttrain  mean loss=0.04671280925588993, accuracy=0.9875333333333334\n",
      "\ttest  mean loss=0.05022290456225164, accuracy=0.9844\n",
      "epoch 96\n",
      "\ttrain  mean loss=0.049372251375267906, accuracy=0.9871\n",
      "\ttest  mean loss=0.051794132555369285, accuracy=0.9843\n",
      "epoch 97\n",
      "\ttrain  mean loss=0.05176882958427693, accuracy=0.9850333333333333\n",
      "\ttest  mean loss=0.052311453437432646, accuracy=0.9852\n",
      "epoch 98\n",
      "\ttrain  mean loss=0.05646946630052601, accuracy=0.98435\n",
      "\ttest  mean loss=0.05715567242586985, accuracy=0.9834\n",
      "epoch 99\n",
      "\ttrain  mean loss=0.05118031992188965, accuracy=0.9860166666666667\n",
      "\ttest  mean loss=0.05372653099591844, accuracy=0.9847\n",
      "epoch 100\n",
      "\ttrain  mean loss=0.050611149400938304, accuracy=0.9872166666666666\n",
      "\ttest  mean loss=0.05307992504560389, accuracy=0.9858\n"
     ]
    }
   ],
   "source": [
    "train_loss=[]\n",
    "train_acc=[]\n",
    "test_loss=[]\n",
    "test_acc=[]\n",
    "\n",
    "\n",
    "\n",
    "#define batch-size and epoch.\n",
    "epoch=100\n",
    "batchsize=100\n",
    "\n",
    "#Specify the weight to be visualized.\n",
    "#Specify the input channel.\n",
    "inputc_num = np.array([0,16,25])\n",
    "\n",
    "#Specify the output channel.\n",
    "outputc_num = np.array([0,16,25])\n",
    "\n",
    "weight_num = int(len(inputc_num))\n",
    "k_size = int(net.conv2.weight.cpu().detach().numpy().shape[2])\n",
    "\n",
    "train_weight = np.zeros((weight_num, epoch, k_size*k_size))\n",
    "\n",
    "for epoch in range(1, epoch+1):\n",
    "  print('epoch', epoch)\n",
    "  perm = np.random.permutation(datasize)\n",
    "  for i in range(0, datasize, batchsize):\n",
    "    #Create mini-batch.\n",
    "    x_batch = x_train[perm[i:i+batchsize]]\n",
    "    y_batch = y_train[perm[i:i+batchsize]]\n",
    "    \n",
    "    #Convert a numpy array to a tensor to do gradient calculations.\n",
    "    if torch.cuda.is_available():\n",
    "      x_batch = torch.from_numpy(x_batch).float().cuda()\n",
    "      y_batch = torch.from_numpy(y_batch).long().cuda()\n",
    "    else:\n",
    "        x_batch = torch.from_numpy(x_batch).float()\n",
    "        y_batch = torch.from_numpy(y_batch).long()\n",
    "    \n",
    "    #Initialize the stored gradient.\n",
    "    optimizer.zero_grad()\n",
    "    \n",
    "    #Get the model output for the input mini-batch.\n",
    "    y = net(x_batch)\n",
    "    \n",
    "    #Calculate loss from the output of the model. At this time, the activation function of the output layer is also reflected in the calculation.\n",
    "    loss = softmax_cross_entropy(y, y_batch)  \n",
    "    \n",
    "    #From loss, calculate the gradient of each parameter.\n",
    "    loss.backward()               \n",
    "    \n",
    "    #Each parameter is updated from the calculated gradient.\n",
    "    optimizer.step()\n",
    "  #Extract weight values from the model.\n",
    "  weight = net.conv2.weight.cpu().detach().numpy()\n",
    "  \n",
    "  for i in range(weight_num):\n",
    "    weight0 = weight[outputc_num[i]][inputc_num[i]]\n",
    "    weight0 = weight0.flatten()\n",
    "    train_weight[i][epoch-1] = weight0\n",
    "\n",
    "\n",
    "  sum_score = 0\n",
    "  sum_loss = 0\n",
    "  \n",
    "  #Evaluate the model with train data.\n",
    "  for i in range(0, datasize, batchsize):\n",
    "    x_batch = x_train[i:i+batchsize]\n",
    "    y_batch = y_train[i:i+batchsize]\n",
    "    if torch.cuda.is_available():\n",
    "      x_batch = torch.from_numpy(x_batch).float().cuda()\n",
    "      y_batch = torch.from_numpy(y_batch).long().cuda()\n",
    "    else:\n",
    "        x_batch = torch.from_numpy(x_batch).float()\n",
    "        y_batch = torch.from_numpy(y_batch).long()\n",
    "    y = net(x_batch)\n",
    "    loss = softmax_cross_entropy(y, y_batch)\n",
    "    sum_loss += float(loss.cpu().data.item()) * batchsize\n",
    "    _, predict = y.max(1)\n",
    "    sum_score += predict.eq(y_batch).sum().item()\n",
    "  print(\"\\ttrain  mean loss={}, accuracy={}\".format(sum_loss / datasize, sum_score / datasize))\n",
    "  train_loss.append(sum_loss / datasize)\n",
    "  train_acc.append(sum_score / datasize)\n",
    "\n",
    "\n",
    "  sum_score = 0\n",
    "  sum_loss = 0\n",
    "\n",
    "  \n",
    "  #Evaluate the model with test data.\n",
    "  for i in range(0, datasize_test, batchsize):\n",
    "    x_batch = x_test[i:i+batchsize]\n",
    "    y_batch = y_test[i:i+batchsize]\n",
    "    if torch.cuda.is_available():\n",
    "      x_batch = torch.from_numpy(x_batch).float().cuda()\n",
    "      y_batch = torch.from_numpy(y_batch).long().cuda()\n",
    "    else:\n",
    "        x_batch = torch.from_numpy(x_batch).float()\n",
    "        y_batch = torch.from_numpy(y_batch).long()\n",
    "    y = net(x_batch)\n",
    "    loss = softmax_cross_entropy(y, y_batch)\n",
    "    sum_loss += float(loss.cpu().data.item()) * batchsize\n",
    "    _, predict = y.max(1)\n",
    "    sum_score += predict.eq(y_batch).sum().item()\n",
    "  print(\"\\ttest  mean loss={}, accuracy={}\".format(sum_loss / datasize_test, sum_score / datasize_test))\n",
    "  test_loss.append(sum_loss / datasize_test)\n",
    "  test_acc.append(sum_score / datasize_test)\n"
   ]
  },
  {
   "cell_type": "code",
   "execution_count": 11,
   "metadata": {
    "colab": {
     "base_uri": "https://localhost:8080/",
     "height": 1000
    },
    "colab_type": "code",
    "id": "MUMuDwcX34X7",
    "outputId": "2dde363d-1f54-4f6f-cc76-75c4d5bfdcfa"
   },
   "outputs": [
    {
     "data": {
      "image/png": "[encoded data removed]",
      "text/plain": [
       "<Figure size 432x432 with 1 Axes>"
      ]
     },
     "metadata": {
      "needs_background": "light"
     },
     "output_type": "display_data"
    },
    {
     "data": {
      "image/png": "[encoded data removed]",
      "text/plain": [
       "<Figure size 432x432 with 1 Axes>"
      ]
     },
     "metadata": {
      "needs_background": "light"
     },
     "output_type": "display_data"
    },
    {
     "data": {
      "image/png": "[encoded data removed]",
      "text/plain": [
       "<Figure size 432x432 with 1 Axes>"
      ]
     },
     "metadata": {
      "needs_background": "light"
     },
     "output_type": "display_data"
    }
   ],
   "source": [
    "#A list for specifying the color of the graph. Changes are required according to the number of weights to be displayed.\n",
    "c = ['#ff0000', '#ffff00', '#00ff00', '#00ffff', '#0000ff','#ff00ff', '#990000', '#999900', '#009900', '#009999']\n",
    "\n",
    "#Plot the obtained weights on a graph.\n",
    "for i in range(weight_num):\n",
    "  plt.figure(figsize=(6,6))\n",
    "  p = train_weight[i]\n",
    "  p = p.transpose(1,0)\n",
    "  for j in range(k_size*k_size):\n",
    "    plt.plot(range(epoch), p[j], c=c[j])\n",
    "  plt.title('filter%d'%i)\n",
    "  plt.show()"
   ]
  },
  {
   "cell_type": "markdown",
   "metadata": {
    "colab_type": "text",
    "id": "b9hE9DA62Qzx"
   },
   "source": [
    "It may be the effect of weight decay that some filter weight values are approaching zero.\n",
    "\n",
    "You can also see the change in weight when not using weight decay."
   ]
  },
  {
   "cell_type": "markdown",
   "metadata": {
    "colab_type": "text",
    "id": "d-PTux3H2_BR"
   },
   "source": [
    "Next, let's take out the feature map of the middle layer.\n",
    "\n",
    "Extract the feature map obtained from the first layer of convolution."
   ]
  },
  {
   "cell_type": "code",
   "execution_count": 12,
   "metadata": {
    "colab": {
     "base_uri": "https://localhost:8080/",
     "height": 236
    },
    "colab_type": "code",
    "id": "GZW-_JErluFX",
    "outputId": "111543e4-3b2e-4f04-cf2f-fb04e106ed2c"
   },
   "outputs": [],
   "source": [
    "result = np.zeros((datasize, 32, 28, 28))\n",
    "\n",
    "for i in range(0, datasize, batchsize):\n",
    "\tx_batch = x_train[i:i+batchsize]\n",
    "\tif torch.cuda.is_available():\n",
    "\t\tx_batch = torch.from_numpy(x_batch).float().cuda()\n",
    "\telse:\n",
    "\t\tx_batch = torch.from_numpy(x_batch).float()\n",
    "\tfmap = net.conv1(x_batch)\n",
    "\tresult[i:i+batchsize] = fmap.cpu().detach().numpy()\n"
   ]
  },
  {
   "cell_type": "markdown",
   "metadata": {
    "colab_type": "text",
    "id": "7bl8SJEal5nf"
   },
   "source": [
    "The extracted feature map is displayed in as image."
   ]
  },
  {
   "cell_type": "code",
   "execution_count": 13,
   "metadata": {
    "colab": {},
    "colab_type": "code",
    "id": "fBXtpJmfl6Vr"
   },
   "outputs": [
    {
     "data": {
      "image/png": "[encoded data removed]",
      "text/plain": [
       "<Figure size 432x288 with 1 Axes>"
      ]
     },
     "metadata": {
      "needs_background": "light"
     },
     "output_type": "display_data"
    },
    {
     "data": {
      "image/png": "[encoded data removed]",
      "text/plain": [
       "<Figure size 432x288 with 1 Axes>"
      ]
     },
     "metadata": {
      "needs_background": "light"
     },
     "output_type": "display_data"
    },
    {
     "data": {
      "image/png": "[encoded data removed]",
      "text/plain": [
       "<Figure size 432x288 with 1 Axes>"
      ]
     },
     "metadata": {
      "needs_background": "light"
     },
     "output_type": "display_data"
    },
    {
     "data": {
      "image/png": "[encoded data removed]",
      "text/plain": [
       "<Figure size 432x288 with 1 Axes>"
      ]
     },
     "metadata": {
      "needs_background": "light"
     },
     "output_type": "display_data"
    },
    {
     "data": {
      "image/png": "[encoded data removed]",
      "text/plain": [
       "<Figure size 432x288 with 1 Axes>"
      ]
     },
     "metadata": {
      "needs_background": "light"
     },
     "output_type": "display_data"
    },
    {
     "data": {
      "image/png": "[encoded data removed]",
      "text/plain": [
       "<Figure size 432x288 with 1 Axes>"
      ]
     },
     "metadata": {
      "needs_background": "light"
     },
     "output_type": "display_data"
    },
    {
     "data": {
      "image/png": "[encoded data removed]",
      "text/plain": [
       "<Figure size 432x288 with 1 Axes>"
      ]
     },
     "metadata": {
      "needs_background": "light"
     },
     "output_type": "display_data"
    },
    {
     "data": {
      "image/png": "[encoded data removed]",
      "text/plain": [
       "<Figure size 432x288 with 1 Axes>"
      ]
     },
     "metadata": {
      "needs_background": "light"
     },
     "output_type": "display_data"
    },
    {
     "data": {
      "image/png": "[encoded data removed]",
      "text/plain": [
       "<Figure size 432x288 with 1 Axes>"
      ]
     },
     "metadata": {
      "needs_background": "light"
     },
     "output_type": "display_data"
    },
    {
     "data": {
      "image/png": "[encoded data removed]",
      "text/plain": [
       "<Figure size 432x288 with 1 Axes>"
      ]
     },
     "metadata": {
      "needs_background": "light"
     },
     "output_type": "display_data"
    },
    {
     "data": {
      "image/png": "[encoded data removed]",
      "text/plain": [
       "<Figure size 432x288 with 1 Axes>"
      ]
     },
     "metadata": {
      "needs_background": "light"
     },
     "output_type": "display_data"
    },
    {
     "data": {
      "image/png": "[encoded data removed]",
      "text/plain": [
       "<Figure size 432x288 with 1 Axes>"
      ]
     },
     "metadata": {
      "needs_background": "light"
     },
     "output_type": "display_data"
    },
    {
     "data": {
      "image/png": "[encoded data removed]",
      "text/plain": [
       "<Figure size 432x288 with 1 Axes>"
      ]
     },
     "metadata": {
      "needs_background": "light"
     },
     "output_type": "display_data"
    },
    {
     "data": {
      "image/png": "[encoded data removed]",
      "text/plain": [
       "<Figure size 432x288 with 1 Axes>"
      ]
     },
     "metadata": {
      "needs_background": "light"
     },
     "output_type": "display_data"
    },
    {
     "data": {
      "image/png": "[encoded data removed]",
      "text/plain": [
       "<Figure size 432x288 with 1 Axes>"
      ]
     },
     "metadata": {
      "needs_background": "light"
     },
     "output_type": "display_data"
    },
    {
     "data": {
      "image/png": "[encoded data removed]",
      "text/plain": [
       "<Figure size 432x288 with 1 Axes>"
      ]
     },
     "metadata": {
      "needs_background": "light"
     },
     "output_type": "display_data"
    },
    {
     "data": {
      "image/png": "[encoded data removed]",
      "text/plain": [
       "<Figure size 432x288 with 1 Axes>"
      ]
     },
     "metadata": {
      "needs_background": "light"
     },
     "output_type": "display_data"
    },
    {
     "data": {
      "image/png": "[encoded data removed]",
      "text/plain": [
       "<Figure size 432x288 with 1 Axes>"
      ]
     },
     "metadata": {
      "needs_background": "light"
     },
     "output_type": "display_data"
    },
    {
     "data": {
      "image/png": "[encoded data removed]",
      "text/plain": [
       "<Figure size 432x288 with 1 Axes>"
      ]
     },
     "metadata": {
      "needs_background": "light"
     },
     "output_type": "display_data"
    },
    {
     "data": {
      "image/png": "[encoded data removed]",
      "text/plain": [
       "<Figure size 432x288 with 1 Axes>"
      ]
     },
     "metadata": {
      "needs_background": "light"
     },
     "output_type": "display_data"
    },
    {
     "data": {
      "image/png": "[encoded data removed]",
      "text/plain": [
       "<Figure size 432x288 with 1 Axes>"
      ]
     },
     "metadata": {
      "needs_background": "light"
     },
     "output_type": "display_data"
    },
    {
     "data": {
      "image/png": "[encoded data removed]",
      "text/plain": [
       "<Figure size 432x288 with 1 Axes>"
      ]
     },
     "metadata": {
      "needs_background": "light"
     },
     "output_type": "display_data"
    },
    {
     "data": {
      "image/png": "[encoded data removed]",
      "text/plain": [
       "<Figure size 432x288 with 1 Axes>"
      ]
     },
     "metadata": {
      "needs_background": "light"
     },
     "output_type": "display_data"
    },
    {
     "data": {
      "image/png": "[encoded data removed]",
      "text/plain": [
       "<Figure size 432x288 with 1 Axes>"
      ]
     },
     "metadata": {
      "needs_background": "light"
     },
     "output_type": "display_data"
    },
    {
     "data": {
      "image/png": "[encoded data removed]",
      "text/plain": [
       "<Figure size 432x288 with 1 Axes>"
      ]
     },
     "metadata": {
      "needs_background": "light"
     },
     "output_type": "display_data"
    },
    {
     "data": {
      "image/png": "[encoded data removed]",
      "text/plain": [
       "<Figure size 432x288 with 1 Axes>"
      ]
     },
     "metadata": {
      "needs_background": "light"
     },
     "output_type": "display_data"
    },
    {
     "data": {
      "image/png": "[encoded data removed]",
      "text/plain": [
       "<Figure size 432x288 with 1 Axes>"
      ]
     },
     "metadata": {
      "needs_background": "light"
     },
     "output_type": "display_data"
    },
    {
     "data": {
      "image/png": "[encoded data removed]",
      "text/plain": [
       "<Figure size 432x288 with 1 Axes>"
      ]
     },
     "metadata": {
      "needs_background": "light"
     },
     "output_type": "display_data"
    },
    {
     "data": {
      "image/png": "[encoded data removed]",
      "text/plain": [
       "<Figure size 432x288 with 1 Axes>"
      ]
     },
     "metadata": {
      "needs_background": "light"
     },
     "output_type": "display_data"
    },
    {
     "data": {
      "image/png": "[encoded data removed]",
      "text/plain": [
       "<Figure size 432x288 with 1 Axes>"
      ]
     },
     "metadata": {
      "needs_background": "light"
     },
     "output_type": "display_data"
    },
    {
     "data": {
      "image/png": "[encoded data removed]",
      "text/plain": [
       "<Figure size 432x288 with 1 Axes>"
      ]
     },
     "metadata": {
      "needs_background": "light"
     },
     "output_type": "display_data"
    },
    {
     "data": {
      "image/png": "[encoded data removed]",
      "text/plain": [
       "<Figure size 432x288 with 1 Axes>"
      ]
     },
     "metadata": {
      "needs_background": "light"
     },
     "output_type": "display_data"
    }
   ],
   "source": [
    "#Specify the index of the image you want to display.\n",
    "index = 250\n",
    "\n",
    "for i in range(32):\n",
    "  pic = result[index]\n",
    "  pic = pic[i]\n",
    "  pic= pic.reshape((28,28))\n",
    "  plt.imshow(pic)\n",
    "  plt.gray()\n",
    "  plt.show()\n"
   ]
  },
  {
   "cell_type": "markdown",
   "metadata": {
    "colab_type": "text",
    "id": "w40EUGv1NtjX"
   },
   "source": [
    "Next, extract the feature map obtained from the second layer of convolution."
   ]
  },
  {
   "cell_type": "code",
   "execution_count": null,
   "metadata": {
    "colab": {},
    "colab_type": "code",
    "id": "WTvw-btpG0dm"
   },
   "outputs": [],
   "source": [
    "result = np.zeros((datasize, 32, 28, 28))\n",
    "\n",
    "for i in range(0, datasize, batchsize):\n",
    "\tx_batch = x_train[i:i+batchsize]\n",
    "\tif torch.cuda.is_available():\n",
    "\t\tx_batch = torch.from_numpy(x_batch).float().cuda()\n",
    "\telse:\n",
    "\t\tx_batch = torch.from_numpy(x_batch).float()\n",
    "\tfmap = net.conv1(x_batch)\n",
    "\tfmap = net.conv2(fmap)\n",
    "\tresult[i:i+batchsize] = fmap.cpu().detach().numpy()\n"
   ]
  },
  {
   "cell_type": "code",
   "execution_count": null,
   "metadata": {
    "colab": {},
    "colab_type": "code",
    "id": "J9oqMd0JcFAy"
   },
   "outputs": [],
   "source": [
    "#Specify the index of the image you want to display.\n",
    "index = 250\n",
    "\n",
    "\n",
    "for i in range(32):\n",
    "  pic = result[index]\n",
    "  pic = pic[i]\n",
    "  pic= pic.reshape((28,28))\n",
    "  plt.imshow(pic)\n",
    "  plt.gray()\n",
    "  plt.show()"
   ]
  },
  {
   "cell_type": "markdown",
   "metadata": {
    "colab_type": "text",
    "id": "EBPNAtJBdjc3"
   },
   "source": [
    "Each feature map shows that edge extraction has been performed."
   ]
  }
 ],
 "metadata": {
  "accelerator": "GPU",
  "colab": {
   "collapsed_sections": [],
   "include_colab_link": true,
   "name": "lab_tutorial1-1.ipynb",
   "provenance": []
  },
  "kernelspec": {
   "display_name": "Python 3",
   "language": "python",
   "name": "python3"
  },
  "language_info": {
   "codemirror_mode": {
    "name": "ipython",
    "version": 3
   },
   "file_extension": ".py",
   "mimetype": "text/x-python",
   "name": "python",
   "nbconvert_exporter": "python",
   "pygments_lexer": "ipython3",
   "version": "3.8.3"
  }
 },
 "nbformat": 4,
 "nbformat_minor": 4
}
